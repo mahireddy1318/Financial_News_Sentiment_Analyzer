{
 "cells": [
  {
   "cell_type": "markdown",
   "metadata": {
    "id": "lC6R4QaV0Ci0"
   },
   "source": [
    "# Financial News Sentiment Analysis Using NLTK"
   ]
  },
  {
   "cell_type": "markdown",
   "metadata": {
    "id": "Iq7zwt8VJh1Z"
   },
   "source": [
    "We have to predict the sentiment of fiancial news using nltk"
   ]
  },
  {
   "cell_type": "markdown",
   "metadata": {
    "id": "Y6-xhkpm0MqU"
   },
   "source": [
    "#About Dataset\n",
    "\n",
    "This dataset contains 3 csv file\n",
    "\n",
    "cnbc headline   (3080, 3)\n",
    "\n",
    "gaurdian headline   (17800, 2)\n",
    "\n",
    "reuters headline   (32770, 3)\n"
   ]
  },
  {
   "cell_type": "markdown",
   "metadata": {
    "id": "sZRF0xat134_"
   },
   "source": [
    "# Columns Provided in the Dataset\n",
    "\n",
    "cnbc headline\n",
    "1. time\n",
    "2. headlines\n",
    "3. Description\n",
    "\n",
    "gaurdian headline\n",
    "1. time\n",
    "2. headline\n",
    "\n",
    "reuters headline\n",
    "1. time\n",
    "2. headline\n",
    "3. description\n"
   ]
  },
  {
   "cell_type": "markdown",
   "metadata": {
    "id": "5Q1HBH6RfLoZ"
   },
   "source": [
    "# What is NLTK ?\n",
    "\n",
    "The Natural Language Toolkit (NLTK) is a platform used for building Python programs that work with human language data for applying in statistical natural language processing (NLP).\n",
    "\n",
    "It contains text processing libraries for tokenization, parsing, classification, stemming, tagging and semantic reasoning.\n",
    "\n",
    "\n",
    "https://medium.com/@ODSC/intro-to-language-processing-with-the-nltk-59aa26b9d056\n",
    "\n",
    "\n",
    "\n",
    "# What is sentiment analysis ?\n",
    "\n",
    "Sentiment analysis is the process of detecting positive or negative sentiment in text. It’s often used by businesses to detect sentiment in social data, gauge brand reputation, and understand customers.\n",
    "\n",
    "\n",
    "\n",
    "https://monkeylearn.com/sentiment-analysis/"
   ]
  },
  {
   "cell_type": "code",
   "execution_count": null,
   "metadata": {
    "id": "pE3JktaFgX_s"
   },
   "outputs": [],
   "source": [
    "# Import all the required libraries\n",
    "import nltk\n",
    "import pandas as pd\n",
    "import matplotlib.pyplot as plt\n",
    "\n",
    "#import stopwords and text processing libraries\n",
    "from nltk.corpus import stopwords\n",
    "from nltk.tokenize import word_tokenize, sent_tokenize\n",
    "from nltk.probability import FreqDist\n",
    "from nltk.stem.wordnet import WordNetLemmatizer\n"
   ]
  },
  {
   "cell_type": "markdown",
   "metadata": {
    "id": "ijgTOXVu4QvL"
   },
   "source": [
    "# Basic EDA on cnbc_headlines dataset"
   ]
  },
  {
   "cell_type": "code",
   "execution_count": null,
   "metadata": {
    "id": "EkHTI2fsgX1x"
   },
   "outputs": [],
   "source": [
    "# Read csv file of cnbc headlines using pandas\n",
    "cnbc = pd.read_csv('/content/cnbc_headlines.csv')"
   ]
  },
  {
   "cell_type": "code",
   "execution_count": null,
   "metadata": {
    "colab": {
     "base_uri": "https://localhost:8080/",
     "height": 206
    },
    "id": "Pel3IRW1gX0_",
    "outputId": "efe3ed4e-bf4c-424d-e575-ec6b52e965fe"
   },
   "outputs": [
    {
     "data": {
      "text/html": [
       "\n",
       "\n",
       "  <div id=\"df-40562ea6-a806-4892-8344-ea6bd062a06d\">\n",
       "    <div class=\"colab-df-container\">\n",
       "      <div>\n",
       "<style scoped>\n",
       "    .dataframe tbody tr th:only-of-type {\n",
       "        vertical-align: middle;\n",
       "    }\n",
       "\n",
       "    .dataframe tbody tr th {\n",
       "        vertical-align: top;\n",
       "    }\n",
       "\n",
       "    .dataframe thead th {\n",
       "        text-align: right;\n",
       "    }\n",
       "</style>\n",
       "<table border=\"1\" class=\"dataframe\">\n",
       "  <thead>\n",
       "    <tr style=\"text-align: right;\">\n",
       "      <th></th>\n",
       "      <th>Headlines</th>\n",
       "      <th>Time</th>\n",
       "      <th>Description</th>\n",
       "    </tr>\n",
       "  </thead>\n",
       "  <tbody>\n",
       "    <tr>\n",
       "      <th>0</th>\n",
       "      <td>Jim Cramer: A better way to invest in the Covi...</td>\n",
       "      <td>7:51  PM ET Fri, 17 July 2020</td>\n",
       "      <td>\"Mad Money\" host Jim Cramer recommended buying...</td>\n",
       "    </tr>\n",
       "    <tr>\n",
       "      <th>1</th>\n",
       "      <td>Cramer's lightning round: I would own Teradyne</td>\n",
       "      <td>7:33  PM ET Fri, 17 July 2020</td>\n",
       "      <td>\"Mad Money\" host Jim Cramer rings the lightnin...</td>\n",
       "    </tr>\n",
       "    <tr>\n",
       "      <th>2</th>\n",
       "      <td>NaN</td>\n",
       "      <td>NaN</td>\n",
       "      <td>NaN</td>\n",
       "    </tr>\n",
       "    <tr>\n",
       "      <th>3</th>\n",
       "      <td>Cramer's week ahead: Big week for earnings, ev...</td>\n",
       "      <td>7:25  PM ET Fri, 17 July 2020</td>\n",
       "      <td>\"We'll pay more for the earnings of the non-Co...</td>\n",
       "    </tr>\n",
       "    <tr>\n",
       "      <th>4</th>\n",
       "      <td>IQ Capital CEO Keith Bliss says tech and healt...</td>\n",
       "      <td>4:24  PM ET Fri, 17 July 2020</td>\n",
       "      <td>Keith Bliss, IQ Capital CEO, joins \"Closing Be...</td>\n",
       "    </tr>\n",
       "  </tbody>\n",
       "</table>\n",
       "</div>\n",
       "      <button class=\"colab-df-convert\" onclick=\"convertToInteractive('df-40562ea6-a806-4892-8344-ea6bd062a06d')\"\n",
       "              title=\"Convert this dataframe to an interactive table.\"\n",
       "              style=\"display:none;\">\n",
       "\n",
       "  <svg xmlns=\"http://www.w3.org/2000/svg\" height=\"24px\"viewBox=\"0 0 24 24\"\n",
       "       width=\"24px\">\n",
       "    <path d=\"M0 0h24v24H0V0z\" fill=\"none\"/>\n",
       "    <path d=\"M18.56 5.44l.94 2.06.94-2.06 2.06-.94-2.06-.94-.94-2.06-.94 2.06-2.06.94zm-11 1L8.5 8.5l.94-2.06 2.06-.94-2.06-.94L8.5 2.5l-.94 2.06-2.06.94zm10 10l.94 2.06.94-2.06 2.06-.94-2.06-.94-.94-2.06-.94 2.06-2.06.94z\"/><path d=\"M17.41 7.96l-1.37-1.37c-.4-.4-.92-.59-1.43-.59-.52 0-1.04.2-1.43.59L10.3 9.45l-7.72 7.72c-.78.78-.78 2.05 0 2.83L4 21.41c.39.39.9.59 1.41.59.51 0 1.02-.2 1.41-.59l7.78-7.78 2.81-2.81c.8-.78.8-2.07 0-2.86zM5.41 20L4 18.59l7.72-7.72 1.47 1.35L5.41 20z\"/>\n",
       "  </svg>\n",
       "      </button>\n",
       "\n",
       "\n",
       "\n",
       "    <div id=\"df-d97745e4-caa8-4fb6-b3f2-478fc95d605d\">\n",
       "      <button class=\"colab-df-quickchart\" onclick=\"quickchart('df-d97745e4-caa8-4fb6-b3f2-478fc95d605d')\"\n",
       "              title=\"Suggest charts.\"\n",
       "              style=\"display:none;\">\n",
       "\n",
       "<svg xmlns=\"http://www.w3.org/2000/svg\" height=\"24px\"viewBox=\"0 0 24 24\"\n",
       "     width=\"24px\">\n",
       "    <g>\n",
       "        <path d=\"M19 3H5c-1.1 0-2 .9-2 2v14c0 1.1.9 2 2 2h14c1.1 0 2-.9 2-2V5c0-1.1-.9-2-2-2zM9 17H7v-7h2v7zm4 0h-2V7h2v10zm4 0h-2v-4h2v4z\"/>\n",
       "    </g>\n",
       "</svg>\n",
       "      </button>\n",
       "    </div>\n",
       "\n",
       "<style>\n",
       "  .colab-df-quickchart {\n",
       "    background-color: #E8F0FE;\n",
       "    border: none;\n",
       "    border-radius: 50%;\n",
       "    cursor: pointer;\n",
       "    display: none;\n",
       "    fill: #1967D2;\n",
       "    height: 32px;\n",
       "    padding: 0 0 0 0;\n",
       "    width: 32px;\n",
       "  }\n",
       "\n",
       "  .colab-df-quickchart:hover {\n",
       "    background-color: #E2EBFA;\n",
       "    box-shadow: 0px 1px 2px rgba(60, 64, 67, 0.3), 0px 1px 3px 1px rgba(60, 64, 67, 0.15);\n",
       "    fill: #174EA6;\n",
       "  }\n",
       "\n",
       "  [theme=dark] .colab-df-quickchart {\n",
       "    background-color: #3B4455;\n",
       "    fill: #D2E3FC;\n",
       "  }\n",
       "\n",
       "  [theme=dark] .colab-df-quickchart:hover {\n",
       "    background-color: #434B5C;\n",
       "    box-shadow: 0px 1px 3px 1px rgba(0, 0, 0, 0.15);\n",
       "    filter: drop-shadow(0px 1px 2px rgba(0, 0, 0, 0.3));\n",
       "    fill: #FFFFFF;\n",
       "  }\n",
       "</style>\n",
       "\n",
       "    <script>\n",
       "      async function quickchart(key) {\n",
       "        const containerElement = document.querySelector('#' + key);\n",
       "        const charts = await google.colab.kernel.invokeFunction(\n",
       "            'suggestCharts', [key], {});\n",
       "      }\n",
       "    </script>\n",
       "\n",
       "      <script>\n",
       "\n",
       "function displayQuickchartButton(domScope) {\n",
       "  let quickchartButtonEl =\n",
       "    domScope.querySelector('#df-d97745e4-caa8-4fb6-b3f2-478fc95d605d button.colab-df-quickchart');\n",
       "  quickchartButtonEl.style.display =\n",
       "    google.colab.kernel.accessAllowed ? 'block' : 'none';\n",
       "}\n",
       "\n",
       "        displayQuickchartButton(document);\n",
       "      </script>\n",
       "      <style>\n",
       "    .colab-df-container {\n",
       "      display:flex;\n",
       "      flex-wrap:wrap;\n",
       "      gap: 12px;\n",
       "    }\n",
       "\n",
       "    .colab-df-convert {\n",
       "      background-color: #E8F0FE;\n",
       "      border: none;\n",
       "      border-radius: 50%;\n",
       "      cursor: pointer;\n",
       "      display: none;\n",
       "      fill: #1967D2;\n",
       "      height: 32px;\n",
       "      padding: 0 0 0 0;\n",
       "      width: 32px;\n",
       "    }\n",
       "\n",
       "    .colab-df-convert:hover {\n",
       "      background-color: #E2EBFA;\n",
       "      box-shadow: 0px 1px 2px rgba(60, 64, 67, 0.3), 0px 1px 3px 1px rgba(60, 64, 67, 0.15);\n",
       "      fill: #174EA6;\n",
       "    }\n",
       "\n",
       "    [theme=dark] .colab-df-convert {\n",
       "      background-color: #3B4455;\n",
       "      fill: #D2E3FC;\n",
       "    }\n",
       "\n",
       "    [theme=dark] .colab-df-convert:hover {\n",
       "      background-color: #434B5C;\n",
       "      box-shadow: 0px 1px 3px 1px rgba(0, 0, 0, 0.15);\n",
       "      filter: drop-shadow(0px 1px 2px rgba(0, 0, 0, 0.3));\n",
       "      fill: #FFFFFF;\n",
       "    }\n",
       "  </style>\n",
       "\n",
       "      <script>\n",
       "        const buttonEl =\n",
       "          document.querySelector('#df-40562ea6-a806-4892-8344-ea6bd062a06d button.colab-df-convert');\n",
       "        buttonEl.style.display =\n",
       "          google.colab.kernel.accessAllowed ? 'block' : 'none';\n",
       "\n",
       "        async function convertToInteractive(key) {\n",
       "          const element = document.querySelector('#df-40562ea6-a806-4892-8344-ea6bd062a06d');\n",
       "          const dataTable =\n",
       "            await google.colab.kernel.invokeFunction('convertToInteractive',\n",
       "                                                     [key], {});\n",
       "          if (!dataTable) return;\n",
       "\n",
       "          const docLinkHtml = 'Like what you see? Visit the ' +\n",
       "            '<a target=\"_blank\" href=https://colab.research.google.com/notebooks/data_table.ipynb>data table notebook</a>'\n",
       "            + ' to learn more about interactive tables.';\n",
       "          element.innerHTML = '';\n",
       "          dataTable['output_type'] = 'display_data';\n",
       "          await google.colab.output.renderOutput(dataTable, element);\n",
       "          const docLink = document.createElement('div');\n",
       "          docLink.innerHTML = docLinkHtml;\n",
       "          element.appendChild(docLink);\n",
       "        }\n",
       "      </script>\n",
       "    </div>\n",
       "  </div>\n"
      ],
      "text/plain": [
       "                                           Headlines  \\\n",
       "0  Jim Cramer: A better way to invest in the Covi...   \n",
       "1     Cramer's lightning round: I would own Teradyne   \n",
       "2                                                NaN   \n",
       "3  Cramer's week ahead: Big week for earnings, ev...   \n",
       "4  IQ Capital CEO Keith Bliss says tech and healt...   \n",
       "\n",
       "                             Time  \\\n",
       "0   7:51  PM ET Fri, 17 July 2020   \n",
       "1   7:33  PM ET Fri, 17 July 2020   \n",
       "2                             NaN   \n",
       "3   7:25  PM ET Fri, 17 July 2020   \n",
       "4   4:24  PM ET Fri, 17 July 2020   \n",
       "\n",
       "                                         Description  \n",
       "0  \"Mad Money\" host Jim Cramer recommended buying...  \n",
       "1  \"Mad Money\" host Jim Cramer rings the lightnin...  \n",
       "2                                                NaN  \n",
       "3  \"We'll pay more for the earnings of the non-Co...  \n",
       "4  Keith Bliss, IQ Capital CEO, joins \"Closing Be...  "
      ]
     },
     "execution_count": 4,
     "metadata": {},
     "output_type": "execute_result"
    }
   ],
   "source": [
    "cnbc.head()"
   ]
  },
  {
   "cell_type": "code",
   "execution_count": null,
   "metadata": {
    "colab": {
     "base_uri": "https://localhost:8080/"
    },
    "id": "7MY607w2gXxS",
    "outputId": "c3e4cefc-7250-4397-b910-85ccde4e5d7f"
   },
   "outputs": [
    {
     "data": {
      "text/plain": [
       "(3080, 3)"
      ]
     },
     "execution_count": 5,
     "metadata": {},
     "output_type": "execute_result"
    }
   ],
   "source": [
    "# check the shape of cnbc headline dataset\n",
    "cnbc.shape"
   ]
  },
  {
   "cell_type": "code",
   "execution_count": null,
   "metadata": {
    "colab": {
     "base_uri": "https://localhost:8080/"
    },
    "id": "fGyvfk-ZgXwN",
    "outputId": "97d2cd92-b007-4509-f630-c6eefda3c65e"
   },
   "outputs": [
    {
     "data": {
      "text/plain": [
       "Index(['Headlines', 'Time', 'Description'], dtype='object')"
      ]
     },
     "execution_count": 6,
     "metadata": {},
     "output_type": "execute_result"
    }
   ],
   "source": [
    "# Check all the columns in the cnbc headline dataset\n",
    "cnbc.columns"
   ]
  },
  {
   "cell_type": "code",
   "execution_count": null,
   "metadata": {
    "colab": {
     "base_uri": "https://localhost:8080/"
    },
    "id": "kFiwMd7BgXr4",
    "outputId": "e9c5218a-7a5a-4967-b7ff-520bdf5a710f"
   },
   "outputs": [
    {
     "name": "stdout",
     "output_type": "stream",
     "text": [
      "<class 'pandas.core.frame.DataFrame'>\n",
      "RangeIndex: 3080 entries, 0 to 3079\n",
      "Data columns (total 3 columns):\n",
      " #   Column       Non-Null Count  Dtype \n",
      "---  ------       --------------  ----- \n",
      " 0   Headlines    2800 non-null   object\n",
      " 1   Time         2800 non-null   object\n",
      " 2   Description  2800 non-null   object\n",
      "dtypes: object(3)\n",
      "memory usage: 72.3+ KB\n"
     ]
    }
   ],
   "source": [
    "# Check which columns are having categorical, numerical or boolean values\n",
    "cnbc.info()"
   ]
  },
  {
   "cell_type": "code",
   "execution_count": null,
   "metadata": {
    "colab": {
     "base_uri": "https://localhost:8080/"
    },
    "id": "oST2tsU9gXrE",
    "outputId": "caf5b298-219f-4b5a-a651-141bdbe466fc"
   },
   "outputs": [
    {
     "data": {
      "text/plain": [
       "Headlines      280\n",
       "Time           280\n",
       "Description    280\n",
       "dtype: int64"
      ]
     },
     "execution_count": 8,
     "metadata": {},
     "output_type": "execute_result"
    }
   ],
   "source": [
    "# Check for missing values in all the columnns of cnbc headline dataset\n",
    "cnbc.isna().sum()"
   ]
  },
  {
   "cell_type": "markdown",
   "metadata": {
    "id": "YRLZs_Jg8T3r"
   },
   "source": [
    "There is 280 missing values in headlines, description and time"
   ]
  },
  {
   "cell_type": "code",
   "execution_count": null,
   "metadata": {
    "id": "PdlYoGUfgXnE"
   },
   "outputs": [],
   "source": [
    " # drop nan values in cnbc headline dataset\n",
    "cnbc.dropna(inplace=True)"
   ]
  },
  {
   "cell_type": "code",
   "execution_count": null,
   "metadata": {
    "colab": {
     "base_uri": "https://localhost:8080/"
    },
    "id": "B32DlnZDPbdB",
    "outputId": "48087e2e-4734-4fbf-8ec0-104f2ae24f2c"
   },
   "outputs": [
    {
     "data": {
      "text/plain": [
       "(2800, 3)"
      ]
     },
     "execution_count": 10,
     "metadata": {},
     "output_type": "execute_result"
    }
   ],
   "source": [
    "cnbc.shape"
   ]
  },
  {
   "cell_type": "code",
   "execution_count": null,
   "metadata": {
    "colab": {
     "base_uri": "https://localhost:8080/"
    },
    "id": "fNAAvZsXPtq6",
    "outputId": "40c74abd-5cfb-4f41-d4f5-6e72745d8024"
   },
   "outputs": [
    {
     "data": {
      "text/plain": [
       "0"
      ]
     },
     "execution_count": 11,
     "metadata": {},
     "output_type": "execute_result"
    }
   ],
   "source": [
    "cnbc.duplicated().sum()"
   ]
  },
  {
   "cell_type": "code",
   "execution_count": null,
   "metadata": {
    "id": "cD2J5VmmgXid"
   },
   "outputs": [],
   "source": [
    "# drop the duplicate rows in the dataset keep the first one\n",
    "cnbc = cnbc.drop_duplicates(keep='first')"
   ]
  },
  {
   "cell_type": "code",
   "execution_count": null,
   "metadata": {
    "colab": {
     "base_uri": "https://localhost:8080/"
    },
    "id": "WD5tcCcagXhU",
    "outputId": "7296116f-70a4-4c38-df9f-90cf0de9e433"
   },
   "outputs": [
    {
     "data": {
      "text/plain": [
       "(2800, 3)"
      ]
     },
     "execution_count": 13,
     "metadata": {},
     "output_type": "execute_result"
    }
   ],
   "source": [
    "# check the shape of cnbc headline dataset\n",
    "cnbc.shape"
   ]
  },
  {
   "cell_type": "markdown",
   "metadata": {
    "id": "JZFVAsUf53Vv"
   },
   "source": [
    "# Basic EDA on Gaurdian headlines dataset"
   ]
  },
  {
   "cell_type": "code",
   "execution_count": null,
   "metadata": {
    "id": "st0vypi5gXTz"
   },
   "outputs": [],
   "source": [
    "# Read csv file of gaurdian headlines using pandas\n",
    "guardian = pd.read_csv('/content/guardian_headlines.csv')"
   ]
  },
  {
   "cell_type": "code",
   "execution_count": null,
   "metadata": {
    "colab": {
     "base_uri": "https://localhost:8080/",
     "height": 206
    },
    "id": "O15tPmH1gXS5",
    "outputId": "f7181902-669b-4b49-e5a0-514dc462fc30"
   },
   "outputs": [
    {
     "data": {
      "text/html": [
       "\n",
       "\n",
       "  <div id=\"df-f6b12589-413b-4d80-b585-d41badb6905f\">\n",
       "    <div class=\"colab-df-container\">\n",
       "      <div>\n",
       "<style scoped>\n",
       "    .dataframe tbody tr th:only-of-type {\n",
       "        vertical-align: middle;\n",
       "    }\n",
       "\n",
       "    .dataframe tbody tr th {\n",
       "        vertical-align: top;\n",
       "    }\n",
       "\n",
       "    .dataframe thead th {\n",
       "        text-align: right;\n",
       "    }\n",
       "</style>\n",
       "<table border=\"1\" class=\"dataframe\">\n",
       "  <thead>\n",
       "    <tr style=\"text-align: right;\">\n",
       "      <th></th>\n",
       "      <th>Time</th>\n",
       "      <th>Headlines</th>\n",
       "    </tr>\n",
       "  </thead>\n",
       "  <tbody>\n",
       "    <tr>\n",
       "      <th>0</th>\n",
       "      <td>18-Jul-20</td>\n",
       "      <td>Johnson is asking Santa for a Christmas recovery</td>\n",
       "    </tr>\n",
       "    <tr>\n",
       "      <th>1</th>\n",
       "      <td>18-Jul-20</td>\n",
       "      <td>‘I now fear the worst’: four grim tales of wor...</td>\n",
       "    </tr>\n",
       "    <tr>\n",
       "      <th>2</th>\n",
       "      <td>18-Jul-20</td>\n",
       "      <td>Five key areas Sunak must tackle to serve up e...</td>\n",
       "    </tr>\n",
       "    <tr>\n",
       "      <th>3</th>\n",
       "      <td>18-Jul-20</td>\n",
       "      <td>Covid-19 leaves firms ‘fatally ill-prepared’ f...</td>\n",
       "    </tr>\n",
       "    <tr>\n",
       "      <th>4</th>\n",
       "      <td>18-Jul-20</td>\n",
       "      <td>The Week in Patriarchy  \\n\\n\\n  Bacardi's 'lad...</td>\n",
       "    </tr>\n",
       "  </tbody>\n",
       "</table>\n",
       "</div>\n",
       "      <button class=\"colab-df-convert\" onclick=\"convertToInteractive('df-f6b12589-413b-4d80-b585-d41badb6905f')\"\n",
       "              title=\"Convert this dataframe to an interactive table.\"\n",
       "              style=\"display:none;\">\n",
       "\n",
       "  <svg xmlns=\"http://www.w3.org/2000/svg\" height=\"24px\"viewBox=\"0 0 24 24\"\n",
       "       width=\"24px\">\n",
       "    <path d=\"M0 0h24v24H0V0z\" fill=\"none\"/>\n",
       "    <path d=\"M18.56 5.44l.94 2.06.94-2.06 2.06-.94-2.06-.94-.94-2.06-.94 2.06-2.06.94zm-11 1L8.5 8.5l.94-2.06 2.06-.94-2.06-.94L8.5 2.5l-.94 2.06-2.06.94zm10 10l.94 2.06.94-2.06 2.06-.94-2.06-.94-.94-2.06-.94 2.06-2.06.94z\"/><path d=\"M17.41 7.96l-1.37-1.37c-.4-.4-.92-.59-1.43-.59-.52 0-1.04.2-1.43.59L10.3 9.45l-7.72 7.72c-.78.78-.78 2.05 0 2.83L4 21.41c.39.39.9.59 1.41.59.51 0 1.02-.2 1.41-.59l7.78-7.78 2.81-2.81c.8-.78.8-2.07 0-2.86zM5.41 20L4 18.59l7.72-7.72 1.47 1.35L5.41 20z\"/>\n",
       "  </svg>\n",
       "      </button>\n",
       "\n",
       "\n",
       "\n",
       "    <div id=\"df-57c4a0c4-e0b0-4dcc-b125-ef719afa9783\">\n",
       "      <button class=\"colab-df-quickchart\" onclick=\"quickchart('df-57c4a0c4-e0b0-4dcc-b125-ef719afa9783')\"\n",
       "              title=\"Suggest charts.\"\n",
       "              style=\"display:none;\">\n",
       "\n",
       "<svg xmlns=\"http://www.w3.org/2000/svg\" height=\"24px\"viewBox=\"0 0 24 24\"\n",
       "     width=\"24px\">\n",
       "    <g>\n",
       "        <path d=\"M19 3H5c-1.1 0-2 .9-2 2v14c0 1.1.9 2 2 2h14c1.1 0 2-.9 2-2V5c0-1.1-.9-2-2-2zM9 17H7v-7h2v7zm4 0h-2V7h2v10zm4 0h-2v-4h2v4z\"/>\n",
       "    </g>\n",
       "</svg>\n",
       "      </button>\n",
       "    </div>\n",
       "\n",
       "<style>\n",
       "  .colab-df-quickchart {\n",
       "    background-color: #E8F0FE;\n",
       "    border: none;\n",
       "    border-radius: 50%;\n",
       "    cursor: pointer;\n",
       "    display: none;\n",
       "    fill: #1967D2;\n",
       "    height: 32px;\n",
       "    padding: 0 0 0 0;\n",
       "    width: 32px;\n",
       "  }\n",
       "\n",
       "  .colab-df-quickchart:hover {\n",
       "    background-color: #E2EBFA;\n",
       "    box-shadow: 0px 1px 2px rgba(60, 64, 67, 0.3), 0px 1px 3px 1px rgba(60, 64, 67, 0.15);\n",
       "    fill: #174EA6;\n",
       "  }\n",
       "\n",
       "  [theme=dark] .colab-df-quickchart {\n",
       "    background-color: #3B4455;\n",
       "    fill: #D2E3FC;\n",
       "  }\n",
       "\n",
       "  [theme=dark] .colab-df-quickchart:hover {\n",
       "    background-color: #434B5C;\n",
       "    box-shadow: 0px 1px 3px 1px rgba(0, 0, 0, 0.15);\n",
       "    filter: drop-shadow(0px 1px 2px rgba(0, 0, 0, 0.3));\n",
       "    fill: #FFFFFF;\n",
       "  }\n",
       "</style>\n",
       "\n",
       "    <script>\n",
       "      async function quickchart(key) {\n",
       "        const containerElement = document.querySelector('#' + key);\n",
       "        const charts = await google.colab.kernel.invokeFunction(\n",
       "            'suggestCharts', [key], {});\n",
       "      }\n",
       "    </script>\n",
       "\n",
       "      <script>\n",
       "\n",
       "function displayQuickchartButton(domScope) {\n",
       "  let quickchartButtonEl =\n",
       "    domScope.querySelector('#df-57c4a0c4-e0b0-4dcc-b125-ef719afa9783 button.colab-df-quickchart');\n",
       "  quickchartButtonEl.style.display =\n",
       "    google.colab.kernel.accessAllowed ? 'block' : 'none';\n",
       "}\n",
       "\n",
       "        displayQuickchartButton(document);\n",
       "      </script>\n",
       "      <style>\n",
       "    .colab-df-container {\n",
       "      display:flex;\n",
       "      flex-wrap:wrap;\n",
       "      gap: 12px;\n",
       "    }\n",
       "\n",
       "    .colab-df-convert {\n",
       "      background-color: #E8F0FE;\n",
       "      border: none;\n",
       "      border-radius: 50%;\n",
       "      cursor: pointer;\n",
       "      display: none;\n",
       "      fill: #1967D2;\n",
       "      height: 32px;\n",
       "      padding: 0 0 0 0;\n",
       "      width: 32px;\n",
       "    }\n",
       "\n",
       "    .colab-df-convert:hover {\n",
       "      background-color: #E2EBFA;\n",
       "      box-shadow: 0px 1px 2px rgba(60, 64, 67, 0.3), 0px 1px 3px 1px rgba(60, 64, 67, 0.15);\n",
       "      fill: #174EA6;\n",
       "    }\n",
       "\n",
       "    [theme=dark] .colab-df-convert {\n",
       "      background-color: #3B4455;\n",
       "      fill: #D2E3FC;\n",
       "    }\n",
       "\n",
       "    [theme=dark] .colab-df-convert:hover {\n",
       "      background-color: #434B5C;\n",
       "      box-shadow: 0px 1px 3px 1px rgba(0, 0, 0, 0.15);\n",
       "      filter: drop-shadow(0px 1px 2px rgba(0, 0, 0, 0.3));\n",
       "      fill: #FFFFFF;\n",
       "    }\n",
       "  </style>\n",
       "\n",
       "      <script>\n",
       "        const buttonEl =\n",
       "          document.querySelector('#df-f6b12589-413b-4d80-b585-d41badb6905f button.colab-df-convert');\n",
       "        buttonEl.style.display =\n",
       "          google.colab.kernel.accessAllowed ? 'block' : 'none';\n",
       "\n",
       "        async function convertToInteractive(key) {\n",
       "          const element = document.querySelector('#df-f6b12589-413b-4d80-b585-d41badb6905f');\n",
       "          const dataTable =\n",
       "            await google.colab.kernel.invokeFunction('convertToInteractive',\n",
       "                                                     [key], {});\n",
       "          if (!dataTable) return;\n",
       "\n",
       "          const docLinkHtml = 'Like what you see? Visit the ' +\n",
       "            '<a target=\"_blank\" href=https://colab.research.google.com/notebooks/data_table.ipynb>data table notebook</a>'\n",
       "            + ' to learn more about interactive tables.';\n",
       "          element.innerHTML = '';\n",
       "          dataTable['output_type'] = 'display_data';\n",
       "          await google.colab.output.renderOutput(dataTable, element);\n",
       "          const docLink = document.createElement('div');\n",
       "          docLink.innerHTML = docLinkHtml;\n",
       "          element.appendChild(docLink);\n",
       "        }\n",
       "      </script>\n",
       "    </div>\n",
       "  </div>\n"
      ],
      "text/plain": [
       "        Time                                          Headlines\n",
       "0  18-Jul-20   Johnson is asking Santa for a Christmas recovery\n",
       "1  18-Jul-20  ‘I now fear the worst’: four grim tales of wor...\n",
       "2  18-Jul-20  Five key areas Sunak must tackle to serve up e...\n",
       "3  18-Jul-20  Covid-19 leaves firms ‘fatally ill-prepared’ f...\n",
       "4  18-Jul-20  The Week in Patriarchy  \\n\\n\\n  Bacardi's 'lad..."
      ]
     },
     "execution_count": 15,
     "metadata": {},
     "output_type": "execute_result"
    }
   ],
   "source": [
    "guardian.head()"
   ]
  },
  {
   "cell_type": "code",
   "execution_count": null,
   "metadata": {
    "colab": {
     "base_uri": "https://localhost:8080/"
    },
    "id": "09OSuHhRgXNf",
    "outputId": "96423b55-76e6-4573-b38c-a4d79557ca50"
   },
   "outputs": [
    {
     "data": {
      "text/plain": [
       "(17800, 2)"
      ]
     },
     "execution_count": 16,
     "metadata": {},
     "output_type": "execute_result"
    }
   ],
   "source": [
    "#check the shape of gaurdian headline dataset\n",
    "guardian.shape"
   ]
  },
  {
   "cell_type": "code",
   "execution_count": null,
   "metadata": {
    "colab": {
     "base_uri": "https://localhost:8080/"
    },
    "id": "7gKFN26whZnD",
    "outputId": "416f2dc5-cd06-432d-90f5-15b3ef43d552"
   },
   "outputs": [
    {
     "data": {
      "text/plain": [
       "Index(['Time', 'Headlines'], dtype='object')"
      ]
     },
     "execution_count": 17,
     "metadata": {},
     "output_type": "execute_result"
    }
   ],
   "source": [
    "#check columns of gaurdian headline\n",
    "guardian.columns"
   ]
  },
  {
   "cell_type": "code",
   "execution_count": null,
   "metadata": {
    "colab": {
     "base_uri": "https://localhost:8080/"
    },
    "id": "5fplFio3hZmG",
    "outputId": "86f1e0db-cba3-479d-c1b0-6c3a0e85eef5"
   },
   "outputs": [
    {
     "name": "stdout",
     "output_type": "stream",
     "text": [
      "<class 'pandas.core.frame.DataFrame'>\n",
      "RangeIndex: 17800 entries, 0 to 17799\n",
      "Data columns (total 2 columns):\n",
      " #   Column     Non-Null Count  Dtype \n",
      "---  ------     --------------  ----- \n",
      " 0   Time       17800 non-null  object\n",
      " 1   Headlines  17800 non-null  object\n",
      "dtypes: object(2)\n",
      "memory usage: 278.2+ KB\n"
     ]
    }
   ],
   "source": [
    "# Check which columns are having categorical, numerical or boolean values\n",
    "guardian.info()"
   ]
  },
  {
   "cell_type": "code",
   "execution_count": null,
   "metadata": {
    "colab": {
     "base_uri": "https://localhost:8080/"
    },
    "id": "qaWAwEazhZh8",
    "outputId": "b08f6125-6bac-451e-b628-66e73a98dc64"
   },
   "outputs": [
    {
     "data": {
      "text/plain": [
       "Time         0\n",
       "Headlines    0\n",
       "dtype: int64"
      ]
     },
     "execution_count": 19,
     "metadata": {},
     "output_type": "execute_result"
    }
   ],
   "source": [
    "# check null values in gaurdian headlines dataset\n",
    "guardian.isna().sum()"
   ]
  },
  {
   "cell_type": "code",
   "execution_count": null,
   "metadata": {
    "id": "NBtOooYChZg9"
   },
   "outputs": [],
   "source": [
    "# drop duplicate rows in headlines and keep the first one\n",
    "guardian= guardian.drop_duplicates(keep='first')"
   ]
  },
  {
   "cell_type": "code",
   "execution_count": null,
   "metadata": {
    "colab": {
     "base_uri": "https://localhost:8080/"
    },
    "id": "tKQ_b1636aIS",
    "outputId": "2ce70369-f780-4a52-cbf3-ea389b4e54e9"
   },
   "outputs": [
    {
     "data": {
      "text/plain": [
       "(17800, 2)"
      ]
     },
     "execution_count": 21,
     "metadata": {},
     "output_type": "execute_result"
    }
   ],
   "source": [
    "guardian.shape"
   ]
  },
  {
   "cell_type": "markdown",
   "metadata": {
    "id": "3iwjVwnv6-v3"
   },
   "source": [
    "# Basic EDA on reuters headlines"
   ]
  },
  {
   "cell_type": "code",
   "execution_count": null,
   "metadata": {
    "id": "asNDch3WhZXh"
   },
   "outputs": [],
   "source": [
    "# Read csv file of reuters headlines using using pandas\n",
    "reuter = pd.read_csv('/content/reuters_headlines.csv')"
   ]
  },
  {
   "cell_type": "code",
   "execution_count": null,
   "metadata": {
    "colab": {
     "base_uri": "https://localhost:8080/",
     "height": 206
    },
    "id": "n-FuGab8hZS0",
    "outputId": "5c58f428-e892-4aa5-bb5f-bf18290902b0"
   },
   "outputs": [
    {
     "data": {
      "text/html": [
       "\n",
       "\n",
       "  <div id=\"df-2c710fa1-4b08-4878-8b94-6d9fbb540586\">\n",
       "    <div class=\"colab-df-container\">\n",
       "      <div>\n",
       "<style scoped>\n",
       "    .dataframe tbody tr th:only-of-type {\n",
       "        vertical-align: middle;\n",
       "    }\n",
       "\n",
       "    .dataframe tbody tr th {\n",
       "        vertical-align: top;\n",
       "    }\n",
       "\n",
       "    .dataframe thead th {\n",
       "        text-align: right;\n",
       "    }\n",
       "</style>\n",
       "<table border=\"1\" class=\"dataframe\">\n",
       "  <thead>\n",
       "    <tr style=\"text-align: right;\">\n",
       "      <th></th>\n",
       "      <th>Headlines</th>\n",
       "      <th>Time</th>\n",
       "      <th>Description</th>\n",
       "    </tr>\n",
       "  </thead>\n",
       "  <tbody>\n",
       "    <tr>\n",
       "      <th>0</th>\n",
       "      <td>TikTok considers London and other locations fo...</td>\n",
       "      <td>Jul 18 2020</td>\n",
       "      <td>TikTok has been in discussions with the UK gov...</td>\n",
       "    </tr>\n",
       "    <tr>\n",
       "      <th>1</th>\n",
       "      <td>Disney cuts ad spending on Facebook amid growi...</td>\n",
       "      <td>Jul 18 2020</td>\n",
       "      <td>Walt Disney  has become the latest company to ...</td>\n",
       "    </tr>\n",
       "    <tr>\n",
       "      <th>2</th>\n",
       "      <td>Trail of missing Wirecard executive leads to B...</td>\n",
       "      <td>Jul 18 2020</td>\n",
       "      <td>Former Wirecard  chief operating officer Jan M...</td>\n",
       "    </tr>\n",
       "    <tr>\n",
       "      <th>3</th>\n",
       "      <td>Twitter says attackers downloaded data from up...</td>\n",
       "      <td>Jul 18 2020</td>\n",
       "      <td>Twitter Inc said on Saturday that hackers were...</td>\n",
       "    </tr>\n",
       "    <tr>\n",
       "      <th>4</th>\n",
       "      <td>U.S. Republicans seek liability protections as...</td>\n",
       "      <td>Jul 17 2020</td>\n",
       "      <td>A battle in the U.S. Congress over a new coron...</td>\n",
       "    </tr>\n",
       "  </tbody>\n",
       "</table>\n",
       "</div>\n",
       "      <button class=\"colab-df-convert\" onclick=\"convertToInteractive('df-2c710fa1-4b08-4878-8b94-6d9fbb540586')\"\n",
       "              title=\"Convert this dataframe to an interactive table.\"\n",
       "              style=\"display:none;\">\n",
       "\n",
       "  <svg xmlns=\"http://www.w3.org/2000/svg\" height=\"24px\"viewBox=\"0 0 24 24\"\n",
       "       width=\"24px\">\n",
       "    <path d=\"M0 0h24v24H0V0z\" fill=\"none\"/>\n",
       "    <path d=\"M18.56 5.44l.94 2.06.94-2.06 2.06-.94-2.06-.94-.94-2.06-.94 2.06-2.06.94zm-11 1L8.5 8.5l.94-2.06 2.06-.94-2.06-.94L8.5 2.5l-.94 2.06-2.06.94zm10 10l.94 2.06.94-2.06 2.06-.94-2.06-.94-.94-2.06-.94 2.06-2.06.94z\"/><path d=\"M17.41 7.96l-1.37-1.37c-.4-.4-.92-.59-1.43-.59-.52 0-1.04.2-1.43.59L10.3 9.45l-7.72 7.72c-.78.78-.78 2.05 0 2.83L4 21.41c.39.39.9.59 1.41.59.51 0 1.02-.2 1.41-.59l7.78-7.78 2.81-2.81c.8-.78.8-2.07 0-2.86zM5.41 20L4 18.59l7.72-7.72 1.47 1.35L5.41 20z\"/>\n",
       "  </svg>\n",
       "      </button>\n",
       "\n",
       "\n",
       "\n",
       "    <div id=\"df-d90c88a0-5777-471a-9ddd-154290d44eb4\">\n",
       "      <button class=\"colab-df-quickchart\" onclick=\"quickchart('df-d90c88a0-5777-471a-9ddd-154290d44eb4')\"\n",
       "              title=\"Suggest charts.\"\n",
       "              style=\"display:none;\">\n",
       "\n",
       "<svg xmlns=\"http://www.w3.org/2000/svg\" height=\"24px\"viewBox=\"0 0 24 24\"\n",
       "     width=\"24px\">\n",
       "    <g>\n",
       "        <path d=\"M19 3H5c-1.1 0-2 .9-2 2v14c0 1.1.9 2 2 2h14c1.1 0 2-.9 2-2V5c0-1.1-.9-2-2-2zM9 17H7v-7h2v7zm4 0h-2V7h2v10zm4 0h-2v-4h2v4z\"/>\n",
       "    </g>\n",
       "</svg>\n",
       "      </button>\n",
       "    </div>\n",
       "\n",
       "<style>\n",
       "  .colab-df-quickchart {\n",
       "    background-color: #E8F0FE;\n",
       "    border: none;\n",
       "    border-radius: 50%;\n",
       "    cursor: pointer;\n",
       "    display: none;\n",
       "    fill: #1967D2;\n",
       "    height: 32px;\n",
       "    padding: 0 0 0 0;\n",
       "    width: 32px;\n",
       "  }\n",
       "\n",
       "  .colab-df-quickchart:hover {\n",
       "    background-color: #E2EBFA;\n",
       "    box-shadow: 0px 1px 2px rgba(60, 64, 67, 0.3), 0px 1px 3px 1px rgba(60, 64, 67, 0.15);\n",
       "    fill: #174EA6;\n",
       "  }\n",
       "\n",
       "  [theme=dark] .colab-df-quickchart {\n",
       "    background-color: #3B4455;\n",
       "    fill: #D2E3FC;\n",
       "  }\n",
       "\n",
       "  [theme=dark] .colab-df-quickchart:hover {\n",
       "    background-color: #434B5C;\n",
       "    box-shadow: 0px 1px 3px 1px rgba(0, 0, 0, 0.15);\n",
       "    filter: drop-shadow(0px 1px 2px rgba(0, 0, 0, 0.3));\n",
       "    fill: #FFFFFF;\n",
       "  }\n",
       "</style>\n",
       "\n",
       "    <script>\n",
       "      async function quickchart(key) {\n",
       "        const containerElement = document.querySelector('#' + key);\n",
       "        const charts = await google.colab.kernel.invokeFunction(\n",
       "            'suggestCharts', [key], {});\n",
       "      }\n",
       "    </script>\n",
       "\n",
       "      <script>\n",
       "\n",
       "function displayQuickchartButton(domScope) {\n",
       "  let quickchartButtonEl =\n",
       "    domScope.querySelector('#df-d90c88a0-5777-471a-9ddd-154290d44eb4 button.colab-df-quickchart');\n",
       "  quickchartButtonEl.style.display =\n",
       "    google.colab.kernel.accessAllowed ? 'block' : 'none';\n",
       "}\n",
       "\n",
       "        displayQuickchartButton(document);\n",
       "      </script>\n",
       "      <style>\n",
       "    .colab-df-container {\n",
       "      display:flex;\n",
       "      flex-wrap:wrap;\n",
       "      gap: 12px;\n",
       "    }\n",
       "\n",
       "    .colab-df-convert {\n",
       "      background-color: #E8F0FE;\n",
       "      border: none;\n",
       "      border-radius: 50%;\n",
       "      cursor: pointer;\n",
       "      display: none;\n",
       "      fill: #1967D2;\n",
       "      height: 32px;\n",
       "      padding: 0 0 0 0;\n",
       "      width: 32px;\n",
       "    }\n",
       "\n",
       "    .colab-df-convert:hover {\n",
       "      background-color: #E2EBFA;\n",
       "      box-shadow: 0px 1px 2px rgba(60, 64, 67, 0.3), 0px 1px 3px 1px rgba(60, 64, 67, 0.15);\n",
       "      fill: #174EA6;\n",
       "    }\n",
       "\n",
       "    [theme=dark] .colab-df-convert {\n",
       "      background-color: #3B4455;\n",
       "      fill: #D2E3FC;\n",
       "    }\n",
       "\n",
       "    [theme=dark] .colab-df-convert:hover {\n",
       "      background-color: #434B5C;\n",
       "      box-shadow: 0px 1px 3px 1px rgba(0, 0, 0, 0.15);\n",
       "      filter: drop-shadow(0px 1px 2px rgba(0, 0, 0, 0.3));\n",
       "      fill: #FFFFFF;\n",
       "    }\n",
       "  </style>\n",
       "\n",
       "      <script>\n",
       "        const buttonEl =\n",
       "          document.querySelector('#df-2c710fa1-4b08-4878-8b94-6d9fbb540586 button.colab-df-convert');\n",
       "        buttonEl.style.display =\n",
       "          google.colab.kernel.accessAllowed ? 'block' : 'none';\n",
       "\n",
       "        async function convertToInteractive(key) {\n",
       "          const element = document.querySelector('#df-2c710fa1-4b08-4878-8b94-6d9fbb540586');\n",
       "          const dataTable =\n",
       "            await google.colab.kernel.invokeFunction('convertToInteractive',\n",
       "                                                     [key], {});\n",
       "          if (!dataTable) return;\n",
       "\n",
       "          const docLinkHtml = 'Like what you see? Visit the ' +\n",
       "            '<a target=\"_blank\" href=https://colab.research.google.com/notebooks/data_table.ipynb>data table notebook</a>'\n",
       "            + ' to learn more about interactive tables.';\n",
       "          element.innerHTML = '';\n",
       "          dataTable['output_type'] = 'display_data';\n",
       "          await google.colab.output.renderOutput(dataTable, element);\n",
       "          const docLink = document.createElement('div');\n",
       "          docLink.innerHTML = docLinkHtml;\n",
       "          element.appendChild(docLink);\n",
       "        }\n",
       "      </script>\n",
       "    </div>\n",
       "  </div>\n"
      ],
      "text/plain": [
       "                                           Headlines         Time  \\\n",
       "0  TikTok considers London and other locations fo...  Jul 18 2020   \n",
       "1  Disney cuts ad spending on Facebook amid growi...  Jul 18 2020   \n",
       "2  Trail of missing Wirecard executive leads to B...  Jul 18 2020   \n",
       "3  Twitter says attackers downloaded data from up...  Jul 18 2020   \n",
       "4  U.S. Republicans seek liability protections as...  Jul 17 2020   \n",
       "\n",
       "                                         Description  \n",
       "0  TikTok has been in discussions with the UK gov...  \n",
       "1  Walt Disney  has become the latest company to ...  \n",
       "2  Former Wirecard  chief operating officer Jan M...  \n",
       "3  Twitter Inc said on Saturday that hackers were...  \n",
       "4  A battle in the U.S. Congress over a new coron...  "
      ]
     },
     "execution_count": 23,
     "metadata": {},
     "output_type": "execute_result"
    }
   ],
   "source": [
    "reuter.head()"
   ]
  },
  {
   "cell_type": "code",
   "execution_count": null,
   "metadata": {
    "colab": {
     "base_uri": "https://localhost:8080/"
    },
    "id": "aRIhdEPyhZR3",
    "outputId": "0ce115f8-0203-4cbf-e086-739112c46c51"
   },
   "outputs": [
    {
     "data": {
      "text/plain": [
       "(32770, 3)"
      ]
     },
     "execution_count": 24,
     "metadata": {},
     "output_type": "execute_result"
    }
   ],
   "source": [
    "#check the shape of reuters headlines dataset\n",
    "reuter.shape"
   ]
  },
  {
   "cell_type": "code",
   "execution_count": null,
   "metadata": {
    "colab": {
     "base_uri": "https://localhost:8080/"
    },
    "id": "zn6OnjCwhZN8",
    "outputId": "b28ede82-534b-4492-b926-64e3da363a89"
   },
   "outputs": [
    {
     "data": {
      "text/plain": [
       "(32770, 3)"
      ]
     },
     "execution_count": 25,
     "metadata": {},
     "output_type": "execute_result"
    }
   ],
   "source": [
    "#check the columns of reuters headline dataset\n",
    "reuter.shape"
   ]
  },
  {
   "cell_type": "code",
   "execution_count": null,
   "metadata": {
    "colab": {
     "base_uri": "https://localhost:8080/"
    },
    "id": "go-UtVDjhZM1",
    "outputId": "6ce4f2f7-65bb-4602-b442-f7044337ef1d"
   },
   "outputs": [
    {
     "name": "stdout",
     "output_type": "stream",
     "text": [
      "<class 'pandas.core.frame.DataFrame'>\n",
      "RangeIndex: 32770 entries, 0 to 32769\n",
      "Data columns (total 3 columns):\n",
      " #   Column       Non-Null Count  Dtype \n",
      "---  ------       --------------  ----- \n",
      " 0   Headlines    32770 non-null  object\n",
      " 1   Time         32770 non-null  object\n",
      " 2   Description  32770 non-null  object\n",
      "dtypes: object(3)\n",
      "memory usage: 768.2+ KB\n"
     ]
    }
   ],
   "source": [
    "# Check which columns are having categorical, numerical or boolean values\n",
    "reuter.info()"
   ]
  },
  {
   "cell_type": "code",
   "execution_count": null,
   "metadata": {
    "colab": {
     "base_uri": "https://localhost:8080/"
    },
    "id": "7d7HOHV7hZJM",
    "outputId": "0b4552e3-a4b6-4336-dfa1-a0a676d5c1a1"
   },
   "outputs": [
    {
     "data": {
      "text/plain": [
       "Headlines      0\n",
       "Time           0\n",
       "Description    0\n",
       "dtype: int64"
      ]
     },
     "execution_count": 27,
     "metadata": {},
     "output_type": "execute_result"
    }
   ],
   "source": [
    "# Check for missing values in all the columnns of reuters headlines dataset\n",
    "reuter.isna().sum()"
   ]
  },
  {
   "cell_type": "code",
   "execution_count": null,
   "metadata": {
    "id": "Zvbdb747hZHz"
   },
   "outputs": [],
   "source": [
    "#drop the duplicate rows in reuters headlines dataset and keep the first one\n",
    "reuter = reuter.drop_duplicates(keep='first')"
   ]
  },
  {
   "cell_type": "markdown",
   "metadata": {
    "id": "2uvArOVne6jB"
   },
   "source": [
    "#Making some functions that we will need  ahead"
   ]
  },
  {
   "cell_type": "markdown",
   "metadata": {
    "id": "94zINn2npv1V"
   },
   "source": [
    "Preprocessing"
   ]
  },
  {
   "cell_type": "markdown",
   "metadata": {
    "id": "nV7crjnBpyX9"
   },
   "source": [
    "1. **Lowercase** - It is necessary to convert the text to lower case as it is case sensitive.\n",
    "\n",
    "2. **remove punctuations** -  The punctuations present in the text do not add value to the data. The punctuation, when attached to any word, will create a problem in differentiating with other words. so we have to get rid of them.\n",
    "\n",
    "3. **remove stopwords** -  Stopwords include: I, he, she, and, but, was were, being, have, etc, which do not add meaning to the data. So these words must be removed which helps to reduce the features from our data. These are removed after tokenizing the text.\n",
    "\n",
    "4. **stemming** -  A technique that takes the word to its root form. It just removes suffixes from the words. The stemmed word might not be part of the dictionary, i.e it will not necessarily give meaning.\n",
    "\n",
    "5. **lemmatizing** -  Takes the word to its root form called Lemma. It helps to bring words to their dictionary form. It is applied to nouns by default. It is more accurate as it uses more informed analysis to create groups of words with similar meanings based on the context, so it is complex and takes more time. This is used where we need to retain the contextual information.\n",
    "\n",
    "\n",
    "https://youtu.be/lMQzEk5vht4\n",
    "\n",
    "https://www.pluralsight.com/guides/importance-of-text-pre-processing"
   ]
  },
  {
   "cell_type": "code",
   "execution_count": null,
   "metadata": {
    "colab": {
     "base_uri": "https://localhost:8080/"
    },
    "id": "cStPIQZVKe2h",
    "outputId": "3e61d228-8abd-44a8-a161-5c8c8c9d5849"
   },
   "outputs": [
    {
     "name": "stderr",
     "output_type": "stream",
     "text": [
      "[nltk_data] Downloading package stopwords to /root/nltk_data...\n",
      "[nltk_data]   Unzipping corpora/stopwords.zip.\n",
      "[nltk_data] Downloading package punkt to /root/nltk_data...\n",
      "[nltk_data]   Unzipping tokenizers/punkt.zip.\n",
      "[nltk_data] Downloading package wordnet to /root/nltk_data...\n"
     ]
    },
    {
     "data": {
      "text/plain": [
       "True"
      ]
     },
     "execution_count": 29,
     "metadata": {},
     "output_type": "execute_result"
    }
   ],
   "source": [
    "import nltk\n",
    "nltk.download('stopwords')\n",
    "nltk.download('punkt')\n",
    "nltk.download('wordnet')"
   ]
  },
  {
   "cell_type": "code",
   "execution_count": null,
   "metadata": {
    "id": "djtZVA_IhY9b"
   },
   "outputs": [],
   "source": [
    "import string\n",
    "from nltk.corpus import stopwords\n",
    "from nltk.tokenize import word_tokenize\n",
    "from nltk.stem import PorterStemmer\n",
    "from nltk.stem import WordNetLemmatizer\n",
    "\n",
    "# create a function for preprocessing\n",
    "def preprocessing(text):\n",
    "\n",
    "  #convert all to lowercase\n",
    "  text = text.lower()\n",
    "\n",
    "  #remove puntuations\n",
    "\n",
    "  text = text.translate(str.maketrans('', '', string.punctuation))\n",
    "\n",
    "  # punc = '''!()-[]{};:'\"\\,<>./?@#$%^&*_~'''\n",
    "  # for word in text:\n",
    "  #   if word in punc:\n",
    "  #     text = text.replace(word, '')\n",
    "\n",
    "  #remove stopword\n",
    "\n",
    "  stop_words = set(stopwords.words('english'))\n",
    "  word_tokens = word_tokenize(text)\n",
    "\n",
    "  filtered_sentence = [w for w in word_tokens if w not in stop_words]\n",
    "\n",
    "  #stemming\n",
    "  stemmed_sentence = []\n",
    "  ps = PorterStemmer()\n",
    "  for w in filtered_sentence:\n",
    "    stemmed_sentence.append(ps.stem(w))\n",
    "\n",
    "\n",
    "  #lemmitizing\n",
    "  #lemmat_words = []\n",
    "  lemmatizer = WordNetLemmatizer()\n",
    "\n",
    "  lemmat_words = [lemmatizer.lemmatize(w) for w in stemmed_sentence]\n",
    "\n",
    "  return \" \".join(lemmat_words)\n",
    "\n"
   ]
  },
  {
   "cell_type": "code",
   "execution_count": null,
   "metadata": {
    "colab": {
     "base_uri": "https://localhost:8080/",
     "height": 36
    },
    "id": "RisWY_2b7w0D",
    "outputId": "59a1170b-f65c-4f34-c4cc-b8ddb40d27f9"
   },
   "outputs": [
    {
     "data": {
      "application/vnd.google.colaboratory.intrinsic+json": {
       "type": "string"
      },
      "text/plain": [
       "'name king kin nam mahesh reddi'"
      ]
     },
     "execution_count": 31,
     "metadata": {},
     "output_type": "execute_result"
    }
   ],
   "source": [
    "preprocessing('''What is your name?, king kin My nam is Mahesh Reddy.''')"
   ]
  },
  {
   "cell_type": "code",
   "execution_count": null,
   "metadata": {
    "colab": {
     "base_uri": "https://localhost:8080/"
    },
    "id": "byTXC0oUBHhh",
    "outputId": "7eaa4ceb-5551-4734-ff15-ecf16f44ffde"
   },
   "outputs": [
    {
     "name": "stdout",
     "output_type": "stream",
     "text": [
      "['i', 'me', 'my', 'myself', 'we', 'our', 'ours', 'ourselves', 'you', \"you're\", \"you've\", \"you'll\", \"you'd\", 'your', 'yours', 'yourself', 'yourselves', 'he', 'him', 'his', 'himself', 'she', \"she's\", 'her', 'hers', 'herself', 'it', \"it's\", 'its', 'itself', 'they', 'them', 'their', 'theirs', 'themselves', 'what', 'which', 'who', 'whom', 'this', 'that', \"that'll\", 'these', 'those', 'am', 'is', 'are', 'was', 'were', 'be', 'been', 'being', 'have', 'has', 'had', 'having', 'do', 'does', 'did', 'doing', 'a', 'an', 'the', 'and', 'but', 'if', 'or', 'because', 'as', 'until', 'while', 'of', 'at', 'by', 'for', 'with', 'about', 'against', 'between', 'into', 'through', 'during', 'before', 'after', 'above', 'below', 'to', 'from', 'up', 'down', 'in', 'out', 'on', 'off', 'over', 'under', 'again', 'further', 'then', 'once', 'here', 'there', 'when', 'where', 'why', 'how', 'all', 'any', 'both', 'each', 'few', 'more', 'most', 'other', 'some', 'such', 'no', 'nor', 'not', 'only', 'own', 'same', 'so', 'than', 'too', 'very', 's', 't', 'can', 'will', 'just', 'don', \"don't\", 'should', \"should've\", 'now', 'd', 'll', 'm', 'o', 're', 've', 'y', 'ain', 'aren', \"aren't\", 'couldn', \"couldn't\", 'didn', \"didn't\", 'doesn', \"doesn't\", 'hadn', \"hadn't\", 'hasn', \"hasn't\", 'haven', \"haven't\", 'isn', \"isn't\", 'ma', 'mightn', \"mightn't\", 'mustn', \"mustn't\", 'needn', \"needn't\", 'shan', \"shan't\", 'shouldn', \"shouldn't\", 'wasn', \"wasn't\", 'weren', \"weren't\", 'won', \"won't\", 'wouldn', \"wouldn't\"]\n"
     ]
    }
   ],
   "source": [
    "print(stopwords.words('english'))"
   ]
  },
  {
   "cell_type": "markdown",
   "metadata": {
    "id": "pjlDZ7Peu7t1"
   },
   "source": [
    "SENTIMENT ANAYSIS"
   ]
  },
  {
   "cell_type": "markdown",
   "metadata": {
    "id": "h9ZOktEru6MV"
   },
   "source": [
    "https://towardsdatascience.com/sentimental-analysis-using-vader-a3415fef7664"
   ]
  },
  {
   "cell_type": "code",
   "execution_count": null,
   "metadata": {
    "colab": {
     "base_uri": "https://localhost:8080/"
    },
    "id": "5TZbqEywN75J",
    "outputId": "6f369302-ce74-4408-b5c3-0ba688af765a"
   },
   "outputs": [
    {
     "name": "stdout",
     "output_type": "stream",
     "text": [
      "Collecting vaderSentiment\n",
      "  Downloading vaderSentiment-3.3.2-py2.py3-none-any.whl (125 kB)\n",
      "\u001b[?25l     \u001b[90m━━━━━━━━━━━━━━━━━━━━━━━━━━━━━━━━━━━━━━━━\u001b[0m \u001b[32m0.0/126.0 kB\u001b[0m \u001b[31m?\u001b[0m eta \u001b[36m-:--:--\u001b[0m\r",
      "\u001b[2K     \u001b[90m━━━━━━━━━━━━━━━━━━━━━━━━━━━━━━━━━━━━━━━\u001b[0m \u001b[32m126.0/126.0 kB\u001b[0m \u001b[31m4.6 MB/s\u001b[0m eta \u001b[36m0:00:00\u001b[0m\n",
      "\u001b[?25hRequirement already satisfied: requests in /usr/local/lib/python3.10/dist-packages (from vaderSentiment) (2.27.1)\n",
      "Requirement already satisfied: urllib3<1.27,>=1.21.1 in /usr/local/lib/python3.10/dist-packages (from requests->vaderSentiment) (1.26.16)\n",
      "Requirement already satisfied: certifi>=2017.4.17 in /usr/local/lib/python3.10/dist-packages (from requests->vaderSentiment) (2023.7.22)\n",
      "Requirement already satisfied: charset-normalizer~=2.0.0 in /usr/local/lib/python3.10/dist-packages (from requests->vaderSentiment) (2.0.12)\n",
      "Requirement already satisfied: idna<4,>=2.5 in /usr/local/lib/python3.10/dist-packages (from requests->vaderSentiment) (3.4)\n",
      "Installing collected packages: vaderSentiment\n",
      "Successfully installed vaderSentiment-3.3.2\n"
     ]
    }
   ],
   "source": [
    "pip install vaderSentiment"
   ]
  },
  {
   "cell_type": "code",
   "execution_count": null,
   "metadata": {
    "id": "HUxqpmosB6vy"
   },
   "outputs": [],
   "source": [
    "# import sentiment intensity analyzer\n",
    "from vaderSentiment.vaderSentiment import SentimentIntensityAnalyzer\n",
    "\n",
    "# create sentiment intensity analyzer object\n",
    "\n",
    "analyzer = SentimentIntensityAnalyzer()"
   ]
  },
  {
   "cell_type": "code",
   "execution_count": null,
   "metadata": {
    "id": "GscOEWSjGfa2"
   },
   "outputs": [],
   "source": [
    "#fuction to  decide sentiment as positive, negative and neutral\n",
    "def get_analysis(score):\n",
    "  # decide sentiment as positive, negative and neutral\n",
    "  if score < 0.0 :\n",
    "    return 'Negative'\n",
    "\n",
    "  elif score ==  0.0 :\n",
    "    return 'Neutral'\n",
    "  else :\n",
    "    return \"Positive\""
   ]
  },
  {
   "cell_type": "markdown",
   "metadata": {
    "id": "RVa-zf7xfRjc"
   },
   "source": [
    "# Now working with description on datasets"
   ]
  },
  {
   "cell_type": "code",
   "execution_count": null,
   "metadata": {
    "id": "NFS1pS0Zws6Z"
   },
   "outputs": [],
   "source": [
    "# concatenate cnbc headlines dataset and reuters headline dataset\n",
    "cnbc_reuter = pd.concat([cnbc,reuter], axis=0)\n",
    "cnbc_reuter.reset_index(drop=True, inplace=True)"
   ]
  },
  {
   "cell_type": "code",
   "execution_count": null,
   "metadata": {
    "colab": {
     "base_uri": "https://localhost:8080/"
    },
    "id": "eDgz1y9Cwzfm",
    "outputId": "631eeb8d-0fbc-4f3f-964d-a642984156db"
   },
   "outputs": [
    {
     "data": {
      "text/plain": [
       "(35515, 3)"
      ]
     },
     "execution_count": 37,
     "metadata": {},
     "output_type": "execute_result"
    }
   ],
   "source": [
    "#check the shape of this new dataset\n",
    "cnbc_reuter.shape"
   ]
  },
  {
   "cell_type": "code",
   "execution_count": null,
   "metadata": {
    "id": "u0v43468m4d0"
   },
   "outputs": [],
   "source": [
    "import copy\n",
    "#make a copy of new dataset\n",
    "cnbc_reuter_copy = copy.deepcopy(cnbc_reuter)"
   ]
  },
  {
   "cell_type": "code",
   "execution_count": null,
   "metadata": {
    "colab": {
     "base_uri": "https://localhost:8080/",
     "height": 223
    },
    "id": "y23oeuZzh67x",
    "outputId": "6dbc56e9-7557-4092-c79c-ceb53f0c114f"
   },
   "outputs": [
    {
     "name": "stdout",
     "output_type": "stream",
     "text": [
      "(35515, 3)\n"
     ]
    },
    {
     "data": {
      "text/html": [
       "\n",
       "\n",
       "  <div id=\"df-51b4ecc9-a619-4cf3-a4f1-9c9a61397862\">\n",
       "    <div class=\"colab-df-container\">\n",
       "      <div>\n",
       "<style scoped>\n",
       "    .dataframe tbody tr th:only-of-type {\n",
       "        vertical-align: middle;\n",
       "    }\n",
       "\n",
       "    .dataframe tbody tr th {\n",
       "        vertical-align: top;\n",
       "    }\n",
       "\n",
       "    .dataframe thead th {\n",
       "        text-align: right;\n",
       "    }\n",
       "</style>\n",
       "<table border=\"1\" class=\"dataframe\">\n",
       "  <thead>\n",
       "    <tr style=\"text-align: right;\">\n",
       "      <th></th>\n",
       "      <th>Headlines</th>\n",
       "      <th>Time</th>\n",
       "      <th>Description</th>\n",
       "    </tr>\n",
       "  </thead>\n",
       "  <tbody>\n",
       "    <tr>\n",
       "      <th>0</th>\n",
       "      <td>Jim Cramer: A better way to invest in the Covi...</td>\n",
       "      <td>7:51  PM ET Fri, 17 July 2020</td>\n",
       "      <td>\"Mad Money\" host Jim Cramer recommended buying...</td>\n",
       "    </tr>\n",
       "    <tr>\n",
       "      <th>1</th>\n",
       "      <td>Cramer's lightning round: I would own Teradyne</td>\n",
       "      <td>7:33  PM ET Fri, 17 July 2020</td>\n",
       "      <td>\"Mad Money\" host Jim Cramer rings the lightnin...</td>\n",
       "    </tr>\n",
       "    <tr>\n",
       "      <th>2</th>\n",
       "      <td>Cramer's week ahead: Big week for earnings, ev...</td>\n",
       "      <td>7:25  PM ET Fri, 17 July 2020</td>\n",
       "      <td>\"We'll pay more for the earnings of the non-Co...</td>\n",
       "    </tr>\n",
       "    <tr>\n",
       "      <th>3</th>\n",
       "      <td>IQ Capital CEO Keith Bliss says tech and healt...</td>\n",
       "      <td>4:24  PM ET Fri, 17 July 2020</td>\n",
       "      <td>Keith Bliss, IQ Capital CEO, joins \"Closing Be...</td>\n",
       "    </tr>\n",
       "    <tr>\n",
       "      <th>4</th>\n",
       "      <td>Wall Street delivered the 'kind of pullback I'...</td>\n",
       "      <td>7:36  PM ET Thu, 16 July 2020</td>\n",
       "      <td>\"Look for the stocks of high-quality companies...</td>\n",
       "    </tr>\n",
       "  </tbody>\n",
       "</table>\n",
       "</div>\n",
       "      <button class=\"colab-df-convert\" onclick=\"convertToInteractive('df-51b4ecc9-a619-4cf3-a4f1-9c9a61397862')\"\n",
       "              title=\"Convert this dataframe to an interactive table.\"\n",
       "              style=\"display:none;\">\n",
       "\n",
       "  <svg xmlns=\"http://www.w3.org/2000/svg\" height=\"24px\"viewBox=\"0 0 24 24\"\n",
       "       width=\"24px\">\n",
       "    <path d=\"M0 0h24v24H0V0z\" fill=\"none\"/>\n",
       "    <path d=\"M18.56 5.44l.94 2.06.94-2.06 2.06-.94-2.06-.94-.94-2.06-.94 2.06-2.06.94zm-11 1L8.5 8.5l.94-2.06 2.06-.94-2.06-.94L8.5 2.5l-.94 2.06-2.06.94zm10 10l.94 2.06.94-2.06 2.06-.94-2.06-.94-.94-2.06-.94 2.06-2.06.94z\"/><path d=\"M17.41 7.96l-1.37-1.37c-.4-.4-.92-.59-1.43-.59-.52 0-1.04.2-1.43.59L10.3 9.45l-7.72 7.72c-.78.78-.78 2.05 0 2.83L4 21.41c.39.39.9.59 1.41.59.51 0 1.02-.2 1.41-.59l7.78-7.78 2.81-2.81c.8-.78.8-2.07 0-2.86zM5.41 20L4 18.59l7.72-7.72 1.47 1.35L5.41 20z\"/>\n",
       "  </svg>\n",
       "      </button>\n",
       "\n",
       "\n",
       "\n",
       "    <div id=\"df-3491fd47-27fa-4d37-bbb9-f9962460a7af\">\n",
       "      <button class=\"colab-df-quickchart\" onclick=\"quickchart('df-3491fd47-27fa-4d37-bbb9-f9962460a7af')\"\n",
       "              title=\"Suggest charts.\"\n",
       "              style=\"display:none;\">\n",
       "\n",
       "<svg xmlns=\"http://www.w3.org/2000/svg\" height=\"24px\"viewBox=\"0 0 24 24\"\n",
       "     width=\"24px\">\n",
       "    <g>\n",
       "        <path d=\"M19 3H5c-1.1 0-2 .9-2 2v14c0 1.1.9 2 2 2h14c1.1 0 2-.9 2-2V5c0-1.1-.9-2-2-2zM9 17H7v-7h2v7zm4 0h-2V7h2v10zm4 0h-2v-4h2v4z\"/>\n",
       "    </g>\n",
       "</svg>\n",
       "      </button>\n",
       "    </div>\n",
       "\n",
       "<style>\n",
       "  .colab-df-quickchart {\n",
       "    background-color: #E8F0FE;\n",
       "    border: none;\n",
       "    border-radius: 50%;\n",
       "    cursor: pointer;\n",
       "    display: none;\n",
       "    fill: #1967D2;\n",
       "    height: 32px;\n",
       "    padding: 0 0 0 0;\n",
       "    width: 32px;\n",
       "  }\n",
       "\n",
       "  .colab-df-quickchart:hover {\n",
       "    background-color: #E2EBFA;\n",
       "    box-shadow: 0px 1px 2px rgba(60, 64, 67, 0.3), 0px 1px 3px 1px rgba(60, 64, 67, 0.15);\n",
       "    fill: #174EA6;\n",
       "  }\n",
       "\n",
       "  [theme=dark] .colab-df-quickchart {\n",
       "    background-color: #3B4455;\n",
       "    fill: #D2E3FC;\n",
       "  }\n",
       "\n",
       "  [theme=dark] .colab-df-quickchart:hover {\n",
       "    background-color: #434B5C;\n",
       "    box-shadow: 0px 1px 3px 1px rgba(0, 0, 0, 0.15);\n",
       "    filter: drop-shadow(0px 1px 2px rgba(0, 0, 0, 0.3));\n",
       "    fill: #FFFFFF;\n",
       "  }\n",
       "</style>\n",
       "\n",
       "    <script>\n",
       "      async function quickchart(key) {\n",
       "        const containerElement = document.querySelector('#' + key);\n",
       "        const charts = await google.colab.kernel.invokeFunction(\n",
       "            'suggestCharts', [key], {});\n",
       "      }\n",
       "    </script>\n",
       "\n",
       "      <script>\n",
       "\n",
       "function displayQuickchartButton(domScope) {\n",
       "  let quickchartButtonEl =\n",
       "    domScope.querySelector('#df-3491fd47-27fa-4d37-bbb9-f9962460a7af button.colab-df-quickchart');\n",
       "  quickchartButtonEl.style.display =\n",
       "    google.colab.kernel.accessAllowed ? 'block' : 'none';\n",
       "}\n",
       "\n",
       "        displayQuickchartButton(document);\n",
       "      </script>\n",
       "      <style>\n",
       "    .colab-df-container {\n",
       "      display:flex;\n",
       "      flex-wrap:wrap;\n",
       "      gap: 12px;\n",
       "    }\n",
       "\n",
       "    .colab-df-convert {\n",
       "      background-color: #E8F0FE;\n",
       "      border: none;\n",
       "      border-radius: 50%;\n",
       "      cursor: pointer;\n",
       "      display: none;\n",
       "      fill: #1967D2;\n",
       "      height: 32px;\n",
       "      padding: 0 0 0 0;\n",
       "      width: 32px;\n",
       "    }\n",
       "\n",
       "    .colab-df-convert:hover {\n",
       "      background-color: #E2EBFA;\n",
       "      box-shadow: 0px 1px 2px rgba(60, 64, 67, 0.3), 0px 1px 3px 1px rgba(60, 64, 67, 0.15);\n",
       "      fill: #174EA6;\n",
       "    }\n",
       "\n",
       "    [theme=dark] .colab-df-convert {\n",
       "      background-color: #3B4455;\n",
       "      fill: #D2E3FC;\n",
       "    }\n",
       "\n",
       "    [theme=dark] .colab-df-convert:hover {\n",
       "      background-color: #434B5C;\n",
       "      box-shadow: 0px 1px 3px 1px rgba(0, 0, 0, 0.15);\n",
       "      filter: drop-shadow(0px 1px 2px rgba(0, 0, 0, 0.3));\n",
       "      fill: #FFFFFF;\n",
       "    }\n",
       "  </style>\n",
       "\n",
       "      <script>\n",
       "        const buttonEl =\n",
       "          document.querySelector('#df-51b4ecc9-a619-4cf3-a4f1-9c9a61397862 button.colab-df-convert');\n",
       "        buttonEl.style.display =\n",
       "          google.colab.kernel.accessAllowed ? 'block' : 'none';\n",
       "\n",
       "        async function convertToInteractive(key) {\n",
       "          const element = document.querySelector('#df-51b4ecc9-a619-4cf3-a4f1-9c9a61397862');\n",
       "          const dataTable =\n",
       "            await google.colab.kernel.invokeFunction('convertToInteractive',\n",
       "                                                     [key], {});\n",
       "          if (!dataTable) return;\n",
       "\n",
       "          const docLinkHtml = 'Like what you see? Visit the ' +\n",
       "            '<a target=\"_blank\" href=https://colab.research.google.com/notebooks/data_table.ipynb>data table notebook</a>'\n",
       "            + ' to learn more about interactive tables.';\n",
       "          element.innerHTML = '';\n",
       "          dataTable['output_type'] = 'display_data';\n",
       "          await google.colab.output.renderOutput(dataTable, element);\n",
       "          const docLink = document.createElement('div');\n",
       "          docLink.innerHTML = docLinkHtml;\n",
       "          element.appendChild(docLink);\n",
       "        }\n",
       "      </script>\n",
       "    </div>\n",
       "  </div>\n"
      ],
      "text/plain": [
       "                                           Headlines  \\\n",
       "0  Jim Cramer: A better way to invest in the Covi...   \n",
       "1     Cramer's lightning round: I would own Teradyne   \n",
       "2  Cramer's week ahead: Big week for earnings, ev...   \n",
       "3  IQ Capital CEO Keith Bliss says tech and healt...   \n",
       "4  Wall Street delivered the 'kind of pullback I'...   \n",
       "\n",
       "                             Time  \\\n",
       "0   7:51  PM ET Fri, 17 July 2020   \n",
       "1   7:33  PM ET Fri, 17 July 2020   \n",
       "2   7:25  PM ET Fri, 17 July 2020   \n",
       "3   4:24  PM ET Fri, 17 July 2020   \n",
       "4   7:36  PM ET Thu, 16 July 2020   \n",
       "\n",
       "                                         Description  \n",
       "0  \"Mad Money\" host Jim Cramer recommended buying...  \n",
       "1  \"Mad Money\" host Jim Cramer rings the lightnin...  \n",
       "2  \"We'll pay more for the earnings of the non-Co...  \n",
       "3  Keith Bliss, IQ Capital CEO, joins \"Closing Be...  \n",
       "4  \"Look for the stocks of high-quality companies...  "
      ]
     },
     "execution_count": 39,
     "metadata": {},
     "output_type": "execute_result"
    }
   ],
   "source": [
    "print(cnbc_reuter_copy.shape)\n",
    "cnbc_reuter_copy.head()"
   ]
  },
  {
   "cell_type": "code",
   "execution_count": null,
   "metadata": {
    "colab": {
     "base_uri": "https://localhost:8080/"
    },
    "id": "KMejFN4HhY44",
    "outputId": "332d7319-3e66-4440-cfc8-d669a3aa1ef9"
   },
   "outputs": [
    {
     "name": "stdout",
     "output_type": "stream",
     "text": [
      "CPU times: user 30.4 s, sys: 902 ms, total: 31.3 s\n",
      "Wall time: 40.3 s\n"
     ]
    }
   ],
   "source": [
    "%%time\n",
    "# apply preprocessing to the description of new dataset\n",
    "\n",
    "cnbc_reuter_copy['Description'] = cnbc_reuter_copy['Description'].apply(preprocessing)"
   ]
  },
  {
   "cell_type": "code",
   "execution_count": null,
   "metadata": {
    "colab": {
     "base_uri": "https://localhost:8080/",
     "height": 206
    },
    "id": "UHl97Br2V3w0",
    "outputId": "89faff62-234f-448d-9eb5-427384295535"
   },
   "outputs": [
    {
     "data": {
      "text/html": [
       "\n",
       "\n",
       "  <div id=\"df-a767bd15-acb8-4344-8301-e07e00ef4426\">\n",
       "    <div class=\"colab-df-container\">\n",
       "      <div>\n",
       "<style scoped>\n",
       "    .dataframe tbody tr th:only-of-type {\n",
       "        vertical-align: middle;\n",
       "    }\n",
       "\n",
       "    .dataframe tbody tr th {\n",
       "        vertical-align: top;\n",
       "    }\n",
       "\n",
       "    .dataframe thead th {\n",
       "        text-align: right;\n",
       "    }\n",
       "</style>\n",
       "<table border=\"1\" class=\"dataframe\">\n",
       "  <thead>\n",
       "    <tr style=\"text-align: right;\">\n",
       "      <th></th>\n",
       "      <th>Headlines</th>\n",
       "      <th>Time</th>\n",
       "      <th>Description</th>\n",
       "    </tr>\n",
       "  </thead>\n",
       "  <tbody>\n",
       "    <tr>\n",
       "      <th>0</th>\n",
       "      <td>Jim Cramer: A better way to invest in the Covi...</td>\n",
       "      <td>7:51  PM ET Fri, 17 July 2020</td>\n",
       "      <td>mad money host jim cramer recommend buy four c...</td>\n",
       "    </tr>\n",
       "    <tr>\n",
       "      <th>1</th>\n",
       "      <td>Cramer's lightning round: I would own Teradyne</td>\n",
       "      <td>7:33  PM ET Fri, 17 July 2020</td>\n",
       "      <td>mad money host jim cramer ring lightn round be...</td>\n",
       "    </tr>\n",
       "    <tr>\n",
       "      <th>2</th>\n",
       "      <td>Cramer's week ahead: Big week for earnings, ev...</td>\n",
       "      <td>7:25  PM ET Fri, 17 July 2020</td>\n",
       "      <td>well pay earn noncovid compani lancet publish ...</td>\n",
       "    </tr>\n",
       "    <tr>\n",
       "      <th>3</th>\n",
       "      <td>IQ Capital CEO Keith Bliss says tech and healt...</td>\n",
       "      <td>4:24  PM ET Fri, 17 July 2020</td>\n",
       "      <td>keith bliss iq capit ceo join close bell talk ...</td>\n",
       "    </tr>\n",
       "    <tr>\n",
       "      <th>4</th>\n",
       "      <td>Wall Street delivered the 'kind of pullback I'...</td>\n",
       "      <td>7:36  PM ET Thu, 16 July 2020</td>\n",
       "      <td>look stock highqual compani go lower even thou...</td>\n",
       "    </tr>\n",
       "  </tbody>\n",
       "</table>\n",
       "</div>\n",
       "      <button class=\"colab-df-convert\" onclick=\"convertToInteractive('df-a767bd15-acb8-4344-8301-e07e00ef4426')\"\n",
       "              title=\"Convert this dataframe to an interactive table.\"\n",
       "              style=\"display:none;\">\n",
       "\n",
       "  <svg xmlns=\"http://www.w3.org/2000/svg\" height=\"24px\"viewBox=\"0 0 24 24\"\n",
       "       width=\"24px\">\n",
       "    <path d=\"M0 0h24v24H0V0z\" fill=\"none\"/>\n",
       "    <path d=\"M18.56 5.44l.94 2.06.94-2.06 2.06-.94-2.06-.94-.94-2.06-.94 2.06-2.06.94zm-11 1L8.5 8.5l.94-2.06 2.06-.94-2.06-.94L8.5 2.5l-.94 2.06-2.06.94zm10 10l.94 2.06.94-2.06 2.06-.94-2.06-.94-.94-2.06-.94 2.06-2.06.94z\"/><path d=\"M17.41 7.96l-1.37-1.37c-.4-.4-.92-.59-1.43-.59-.52 0-1.04.2-1.43.59L10.3 9.45l-7.72 7.72c-.78.78-.78 2.05 0 2.83L4 21.41c.39.39.9.59 1.41.59.51 0 1.02-.2 1.41-.59l7.78-7.78 2.81-2.81c.8-.78.8-2.07 0-2.86zM5.41 20L4 18.59l7.72-7.72 1.47 1.35L5.41 20z\"/>\n",
       "  </svg>\n",
       "      </button>\n",
       "\n",
       "\n",
       "\n",
       "    <div id=\"df-76ad6804-d25d-435d-840d-bceef672c8f7\">\n",
       "      <button class=\"colab-df-quickchart\" onclick=\"quickchart('df-76ad6804-d25d-435d-840d-bceef672c8f7')\"\n",
       "              title=\"Suggest charts.\"\n",
       "              style=\"display:none;\">\n",
       "\n",
       "<svg xmlns=\"http://www.w3.org/2000/svg\" height=\"24px\"viewBox=\"0 0 24 24\"\n",
       "     width=\"24px\">\n",
       "    <g>\n",
       "        <path d=\"M19 3H5c-1.1 0-2 .9-2 2v14c0 1.1.9 2 2 2h14c1.1 0 2-.9 2-2V5c0-1.1-.9-2-2-2zM9 17H7v-7h2v7zm4 0h-2V7h2v10zm4 0h-2v-4h2v4z\"/>\n",
       "    </g>\n",
       "</svg>\n",
       "      </button>\n",
       "    </div>\n",
       "\n",
       "<style>\n",
       "  .colab-df-quickchart {\n",
       "    background-color: #E8F0FE;\n",
       "    border: none;\n",
       "    border-radius: 50%;\n",
       "    cursor: pointer;\n",
       "    display: none;\n",
       "    fill: #1967D2;\n",
       "    height: 32px;\n",
       "    padding: 0 0 0 0;\n",
       "    width: 32px;\n",
       "  }\n",
       "\n",
       "  .colab-df-quickchart:hover {\n",
       "    background-color: #E2EBFA;\n",
       "    box-shadow: 0px 1px 2px rgba(60, 64, 67, 0.3), 0px 1px 3px 1px rgba(60, 64, 67, 0.15);\n",
       "    fill: #174EA6;\n",
       "  }\n",
       "\n",
       "  [theme=dark] .colab-df-quickchart {\n",
       "    background-color: #3B4455;\n",
       "    fill: #D2E3FC;\n",
       "  }\n",
       "\n",
       "  [theme=dark] .colab-df-quickchart:hover {\n",
       "    background-color: #434B5C;\n",
       "    box-shadow: 0px 1px 3px 1px rgba(0, 0, 0, 0.15);\n",
       "    filter: drop-shadow(0px 1px 2px rgba(0, 0, 0, 0.3));\n",
       "    fill: #FFFFFF;\n",
       "  }\n",
       "</style>\n",
       "\n",
       "    <script>\n",
       "      async function quickchart(key) {\n",
       "        const containerElement = document.querySelector('#' + key);\n",
       "        const charts = await google.colab.kernel.invokeFunction(\n",
       "            'suggestCharts', [key], {});\n",
       "      }\n",
       "    </script>\n",
       "\n",
       "      <script>\n",
       "\n",
       "function displayQuickchartButton(domScope) {\n",
       "  let quickchartButtonEl =\n",
       "    domScope.querySelector('#df-76ad6804-d25d-435d-840d-bceef672c8f7 button.colab-df-quickchart');\n",
       "  quickchartButtonEl.style.display =\n",
       "    google.colab.kernel.accessAllowed ? 'block' : 'none';\n",
       "}\n",
       "\n",
       "        displayQuickchartButton(document);\n",
       "      </script>\n",
       "      <style>\n",
       "    .colab-df-container {\n",
       "      display:flex;\n",
       "      flex-wrap:wrap;\n",
       "      gap: 12px;\n",
       "    }\n",
       "\n",
       "    .colab-df-convert {\n",
       "      background-color: #E8F0FE;\n",
       "      border: none;\n",
       "      border-radius: 50%;\n",
       "      cursor: pointer;\n",
       "      display: none;\n",
       "      fill: #1967D2;\n",
       "      height: 32px;\n",
       "      padding: 0 0 0 0;\n",
       "      width: 32px;\n",
       "    }\n",
       "\n",
       "    .colab-df-convert:hover {\n",
       "      background-color: #E2EBFA;\n",
       "      box-shadow: 0px 1px 2px rgba(60, 64, 67, 0.3), 0px 1px 3px 1px rgba(60, 64, 67, 0.15);\n",
       "      fill: #174EA6;\n",
       "    }\n",
       "\n",
       "    [theme=dark] .colab-df-convert {\n",
       "      background-color: #3B4455;\n",
       "      fill: #D2E3FC;\n",
       "    }\n",
       "\n",
       "    [theme=dark] .colab-df-convert:hover {\n",
       "      background-color: #434B5C;\n",
       "      box-shadow: 0px 1px 3px 1px rgba(0, 0, 0, 0.15);\n",
       "      filter: drop-shadow(0px 1px 2px rgba(0, 0, 0, 0.3));\n",
       "      fill: #FFFFFF;\n",
       "    }\n",
       "  </style>\n",
       "\n",
       "      <script>\n",
       "        const buttonEl =\n",
       "          document.querySelector('#df-a767bd15-acb8-4344-8301-e07e00ef4426 button.colab-df-convert');\n",
       "        buttonEl.style.display =\n",
       "          google.colab.kernel.accessAllowed ? 'block' : 'none';\n",
       "\n",
       "        async function convertToInteractive(key) {\n",
       "          const element = document.querySelector('#df-a767bd15-acb8-4344-8301-e07e00ef4426');\n",
       "          const dataTable =\n",
       "            await google.colab.kernel.invokeFunction('convertToInteractive',\n",
       "                                                     [key], {});\n",
       "          if (!dataTable) return;\n",
       "\n",
       "          const docLinkHtml = 'Like what you see? Visit the ' +\n",
       "            '<a target=\"_blank\" href=https://colab.research.google.com/notebooks/data_table.ipynb>data table notebook</a>'\n",
       "            + ' to learn more about interactive tables.';\n",
       "          element.innerHTML = '';\n",
       "          dataTable['output_type'] = 'display_data';\n",
       "          await google.colab.output.renderOutput(dataTable, element);\n",
       "          const docLink = document.createElement('div');\n",
       "          docLink.innerHTML = docLinkHtml;\n",
       "          element.appendChild(docLink);\n",
       "        }\n",
       "      </script>\n",
       "    </div>\n",
       "  </div>\n"
      ],
      "text/plain": [
       "                                           Headlines  \\\n",
       "0  Jim Cramer: A better way to invest in the Covi...   \n",
       "1     Cramer's lightning round: I would own Teradyne   \n",
       "2  Cramer's week ahead: Big week for earnings, ev...   \n",
       "3  IQ Capital CEO Keith Bliss says tech and healt...   \n",
       "4  Wall Street delivered the 'kind of pullback I'...   \n",
       "\n",
       "                             Time  \\\n",
       "0   7:51  PM ET Fri, 17 July 2020   \n",
       "1   7:33  PM ET Fri, 17 July 2020   \n",
       "2   7:25  PM ET Fri, 17 July 2020   \n",
       "3   4:24  PM ET Fri, 17 July 2020   \n",
       "4   7:36  PM ET Thu, 16 July 2020   \n",
       "\n",
       "                                         Description  \n",
       "0  mad money host jim cramer recommend buy four c...  \n",
       "1  mad money host jim cramer ring lightn round be...  \n",
       "2  well pay earn noncovid compani lancet publish ...  \n",
       "3  keith bliss iq capit ceo join close bell talk ...  \n",
       "4  look stock highqual compani go lower even thou...  "
      ]
     },
     "execution_count": 41,
     "metadata": {},
     "output_type": "execute_result"
    }
   ],
   "source": [
    "cnbc_reuter_copy.head()"
   ]
  },
  {
   "cell_type": "code",
   "execution_count": null,
   "metadata": {
    "colab": {
     "base_uri": "https://localhost:8080/",
     "height": 206
    },
    "id": "l97AoQKkhYzb",
    "outputId": "2c680933-2b07-4fc7-fdbe-e4c17c88f0c6"
   },
   "outputs": [
    {
     "data": {
      "text/html": [
       "\n",
       "\n",
       "  <div id=\"df-8163ec9a-7ada-4aa5-95a3-508f5fc2b8a9\">\n",
       "    <div class=\"colab-df-container\">\n",
       "      <div>\n",
       "<style scoped>\n",
       "    .dataframe tbody tr th:only-of-type {\n",
       "        vertical-align: middle;\n",
       "    }\n",
       "\n",
       "    .dataframe tbody tr th {\n",
       "        vertical-align: top;\n",
       "    }\n",
       "\n",
       "    .dataframe thead th {\n",
       "        text-align: right;\n",
       "    }\n",
       "</style>\n",
       "<table border=\"1\" class=\"dataframe\">\n",
       "  <thead>\n",
       "    <tr style=\"text-align: right;\">\n",
       "      <th></th>\n",
       "      <th>Headlines</th>\n",
       "      <th>Time</th>\n",
       "      <th>Description</th>\n",
       "      <th>ds_score</th>\n",
       "    </tr>\n",
       "  </thead>\n",
       "  <tbody>\n",
       "    <tr>\n",
       "      <th>0</th>\n",
       "      <td>Jim Cramer: A better way to invest in the Covi...</td>\n",
       "      <td>7:51  PM ET Fri, 17 July 2020</td>\n",
       "      <td>mad money host jim cramer recommend buy four c...</td>\n",
       "      <td>0.2500</td>\n",
       "    </tr>\n",
       "    <tr>\n",
       "      <th>1</th>\n",
       "      <td>Cramer's lightning round: I would own Teradyne</td>\n",
       "      <td>7:33  PM ET Fri, 17 July 2020</td>\n",
       "      <td>mad money host jim cramer ring lightn round be...</td>\n",
       "      <td>-0.4939</td>\n",
       "    </tr>\n",
       "    <tr>\n",
       "      <th>2</th>\n",
       "      <td>Cramer's week ahead: Big week for earnings, ev...</td>\n",
       "      <td>7:25  PM ET Fri, 17 July 2020</td>\n",
       "      <td>well pay earn noncovid compani lancet publish ...</td>\n",
       "      <td>0.5574</td>\n",
       "    </tr>\n",
       "    <tr>\n",
       "      <th>3</th>\n",
       "      <td>IQ Capital CEO Keith Bliss says tech and healt...</td>\n",
       "      <td>4:24  PM ET Fri, 17 July 2020</td>\n",
       "      <td>keith bliss iq capit ceo join close bell talk ...</td>\n",
       "      <td>0.7096</td>\n",
       "    </tr>\n",
       "    <tr>\n",
       "      <th>4</th>\n",
       "      <td>Wall Street delivered the 'kind of pullback I'...</td>\n",
       "      <td>7:36  PM ET Thu, 16 July 2020</td>\n",
       "      <td>look stock highqual compani go lower even thou...</td>\n",
       "      <td>-0.6597</td>\n",
       "    </tr>\n",
       "  </tbody>\n",
       "</table>\n",
       "</div>\n",
       "      <button class=\"colab-df-convert\" onclick=\"convertToInteractive('df-8163ec9a-7ada-4aa5-95a3-508f5fc2b8a9')\"\n",
       "              title=\"Convert this dataframe to an interactive table.\"\n",
       "              style=\"display:none;\">\n",
       "\n",
       "  <svg xmlns=\"http://www.w3.org/2000/svg\" height=\"24px\"viewBox=\"0 0 24 24\"\n",
       "       width=\"24px\">\n",
       "    <path d=\"M0 0h24v24H0V0z\" fill=\"none\"/>\n",
       "    <path d=\"M18.56 5.44l.94 2.06.94-2.06 2.06-.94-2.06-.94-.94-2.06-.94 2.06-2.06.94zm-11 1L8.5 8.5l.94-2.06 2.06-.94-2.06-.94L8.5 2.5l-.94 2.06-2.06.94zm10 10l.94 2.06.94-2.06 2.06-.94-2.06-.94-.94-2.06-.94 2.06-2.06.94z\"/><path d=\"M17.41 7.96l-1.37-1.37c-.4-.4-.92-.59-1.43-.59-.52 0-1.04.2-1.43.59L10.3 9.45l-7.72 7.72c-.78.78-.78 2.05 0 2.83L4 21.41c.39.39.9.59 1.41.59.51 0 1.02-.2 1.41-.59l7.78-7.78 2.81-2.81c.8-.78.8-2.07 0-2.86zM5.41 20L4 18.59l7.72-7.72 1.47 1.35L5.41 20z\"/>\n",
       "  </svg>\n",
       "      </button>\n",
       "\n",
       "\n",
       "\n",
       "    <div id=\"df-c85f7258-b6c0-4443-b102-f8dfd2bab5ca\">\n",
       "      <button class=\"colab-df-quickchart\" onclick=\"quickchart('df-c85f7258-b6c0-4443-b102-f8dfd2bab5ca')\"\n",
       "              title=\"Suggest charts.\"\n",
       "              style=\"display:none;\">\n",
       "\n",
       "<svg xmlns=\"http://www.w3.org/2000/svg\" height=\"24px\"viewBox=\"0 0 24 24\"\n",
       "     width=\"24px\">\n",
       "    <g>\n",
       "        <path d=\"M19 3H5c-1.1 0-2 .9-2 2v14c0 1.1.9 2 2 2h14c1.1 0 2-.9 2-2V5c0-1.1-.9-2-2-2zM9 17H7v-7h2v7zm4 0h-2V7h2v10zm4 0h-2v-4h2v4z\"/>\n",
       "    </g>\n",
       "</svg>\n",
       "      </button>\n",
       "    </div>\n",
       "\n",
       "<style>\n",
       "  .colab-df-quickchart {\n",
       "    background-color: #E8F0FE;\n",
       "    border: none;\n",
       "    border-radius: 50%;\n",
       "    cursor: pointer;\n",
       "    display: none;\n",
       "    fill: #1967D2;\n",
       "    height: 32px;\n",
       "    padding: 0 0 0 0;\n",
       "    width: 32px;\n",
       "  }\n",
       "\n",
       "  .colab-df-quickchart:hover {\n",
       "    background-color: #E2EBFA;\n",
       "    box-shadow: 0px 1px 2px rgba(60, 64, 67, 0.3), 0px 1px 3px 1px rgba(60, 64, 67, 0.15);\n",
       "    fill: #174EA6;\n",
       "  }\n",
       "\n",
       "  [theme=dark] .colab-df-quickchart {\n",
       "    background-color: #3B4455;\n",
       "    fill: #D2E3FC;\n",
       "  }\n",
       "\n",
       "  [theme=dark] .colab-df-quickchart:hover {\n",
       "    background-color: #434B5C;\n",
       "    box-shadow: 0px 1px 3px 1px rgba(0, 0, 0, 0.15);\n",
       "    filter: drop-shadow(0px 1px 2px rgba(0, 0, 0, 0.3));\n",
       "    fill: #FFFFFF;\n",
       "  }\n",
       "</style>\n",
       "\n",
       "    <script>\n",
       "      async function quickchart(key) {\n",
       "        const containerElement = document.querySelector('#' + key);\n",
       "        const charts = await google.colab.kernel.invokeFunction(\n",
       "            'suggestCharts', [key], {});\n",
       "      }\n",
       "    </script>\n",
       "\n",
       "      <script>\n",
       "\n",
       "function displayQuickchartButton(domScope) {\n",
       "  let quickchartButtonEl =\n",
       "    domScope.querySelector('#df-c85f7258-b6c0-4443-b102-f8dfd2bab5ca button.colab-df-quickchart');\n",
       "  quickchartButtonEl.style.display =\n",
       "    google.colab.kernel.accessAllowed ? 'block' : 'none';\n",
       "}\n",
       "\n",
       "        displayQuickchartButton(document);\n",
       "      </script>\n",
       "      <style>\n",
       "    .colab-df-container {\n",
       "      display:flex;\n",
       "      flex-wrap:wrap;\n",
       "      gap: 12px;\n",
       "    }\n",
       "\n",
       "    .colab-df-convert {\n",
       "      background-color: #E8F0FE;\n",
       "      border: none;\n",
       "      border-radius: 50%;\n",
       "      cursor: pointer;\n",
       "      display: none;\n",
       "      fill: #1967D2;\n",
       "      height: 32px;\n",
       "      padding: 0 0 0 0;\n",
       "      width: 32px;\n",
       "    }\n",
       "\n",
       "    .colab-df-convert:hover {\n",
       "      background-color: #E2EBFA;\n",
       "      box-shadow: 0px 1px 2px rgba(60, 64, 67, 0.3), 0px 1px 3px 1px rgba(60, 64, 67, 0.15);\n",
       "      fill: #174EA6;\n",
       "    }\n",
       "\n",
       "    [theme=dark] .colab-df-convert {\n",
       "      background-color: #3B4455;\n",
       "      fill: #D2E3FC;\n",
       "    }\n",
       "\n",
       "    [theme=dark] .colab-df-convert:hover {\n",
       "      background-color: #434B5C;\n",
       "      box-shadow: 0px 1px 3px 1px rgba(0, 0, 0, 0.15);\n",
       "      filter: drop-shadow(0px 1px 2px rgba(0, 0, 0, 0.3));\n",
       "      fill: #FFFFFF;\n",
       "    }\n",
       "  </style>\n",
       "\n",
       "      <script>\n",
       "        const buttonEl =\n",
       "          document.querySelector('#df-8163ec9a-7ada-4aa5-95a3-508f5fc2b8a9 button.colab-df-convert');\n",
       "        buttonEl.style.display =\n",
       "          google.colab.kernel.accessAllowed ? 'block' : 'none';\n",
       "\n",
       "        async function convertToInteractive(key) {\n",
       "          const element = document.querySelector('#df-8163ec9a-7ada-4aa5-95a3-508f5fc2b8a9');\n",
       "          const dataTable =\n",
       "            await google.colab.kernel.invokeFunction('convertToInteractive',\n",
       "                                                     [key], {});\n",
       "          if (!dataTable) return;\n",
       "\n",
       "          const docLinkHtml = 'Like what you see? Visit the ' +\n",
       "            '<a target=\"_blank\" href=https://colab.research.google.com/notebooks/data_table.ipynb>data table notebook</a>'\n",
       "            + ' to learn more about interactive tables.';\n",
       "          element.innerHTML = '';\n",
       "          dataTable['output_type'] = 'display_data';\n",
       "          await google.colab.output.renderOutput(dataTable, element);\n",
       "          const docLink = document.createElement('div');\n",
       "          docLink.innerHTML = docLinkHtml;\n",
       "          element.appendChild(docLink);\n",
       "        }\n",
       "      </script>\n",
       "    </div>\n",
       "  </div>\n"
      ],
      "text/plain": [
       "                                           Headlines  \\\n",
       "0  Jim Cramer: A better way to invest in the Covi...   \n",
       "1     Cramer's lightning round: I would own Teradyne   \n",
       "2  Cramer's week ahead: Big week for earnings, ev...   \n",
       "3  IQ Capital CEO Keith Bliss says tech and healt...   \n",
       "4  Wall Street delivered the 'kind of pullback I'...   \n",
       "\n",
       "                             Time  \\\n",
       "0   7:51  PM ET Fri, 17 July 2020   \n",
       "1   7:33  PM ET Fri, 17 July 2020   \n",
       "2   7:25  PM ET Fri, 17 July 2020   \n",
       "3   4:24  PM ET Fri, 17 July 2020   \n",
       "4   7:36  PM ET Thu, 16 July 2020   \n",
       "\n",
       "                                         Description  ds_score  \n",
       "0  mad money host jim cramer recommend buy four c...    0.2500  \n",
       "1  mad money host jim cramer ring lightn round be...   -0.4939  \n",
       "2  well pay earn noncovid compani lancet publish ...    0.5574  \n",
       "3  keith bliss iq capit ceo join close bell talk ...    0.7096  \n",
       "4  look stock highqual compani go lower even thou...   -0.6597  "
      ]
     },
     "execution_count": 42,
     "metadata": {},
     "output_type": "execute_result"
    }
   ],
   "source": [
    "# analyze polarity score of values in description and  add new column of it in dataset\n",
    "ds_score = []\n",
    "for value in cnbc_reuter_copy['Description'].values:\n",
    "  ds_score.append(analyzer.polarity_scores(value)['compound'])\n",
    "\n",
    "cnbc_reuter_copy['ds_score'] = ds_score\n",
    "cnbc_reuter_copy.head()"
   ]
  },
  {
   "cell_type": "code",
   "execution_count": null,
   "metadata": {
    "id": "c9Aq-sQ7hYu_"
   },
   "outputs": [],
   "source": [
    "# apply the function  which decides sentiment to  polarity score column\n",
    "\n",
    "cnbc_reuter_copy['ds_score'] = cnbc_reuter_copy['ds_score'].apply(get_analysis)"
   ]
  },
  {
   "cell_type": "code",
   "execution_count": null,
   "metadata": {
    "colab": {
     "base_uri": "https://localhost:8080/",
     "height": 206
    },
    "id": "_qbzGlaXdoer",
    "outputId": "6f03a217-e54b-4990-ba5f-a21b5568346c"
   },
   "outputs": [
    {
     "data": {
      "text/html": [
       "\n",
       "\n",
       "  <div id=\"df-ced45989-7778-48e6-96b3-f08ceb43421c\">\n",
       "    <div class=\"colab-df-container\">\n",
       "      <div>\n",
       "<style scoped>\n",
       "    .dataframe tbody tr th:only-of-type {\n",
       "        vertical-align: middle;\n",
       "    }\n",
       "\n",
       "    .dataframe tbody tr th {\n",
       "        vertical-align: top;\n",
       "    }\n",
       "\n",
       "    .dataframe thead th {\n",
       "        text-align: right;\n",
       "    }\n",
       "</style>\n",
       "<table border=\"1\" class=\"dataframe\">\n",
       "  <thead>\n",
       "    <tr style=\"text-align: right;\">\n",
       "      <th></th>\n",
       "      <th>Headlines</th>\n",
       "      <th>Time</th>\n",
       "      <th>Description</th>\n",
       "      <th>ds_score</th>\n",
       "    </tr>\n",
       "  </thead>\n",
       "  <tbody>\n",
       "    <tr>\n",
       "      <th>0</th>\n",
       "      <td>Jim Cramer: A better way to invest in the Covi...</td>\n",
       "      <td>7:51  PM ET Fri, 17 July 2020</td>\n",
       "      <td>mad money host jim cramer recommend buy four c...</td>\n",
       "      <td>Positive</td>\n",
       "    </tr>\n",
       "    <tr>\n",
       "      <th>1</th>\n",
       "      <td>Cramer's lightning round: I would own Teradyne</td>\n",
       "      <td>7:33  PM ET Fri, 17 July 2020</td>\n",
       "      <td>mad money host jim cramer ring lightn round be...</td>\n",
       "      <td>Negative</td>\n",
       "    </tr>\n",
       "    <tr>\n",
       "      <th>2</th>\n",
       "      <td>Cramer's week ahead: Big week for earnings, ev...</td>\n",
       "      <td>7:25  PM ET Fri, 17 July 2020</td>\n",
       "      <td>well pay earn noncovid compani lancet publish ...</td>\n",
       "      <td>Positive</td>\n",
       "    </tr>\n",
       "    <tr>\n",
       "      <th>3</th>\n",
       "      <td>IQ Capital CEO Keith Bliss says tech and healt...</td>\n",
       "      <td>4:24  PM ET Fri, 17 July 2020</td>\n",
       "      <td>keith bliss iq capit ceo join close bell talk ...</td>\n",
       "      <td>Positive</td>\n",
       "    </tr>\n",
       "    <tr>\n",
       "      <th>4</th>\n",
       "      <td>Wall Street delivered the 'kind of pullback I'...</td>\n",
       "      <td>7:36  PM ET Thu, 16 July 2020</td>\n",
       "      <td>look stock highqual compani go lower even thou...</td>\n",
       "      <td>Negative</td>\n",
       "    </tr>\n",
       "  </tbody>\n",
       "</table>\n",
       "</div>\n",
       "      <button class=\"colab-df-convert\" onclick=\"convertToInteractive('df-ced45989-7778-48e6-96b3-f08ceb43421c')\"\n",
       "              title=\"Convert this dataframe to an interactive table.\"\n",
       "              style=\"display:none;\">\n",
       "\n",
       "  <svg xmlns=\"http://www.w3.org/2000/svg\" height=\"24px\"viewBox=\"0 0 24 24\"\n",
       "       width=\"24px\">\n",
       "    <path d=\"M0 0h24v24H0V0z\" fill=\"none\"/>\n",
       "    <path d=\"M18.56 5.44l.94 2.06.94-2.06 2.06-.94-2.06-.94-.94-2.06-.94 2.06-2.06.94zm-11 1L8.5 8.5l.94-2.06 2.06-.94-2.06-.94L8.5 2.5l-.94 2.06-2.06.94zm10 10l.94 2.06.94-2.06 2.06-.94-2.06-.94-.94-2.06-.94 2.06-2.06.94z\"/><path d=\"M17.41 7.96l-1.37-1.37c-.4-.4-.92-.59-1.43-.59-.52 0-1.04.2-1.43.59L10.3 9.45l-7.72 7.72c-.78.78-.78 2.05 0 2.83L4 21.41c.39.39.9.59 1.41.59.51 0 1.02-.2 1.41-.59l7.78-7.78 2.81-2.81c.8-.78.8-2.07 0-2.86zM5.41 20L4 18.59l7.72-7.72 1.47 1.35L5.41 20z\"/>\n",
       "  </svg>\n",
       "      </button>\n",
       "\n",
       "\n",
       "\n",
       "    <div id=\"df-8cf8b897-7b2c-4e44-ad1c-cb02ba3359b9\">\n",
       "      <button class=\"colab-df-quickchart\" onclick=\"quickchart('df-8cf8b897-7b2c-4e44-ad1c-cb02ba3359b9')\"\n",
       "              title=\"Suggest charts.\"\n",
       "              style=\"display:none;\">\n",
       "\n",
       "<svg xmlns=\"http://www.w3.org/2000/svg\" height=\"24px\"viewBox=\"0 0 24 24\"\n",
       "     width=\"24px\">\n",
       "    <g>\n",
       "        <path d=\"M19 3H5c-1.1 0-2 .9-2 2v14c0 1.1.9 2 2 2h14c1.1 0 2-.9 2-2V5c0-1.1-.9-2-2-2zM9 17H7v-7h2v7zm4 0h-2V7h2v10zm4 0h-2v-4h2v4z\"/>\n",
       "    </g>\n",
       "</svg>\n",
       "      </button>\n",
       "    </div>\n",
       "\n",
       "<style>\n",
       "  .colab-df-quickchart {\n",
       "    background-color: #E8F0FE;\n",
       "    border: none;\n",
       "    border-radius: 50%;\n",
       "    cursor: pointer;\n",
       "    display: none;\n",
       "    fill: #1967D2;\n",
       "    height: 32px;\n",
       "    padding: 0 0 0 0;\n",
       "    width: 32px;\n",
       "  }\n",
       "\n",
       "  .colab-df-quickchart:hover {\n",
       "    background-color: #E2EBFA;\n",
       "    box-shadow: 0px 1px 2px rgba(60, 64, 67, 0.3), 0px 1px 3px 1px rgba(60, 64, 67, 0.15);\n",
       "    fill: #174EA6;\n",
       "  }\n",
       "\n",
       "  [theme=dark] .colab-df-quickchart {\n",
       "    background-color: #3B4455;\n",
       "    fill: #D2E3FC;\n",
       "  }\n",
       "\n",
       "  [theme=dark] .colab-df-quickchart:hover {\n",
       "    background-color: #434B5C;\n",
       "    box-shadow: 0px 1px 3px 1px rgba(0, 0, 0, 0.15);\n",
       "    filter: drop-shadow(0px 1px 2px rgba(0, 0, 0, 0.3));\n",
       "    fill: #FFFFFF;\n",
       "  }\n",
       "</style>\n",
       "\n",
       "    <script>\n",
       "      async function quickchart(key) {\n",
       "        const containerElement = document.querySelector('#' + key);\n",
       "        const charts = await google.colab.kernel.invokeFunction(\n",
       "            'suggestCharts', [key], {});\n",
       "      }\n",
       "    </script>\n",
       "\n",
       "      <script>\n",
       "\n",
       "function displayQuickchartButton(domScope) {\n",
       "  let quickchartButtonEl =\n",
       "    domScope.querySelector('#df-8cf8b897-7b2c-4e44-ad1c-cb02ba3359b9 button.colab-df-quickchart');\n",
       "  quickchartButtonEl.style.display =\n",
       "    google.colab.kernel.accessAllowed ? 'block' : 'none';\n",
       "}\n",
       "\n",
       "        displayQuickchartButton(document);\n",
       "      </script>\n",
       "      <style>\n",
       "    .colab-df-container {\n",
       "      display:flex;\n",
       "      flex-wrap:wrap;\n",
       "      gap: 12px;\n",
       "    }\n",
       "\n",
       "    .colab-df-convert {\n",
       "      background-color: #E8F0FE;\n",
       "      border: none;\n",
       "      border-radius: 50%;\n",
       "      cursor: pointer;\n",
       "      display: none;\n",
       "      fill: #1967D2;\n",
       "      height: 32px;\n",
       "      padding: 0 0 0 0;\n",
       "      width: 32px;\n",
       "    }\n",
       "\n",
       "    .colab-df-convert:hover {\n",
       "      background-color: #E2EBFA;\n",
       "      box-shadow: 0px 1px 2px rgba(60, 64, 67, 0.3), 0px 1px 3px 1px rgba(60, 64, 67, 0.15);\n",
       "      fill: #174EA6;\n",
       "    }\n",
       "\n",
       "    [theme=dark] .colab-df-convert {\n",
       "      background-color: #3B4455;\n",
       "      fill: #D2E3FC;\n",
       "    }\n",
       "\n",
       "    [theme=dark] .colab-df-convert:hover {\n",
       "      background-color: #434B5C;\n",
       "      box-shadow: 0px 1px 3px 1px rgba(0, 0, 0, 0.15);\n",
       "      filter: drop-shadow(0px 1px 2px rgba(0, 0, 0, 0.3));\n",
       "      fill: #FFFFFF;\n",
       "    }\n",
       "  </style>\n",
       "\n",
       "      <script>\n",
       "        const buttonEl =\n",
       "          document.querySelector('#df-ced45989-7778-48e6-96b3-f08ceb43421c button.colab-df-convert');\n",
       "        buttonEl.style.display =\n",
       "          google.colab.kernel.accessAllowed ? 'block' : 'none';\n",
       "\n",
       "        async function convertToInteractive(key) {\n",
       "          const element = document.querySelector('#df-ced45989-7778-48e6-96b3-f08ceb43421c');\n",
       "          const dataTable =\n",
       "            await google.colab.kernel.invokeFunction('convertToInteractive',\n",
       "                                                     [key], {});\n",
       "          if (!dataTable) return;\n",
       "\n",
       "          const docLinkHtml = 'Like what you see? Visit the ' +\n",
       "            '<a target=\"_blank\" href=https://colab.research.google.com/notebooks/data_table.ipynb>data table notebook</a>'\n",
       "            + ' to learn more about interactive tables.';\n",
       "          element.innerHTML = '';\n",
       "          dataTable['output_type'] = 'display_data';\n",
       "          await google.colab.output.renderOutput(dataTable, element);\n",
       "          const docLink = document.createElement('div');\n",
       "          docLink.innerHTML = docLinkHtml;\n",
       "          element.appendChild(docLink);\n",
       "        }\n",
       "      </script>\n",
       "    </div>\n",
       "  </div>\n"
      ],
      "text/plain": [
       "                                           Headlines  \\\n",
       "0  Jim Cramer: A better way to invest in the Covi...   \n",
       "1     Cramer's lightning round: I would own Teradyne   \n",
       "2  Cramer's week ahead: Big week for earnings, ev...   \n",
       "3  IQ Capital CEO Keith Bliss says tech and healt...   \n",
       "4  Wall Street delivered the 'kind of pullback I'...   \n",
       "\n",
       "                             Time  \\\n",
       "0   7:51  PM ET Fri, 17 July 2020   \n",
       "1   7:33  PM ET Fri, 17 July 2020   \n",
       "2   7:25  PM ET Fri, 17 July 2020   \n",
       "3   4:24  PM ET Fri, 17 July 2020   \n",
       "4   7:36  PM ET Thu, 16 July 2020   \n",
       "\n",
       "                                         Description  ds_score  \n",
       "0  mad money host jim cramer recommend buy four c...  Positive  \n",
       "1  mad money host jim cramer ring lightn round be...  Negative  \n",
       "2  well pay earn noncovid compani lancet publish ...  Positive  \n",
       "3  keith bliss iq capit ceo join close bell talk ...  Positive  \n",
       "4  look stock highqual compani go lower even thou...  Negative  "
      ]
     },
     "execution_count": 44,
     "metadata": {},
     "output_type": "execute_result"
    }
   ],
   "source": [
    "cnbc_reuter_copy.head()"
   ]
  },
  {
   "cell_type": "code",
   "execution_count": null,
   "metadata": {
    "colab": {
     "base_uri": "https://localhost:8080/",
     "height": 537
    },
    "id": "BMaNV0ayeBoI",
    "outputId": "22d2b47d-abf8-4cce-f754-75cd13039030"
   },
   "outputs": [
    {
     "name": "stdout",
     "output_type": "stream",
     "text": [
      "Positive    15101\n",
      "Negative    12266\n",
      "Neutral      8148\n",
      "Name: ds_score, dtype: int64\n"
     ]
    },
    {
     "data": {
      "text/plain": [
       "<Axes: xlabel='ds_score', ylabel='count'>"
      ]
     },
     "execution_count": 45,
     "metadata": {},
     "output_type": "execute_result"
    },
    {
     "data": {
      "image/png": "[encoded data removed]",
      "text/plain": [
       "<Figure size 640x480 with 1 Axes>"
      ]
     },
     "metadata": {},
     "output_type": "display_data"
    }
   ],
   "source": [
    "import seaborn as sns\n",
    "# plot a count plot on description score column\n",
    "print(cnbc_reuter_copy['ds_score'].value_counts())\n",
    "sns.countplot(x = 'ds_score', data=cnbc_reuter_copy)"
   ]
  },
  {
   "cell_type": "markdown",
   "metadata": {
    "id": "r5q_doOjIQu-"
   },
   "source": [
    "In the description\n",
    "\n",
    "there are approx\n",
    "\n",
    "14000 positive statment\n",
    "\n",
    "12000 negative statment\n",
    "\n",
    "8000 neutral statment"
   ]
  },
  {
   "cell_type": "code",
   "execution_count": null,
   "metadata": {
    "colab": {
     "base_uri": "https://localhost:8080/",
     "height": 542
    },
    "id": "ptvoU5apeN4N",
    "outputId": "9b88acc5-6b46-483b-dbef-b251c95d86e6"
   },
   "outputs": [
    {
     "data": {
      "text/html": [
       "<html>\n",
       "<head><meta charset=\"utf-8\" /></head>\n",
       "<body>\n",
       "    <div>            <script src=\"https://cdnjs.cloudflare.com/ajax/libs/mathjax/2.7.5/MathJax.js?config=TeX-AMS-MML_SVG\"></script><script type=\"text/javascript\">if (window.MathJax && window.MathJax.Hub && window.MathJax.Hub.Config) {window.MathJax.Hub.Config({SVG: {font: \"STIX-Web\"}});}</script>                <script type=\"text/javascript\">window.PlotlyConfig = {MathJaxConfig: 'local'};</script>\n",
       "        <script src=\"https://cdn.plot.ly/plotly-2.18.2.min.js\"></script>                <div id=\"d4f84c77-e4b5-4f2d-be37-1d136cb2b9b4\" class=\"plotly-graph-div\" style=\"height:525px; width:100%;\"></div>            <script type=\"text/javascript\">                                    window.PLOTLYENV=window.PLOTLYENV || {};                                    if (document.getElementById(\"d4f84c77-e4b5-4f2d-be37-1d136cb2b9b4\")) {                    Plotly.newPlot(                        \"d4f84c77-e4b5-4f2d-be37-1d136cb2b9b4\",                        [{\"domain\":{\"x\":[0.0,1.0],\"y\":[0.0,1.0]},\"hovertemplate\":\"ds_score=%{label}<extra></extra>\",\"labels\":[\"Positive\",\"Negative\",\"Positive\",\"Positive\",\"Negative\",\"Negative\",\"Positive\",\"Negative\",\"Negative\",\"Neutral\",\"Negative\",\"Negative\",\"Negative\",\"Negative\",\"Positive\",\"Negative\",\"Negative\",\"Neutral\",\"Negative\",\"Negative\",\"Positive\",\"Positive\",\"Neutral\",\"Negative\",\"Negative\",\"Negative\",\"Negative\",\"Negative\",\"Negative\",\"Positive\",\"Negative\",\"Positive\",\"Positive\",\"Negative\",\"Neutral\",\"Positive\",\"Negative\",\"Negative\",\"Positive\",\"Negative\",\"Negative\",\"Neutral\",\"Positive\",\"Positive\",\"Neutral\",\"Negative\",\"Negative\",\"Neutral\",\"Negative\",\"Negative\",\"Positive\",\"Negative\",\"Positive\",\"Negative\",\"Negative\",\"Negative\",\"Negative\",\"Negative\",\"Negative\",\"Positive\",\"Negative\",\"Neutral\",\"Negative\",\"Negative\",\"Negative\",\"Negative\",\"Negative\",\"Negative\",\"Negative\",\"Neutral\",\"Negative\",\"Neutral\",\"Negative\",\"Neutral\",\"Negative\",\"Positive\",\"Negative\",\"Negative\",\"Positive\",\"Negative\",\"Negative\",\"Positive\",\"Negative\",\"Negative\",\"Negative\",\"Neutral\",\"Positive\",\"Positive\",\"Neutral\",\"Negative\",\"Negative\",\"Positive\",\"Positive\",\"Negative\",\"Negative\",\"Negative\",\"Positive\",\"Negative\",\"Positive\",\"Positive\",\"Negative\",\"Negative\",\"Negative\",\"Negative\",\"Negative\",\"Positive\",\"Positive\",\"Negative\",\"Negative\",\"Neutral\",\"Positive\",\"Negative\",\"Positive\",\"Neutral\",\"Negative\",\"Negative\",\"Positive\",\"Positive\",\"Negative\",\"Negative\",\"Negative\",\"Negative\",\"Negative\",\"Positive\",\"Positive\",\"Positive\",\"Negative\",\"Negative\",\"Negative\",\"Negative\",\"Negative\",\"Negative\",\"Negative\",\"Negative\",\"Negative\",\"Positive\",\"Positive\",\"Negative\",\"Neutral\",\"Negative\",\"Positive\",\"Negative\",\"Negative\",\"Negative\",\"Negative\",\"Negative\",\"Negative\",\"Positive\",\"Neutral\",\"Negative\",\"Negative\",\"Negative\",\"Negative\",\"Negative\",\"Negative\",\"Neutral\",\"Negative\",\"Negative\",\"Negative\",\"Positive\",\"Negative\",\"Negative\",\"Negative\",\"Negative\",\"Negative\",\"Negative\",\"Negative\",\"Positive\",\"Positive\",\"Negative\",\"Negative\",\"Neutral\",\"Negative\",\"Positive\",\"Positive\",\"Negative\",\"Negative\",\"Positive\",\"Negative\",\"Negative\",\"Positive\",\"Neutral\",\"Negative\",\"Negative\",\"Negative\",\"Positive\",\"Positive\",\"Negative\",\"Negative\",\"Positive\",\"Positive\",\"Negative\",\"Negative\",\"Negative\",\"Neutral\",\"Negative\",\"Negative\",\"Negative\",\"Positive\",\"Positive\",\"Negative\",\"Neutral\",\"Positive\",\"Negative\",\"Positive\",\"Positive\",\"Negative\",\"Negative\",\"Positive\",\"Positive\",\"Negative\",\"Neutral\",\"Positive\",\"Negative\",\"Positive\",\"Negative\",\"Neutral\",\"Negative\",\"Negative\",\"Negative\",\"Negative\",\"Negative\",\"Positive\",\"Negative\",\"Negative\",\"Positive\",\"Neutral\",\"Neutral\",\"Negative\",\"Negative\",\"Positive\",\"Positive\",\"Positive\",\"Negative\",\"Negative\",\"Negative\",\"Negative\",\"Positive\",\"Negative\",\"Negative\",\"Negative\",\"Positive\",\"Neutral\",\"Negative\",\"Negative\",\"Negative\",\"Negative\",\"Negative\",\"Negative\",\"Negative\",\"Negative\",\"Negative\",\"Neutral\",\"Negative\",\"Negative\",\"Positive\",\"Positive\",\"Positive\",\"Negative\",\"Negative\",\"Negative\",\"Positive\",\"Negative\",\"Negative\",\"Negative\",\"Negative\",\"Positive\",\"Negative\",\"Neutral\",\"Negative\",\"Positive\",\"Neutral\",\"Negative\",\"Negative\",\"Negative\",\"Positive\",\"Negative\",\"Neutral\",\"Negative\",\"Positive\",\"Negative\",\"Negative\",\"Negative\",\"Positive\",\"Negative\",\"Negative\",\"Negative\",\"Negative\",\"Negative\",\"Negative\",\"Negative\",\"Negative\",\"Positive\",\"Negative\",\"Negative\",\"Neutral\",\"Neutral\",\"Negative\",\"Negative\",\"Negative\",\"Negative\",\"Positive\",\"Neutral\",\"Negative\",\"Positive\",\"Positive\",\"Neutral\",\"Negative\",\"Neutral\",\"Positive\",\"Positive\",\"Negative\",\"Negative\",\"Neutral\",\"Neutral\",\"Negative\",\"Negative\",\"Positive\",\"Positive\",\"Positive\",\"Positive\",\"Negative\",\"Neutral\",\"Neutral\",\"Negative\",\"Negative\",\"Negative\",\"Negative\",\"Negative\",\"Positive\",\"Negative\",\"Positive\",\"Negative\",\"Negative\",\"Neutral\",\"Negative\",\"Negative\",\"Negative\",\"Negative\",\"Negative\",\"Neutral\",\"Neutral\",\"Negative\",\"Positive\",\"Positive\",\"Positive\",\"Negative\",\"Positive\",\"Negative\",\"Positive\",\"Neutral\",\"Negative\",\"Neutral\",\"Positive\",\"Negative\",\"Neutral\",\"Negative\",\"Negative\",\"Neutral\",\"Neutral\",\"Neutral\",\"Negative\",\"Neutral\",\"Negative\",\"Negative\",\"Negative\",\"Negative\",\"Negative\",\"Positive\",\"Negative\",\"Neutral\",\"Negative\",\"Positive\",\"Negative\",\"Negative\",\"Neutral\",\"Neutral\",\"Neutral\",\"Negative\",\"Negative\",\"Positive\",\"Positive\",\"Negative\",\"Neutral\",\"Negative\",\"Neutral\",\"Neutral\",\"Neutral\",\"Positive\",\"Neutral\",\"Neutral\",\"Negative\",\"Negative\",\"Negative\",\"Positive\",\"Negative\",\"Neutral\",\"Neutral\",\"Negative\",\"Negative\",\"Positive\",\"Negative\",\"Positive\",\"Negative\",\"Neutral\",\"Positive\",\"Neutral\",\"Negative\",\"Negative\",\"Positive\",\"Positive\",\"Positive\",\"Negative\",\"Positive\",\"Neutral\",\"Positive\",\"Negative\",\"Negative\",\"Negative\",\"Positive\",\"Neutral\",\"Negative\",\"Negative\",\"Negative\",\"Positive\",\"Negative\",\"Negative\",\"Negative\",\"Positive\",\"Positive\",\"Negative\",\"Negative\",\"Neutral\",\"Positive\",\"Neutral\",\"Negative\",\"Negative\",\"Negative\",\"Positive\",\"Positive\",\"Neutral\",\"Neutral\",\"Positive\",\"Negative\",\"Negative\",\"Positive\",\"Neutral\",\"Negative\",\"Negative\",\"Neutral\",\"Neutral\",\"Negative\",\"Neutral\",\"Neutral\",\"Negative\",\"Negative\",\"Negative\",\"Positive\",\"Positive\",\"Neutral\",\"Negative\",\"Negative\",\"Neutral\",\"Negative\",\"Neutral\",\"Positive\",\"Positive\",\"Positive\",\"Neutral\",\"Neutral\",\"Neutral\",\"Positive\",\"Positive\",\"Neutral\",\"Positive\",\"Positive\",\"Neutral\",\"Positive\",\"Negative\",\"Positive\",\"Negative\",\"Negative\",\"Negative\",\"Negative\",\"Positive\",\"Positive\",\"Positive\",\"Negative\",\"Negative\",\"Neutral\",\"Negative\",\"Positive\",\"Negative\",\"Negative\",\"Negative\",\"Negative\",\"Negative\",\"Neutral\",\"Neutral\",\"Positive\",\"Negative\",\"Negative\",\"Negative\",\"Negative\",\"Negative\",\"Neutral\",\"Positive\",\"Negative\",\"Negative\",\"Negative\",\"Neutral\",\"Positive\",\"Neutral\",\"Positive\",\"Negative\",\"Positive\",\"Negative\",\"Negative\",\"Positive\",\"Negative\",\"Negative\",\"Neutral\",\"Negative\",\"Negative\",\"Positive\",\"Negative\",\"Positive\",\"Positive\",\"Negative\",\"Positive\",\"Negative\",\"Negative\",\"Negative\",\"Negative\",\"Negative\",\"Positive\",\"Neutral\",\"Negative\",\"Neutral\",\"Negative\",\"Positive\",\"Neutral\",\"Negative\",\"Negative\",\"Negative\",\"Negative\",\"Negative\",\"Neutral\",\"Neutral\",\"Positive\",\"Positive\",\"Positive\",\"Negative\",\"Positive\",\"Positive\",\"Negative\",\"Negative\",\"Positive\",\"Negative\",\"Neutral\",\"Positive\",\"Negative\",\"Negative\",\"Negative\",\"Negative\",\"Positive\",\"Neutral\",\"Negative\",\"Positive\",\"Positive\",\"Neutral\",\"Neutral\",\"Neutral\",\"Neutral\",\"Positive\",\"Positive\",\"Positive\",\"Neutral\",\"Negative\",\"Positive\",\"Neutral\",\"Positive\",\"Neutral\",\"Positive\",\"Positive\",\"Neutral\",\"Positive\",\"Negative\",\"Positive\",\"Negative\",\"Neutral\",\"Negative\",\"Negative\",\"Positive\",\"Positive\",\"Negative\",\"Negative\",\"Positive\",\"Negative\",\"Negative\",\"Negative\",\"Negative\",\"Negative\",\"Negative\",\"Positive\",\"Neutral\",\"Negative\",\"Negative\",\"Negative\",\"Positive\",\"Positive\",\"Negative\",\"Neutral\",\"Negative\",\"Neutral\",\"Negative\",\"Negative\",\"Negative\",\"Negative\",\"Positive\",\"Neutral\",\"Negative\",\"Negative\",\"Negative\",\"Positive\",\"Neutral\",\"Negative\",\"Negative\",\"Positive\",\"Positive\",\"Neutral\",\"Neutral\",\"Negative\",\"Negative\",\"Negative\",\"Positive\",\"Negative\",\"Negative\",\"Negative\",\"Negative\",\"Positive\",\"Neutral\",\"Positive\",\"Negative\",\"Negative\",\"Negative\",\"Negative\",\"Negative\",\"Negative\",\"Negative\",\"Negative\",\"Negative\",\"Negative\",\"Positive\",\"Negative\",\"Negative\",\"Negative\",\"Positive\",\"Negative\",\"Neutral\",\"Negative\",\"Negative\",\"Negative\",\"Negative\",\"Negative\",\"Positive\",\"Positive\",\"Neutral\",\"Neutral\",\"Positive\",\"Positive\",\"Negative\",\"Positive\",\"Positive\",\"Positive\",\"Neutral\",\"Positive\",\"Negative\",\"Positive\",\"Negative\",\"Negative\",\"Negative\",\"Neutral\",\"Positive\",\"Negative\",\"Neutral\",\"Positive\",\"Negative\",\"Neutral\",\"Neutral\",\"Negative\",\"Negative\",\"Neutral\",\"Negative\",\"Negative\",\"Negative\",\"Positive\",\"Negative\",\"Negative\",\"Negative\",\"Positive\",\"Negative\",\"Negative\",\"Neutral\",\"Negative\",\"Positive\",\"Negative\",\"Positive\",\"Neutral\",\"Negative\",\"Negative\",\"Negative\",\"Negative\",\"Positive\",\"Positive\",\"Positive\",\"Negative\",\"Positive\",\"Positive\",\"Negative\",\"Positive\",\"Positive\",\"Neutral\",\"Negative\",\"Positive\",\"Negative\",\"Negative\",\"Negative\",\"Negative\",\"Positive\",\"Neutral\",\"Negative\",\"Positive\",\"Negative\",\"Negative\",\"Negative\",\"Neutral\",\"Neutral\",\"Negative\",\"Positive\",\"Negative\",\"Negative\",\"Negative\",\"Negative\",\"Negative\",\"Negative\",\"Neutral\",\"Negative\",\"Negative\",\"Negative\",\"Negative\",\"Neutral\",\"Negative\",\"Negative\",\"Negative\",\"Positive\",\"Negative\",\"Neutral\",\"Positive\",\"Negative\",\"Neutral\",\"Negative\",\"Negative\",\"Negative\",\"Neutral\",\"Negative\",\"Neutral\",\"Positive\",\"Positive\",\"Positive\",\"Negative\",\"Neutral\",\"Negative\",\"Positive\",\"Negative\",\"Negative\",\"Negative\",\"Negative\",\"Neutral\",\"Negative\",\"Negative\",\"Positive\",\"Positive\",\"Positive\",\"Positive\",\"Neutral\",\"Positive\",\"Negative\",\"Positive\",\"Neutral\",\"Negative\",\"Neutral\",\"Positive\",\"Neutral\",\"Negative\",\"Positive\",\"Negative\",\"Negative\",\"Positive\",\"Positive\",\"Positive\",\"Neutral\",\"Neutral\",\"Positive\",\"Neutral\",\"Positive\",\"Negative\",\"Neutral\",\"Neutral\",\"Negative\",\"Neutral\",\"Positive\",\"Positive\",\"Neutral\",\"Negative\",\"Negative\",\"Positive\",\"Neutral\",\"Negative\",\"Negative\",\"Neutral\",\"Positive\",\"Neutral\",\"Positive\",\"Neutral\",\"Positive\",\"Positive\",\"Positive\",\"Negative\",\"Positive\",\"Negative\",\"Positive\",\"Negative\",\"Negative\",\"Neutral\",\"Neutral\",\"Negative\",\"Positive\",\"Positive\",\"Neutral\",\"Positive\",\"Neutral\",\"Negative\",\"Negative\",\"Negative\",\"Neutral\",\"Neutral\",\"Positive\",\"Neutral\",\"Negative\",\"Negative\",\"Neutral\",\"Negative\",\"Positive\",\"Negative\",\"Neutral\",\"Neutral\",\"Positive\",\"Neutral\",\"Positive\",\"Positive\",\"Positive\",\"Negative\",\"Neutral\",\"Positive\",\"Positive\",\"Positive\",\"Neutral\",\"Neutral\",\"Positive\",\"Positive\",\"Negative\",\"Negative\",\"Neutral\",\"Neutral\",\"Negative\",\"Negative\",\"Neutral\",\"Positive\",\"Positive\",\"Neutral\",\"Neutral\",\"Positive\",\"Positive\",\"Positive\",\"Positive\",\"Neutral\",\"Neutral\",\"Positive\",\"Negative\",\"Neutral\",\"Negative\",\"Neutral\",\"Negative\",\"Neutral\",\"Positive\",\"Neutral\",\"Negative\",\"Positive\",\"Positive\",\"Neutral\",\"Neutral\",\"Positive\",\"Negative\",\"Positive\",\"Neutral\",\"Neutral\",\"Neutral\",\"Negative\",\"Negative\",\"Positive\",\"Negative\",\"Neutral\",\"Positive\",\"Positive\",\"Negative\",\"Neutral\",\"Positive\",\"Positive\",\"Neutral\",\"Neutral\",\"Positive\",\"Neutral\",\"Neutral\",\"Negative\",\"Negative\",\"Positive\",\"Positive\",\"Positive\",\"Neutral\",\"Positive\",\"Neutral\",\"Positive\",\"Positive\",\"Neutral\",\"Negative\",\"Neutral\",\"Negative\",\"Neutral\",\"Neutral\",\"Negative\",\"Positive\",\"Neutral\",\"Neutral\",\"Neutral\",\"Positive\",\"Neutral\",\"Positive\",\"Neutral\",\"Neutral\",\"Negative\",\"Neutral\",\"Neutral\",\"Neutral\",\"Positive\",\"Negative\",\"Negative\",\"Neutral\",\"Positive\",\"Positive\",\"Neutral\",\"Positive\",\"Positive\",\"Positive\",\"Neutral\",\"Positive\",\"Neutral\",\"Positive\",\"Positive\",\"Positive\",\"Negative\",\"Negative\",\"Neutral\",\"Neutral\",\"Neutral\",\"Neutral\",\"Negative\",\"Neutral\",\"Positive\",\"Neutral\",\"Negative\",\"Negative\",\"Positive\",\"Positive\",\"Positive\",\"Positive\",\"Positive\",\"Positive\",\"Neutral\",\"Negative\",\"Negative\",\"Positive\",\"Negative\",\"Negative\",\"Positive\",\"Positive\",\"Neutral\",\"Positive\",\"Negative\",\"Neutral\",\"Negative\",\"Negative\",\"Negative\",\"Neutral\",\"Neutral\",\"Positive\",\"Negative\",\"Positive\",\"Neutral\",\"Positive\",\"Positive\",\"Positive\",\"Positive\",\"Negative\",\"Negative\",\"Neutral\",\"Positive\",\"Neutral\",\"Positive\",\"Positive\",\"Neutral\",\"Neutral\",\"Neutral\",\"Neutral\",\"Negative\",\"Positive\",\"Neutral\",\"Neutral\",\"Neutral\",\"Neutral\",\"Positive\",\"Neutral\",\"Neutral\",\"Positive\",\"Neutral\",\"Neutral\",\"Negative\",\"Negative\",\"Positive\",\"Negative\",\"Negative\",\"Positive\",\"Neutral\",\"Positive\",\"Positive\",\"Negative\",\"Positive\",\"Neutral\",\"Positive\",\"Positive\",\"Positive\",\"Neutral\",\"Neutral\",\"Positive\",\"Negative\",\"Positive\",\"Negative\",\"Neutral\",\"Negative\",\"Positive\",\"Neutral\",\"Negative\",\"Neutral\",\"Positive\",\"Positive\",\"Neutral\",\"Neutral\",\"Positive\",\"Positive\",\"Neutral\",\"Positive\",\"Neutral\",\"Positive\",\"Neutral\",\"Negative\",\"Neutral\",\"Positive\",\"Negative\",\"Positive\",\"Positive\",\"Neutral\",\"Negative\",\"Negative\",\"Positive\",\"Neutral\",\"Positive\",\"Neutral\",\"Positive\",\"Neutral\",\"Neutral\",\"Neutral\",\"Positive\",\"Positive\",\"Positive\",\"Positive\",\"Negative\",\"Positive\",\"Neutral\",\"Positive\",\"Positive\",\"Neutral\",\"Neutral\",\"Neutral\",\"Negative\",\"Negative\",\"Positive\",\"Neutral\",\"Negative\",\"Positive\",\"Positive\",\"Positive\",\"Neutral\",\"Negative\",\"Positive\",\"Positive\",\"Positive\",\"Negative\",\"Positive\",\"Neutral\",\"Positive\",\"Neutral\",\"Neutral\",\"Negative\",\"Positive\",\"Positive\",\"Negative\",\"Negative\",\"Neutral\",\"Positive\",\"Neutral\",\"Positive\",\"Positive\",\"Negative\",\"Neutral\",\"Neutral\",\"Positive\",\"Negative\",\"Neutral\",\"Neutral\",\"Positive\",\"Positive\",\"Neutral\",\"Neutral\",\"Positive\",\"Neutral\",\"Positive\",\"Negative\",\"Negative\",\"Neutral\",\"Positive\",\"Positive\",\"Neutral\",\"Negative\",\"Neutral\",\"Neutral\",\"Positive\",\"Negative\",\"Neutral\",\"Neutral\",\"Neutral\",\"Neutral\",\"Negative\",\"Positive\",\"Neutral\",\"Positive\",\"Neutral\",\"Positive\",\"Negative\",\"Neutral\",\"Neutral\",\"Positive\",\"Negative\",\"Neutral\",\"Neutral\",\"Neutral\",\"Negative\",\"Neutral\",\"Positive\",\"Neutral\",\"Positive\",\"Neutral\",\"Positive\",\"Negative\",\"Negative\",\"Positive\",\"Negative\",\"Neutral\",\"Neutral\",\"Neutral\",\"Positive\",\"Negative\",\"Neutral\",\"Neutral\",\"Positive\",\"Positive\",\"Negative\",\"Negative\",\"Neutral\",\"Neutral\",\"Positive\",\"Negative\",\"Negative\",\"Neutral\",\"Positive\",\"Negative\",\"Positive\",\"Neutral\",\"Neutral\",\"Negative\",\"Neutral\",\"Neutral\",\"Neutral\",\"Positive\",\"Neutral\",\"Negative\",\"Neutral\",\"Positive\",\"Negative\",\"Positive\",\"Positive\",\"Positive\",\"Positive\",\"Positive\",\"Neutral\",\"Neutral\",\"Neutral\",\"Neutral\",\"Neutral\",\"Negative\",\"Neutral\",\"Negative\",\"Neutral\",\"Neutral\",\"Positive\",\"Negative\",\"Neutral\",\"Neutral\",\"Negative\",\"Neutral\",\"Negative\",\"Negative\",\"Neutral\",\"Positive\",\"Negative\",\"Positive\",\"Positive\",\"Negative\",\"Negative\",\"Neutral\",\"Negative\",\"Negative\",\"Negative\",\"Positive\",\"Negative\",\"Positive\",\"Negative\",\"Neutral\",\"Positive\",\"Negative\",\"Positive\",\"Negative\",\"Negative\",\"Positive\",\"Positive\",\"Positive\",\"Positive\",\"Neutral\",\"Neutral\",\"Positive\",\"Neutral\",\"Positive\",\"Negative\",\"Neutral\",\"Positive\",\"Neutral\",\"Positive\",\"Negative\",\"Neutral\",\"Positive\",\"Neutral\",\"Positive\",\"Neutral\",\"Positive\",\"Positive\",\"Negative\",\"Negative\",\"Negative\",\"Positive\",\"Neutral\",\"Neutral\",\"Negative\",\"Neutral\",\"Positive\",\"Neutral\",\"Neutral\",\"Neutral\",\"Positive\",\"Positive\",\"Positive\",\"Neutral\",\"Neutral\",\"Negative\",\"Positive\",\"Positive\",\"Positive\",\"Neutral\",\"Neutral\",\"Positive\",\"Neutral\",\"Positive\",\"Positive\",\"Neutral\",\"Negative\",\"Neutral\",\"Positive\",\"Positive\",\"Positive\",\"Positive\",\"Neutral\",\"Neutral\",\"Neutral\",\"Positive\",\"Positive\",\"Neutral\",\"Positive\",\"Neutral\",\"Neutral\",\"Neutral\",\"Neutral\",\"Positive\",\"Negative\",\"Negative\",\"Negative\",\"Positive\",\"Negative\",\"Neutral\",\"Positive\",\"Negative\",\"Neutral\",\"Neutral\",\"Neutral\",\"Neutral\",\"Positive\",\"Positive\",\"Neutral\",\"Neutral\",\"Negative\",\"Positive\",\"Positive\",\"Neutral\",\"Negative\",\"Neutral\",\"Neutral\",\"Positive\",\"Neutral\",\"Neutral\",\"Neutral\",\"Neutral\",\"Neutral\",\"Positive\",\"Neutral\",\"Neutral\",\"Negative\",\"Neutral\",\"Neutral\",\"Positive\",\"Positive\",\"Neutral\",\"Positive\",\"Negative\",\"Positive\",\"Neutral\",\"Neutral\",\"Neutral\",\"Positive\",\"Negative\",\"Neutral\",\"Neutral\",\"Negative\",\"Positive\",\"Neutral\",\"Negative\",\"Positive\",\"Neutral\",\"Negative\",\"Neutral\",\"Neutral\",\"Neutral\",\"Positive\",\"Negative\",\"Positive\",\"Positive\",\"Negative\",\"Positive\",\"Neutral\",\"Negative\",\"Neutral\",\"Negative\",\"Negative\",\"Neutral\",\"Neutral\",\"Neutral\",\"Positive\",\"Neutral\",\"Positive\",\"Positive\",\"Positive\",\"Neutral\",\"Neutral\",\"Positive\",\"Neutral\",\"Neutral\",\"Neutral\",\"Neutral\",\"Positive\",\"Positive\",\"Neutral\",\"Positive\",\"Negative\",\"Positive\",\"Positive\",\"Positive\",\"Positive\",\"Positive\",\"Neutral\",\"Neutral\",\"Negative\",\"Neutral\",\"Positive\",\"Neutral\",\"Neutral\",\"Negative\",\"Neutral\",\"Positive\",\"Negative\",\"Neutral\",\"Positive\",\"Neutral\",\"Neutral\",\"Positive\",\"Neutral\",\"Neutral\",\"Positive\",\"Positive\",\"Positive\",\"Neutral\",\"Negative\",\"Neutral\",\"Positive\",\"Negative\",\"Negative\",\"Neutral\",\"Neutral\",\"Positive\",\"Negative\",\"Positive\",\"Positive\",\"Neutral\",\"Negative\",\"Neutral\",\"Positive\",\"Neutral\",\"Negative\",\"Positive\",\"Positive\",\"Neutral\",\"Neutral\",\"Neutral\",\"Positive\",\"Positive\",\"Positive\",\"Negative\",\"Neutral\",\"Neutral\",\"Neutral\",\"Positive\",\"Neutral\",\"Neutral\",\"Positive\",\"Neutral\",\"Positive\",\"Negative\",\"Neutral\",\"Neutral\",\"Positive\",\"Positive\",\"Neutral\",\"Positive\",\"Neutral\",\"Positive\",\"Neutral\",\"Neutral\",\"Positive\",\"Positive\",\"Positive\",\"Positive\",\"Positive\",\"Positive\",\"Positive\",\"Negative\",\"Negative\",\"Negative\",\"Neutral\",\"Negative\",\"Positive\",\"Positive\",\"Neutral\",\"Neutral\",\"Positive\",\"Positive\",\"Positive\",\"Neutral\",\"Positive\",\"Neutral\",\"Positive\",\"Positive\",\"Neutral\",\"Neutral\",\"Positive\",\"Positive\",\"Positive\",\"Neutral\",\"Neutral\",\"Positive\",\"Neutral\",\"Neutral\",\"Positive\",\"Positive\",\"Neutral\",\"Neutral\",\"Positive\",\"Positive\",\"Negative\",\"Positive\",\"Positive\",\"Positive\",\"Neutral\",\"Neutral\",\"Positive\",\"Positive\",\"Positive\",\"Neutral\",\"Negative\",\"Positive\",\"Neutral\",\"Positive\",\"Positive\",\"Negative\",\"Positive\",\"Positive\",\"Neutral\",\"Positive\",\"Neutral\",\"Neutral\",\"Positive\",\"Negative\",\"Positive\",\"Positive\",\"Neutral\",\"Neutral\",\"Negative\",\"Neutral\",\"Neutral\",\"Negative\",\"Negative\",\"Positive\",\"Neutral\",\"Negative\",\"Negative\",\"Neutral\",\"Neutral\",\"Neutral\",\"Neutral\",\"Neutral\",\"Neutral\",\"Neutral\",\"Negative\",\"Positive\",\"Neutral\",\"Neutral\",\"Positive\",\"Positive\",\"Positive\",\"Neutral\",\"Neutral\",\"Neutral\",\"Positive\",\"Positive\",\"Negative\",\"Neutral\",\"Neutral\",\"Negative\",\"Neutral\",\"Positive\",\"Neutral\",\"Negative\",\"Negative\",\"Positive\",\"Positive\",\"Negative\",\"Positive\",\"Neutral\",\"Positive\",\"Positive\",\"Neutral\",\"Neutral\",\"Neutral\",\"Positive\",\"Positive\",\"Positive\",\"Neutral\",\"Positive\",\"Neutral\",\"Negative\",\"Neutral\",\"Positive\",\"Positive\",\"Neutral\",\"Positive\",\"Neutral\",\"Positive\",\"Neutral\",\"Neutral\",\"Positive\",\"Positive\",\"Positive\",\"Neutral\",\"Neutral\",\"Positive\",\"Neutral\",\"Positive\",\"Positive\",\"Negative\",\"Neutral\",\"Positive\",\"Positive\",\"Negative\",\"Negative\",\"Positive\",\"Neutral\",\"Positive\",\"Positive\",\"Neutral\",\"Neutral\",\"Positive\",\"Neutral\",\"Negative\",\"Neutral\",\"Neutral\",\"Neutral\",\"Positive\",\"Neutral\",\"Neutral\",\"Negative\",\"Positive\",\"Positive\",\"Positive\",\"Positive\",\"Neutral\",\"Positive\",\"Positive\",\"Positive\",\"Neutral\",\"Neutral\",\"Positive\",\"Neutral\",\"Positive\",\"Negative\",\"Positive\",\"Positive\",\"Positive\",\"Neutral\",\"Neutral\",\"Neutral\",\"Negative\",\"Negative\",\"Positive\",\"Positive\",\"Negative\",\"Neutral\",\"Positive\",\"Neutral\",\"Negative\",\"Positive\",\"Negative\",\"Positive\",\"Neutral\",\"Negative\",\"Neutral\",\"Negative\",\"Neutral\",\"Neutral\",\"Negative\",\"Negative\",\"Positive\",\"Positive\",\"Neutral\",\"Negative\",\"Neutral\",\"Positive\",\"Positive\",\"Negative\",\"Neutral\",\"Neutral\",\"Neutral\",\"Neutral\",\"Positive\",\"Positive\",\"Positive\",\"Neutral\",\"Neutral\",\"Positive\",\"Neutral\",\"Neutral\",\"Negative\",\"Positive\",\"Neutral\",\"Neutral\",\"Neutral\",\"Positive\",\"Positive\",\"Positive\",\"Neutral\",\"Negative\",\"Neutral\",\"Neutral\",\"Neutral\",\"Positive\",\"Neutral\",\"Negative\",\"Positive\",\"Positive\",\"Neutral\",\"Negative\",\"Positive\",\"Positive\",\"Neutral\",\"Positive\",\"Positive\",\"Positive\",\"Positive\",\"Neutral\",\"Negative\",\"Neutral\",\"Negative\",\"Positive\",\"Positive\",\"Neutral\",\"Neutral\",\"Neutral\",\"Neutral\",\"Positive\",\"Neutral\",\"Positive\",\"Positive\",\"Positive\",\"Positive\",\"Neutral\",\"Neutral\",\"Positive\",\"Positive\",\"Negative\",\"Positive\",\"Positive\",\"Negative\",\"Neutral\",\"Positive\",\"Neutral\",\"Neutral\",\"Positive\",\"Positive\",\"Positive\",\"Neutral\",\"Positive\",\"Positive\",\"Neutral\",\"Neutral\",\"Neutral\",\"Negative\",\"Neutral\",\"Neutral\",\"Positive\",\"Positive\",\"Negative\",\"Neutral\",\"Negative\",\"Neutral\",\"Neutral\",\"Positive\",\"Neutral\",\"Neutral\",\"Neutral\",\"Neutral\",\"Negative\",\"Positive\",\"Neutral\",\"Negative\",\"Positive\",\"Neutral\",\"Neutral\",\"Negative\",\"Positive\",\"Neutral\",\"Positive\",\"Neutral\",\"Positive\",\"Positive\",\"Neutral\",\"Negative\",\"Neutral\",\"Neutral\",\"Neutral\",\"Negative\",\"Negative\",\"Positive\",\"Neutral\",\"Positive\",\"Neutral\",\"Neutral\",\"Negative\",\"Negative\",\"Neutral\",\"Positive\",\"Positive\",\"Neutral\",\"Negative\",\"Neutral\",\"Negative\",\"Neutral\",\"Positive\",\"Negative\",\"Positive\",\"Negative\",\"Positive\",\"Negative\",\"Positive\",\"Neutral\",\"Neutral\",\"Neutral\",\"Negative\",\"Negative\",\"Neutral\",\"Positive\",\"Positive\",\"Negative\",\"Positive\",\"Positive\",\"Neutral\",\"Positive\",\"Positive\",\"Positive\",\"Neutral\",\"Positive\",\"Positive\",\"Positive\",\"Negative\",\"Negative\",\"Positive\",\"Neutral\",\"Negative\",\"Positive\",\"Positive\",\"Negative\",\"Negative\",\"Neutral\",\"Positive\",\"Negative\",\"Neutral\",\"Positive\",\"Neutral\",\"Positive\",\"Negative\",\"Negative\",\"Neutral\",\"Positive\",\"Positive\",\"Negative\",\"Negative\",\"Positive\",\"Positive\",\"Positive\",\"Neutral\",\"Positive\",\"Neutral\",\"Negative\",\"Neutral\",\"Positive\",\"Positive\",\"Positive\",\"Positive\",\"Neutral\",\"Negative\",\"Negative\",\"Positive\",\"Neutral\",\"Neutral\",\"Positive\",\"Negative\",\"Positive\",\"Neutral\",\"Positive\",\"Neutral\",\"Positive\",\"Negative\",\"Negative\",\"Negative\",\"Neutral\",\"Positive\",\"Negative\",\"Positive\",\"Positive\",\"Neutral\",\"Negative\",\"Positive\",\"Positive\",\"Neutral\",\"Positive\",\"Positive\",\"Positive\",\"Negative\",\"Neutral\",\"Positive\",\"Positive\",\"Neutral\",\"Positive\",\"Positive\",\"Neutral\",\"Negative\",\"Negative\",\"Positive\",\"Neutral\",\"Positive\",\"Positive\",\"Neutral\",\"Positive\",\"Positive\",\"Neutral\",\"Negative\",\"Positive\",\"Neutral\",\"Neutral\",\"Negative\",\"Neutral\",\"Positive\",\"Positive\",\"Positive\",\"Neutral\",\"Positive\",\"Negative\",\"Negative\",\"Negative\",\"Positive\",\"Positive\",\"Positive\",\"Positive\",\"Negative\",\"Neutral\",\"Neutral\",\"Positive\",\"Neutral\",\"Neutral\",\"Negative\",\"Neutral\",\"Neutral\",\"Positive\",\"Negative\",\"Positive\",\"Negative\",\"Positive\",\"Positive\",\"Positive\",\"Positive\",\"Neutral\",\"Neutral\",\"Positive\",\"Neutral\",\"Neutral\",\"Neutral\",\"Neutral\",\"Positive\",\"Negative\",\"Positive\",\"Positive\",\"Negative\",\"Neutral\",\"Neutral\",\"Positive\",\"Neutral\",\"Negative\",\"Positive\",\"Neutral\",\"Negative\",\"Neutral\",\"Positive\",\"Neutral\",\"Neutral\",\"Negative\",\"Negative\",\"Positive\",\"Neutral\",\"Neutral\",\"Neutral\",\"Positive\",\"Positive\",\"Positive\",\"Positive\",\"Positive\",\"Neutral\",\"Neutral\",\"Positive\",\"Neutral\",\"Negative\",\"Neutral\",\"Positive\",\"Negative\",\"Negative\",\"Negative\",\"Negative\",\"Negative\",\"Neutral\",\"Negative\",\"Neutral\",\"Negative\",\"Neutral\",\"Neutral\",\"Neutral\",\"Positive\",\"Neutral\",\"Positive\",\"Positive\",\"Positive\",\"Neutral\",\"Negative\",\"Positive\",\"Neutral\",\"Positive\",\"Negative\",\"Negative\",\"Positive\",\"Neutral\",\"Neutral\",\"Positive\",\"Positive\",\"Neutral\",\"Neutral\",\"Positive\",\"Negative\",\"Negative\",\"Positive\",\"Positive\",\"Neutral\",\"Neutral\",\"Positive\",\"Positive\",\"Positive\",\"Positive\",\"Positive\",\"Negative\",\"Negative\",\"Positive\",\"Positive\",\"Neutral\",\"Neutral\",\"Positive\",\"Positive\",\"Positive\",\"Negative\",\"Positive\",\"Neutral\",\"Negative\",\"Positive\",\"Neutral\",\"Positive\",\"Negative\",\"Negative\",\"Neutral\",\"Neutral\",\"Negative\",\"Neutral\",\"Positive\",\"Neutral\",\"Neutral\",\"Neutral\",\"Positive\",\"Positive\",\"Neutral\",\"Positive\",\"Negative\",\"Positive\",\"Positive\",\"Positive\",\"Neutral\",\"Neutral\",\"Positive\",\"Neutral\",\"Positive\",\"Neutral\",\"Negative\",\"Positive\",\"Positive\",\"Positive\",\"Negative\",\"Neutral\",\"Neutral\",\"Neutral\",\"Positive\",\"Neutral\",\"Positive\",\"Positive\",\"Neutral\",\"Neutral\",\"Positive\",\"Neutral\",\"Neutral\",\"Neutral\",\"Negative\",\"Positive\",\"Positive\",\"Neutral\",\"Positive\",\"Negative\",\"Neutral\",\"Positive\",\"Positive\",\"Positive\",\"Neutral\",\"Neutral\",\"Positive\",\"Neutral\",\"Negative\",\"Positive\",\"Positive\",\"Positive\",\"Positive\",\"Negative\",\"Positive\",\"Positive\",\"Neutral\",\"Positive\",\"Negative\",\"Negative\",\"Negative\",\"Negative\",\"Neutral\",\"Positive\",\"Neutral\",\"Neutral\",\"Neutral\",\"Neutral\",\"Negative\",\"Neutral\",\"Positive\",\"Positive\",\"Neutral\",\"Positive\",\"Positive\",\"Neutral\",\"Positive\",\"Neutral\",\"Positive\",\"Negative\",\"Neutral\",\"Positive\",\"Positive\",\"Positive\",\"Positive\",\"Neutral\",\"Neutral\",\"Neutral\",\"Positive\",\"Positive\",\"Positive\",\"Neutral\",\"Neutral\",\"Positive\",\"Negative\",\"Neutral\",\"Positive\",\"Positive\",\"Neutral\",\"Negative\",\"Positive\",\"Positive\",\"Negative\",\"Negative\",\"Positive\",\"Negative\",\"Neutral\",\"Negative\",\"Positive\",\"Neutral\",\"Negative\",\"Positive\",\"Positive\",\"Positive\",\"Negative\",\"Negative\",\"Neutral\",\"Positive\",\"Neutral\",\"Neutral\",\"Negative\",\"Neutral\",\"Positive\",\"Neutral\",\"Neutral\",\"Negative\",\"Negative\",\"Neutral\",\"Positive\",\"Positive\",\"Positive\",\"Positive\",\"Negative\",\"Negative\",\"Positive\",\"Negative\",\"Positive\",\"Neutral\",\"Negative\",\"Neutral\",\"Neutral\",\"Positive\",\"Positive\",\"Neutral\",\"Positive\",\"Positive\",\"Negative\",\"Negative\",\"Neutral\",\"Positive\",\"Negative\",\"Neutral\",\"Positive\",\"Neutral\",\"Neutral\",\"Neutral\",\"Positive\",\"Neutral\",\"Neutral\",\"Negative\",\"Positive\",\"Neutral\",\"Positive\",\"Positive\",\"Positive\",\"Positive\",\"Positive\",\"Negative\",\"Positive\",\"Negative\",\"Neutral\",\"Neutral\",\"Neutral\",\"Negative\",\"Negative\",\"Positive\",\"Positive\",\"Neutral\",\"Positive\",\"Positive\",\"Negative\",\"Positive\",\"Positive\",\"Positive\",\"Negative\",\"Negative\",\"Positive\",\"Negative\",\"Negative\",\"Negative\",\"Positive\",\"Negative\",\"Positive\",\"Neutral\",\"Neutral\",\"Neutral\",\"Neutral\",\"Neutral\",\"Positive\",\"Neutral\",\"Negative\",\"Positive\",\"Neutral\",\"Positive\",\"Positive\",\"Positive\",\"Neutral\",\"Neutral\",\"Neutral\",\"Positive\",\"Positive\",\"Positive\",\"Neutral\",\"Neutral\",\"Neutral\",\"Neutral\",\"Positive\",\"Neutral\",\"Neutral\",\"Neutral\",\"Neutral\",\"Negative\",\"Neutral\",\"Positive\",\"Neutral\",\"Neutral\",\"Negative\",\"Negative\",\"Neutral\",\"Negative\",\"Positive\",\"Neutral\",\"Neutral\",\"Neutral\",\"Neutral\",\"Negative\",\"Positive\",\"Positive\",\"Negative\",\"Negative\",\"Neutral\",\"Positive\",\"Positive\",\"Neutral\",\"Positive\",\"Negative\",\"Negative\",\"Neutral\",\"Positive\",\"Neutral\",\"Neutral\",\"Negative\",\"Neutral\",\"Neutral\",\"Negative\",\"Neutral\",\"Negative\",\"Positive\",\"Positive\",\"Positive\",\"Positive\",\"Negative\",\"Neutral\",\"Neutral\",\"Positive\",\"Positive\",\"Neutral\",\"Neutral\",\"Negative\",\"Positive\",\"Neutral\",\"Neutral\",\"Neutral\",\"Positive\",\"Positive\",\"Neutral\",\"Neutral\",\"Negative\",\"Positive\",\"Neutral\",\"Negative\",\"Positive\",\"Neutral\",\"Positive\",\"Positive\",\"Neutral\",\"Neutral\",\"Neutral\",\"Negative\",\"Positive\",\"Neutral\",\"Neutral\",\"Positive\",\"Positive\",\"Positive\",\"Neutral\",\"Positive\",\"Neutral\",\"Negative\",\"Neutral\",\"Neutral\",\"Positive\",\"Neutral\",\"Positive\",\"Neutral\",\"Neutral\",\"Neutral\",\"Positive\",\"Positive\",\"Positive\",\"Negative\",\"Negative\",\"Neutral\",\"Neutral\",\"Positive\",\"Positive\",\"Neutral\",\"Positive\",\"Negative\",\"Positive\",\"Negative\",\"Positive\",\"Negative\",\"Positive\",\"Positive\",\"Negative\",\"Negative\",\"Positive\",\"Positive\",\"Neutral\",\"Positive\",\"Positive\",\"Negative\",\"Neutral\",\"Neutral\",\"Positive\",\"Neutral\",\"Neutral\",\"Neutral\",\"Positive\",\"Negative\",\"Negative\",\"Neutral\",\"Positive\",\"Positive\",\"Positive\",\"Neutral\",\"Positive\",\"Negative\",\"Negative\",\"Negative\",\"Positive\",\"Neutral\",\"Neutral\",\"Neutral\",\"Positive\",\"Neutral\",\"Negative\",\"Neutral\",\"Neutral\",\"Positive\",\"Neutral\",\"Positive\",\"Positive\",\"Neutral\",\"Positive\",\"Positive\",\"Positive\",\"Negative\",\"Negative\",\"Positive\",\"Negative\",\"Positive\",\"Neutral\",\"Positive\",\"Negative\",\"Neutral\",\"Positive\",\"Neutral\",\"Negative\",\"Positive\",\"Negative\",\"Neutral\",\"Positive\",\"Positive\",\"Negative\",\"Negative\",\"Neutral\",\"Negative\",\"Neutral\",\"Positive\",\"Positive\",\"Negative\",\"Neutral\",\"Neutral\",\"Neutral\",\"Positive\",\"Positive\",\"Positive\",\"Negative\",\"Neutral\",\"Positive\",\"Negative\",\"Positive\",\"Negative\",\"Neutral\",\"Positive\",\"Neutral\",\"Positive\",\"Negative\",\"Neutral\",\"Negative\",\"Negative\",\"Positive\",\"Positive\",\"Neutral\",\"Positive\",\"Neutral\",\"Positive\",\"Positive\",\"Positive\",\"Neutral\",\"Negative\",\"Negative\",\"Neutral\",\"Neutral\",\"Positive\",\"Positive\",\"Negative\",\"Neutral\",\"Neutral\",\"Neutral\",\"Neutral\",\"Neutral\",\"Positive\",\"Negative\",\"Positive\",\"Positive\",\"Neutral\",\"Neutral\",\"Neutral\",\"Negative\",\"Positive\",\"Neutral\",\"Neutral\",\"Positive\",\"Positive\",\"Positive\",\"Positive\",\"Neutral\",\"Neutral\",\"Neutral\",\"Neutral\",\"Neutral\",\"Neutral\",\"Neutral\",\"Neutral\",\"Neutral\",\"Positive\",\"Neutral\",\"Neutral\",\"Positive\",\"Positive\",\"Neutral\",\"Negative\",\"Positive\",\"Positive\",\"Neutral\",\"Positive\",\"Positive\",\"Negative\",\"Positive\",\"Positive\",\"Positive\",\"Positive\",\"Positive\",\"Positive\",\"Neutral\",\"Positive\",\"Positive\",\"Negative\",\"Positive\",\"Neutral\",\"Positive\",\"Neutral\",\"Negative\",\"Positive\",\"Positive\",\"Neutral\",\"Neutral\",\"Neutral\",\"Negative\",\"Positive\",\"Negative\",\"Positive\",\"Positive\",\"Neutral\",\"Positive\",\"Neutral\",\"Negative\",\"Neutral\",\"Positive\",\"Neutral\",\"Neutral\",\"Neutral\",\"Neutral\",\"Neutral\",\"Negative\",\"Positive\",\"Negative\",\"Positive\",\"Neutral\",\"Negative\",\"Neutral\",\"Positive\",\"Neutral\",\"Positive\",\"Neutral\",\"Negative\",\"Neutral\",\"Positive\",\"Neutral\",\"Positive\",\"Positive\",\"Positive\",\"Neutral\",\"Negative\",\"Positive\",\"Neutral\",\"Positive\",\"Positive\",\"Positive\",\"Positive\",\"Neutral\",\"Neutral\",\"Neutral\",\"Negative\",\"Neutral\",\"Positive\",\"Positive\",\"Neutral\",\"Neutral\",\"Neutral\",\"Neutral\",\"Negative\",\"Neutral\",\"Neutral\",\"Neutral\",\"Positive\",\"Negative\",\"Negative\",\"Negative\",\"Neutral\",\"Neutral\",\"Neutral\",\"Neutral\",\"Neutral\",\"Neutral\",\"Negative\",\"Negative\",\"Neutral\",\"Neutral\",\"Neutral\",\"Positive\",\"Neutral\",\"Neutral\",\"Negative\",\"Neutral\",\"Positive\",\"Neutral\",\"Negative\",\"Positive\",\"Negative\",\"Neutral\",\"Neutral\",\"Positive\",\"Negative\",\"Positive\",\"Neutral\",\"Positive\",\"Neutral\",\"Negative\",\"Negative\",\"Positive\",\"Positive\",\"Negative\",\"Neutral\",\"Neutral\",\"Neutral\",\"Neutral\",\"Positive\",\"Positive\",\"Positive\",\"Neutral\",\"Positive\",\"Positive\",\"Positive\",\"Positive\",\"Positive\",\"Positive\",\"Negative\",\"Positive\",\"Positive\",\"Neutral\",\"Positive\",\"Positive\",\"Positive\",\"Positive\",\"Neutral\",\"Neutral\",\"Positive\",\"Neutral\",\"Positive\",\"Positive\",\"Neutral\",\"Positive\",\"Positive\",\"Neutral\",\"Positive\",\"Neutral\",\"Neutral\",\"Positive\",\"Positive\",\"Neutral\",\"Positive\",\"Positive\",\"Negative\",\"Neutral\",\"Neutral\",\"Positive\",\"Negative\",\"Positive\",\"Neutral\",\"Positive\",\"Neutral\",\"Positive\",\"Positive\",\"Positive\",\"Positive\",\"Negative\",\"Neutral\",\"Negative\",\"Neutral\",\"Positive\",\"Positive\",\"Positive\",\"Neutral\",\"Neutral\",\"Neutral\",\"Positive\",\"Positive\",\"Positive\",\"Neutral\",\"Neutral\",\"Positive\",\"Positive\",\"Positive\",\"Negative\",\"Neutral\",\"Positive\",\"Positive\",\"Neutral\",\"Positive\",\"Positive\",\"Negative\",\"Positive\",\"Negative\",\"Neutral\",\"Positive\",\"Neutral\",\"Negative\",\"Neutral\",\"Positive\",\"Negative\",\"Neutral\",\"Neutral\",\"Positive\",\"Neutral\",\"Neutral\",\"Negative\",\"Positive\",\"Negative\",\"Negative\",\"Positive\",\"Positive\",\"Negative\",\"Positive\",\"Negative\",\"Positive\",\"Negative\",\"Positive\",\"Positive\",\"Negative\",\"Positive\",\"Positive\",\"Negative\",\"Positive\",\"Neutral\",\"Neutral\",\"Neutral\",\"Neutral\",\"Positive\",\"Neutral\",\"Positive\",\"Positive\",\"Positive\",\"Neutral\",\"Neutral\",\"Positive\",\"Positive\",\"Negative\",\"Negative\",\"Negative\",\"Positive\",\"Neutral\",\"Positive\",\"Negative\",\"Neutral\",\"Neutral\",\"Positive\",\"Negative\",\"Negative\",\"Neutral\",\"Positive\",\"Negative\",\"Negative\",\"Negative\",\"Negative\",\"Positive\",\"Negative\",\"Negative\",\"Positive\",\"Negative\",\"Positive\",\"Negative\",\"Positive\",\"Positive\",\"Neutral\",\"Negative\",\"Negative\",\"Positive\",\"Positive\",\"Neutral\",\"Negative\",\"Positive\",\"Positive\",\"Neutral\",\"Neutral\",\"Positive\",\"Positive\",\"Positive\",\"Positive\",\"Negative\",\"Negative\",\"Negative\",\"Positive\",\"Positive\",\"Negative\",\"Positive\",\"Positive\",\"Positive\",\"Neutral\",\"Positive\",\"Neutral\",\"Negative\",\"Negative\",\"Positive\",\"Negative\",\"Negative\",\"Positive\",\"Neutral\",\"Positive\",\"Positive\",\"Negative\",\"Negative\",\"Positive\",\"Neutral\",\"Neutral\",\"Negative\",\"Negative\",\"Negative\",\"Negative\",\"Positive\",\"Negative\",\"Negative\",\"Negative\",\"Negative\",\"Positive\",\"Neutral\",\"Negative\",\"Neutral\",\"Negative\",\"Neutral\",\"Negative\",\"Positive\",\"Negative\",\"Positive\",\"Positive\",\"Positive\",\"Positive\",\"Negative\",\"Positive\",\"Positive\",\"Neutral\",\"Positive\",\"Positive\",\"Positive\",\"Positive\",\"Positive\",\"Positive\",\"Positive\",\"Negative\",\"Negative\",\"Positive\",\"Neutral\",\"Negative\",\"Positive\",\"Positive\",\"Negative\",\"Neutral\",\"Negative\",\"Positive\",\"Positive\",\"Neutral\",\"Negative\",\"Neutral\",\"Positive\",\"Positive\",\"Negative\",\"Positive\",\"Positive\",\"Negative\",\"Positive\",\"Neutral\",\"Neutral\",\"Positive\",\"Neutral\",\"Positive\",\"Neutral\",\"Positive\",\"Negative\",\"Neutral\",\"Positive\",\"Positive\",\"Negative\",\"Negative\",\"Positive\",\"Positive\",\"Positive\",\"Positive\",\"Positive\",\"Positive\",\"Neutral\",\"Positive\",\"Negative\",\"Negative\",\"Neutral\",\"Negative\",\"Negative\",\"Positive\",\"Positive\",\"Positive\",\"Neutral\",\"Neutral\",\"Positive\",\"Neutral\",\"Negative\",\"Positive\",\"Neutral\",\"Neutral\",\"Positive\",\"Positive\",\"Positive\",\"Positive\",\"Positive\",\"Positive\",\"Positive\",\"Neutral\",\"Positive\",\"Positive\",\"Positive\",\"Positive\",\"Positive\",\"Positive\",\"Positive\",\"Neutral\",\"Neutral\",\"Negative\",\"Positive\",\"Neutral\",\"Positive\",\"Positive\",\"Positive\",\"Neutral\",\"Positive\",\"Positive\",\"Negative\",\"Positive\",\"Positive\",\"Positive\",\"Positive\",\"Negative\",\"Positive\",\"Positive\",\"Positive\",\"Positive\",\"Negative\",\"Negative\",\"Neutral\",\"Positive\",\"Positive\",\"Positive\",\"Negative\",\"Negative\",\"Neutral\",\"Neutral\",\"Negative\",\"Positive\",\"Negative\",\"Positive\",\"Positive\",\"Negative\",\"Negative\",\"Negative\",\"Negative\",\"Positive\",\"Negative\",\"Negative\",\"Neutral\",\"Negative\",\"Positive\",\"Positive\",\"Positive\",\"Neutral\",\"Negative\",\"Positive\",\"Positive\",\"Positive\",\"Positive\",\"Neutral\",\"Negative\",\"Negative\",\"Positive\",\"Neutral\",\"Negative\",\"Neutral\",\"Negative\",\"Positive\",\"Negative\",\"Neutral\",\"Negative\",\"Negative\",\"Negative\",\"Neutral\",\"Positive\",\"Positive\",\"Positive\",\"Neutral\",\"Neutral\",\"Positive\",\"Neutral\",\"Negative\",\"Negative\",\"Neutral\",\"Negative\",\"Negative\",\"Positive\",\"Positive\",\"Negative\",\"Positive\",\"Neutral\",\"Positive\",\"Positive\",\"Negative\",\"Neutral\",\"Negative\",\"Positive\",\"Positive\",\"Positive\",\"Negative\",\"Negative\",\"Neutral\",\"Positive\",\"Positive\",\"Negative\",\"Positive\",\"Positive\",\"Negative\",\"Negative\",\"Positive\",\"Negative\",\"Negative\",\"Positive\",\"Neutral\",\"Neutral\",\"Positive\",\"Negative\",\"Negative\",\"Negative\",\"Negative\",\"Negative\",\"Positive\",\"Negative\",\"Neutral\",\"Positive\",\"Neutral\",\"Negative\",\"Positive\",\"Positive\",\"Neutral\",\"Neutral\",\"Positive\",\"Positive\",\"Negative\",\"Neutral\",\"Negative\",\"Positive\",\"Positive\",\"Positive\",\"Negative\",\"Positive\",\"Positive\",\"Neutral\",\"Positive\",\"Neutral\",\"Negative\",\"Neutral\",\"Positive\",\"Positive\",\"Negative\",\"Negative\",\"Negative\",\"Negative\",\"Positive\",\"Neutral\",\"Neutral\",\"Neutral\",\"Negative\",\"Positive\",\"Negative\",\"Neutral\",\"Positive\",\"Positive\",\"Negative\",\"Positive\",\"Negative\",\"Positive\",\"Negative\",\"Positive\",\"Neutral\",\"Positive\",\"Neutral\",\"Neutral\",\"Negative\",\"Neutral\",\"Positive\",\"Neutral\",\"Negative\",\"Positive\",\"Positive\",\"Positive\",\"Positive\",\"Neutral\",\"Positive\",\"Negative\",\"Positive\",\"Negative\",\"Neutral\",\"Negative\",\"Positive\",\"Positive\",\"Negative\",\"Positive\",\"Neutral\",\"Positive\",\"Positive\",\"Negative\",\"Neutral\",\"Negative\",\"Neutral\",\"Negative\",\"Negative\",\"Positive\",\"Negative\",\"Positive\",\"Positive\",\"Positive\",\"Neutral\",\"Neutral\",\"Negative\",\"Positive\",\"Positive\",\"Positive\",\"Negative\",\"Neutral\",\"Negative\",\"Negative\",\"Positive\",\"Positive\",\"Neutral\",\"Neutral\",\"Neutral\",\"Neutral\",\"Neutral\",\"Neutral\",\"Negative\",\"Negative\",\"Positive\",\"Negative\",\"Neutral\",\"Positive\",\"Positive\",\"Negative\",\"Positive\",\"Neutral\",\"Neutral\",\"Neutral\",\"Neutral\",\"Positive\",\"Negative\",\"Negative\",\"Negative\",\"Positive\",\"Negative\",\"Positive\",\"Positive\",\"Positive\",\"Positive\",\"Negative\",\"Neutral\",\"Positive\",\"Neutral\",\"Negative\",\"Negative\",\"Negative\",\"Neutral\",\"Neutral\",\"Positive\",\"Positive\",\"Negative\",\"Positive\",\"Negative\",\"Negative\",\"Positive\",\"Positive\",\"Negative\",\"Positive\",\"Negative\",\"Neutral\",\"Negative\",\"Negative\",\"Negative\",\"Neutral\",\"Neutral\",\"Positive\",\"Neutral\",\"Positive\",\"Positive\",\"Negative\",\"Negative\",\"Neutral\",\"Positive\",\"Positive\",\"Neutral\",\"Neutral\",\"Positive\",\"Neutral\",\"Negative\",\"Positive\",\"Positive\",\"Positive\",\"Neutral\",\"Neutral\",\"Positive\",\"Negative\",\"Positive\",\"Positive\",\"Negative\",\"Negative\",\"Negative\",\"Positive\",\"Positive\",\"Positive\",\"Negative\",\"Positive\",\"Negative\",\"Positive\",\"Positive\",\"Neutral\",\"Neutral\",\"Neutral\",\"Positive\",\"Neutral\",\"Negative\",\"Negative\",\"Positive\",\"Negative\",\"Positive\",\"Negative\",\"Neutral\",\"Neutral\",\"Neutral\",\"Neutral\",\"Positive\",\"Positive\",\"Negative\",\"Negative\",\"Neutral\",\"Negative\",\"Neutral\",\"Negative\",\"Negative\",\"Positive\",\"Negative\",\"Neutral\",\"Positive\",\"Negative\",\"Negative\",\"Positive\",\"Negative\",\"Negative\",\"Neutral\",\"Positive\",\"Positive\",\"Neutral\",\"Neutral\",\"Neutral\",\"Positive\",\"Neutral\",\"Positive\",\"Neutral\",\"Positive\",\"Negative\",\"Neutral\",\"Positive\",\"Negative\",\"Positive\",\"Negative\",\"Negative\",\"Positive\",\"Negative\",\"Negative\",\"Positive\",\"Negative\",\"Negative\",\"Negative\",\"Positive\",\"Negative\",\"Negative\",\"Positive\",\"Neutral\",\"Negative\",\"Neutral\",\"Negative\",\"Neutral\",\"Positive\",\"Negative\",\"Negative\",\"Positive\",\"Negative\",\"Negative\",\"Neutral\",\"Positive\",\"Positive\",\"Neutral\",\"Negative\",\"Negative\",\"Negative\",\"Neutral\",\"Positive\",\"Positive\",\"Neutral\",\"Neutral\",\"Positive\",\"Positive\",\"Negative\",\"Positive\",\"Neutral\",\"Positive\",\"Positive\",\"Positive\",\"Positive\",\"Negative\",\"Negative\",\"Negative\",\"Positive\",\"Negative\",\"Positive\",\"Negative\",\"Negative\",\"Negative\",\"Positive\",\"Neutral\",\"Negative\",\"Positive\",\"Neutral\",\"Positive\",\"Positive\",\"Positive\",\"Positive\",\"Negative\",\"Positive\",\"Neutral\",\"Positive\",\"Negative\",\"Positive\",\"Neutral\",\"Neutral\",\"Neutral\",\"Neutral\",\"Negative\",\"Negative\",\"Positive\",\"Negative\",\"Negative\",\"Negative\",\"Positive\",\"Positive\",\"Positive\",\"Positive\",\"Negative\",\"Positive\",\"Negative\",\"Positive\",\"Positive\",\"Neutral\",\"Negative\",\"Positive\",\"Neutral\",\"Negative\",\"Negative\",\"Positive\",\"Negative\",\"Negative\",\"Negative\",\"Negative\",\"Positive\",\"Neutral\",\"Positive\",\"Neutral\",\"Positive\",\"Negative\",\"Positive\",\"Neutral\",\"Positive\",\"Negative\",\"Neutral\",\"Positive\",\"Neutral\",\"Negative\",\"Positive\",\"Negative\",\"Negative\",\"Positive\",\"Positive\",\"Positive\",\"Negative\",\"Neutral\",\"Positive\",\"Positive\",\"Positive\",\"Negative\",\"Positive\",\"Negative\",\"Positive\",\"Negative\",\"Neutral\",\"Neutral\",\"Negative\",\"Positive\",\"Positive\",\"Positive\",\"Negative\",\"Neutral\",\"Negative\",\"Neutral\",\"Positive\",\"Negative\",\"Positive\",\"Neutral\",\"Positive\",\"Positive\",\"Neutral\",\"Negative\",\"Positive\",\"Positive\",\"Neutral\",\"Positive\",\"Positive\",\"Positive\",\"Negative\",\"Positive\",\"Positive\",\"Positive\",\"Negative\",\"Positive\",\"Negative\",\"Negative\",\"Positive\",\"Positive\",\"Positive\",\"Neutral\",\"Negative\",\"Positive\",\"Positive\",\"Neutral\",\"Positive\",\"Neutral\",\"Positive\",\"Negative\",\"Positive\",\"Positive\",\"Positive\",\"Negative\",\"Neutral\",\"Negative\",\"Positive\",\"Positive\",\"Positive\",\"Negative\",\"Neutral\",\"Positive\",\"Negative\",\"Positive\",\"Positive\",\"Positive\",\"Positive\",\"Negative\",\"Negative\",\"Neutral\",\"Neutral\",\"Positive\",\"Positive\",\"Neutral\",\"Neutral\",\"Positive\",\"Positive\",\"Positive\",\"Negative\",\"Negative\",\"Negative\",\"Negative\",\"Negative\",\"Negative\",\"Negative\",\"Negative\",\"Neutral\",\"Positive\",\"Neutral\",\"Positive\",\"Neutral\",\"Negative\",\"Negative\",\"Positive\",\"Neutral\",\"Negative\",\"Negative\",\"Positive\",\"Positive\",\"Negative\",\"Negative\",\"Positive\",\"Negative\",\"Negative\",\"Neutral\",\"Positive\",\"Positive\",\"Positive\",\"Negative\",\"Positive\",\"Negative\",\"Positive\",\"Positive\",\"Positive\",\"Negative\",\"Positive\",\"Negative\",\"Negative\",\"Positive\",\"Positive\",\"Negative\",\"Positive\",\"Negative\",\"Neutral\",\"Negative\",\"Negative\",\"Positive\",\"Positive\",\"Negative\",\"Positive\",\"Neutral\",\"Negative\",\"Negative\",\"Positive\",\"Positive\",\"Positive\",\"Neutral\",\"Positive\",\"Positive\",\"Negative\",\"Negative\",\"Positive\",\"Neutral\",\"Positive\",\"Positive\",\"Positive\",\"Neutral\",\"Positive\",\"Neutral\",\"Positive\",\"Positive\",\"Positive\",\"Negative\",\"Positive\",\"Negative\",\"Positive\",\"Neutral\",\"Positive\",\"Negative\",\"Negative\",\"Positive\",\"Negative\",\"Negative\",\"Negative\",\"Negative\",\"Positive\",\"Negative\",\"Negative\",\"Positive\",\"Negative\",\"Negative\",\"Neutral\",\"Negative\",\"Positive\",\"Positive\",\"Positive\",\"Positive\",\"Positive\",\"Negative\",\"Negative\",\"Neutral\",\"Negative\",\"Negative\",\"Negative\",\"Positive\",\"Neutral\",\"Positive\",\"Positive\",\"Neutral\",\"Positive\",\"Negative\",\"Negative\",\"Neutral\",\"Neutral\",\"Positive\",\"Negative\",\"Neutral\",\"Neutral\",\"Negative\",\"Positive\",\"Negative\",\"Negative\",\"Negative\",\"Negative\",\"Neutral\",\"Negative\",\"Negative\",\"Negative\",\"Positive\",\"Neutral\",\"Negative\",\"Positive\",\"Negative\",\"Neutral\",\"Negative\",\"Positive\",\"Neutral\",\"Negative\",\"Positive\",\"Negative\",\"Negative\",\"Positive\",\"Positive\",\"Neutral\",\"Positive\",\"Neutral\",\"Negative\",\"Positive\",\"Neutral\",\"Positive\",\"Negative\",\"Negative\",\"Negative\",\"Positive\",\"Negative\",\"Neutral\",\"Positive\",\"Positive\",\"Neutral\",\"Negative\",\"Neutral\",\"Positive\",\"Positive\",\"Positive\",\"Neutral\",\"Neutral\",\"Negative\",\"Negative\",\"Neutral\",\"Positive\",\"Negative\",\"Negative\",\"Positive\",\"Neutral\",\"Positive\",\"Negative\",\"Positive\",\"Neutral\",\"Neutral\",\"Positive\",\"Positive\",\"Positive\",\"Neutral\",\"Negative\",\"Positive\",\"Neutral\",\"Negative\",\"Negative\",\"Positive\",\"Positive\",\"Positive\",\"Neutral\",\"Negative\",\"Negative\",\"Negative\",\"Neutral\",\"Neutral\",\"Positive\",\"Positive\",\"Negative\",\"Negative\",\"Negative\",\"Positive\",\"Neutral\",\"Positive\",\"Negative\",\"Negative\",\"Negative\",\"Negative\",\"Positive\",\"Positive\",\"Positive\",\"Positive\",\"Neutral\",\"Neutral\",\"Negative\",\"Negative\",\"Positive\",\"Positive\",\"Negative\",\"Positive\",\"Neutral\",\"Negative\",\"Negative\",\"Negative\",\"Negative\",\"Neutral\",\"Negative\",\"Negative\",\"Neutral\",\"Positive\",\"Negative\",\"Negative\",\"Positive\",\"Neutral\",\"Negative\",\"Neutral\",\"Positive\",\"Neutral\",\"Negative\",\"Positive\",\"Negative\",\"Positive\",\"Neutral\",\"Positive\",\"Neutral\",\"Negative\",\"Positive\",\"Negative\",\"Neutral\",\"Negative\",\"Positive\",\"Negative\",\"Negative\",\"Positive\",\"Neutral\",\"Positive\",\"Negative\",\"Positive\",\"Positive\",\"Positive\",\"Positive\",\"Negative\",\"Negative\",\"Neutral\",\"Negative\",\"Positive\",\"Negative\",\"Negative\",\"Positive\",\"Positive\",\"Negative\",\"Positive\",\"Negative\",\"Neutral\",\"Negative\",\"Negative\",\"Neutral\",\"Neutral\",\"Positive\",\"Neutral\",\"Negative\",\"Neutral\",\"Positive\",\"Neutral\",\"Positive\",\"Negative\",\"Positive\",\"Negative\",\"Negative\",\"Negative\",\"Neutral\",\"Negative\",\"Neutral\",\"Negative\",\"Negative\",\"Neutral\",\"Negative\",\"Positive\",\"Neutral\",\"Neutral\",\"Positive\",\"Negative\",\"Negative\",\"Neutral\",\"Positive\",\"Positive\",\"Neutral\",\"Positive\",\"Positive\",\"Positive\",\"Positive\",\"Positive\",\"Positive\",\"Negative\",\"Negative\",\"Positive\",\"Negative\",\"Negative\",\"Negative\",\"Negative\",\"Negative\",\"Neutral\",\"Positive\",\"Positive\",\"Negative\",\"Negative\",\"Negative\",\"Neutral\",\"Neutral\",\"Positive\",\"Negative\",\"Neutral\",\"Negative\",\"Neutral\",\"Negative\",\"Positive\",\"Negative\",\"Neutral\",\"Neutral\",\"Negative\",\"Neutral\",\"Positive\",\"Positive\",\"Negative\",\"Neutral\",\"Negative\",\"Positive\",\"Negative\",\"Negative\",\"Negative\",\"Positive\",\"Positive\",\"Negative\",\"Negative\",\"Positive\",\"Positive\",\"Positive\",\"Positive\",\"Negative\",\"Positive\",\"Positive\",\"Neutral\",\"Positive\",\"Positive\",\"Positive\",\"Negative\",\"Positive\",\"Neutral\",\"Positive\",\"Negative\",\"Positive\",\"Negative\",\"Neutral\",\"Positive\",\"Positive\",\"Neutral\",\"Negative\",\"Negative\",\"Positive\",\"Positive\",\"Negative\",\"Positive\",\"Positive\",\"Negative\",\"Neutral\",\"Positive\",\"Negative\",\"Neutral\",\"Positive\",\"Positive\",\"Negative\",\"Positive\",\"Neutral\",\"Negative\",\"Negative\",\"Negative\",\"Negative\",\"Positive\",\"Negative\",\"Negative\",\"Neutral\",\"Negative\",\"Positive\",\"Negative\",\"Positive\",\"Negative\",\"Neutral\",\"Negative\",\"Negative\",\"Neutral\",\"Negative\",\"Positive\",\"Positive\",\"Negative\",\"Neutral\",\"Negative\",\"Positive\",\"Neutral\",\"Negative\",\"Negative\",\"Neutral\",\"Negative\",\"Negative\",\"Negative\",\"Positive\",\"Neutral\",\"Positive\",\"Negative\",\"Neutral\",\"Negative\",\"Negative\",\"Positive\",\"Positive\",\"Positive\",\"Negative\",\"Positive\",\"Negative\",\"Negative\",\"Negative\",\"Negative\",\"Neutral\",\"Neutral\",\"Negative\",\"Negative\",\"Positive\",\"Positive\",\"Negative\",\"Neutral\",\"Negative\",\"Neutral\",\"Positive\",\"Negative\",\"Negative\",\"Positive\",\"Positive\",\"Positive\",\"Neutral\",\"Positive\",\"Positive\",\"Positive\",\"Negative\",\"Negative\",\"Neutral\",\"Neutral\",\"Positive\",\"Positive\",\"Negative\",\"Negative\",\"Negative\",\"Neutral\",\"Positive\",\"Negative\",\"Positive\",\"Negative\",\"Negative\",\"Neutral\",\"Positive\",\"Neutral\",\"Negative\",\"Positive\",\"Positive\",\"Neutral\",\"Positive\",\"Positive\",\"Negative\",\"Negative\",\"Positive\",\"Positive\",\"Positive\",\"Positive\",\"Neutral\",\"Negative\",\"Positive\",\"Negative\",\"Positive\",\"Positive\",\"Negative\",\"Negative\",\"Positive\",\"Positive\",\"Neutral\",\"Positive\",\"Negative\",\"Neutral\",\"Negative\",\"Negative\",\"Negative\",\"Negative\",\"Neutral\",\"Neutral\",\"Neutral\",\"Negative\",\"Negative\",\"Positive\",\"Negative\",\"Positive\",\"Positive\",\"Negative\",\"Positive\",\"Neutral\",\"Negative\",\"Negative\",\"Positive\",\"Positive\",\"Neutral\",\"Negative\",\"Negative\",\"Neutral\",\"Negative\",\"Positive\",\"Positive\",\"Negative\",\"Positive\",\"Negative\",\"Positive\",\"Negative\",\"Positive\",\"Neutral\",\"Positive\",\"Positive\",\"Negative\",\"Positive\",\"Negative\",\"Positive\",\"Positive\",\"Negative\",\"Positive\",\"Negative\",\"Neutral\",\"Positive\",\"Neutral\",\"Negative\",\"Positive\",\"Negative\",\"Neutral\",\"Positive\",\"Negative\",\"Negative\",\"Negative\",\"Negative\",\"Positive\",\"Positive\",\"Positive\",\"Positive\",\"Negative\",\"Positive\",\"Positive\",\"Negative\",\"Neutral\",\"Positive\",\"Negative\",\"Neutral\",\"Neutral\",\"Negative\",\"Positive\",\"Positive\",\"Negative\",\"Positive\",\"Negative\",\"Positive\",\"Neutral\",\"Negative\",\"Neutral\",\"Neutral\",\"Positive\",\"Positive\",\"Positive\",\"Positive\",\"Negative\",\"Neutral\",\"Neutral\",\"Positive\",\"Positive\",\"Positive\",\"Positive\",\"Negative\",\"Negative\",\"Positive\",\"Negative\",\"Negative\",\"Neutral\",\"Neutral\",\"Negative\",\"Positive\",\"Neutral\",\"Neutral\",\"Negative\",\"Neutral\",\"Positive\",\"Positive\",\"Negative\",\"Negative\",\"Negative\",\"Neutral\",\"Neutral\",\"Neutral\",\"Negative\",\"Negative\",\"Negative\",\"Positive\",\"Negative\",\"Neutral\",\"Positive\",\"Neutral\",\"Negative\",\"Positive\",\"Negative\",\"Negative\",\"Positive\",\"Negative\",\"Negative\",\"Positive\",\"Neutral\",\"Positive\",\"Negative\",\"Positive\",\"Neutral\",\"Neutral\",\"Negative\",\"Positive\",\"Positive\",\"Positive\",\"Negative\",\"Positive\",\"Neutral\",\"Negative\",\"Negative\",\"Negative\",\"Positive\",\"Neutral\",\"Negative\",\"Positive\",\"Positive\",\"Positive\",\"Positive\",\"Negative\",\"Neutral\",\"Neutral\",\"Positive\",\"Negative\",\"Negative\",\"Positive\",\"Neutral\",\"Negative\",\"Positive\",\"Positive\",\"Negative\",\"Positive\",\"Positive\",\"Positive\",\"Negative\",\"Positive\",\"Negative\",\"Negative\",\"Positive\",\"Negative\",\"Positive\",\"Positive\",\"Negative\",\"Neutral\",\"Neutral\",\"Positive\",\"Positive\",\"Negative\",\"Positive\",\"Negative\",\"Positive\",\"Neutral\",\"Neutral\",\"Neutral\",\"Negative\",\"Positive\",\"Positive\",\"Negative\",\"Positive\",\"Negative\",\"Neutral\",\"Positive\",\"Neutral\",\"Neutral\",\"Neutral\",\"Neutral\",\"Positive\",\"Positive\",\"Positive\",\"Positive\",\"Negative\",\"Positive\",\"Negative\",\"Positive\",\"Negative\",\"Neutral\",\"Negative\",\"Positive\",\"Negative\",\"Positive\",\"Positive\",\"Positive\",\"Negative\",\"Negative\",\"Neutral\",\"Positive\",\"Neutral\",\"Neutral\",\"Positive\",\"Positive\",\"Neutral\",\"Positive\",\"Positive\",\"Neutral\",\"Positive\",\"Positive\",\"Neutral\",\"Negative\",\"Neutral\",\"Negative\",\"Negative\",\"Neutral\",\"Negative\",\"Negative\",\"Positive\",\"Negative\",\"Negative\",\"Positive\",\"Neutral\",\"Positive\",\"Negative\",\"Positive\",\"Negative\",\"Positive\",\"Positive\",\"Negative\",\"Negative\",\"Negative\",\"Positive\",\"Positive\",\"Negative\",\"Negative\",\"Negative\",\"Positive\",\"Positive\",\"Positive\",\"Positive\",\"Positive\",\"Negative\",\"Positive\",\"Negative\",\"Negative\",\"Neutral\",\"Positive\",\"Negative\",\"Positive\",\"Neutral\",\"Positive\",\"Positive\",\"Positive\",\"Positive\",\"Positive\",\"Positive\",\"Positive\",\"Positive\",\"Positive\",\"Negative\",\"Negative\",\"Negative\",\"Negative\",\"Negative\",\"Negative\",\"Positive\",\"Positive\",\"Neutral\",\"Positive\",\"Neutral\",\"Negative\",\"Positive\",\"Neutral\",\"Neutral\",\"Positive\",\"Positive\",\"Positive\",\"Positive\",\"Negative\",\"Positive\",\"Neutral\",\"Positive\",\"Neutral\",\"Negative\",\"Positive\",\"Positive\",\"Positive\",\"Positive\",\"Negative\",\"Negative\",\"Positive\",\"Positive\",\"Negative\",\"Negative\",\"Negative\",\"Positive\",\"Negative\",\"Negative\",\"Neutral\",\"Positive\",\"Neutral\",\"Negative\",\"Neutral\",\"Negative\",\"Positive\",\"Neutral\",\"Negative\",\"Positive\",\"Positive\",\"Positive\",\"Neutral\",\"Neutral\",\"Neutral\",\"Positive\",\"Negative\",\"Positive\",\"Neutral\",\"Positive\",\"Positive\",\"Neutral\",\"Positive\",\"Positive\",\"Positive\",\"Positive\",\"Negative\",\"Negative\",\"Neutral\",\"Negative\",\"Positive\",\"Neutral\",\"Positive\",\"Positive\",\"Positive\",\"Negative\",\"Positive\",\"Neutral\",\"Negative\",\"Neutral\",\"Negative\",\"Neutral\",\"Positive\",\"Negative\",\"Negative\",\"Positive\",\"Neutral\",\"Positive\",\"Positive\",\"Negative\",\"Negative\",\"Positive\",\"Positive\",\"Neutral\",\"Neutral\",\"Positive\",\"Negative\",\"Neutral\",\"Neutral\",\"Negative\",\"Positive\",\"Positive\",\"Positive\",\"Negative\",\"Neutral\",\"Positive\",\"Positive\",\"Negative\",\"Negative\",\"Negative\",\"Positive\",\"Negative\",\"Positive\",\"Positive\",\"Negative\",\"Neutral\",\"Positive\",\"Positive\",\"Positive\",\"Neutral\",\"Positive\",\"Negative\",\"Negative\",\"Positive\",\"Negative\",\"Negative\",\"Neutral\",\"Neutral\",\"Negative\",\"Negative\",\"Negative\",\"Neutral\",\"Negative\",\"Positive\",\"Negative\",\"Positive\",\"Positive\",\"Negative\",\"Negative\",\"Positive\",\"Neutral\",\"Negative\",\"Neutral\",\"Positive\",\"Positive\",\"Neutral\",\"Neutral\",\"Negative\",\"Positive\",\"Positive\",\"Positive\",\"Negative\",\"Negative\",\"Neutral\",\"Neutral\",\"Positive\",\"Positive\",\"Positive\",\"Negative\",\"Negative\",\"Neutral\",\"Positive\",\"Neutral\",\"Neutral\",\"Positive\",\"Negative\",\"Neutral\",\"Negative\",\"Neutral\",\"Negative\",\"Negative\",\"Positive\",\"Negative\",\"Negative\",\"Neutral\",\"Negative\",\"Negative\",\"Negative\",\"Neutral\",\"Neutral\",\"Negative\",\"Positive\",\"Positive\",\"Neutral\",\"Negative\",\"Positive\",\"Neutral\",\"Negative\",\"Negative\",\"Positive\",\"Negative\",\"Neutral\",\"Positive\",\"Negative\",\"Negative\",\"Negative\",\"Positive\",\"Positive\",\"Positive\",\"Neutral\",\"Positive\",\"Neutral\",\"Neutral\",\"Neutral\",\"Neutral\",\"Positive\",\"Neutral\",\"Positive\",\"Neutral\",\"Negative\",\"Positive\",\"Negative\",\"Positive\",\"Positive\",\"Negative\",\"Positive\",\"Neutral\",\"Negative\",\"Positive\",\"Positive\",\"Negative\",\"Neutral\",\"Negative\",\"Positive\",\"Negative\",\"Neutral\",\"Negative\",\"Positive\",\"Negative\",\"Negative\",\"Negative\",\"Positive\",\"Neutral\",\"Neutral\",\"Negative\",\"Negative\",\"Positive\",\"Positive\",\"Neutral\",\"Positive\",\"Positive\",\"Positive\",\"Negative\",\"Neutral\",\"Negative\",\"Neutral\",\"Positive\",\"Positive\",\"Positive\",\"Positive\",\"Negative\",\"Neutral\",\"Negative\",\"Positive\",\"Negative\",\"Negative\",\"Positive\",\"Positive\",\"Positive\",\"Neutral\",\"Negative\",\"Positive\",\"Positive\",\"Negative\",\"Neutral\",\"Negative\",\"Positive\",\"Positive\",\"Positive\",\"Neutral\",\"Neutral\",\"Neutral\",\"Neutral\",\"Positive\",\"Positive\",\"Negative\",\"Positive\",\"Positive\",\"Neutral\",\"Negative\",\"Neutral\",\"Positive\",\"Positive\",\"Negative\",\"Neutral\",\"Negative\",\"Positive\",\"Negative\",\"Neutral\",\"Neutral\",\"Positive\",\"Neutral\",\"Positive\",\"Negative\",\"Negative\",\"Negative\",\"Negative\",\"Negative\",\"Negative\",\"Negative\",\"Positive\",\"Positive\",\"Negative\",\"Negative\",\"Negative\",\"Positive\",\"Positive\",\"Negative\",\"Positive\",\"Negative\",\"Negative\",\"Negative\",\"Positive\",\"Negative\",\"Positive\",\"Positive\",\"Neutral\",\"Negative\",\"Positive\",\"Neutral\",\"Negative\",\"Negative\",\"Negative\",\"Negative\",\"Positive\",\"Positive\",\"Negative\",\"Negative\",\"Neutral\",\"Negative\",\"Positive\",\"Positive\",\"Positive\",\"Negative\",\"Positive\",\"Negative\",\"Neutral\",\"Neutral\",\"Negative\",\"Neutral\",\"Neutral\",\"Negative\",\"Positive\",\"Positive\",\"Positive\",\"Positive\",\"Negative\",\"Neutral\",\"Negative\",\"Neutral\",\"Negative\",\"Neutral\",\"Positive\",\"Positive\",\"Negative\",\"Neutral\",\"Positive\",\"Positive\",\"Neutral\",\"Positive\",\"Neutral\",\"Neutral\",\"Neutral\",\"Negative\",\"Neutral\",\"Negative\",\"Positive\",\"Positive\",\"Negative\",\"Positive\",\"Positive\",\"Positive\",\"Negative\",\"Negative\",\"Positive\",\"Neutral\",\"Positive\",\"Positive\",\"Neutral\",\"Negative\",\"Positive\",\"Negative\",\"Negative\",\"Positive\",\"Positive\",\"Neutral\",\"Negative\",\"Negative\",\"Neutral\",\"Negative\",\"Neutral\",\"Positive\",\"Positive\",\"Negative\",\"Positive\",\"Neutral\",\"Negative\",\"Positive\",\"Positive\",\"Negative\",\"Negative\",\"Negative\",\"Negative\",\"Neutral\",\"Positive\",\"Positive\",\"Negative\",\"Positive\",\"Negative\",\"Neutral\",\"Negative\",\"Negative\",\"Neutral\",\"Negative\",\"Positive\",\"Negative\",\"Positive\",\"Neutral\",\"Positive\",\"Neutral\",\"Negative\",\"Negative\",\"Neutral\",\"Negative\",\"Negative\",\"Negative\",\"Positive\",\"Positive\",\"Neutral\",\"Positive\",\"Positive\",\"Neutral\",\"Neutral\",\"Positive\",\"Positive\",\"Negative\",\"Positive\",\"Negative\",\"Neutral\",\"Positive\",\"Negative\",\"Positive\",\"Neutral\",\"Neutral\",\"Negative\",\"Neutral\",\"Positive\",\"Positive\",\"Positive\",\"Neutral\",\"Negative\",\"Positive\",\"Negative\",\"Negative\",\"Positive\",\"Positive\",\"Negative\",\"Neutral\",\"Neutral\",\"Negative\",\"Positive\",\"Positive\",\"Positive\",\"Negative\",\"Positive\",\"Positive\",\"Neutral\",\"Neutral\",\"Positive\",\"Positive\",\"Neutral\",\"Negative\",\"Positive\",\"Positive\",\"Negative\",\"Negative\",\"Neutral\",\"Negative\",\"Negative\",\"Negative\",\"Positive\",\"Positive\",\"Positive\",\"Positive\",\"Positive\",\"Positive\",\"Neutral\",\"Negative\",\"Positive\",\"Negative\",\"Positive\",\"Negative\",\"Neutral\",\"Neutral\",\"Positive\",\"Positive\",\"Positive\",\"Positive\",\"Negative\",\"Neutral\",\"Positive\",\"Negative\",\"Positive\",\"Positive\",\"Positive\",\"Positive\",\"Negative\",\"Positive\",\"Negative\",\"Negative\",\"Positive\",\"Positive\",\"Negative\",\"Negative\",\"Positive\",\"Neutral\",\"Neutral\",\"Positive\",\"Negative\",\"Positive\",\"Positive\",\"Negative\",\"Positive\",\"Negative\",\"Positive\",\"Neutral\",\"Negative\",\"Neutral\",\"Positive\",\"Positive\",\"Positive\",\"Positive\",\"Positive\",\"Positive\",\"Positive\",\"Positive\",\"Positive\",\"Positive\",\"Neutral\",\"Negative\",\"Positive\",\"Negative\",\"Neutral\",\"Negative\",\"Negative\",\"Negative\",\"Positive\",\"Positive\",\"Positive\",\"Positive\",\"Neutral\",\"Negative\",\"Positive\",\"Negative\",\"Neutral\",\"Negative\",\"Negative\",\"Negative\",\"Negative\",\"Neutral\",\"Negative\",\"Negative\",\"Neutral\",\"Negative\",\"Neutral\",\"Negative\",\"Negative\",\"Neutral\",\"Negative\",\"Positive\",\"Neutral\",\"Negative\",\"Neutral\",\"Negative\",\"Negative\",\"Negative\",\"Negative\",\"Negative\",\"Positive\",\"Negative\",\"Positive\",\"Neutral\",\"Negative\",\"Positive\",\"Neutral\",\"Neutral\",\"Negative\",\"Positive\",\"Negative\",\"Neutral\",\"Positive\",\"Neutral\",\"Positive\",\"Positive\",\"Neutral\",\"Negative\",\"Negative\",\"Negative\",\"Negative\",\"Positive\",\"Neutral\",\"Positive\",\"Positive\",\"Positive\",\"Negative\",\"Negative\",\"Positive\",\"Neutral\",\"Negative\",\"Negative\",\"Neutral\",\"Negative\",\"Negative\",\"Negative\",\"Positive\",\"Neutral\",\"Positive\",\"Positive\",\"Negative\",\"Neutral\",\"Positive\",\"Negative\",\"Neutral\",\"Negative\",\"Negative\",\"Positive\",\"Neutral\",\"Negative\",\"Negative\",\"Neutral\",\"Neutral\",\"Negative\",\"Negative\",\"Negative\",\"Neutral\",\"Negative\",\"Neutral\",\"Positive\",\"Positive\",\"Negative\",\"Positive\",\"Neutral\",\"Positive\",\"Neutral\",\"Positive\",\"Neutral\",\"Negative\",\"Neutral\",\"Neutral\",\"Negative\",\"Neutral\",\"Positive\",\"Negative\",\"Negative\",\"Negative\",\"Negative\",\"Neutral\",\"Positive\",\"Negative\",\"Neutral\",\"Neutral\",\"Neutral\",\"Neutral\",\"Negative\",\"Neutral\",\"Negative\",\"Negative\",\"Neutral\",\"Positive\",\"Neutral\",\"Positive\",\"Negative\",\"Neutral\",\"Positive\",\"Positive\",\"Positive\",\"Neutral\",\"Positive\",\"Negative\",\"Negative\",\"Positive\",\"Neutral\",\"Neutral\",\"Positive\",\"Positive\",\"Negative\",\"Negative\",\"Positive\",\"Negative\",\"Negative\",\"Neutral\",\"Neutral\",\"Neutral\",\"Neutral\",\"Negative\",\"Negative\",\"Negative\",\"Positive\",\"Positive\",\"Negative\",\"Negative\",\"Positive\",\"Neutral\",\"Neutral\",\"Positive\",\"Neutral\",\"Negative\",\"Neutral\",\"Positive\",\"Positive\",\"Positive\",\"Negative\",\"Positive\",\"Positive\",\"Negative\",\"Positive\",\"Negative\",\"Negative\",\"Neutral\",\"Negative\",\"Negative\",\"Positive\",\"Positive\",\"Positive\",\"Positive\",\"Neutral\",\"Neutral\",\"Neutral\",\"Negative\",\"Positive\",\"Positive\",\"Negative\",\"Negative\",\"Positive\",\"Positive\",\"Negative\",\"Positive\",\"Negative\",\"Negative\",\"Positive\",\"Neutral\",\"Negative\",\"Negative\",\"Neutral\",\"Neutral\",\"Neutral\",\"Neutral\",\"Positive\",\"Neutral\",\"Neutral\",\"Neutral\",\"Negative\",\"Neutral\",\"Positive\",\"Positive\",\"Positive\",\"Positive\",\"Neutral\",\"Negative\",\"Negative\",\"Positive\",\"Negative\",\"Neutral\",\"Neutral\",\"Positive\",\"Negative\",\"Positive\",\"Negative\",\"Neutral\",\"Positive\",\"Positive\",\"Positive\",\"Positive\",\"Positive\",\"Neutral\",\"Positive\",\"Positive\",\"Negative\",\"Negative\",\"Neutral\",\"Negative\",\"Negative\",\"Positive\",\"Positive\",\"Negative\",\"Neutral\",\"Negative\",\"Negative\",\"Negative\",\"Negative\",\"Neutral\",\"Positive\",\"Positive\",\"Neutral\",\"Negative\",\"Neutral\",\"Positive\",\"Negative\",\"Negative\",\"Positive\",\"Positive\",\"Negative\",\"Positive\",\"Neutral\",\"Negative\",\"Neutral\",\"Neutral\",\"Neutral\",\"Neutral\",\"Neutral\",\"Negative\",\"Positive\",\"Negative\",\"Positive\",\"Positive\",\"Neutral\",\"Negative\",\"Neutral\",\"Neutral\",\"Positive\",\"Negative\",\"Negative\",\"Neutral\",\"Neutral\",\"Positive\",\"Positive\",\"Negative\",\"Positive\",\"Negative\",\"Negative\",\"Negative\",\"Positive\",\"Neutral\",\"Neutral\",\"Negative\",\"Negative\",\"Negative\",\"Negative\",\"Neutral\",\"Neutral\",\"Positive\",\"Neutral\",\"Negative\",\"Negative\",\"Positive\",\"Positive\",\"Positive\",\"Negative\",\"Neutral\",\"Negative\",\"Neutral\",\"Negative\",\"Positive\",\"Negative\",\"Negative\",\"Negative\",\"Negative\",\"Positive\",\"Neutral\",\"Neutral\",\"Positive\",\"Negative\",\"Negative\",\"Positive\",\"Positive\",\"Negative\",\"Positive\",\"Positive\",\"Negative\",\"Positive\",\"Neutral\",\"Neutral\",\"Negative\",\"Negative\",\"Positive\",\"Positive\",\"Neutral\",\"Positive\",\"Positive\",\"Neutral\",\"Positive\",\"Neutral\",\"Positive\",\"Negative\",\"Positive\",\"Positive\",\"Positive\",\"Negative\",\"Positive\",\"Positive\",\"Positive\",\"Neutral\",\"Positive\",\"Negative\",\"Negative\",\"Neutral\",\"Neutral\",\"Neutral\",\"Negative\",\"Negative\",\"Positive\",\"Neutral\",\"Positive\",\"Positive\",\"Positive\",\"Positive\",\"Neutral\",\"Positive\",\"Positive\",\"Negative\",\"Positive\",\"Negative\",\"Negative\",\"Neutral\",\"Positive\",\"Negative\",\"Positive\",\"Neutral\",\"Neutral\",\"Negative\",\"Positive\",\"Neutral\",\"Neutral\",\"Neutral\",\"Positive\",\"Negative\",\"Positive\",\"Positive\",\"Negative\",\"Neutral\",\"Negative\",\"Neutral\",\"Positive\",\"Negative\",\"Negative\",\"Neutral\",\"Positive\",\"Positive\",\"Negative\",\"Positive\",\"Neutral\",\"Neutral\",\"Neutral\",\"Negative\",\"Negative\",\"Positive\",\"Negative\",\"Negative\",\"Positive\",\"Positive\",\"Neutral\",\"Positive\",\"Positive\",\"Positive\",\"Positive\",\"Negative\",\"Negative\",\"Negative\",\"Negative\",\"Positive\",\"Neutral\",\"Negative\",\"Positive\",\"Negative\",\"Negative\",\"Positive\",\"Neutral\",\"Negative\",\"Negative\",\"Positive\",\"Positive\",\"Neutral\",\"Negative\",\"Negative\",\"Neutral\",\"Neutral\",\"Neutral\",\"Positive\",\"Neutral\",\"Positive\",\"Neutral\",\"Neutral\",\"Neutral\",\"Positive\",\"Neutral\",\"Neutral\",\"Neutral\",\"Neutral\",\"Positive\",\"Negative\",\"Positive\",\"Positive\",\"Positive\",\"Positive\",\"Neutral\",\"Positive\",\"Negative\",\"Positive\",\"Negative\",\"Neutral\",\"Negative\",\"Positive\",\"Positive\",\"Neutral\",\"Neutral\",\"Positive\",\"Neutral\",\"Neutral\",\"Negative\",\"Negative\",\"Positive\",\"Negative\",\"Negative\",\"Negative\",\"Neutral\",\"Positive\",\"Negative\",\"Positive\",\"Positive\",\"Negative\",\"Positive\",\"Positive\",\"Positive\",\"Positive\",\"Negative\",\"Neutral\",\"Negative\",\"Positive\",\"Neutral\",\"Negative\",\"Negative\",\"Positive\",\"Positive\",\"Negative\",\"Neutral\",\"Positive\",\"Negative\",\"Negative\",\"Positive\",\"Negative\",\"Negative\",\"Negative\",\"Positive\",\"Negative\",\"Positive\",\"Neutral\",\"Negative\",\"Negative\",\"Negative\",\"Neutral\",\"Positive\",\"Positive\",\"Negative\",\"Neutral\",\"Neutral\",\"Neutral\",\"Neutral\",\"Positive\",\"Neutral\",\"Neutral\",\"Positive\",\"Positive\",\"Negative\",\"Negative\",\"Neutral\",\"Negative\",\"Neutral\",\"Positive\",\"Neutral\",\"Negative\",\"Neutral\",\"Positive\",\"Negative\",\"Negative\",\"Negative\",\"Neutral\",\"Positive\",\"Positive\",\"Neutral\",\"Positive\",\"Positive\",\"Neutral\",\"Positive\",\"Positive\",\"Neutral\",\"Positive\",\"Positive\",\"Negative\",\"Positive\",\"Negative\",\"Positive\",\"Negative\",\"Neutral\",\"Positive\",\"Negative\",\"Positive\",\"Negative\",\"Negative\",\"Negative\",\"Positive\",\"Neutral\",\"Positive\",\"Positive\",\"Positive\",\"Negative\",\"Neutral\",\"Positive\",\"Neutral\",\"Negative\",\"Negative\",\"Negative\",\"Negative\",\"Neutral\",\"Negative\",\"Positive\",\"Negative\",\"Positive\",\"Positive\",\"Negative\",\"Neutral\",\"Positive\",\"Negative\",\"Neutral\",\"Negative\",\"Negative\",\"Positive\",\"Positive\",\"Negative\",\"Neutral\",\"Neutral\",\"Neutral\",\"Positive\",\"Negative\",\"Positive\",\"Negative\",\"Negative\",\"Neutral\",\"Positive\",\"Positive\",\"Positive\",\"Neutral\",\"Negative\",\"Positive\",\"Negative\",\"Negative\",\"Positive\",\"Negative\",\"Negative\",\"Positive\",\"Positive\",\"Negative\",\"Negative\",\"Negative\",\"Positive\",\"Positive\",\"Positive\",\"Negative\",\"Negative\",\"Neutral\",\"Negative\",\"Neutral\",\"Neutral\",\"Positive\",\"Negative\",\"Positive\",\"Positive\",\"Positive\",\"Positive\",\"Positive\",\"Positive\",\"Positive\",\"Neutral\",\"Positive\",\"Positive\",\"Negative\",\"Negative\",\"Negative\",\"Negative\",\"Positive\",\"Positive\",\"Positive\",\"Positive\",\"Positive\",\"Negative\",\"Neutral\",\"Neutral\",\"Neutral\",\"Negative\",\"Negative\",\"Negative\",\"Neutral\",\"Negative\",\"Negative\",\"Positive\",\"Positive\",\"Positive\",\"Negative\",\"Negative\",\"Negative\",\"Neutral\",\"Positive\",\"Positive\",\"Negative\",\"Positive\",\"Negative\",\"Neutral\",\"Neutral\",\"Negative\",\"Neutral\",\"Positive\",\"Positive\",\"Positive\",\"Negative\",\"Negative\",\"Neutral\",\"Positive\",\"Neutral\",\"Neutral\",\"Positive\",\"Positive\",\"Positive\",\"Negative\",\"Negative\",\"Negative\",\"Neutral\",\"Negative\",\"Neutral\",\"Negative\",\"Positive\",\"Positive\",\"Positive\",\"Negative\",\"Negative\",\"Neutral\",\"Neutral\",\"Neutral\",\"Positive\",\"Neutral\",\"Negative\",\"Neutral\",\"Negative\",\"Negative\",\"Positive\",\"Negative\",\"Neutral\",\"Positive\",\"Negative\",\"Negative\",\"Positive\",\"Positive\",\"Negative\",\"Neutral\",\"Neutral\",\"Negative\",\"Positive\",\"Negative\",\"Neutral\",\"Positive\",\"Negative\",\"Neutral\",\"Positive\",\"Positive\",\"Positive\",\"Neutral\",\"Positive\",\"Neutral\",\"Positive\",\"Negative\",\"Neutral\",\"Negative\",\"Negative\",\"Positive\",\"Positive\",\"Negative\",\"Neutral\",\"Positive\",\"Neutral\",\"Positive\",\"Negative\",\"Positive\",\"Positive\",\"Negative\",\"Positive\",\"Negative\",\"Negative\",\"Positive\",\"Positive\",\"Positive\",\"Negative\",\"Positive\",\"Neutral\",\"Negative\",\"Positive\",\"Neutral\",\"Positive\",\"Positive\",\"Neutral\",\"Negative\",\"Neutral\",\"Negative\",\"Neutral\",\"Negative\",\"Neutral\",\"Negative\",\"Neutral\",\"Positive\",\"Positive\",\"Negative\",\"Positive\",\"Negative\",\"Neutral\",\"Positive\",\"Positive\",\"Positive\",\"Positive\",\"Negative\",\"Positive\",\"Negative\",\"Positive\",\"Positive\",\"Positive\",\"Positive\",\"Positive\",\"Positive\",\"Negative\",\"Negative\",\"Neutral\",\"Positive\",\"Positive\",\"Negative\",\"Positive\",\"Positive\",\"Positive\",\"Positive\",\"Negative\",\"Negative\",\"Positive\",\"Negative\",\"Positive\",\"Negative\",\"Negative\",\"Negative\",\"Neutral\",\"Negative\",\"Neutral\",\"Positive\",\"Negative\",\"Positive\",\"Positive\",\"Positive\",\"Positive\",\"Neutral\",\"Positive\",\"Neutral\",\"Positive\",\"Negative\",\"Positive\",\"Negative\",\"Positive\",\"Positive\",\"Neutral\",\"Negative\",\"Neutral\",\"Negative\",\"Positive\",\"Positive\",\"Neutral\",\"Positive\",\"Negative\",\"Positive\",\"Positive\",\"Negative\",\"Positive\",\"Positive\",\"Negative\",\"Positive\",\"Neutral\",\"Positive\",\"Neutral\",\"Negative\",\"Positive\",\"Neutral\",\"Positive\",\"Positive\",\"Positive\",\"Neutral\",\"Negative\",\"Negative\",\"Negative\",\"Negative\",\"Neutral\",\"Negative\",\"Positive\",\"Negative\",\"Positive\",\"Positive\",\"Positive\",\"Neutral\",\"Positive\",\"Negative\",\"Neutral\",\"Positive\",\"Neutral\",\"Neutral\",\"Neutral\",\"Negative\",\"Negative\",\"Positive\",\"Negative\",\"Neutral\",\"Negative\",\"Positive\",\"Negative\",\"Negative\",\"Negative\",\"Positive\",\"Negative\",\"Negative\",\"Positive\",\"Negative\",\"Positive\",\"Positive\",\"Negative\",\"Negative\",\"Neutral\",\"Positive\",\"Neutral\",\"Negative\",\"Positive\",\"Negative\",\"Negative\",\"Positive\",\"Positive\",\"Neutral\",\"Negative\",\"Positive\",\"Negative\",\"Positive\",\"Positive\",\"Neutral\",\"Negative\",\"Negative\",\"Positive\",\"Negative\",\"Negative\",\"Negative\",\"Positive\",\"Neutral\",\"Positive\",\"Negative\",\"Negative\",\"Positive\",\"Negative\",\"Positive\",\"Negative\",\"Neutral\",\"Neutral\",\"Neutral\",\"Negative\",\"Positive\",\"Negative\",\"Neutral\",\"Positive\",\"Neutral\",\"Negative\",\"Positive\",\"Neutral\",\"Negative\",\"Neutral\",\"Positive\",\"Neutral\",\"Positive\",\"Positive\",\"Neutral\",\"Negative\",\"Positive\",\"Neutral\",\"Positive\",\"Positive\",\"Negative\",\"Positive\",\"Negative\",\"Negative\",\"Positive\",\"Positive\",\"Negative\",\"Positive\",\"Positive\",\"Neutral\",\"Neutral\",\"Positive\",\"Negative\",\"Neutral\",\"Negative\",\"Positive\",\"Positive\",\"Neutral\",\"Neutral\",\"Negative\",\"Negative\",\"Neutral\",\"Negative\",\"Negative\",\"Positive\",\"Negative\",\"Neutral\",\"Negative\",\"Negative\",\"Negative\",\"Neutral\",\"Positive\",\"Negative\",\"Positive\",\"Negative\",\"Positive\",\"Positive\",\"Positive\",\"Negative\",\"Positive\",\"Positive\",\"Neutral\",\"Positive\",\"Positive\",\"Positive\",\"Positive\",\"Positive\",\"Negative\",\"Negative\",\"Positive\",\"Positive\",\"Neutral\",\"Negative\",\"Negative\",\"Negative\",\"Negative\",\"Negative\",\"Positive\",\"Negative\",\"Negative\",\"Negative\",\"Negative\",\"Neutral\",\"Positive\",\"Negative\",\"Positive\",\"Neutral\",\"Positive\",\"Negative\",\"Neutral\",\"Negative\",\"Neutral\",\"Positive\",\"Neutral\",\"Positive\",\"Positive\",\"Neutral\",\"Positive\",\"Positive\",\"Neutral\",\"Positive\",\"Neutral\",\"Negative\",\"Neutral\",\"Neutral\",\"Negative\",\"Positive\",\"Positive\",\"Positive\",\"Positive\",\"Positive\",\"Neutral\",\"Neutral\",\"Positive\",\"Negative\",\"Negative\",\"Negative\",\"Negative\",\"Positive\",\"Positive\",\"Neutral\",\"Positive\",\"Positive\",\"Positive\",\"Negative\",\"Negative\",\"Neutral\",\"Negative\",\"Negative\",\"Positive\",\"Positive\",\"Positive\",\"Positive\",\"Neutral\",\"Positive\",\"Negative\",\"Negative\",\"Neutral\",\"Neutral\",\"Positive\",\"Positive\",\"Positive\",\"Neutral\",\"Positive\",\"Positive\",\"Negative\",\"Positive\",\"Negative\",\"Negative\",\"Positive\",\"Positive\",\"Positive\",\"Negative\",\"Negative\",\"Neutral\",\"Positive\",\"Neutral\",\"Neutral\",\"Neutral\",\"Neutral\",\"Neutral\",\"Neutral\",\"Negative\",\"Neutral\",\"Negative\",\"Positive\",\"Neutral\",\"Positive\",\"Positive\",\"Positive\",\"Positive\",\"Neutral\",\"Negative\",\"Positive\",\"Positive\",\"Negative\",\"Neutral\",\"Negative\",\"Positive\",\"Neutral\",\"Positive\",\"Negative\",\"Positive\",\"Positive\",\"Neutral\",\"Positive\",\"Neutral\",\"Negative\",\"Negative\",\"Positive\",\"Positive\",\"Negative\",\"Neutral\",\"Negative\",\"Negative\",\"Negative\",\"Positive\",\"Positive\",\"Neutral\",\"Positive\",\"Negative\",\"Negative\",\"Positive\",\"Positive\",\"Negative\",\"Negative\",\"Negative\",\"Positive\",\"Positive\",\"Negative\",\"Positive\",\"Positive\",\"Neutral\",\"Positive\",\"Positive\",\"Positive\",\"Neutral\",\"Neutral\",\"Positive\",\"Negative\",\"Positive\",\"Positive\",\"Neutral\",\"Neutral\",\"Neutral\",\"Negative\",\"Positive\",\"Neutral\",\"Negative\",\"Negative\",\"Positive\",\"Positive\",\"Positive\",\"Positive\",\"Positive\",\"Positive\",\"Negative\",\"Negative\",\"Positive\",\"Positive\",\"Negative\",\"Neutral\",\"Neutral\",\"Positive\",\"Neutral\",\"Neutral\",\"Neutral\",\"Positive\",\"Positive\",\"Positive\",\"Negative\",\"Negative\",\"Positive\",\"Negative\",\"Negative\",\"Negative\",\"Positive\",\"Positive\",\"Negative\",\"Positive\",\"Neutral\",\"Negative\",\"Negative\",\"Neutral\",\"Negative\",\"Positive\",\"Negative\",\"Neutral\",\"Positive\",\"Negative\",\"Negative\",\"Negative\",\"Negative\",\"Neutral\",\"Negative\",\"Negative\",\"Positive\",\"Negative\",\"Negative\",\"Positive\",\"Positive\",\"Neutral\",\"Negative\",\"Positive\",\"Negative\",\"Neutral\",\"Positive\",\"Positive\",\"Positive\",\"Negative\",\"Positive\",\"Positive\",\"Positive\",\"Positive\",\"Neutral\",\"Negative\",\"Positive\",\"Positive\",\"Positive\",\"Neutral\",\"Negative\",\"Negative\",\"Neutral\",\"Positive\",\"Positive\",\"Negative\",\"Negative\",\"Negative\",\"Negative\",\"Neutral\",\"Negative\",\"Negative\",\"Positive\",\"Neutral\",\"Neutral\",\"Negative\",\"Positive\",\"Positive\",\"Neutral\",\"Neutral\",\"Positive\",\"Positive\",\"Positive\",\"Negative\",\"Positive\",\"Negative\",\"Positive\",\"Positive\",\"Neutral\",\"Negative\",\"Positive\",\"Negative\",\"Positive\",\"Positive\",\"Positive\",\"Negative\",\"Negative\",\"Neutral\",\"Negative\",\"Negative\",\"Neutral\",\"Positive\",\"Positive\",\"Negative\",\"Positive\",\"Negative\",\"Positive\",\"Positive\",\"Neutral\",\"Positive\",\"Negative\",\"Positive\",\"Positive\",\"Positive\",\"Neutral\",\"Positive\",\"Negative\",\"Negative\",\"Positive\",\"Negative\",\"Neutral\",\"Neutral\",\"Positive\",\"Neutral\",\"Neutral\",\"Positive\",\"Positive\",\"Negative\",\"Neutral\",\"Negative\",\"Positive\",\"Positive\",\"Negative\",\"Neutral\",\"Negative\",\"Positive\",\"Neutral\",\"Positive\",\"Positive\",\"Positive\",\"Positive\",\"Neutral\",\"Neutral\",\"Neutral\",\"Negative\",\"Positive\",\"Negative\",\"Negative\",\"Positive\",\"Positive\",\"Neutral\",\"Positive\",\"Negative\",\"Negative\",\"Neutral\",\"Negative\",\"Positive\",\"Positive\",\"Positive\",\"Negative\",\"Negative\",\"Negative\",\"Neutral\",\"Positive\",\"Positive\",\"Positive\",\"Neutral\",\"Neutral\",\"Neutral\",\"Positive\",\"Positive\",\"Positive\",\"Negative\",\"Negative\",\"Positive\",\"Negative\",\"Negative\",\"Neutral\",\"Negative\",\"Negative\",\"Negative\",\"Positive\",\"Positive\",\"Positive\",\"Neutral\",\"Neutral\",\"Neutral\",\"Positive\",\"Neutral\",\"Positive\",\"Positive\",\"Positive\",\"Negative\",\"Negative\",\"Neutral\",\"Positive\",\"Positive\",\"Positive\",\"Negative\",\"Neutral\",\"Negative\",\"Negative\",\"Positive\",\"Positive\",\"Negative\",\"Positive\",\"Negative\",\"Positive\",\"Neutral\",\"Positive\",\"Positive\",\"Neutral\",\"Neutral\",\"Neutral\",\"Positive\",\"Positive\",\"Negative\",\"Neutral\",\"Positive\",\"Positive\",\"Negative\",\"Negative\",\"Negative\",\"Positive\",\"Negative\",\"Negative\",\"Negative\",\"Neutral\",\"Neutral\",\"Negative\",\"Negative\",\"Positive\",\"Negative\",\"Neutral\",\"Neutral\",\"Negative\",\"Negative\",\"Negative\",\"Positive\",\"Negative\",\"Positive\",\"Positive\",\"Positive\",\"Positive\",\"Positive\",\"Positive\",\"Positive\",\"Neutral\",\"Negative\",\"Positive\",\"Neutral\",\"Positive\",\"Positive\",\"Negative\",\"Negative\",\"Negative\",\"Neutral\",\"Negative\",\"Neutral\",\"Positive\",\"Positive\",\"Neutral\",\"Negative\",\"Positive\",\"Positive\",\"Positive\",\"Negative\",\"Positive\",\"Negative\",\"Negative\",\"Negative\",\"Positive\",\"Positive\",\"Neutral\",\"Positive\",\"Positive\",\"Positive\",\"Negative\",\"Neutral\",\"Negative\",\"Negative\",\"Negative\",\"Positive\",\"Negative\",\"Positive\",\"Positive\",\"Positive\",\"Negative\",\"Positive\",\"Neutral\",\"Negative\",\"Positive\",\"Neutral\",\"Positive\",\"Positive\",\"Positive\",\"Positive\",\"Positive\",\"Negative\",\"Positive\",\"Positive\",\"Negative\",\"Negative\",\"Positive\",\"Positive\",\"Negative\",\"Positive\",\"Negative\",\"Positive\",\"Positive\",\"Negative\",\"Negative\",\"Neutral\",\"Positive\",\"Positive\",\"Positive\",\"Positive\",\"Negative\",\"Neutral\",\"Negative\",\"Neutral\",\"Positive\",\"Positive\",\"Negative\",\"Positive\",\"Neutral\",\"Neutral\",\"Neutral\",\"Negative\",\"Negative\",\"Positive\",\"Positive\",\"Positive\",\"Positive\",\"Negative\",\"Negative\",\"Positive\",\"Negative\",\"Positive\",\"Positive\",\"Positive\",\"Negative\",\"Negative\",\"Positive\",\"Negative\",\"Positive\",\"Positive\",\"Negative\",\"Neutral\",\"Positive\",\"Positive\",\"Negative\",\"Neutral\",\"Neutral\",\"Negative\",\"Negative\",\"Positive\",\"Negative\",\"Neutral\",\"Positive\",\"Negative\",\"Positive\",\"Negative\",\"Positive\",\"Negative\",\"Negative\",\"Positive\",\"Positive\",\"Negative\",\"Negative\",\"Positive\",\"Negative\",\"Neutral\",\"Neutral\",\"Negative\",\"Negative\",\"Positive\",\"Neutral\",\"Positive\",\"Positive\",\"Neutral\",\"Neutral\",\"Positive\",\"Neutral\",\"Positive\",\"Positive\",\"Neutral\",\"Positive\",\"Positive\",\"Negative\",\"Negative\",\"Positive\",\"Positive\",\"Negative\",\"Negative\",\"Neutral\",\"Negative\",\"Negative\",\"Negative\",\"Negative\",\"Negative\",\"Negative\",\"Negative\",\"Negative\",\"Negative\",\"Neutral\",\"Positive\",\"Positive\",\"Positive\",\"Positive\",\"Neutral\",\"Neutral\",\"Positive\",\"Negative\",\"Positive\",\"Negative\",\"Negative\",\"Negative\",\"Neutral\",\"Neutral\",\"Positive\",\"Positive\",\"Positive\",\"Negative\",\"Positive\",\"Negative\",\"Negative\",\"Positive\",\"Positive\",\"Positive\",\"Neutral\",\"Positive\",\"Positive\",\"Neutral\",\"Positive\",\"Neutral\",\"Positive\",\"Positive\",\"Neutral\",\"Negative\",\"Neutral\",\"Neutral\",\"Negative\",\"Positive\",\"Negative\",\"Neutral\",\"Positive\",\"Neutral\",\"Positive\",\"Positive\",\"Positive\",\"Neutral\",\"Negative\",\"Positive\",\"Negative\",\"Negative\",\"Negative\",\"Neutral\",\"Positive\",\"Positive\",\"Neutral\",\"Neutral\",\"Negative\",\"Positive\",\"Positive\",\"Positive\",\"Negative\",\"Neutral\",\"Neutral\",\"Negative\",\"Negative\",\"Positive\",\"Positive\",\"Neutral\",\"Negative\",\"Negative\",\"Neutral\",\"Negative\",\"Positive\",\"Positive\",\"Negative\",\"Positive\",\"Positive\",\"Neutral\",\"Negative\",\"Positive\",\"Neutral\",\"Neutral\",\"Negative\",\"Negative\",\"Negative\",\"Positive\",\"Positive\",\"Positive\",\"Neutral\",\"Neutral\",\"Negative\",\"Positive\",\"Positive\",\"Neutral\",\"Negative\",\"Positive\",\"Neutral\",\"Positive\",\"Positive\",\"Neutral\",\"Positive\",\"Negative\",\"Positive\",\"Positive\",\"Positive\",\"Negative\",\"Positive\",\"Neutral\",\"Negative\",\"Positive\",\"Negative\",\"Positive\",\"Negative\",\"Neutral\",\"Negative\",\"Neutral\",\"Negative\",\"Positive\",\"Positive\",\"Negative\",\"Positive\",\"Neutral\",\"Positive\",\"Negative\",\"Neutral\",\"Neutral\",\"Negative\",\"Negative\",\"Negative\",\"Negative\",\"Positive\",\"Positive\",\"Positive\",\"Negative\",\"Negative\",\"Positive\",\"Neutral\",\"Negative\",\"Positive\",\"Negative\",\"Negative\",\"Positive\",\"Positive\",\"Negative\",\"Positive\",\"Positive\",\"Negative\",\"Positive\",\"Neutral\",\"Negative\",\"Neutral\",\"Positive\",\"Negative\",\"Positive\",\"Negative\",\"Negative\",\"Neutral\",\"Neutral\",\"Positive\",\"Positive\",\"Positive\",\"Negative\",\"Positive\",\"Positive\",\"Negative\",\"Negative\",\"Positive\",\"Negative\",\"Negative\",\"Negative\",\"Positive\",\"Positive\",\"Positive\",\"Negative\",\"Negative\",\"Negative\",\"Positive\",\"Neutral\",\"Neutral\",\"Neutral\",\"Positive\",\"Negative\",\"Positive\",\"Negative\",\"Negative\",\"Positive\",\"Negative\",\"Neutral\",\"Positive\",\"Positive\",\"Neutral\",\"Positive\",\"Neutral\",\"Neutral\",\"Neutral\",\"Negative\",\"Negative\",\"Neutral\",\"Neutral\",\"Positive\",\"Negative\",\"Negative\",\"Positive\",\"Negative\",\"Positive\",\"Positive\",\"Negative\",\"Neutral\",\"Neutral\",\"Negative\",\"Positive\",\"Negative\",\"Negative\",\"Neutral\",\"Negative\",\"Negative\",\"Negative\",\"Negative\",\"Negative\",\"Positive\",\"Neutral\",\"Neutral\",\"Positive\",\"Neutral\",\"Positive\",\"Negative\",\"Positive\",\"Positive\",\"Positive\",\"Negative\",\"Positive\",\"Positive\",\"Neutral\",\"Positive\",\"Negative\",\"Positive\",\"Positive\",\"Neutral\",\"Negative\",\"Negative\",\"Negative\",\"Positive\",\"Negative\",\"Negative\",\"Positive\",\"Neutral\",\"Negative\",\"Neutral\",\"Neutral\",\"Negative\",\"Negative\",\"Negative\",\"Negative\",\"Positive\",\"Negative\",\"Neutral\",\"Negative\",\"Positive\",\"Positive\",\"Positive\",\"Negative\",\"Positive\",\"Neutral\",\"Negative\",\"Negative\",\"Positive\",\"Negative\",\"Negative\",\"Neutral\",\"Negative\",\"Neutral\",\"Positive\",\"Positive\",\"Positive\",\"Positive\",\"Neutral\",\"Positive\",\"Positive\",\"Positive\",\"Positive\",\"Negative\",\"Positive\",\"Negative\",\"Neutral\",\"Neutral\",\"Neutral\",\"Neutral\",\"Neutral\",\"Negative\",\"Negative\",\"Negative\",\"Positive\",\"Positive\",\"Negative\",\"Neutral\",\"Neutral\",\"Positive\",\"Positive\",\"Positive\",\"Positive\",\"Negative\",\"Neutral\",\"Positive\",\"Neutral\",\"Negative\",\"Neutral\",\"Positive\",\"Negative\",\"Negative\",\"Negative\",\"Negative\",\"Negative\",\"Negative\",\"Positive\",\"Positive\",\"Positive\",\"Positive\",\"Negative\",\"Neutral\",\"Positive\",\"Neutral\",\"Neutral\",\"Negative\",\"Negative\",\"Neutral\",\"Positive\",\"Positive\",\"Positive\",\"Positive\",\"Neutral\",\"Negative\",\"Negative\",\"Negative\",\"Negative\",\"Negative\",\"Negative\",\"Negative\",\"Negative\",\"Positive\",\"Negative\",\"Neutral\",\"Negative\",\"Positive\",\"Neutral\",\"Negative\",\"Positive\",\"Negative\",\"Negative\",\"Positive\",\"Positive\",\"Negative\",\"Neutral\",\"Neutral\",\"Negative\",\"Negative\",\"Negative\",\"Neutral\",\"Negative\",\"Positive\",\"Negative\",\"Positive\",\"Neutral\",\"Neutral\",\"Positive\",\"Neutral\",\"Neutral\",\"Neutral\",\"Positive\",\"Positive\",\"Positive\",\"Negative\",\"Positive\",\"Negative\",\"Negative\",\"Positive\",\"Positive\",\"Neutral\",\"Positive\",\"Negative\",\"Positive\",\"Neutral\",\"Neutral\",\"Neutral\",\"Positive\",\"Negative\",\"Positive\",\"Positive\",\"Positive\",\"Positive\",\"Positive\",\"Positive\",\"Negative\",\"Negative\",\"Negative\",\"Negative\",\"Positive\",\"Positive\",\"Negative\",\"Negative\",\"Negative\",\"Positive\",\"Negative\",\"Negative\",\"Neutral\",\"Negative\",\"Positive\",\"Positive\",\"Positive\",\"Negative\",\"Positive\",\"Positive\",\"Negative\",\"Negative\",\"Positive\",\"Positive\",\"Positive\",\"Positive\",\"Negative\",\"Positive\",\"Neutral\",\"Neutral\",\"Positive\",\"Positive\",\"Negative\",\"Negative\",\"Negative\",\"Positive\",\"Neutral\",\"Neutral\",\"Positive\",\"Negative\",\"Positive\",\"Positive\",\"Negative\",\"Positive\",\"Neutral\",\"Neutral\",\"Negative\",\"Negative\",\"Neutral\",\"Positive\",\"Neutral\",\"Positive\",\"Neutral\",\"Negative\",\"Positive\",\"Negative\",\"Negative\",\"Neutral\",\"Positive\",\"Positive\",\"Positive\",\"Neutral\",\"Positive\",\"Positive\",\"Negative\",\"Positive\",\"Positive\",\"Negative\",\"Negative\",\"Positive\",\"Positive\",\"Negative\",\"Neutral\",\"Positive\",\"Positive\",\"Neutral\",\"Positive\",\"Positive\",\"Positive\",\"Neutral\",\"Positive\",\"Negative\",\"Positive\",\"Positive\",\"Negative\",\"Neutral\",\"Negative\",\"Positive\",\"Negative\",\"Negative\",\"Positive\",\"Positive\",\"Neutral\",\"Neutral\",\"Neutral\",\"Negative\",\"Positive\",\"Neutral\",\"Positive\",\"Negative\",\"Positive\",\"Negative\",\"Negative\",\"Negative\",\"Positive\",\"Negative\",\"Negative\",\"Neutral\",\"Positive\",\"Positive\",\"Negative\",\"Neutral\",\"Neutral\",\"Positive\",\"Negative\",\"Negative\",\"Negative\",\"Positive\",\"Positive\",\"Negative\",\"Negative\",\"Positive\",\"Positive\",\"Negative\",\"Positive\",\"Neutral\",\"Neutral\",\"Positive\",\"Positive\",\"Negative\",\"Negative\",\"Positive\",\"Neutral\",\"Negative\",\"Negative\",\"Positive\",\"Positive\",\"Positive\",\"Positive\",\"Positive\",\"Positive\",\"Neutral\",\"Negative\",\"Neutral\",\"Neutral\",\"Positive\",\"Positive\",\"Positive\",\"Positive\",\"Negative\",\"Negative\",\"Positive\",\"Neutral\",\"Negative\",\"Positive\",\"Neutral\",\"Neutral\",\"Positive\",\"Neutral\",\"Positive\",\"Positive\",\"Negative\",\"Negative\",\"Neutral\",\"Neutral\",\"Negative\",\"Neutral\",\"Positive\",\"Negative\",\"Positive\",\"Neutral\",\"Positive\",\"Positive\",\"Neutral\",\"Positive\",\"Positive\",\"Positive\",\"Positive\",\"Positive\",\"Negative\",\"Positive\",\"Positive\",\"Negative\",\"Negative\",\"Negative\",\"Positive\",\"Positive\",\"Neutral\",\"Neutral\",\"Negative\",\"Positive\",\"Negative\",\"Positive\",\"Negative\",\"Positive\",\"Negative\",\"Positive\",\"Positive\",\"Positive\",\"Neutral\",\"Neutral\",\"Neutral\",\"Negative\",\"Neutral\",\"Negative\",\"Positive\",\"Negative\",\"Negative\",\"Neutral\",\"Positive\",\"Positive\",\"Negative\",\"Positive\",\"Negative\",\"Neutral\",\"Positive\",\"Positive\",\"Negative\",\"Positive\",\"Positive\",\"Negative\",\"Neutral\",\"Positive\",\"Negative\",\"Positive\",\"Positive\",\"Positive\",\"Positive\",\"Positive\",\"Negative\",\"Positive\",\"Positive\",\"Positive\",\"Positive\",\"Negative\",\"Neutral\",\"Positive\",\"Negative\",\"Positive\",\"Positive\",\"Negative\",\"Neutral\",\"Neutral\",\"Positive\",\"Negative\",\"Negative\",\"Negative\",\"Positive\",\"Neutral\",\"Positive\",\"Negative\",\"Neutral\",\"Negative\",\"Neutral\",\"Positive\",\"Positive\",\"Negative\",\"Positive\",\"Negative\",\"Negative\",\"Negative\",\"Positive\",\"Negative\",\"Negative\",\"Negative\",\"Positive\",\"Positive\",\"Positive\",\"Positive\",\"Positive\",\"Negative\",\"Negative\",\"Positive\",\"Positive\",\"Negative\",\"Negative\",\"Positive\",\"Positive\",\"Negative\",\"Negative\",\"Negative\",\"Positive\",\"Negative\",\"Positive\",\"Negative\",\"Negative\",\"Positive\",\"Negative\",\"Positive\",\"Positive\",\"Neutral\",\"Positive\",\"Neutral\",\"Positive\",\"Positive\",\"Negative\",\"Negative\",\"Positive\",\"Positive\",\"Positive\",\"Negative\",\"Neutral\",\"Positive\",\"Positive\",\"Negative\",\"Positive\",\"Negative\",\"Positive\",\"Neutral\",\"Negative\",\"Negative\",\"Neutral\",\"Negative\",\"Neutral\",\"Negative\",\"Negative\",\"Negative\",\"Negative\",\"Negative\",\"Negative\",\"Positive\",\"Negative\",\"Positive\",\"Negative\",\"Positive\",\"Negative\",\"Positive\",\"Positive\",\"Negative\",\"Negative\",\"Positive\",\"Positive\",\"Positive\",\"Positive\",\"Positive\",\"Positive\",\"Positive\",\"Neutral\",\"Positive\",\"Negative\",\"Negative\",\"Positive\",\"Positive\",\"Positive\",\"Negative\",\"Positive\",\"Neutral\",\"Negative\",\"Negative\",\"Neutral\",\"Positive\",\"Negative\",\"Positive\",\"Negative\",\"Positive\",\"Positive\",\"Positive\",\"Positive\",\"Negative\",\"Neutral\",\"Positive\",\"Negative\",\"Neutral\",\"Neutral\",\"Negative\",\"Neutral\",\"Neutral\",\"Negative\",\"Positive\",\"Negative\",\"Negative\",\"Negative\",\"Negative\",\"Negative\",\"Neutral\",\"Positive\",\"Positive\",\"Negative\",\"Negative\",\"Neutral\",\"Neutral\",\"Positive\",\"Positive\",\"Neutral\",\"Negative\",\"Positive\",\"Negative\",\"Positive\",\"Negative\",\"Positive\",\"Positive\",\"Negative\",\"Negative\",\"Negative\",\"Negative\",\"Neutral\",\"Positive\",\"Positive\",\"Positive\",\"Neutral\",\"Positive\",\"Negative\",\"Negative\",\"Positive\",\"Positive\",\"Negative\",\"Positive\",\"Neutral\",\"Positive\",\"Neutral\",\"Neutral\",\"Negative\",\"Neutral\",\"Positive\",\"Negative\",\"Positive\",\"Positive\",\"Negative\",\"Negative\",\"Positive\",\"Positive\",\"Positive\",\"Negative\",\"Positive\",\"Negative\",\"Negative\",\"Negative\",\"Positive\",\"Negative\",\"Negative\",\"Neutral\",\"Negative\",\"Positive\",\"Positive\",\"Positive\",\"Neutral\",\"Neutral\",\"Negative\",\"Negative\",\"Negative\",\"Negative\",\"Positive\",\"Negative\",\"Positive\",\"Neutral\",\"Negative\",\"Positive\",\"Negative\",\"Negative\",\"Negative\",\"Positive\",\"Negative\",\"Positive\",\"Negative\",\"Negative\",\"Positive\",\"Negative\",\"Negative\",\"Negative\",\"Positive\",\"Negative\",\"Positive\",\"Negative\",\"Negative\",\"Neutral\",\"Neutral\",\"Neutral\",\"Negative\",\"Positive\",\"Positive\",\"Positive\",\"Negative\",\"Positive\",\"Negative\",\"Positive\",\"Negative\",\"Negative\",\"Negative\",\"Positive\",\"Neutral\",\"Neutral\",\"Neutral\",\"Negative\",\"Neutral\",\"Negative\",\"Positive\",\"Positive\",\"Negative\",\"Neutral\",\"Negative\",\"Neutral\",\"Negative\",\"Neutral\",\"Negative\",\"Positive\",\"Neutral\",\"Positive\",\"Positive\",\"Positive\",\"Positive\",\"Neutral\",\"Neutral\",\"Negative\",\"Negative\",\"Negative\",\"Positive\",\"Neutral\",\"Positive\",\"Positive\",\"Positive\",\"Positive\",\"Neutral\",\"Negative\",\"Neutral\",\"Positive\",\"Neutral\",\"Positive\",\"Positive\",\"Neutral\",\"Neutral\",\"Negative\",\"Negative\",\"Positive\",\"Positive\",\"Neutral\",\"Negative\",\"Neutral\",\"Negative\",\"Positive\",\"Negative\",\"Positive\",\"Positive\",\"Positive\",\"Positive\",\"Neutral\",\"Negative\",\"Negative\",\"Negative\",\"Positive\",\"Positive\",\"Neutral\",\"Positive\",\"Negative\",\"Positive\",\"Positive\",\"Positive\",\"Positive\",\"Neutral\",\"Negative\",\"Positive\",\"Negative\",\"Negative\",\"Positive\",\"Negative\",\"Negative\",\"Positive\",\"Negative\",\"Positive\",\"Neutral\",\"Negative\",\"Neutral\",\"Positive\",\"Negative\",\"Neutral\",\"Neutral\",\"Neutral\",\"Negative\",\"Negative\",\"Negative\",\"Negative\",\"Negative\",\"Neutral\",\"Negative\",\"Neutral\",\"Neutral\",\"Negative\",\"Positive\",\"Positive\",\"Neutral\",\"Neutral\",\"Negative\",\"Negative\",\"Negative\",\"Positive\",\"Positive\",\"Positive\",\"Positive\",\"Neutral\",\"Positive\",\"Positive\",\"Neutral\",\"Neutral\",\"Positive\",\"Positive\",\"Positive\",\"Negative\",\"Neutral\",\"Positive\",\"Positive\",\"Negative\",\"Negative\",\"Negative\",\"Neutral\",\"Positive\",\"Negative\",\"Negative\",\"Positive\",\"Negative\",\"Negative\",\"Positive\",\"Negative\",\"Neutral\",\"Positive\",\"Positive\",\"Negative\",\"Positive\",\"Negative\",\"Negative\",\"Positive\",\"Neutral\",\"Positive\",\"Neutral\",\"Neutral\",\"Positive\",\"Positive\",\"Positive\",\"Positive\",\"Negative\",\"Positive\",\"Neutral\",\"Positive\",\"Negative\",\"Positive\",\"Neutral\",\"Positive\",\"Positive\",\"Positive\",\"Negative\",\"Negative\",\"Negative\",\"Positive\",\"Positive\",\"Negative\",\"Negative\",\"Positive\",\"Negative\",\"Neutral\",\"Positive\",\"Negative\",\"Neutral\",\"Negative\",\"Positive\",\"Positive\",\"Neutral\",\"Positive\",\"Positive\",\"Positive\",\"Negative\",\"Negative\",\"Positive\",\"Neutral\",\"Neutral\",\"Neutral\",\"Negative\",\"Positive\",\"Positive\",\"Positive\",\"Positive\",\"Negative\",\"Negative\",\"Positive\",\"Neutral\",\"Negative\",\"Negative\",\"Positive\",\"Neutral\",\"Negative\",\"Neutral\",\"Positive\",\"Positive\",\"Negative\",\"Negative\",\"Positive\",\"Neutral\",\"Negative\",\"Negative\",\"Positive\",\"Positive\",\"Positive\",\"Negative\",\"Negative\",\"Positive\",\"Negative\",\"Negative\",\"Negative\",\"Negative\",\"Positive\",\"Positive\",\"Positive\",\"Positive\",\"Positive\",\"Positive\",\"Positive\",\"Positive\",\"Neutral\",\"Positive\",\"Negative\",\"Negative\",\"Neutral\",\"Neutral\",\"Positive\",\"Positive\",\"Negative\",\"Positive\",\"Positive\",\"Positive\",\"Negative\",\"Neutral\",\"Negative\",\"Negative\",\"Negative\",\"Positive\",\"Positive\",\"Negative\",\"Neutral\",\"Positive\",\"Positive\",\"Positive\",\"Positive\",\"Positive\",\"Neutral\",\"Negative\",\"Positive\",\"Positive\",\"Negative\",\"Positive\",\"Negative\",\"Neutral\",\"Positive\",\"Negative\",\"Positive\",\"Negative\",\"Positive\",\"Negative\",\"Positive\",\"Negative\",\"Neutral\",\"Neutral\",\"Negative\",\"Neutral\",\"Positive\",\"Negative\",\"Positive\",\"Positive\",\"Positive\",\"Positive\",\"Positive\",\"Negative\",\"Neutral\",\"Neutral\",\"Positive\",\"Neutral\",\"Negative\",\"Negative\",\"Positive\",\"Neutral\",\"Negative\",\"Negative\",\"Positive\",\"Negative\",\"Positive\",\"Neutral\",\"Neutral\",\"Neutral\",\"Negative\",\"Positive\",\"Positive\",\"Negative\",\"Positive\",\"Negative\",\"Positive\",\"Positive\",\"Negative\",\"Negative\",\"Negative\",\"Positive\",\"Positive\",\"Positive\",\"Negative\",\"Negative\",\"Positive\",\"Neutral\",\"Neutral\",\"Negative\",\"Negative\",\"Negative\",\"Positive\",\"Positive\",\"Negative\",\"Positive\",\"Neutral\",\"Neutral\",\"Negative\",\"Negative\",\"Negative\",\"Neutral\",\"Negative\",\"Neutral\",\"Negative\",\"Negative\",\"Neutral\",\"Negative\",\"Positive\",\"Neutral\",\"Negative\",\"Neutral\",\"Positive\",\"Negative\",\"Negative\",\"Negative\",\"Positive\",\"Negative\",\"Negative\",\"Neutral\",\"Positive\",\"Positive\",\"Negative\",\"Positive\",\"Positive\",\"Positive\",\"Negative\",\"Negative\",\"Neutral\",\"Neutral\",\"Neutral\",\"Neutral\",\"Positive\",\"Positive\",\"Positive\",\"Neutral\",\"Positive\",\"Negative\",\"Positive\",\"Negative\",\"Negative\",\"Negative\",\"Negative\",\"Positive\",\"Positive\",\"Positive\",\"Positive\",\"Positive\",\"Negative\",\"Positive\",\"Negative\",\"Negative\",\"Positive\",\"Negative\",\"Neutral\",\"Neutral\",\"Negative\",\"Negative\",\"Negative\",\"Positive\",\"Positive\",\"Neutral\",\"Negative\",\"Neutral\",\"Positive\",\"Positive\",\"Negative\",\"Negative\",\"Positive\",\"Negative\",\"Negative\",\"Negative\",\"Neutral\",\"Positive\",\"Neutral\",\"Negative\",\"Positive\",\"Positive\",\"Negative\",\"Negative\",\"Negative\",\"Negative\",\"Negative\",\"Negative\",\"Positive\",\"Negative\",\"Negative\",\"Positive\",\"Negative\",\"Neutral\",\"Negative\",\"Positive\",\"Negative\",\"Neutral\",\"Negative\",\"Negative\",\"Positive\",\"Negative\",\"Negative\",\"Negative\",\"Negative\",\"Negative\",\"Negative\",\"Positive\",\"Neutral\",\"Positive\",\"Negative\",\"Neutral\",\"Negative\",\"Positive\",\"Negative\",\"Positive\",\"Neutral\",\"Neutral\",\"Negative\",\"Positive\",\"Negative\",\"Negative\",\"Neutral\",\"Neutral\",\"Negative\",\"Negative\",\"Positive\",\"Positive\",\"Positive\",\"Neutral\",\"Positive\",\"Positive\",\"Positive\",\"Positive\",\"Negative\",\"Negative\",\"Negative\",\"Positive\",\"Positive\",\"Negative\",\"Positive\",\"Negative\",\"Positive\",\"Neutral\",\"Positive\",\"Negative\",\"Neutral\",\"Positive\",\"Negative\",\"Neutral\",\"Negative\",\"Positive\",\"Negative\",\"Positive\",\"Negative\",\"Negative\",\"Positive\",\"Positive\",\"Positive\",\"Negative\",\"Neutral\",\"Negative\",\"Negative\",\"Neutral\",\"Negative\",\"Negative\",\"Negative\",\"Neutral\",\"Positive\",\"Negative\",\"Positive\",\"Positive\",\"Negative\",\"Negative\",\"Neutral\",\"Neutral\",\"Positive\",\"Negative\",\"Neutral\",\"Neutral\",\"Neutral\",\"Positive\",\"Negative\",\"Positive\",\"Negative\",\"Negative\",\"Positive\",\"Negative\",\"Negative\",\"Positive\",\"Negative\",\"Positive\",\"Neutral\",\"Negative\",\"Negative\",\"Negative\",\"Negative\",\"Negative\",\"Positive\",\"Neutral\",\"Negative\",\"Negative\",\"Neutral\",\"Positive\",\"Positive\",\"Positive\",\"Neutral\",\"Positive\",\"Negative\",\"Positive\",\"Positive\",\"Negative\",\"Negative\",\"Negative\",\"Negative\",\"Neutral\",\"Negative\",\"Positive\",\"Negative\",\"Positive\",\"Positive\",\"Neutral\",\"Positive\",\"Positive\",\"Negative\",\"Neutral\",\"Negative\",\"Positive\",\"Positive\",\"Negative\",\"Negative\",\"Neutral\",\"Positive\",\"Positive\",\"Negative\",\"Negative\",\"Negative\",\"Positive\",\"Negative\",\"Negative\",\"Neutral\",\"Negative\",\"Neutral\",\"Positive\",\"Positive\",\"Negative\",\"Positive\",\"Negative\",\"Neutral\",\"Negative\",\"Negative\",\"Negative\",\"Positive\",\"Negative\",\"Positive\",\"Neutral\",\"Negative\",\"Negative\",\"Positive\",\"Neutral\",\"Negative\",\"Positive\",\"Negative\",\"Negative\",\"Neutral\",\"Neutral\",\"Positive\",\"Negative\",\"Negative\",\"Positive\",\"Neutral\",\"Positive\",\"Positive\",\"Negative\",\"Positive\",\"Positive\",\"Positive\",\"Positive\",\"Positive\",\"Negative\",\"Positive\",\"Positive\",\"Negative\",\"Negative\",\"Negative\",\"Negative\",\"Negative\",\"Positive\",\"Negative\",\"Negative\",\"Positive\",\"Positive\",\"Positive\",\"Positive\",\"Neutral\",\"Negative\",\"Positive\",\"Neutral\",\"Negative\",\"Negative\",\"Positive\",\"Neutral\",\"Negative\",\"Negative\",\"Positive\",\"Neutral\",\"Negative\",\"Positive\",\"Positive\",\"Neutral\",\"Positive\",\"Neutral\",\"Negative\",\"Positive\",\"Positive\",\"Positive\",\"Negative\",\"Negative\",\"Neutral\",\"Neutral\",\"Positive\",\"Neutral\",\"Neutral\",\"Positive\",\"Negative\",\"Negative\",\"Neutral\",\"Negative\",\"Positive\",\"Negative\",\"Negative\",\"Positive\",\"Positive\",\"Positive\",\"Negative\",\"Neutral\",\"Negative\",\"Positive\",\"Neutral\",\"Negative\",\"Negative\",\"Positive\",\"Positive\",\"Negative\",\"Negative\",\"Positive\",\"Negative\",\"Positive\",\"Positive\",\"Positive\",\"Neutral\",\"Negative\",\"Negative\",\"Negative\",\"Positive\",\"Positive\",\"Neutral\",\"Neutral\",\"Positive\",\"Negative\",\"Positive\",\"Neutral\",\"Negative\",\"Positive\",\"Positive\",\"Negative\",\"Positive\",\"Neutral\",\"Positive\",\"Positive\",\"Positive\",\"Positive\",\"Neutral\",\"Neutral\",\"Positive\",\"Negative\",\"Positive\",\"Neutral\",\"Neutral\",\"Positive\",\"Positive\",\"Positive\",\"Neutral\",\"Negative\",\"Positive\",\"Positive\",\"Neutral\",\"Positive\",\"Positive\",\"Neutral\",\"Neutral\",\"Negative\",\"Positive\",\"Negative\",\"Neutral\",\"Neutral\",\"Negative\",\"Positive\",\"Positive\",\"Negative\",\"Positive\",\"Positive\",\"Negative\",\"Negative\",\"Positive\",\"Negative\",\"Positive\",\"Negative\",\"Negative\",\"Negative\",\"Negative\",\"Positive\",\"Negative\",\"Negative\",\"Neutral\",\"Negative\",\"Positive\",\"Neutral\",\"Neutral\",\"Negative\",\"Negative\",\"Negative\",\"Positive\",\"Negative\",\"Neutral\",\"Negative\",\"Neutral\",\"Neutral\",\"Positive\",\"Positive\",\"Negative\",\"Negative\",\"Positive\",\"Positive\",\"Negative\",\"Negative\",\"Negative\",\"Negative\",\"Positive\",\"Positive\",\"Negative\",\"Positive\",\"Positive\",\"Neutral\",\"Positive\",\"Negative\",\"Neutral\",\"Positive\",\"Neutral\",\"Neutral\",\"Negative\",\"Positive\",\"Negative\",\"Neutral\",\"Negative\",\"Positive\",\"Positive\",\"Positive\",\"Negative\",\"Negative\",\"Positive\",\"Positive\",\"Positive\",\"Positive\",\"Positive\",\"Positive\",\"Neutral\",\"Negative\",\"Positive\",\"Negative\",\"Negative\",\"Positive\",\"Positive\",\"Neutral\",\"Neutral\",\"Positive\",\"Negative\",\"Positive\",\"Negative\",\"Neutral\",\"Positive\",\"Positive\",\"Negative\",\"Positive\",\"Neutral\",\"Positive\",\"Neutral\",\"Positive\",\"Negative\",\"Negative\",\"Positive\",\"Neutral\",\"Positive\",\"Negative\",\"Neutral\",\"Positive\",\"Negative\",\"Neutral\",\"Negative\",\"Positive\",\"Negative\",\"Positive\",\"Positive\",\"Negative\",\"Negative\",\"Positive\",\"Positive\",\"Negative\",\"Neutral\",\"Positive\",\"Negative\",\"Negative\",\"Positive\",\"Positive\",\"Positive\",\"Positive\",\"Negative\",\"Neutral\",\"Negative\",\"Negative\",\"Neutral\",\"Positive\",\"Positive\",\"Neutral\",\"Negative\",\"Negative\",\"Positive\",\"Positive\",\"Neutral\",\"Positive\",\"Neutral\",\"Negative\",\"Negative\",\"Positive\",\"Negative\",\"Positive\",\"Negative\",\"Positive\",\"Negative\",\"Negative\",\"Positive\",\"Positive\",\"Positive\",\"Positive\",\"Negative\",\"Positive\",\"Positive\",\"Positive\",\"Neutral\",\"Positive\",\"Neutral\",\"Negative\",\"Neutral\",\"Positive\",\"Negative\",\"Neutral\",\"Positive\",\"Negative\",\"Negative\",\"Negative\",\"Positive\",\"Neutral\",\"Positive\",\"Positive\",\"Negative\",\"Negative\",\"Positive\",\"Neutral\",\"Negative\",\"Neutral\",\"Neutral\",\"Positive\",\"Negative\",\"Positive\",\"Positive\",\"Positive\",\"Negative\",\"Positive\",\"Positive\",\"Positive\",\"Positive\",\"Negative\",\"Negative\",\"Negative\",\"Positive\",\"Positive\",\"Negative\",\"Neutral\",\"Negative\",\"Positive\",\"Positive\",\"Positive\",\"Positive\",\"Neutral\",\"Neutral\",\"Neutral\",\"Positive\",\"Negative\",\"Positive\",\"Neutral\",\"Neutral\",\"Neutral\",\"Negative\",\"Neutral\",\"Negative\",\"Neutral\",\"Positive\",\"Negative\",\"Positive\",\"Negative\",\"Negative\",\"Negative\",\"Negative\",\"Neutral\",\"Positive\",\"Negative\",\"Positive\",\"Positive\",\"Negative\",\"Negative\",\"Neutral\",\"Negative\",\"Positive\",\"Neutral\",\"Negative\",\"Positive\",\"Positive\",\"Positive\",\"Positive\",\"Negative\",\"Negative\",\"Positive\",\"Negative\",\"Positive\",\"Positive\",\"Neutral\",\"Positive\",\"Neutral\",\"Positive\",\"Negative\",\"Negative\",\"Positive\",\"Positive\",\"Negative\",\"Positive\",\"Neutral\",\"Positive\",\"Neutral\",\"Neutral\",\"Positive\",\"Negative\",\"Positive\",\"Negative\",\"Negative\",\"Neutral\",\"Negative\",\"Negative\",\"Negative\",\"Neutral\",\"Positive\",\"Negative\",\"Positive\",\"Positive\",\"Neutral\",\"Positive\",\"Positive\",\"Negative\",\"Negative\",\"Negative\",\"Neutral\",\"Negative\",\"Positive\",\"Positive\",\"Negative\",\"Positive\",\"Positive\",\"Negative\",\"Positive\",\"Negative\",\"Negative\",\"Positive\",\"Negative\",\"Negative\",\"Negative\",\"Positive\",\"Negative\",\"Positive\",\"Positive\",\"Neutral\",\"Negative\",\"Negative\",\"Positive\",\"Positive\",\"Positive\",\"Negative\",\"Negative\",\"Positive\",\"Positive\",\"Positive\",\"Positive\",\"Negative\",\"Positive\",\"Neutral\",\"Positive\",\"Negative\",\"Positive\",\"Negative\",\"Negative\",\"Negative\",\"Positive\",\"Positive\",\"Negative\",\"Neutral\",\"Positive\",\"Negative\",\"Positive\",\"Positive\",\"Neutral\",\"Neutral\",\"Neutral\",\"Positive\",\"Negative\",\"Neutral\",\"Negative\",\"Positive\",\"Positive\",\"Negative\",\"Positive\",\"Positive\",\"Negative\",\"Neutral\",\"Positive\",\"Positive\",\"Neutral\",\"Negative\",\"Negative\",\"Neutral\",\"Positive\",\"Positive\",\"Negative\",\"Positive\",\"Positive\",\"Positive\",\"Negative\",\"Negative\",\"Negative\",\"Positive\",\"Neutral\",\"Neutral\",\"Neutral\",\"Neutral\",\"Positive\",\"Negative\",\"Negative\",\"Negative\",\"Negative\",\"Positive\",\"Neutral\",\"Negative\",\"Negative\",\"Positive\",\"Neutral\",\"Negative\",\"Negative\",\"Neutral\",\"Positive\",\"Negative\",\"Positive\",\"Neutral\",\"Neutral\",\"Positive\",\"Positive\",\"Positive\",\"Neutral\",\"Negative\",\"Neutral\",\"Positive\",\"Negative\",\"Negative\",\"Negative\",\"Positive\",\"Positive\",\"Positive\",\"Neutral\",\"Negative\",\"Negative\",\"Negative\",\"Positive\",\"Negative\",\"Neutral\",\"Negative\",\"Positive\",\"Positive\",\"Positive\",\"Positive\",\"Positive\",\"Neutral\",\"Neutral\",\"Negative\",\"Negative\",\"Negative\",\"Positive\",\"Positive\",\"Negative\",\"Positive\",\"Positive\",\"Positive\",\"Positive\",\"Negative\",\"Neutral\",\"Neutral\",\"Negative\",\"Neutral\",\"Negative\",\"Negative\",\"Negative\",\"Negative\",\"Negative\",\"Neutral\",\"Neutral\",\"Positive\",\"Positive\",\"Negative\",\"Positive\",\"Positive\",\"Negative\",\"Positive\",\"Negative\",\"Positive\",\"Positive\",\"Negative\",\"Negative\",\"Negative\",\"Positive\",\"Negative\",\"Negative\",\"Positive\",\"Negative\",\"Positive\",\"Negative\",\"Negative\",\"Neutral\",\"Negative\",\"Neutral\",\"Negative\",\"Negative\",\"Negative\",\"Negative\",\"Negative\",\"Negative\",\"Negative\",\"Positive\",\"Positive\",\"Neutral\",\"Negative\",\"Neutral\",\"Positive\",\"Positive\",\"Positive\",\"Positive\",\"Positive\",\"Positive\",\"Negative\",\"Negative\",\"Positive\",\"Negative\",\"Negative\",\"Neutral\",\"Neutral\",\"Neutral\",\"Negative\",\"Neutral\",\"Negative\",\"Neutral\",\"Neutral\",\"Positive\",\"Negative\",\"Negative\",\"Negative\",\"Negative\",\"Negative\",\"Neutral\",\"Neutral\",\"Negative\",\"Positive\",\"Negative\",\"Negative\",\"Negative\",\"Neutral\",\"Positive\",\"Negative\",\"Negative\",\"Positive\",\"Neutral\",\"Neutral\",\"Neutral\",\"Positive\",\"Negative\",\"Negative\",\"Positive\",\"Negative\",\"Neutral\",\"Positive\",\"Neutral\",\"Positive\",\"Negative\",\"Negative\",\"Neutral\",\"Neutral\",\"Neutral\",\"Positive\",\"Neutral\",\"Neutral\",\"Negative\",\"Negative\",\"Neutral\",\"Negative\",\"Negative\",\"Neutral\",\"Positive\",\"Positive\",\"Positive\",\"Negative\",\"Positive\",\"Negative\",\"Negative\",\"Negative\",\"Negative\",\"Neutral\",\"Neutral\",\"Neutral\",\"Negative\",\"Positive\",\"Positive\",\"Negative\",\"Positive\",\"Positive\",\"Positive\",\"Neutral\",\"Positive\",\"Positive\",\"Negative\",\"Positive\",\"Neutral\",\"Negative\",\"Negative\",\"Positive\",\"Positive\",\"Negative\",\"Negative\",\"Positive\",\"Negative\",\"Negative\",\"Positive\",\"Positive\",\"Positive\",\"Positive\",\"Negative\",\"Neutral\",\"Positive\",\"Neutral\",\"Positive\",\"Positive\",\"Negative\",\"Negative\",\"Positive\",\"Neutral\",\"Positive\",\"Neutral\",\"Positive\",\"Negative\",\"Neutral\",\"Neutral\",\"Positive\",\"Negative\",\"Positive\",\"Positive\",\"Negative\",\"Positive\",\"Positive\",\"Neutral\",\"Negative\",\"Positive\",\"Negative\",\"Negative\",\"Negative\",\"Positive\",\"Neutral\",\"Positive\",\"Positive\",\"Neutral\",\"Negative\",\"Positive\",\"Negative\",\"Negative\",\"Negative\",\"Neutral\",\"Negative\",\"Negative\",\"Negative\",\"Negative\",\"Negative\",\"Negative\",\"Negative\",\"Neutral\",\"Negative\",\"Negative\",\"Positive\",\"Negative\",\"Neutral\",\"Positive\",\"Negative\",\"Positive\",\"Positive\",\"Positive\",\"Positive\",\"Positive\",\"Negative\",\"Positive\",\"Positive\",\"Neutral\",\"Positive\",\"Negative\",\"Negative\",\"Neutral\",\"Neutral\",\"Neutral\",\"Negative\",\"Negative\",\"Neutral\",\"Neutral\",\"Negative\",\"Neutral\",\"Negative\",\"Negative\",\"Neutral\",\"Positive\",\"Negative\",\"Negative\",\"Positive\",\"Neutral\",\"Negative\",\"Positive\",\"Neutral\",\"Positive\",\"Positive\",\"Positive\",\"Positive\",\"Negative\",\"Positive\",\"Positive\",\"Positive\",\"Negative\",\"Neutral\",\"Positive\",\"Neutral\",\"Negative\",\"Negative\",\"Neutral\",\"Positive\",\"Positive\",\"Negative\",\"Negative\",\"Negative\",\"Neutral\",\"Negative\",\"Negative\",\"Positive\",\"Negative\",\"Neutral\",\"Neutral\",\"Negative\",\"Negative\",\"Negative\",\"Positive\",\"Positive\",\"Positive\",\"Neutral\",\"Negative\",\"Positive\",\"Positive\",\"Negative\",\"Negative\",\"Negative\",\"Neutral\",\"Neutral\",\"Positive\",\"Positive\",\"Neutral\",\"Negative\",\"Positive\",\"Positive\",\"Positive\",\"Negative\",\"Negative\",\"Negative\",\"Neutral\",\"Positive\",\"Neutral\",\"Positive\",\"Neutral\",\"Neutral\",\"Positive\",\"Neutral\",\"Negative\",\"Negative\",\"Negative\",\"Negative\",\"Negative\",\"Neutral\",\"Negative\",\"Negative\",\"Negative\",\"Negative\",\"Neutral\",\"Positive\",\"Neutral\",\"Negative\",\"Positive\",\"Neutral\",\"Positive\",\"Positive\",\"Positive\",\"Negative\",\"Positive\",\"Neutral\",\"Negative\",\"Negative\",\"Positive\",\"Positive\",\"Neutral\",\"Positive\",\"Positive\",\"Negative\",\"Positive\",\"Positive\",\"Neutral\",\"Positive\",\"Positive\",\"Positive\",\"Positive\",\"Neutral\",\"Negative\",\"Positive\",\"Positive\",\"Negative\",\"Positive\",\"Positive\",\"Positive\",\"Negative\",\"Negative\",\"Negative\",\"Positive\",\"Positive\",\"Negative\",\"Negative\",\"Negative\",\"Neutral\",\"Positive\",\"Positive\",\"Neutral\",\"Negative\",\"Positive\",\"Negative\",\"Negative\",\"Negative\",\"Neutral\",\"Positive\",\"Positive\",\"Negative\",\"Negative\",\"Negative\",\"Neutral\",\"Neutral\",\"Negative\",\"Negative\",\"Negative\",\"Negative\",\"Positive\",\"Negative\",\"Negative\",\"Negative\",\"Neutral\",\"Negative\",\"Positive\",\"Positive\",\"Negative\",\"Positive\",\"Negative\",\"Neutral\",\"Positive\",\"Negative\",\"Negative\",\"Neutral\",\"Neutral\",\"Neutral\",\"Negative\",\"Negative\",\"Negative\",\"Negative\",\"Neutral\",\"Negative\",\"Negative\",\"Positive\",\"Positive\",\"Negative\",\"Positive\",\"Negative\",\"Negative\",\"Positive\",\"Negative\",\"Neutral\",\"Positive\",\"Negative\",\"Positive\",\"Positive\",\"Negative\",\"Positive\",\"Negative\",\"Neutral\",\"Positive\",\"Positive\",\"Positive\",\"Neutral\",\"Negative\",\"Negative\",\"Negative\",\"Neutral\",\"Negative\",\"Negative\",\"Negative\",\"Positive\",\"Positive\",\"Negative\",\"Neutral\",\"Positive\",\"Negative\",\"Negative\",\"Positive\",\"Positive\",\"Positive\",\"Neutral\",\"Negative\",\"Neutral\",\"Positive\",\"Neutral\",\"Negative\",\"Neutral\",\"Positive\",\"Positive\",\"Neutral\",\"Neutral\",\"Neutral\",\"Negative\",\"Neutral\",\"Negative\",\"Negative\",\"Positive\",\"Negative\",\"Neutral\",\"Positive\",\"Positive\",\"Negative\",\"Negative\",\"Negative\",\"Neutral\",\"Negative\",\"Neutral\",\"Positive\",\"Positive\",\"Negative\",\"Positive\",\"Negative\",\"Negative\",\"Neutral\",\"Negative\",\"Neutral\",\"Negative\",\"Negative\",\"Negative\",\"Negative\",\"Neutral\",\"Positive\",\"Positive\",\"Positive\",\"Negative\",\"Neutral\",\"Positive\",\"Neutral\",\"Negative\",\"Negative\",\"Negative\",\"Positive\",\"Neutral\",\"Negative\",\"Negative\",\"Negative\",\"Positive\",\"Neutral\",\"Negative\",\"Neutral\",\"Negative\",\"Negative\",\"Positive\",\"Negative\",\"Negative\",\"Positive\",\"Neutral\",\"Neutral\",\"Negative\",\"Negative\",\"Positive\",\"Positive\",\"Negative\",\"Neutral\",\"Negative\",\"Negative\",\"Negative\",\"Neutral\",\"Positive\",\"Neutral\",\"Negative\",\"Negative\",\"Neutral\",\"Positive\",\"Positive\",\"Negative\",\"Negative\",\"Negative\",\"Positive\",\"Negative\",\"Neutral\",\"Positive\",\"Negative\",\"Negative\",\"Positive\",\"Negative\",\"Positive\",\"Negative\",\"Neutral\",\"Positive\",\"Negative\",\"Neutral\",\"Positive\",\"Neutral\",\"Negative\",\"Negative\",\"Neutral\",\"Positive\",\"Negative\",\"Negative\",\"Negative\",\"Negative\",\"Neutral\",\"Negative\",\"Positive\",\"Negative\",\"Positive\",\"Positive\",\"Negative\",\"Neutral\",\"Positive\",\"Neutral\",\"Negative\",\"Positive\",\"Negative\",\"Negative\",\"Neutral\",\"Neutral\",\"Negative\",\"Positive\",\"Neutral\",\"Positive\",\"Negative\",\"Negative\",\"Negative\",\"Negative\",\"Neutral\",\"Positive\",\"Negative\",\"Neutral\",\"Neutral\",\"Negative\",\"Neutral\",\"Neutral\",\"Negative\",\"Negative\",\"Negative\",\"Positive\",\"Positive\",\"Neutral\",\"Negative\",\"Negative\",\"Negative\",\"Negative\",\"Negative\",\"Neutral\",\"Positive\",\"Negative\",\"Positive\",\"Positive\",\"Negative\",\"Negative\",\"Positive\",\"Positive\",\"Positive\",\"Neutral\",\"Negative\",\"Negative\",\"Negative\",\"Positive\",\"Neutral\",\"Negative\",\"Neutral\",\"Neutral\",\"Negative\",\"Neutral\",\"Positive\",\"Negative\",\"Negative\",\"Positive\",\"Positive\",\"Negative\",\"Negative\",\"Positive\",\"Negative\",\"Negative\",\"Negative\",\"Neutral\",\"Negative\",\"Negative\",\"Negative\",\"Negative\",\"Neutral\",\"Neutral\",\"Negative\",\"Neutral\",\"Neutral\",\"Negative\",\"Positive\",\"Positive\",\"Positive\",\"Neutral\",\"Negative\",\"Neutral\",\"Neutral\",\"Negative\",\"Neutral\",\"Negative\",\"Positive\",\"Neutral\",\"Positive\",\"Neutral\",\"Negative\",\"Negative\",\"Positive\",\"Positive\",\"Negative\",\"Positive\",\"Positive\",\"Positive\",\"Negative\",\"Negative\",\"Negative\",\"Negative\",\"Positive\",\"Negative\",\"Positive\",\"Neutral\",\"Negative\",\"Neutral\",\"Negative\",\"Positive\",\"Neutral\",\"Negative\",\"Negative\",\"Negative\",\"Neutral\",\"Negative\",\"Negative\",\"Positive\",\"Neutral\",\"Positive\",\"Positive\",\"Positive\",\"Negative\",\"Neutral\",\"Negative\",\"Positive\",\"Neutral\",\"Neutral\",\"Positive\",\"Negative\",\"Positive\",\"Neutral\",\"Negative\",\"Positive\",\"Negative\",\"Positive\",\"Neutral\",\"Positive\",\"Positive\",\"Neutral\",\"Negative\",\"Positive\",\"Negative\",\"Positive\",\"Negative\",\"Positive\",\"Negative\",\"Negative\",\"Negative\",\"Negative\",\"Negative\",\"Negative\",\"Positive\",\"Positive\",\"Negative\",\"Negative\",\"Negative\",\"Negative\",\"Positive\",\"Positive\",\"Positive\",\"Neutral\",\"Positive\",\"Negative\",\"Negative\",\"Neutral\",\"Negative\",\"Negative\",\"Negative\",\"Positive\",\"Negative\",\"Positive\",\"Neutral\",\"Neutral\",\"Negative\",\"Negative\",\"Positive\",\"Positive\",\"Positive\",\"Neutral\",\"Negative\",\"Negative\",\"Negative\",\"Positive\",\"Negative\",\"Neutral\",\"Positive\",\"Negative\",\"Negative\",\"Positive\",\"Positive\",\"Negative\",\"Negative\",\"Negative\",\"Negative\",\"Positive\",\"Negative\",\"Negative\",\"Negative\",\"Negative\",\"Neutral\",\"Positive\",\"Positive\",\"Negative\",\"Neutral\",\"Negative\",\"Positive\",\"Positive\",\"Positive\",\"Positive\",\"Neutral\",\"Positive\",\"Negative\",\"Positive\",\"Neutral\",\"Positive\",\"Positive\",\"Negative\",\"Negative\",\"Positive\",\"Neutral\",\"Neutral\",\"Neutral\",\"Negative\",\"Neutral\",\"Neutral\",\"Positive\",\"Negative\",\"Neutral\",\"Positive\",\"Negative\",\"Positive\",\"Positive\",\"Neutral\",\"Negative\",\"Negative\",\"Positive\",\"Negative\",\"Negative\",\"Negative\",\"Positive\",\"Positive\",\"Negative\",\"Positive\",\"Neutral\",\"Neutral\",\"Neutral\",\"Negative\",\"Negative\",\"Neutral\",\"Negative\",\"Negative\",\"Negative\",\"Negative\",\"Positive\",\"Neutral\",\"Positive\",\"Neutral\",\"Negative\",\"Neutral\",\"Positive\",\"Negative\",\"Positive\",\"Positive\",\"Positive\",\"Negative\",\"Negative\",\"Positive\",\"Neutral\",\"Negative\",\"Negative\",\"Negative\",\"Positive\",\"Negative\",\"Positive\",\"Negative\",\"Positive\",\"Positive\",\"Positive\",\"Neutral\",\"Positive\",\"Negative\",\"Negative\",\"Positive\",\"Negative\",\"Negative\",\"Negative\",\"Neutral\",\"Positive\",\"Positive\",\"Neutral\",\"Negative\",\"Positive\",\"Negative\",\"Positive\",\"Neutral\",\"Neutral\",\"Positive\",\"Negative\",\"Negative\",\"Positive\",\"Negative\",\"Positive\",\"Negative\",\"Negative\",\"Negative\",\"Negative\",\"Negative\",\"Negative\",\"Neutral\",\"Positive\",\"Negative\",\"Neutral\",\"Negative\",\"Positive\",\"Negative\",\"Positive\",\"Neutral\",\"Positive\",\"Neutral\",\"Negative\",\"Positive\",\"Negative\",\"Positive\",\"Neutral\",\"Neutral\",\"Negative\",\"Negative\",\"Negative\",\"Positive\",\"Neutral\",\"Positive\",\"Negative\",\"Neutral\",\"Negative\",\"Negative\",\"Positive\",\"Positive\",\"Positive\",\"Negative\",\"Positive\",\"Positive\",\"Neutral\",\"Positive\",\"Neutral\",\"Negative\",\"Negative\",\"Neutral\",\"Positive\",\"Negative\",\"Negative\",\"Negative\",\"Positive\",\"Neutral\",\"Positive\",\"Positive\",\"Positive\",\"Neutral\",\"Negative\",\"Neutral\",\"Neutral\",\"Positive\",\"Positive\",\"Positive\",\"Negative\",\"Neutral\",\"Negative\",\"Positive\",\"Neutral\",\"Negative\",\"Negative\",\"Negative\",\"Neutral\",\"Positive\",\"Positive\",\"Positive\",\"Positive\",\"Negative\",\"Negative\",\"Neutral\",\"Positive\",\"Positive\",\"Neutral\",\"Positive\",\"Neutral\",\"Negative\",\"Negative\",\"Positive\",\"Neutral\",\"Negative\",\"Negative\",\"Negative\",\"Negative\",\"Positive\",\"Negative\",\"Positive\",\"Positive\",\"Negative\",\"Neutral\",\"Neutral\",\"Negative\",\"Negative\",\"Positive\",\"Neutral\",\"Neutral\",\"Positive\",\"Negative\",\"Neutral\",\"Positive\",\"Neutral\",\"Negative\",\"Negative\",\"Positive\",\"Neutral\",\"Negative\",\"Negative\",\"Positive\",\"Positive\",\"Positive\",\"Positive\",\"Neutral\",\"Neutral\",\"Positive\",\"Neutral\",\"Positive\",\"Negative\",\"Positive\",\"Neutral\",\"Positive\",\"Positive\",\"Positive\",\"Positive\",\"Positive\",\"Positive\",\"Positive\",\"Positive\",\"Negative\",\"Negative\",\"Negative\",\"Negative\",\"Positive\",\"Positive\",\"Neutral\",\"Positive\",\"Neutral\",\"Negative\",\"Neutral\",\"Positive\",\"Negative\",\"Negative\",\"Negative\",\"Negative\",\"Positive\",\"Positive\",\"Positive\",\"Positive\",\"Negative\",\"Neutral\",\"Positive\",\"Negative\",\"Neutral\",\"Positive\",\"Neutral\",\"Negative\",\"Neutral\",\"Negative\",\"Neutral\",\"Negative\",\"Neutral\",\"Negative\",\"Neutral\",\"Neutral\",\"Negative\",\"Neutral\",\"Positive\",\"Neutral\",\"Negative\",\"Negative\",\"Positive\",\"Positive\",\"Negative\",\"Negative\",\"Positive\",\"Negative\",\"Positive\",\"Positive\",\"Positive\",\"Negative\",\"Negative\",\"Positive\",\"Neutral\",\"Negative\",\"Positive\",\"Positive\",\"Negative\",\"Neutral\",\"Positive\",\"Positive\",\"Positive\",\"Positive\",\"Neutral\",\"Positive\",\"Negative\",\"Negative\",\"Positive\",\"Negative\",\"Positive\",\"Positive\",\"Negative\",\"Neutral\",\"Neutral\",\"Positive\",\"Neutral\",\"Positive\",\"Negative\",\"Neutral\",\"Neutral\",\"Positive\",\"Positive\",\"Neutral\",\"Negative\",\"Positive\",\"Positive\",\"Positive\",\"Positive\",\"Positive\",\"Negative\",\"Negative\",\"Neutral\",\"Neutral\",\"Neutral\",\"Positive\",\"Positive\",\"Negative\",\"Positive\",\"Positive\",\"Neutral\",\"Positive\",\"Positive\",\"Neutral\",\"Neutral\",\"Neutral\",\"Positive\",\"Positive\",\"Positive\",\"Positive\",\"Negative\",\"Negative\",\"Positive\",\"Positive\",\"Positive\",\"Positive\",\"Positive\",\"Positive\",\"Neutral\",\"Negative\",\"Positive\",\"Negative\",\"Neutral\",\"Negative\",\"Positive\",\"Negative\",\"Positive\",\"Positive\",\"Positive\",\"Positive\",\"Positive\",\"Neutral\",\"Neutral\",\"Positive\",\"Neutral\",\"Positive\",\"Negative\",\"Positive\",\"Neutral\",\"Positive\",\"Neutral\",\"Negative\",\"Positive\",\"Positive\",\"Positive\",\"Positive\",\"Negative\",\"Positive\",\"Positive\",\"Positive\",\"Neutral\",\"Neutral\",\"Neutral\",\"Positive\",\"Neutral\",\"Negative\",\"Negative\",\"Positive\",\"Positive\",\"Negative\",\"Positive\",\"Negative\",\"Negative\",\"Positive\",\"Negative\",\"Negative\",\"Positive\",\"Positive\",\"Neutral\",\"Negative\",\"Positive\",\"Positive\",\"Negative\",\"Neutral\",\"Positive\",\"Positive\",\"Negative\",\"Negative\",\"Neutral\",\"Positive\",\"Positive\",\"Positive\",\"Negative\",\"Neutral\",\"Neutral\",\"Negative\",\"Negative\",\"Neutral\",\"Neutral\",\"Neutral\",\"Negative\",\"Positive\",\"Positive\",\"Neutral\",\"Neutral\",\"Negative\",\"Positive\",\"Neutral\",\"Negative\",\"Positive\",\"Negative\",\"Negative\",\"Positive\",\"Positive\",\"Positive\",\"Positive\",\"Negative\",\"Negative\",\"Neutral\",\"Negative\",\"Negative\",\"Neutral\",\"Neutral\",\"Negative\",\"Negative\",\"Negative\",\"Positive\",\"Positive\",\"Positive\",\"Positive\",\"Positive\",\"Negative\",\"Negative\",\"Neutral\",\"Negative\",\"Positive\",\"Neutral\",\"Positive\",\"Negative\",\"Neutral\",\"Positive\",\"Neutral\",\"Neutral\",\"Neutral\",\"Neutral\",\"Neutral\",\"Positive\",\"Neutral\",\"Positive\",\"Positive\",\"Positive\",\"Positive\",\"Positive\",\"Positive\",\"Neutral\",\"Negative\",\"Positive\",\"Negative\",\"Negative\",\"Negative\",\"Positive\",\"Positive\",\"Neutral\",\"Negative\",\"Negative\",\"Positive\",\"Neutral\",\"Neutral\",\"Negative\",\"Positive\",\"Negative\",\"Neutral\",\"Positive\",\"Negative\",\"Negative\",\"Negative\",\"Positive\",\"Positive\",\"Negative\",\"Negative\",\"Positive\",\"Positive\",\"Neutral\",\"Positive\",\"Positive\",\"Positive\",\"Positive\",\"Positive\",\"Negative\",\"Negative\",\"Negative\",\"Positive\",\"Negative\",\"Positive\",\"Negative\",\"Positive\",\"Negative\",\"Positive\",\"Negative\",\"Negative\",\"Positive\",\"Negative\",\"Negative\",\"Neutral\",\"Negative\",\"Negative\",\"Negative\",\"Neutral\",\"Positive\",\"Negative\",\"Positive\",\"Negative\",\"Positive\",\"Negative\",\"Positive\",\"Positive\",\"Positive\",\"Negative\",\"Negative\",\"Positive\",\"Neutral\",\"Negative\",\"Negative\",\"Neutral\",\"Negative\",\"Negative\",\"Neutral\",\"Negative\",\"Neutral\",\"Negative\",\"Positive\",\"Positive\",\"Negative\",\"Positive\",\"Negative\",\"Negative\",\"Negative\",\"Positive\",\"Positive\",\"Positive\",\"Neutral\",\"Positive\",\"Positive\",\"Positive\",\"Neutral\",\"Negative\",\"Negative\",\"Neutral\",\"Negative\",\"Negative\",\"Neutral\",\"Positive\",\"Negative\",\"Positive\",\"Positive\",\"Negative\",\"Negative\",\"Negative\",\"Positive\",\"Positive\",\"Positive\",\"Negative\",\"Negative\",\"Positive\",\"Negative\",\"Positive\",\"Positive\",\"Neutral\",\"Negative\",\"Neutral\",\"Negative\",\"Negative\",\"Negative\",\"Positive\",\"Positive\",\"Negative\",\"Negative\",\"Neutral\",\"Positive\",\"Neutral\",\"Negative\",\"Negative\",\"Positive\",\"Negative\",\"Negative\",\"Positive\",\"Neutral\",\"Negative\",\"Negative\",\"Neutral\",\"Negative\",\"Positive\",\"Neutral\",\"Negative\",\"Neutral\",\"Positive\",\"Neutral\",\"Positive\",\"Positive\",\"Neutral\",\"Neutral\",\"Positive\",\"Negative\",\"Positive\",\"Negative\",\"Positive\",\"Negative\",\"Positive\",\"Negative\",\"Positive\",\"Negative\",\"Neutral\",\"Negative\",\"Positive\",\"Negative\",\"Positive\",\"Neutral\",\"Neutral\",\"Positive\",\"Positive\",\"Neutral\",\"Negative\",\"Neutral\",\"Positive\",\"Negative\",\"Negative\",\"Positive\",\"Positive\",\"Neutral\",\"Neutral\",\"Negative\",\"Neutral\",\"Positive\",\"Negative\",\"Positive\",\"Negative\",\"Positive\",\"Positive\",\"Negative\",\"Positive\",\"Neutral\",\"Positive\",\"Negative\",\"Positive\",\"Negative\",\"Negative\",\"Negative\",\"Positive\",\"Neutral\",\"Neutral\",\"Negative\",\"Negative\",\"Positive\",\"Negative\",\"Negative\",\"Neutral\",\"Neutral\",\"Positive\",\"Neutral\",\"Negative\",\"Negative\",\"Neutral\",\"Positive\",\"Positive\",\"Positive\",\"Positive\",\"Positive\",\"Negative\",\"Neutral\",\"Positive\",\"Negative\",\"Negative\",\"Neutral\",\"Positive\",\"Neutral\",\"Neutral\",\"Positive\",\"Neutral\",\"Neutral\",\"Positive\",\"Neutral\",\"Negative\",\"Positive\",\"Negative\",\"Neutral\",\"Negative\",\"Neutral\",\"Negative\",\"Positive\",\"Negative\",\"Positive\",\"Negative\",\"Negative\",\"Negative\",\"Positive\",\"Neutral\",\"Positive\",\"Negative\",\"Positive\",\"Negative\",\"Positive\",\"Negative\",\"Neutral\",\"Positive\",\"Neutral\",\"Positive\",\"Negative\",\"Negative\",\"Negative\",\"Neutral\",\"Negative\",\"Negative\",\"Negative\",\"Positive\",\"Neutral\",\"Negative\",\"Negative\",\"Positive\",\"Positive\",\"Negative\",\"Negative\",\"Negative\",\"Positive\",\"Positive\",\"Positive\",\"Neutral\",\"Positive\",\"Positive\",\"Neutral\",\"Positive\",\"Neutral\",\"Negative\",\"Negative\",\"Positive\",\"Positive\",\"Negative\",\"Neutral\",\"Neutral\",\"Positive\",\"Positive\",\"Negative\",\"Neutral\",\"Positive\",\"Negative\",\"Positive\",\"Positive\",\"Negative\",\"Negative\",\"Negative\",\"Positive\",\"Positive\",\"Negative\",\"Positive\",\"Negative\",\"Negative\",\"Neutral\",\"Neutral\",\"Neutral\",\"Positive\",\"Neutral\",\"Positive\",\"Negative\",\"Positive\",\"Negative\",\"Negative\",\"Neutral\",\"Neutral\",\"Positive\",\"Positive\",\"Negative\",\"Negative\",\"Positive\",\"Neutral\",\"Positive\",\"Positive\",\"Neutral\",\"Neutral\",\"Positive\",\"Positive\",\"Neutral\",\"Positive\",\"Positive\",\"Positive\",\"Negative\",\"Positive\",\"Positive\",\"Positive\",\"Negative\",\"Neutral\",\"Negative\",\"Neutral\",\"Positive\",\"Negative\",\"Neutral\",\"Positive\",\"Positive\",\"Positive\",\"Positive\",\"Positive\",\"Negative\",\"Negative\",\"Neutral\",\"Negative\",\"Positive\",\"Neutral\",\"Positive\",\"Positive\",\"Neutral\",\"Positive\",\"Neutral\",\"Negative\",\"Negative\",\"Positive\",\"Positive\",\"Negative\",\"Positive\",\"Positive\",\"Neutral\",\"Positive\",\"Neutral\",\"Positive\",\"Positive\",\"Neutral\",\"Negative\",\"Negative\",\"Positive\",\"Positive\",\"Negative\",\"Neutral\",\"Neutral\",\"Negative\",\"Positive\",\"Negative\",\"Positive\",\"Positive\",\"Positive\",\"Neutral\",\"Neutral\",\"Positive\",\"Positive\",\"Negative\",\"Positive\",\"Positive\",\"Negative\",\"Negative\",\"Positive\",\"Positive\",\"Negative\",\"Neutral\",\"Negative\",\"Positive\",\"Positive\",\"Neutral\",\"Positive\",\"Positive\",\"Neutral\",\"Positive\",\"Positive\",\"Negative\",\"Neutral\",\"Positive\",\"Negative\",\"Positive\",\"Negative\",\"Positive\",\"Positive\",\"Positive\",\"Negative\",\"Positive\",\"Neutral\",\"Positive\",\"Positive\",\"Negative\",\"Positive\",\"Positive\",\"Positive\",\"Positive\",\"Negative\",\"Positive\",\"Positive\",\"Positive\",\"Negative\",\"Neutral\",\"Neutral\",\"Neutral\",\"Positive\",\"Neutral\",\"Positive\",\"Positive\",\"Neutral\",\"Negative\",\"Positive\",\"Positive\",\"Neutral\",\"Positive\",\"Positive\",\"Negative\",\"Neutral\",\"Negative\",\"Negative\",\"Positive\",\"Positive\",\"Negative\",\"Neutral\",\"Positive\",\"Negative\",\"Negative\",\"Positive\",\"Neutral\",\"Positive\",\"Neutral\",\"Positive\",\"Negative\",\"Positive\",\"Positive\",\"Neutral\",\"Neutral\",\"Negative\",\"Positive\",\"Neutral\",\"Negative\",\"Negative\",\"Negative\",\"Positive\",\"Neutral\",\"Neutral\",\"Negative\",\"Positive\",\"Positive\",\"Negative\",\"Negative\",\"Neutral\",\"Neutral\",\"Negative\",\"Negative\",\"Positive\",\"Positive\",\"Positive\",\"Positive\",\"Neutral\",\"Neutral\",\"Positive\",\"Negative\",\"Positive\",\"Positive\",\"Negative\",\"Positive\",\"Negative\",\"Positive\",\"Positive\",\"Positive\",\"Neutral\",\"Positive\",\"Negative\",\"Negative\",\"Negative\",\"Negative\",\"Positive\",\"Neutral\",\"Positive\",\"Negative\",\"Positive\",\"Negative\",\"Neutral\",\"Neutral\",\"Positive\",\"Positive\",\"Neutral\",\"Neutral\",\"Positive\",\"Positive\",\"Positive\",\"Positive\",\"Positive\",\"Positive\",\"Positive\",\"Negative\",\"Negative\",\"Negative\",\"Negative\",\"Neutral\",\"Neutral\",\"Positive\",\"Positive\",\"Negative\",\"Positive\",\"Neutral\",\"Neutral\",\"Positive\",\"Positive\",\"Positive\",\"Negative\",\"Negative\",\"Negative\",\"Positive\",\"Negative\",\"Negative\",\"Neutral\",\"Neutral\",\"Positive\",\"Positive\",\"Neutral\",\"Negative\",\"Negative\",\"Negative\",\"Negative\",\"Neutral\",\"Neutral\",\"Negative\",\"Positive\",\"Negative\",\"Positive\",\"Neutral\",\"Positive\",\"Positive\",\"Neutral\",\"Positive\",\"Positive\",\"Positive\",\"Positive\",\"Negative\",\"Neutral\",\"Negative\",\"Neutral\",\"Negative\",\"Neutral\",\"Neutral\",\"Neutral\",\"Negative\",\"Positive\",\"Neutral\",\"Positive\",\"Positive\",\"Negative\",\"Neutral\",\"Positive\",\"Positive\",\"Neutral\",\"Negative\",\"Negative\",\"Neutral\",\"Positive\",\"Positive\",\"Neutral\",\"Neutral\",\"Neutral\",\"Negative\",\"Positive\",\"Negative\",\"Negative\",\"Positive\",\"Positive\",\"Negative\",\"Positive\",\"Neutral\",\"Positive\",\"Negative\",\"Positive\",\"Positive\",\"Positive\",\"Neutral\",\"Negative\",\"Neutral\",\"Negative\",\"Positive\",\"Neutral\",\"Positive\",\"Negative\",\"Neutral\",\"Negative\",\"Positive\",\"Negative\",\"Negative\",\"Positive\",\"Positive\",\"Negative\",\"Neutral\",\"Negative\",\"Positive\",\"Negative\",\"Positive\",\"Neutral\",\"Positive\",\"Negative\",\"Positive\",\"Negative\",\"Negative\",\"Negative\",\"Positive\",\"Neutral\",\"Neutral\",\"Neutral\",\"Neutral\",\"Positive\",\"Negative\",\"Positive\",\"Positive\",\"Positive\",\"Positive\",\"Negative\",\"Neutral\",\"Positive\",\"Neutral\",\"Neutral\",\"Negative\",\"Neutral\",\"Positive\",\"Neutral\",\"Negative\",\"Negative\",\"Positive\",\"Positive\",\"Neutral\",\"Positive\",\"Neutral\",\"Negative\",\"Negative\",\"Negative\",\"Positive\",\"Negative\",\"Neutral\",\"Positive\",\"Negative\",\"Neutral\",\"Negative\",\"Positive\",\"Positive\",\"Negative\",\"Positive\",\"Neutral\",\"Neutral\",\"Negative\",\"Negative\",\"Positive\",\"Negative\",\"Neutral\",\"Negative\",\"Positive\",\"Neutral\",\"Positive\",\"Neutral\",\"Negative\",\"Negative\",\"Negative\",\"Neutral\",\"Neutral\",\"Positive\",\"Negative\",\"Neutral\",\"Positive\",\"Positive\",\"Positive\",\"Positive\",\"Neutral\",\"Negative\",\"Negative\",\"Negative\",\"Positive\",\"Neutral\",\"Negative\",\"Neutral\",\"Positive\",\"Positive\",\"Negative\",\"Negative\",\"Negative\",\"Negative\",\"Neutral\",\"Negative\",\"Neutral\",\"Negative\",\"Negative\",\"Positive\",\"Positive\",\"Neutral\",\"Negative\",\"Negative\",\"Positive\",\"Negative\",\"Negative\",\"Positive\",\"Positive\",\"Positive\",\"Negative\",\"Neutral\",\"Positive\",\"Negative\",\"Negative\",\"Negative\",\"Positive\",\"Negative\",\"Negative\",\"Neutral\",\"Neutral\",\"Negative\",\"Negative\",\"Positive\",\"Neutral\",\"Negative\",\"Positive\",\"Positive\",\"Neutral\",\"Positive\",\"Negative\",\"Positive\",\"Neutral\",\"Positive\",\"Positive\",\"Positive\",\"Positive\",\"Negative\",\"Neutral\",\"Neutral\",\"Positive\",\"Negative\",\"Positive\",\"Positive\",\"Positive\",\"Negative\",\"Positive\",\"Negative\",\"Positive\",\"Neutral\",\"Neutral\",\"Neutral\",\"Positive\",\"Negative\",\"Neutral\",\"Negative\",\"Positive\",\"Positive\",\"Neutral\",\"Neutral\",\"Positive\",\"Negative\",\"Neutral\",\"Negative\",\"Positive\",\"Negative\",\"Negative\",\"Negative\",\"Negative\",\"Positive\",\"Neutral\",\"Neutral\",\"Negative\",\"Positive\",\"Positive\",\"Positive\",\"Negative\",\"Negative\",\"Neutral\",\"Neutral\",\"Neutral\",\"Negative\",\"Neutral\",\"Neutral\",\"Neutral\",\"Negative\",\"Neutral\",\"Positive\",\"Negative\",\"Positive\",\"Neutral\",\"Neutral\",\"Neutral\",\"Negative\",\"Neutral\",\"Positive\",\"Positive\",\"Neutral\",\"Positive\",\"Neutral\",\"Negative\",\"Negative\",\"Positive\",\"Positive\",\"Neutral\",\"Negative\",\"Neutral\",\"Positive\",\"Neutral\",\"Neutral\",\"Positive\",\"Positive\",\"Negative\",\"Neutral\",\"Neutral\",\"Neutral\",\"Negative\",\"Negative\",\"Negative\",\"Negative\",\"Positive\",\"Positive\",\"Negative\",\"Neutral\",\"Positive\",\"Negative\",\"Neutral\",\"Neutral\",\"Positive\",\"Negative\",\"Negative\",\"Positive\",\"Positive\",\"Positive\",\"Neutral\",\"Positive\",\"Negative\",\"Neutral\",\"Positive\",\"Negative\",\"Positive\",\"Negative\",\"Positive\",\"Positive\",\"Positive\",\"Negative\",\"Negative\",\"Negative\",\"Negative\",\"Negative\",\"Positive\",\"Positive\",\"Neutral\",\"Negative\",\"Positive\",\"Neutral\",\"Neutral\",\"Positive\",\"Positive\",\"Negative\",\"Positive\",\"Neutral\",\"Positive\",\"Negative\",\"Positive\",\"Positive\",\"Positive\",\"Neutral\",\"Positive\",\"Positive\",\"Positive\",\"Negative\",\"Positive\",\"Positive\",\"Positive\",\"Negative\",\"Neutral\",\"Positive\",\"Positive\",\"Positive\",\"Neutral\",\"Positive\",\"Positive\",\"Negative\",\"Negative\",\"Positive\",\"Neutral\",\"Negative\",\"Neutral\",\"Negative\",\"Positive\",\"Positive\",\"Positive\",\"Negative\",\"Positive\",\"Negative\",\"Negative\",\"Positive\",\"Negative\",\"Positive\",\"Negative\",\"Positive\",\"Negative\",\"Positive\",\"Negative\",\"Positive\",\"Negative\",\"Positive\",\"Negative\",\"Positive\",\"Positive\",\"Positive\",\"Neutral\",\"Positive\",\"Neutral\",\"Positive\",\"Negative\",\"Negative\",\"Positive\",\"Positive\",\"Positive\",\"Positive\",\"Positive\",\"Positive\",\"Negative\",\"Positive\",\"Positive\",\"Negative\",\"Positive\",\"Negative\",\"Neutral\",\"Positive\",\"Negative\",\"Neutral\",\"Positive\",\"Negative\",\"Negative\",\"Positive\",\"Positive\",\"Positive\",\"Negative\",\"Positive\",\"Negative\",\"Neutral\",\"Negative\",\"Negative\",\"Neutral\",\"Negative\",\"Negative\",\"Neutral\",\"Positive\",\"Negative\",\"Positive\",\"Neutral\",\"Negative\",\"Neutral\",\"Neutral\",\"Neutral\",\"Neutral\",\"Positive\",\"Positive\",\"Negative\",\"Negative\",\"Positive\",\"Neutral\",\"Negative\",\"Neutral\",\"Positive\",\"Positive\",\"Positive\",\"Positive\",\"Neutral\",\"Positive\",\"Negative\",\"Negative\",\"Neutral\",\"Neutral\",\"Positive\",\"Negative\",\"Neutral\",\"Positive\",\"Neutral\",\"Positive\",\"Negative\",\"Positive\",\"Positive\",\"Negative\",\"Negative\",\"Positive\",\"Positive\",\"Negative\",\"Negative\",\"Neutral\",\"Neutral\",\"Neutral\",\"Positive\",\"Positive\",\"Negative\",\"Positive\",\"Negative\",\"Positive\",\"Negative\",\"Negative\",\"Positive\",\"Positive\",\"Neutral\",\"Negative\",\"Neutral\",\"Negative\",\"Negative\",\"Neutral\",\"Positive\",\"Negative\",\"Neutral\",\"Positive\",\"Negative\",\"Negative\",\"Neutral\",\"Positive\",\"Positive\",\"Positive\",\"Positive\",\"Negative\",\"Negative\",\"Positive\",\"Positive\",\"Neutral\",\"Negative\",\"Negative\",\"Negative\",\"Positive\",\"Neutral\",\"Negative\",\"Neutral\",\"Positive\",\"Positive\",\"Neutral\",\"Positive\",\"Positive\",\"Negative\",\"Neutral\",\"Neutral\",\"Neutral\",\"Positive\",\"Negative\",\"Positive\",\"Negative\",\"Positive\",\"Neutral\",\"Positive\",\"Negative\",\"Positive\",\"Negative\",\"Positive\",\"Negative\",\"Positive\",\"Positive\",\"Positive\",\"Positive\",\"Positive\",\"Positive\",\"Negative\",\"Negative\",\"Negative\",\"Negative\",\"Positive\",\"Negative\",\"Positive\",\"Positive\",\"Neutral\",\"Positive\",\"Positive\",\"Negative\",\"Negative\",\"Positive\",\"Neutral\",\"Positive\",\"Positive\",\"Neutral\",\"Positive\",\"Positive\",\"Positive\",\"Positive\",\"Neutral\",\"Positive\",\"Positive\",\"Positive\",\"Positive\",\"Negative\",\"Negative\",\"Neutral\",\"Negative\",\"Neutral\",\"Positive\",\"Negative\",\"Positive\",\"Positive\",\"Positive\",\"Negative\",\"Positive\",\"Positive\",\"Neutral\",\"Positive\",\"Negative\",\"Neutral\",\"Positive\",\"Negative\",\"Neutral\",\"Positive\",\"Positive\",\"Positive\",\"Negative\",\"Neutral\",\"Positive\",\"Negative\",\"Positive\",\"Positive\",\"Positive\",\"Positive\",\"Negative\",\"Negative\",\"Positive\",\"Negative\",\"Neutral\",\"Positive\",\"Negative\",\"Negative\",\"Negative\",\"Positive\",\"Neutral\",\"Negative\",\"Neutral\",\"Negative\",\"Positive\",\"Negative\",\"Neutral\",\"Neutral\",\"Positive\",\"Neutral\",\"Neutral\",\"Negative\",\"Negative\",\"Negative\",\"Positive\",\"Neutral\",\"Positive\",\"Neutral\",\"Negative\",\"Positive\",\"Positive\",\"Negative\",\"Negative\",\"Positive\",\"Positive\",\"Neutral\",\"Positive\",\"Neutral\",\"Neutral\",\"Positive\",\"Negative\",\"Negative\",\"Positive\",\"Neutral\",\"Neutral\",\"Neutral\",\"Positive\",\"Negative\",\"Negative\",\"Positive\",\"Negative\",\"Positive\",\"Negative\",\"Negative\",\"Positive\",\"Positive\",\"Neutral\",\"Neutral\",\"Positive\",\"Neutral\",\"Negative\",\"Neutral\",\"Positive\",\"Positive\",\"Positive\",\"Positive\",\"Negative\",\"Positive\",\"Neutral\",\"Positive\",\"Positive\",\"Positive\",\"Neutral\",\"Neutral\",\"Neutral\",\"Positive\",\"Positive\",\"Negative\",\"Negative\",\"Positive\",\"Positive\",\"Negative\",\"Positive\",\"Positive\",\"Negative\",\"Positive\",\"Positive\",\"Negative\",\"Positive\",\"Positive\",\"Negative\",\"Positive\",\"Negative\",\"Positive\",\"Negative\",\"Neutral\",\"Negative\",\"Neutral\",\"Negative\",\"Positive\",\"Positive\",\"Negative\",\"Neutral\",\"Negative\",\"Negative\",\"Neutral\",\"Negative\",\"Negative\",\"Negative\",\"Negative\",\"Neutral\",\"Neutral\",\"Negative\",\"Neutral\",\"Positive\",\"Negative\",\"Negative\",\"Negative\",\"Positive\",\"Negative\",\"Negative\",\"Negative\",\"Negative\",\"Neutral\",\"Neutral\",\"Negative\",\"Neutral\",\"Neutral\",\"Neutral\",\"Neutral\",\"Positive\",\"Negative\",\"Negative\",\"Neutral\",\"Negative\",\"Positive\",\"Negative\",\"Negative\",\"Negative\",\"Negative\",\"Neutral\",\"Positive\",\"Negative\",\"Negative\",\"Positive\",\"Negative\",\"Neutral\",\"Negative\",\"Neutral\",\"Negative\",\"Negative\",\"Negative\",\"Positive\",\"Positive\",\"Positive\",\"Positive\",\"Negative\",\"Positive\",\"Negative\",\"Negative\",\"Negative\",\"Positive\",\"Positive\",\"Positive\",\"Neutral\",\"Positive\",\"Negative\",\"Neutral\",\"Negative\",\"Negative\",\"Negative\",\"Negative\",\"Neutral\",\"Negative\",\"Neutral\",\"Positive\",\"Positive\",\"Neutral\",\"Negative\",\"Negative\",\"Positive\",\"Negative\",\"Positive\",\"Positive\",\"Positive\",\"Positive\",\"Positive\",\"Positive\",\"Negative\",\"Neutral\",\"Neutral\",\"Positive\",\"Neutral\",\"Negative\",\"Negative\",\"Positive\",\"Positive\",\"Neutral\",\"Negative\",\"Positive\",\"Negative\",\"Positive\",\"Neutral\",\"Positive\",\"Neutral\",\"Neutral\",\"Positive\",\"Positive\",\"Neutral\",\"Neutral\",\"Positive\",\"Negative\",\"Neutral\",\"Negative\",\"Negative\",\"Positive\",\"Positive\",\"Neutral\",\"Positive\",\"Positive\",\"Negative\",\"Negative\",\"Negative\",\"Positive\",\"Positive\",\"Negative\",\"Negative\",\"Positive\",\"Negative\",\"Neutral\",\"Positive\",\"Negative\",\"Neutral\",\"Negative\",\"Positive\",\"Positive\",\"Positive\",\"Positive\",\"Neutral\",\"Positive\",\"Positive\",\"Negative\",\"Neutral\",\"Neutral\",\"Neutral\",\"Negative\",\"Positive\",\"Positive\",\"Positive\",\"Positive\",\"Positive\",\"Positive\",\"Positive\",\"Positive\",\"Positive\",\"Positive\",\"Positive\",\"Negative\",\"Positive\",\"Positive\",\"Positive\",\"Neutral\",\"Negative\",\"Neutral\",\"Positive\",\"Positive\",\"Negative\",\"Negative\",\"Neutral\",\"Positive\",\"Positive\",\"Neutral\",\"Negative\",\"Neutral\",\"Negative\",\"Positive\",\"Positive\",\"Positive\",\"Negative\",\"Neutral\",\"Negative\",\"Positive\",\"Positive\",\"Positive\",\"Positive\",\"Negative\",\"Positive\",\"Positive\",\"Negative\",\"Positive\",\"Positive\",\"Positive\",\"Negative\",\"Negative\",\"Negative\",\"Negative\",\"Positive\",\"Positive\",\"Positive\",\"Neutral\",\"Neutral\",\"Neutral\",\"Negative\",\"Negative\",\"Positive\",\"Negative\",\"Negative\",\"Neutral\",\"Neutral\",\"Neutral\",\"Negative\",\"Negative\",\"Neutral\",\"Negative\",\"Negative\",\"Neutral\",\"Negative\",\"Positive\",\"Neutral\",\"Neutral\",\"Positive\",\"Positive\",\"Positive\",\"Negative\",\"Positive\",\"Neutral\",\"Neutral\",\"Positive\",\"Neutral\",\"Negative\",\"Neutral\",\"Positive\",\"Negative\",\"Neutral\",\"Negative\",\"Neutral\",\"Positive\",\"Positive\",\"Positive\",\"Positive\",\"Negative\",\"Negative\",\"Positive\",\"Negative\",\"Positive\",\"Negative\",\"Neutral\",\"Neutral\",\"Negative\",\"Negative\",\"Neutral\",\"Neutral\",\"Negative\",\"Neutral\",\"Positive\",\"Negative\",\"Neutral\",\"Negative\",\"Positive\",\"Negative\",\"Positive\",\"Positive\",\"Negative\",\"Positive\",\"Positive\",\"Neutral\",\"Neutral\",\"Negative\",\"Neutral\",\"Negative\",\"Neutral\",\"Negative\",\"Neutral\",\"Positive\",\"Negative\",\"Negative\",\"Positive\",\"Positive\",\"Positive\",\"Positive\",\"Neutral\",\"Negative\",\"Negative\",\"Negative\",\"Neutral\",\"Neutral\",\"Negative\",\"Positive\",\"Neutral\",\"Neutral\",\"Neutral\",\"Positive\",\"Positive\",\"Negative\",\"Neutral\",\"Negative\",\"Positive\",\"Neutral\",\"Negative\",\"Positive\",\"Positive\",\"Positive\",\"Positive\",\"Neutral\",\"Positive\",\"Positive\",\"Negative\",\"Positive\",\"Negative\",\"Positive\",\"Positive\",\"Positive\",\"Positive\",\"Positive\",\"Neutral\",\"Negative\",\"Neutral\",\"Neutral\",\"Negative\",\"Neutral\",\"Negative\",\"Negative\",\"Positive\",\"Negative\",\"Positive\",\"Positive\",\"Positive\",\"Negative\",\"Negative\",\"Neutral\",\"Positive\",\"Neutral\",\"Negative\",\"Negative\",\"Negative\",\"Positive\",\"Positive\",\"Positive\",\"Negative\",\"Neutral\",\"Positive\",\"Positive\",\"Neutral\",\"Positive\",\"Neutral\",\"Positive\",\"Neutral\",\"Neutral\",\"Positive\",\"Positive\",\"Neutral\",\"Positive\",\"Negative\",\"Negative\",\"Neutral\",\"Negative\",\"Negative\",\"Positive\",\"Positive\",\"Positive\",\"Positive\",\"Negative\",\"Negative\",\"Positive\",\"Negative\",\"Neutral\",\"Negative\",\"Negative\",\"Neutral\",\"Positive\",\"Negative\",\"Negative\",\"Negative\",\"Positive\",\"Positive\",\"Negative\",\"Positive\",\"Negative\",\"Positive\",\"Negative\",\"Neutral\",\"Neutral\",\"Positive\",\"Positive\",\"Neutral\",\"Negative\",\"Positive\",\"Negative\",\"Positive\",\"Neutral\",\"Negative\",\"Positive\",\"Negative\",\"Positive\",\"Negative\",\"Positive\",\"Neutral\",\"Negative\",\"Positive\",\"Neutral\",\"Negative\",\"Positive\",\"Positive\",\"Negative\",\"Positive\",\"Neutral\",\"Neutral\",\"Neutral\",\"Neutral\",\"Negative\",\"Positive\",\"Positive\",\"Neutral\",\"Neutral\",\"Negative\",\"Positive\",\"Positive\",\"Neutral\",\"Negative\",\"Positive\",\"Negative\",\"Negative\",\"Positive\",\"Negative\",\"Neutral\",\"Negative\",\"Positive\",\"Positive\",\"Positive\",\"Negative\",\"Positive\",\"Positive\",\"Positive\",\"Negative\",\"Positive\",\"Positive\",\"Neutral\",\"Negative\",\"Positive\",\"Neutral\",\"Positive\",\"Negative\",\"Negative\",\"Positive\",\"Neutral\",\"Positive\",\"Neutral\",\"Negative\",\"Positive\",\"Negative\",\"Positive\",\"Neutral\",\"Neutral\",\"Negative\",\"Positive\",\"Positive\",\"Positive\",\"Positive\",\"Neutral\",\"Neutral\",\"Neutral\",\"Positive\",\"Positive\",\"Negative\",\"Positive\",\"Positive\",\"Negative\",\"Positive\",\"Negative\",\"Neutral\",\"Positive\",\"Negative\",\"Neutral\",\"Negative\",\"Negative\",\"Neutral\",\"Positive\",\"Positive\",\"Negative\",\"Neutral\",\"Neutral\",\"Positive\",\"Positive\",\"Positive\",\"Negative\",\"Negative\",\"Neutral\",\"Neutral\",\"Positive\",\"Positive\",\"Positive\",\"Neutral\",\"Positive\",\"Positive\",\"Positive\",\"Negative\",\"Positive\",\"Negative\",\"Negative\",\"Positive\",\"Neutral\",\"Positive\",\"Negative\",\"Negative\",\"Neutral\",\"Negative\",\"Negative\",\"Positive\",\"Positive\",\"Neutral\",\"Positive\",\"Positive\",\"Negative\",\"Negative\",\"Negative\",\"Neutral\",\"Positive\",\"Positive\",\"Negative\",\"Positive\",\"Positive\",\"Negative\",\"Negative\",\"Negative\",\"Positive\",\"Negative\",\"Negative\",\"Negative\",\"Positive\",\"Neutral\",\"Neutral\",\"Negative\",\"Neutral\",\"Neutral\",\"Positive\",\"Negative\",\"Neutral\",\"Negative\",\"Negative\",\"Negative\",\"Negative\",\"Negative\",\"Neutral\",\"Positive\",\"Negative\",\"Negative\",\"Positive\",\"Negative\",\"Positive\",\"Neutral\",\"Negative\",\"Neutral\",\"Negative\",\"Neutral\",\"Positive\",\"Positive\",\"Negative\",\"Positive\",\"Positive\",\"Neutral\",\"Neutral\",\"Neutral\",\"Positive\",\"Positive\",\"Negative\",\"Neutral\",\"Neutral\",\"Negative\",\"Negative\",\"Positive\",\"Negative\",\"Negative\",\"Negative\",\"Positive\",\"Positive\",\"Negative\",\"Positive\",\"Negative\",\"Neutral\",\"Positive\",\"Positive\",\"Neutral\",\"Negative\",\"Negative\",\"Negative\",\"Neutral\",\"Neutral\",\"Positive\",\"Negative\",\"Neutral\",\"Negative\",\"Positive\",\"Neutral\",\"Positive\",\"Neutral\",\"Negative\",\"Positive\",\"Positive\",\"Negative\",\"Neutral\",\"Negative\",\"Negative\",\"Positive\",\"Neutral\",\"Positive\",\"Neutral\",\"Positive\",\"Neutral\",\"Positive\",\"Neutral\",\"Negative\",\"Neutral\",\"Positive\",\"Neutral\",\"Negative\",\"Negative\",\"Positive\",\"Positive\",\"Negative\",\"Negative\",\"Positive\",\"Positive\",\"Neutral\",\"Neutral\",\"Positive\",\"Positive\",\"Positive\",\"Positive\",\"Neutral\",\"Positive\",\"Positive\",\"Neutral\",\"Negative\",\"Neutral\",\"Positive\",\"Neutral\",\"Positive\",\"Positive\",\"Neutral\",\"Neutral\",\"Positive\",\"Positive\",\"Negative\",\"Neutral\",\"Positive\",\"Positive\",\"Positive\",\"Negative\",\"Neutral\",\"Positive\",\"Positive\",\"Neutral\",\"Positive\",\"Positive\",\"Positive\",\"Negative\",\"Negative\",\"Neutral\",\"Negative\",\"Positive\",\"Positive\",\"Negative\",\"Neutral\",\"Positive\",\"Neutral\",\"Positive\",\"Negative\",\"Neutral\",\"Neutral\",\"Neutral\",\"Positive\",\"Positive\",\"Negative\",\"Positive\",\"Positive\",\"Neutral\",\"Negative\",\"Positive\",\"Positive\",\"Positive\",\"Neutral\",\"Neutral\",\"Negative\",\"Negative\",\"Negative\",\"Negative\",\"Positive\",\"Positive\",\"Positive\",\"Positive\",\"Positive\",\"Negative\",\"Negative\",\"Positive\",\"Positive\",\"Neutral\",\"Positive\",\"Positive\",\"Positive\",\"Neutral\",\"Positive\",\"Positive\",\"Positive\",\"Positive\",\"Positive\",\"Positive\",\"Neutral\",\"Neutral\",\"Neutral\",\"Negative\",\"Neutral\",\"Positive\",\"Negative\",\"Positive\",\"Positive\",\"Positive\",\"Negative\",\"Positive\",\"Positive\",\"Neutral\",\"Positive\",\"Neutral\",\"Positive\",\"Negative\",\"Negative\",\"Negative\",\"Positive\",\"Positive\",\"Positive\",\"Negative\",\"Positive\",\"Negative\",\"Positive\",\"Positive\",\"Negative\",\"Positive\",\"Negative\",\"Positive\",\"Negative\",\"Negative\",\"Negative\",\"Positive\",\"Positive\",\"Negative\",\"Negative\",\"Positive\",\"Negative\",\"Negative\",\"Positive\",\"Positive\",\"Positive\",\"Positive\",\"Neutral\",\"Neutral\",\"Positive\",\"Negative\",\"Negative\",\"Neutral\",\"Neutral\",\"Negative\",\"Positive\",\"Negative\",\"Neutral\",\"Positive\",\"Neutral\",\"Neutral\",\"Negative\",\"Positive\",\"Negative\",\"Negative\",\"Neutral\",\"Neutral\",\"Negative\",\"Positive\",\"Negative\",\"Negative\",\"Positive\",\"Neutral\",\"Negative\",\"Positive\",\"Negative\",\"Negative\",\"Positive\",\"Positive\",\"Negative\",\"Negative\",\"Positive\",\"Positive\",\"Positive\",\"Neutral\",\"Negative\",\"Negative\",\"Positive\",\"Positive\",\"Neutral\",\"Positive\",\"Negative\",\"Positive\",\"Negative\",\"Positive\",\"Neutral\",\"Negative\",\"Positive\",\"Negative\",\"Positive\",\"Positive\",\"Negative\",\"Negative\",\"Neutral\",\"Negative\",\"Neutral\",\"Negative\",\"Positive\",\"Positive\",\"Neutral\",\"Positive\",\"Neutral\",\"Negative\",\"Negative\",\"Negative\",\"Positive\",\"Positive\",\"Positive\",\"Positive\",\"Negative\",\"Neutral\",\"Negative\",\"Negative\",\"Positive\",\"Positive\",\"Positive\",\"Negative\",\"Positive\",\"Positive\",\"Negative\",\"Positive\",\"Negative\",\"Negative\",\"Neutral\",\"Negative\",\"Neutral\",\"Neutral\",\"Negative\",\"Positive\",\"Positive\",\"Neutral\",\"Neutral\",\"Positive\",\"Positive\",\"Negative\",\"Positive\",\"Neutral\",\"Positive\",\"Negative\",\"Neutral\",\"Positive\",\"Positive\",\"Neutral\",\"Neutral\",\"Positive\",\"Neutral\",\"Negative\",\"Negative\",\"Neutral\",\"Positive\",\"Neutral\",\"Positive\",\"Positive\",\"Negative\",\"Negative\",\"Positive\",\"Positive\",\"Negative\",\"Negative\",\"Neutral\",\"Negative\",\"Positive\",\"Positive\",\"Negative\",\"Negative\",\"Negative\",\"Negative\",\"Positive\",\"Positive\",\"Positive\",\"Neutral\",\"Positive\",\"Positive\",\"Neutral\",\"Positive\",\"Positive\",\"Positive\",\"Positive\",\"Negative\",\"Neutral\",\"Neutral\",\"Positive\",\"Neutral\",\"Positive\",\"Neutral\",\"Neutral\",\"Positive\",\"Neutral\",\"Negative\",\"Positive\",\"Neutral\",\"Positive\",\"Negative\",\"Negative\",\"Neutral\",\"Positive\",\"Negative\",\"Positive\",\"Neutral\",\"Neutral\",\"Neutral\",\"Neutral\",\"Negative\",\"Neutral\",\"Positive\",\"Positive\",\"Positive\",\"Negative\",\"Positive\",\"Negative\",\"Positive\",\"Negative\",\"Positive\",\"Negative\",\"Neutral\",\"Negative\",\"Negative\",\"Negative\",\"Neutral\",\"Neutral\",\"Positive\",\"Positive\",\"Positive\",\"Positive\",\"Neutral\",\"Negative\",\"Negative\",\"Negative\",\"Positive\",\"Negative\",\"Neutral\",\"Negative\",\"Positive\",\"Negative\",\"Positive\",\"Negative\",\"Negative\",\"Positive\",\"Positive\",\"Positive\",\"Positive\",\"Positive\",\"Positive\",\"Negative\",\"Neutral\",\"Neutral\",\"Positive\",\"Negative\",\"Negative\",\"Positive\",\"Positive\",\"Positive\",\"Negative\",\"Positive\",\"Positive\",\"Positive\",\"Positive\",\"Neutral\",\"Positive\",\"Neutral\",\"Negative\",\"Positive\",\"Negative\",\"Negative\",\"Negative\",\"Negative\",\"Positive\",\"Negative\",\"Positive\",\"Neutral\",\"Neutral\",\"Positive\",\"Neutral\",\"Neutral\",\"Positive\",\"Positive\",\"Negative\",\"Negative\",\"Positive\",\"Negative\",\"Neutral\",\"Positive\",\"Neutral\",\"Positive\",\"Positive\",\"Negative\",\"Negative\",\"Positive\",\"Positive\",\"Neutral\",\"Negative\",\"Negative\",\"Neutral\",\"Positive\",\"Negative\",\"Negative\",\"Neutral\",\"Neutral\",\"Positive\",\"Neutral\",\"Positive\",\"Negative\",\"Neutral\",\"Negative\",\"Negative\",\"Negative\",\"Negative\",\"Negative\",\"Neutral\",\"Positive\",\"Positive\",\"Neutral\",\"Negative\",\"Positive\",\"Positive\",\"Neutral\",\"Negative\",\"Positive\",\"Negative\",\"Negative\",\"Negative\",\"Positive\",\"Negative\",\"Positive\",\"Neutral\",\"Neutral\",\"Positive\",\"Negative\",\"Negative\",\"Positive\",\"Neutral\",\"Negative\",\"Negative\",\"Neutral\",\"Neutral\",\"Positive\",\"Negative\",\"Negative\",\"Negative\",\"Negative\",\"Neutral\",\"Negative\",\"Negative\",\"Positive\",\"Negative\",\"Neutral\",\"Positive\",\"Negative\",\"Negative\",\"Neutral\",\"Negative\",\"Positive\",\"Negative\",\"Positive\",\"Negative\",\"Positive\",\"Negative\",\"Positive\",\"Negative\",\"Neutral\",\"Positive\",\"Negative\",\"Negative\",\"Neutral\",\"Negative\",\"Negative\",\"Negative\",\"Positive\",\"Negative\",\"Neutral\",\"Negative\",\"Negative\",\"Positive\",\"Positive\",\"Negative\",\"Positive\",\"Positive\",\"Negative\",\"Neutral\",\"Negative\",\"Negative\",\"Neutral\",\"Positive\",\"Positive\",\"Negative\",\"Neutral\",\"Positive\",\"Negative\",\"Negative\",\"Negative\",\"Negative\",\"Neutral\",\"Negative\",\"Negative\",\"Neutral\",\"Negative\",\"Neutral\",\"Negative\",\"Negative\",\"Negative\",\"Positive\",\"Neutral\",\"Negative\",\"Negative\",\"Negative\",\"Positive\",\"Neutral\",\"Negative\",\"Neutral\",\"Positive\",\"Positive\",\"Positive\",\"Positive\",\"Positive\",\"Negative\",\"Positive\",\"Negative\",\"Neutral\",\"Neutral\",\"Positive\",\"Neutral\",\"Neutral\",\"Neutral\",\"Neutral\",\"Positive\",\"Neutral\",\"Positive\",\"Positive\",\"Positive\",\"Neutral\",\"Positive\",\"Positive\",\"Positive\",\"Neutral\",\"Neutral\",\"Positive\",\"Positive\",\"Negative\",\"Positive\",\"Negative\",\"Positive\",\"Negative\",\"Positive\",\"Neutral\",\"Positive\",\"Negative\",\"Negative\",\"Positive\",\"Negative\",\"Positive\",\"Negative\",\"Negative\",\"Negative\",\"Negative\",\"Neutral\",\"Positive\",\"Neutral\",\"Positive\",\"Neutral\",\"Neutral\",\"Positive\",\"Positive\",\"Negative\",\"Negative\",\"Negative\",\"Negative\",\"Neutral\",\"Neutral\",\"Positive\",\"Positive\",\"Negative\",\"Negative\",\"Positive\",\"Negative\",\"Negative\",\"Positive\",\"Neutral\",\"Negative\",\"Positive\",\"Positive\",\"Positive\",\"Neutral\",\"Negative\",\"Positive\",\"Positive\",\"Negative\",\"Positive\",\"Negative\",\"Neutral\",\"Positive\",\"Positive\",\"Neutral\",\"Positive\",\"Positive\",\"Neutral\",\"Negative\",\"Negative\",\"Positive\",\"Neutral\",\"Positive\",\"Positive\",\"Positive\",\"Negative\",\"Negative\",\"Positive\",\"Negative\",\"Positive\",\"Neutral\",\"Positive\",\"Neutral\",\"Neutral\",\"Negative\",\"Positive\",\"Negative\",\"Negative\",\"Positive\",\"Neutral\",\"Neutral\",\"Neutral\",\"Positive\",\"Positive\",\"Negative\",\"Positive\",\"Positive\",\"Positive\",\"Positive\",\"Positive\",\"Positive\",\"Positive\",\"Positive\",\"Positive\",\"Positive\",\"Neutral\",\"Positive\",\"Negative\",\"Positive\",\"Negative\",\"Negative\",\"Negative\",\"Neutral\",\"Negative\",\"Neutral\",\"Negative\",\"Positive\",\"Positive\",\"Positive\",\"Negative\",\"Positive\",\"Negative\",\"Positive\",\"Positive\",\"Neutral\",\"Negative\",\"Negative\",\"Negative\",\"Neutral\",\"Negative\",\"Positive\",\"Positive\",\"Neutral\",\"Negative\",\"Negative\",\"Negative\",\"Positive\",\"Positive\",\"Negative\",\"Negative\",\"Negative\",\"Positive\",\"Negative\",\"Neutral\",\"Positive\",\"Negative\",\"Negative\",\"Positive\",\"Positive\",\"Neutral\",\"Positive\",\"Negative\",\"Positive\",\"Neutral\",\"Positive\",\"Negative\",\"Positive\",\"Positive\",\"Positive\",\"Positive\",\"Positive\",\"Positive\",\"Positive\",\"Neutral\",\"Positive\",\"Positive\",\"Neutral\",\"Negative\",\"Neutral\",\"Positive\",\"Negative\",\"Neutral\",\"Neutral\",\"Negative\",\"Negative\",\"Negative\",\"Positive\",\"Neutral\",\"Neutral\",\"Positive\",\"Positive\",\"Negative\",\"Negative\",\"Positive\",\"Neutral\",\"Negative\",\"Negative\",\"Positive\",\"Neutral\",\"Negative\",\"Negative\",\"Positive\",\"Negative\",\"Negative\",\"Positive\",\"Positive\",\"Positive\",\"Positive\",\"Neutral\",\"Negative\",\"Neutral\",\"Neutral\",\"Neutral\",\"Negative\",\"Positive\",\"Negative\",\"Positive\",\"Positive\",\"Positive\",\"Neutral\",\"Negative\",\"Neutral\",\"Negative\",\"Positive\",\"Positive\",\"Positive\",\"Positive\",\"Negative\",\"Positive\",\"Neutral\",\"Negative\",\"Positive\",\"Positive\",\"Positive\",\"Neutral\",\"Positive\",\"Positive\",\"Positive\",\"Positive\",\"Negative\",\"Negative\",\"Positive\",\"Positive\",\"Positive\",\"Positive\",\"Positive\",\"Positive\",\"Neutral\",\"Neutral\",\"Positive\",\"Positive\",\"Positive\",\"Negative\",\"Neutral\",\"Negative\",\"Positive\",\"Neutral\",\"Neutral\",\"Neutral\",\"Positive\",\"Positive\",\"Positive\",\"Negative\",\"Neutral\",\"Positive\",\"Positive\",\"Negative\",\"Positive\",\"Positive\",\"Positive\",\"Negative\",\"Positive\",\"Neutral\",\"Negative\",\"Positive\",\"Negative\",\"Neutral\",\"Positive\",\"Positive\",\"Neutral\",\"Positive\",\"Positive\",\"Positive\",\"Positive\",\"Negative\",\"Negative\",\"Positive\",\"Negative\",\"Negative\",\"Positive\",\"Neutral\",\"Neutral\",\"Neutral\",\"Neutral\",\"Neutral\",\"Positive\",\"Positive\",\"Neutral\",\"Positive\",\"Negative\",\"Negative\",\"Negative\",\"Positive\",\"Neutral\",\"Neutral\",\"Positive\",\"Positive\",\"Positive\",\"Positive\",\"Negative\",\"Positive\",\"Positive\",\"Negative\",\"Positive\",\"Neutral\",\"Negative\",\"Negative\",\"Neutral\",\"Positive\",\"Positive\",\"Positive\",\"Neutral\",\"Negative\",\"Negative\",\"Negative\",\"Positive\",\"Positive\",\"Neutral\",\"Negative\",\"Negative\",\"Negative\",\"Positive\",\"Negative\",\"Positive\",\"Negative\",\"Neutral\",\"Negative\",\"Positive\",\"Positive\",\"Negative\",\"Negative\",\"Positive\",\"Neutral\",\"Positive\",\"Negative\",\"Negative\",\"Positive\",\"Neutral\",\"Negative\",\"Positive\",\"Positive\",\"Positive\",\"Positive\",\"Positive\",\"Positive\",\"Negative\",\"Negative\",\"Negative\",\"Negative\",\"Neutral\",\"Neutral\",\"Neutral\",\"Neutral\",\"Positive\",\"Neutral\",\"Positive\",\"Positive\",\"Neutral\",\"Positive\",\"Positive\",\"Negative\",\"Positive\",\"Positive\",\"Negative\",\"Positive\",\"Neutral\",\"Positive\",\"Positive\",\"Positive\",\"Negative\",\"Positive\",\"Negative\",\"Positive\",\"Positive\",\"Negative\",\"Negative\",\"Negative\",\"Neutral\",\"Neutral\",\"Positive\",\"Positive\",\"Positive\",\"Neutral\",\"Positive\",\"Negative\",\"Neutral\",\"Positive\",\"Positive\",\"Negative\",\"Positive\",\"Positive\",\"Positive\",\"Neutral\",\"Positive\",\"Negative\",\"Positive\",\"Positive\",\"Positive\",\"Positive\",\"Neutral\",\"Positive\",\"Neutral\",\"Negative\",\"Neutral\",\"Positive\",\"Negative\",\"Positive\",\"Positive\",\"Positive\",\"Neutral\",\"Negative\",\"Negative\",\"Positive\",\"Positive\",\"Positive\",\"Negative\",\"Positive\",\"Neutral\",\"Positive\",\"Negative\",\"Neutral\",\"Positive\",\"Neutral\",\"Positive\",\"Positive\",\"Negative\",\"Positive\",\"Positive\",\"Positive\",\"Negative\",\"Negative\",\"Positive\",\"Positive\",\"Positive\",\"Negative\",\"Positive\",\"Negative\",\"Positive\",\"Neutral\",\"Negative\",\"Neutral\",\"Positive\",\"Neutral\",\"Positive\",\"Negative\",\"Neutral\",\"Neutral\",\"Positive\",\"Neutral\",\"Negative\",\"Positive\",\"Negative\",\"Positive\",\"Positive\",\"Negative\",\"Positive\",\"Positive\",\"Negative\",\"Positive\",\"Negative\",\"Positive\",\"Negative\",\"Positive\",\"Positive\",\"Positive\",\"Neutral\",\"Negative\",\"Positive\",\"Positive\",\"Positive\",\"Negative\",\"Positive\",\"Neutral\",\"Positive\",\"Neutral\",\"Negative\",\"Positive\",\"Neutral\",\"Neutral\",\"Positive\",\"Positive\",\"Positive\",\"Positive\",\"Negative\",\"Neutral\",\"Positive\",\"Neutral\",\"Positive\",\"Positive\",\"Positive\",\"Neutral\",\"Neutral\",\"Positive\",\"Positive\",\"Positive\",\"Positive\",\"Positive\",\"Negative\",\"Neutral\",\"Neutral\",\"Positive\",\"Positive\",\"Positive\",\"Negative\",\"Positive\",\"Neutral\",\"Negative\",\"Negative\",\"Neutral\",\"Neutral\",\"Neutral\",\"Positive\",\"Positive\",\"Negative\",\"Neutral\",\"Positive\",\"Neutral\",\"Negative\",\"Neutral\",\"Positive\",\"Neutral\",\"Neutral\",\"Neutral\",\"Negative\",\"Positive\",\"Neutral\",\"Positive\",\"Negative\",\"Negative\",\"Neutral\",\"Negative\",\"Positive\",\"Positive\",\"Positive\",\"Positive\",\"Positive\",\"Positive\",\"Positive\",\"Positive\",\"Negative\",\"Positive\",\"Negative\",\"Neutral\",\"Neutral\",\"Neutral\",\"Positive\",\"Positive\",\"Positive\",\"Neutral\",\"Positive\",\"Positive\",\"Neutral\",\"Neutral\",\"Positive\",\"Positive\",\"Positive\",\"Positive\",\"Neutral\",\"Neutral\",\"Positive\",\"Negative\",\"Negative\",\"Positive\",\"Positive\",\"Positive\",\"Positive\",\"Positive\",\"Neutral\",\"Positive\",\"Positive\",\"Negative\",\"Negative\",\"Negative\",\"Positive\",\"Neutral\",\"Positive\",\"Neutral\",\"Positive\",\"Positive\",\"Negative\",\"Positive\",\"Positive\",\"Positive\",\"Neutral\",\"Negative\",\"Positive\",\"Positive\",\"Positive\",\"Positive\",\"Positive\",\"Positive\",\"Negative\",\"Positive\",\"Negative\",\"Positive\",\"Negative\",\"Positive\",\"Positive\",\"Positive\",\"Neutral\",\"Neutral\",\"Neutral\",\"Positive\",\"Positive\",\"Positive\",\"Positive\",\"Positive\",\"Positive\",\"Negative\",\"Negative\",\"Negative\",\"Negative\",\"Positive\",\"Positive\",\"Neutral\",\"Positive\",\"Negative\",\"Negative\",\"Negative\",\"Negative\",\"Positive\",\"Neutral\",\"Neutral\",\"Neutral\",\"Negative\",\"Positive\",\"Positive\",\"Positive\",\"Negative\",\"Negative\",\"Positive\",\"Neutral\",\"Positive\",\"Negative\",\"Negative\",\"Negative\",\"Positive\",\"Negative\",\"Positive\",\"Negative\",\"Neutral\",\"Positive\",\"Positive\",\"Positive\",\"Positive\",\"Positive\",\"Negative\",\"Neutral\",\"Neutral\",\"Positive\",\"Positive\",\"Positive\",\"Neutral\",\"Positive\",\"Positive\",\"Positive\",\"Positive\",\"Negative\",\"Positive\",\"Positive\",\"Positive\",\"Positive\",\"Positive\",\"Positive\",\"Negative\",\"Negative\",\"Negative\",\"Neutral\",\"Neutral\",\"Positive\",\"Neutral\",\"Positive\",\"Negative\",\"Negative\",\"Negative\",\"Neutral\",\"Positive\",\"Positive\",\"Negative\",\"Negative\",\"Negative\",\"Negative\",\"Negative\",\"Positive\",\"Positive\",\"Neutral\",\"Positive\",\"Negative\",\"Positive\",\"Positive\",\"Positive\",\"Positive\",\"Negative\",\"Negative\",\"Negative\",\"Neutral\",\"Negative\",\"Positive\",\"Positive\",\"Negative\",\"Neutral\",\"Positive\",\"Positive\",\"Negative\",\"Neutral\",\"Negative\",\"Positive\",\"Positive\",\"Negative\",\"Positive\",\"Positive\",\"Positive\",\"Positive\",\"Negative\",\"Negative\",\"Negative\",\"Neutral\",\"Neutral\",\"Neutral\",\"Positive\",\"Negative\",\"Neutral\",\"Negative\",\"Positive\",\"Positive\",\"Positive\",\"Negative\",\"Negative\",\"Positive\",\"Positive\",\"Positive\",\"Positive\",\"Positive\",\"Neutral\",\"Negative\",\"Positive\",\"Positive\",\"Positive\",\"Positive\",\"Positive\",\"Positive\",\"Neutral\",\"Positive\",\"Positive\",\"Positive\",\"Negative\",\"Positive\",\"Positive\",\"Positive\",\"Negative\",\"Positive\",\"Positive\",\"Positive\",\"Positive\",\"Positive\",\"Negative\",\"Neutral\",\"Negative\",\"Negative\",\"Positive\",\"Neutral\",\"Positive\",\"Positive\",\"Negative\",\"Neutral\",\"Positive\",\"Neutral\",\"Negative\",\"Negative\",\"Positive\",\"Negative\",\"Positive\",\"Negative\",\"Negative\",\"Neutral\",\"Neutral\",\"Negative\",\"Positive\",\"Negative\",\"Positive\",\"Positive\",\"Negative\",\"Negative\",\"Negative\",\"Positive\",\"Neutral\",\"Neutral\",\"Positive\",\"Positive\",\"Neutral\",\"Negative\",\"Positive\",\"Negative\",\"Positive\",\"Positive\",\"Negative\",\"Negative\",\"Negative\",\"Positive\",\"Negative\",\"Negative\",\"Negative\",\"Negative\",\"Negative\",\"Positive\",\"Negative\",\"Neutral\",\"Negative\",\"Negative\",\"Neutral\",\"Negative\",\"Positive\",\"Neutral\",\"Positive\",\"Negative\",\"Negative\",\"Negative\",\"Negative\",\"Negative\",\"Neutral\",\"Neutral\",\"Positive\",\"Positive\",\"Positive\",\"Negative\",\"Positive\",\"Positive\",\"Negative\",\"Neutral\",\"Negative\",\"Positive\",\"Positive\",\"Negative\",\"Positive\",\"Negative\",\"Neutral\",\"Positive\",\"Positive\",\"Positive\",\"Neutral\",\"Positive\",\"Negative\",\"Neutral\",\"Negative\",\"Negative\",\"Neutral\",\"Negative\",\"Positive\",\"Negative\",\"Positive\",\"Neutral\",\"Negative\",\"Negative\",\"Positive\",\"Neutral\",\"Negative\",\"Negative\",\"Negative\",\"Neutral\",\"Negative\",\"Negative\",\"Negative\",\"Positive\",\"Neutral\",\"Positive\",\"Negative\",\"Positive\",\"Negative\",\"Positive\",\"Neutral\",\"Neutral\",\"Neutral\",\"Positive\",\"Positive\",\"Positive\",\"Neutral\",\"Negative\",\"Negative\",\"Negative\",\"Negative\",\"Neutral\",\"Positive\",\"Negative\",\"Positive\",\"Negative\",\"Positive\",\"Positive\",\"Negative\",\"Positive\",\"Positive\",\"Negative\",\"Positive\",\"Neutral\",\"Negative\",\"Positive\",\"Negative\",\"Negative\",\"Positive\",\"Positive\",\"Negative\",\"Positive\",\"Neutral\",\"Negative\",\"Negative\",\"Positive\",\"Negative\",\"Positive\",\"Negative\",\"Positive\",\"Neutral\",\"Neutral\",\"Positive\",\"Neutral\",\"Negative\",\"Positive\",\"Negative\",\"Negative\",\"Neutral\",\"Positive\",\"Neutral\",\"Negative\",\"Positive\",\"Negative\",\"Positive\",\"Negative\",\"Positive\",\"Negative\",\"Positive\",\"Negative\",\"Neutral\",\"Positive\",\"Negative\",\"Neutral\",\"Negative\",\"Negative\",\"Negative\",\"Negative\",\"Negative\",\"Negative\",\"Negative\",\"Negative\",\"Negative\",\"Positive\",\"Positive\",\"Negative\",\"Negative\",\"Negative\",\"Negative\",\"Negative\",\"Positive\",\"Neutral\",\"Negative\",\"Neutral\",\"Negative\",\"Positive\",\"Positive\",\"Negative\",\"Positive\",\"Positive\",\"Positive\",\"Negative\",\"Positive\",\"Positive\",\"Neutral\",\"Negative\",\"Negative\",\"Positive\",\"Negative\",\"Positive\",\"Negative\",\"Positive\",\"Negative\",\"Negative\",\"Neutral\",\"Positive\",\"Negative\",\"Positive\",\"Positive\",\"Neutral\",\"Positive\",\"Positive\",\"Negative\",\"Positive\",\"Positive\",\"Negative\",\"Positive\",\"Negative\",\"Neutral\",\"Positive\",\"Neutral\",\"Positive\",\"Positive\",\"Negative\",\"Negative\",\"Positive\",\"Negative\",\"Negative\",\"Negative\",\"Negative\",\"Positive\",\"Positive\",\"Positive\",\"Positive\",\"Negative\",\"Positive\",\"Negative\",\"Positive\",\"Neutral\",\"Positive\",\"Positive\",\"Positive\",\"Positive\",\"Neutral\",\"Neutral\",\"Positive\",\"Negative\",\"Negative\",\"Positive\",\"Positive\",\"Neutral\",\"Positive\",\"Positive\",\"Positive\",\"Positive\",\"Negative\",\"Positive\",\"Negative\",\"Neutral\",\"Positive\",\"Negative\",\"Positive\",\"Positive\",\"Neutral\",\"Positive\",\"Positive\",\"Negative\",\"Positive\",\"Positive\",\"Negative\",\"Neutral\",\"Negative\",\"Neutral\",\"Negative\",\"Neutral\",\"Negative\",\"Negative\",\"Positive\",\"Positive\",\"Positive\",\"Neutral\",\"Neutral\",\"Positive\",\"Positive\",\"Positive\",\"Positive\",\"Neutral\",\"Positive\",\"Negative\",\"Negative\",\"Positive\",\"Neutral\",\"Positive\",\"Positive\",\"Positive\",\"Negative\",\"Positive\",\"Positive\",\"Neutral\",\"Neutral\",\"Positive\",\"Negative\",\"Positive\",\"Positive\",\"Negative\",\"Negative\",\"Neutral\",\"Positive\",\"Negative\",\"Positive\",\"Negative\",\"Positive\",\"Positive\",\"Neutral\",\"Positive\",\"Positive\",\"Positive\",\"Negative\",\"Positive\",\"Positive\",\"Positive\",\"Positive\",\"Neutral\",\"Positive\",\"Positive\",\"Positive\",\"Neutral\",\"Negative\",\"Negative\",\"Neutral\",\"Positive\",\"Negative\",\"Negative\",\"Positive\",\"Negative\",\"Negative\",\"Positive\",\"Neutral\",\"Negative\",\"Negative\",\"Positive\",\"Positive\",\"Positive\",\"Neutral\",\"Positive\",\"Negative\",\"Neutral\",\"Neutral\",\"Negative\",\"Neutral\",\"Positive\",\"Positive\",\"Neutral\",\"Positive\",\"Neutral\",\"Neutral\",\"Neutral\",\"Positive\",\"Positive\",\"Positive\",\"Neutral\",\"Negative\",\"Positive\",\"Neutral\",\"Neutral\",\"Positive\",\"Positive\",\"Positive\",\"Positive\",\"Positive\",\"Neutral\",\"Negative\",\"Negative\",\"Positive\",\"Positive\",\"Negative\",\"Neutral\",\"Neutral\",\"Positive\",\"Positive\",\"Neutral\",\"Neutral\",\"Positive\",\"Positive\",\"Positive\",\"Negative\",\"Negative\",\"Negative\",\"Positive\",\"Negative\",\"Positive\",\"Positive\",\"Positive\",\"Positive\",\"Positive\",\"Positive\",\"Negative\",\"Positive\",\"Neutral\",\"Positive\",\"Neutral\",\"Negative\",\"Negative\",\"Negative\",\"Neutral\",\"Neutral\",\"Negative\",\"Neutral\",\"Neutral\",\"Neutral\",\"Negative\",\"Positive\",\"Negative\",\"Positive\",\"Positive\",\"Positive\",\"Negative\",\"Positive\",\"Negative\",\"Positive\",\"Negative\",\"Positive\",\"Negative\",\"Positive\",\"Neutral\",\"Positive\",\"Positive\",\"Negative\",\"Positive\",\"Negative\",\"Positive\",\"Negative\",\"Positive\",\"Negative\",\"Positive\",\"Positive\",\"Neutral\",\"Negative\",\"Positive\",\"Neutral\",\"Neutral\",\"Negative\",\"Negative\",\"Positive\",\"Neutral\",\"Neutral\",\"Positive\",\"Negative\",\"Neutral\",\"Positive\",\"Negative\",\"Positive\",\"Negative\",\"Negative\",\"Positive\",\"Positive\",\"Negative\",\"Positive\",\"Negative\",\"Positive\",\"Negative\",\"Positive\",\"Negative\",\"Neutral\",\"Positive\",\"Positive\",\"Neutral\",\"Negative\",\"Negative\",\"Positive\",\"Negative\",\"Negative\",\"Positive\",\"Negative\",\"Negative\",\"Neutral\",\"Positive\",\"Negative\",\"Positive\",\"Positive\",\"Negative\",\"Neutral\",\"Negative\",\"Positive\",\"Positive\",\"Positive\",\"Negative\",\"Positive\",\"Neutral\",\"Positive\",\"Positive\",\"Positive\",\"Neutral\",\"Positive\",\"Negative\",\"Positive\",\"Positive\",\"Positive\",\"Positive\",\"Negative\",\"Positive\",\"Positive\",\"Negative\",\"Positive\",\"Negative\",\"Negative\",\"Negative\",\"Neutral\",\"Positive\",\"Negative\",\"Negative\",\"Positive\",\"Negative\",\"Negative\",\"Negative\",\"Negative\",\"Positive\",\"Positive\",\"Negative\",\"Neutral\",\"Neutral\",\"Negative\",\"Positive\",\"Positive\",\"Negative\",\"Negative\",\"Neutral\",\"Positive\",\"Neutral\",\"Neutral\",\"Negative\",\"Positive\",\"Positive\",\"Positive\",\"Negative\",\"Positive\",\"Positive\",\"Neutral\",\"Negative\",\"Positive\",\"Positive\",\"Negative\",\"Neutral\",\"Neutral\",\"Positive\",\"Negative\",\"Negative\",\"Negative\",\"Positive\",\"Neutral\",\"Negative\",\"Negative\",\"Negative\",\"Positive\",\"Negative\",\"Neutral\",\"Positive\",\"Negative\",\"Positive\",\"Neutral\",\"Neutral\",\"Neutral\",\"Positive\",\"Positive\",\"Negative\",\"Negative\",\"Positive\",\"Positive\",\"Positive\",\"Positive\",\"Neutral\",\"Neutral\",\"Negative\",\"Positive\",\"Negative\",\"Negative\",\"Negative\",\"Positive\",\"Positive\",\"Neutral\",\"Negative\",\"Neutral\",\"Neutral\",\"Neutral\",\"Negative\",\"Neutral\",\"Neutral\",\"Positive\",\"Neutral\",\"Positive\",\"Negative\",\"Negative\",\"Negative\",\"Positive\",\"Negative\",\"Positive\",\"Positive\",\"Negative\",\"Negative\",\"Positive\",\"Negative\",\"Neutral\",\"Positive\",\"Neutral\",\"Positive\",\"Negative\",\"Negative\",\"Negative\",\"Negative\",\"Positive\",\"Negative\",\"Neutral\",\"Positive\",\"Neutral\",\"Negative\",\"Positive\",\"Negative\",\"Positive\",\"Positive\",\"Negative\",\"Positive\",\"Positive\",\"Positive\",\"Positive\",\"Positive\",\"Positive\",\"Neutral\",\"Neutral\",\"Neutral\",\"Negative\",\"Positive\",\"Negative\",\"Negative\",\"Positive\",\"Positive\",\"Negative\",\"Negative\",\"Positive\",\"Negative\",\"Neutral\",\"Positive\",\"Neutral\",\"Positive\",\"Neutral\",\"Neutral\",\"Neutral\",\"Positive\",\"Negative\",\"Positive\",\"Neutral\",\"Negative\",\"Positive\",\"Positive\",\"Positive\",\"Negative\",\"Positive\",\"Neutral\",\"Positive\",\"Positive\",\"Positive\",\"Negative\",\"Positive\",\"Positive\",\"Positive\",\"Positive\",\"Positive\",\"Negative\",\"Positive\",\"Positive\",\"Neutral\",\"Positive\",\"Negative\",\"Positive\",\"Negative\",\"Positive\",\"Neutral\",\"Neutral\",\"Neutral\",\"Positive\",\"Neutral\",\"Neutral\",\"Negative\",\"Positive\",\"Neutral\",\"Neutral\",\"Positive\",\"Positive\",\"Neutral\",\"Positive\",\"Positive\",\"Negative\",\"Positive\",\"Positive\",\"Neutral\",\"Positive\",\"Positive\",\"Negative\",\"Positive\",\"Negative\",\"Positive\",\"Positive\",\"Negative\",\"Neutral\",\"Positive\",\"Neutral\",\"Positive\",\"Positive\",\"Neutral\",\"Negative\",\"Negative\",\"Neutral\",\"Positive\",\"Negative\",\"Negative\",\"Positive\",\"Positive\",\"Positive\",\"Neutral\",\"Positive\",\"Negative\",\"Positive\",\"Negative\",\"Negative\",\"Positive\",\"Positive\",\"Negative\",\"Positive\",\"Positive\",\"Neutral\",\"Positive\",\"Neutral\",\"Negative\",\"Negative\",\"Positive\",\"Neutral\",\"Positive\",\"Positive\",\"Negative\",\"Negative\",\"Neutral\",\"Positive\",\"Positive\",\"Positive\",\"Positive\",\"Negative\",\"Positive\",\"Positive\",\"Positive\",\"Negative\",\"Negative\",\"Negative\",\"Positive\",\"Positive\",\"Negative\",\"Positive\",\"Negative\",\"Positive\",\"Negative\",\"Neutral\",\"Positive\",\"Positive\",\"Negative\",\"Positive\",\"Negative\",\"Positive\",\"Negative\",\"Positive\",\"Positive\",\"Positive\",\"Positive\",\"Negative\",\"Positive\",\"Neutral\",\"Neutral\",\"Negative\",\"Positive\",\"Negative\",\"Neutral\",\"Positive\",\"Positive\",\"Negative\",\"Positive\",\"Neutral\",\"Positive\",\"Positive\",\"Neutral\",\"Positive\",\"Positive\",\"Positive\",\"Positive\",\"Positive\",\"Neutral\",\"Positive\",\"Positive\",\"Positive\",\"Negative\",\"Neutral\",\"Neutral\",\"Positive\",\"Negative\",\"Neutral\",\"Positive\",\"Neutral\",\"Neutral\",\"Positive\",\"Negative\",\"Positive\",\"Neutral\",\"Neutral\",\"Neutral\",\"Negative\",\"Positive\",\"Neutral\",\"Positive\",\"Positive\",\"Neutral\",\"Positive\",\"Neutral\",\"Negative\",\"Positive\",\"Positive\",\"Positive\",\"Neutral\",\"Negative\",\"Positive\",\"Neutral\",\"Negative\",\"Negative\",\"Positive\",\"Neutral\",\"Negative\",\"Positive\",\"Negative\",\"Negative\",\"Positive\",\"Positive\",\"Negative\",\"Positive\",\"Positive\",\"Negative\",\"Negative\",\"Positive\",\"Neutral\",\"Neutral\",\"Neutral\",\"Neutral\",\"Positive\",\"Neutral\",\"Negative\",\"Negative\",\"Positive\",\"Negative\",\"Positive\",\"Negative\",\"Neutral\",\"Neutral\",\"Negative\",\"Negative\",\"Neutral\",\"Positive\",\"Positive\",\"Positive\",\"Neutral\",\"Positive\",\"Neutral\",\"Neutral\",\"Neutral\",\"Negative\",\"Positive\",\"Negative\",\"Positive\",\"Negative\",\"Positive\",\"Positive\",\"Neutral\",\"Positive\",\"Positive\",\"Negative\",\"Positive\",\"Negative\",\"Positive\",\"Positive\",\"Positive\",\"Neutral\",\"Negative\",\"Negative\",\"Negative\",\"Positive\",\"Neutral\",\"Negative\",\"Positive\",\"Negative\",\"Neutral\",\"Positive\",\"Neutral\",\"Negative\",\"Negative\",\"Positive\",\"Positive\",\"Neutral\",\"Positive\",\"Positive\",\"Positive\",\"Positive\",\"Negative\",\"Positive\",\"Negative\",\"Positive\",\"Neutral\",\"Positive\",\"Positive\",\"Positive\",\"Negative\",\"Positive\",\"Positive\",\"Neutral\",\"Neutral\",\"Neutral\",\"Positive\",\"Positive\",\"Negative\",\"Neutral\",\"Positive\",\"Neutral\",\"Negative\",\"Positive\",\"Neutral\",\"Positive\",\"Positive\",\"Positive\",\"Negative\",\"Positive\",\"Positive\",\"Positive\",\"Positive\",\"Positive\",\"Neutral\",\"Positive\",\"Positive\",\"Neutral\",\"Positive\",\"Neutral\",\"Negative\",\"Positive\",\"Negative\",\"Neutral\",\"Negative\",\"Negative\",\"Neutral\",\"Negative\",\"Positive\",\"Positive\",\"Positive\",\"Negative\",\"Positive\",\"Positive\",\"Positive\",\"Positive\",\"Positive\",\"Neutral\",\"Negative\",\"Positive\",\"Negative\",\"Positive\",\"Neutral\",\"Negative\",\"Negative\",\"Neutral\",\"Negative\",\"Negative\",\"Negative\",\"Positive\",\"Negative\",\"Positive\",\"Negative\",\"Neutral\",\"Positive\",\"Negative\",\"Negative\",\"Positive\",\"Negative\",\"Positive\",\"Positive\",\"Positive\",\"Positive\",\"Neutral\",\"Neutral\",\"Negative\",\"Positive\",\"Negative\",\"Neutral\",\"Positive\",\"Positive\",\"Neutral\",\"Negative\",\"Negative\",\"Negative\",\"Positive\",\"Negative\",\"Positive\",\"Neutral\",\"Negative\",\"Neutral\",\"Neutral\",\"Neutral\",\"Positive\",\"Positive\",\"Negative\",\"Positive\",\"Neutral\",\"Neutral\",\"Neutral\",\"Neutral\",\"Negative\",\"Positive\",\"Negative\",\"Positive\",\"Neutral\",\"Positive\",\"Neutral\",\"Positive\",\"Neutral\",\"Positive\",\"Positive\",\"Positive\",\"Positive\",\"Positive\",\"Negative\",\"Negative\",\"Positive\",\"Negative\",\"Positive\",\"Negative\",\"Negative\",\"Positive\",\"Positive\",\"Negative\",\"Positive\",\"Positive\",\"Neutral\",\"Neutral\",\"Neutral\",\"Neutral\",\"Positive\",\"Neutral\",\"Negative\",\"Positive\",\"Negative\",\"Positive\",\"Positive\",\"Positive\",\"Positive\",\"Negative\",\"Negative\",\"Positive\",\"Neutral\",\"Positive\",\"Positive\",\"Positive\",\"Positive\",\"Neutral\",\"Neutral\",\"Positive\",\"Positive\",\"Positive\",\"Positive\",\"Positive\",\"Positive\",\"Neutral\",\"Neutral\",\"Positive\",\"Positive\",\"Positive\",\"Positive\",\"Negative\",\"Positive\",\"Positive\",\"Negative\",\"Positive\",\"Positive\",\"Positive\",\"Positive\",\"Negative\",\"Neutral\",\"Positive\",\"Negative\",\"Positive\",\"Positive\",\"Negative\",\"Neutral\",\"Neutral\",\"Negative\",\"Negative\",\"Positive\",\"Negative\",\"Positive\",\"Positive\",\"Negative\",\"Negative\",\"Negative\",\"Negative\",\"Positive\",\"Positive\",\"Positive\",\"Positive\",\"Neutral\",\"Positive\",\"Negative\",\"Neutral\",\"Negative\",\"Positive\",\"Positive\",\"Positive\",\"Neutral\",\"Negative\",\"Negative\",\"Negative\",\"Negative\",\"Negative\",\"Neutral\",\"Positive\",\"Positive\",\"Positive\",\"Negative\",\"Negative\",\"Negative\",\"Positive\",\"Positive\",\"Neutral\",\"Positive\",\"Neutral\",\"Positive\",\"Negative\",\"Positive\",\"Negative\",\"Negative\",\"Positive\",\"Neutral\",\"Neutral\",\"Positive\",\"Negative\",\"Negative\",\"Positive\",\"Negative\",\"Positive\",\"Neutral\",\"Positive\",\"Positive\",\"Positive\",\"Positive\",\"Neutral\",\"Neutral\",\"Neutral\",\"Negative\",\"Positive\",\"Negative\",\"Positive\",\"Neutral\",\"Positive\",\"Negative\",\"Negative\",\"Negative\",\"Neutral\",\"Positive\",\"Negative\",\"Negative\",\"Neutral\",\"Negative\",\"Neutral\",\"Positive\",\"Positive\",\"Negative\",\"Negative\",\"Positive\",\"Positive\",\"Negative\",\"Positive\",\"Positive\",\"Positive\",\"Neutral\",\"Negative\",\"Negative\",\"Positive\",\"Positive\",\"Positive\",\"Positive\",\"Positive\",\"Negative\",\"Positive\",\"Negative\",\"Positive\",\"Positive\",\"Negative\",\"Positive\",\"Negative\",\"Negative\",\"Positive\",\"Negative\",\"Positive\",\"Positive\",\"Negative\",\"Positive\",\"Positive\",\"Negative\",\"Neutral\",\"Neutral\",\"Negative\",\"Positive\",\"Neutral\",\"Positive\",\"Negative\",\"Negative\",\"Neutral\",\"Positive\",\"Negative\",\"Positive\",\"Positive\",\"Negative\",\"Positive\",\"Positive\",\"Negative\",\"Neutral\",\"Positive\",\"Negative\",\"Positive\",\"Negative\",\"Negative\",\"Negative\",\"Negative\",\"Positive\",\"Positive\",\"Positive\",\"Positive\",\"Negative\",\"Negative\",\"Positive\",\"Positive\",\"Neutral\",\"Neutral\",\"Neutral\",\"Neutral\",\"Positive\",\"Positive\",\"Positive\",\"Neutral\",\"Negative\",\"Neutral\",\"Neutral\",\"Neutral\",\"Positive\",\"Positive\",\"Positive\",\"Neutral\",\"Neutral\",\"Neutral\",\"Positive\",\"Negative\",\"Neutral\",\"Negative\",\"Negative\",\"Positive\",\"Positive\",\"Positive\",\"Positive\",\"Negative\",\"Neutral\",\"Negative\",\"Positive\",\"Neutral\",\"Positive\",\"Negative\",\"Neutral\",\"Positive\",\"Positive\",\"Positive\",\"Neutral\",\"Neutral\",\"Neutral\",\"Neutral\",\"Neutral\",\"Positive\",\"Neutral\",\"Negative\",\"Positive\",\"Neutral\",\"Positive\",\"Positive\",\"Neutral\",\"Neutral\",\"Neutral\",\"Neutral\",\"Negative\",\"Neutral\",\"Neutral\",\"Positive\",\"Neutral\",\"Positive\",\"Neutral\",\"Negative\",\"Negative\",\"Neutral\",\"Negative\",\"Negative\",\"Positive\",\"Positive\",\"Neutral\",\"Positive\",\"Negative\",\"Positive\",\"Negative\",\"Positive\",\"Negative\",\"Positive\",\"Negative\",\"Positive\",\"Negative\",\"Positive\",\"Neutral\",\"Positive\",\"Positive\",\"Positive\",\"Positive\",\"Neutral\",\"Neutral\",\"Negative\",\"Positive\",\"Neutral\",\"Positive\",\"Neutral\",\"Positive\",\"Positive\",\"Neutral\",\"Neutral\",\"Positive\",\"Neutral\",\"Positive\",\"Positive\",\"Positive\",\"Negative\",\"Positive\",\"Positive\",\"Positive\",\"Negative\",\"Negative\",\"Negative\",\"Negative\",\"Positive\",\"Neutral\",\"Neutral\",\"Negative\",\"Positive\",\"Positive\",\"Negative\",\"Neutral\",\"Positive\",\"Positive\",\"Positive\",\"Positive\",\"Negative\",\"Neutral\",\"Negative\",\"Negative\",\"Positive\",\"Neutral\",\"Neutral\",\"Positive\",\"Negative\",\"Positive\",\"Negative\",\"Positive\",\"Negative\",\"Neutral\",\"Positive\",\"Positive\",\"Positive\",\"Positive\",\"Positive\",\"Neutral\",\"Neutral\",\"Neutral\",\"Negative\",\"Negative\",\"Positive\",\"Positive\",\"Positive\",\"Negative\",\"Neutral\",\"Neutral\",\"Negative\",\"Neutral\",\"Positive\",\"Negative\",\"Positive\",\"Negative\",\"Neutral\",\"Neutral\",\"Positive\",\"Negative\",\"Neutral\",\"Positive\",\"Positive\",\"Positive\",\"Neutral\",\"Negative\",\"Positive\",\"Positive\",\"Negative\",\"Negative\",\"Positive\",\"Neutral\",\"Positive\",\"Positive\",\"Positive\",\"Negative\",\"Neutral\",\"Positive\",\"Negative\",\"Positive\",\"Neutral\",\"Positive\",\"Negative\",\"Positive\",\"Positive\",\"Positive\",\"Positive\",\"Negative\",\"Positive\",\"Negative\",\"Positive\",\"Positive\",\"Positive\",\"Positive\",\"Positive\",\"Negative\",\"Negative\",\"Positive\",\"Negative\",\"Negative\",\"Positive\",\"Negative\",\"Negative\",\"Negative\",\"Neutral\",\"Neutral\",\"Negative\",\"Positive\",\"Neutral\",\"Positive\",\"Positive\",\"Positive\",\"Positive\",\"Neutral\",\"Positive\",\"Negative\",\"Negative\",\"Positive\",\"Positive\",\"Neutral\",\"Positive\",\"Negative\",\"Negative\",\"Positive\",\"Negative\",\"Neutral\",\"Neutral\",\"Positive\",\"Positive\",\"Negative\",\"Positive\",\"Positive\",\"Neutral\",\"Negative\",\"Positive\",\"Positive\",\"Negative\",\"Negative\",\"Negative\",\"Negative\",\"Positive\",\"Negative\",\"Positive\",\"Positive\",\"Positive\",\"Neutral\",\"Negative\",\"Negative\",\"Positive\",\"Neutral\",\"Negative\",\"Positive\",\"Positive\",\"Positive\",\"Neutral\",\"Neutral\",\"Neutral\",\"Positive\",\"Neutral\",\"Positive\",\"Positive\",\"Neutral\",\"Positive\",\"Negative\",\"Negative\",\"Negative\",\"Negative\",\"Negative\",\"Positive\",\"Negative\",\"Positive\",\"Neutral\",\"Negative\",\"Negative\",\"Positive\",\"Positive\",\"Positive\",\"Positive\",\"Neutral\",\"Positive\",\"Positive\",\"Negative\",\"Positive\",\"Positive\",\"Positive\",\"Negative\",\"Positive\",\"Positive\",\"Negative\",\"Neutral\",\"Positive\",\"Neutral\",\"Positive\",\"Negative\",\"Positive\",\"Positive\",\"Positive\",\"Positive\",\"Positive\",\"Positive\",\"Positive\",\"Negative\",\"Neutral\",\"Neutral\",\"Negative\",\"Negative\",\"Neutral\",\"Negative\",\"Negative\",\"Neutral\",\"Neutral\",\"Negative\",\"Neutral\",\"Neutral\",\"Positive\",\"Neutral\",\"Neutral\",\"Negative\",\"Neutral\",\"Positive\",\"Negative\",\"Positive\",\"Positive\",\"Positive\",\"Neutral\",\"Neutral\",\"Positive\",\"Neutral\",\"Positive\",\"Negative\",\"Positive\",\"Negative\",\"Positive\",\"Neutral\",\"Positive\",\"Positive\",\"Negative\",\"Positive\",\"Neutral\",\"Negative\",\"Positive\",\"Positive\",\"Negative\",\"Negative\",\"Negative\",\"Negative\",\"Neutral\",\"Negative\",\"Positive\",\"Positive\",\"Positive\",\"Positive\",\"Negative\",\"Negative\",\"Positive\",\"Negative\",\"Negative\",\"Neutral\",\"Positive\",\"Positive\",\"Negative\",\"Positive\",\"Positive\",\"Positive\",\"Positive\",\"Positive\",\"Positive\",\"Positive\",\"Positive\",\"Neutral\",\"Positive\",\"Negative\",\"Positive\",\"Positive\",\"Neutral\",\"Negative\",\"Positive\",\"Positive\",\"Neutral\",\"Negative\",\"Neutral\",\"Negative\",\"Neutral\",\"Neutral\",\"Positive\",\"Negative\",\"Positive\",\"Neutral\",\"Positive\",\"Negative\",\"Positive\",\"Negative\",\"Negative\",\"Positive\",\"Negative\",\"Negative\",\"Positive\",\"Negative\",\"Positive\",\"Neutral\",\"Neutral\",\"Positive\",\"Positive\",\"Positive\",\"Neutral\",\"Positive\",\"Positive\",\"Positive\",\"Positive\",\"Neutral\",\"Positive\",\"Negative\",\"Positive\",\"Negative\",\"Positive\",\"Positive\",\"Negative\",\"Positive\",\"Neutral\",\"Positive\",\"Negative\",\"Negative\",\"Negative\",\"Neutral\",\"Negative\",\"Neutral\",\"Positive\",\"Neutral\",\"Positive\",\"Negative\",\"Positive\",\"Positive\",\"Negative\",\"Positive\",\"Positive\",\"Positive\",\"Negative\",\"Neutral\",\"Positive\",\"Neutral\",\"Neutral\",\"Positive\",\"Positive\",\"Neutral\",\"Negative\",\"Positive\",\"Negative\",\"Positive\",\"Positive\",\"Neutral\",\"Neutral\",\"Negative\",\"Neutral\",\"Negative\",\"Positive\",\"Positive\",\"Neutral\",\"Negative\",\"Positive\",\"Neutral\",\"Positive\",\"Positive\",\"Neutral\",\"Neutral\",\"Positive\",\"Negative\",\"Negative\",\"Negative\",\"Positive\",\"Neutral\",\"Negative\",\"Positive\",\"Positive\",\"Neutral\",\"Positive\",\"Neutral\",\"Negative\",\"Negative\",\"Negative\",\"Positive\",\"Negative\",\"Neutral\",\"Neutral\",\"Negative\",\"Positive\",\"Neutral\",\"Neutral\",\"Neutral\",\"Negative\",\"Positive\",\"Positive\",\"Positive\",\"Neutral\",\"Positive\",\"Neutral\",\"Positive\",\"Negative\",\"Negative\",\"Positive\",\"Negative\",\"Negative\",\"Neutral\",\"Negative\",\"Positive\",\"Negative\",\"Neutral\",\"Positive\",\"Neutral\",\"Positive\",\"Negative\",\"Negative\",\"Neutral\",\"Positive\",\"Positive\",\"Positive\",\"Negative\",\"Neutral\",\"Neutral\",\"Negative\",\"Negative\",\"Neutral\",\"Positive\",\"Neutral\",\"Positive\",\"Positive\",\"Positive\",\"Neutral\",\"Neutral\",\"Positive\",\"Neutral\",\"Negative\",\"Negative\",\"Negative\",\"Positive\",\"Positive\",\"Positive\",\"Positive\",\"Positive\",\"Negative\",\"Neutral\",\"Negative\",\"Positive\",\"Positive\",\"Positive\",\"Negative\",\"Positive\",\"Positive\",\"Positive\",\"Neutral\",\"Positive\",\"Positive\",\"Neutral\",\"Positive\",\"Positive\",\"Positive\",\"Positive\",\"Positive\",\"Neutral\",\"Positive\",\"Neutral\",\"Positive\",\"Negative\",\"Negative\",\"Negative\",\"Negative\",\"Negative\",\"Positive\",\"Positive\",\"Negative\",\"Negative\",\"Positive\",\"Positive\",\"Positive\",\"Negative\",\"Positive\",\"Neutral\",\"Neutral\",\"Positive\",\"Positive\",\"Neutral\",\"Neutral\",\"Positive\",\"Positive\",\"Positive\",\"Negative\",\"Neutral\",\"Positive\",\"Neutral\",\"Negative\",\"Negative\",\"Positive\",\"Positive\",\"Neutral\",\"Negative\",\"Positive\",\"Negative\",\"Neutral\",\"Positive\",\"Positive\",\"Negative\",\"Neutral\",\"Positive\",\"Negative\",\"Positive\",\"Negative\",\"Negative\",\"Neutral\",\"Positive\",\"Negative\",\"Neutral\",\"Positive\",\"Positive\",\"Positive\",\"Positive\",\"Negative\",\"Negative\",\"Negative\",\"Negative\",\"Negative\",\"Positive\",\"Positive\",\"Positive\",\"Positive\",\"Negative\",\"Positive\",\"Positive\",\"Positive\",\"Neutral\",\"Positive\",\"Positive\",\"Negative\",\"Positive\",\"Neutral\",\"Negative\",\"Positive\",\"Positive\",\"Negative\",\"Negative\",\"Neutral\",\"Neutral\",\"Negative\",\"Neutral\",\"Negative\",\"Negative\",\"Positive\",\"Neutral\",\"Negative\",\"Negative\",\"Positive\",\"Negative\",\"Negative\",\"Positive\",\"Positive\",\"Negative\",\"Neutral\",\"Positive\",\"Positive\",\"Positive\",\"Neutral\",\"Positive\",\"Negative\",\"Negative\",\"Neutral\",\"Negative\",\"Positive\",\"Positive\",\"Positive\",\"Negative\",\"Positive\",\"Neutral\",\"Positive\",\"Positive\",\"Negative\",\"Positive\",\"Positive\",\"Positive\",\"Negative\",\"Negative\",\"Negative\",\"Negative\",\"Positive\",\"Positive\",\"Neutral\",\"Positive\",\"Positive\",\"Positive\",\"Positive\",\"Positive\",\"Negative\",\"Positive\",\"Positive\",\"Positive\",\"Positive\",\"Positive\",\"Positive\",\"Neutral\",\"Negative\",\"Positive\",\"Positive\",\"Negative\",\"Positive\",\"Positive\",\"Positive\",\"Negative\",\"Positive\",\"Positive\",\"Positive\",\"Negative\",\"Neutral\",\"Negative\",\"Negative\",\"Negative\",\"Positive\",\"Negative\",\"Neutral\",\"Positive\",\"Negative\",\"Negative\",\"Positive\",\"Negative\",\"Positive\",\"Positive\",\"Negative\",\"Negative\",\"Neutral\",\"Positive\",\"Negative\",\"Positive\",\"Positive\",\"Negative\",\"Negative\",\"Neutral\",\"Negative\",\"Neutral\",\"Neutral\",\"Negative\",\"Positive\",\"Negative\",\"Positive\",\"Negative\",\"Positive\",\"Positive\",\"Positive\",\"Neutral\",\"Negative\",\"Neutral\",\"Negative\",\"Neutral\",\"Neutral\",\"Positive\",\"Positive\",\"Neutral\",\"Neutral\",\"Positive\",\"Positive\",\"Negative\",\"Neutral\",\"Neutral\",\"Negative\",\"Neutral\",\"Negative\",\"Positive\",\"Negative\",\"Negative\",\"Neutral\",\"Neutral\",\"Neutral\",\"Positive\",\"Positive\",\"Neutral\",\"Negative\",\"Negative\",\"Negative\",\"Positive\",\"Negative\",\"Negative\",\"Negative\",\"Positive\",\"Neutral\",\"Negative\",\"Negative\",\"Positive\",\"Positive\",\"Positive\",\"Positive\",\"Positive\",\"Positive\",\"Neutral\",\"Negative\",\"Positive\",\"Neutral\",\"Positive\",\"Negative\",\"Neutral\",\"Negative\",\"Negative\",\"Positive\",\"Positive\",\"Positive\",\"Negative\",\"Positive\",\"Negative\",\"Positive\",\"Positive\",\"Neutral\",\"Negative\",\"Positive\",\"Positive\",\"Positive\",\"Positive\",\"Neutral\",\"Negative\",\"Positive\",\"Negative\",\"Neutral\",\"Positive\",\"Negative\",\"Negative\",\"Neutral\",\"Negative\",\"Neutral\",\"Positive\",\"Negative\",\"Negative\",\"Neutral\",\"Positive\",\"Positive\",\"Positive\",\"Negative\",\"Negative\",\"Positive\",\"Positive\",\"Positive\",\"Negative\",\"Positive\",\"Negative\",\"Positive\",\"Positive\",\"Neutral\",\"Positive\",\"Positive\",\"Neutral\",\"Negative\",\"Positive\",\"Positive\",\"Negative\",\"Positive\",\"Negative\",\"Positive\",\"Neutral\",\"Positive\",\"Positive\",\"Negative\",\"Positive\",\"Neutral\",\"Neutral\",\"Positive\",\"Negative\",\"Negative\",\"Negative\",\"Neutral\",\"Positive\",\"Negative\",\"Neutral\",\"Positive\",\"Neutral\",\"Negative\",\"Positive\",\"Neutral\",\"Negative\",\"Positive\",\"Negative\",\"Positive\",\"Positive\",\"Positive\",\"Neutral\",\"Negative\",\"Negative\",\"Positive\",\"Negative\",\"Positive\",\"Neutral\",\"Negative\",\"Positive\",\"Neutral\",\"Positive\",\"Neutral\",\"Negative\",\"Positive\",\"Positive\",\"Positive\",\"Positive\",\"Positive\",\"Neutral\",\"Positive\",\"Negative\",\"Negative\",\"Neutral\",\"Neutral\",\"Negative\",\"Neutral\",\"Negative\",\"Neutral\",\"Neutral\",\"Positive\",\"Neutral\",\"Negative\",\"Negative\",\"Positive\",\"Neutral\",\"Positive\",\"Negative\",\"Negative\",\"Negative\",\"Negative\",\"Negative\",\"Positive\",\"Positive\",\"Negative\",\"Neutral\",\"Positive\",\"Positive\",\"Negative\",\"Negative\",\"Negative\",\"Positive\",\"Positive\",\"Negative\",\"Positive\",\"Positive\",\"Negative\",\"Positive\",\"Neutral\",\"Positive\",\"Positive\",\"Negative\",\"Positive\",\"Negative\",\"Negative\",\"Neutral\",\"Positive\",\"Negative\",\"Negative\",\"Negative\",\"Neutral\",\"Positive\",\"Positive\",\"Positive\",\"Positive\",\"Neutral\",\"Positive\",\"Negative\",\"Positive\",\"Positive\",\"Neutral\",\"Neutral\",\"Positive\",\"Positive\",\"Negative\",\"Neutral\",\"Negative\",\"Positive\",\"Negative\",\"Negative\",\"Negative\",\"Neutral\",\"Negative\",\"Positive\",\"Positive\",\"Neutral\",\"Negative\",\"Negative\",\"Neutral\",\"Positive\",\"Negative\",\"Negative\",\"Positive\",\"Neutral\",\"Neutral\",\"Negative\",\"Positive\",\"Positive\",\"Positive\",\"Positive\",\"Negative\",\"Negative\",\"Negative\",\"Negative\",\"Positive\",\"Positive\",\"Positive\",\"Neutral\",\"Positive\",\"Neutral\",\"Positive\",\"Positive\",\"Positive\",\"Neutral\",\"Positive\",\"Positive\",\"Neutral\",\"Positive\",\"Neutral\",\"Negative\",\"Positive\",\"Negative\",\"Negative\",\"Negative\",\"Positive\",\"Positive\",\"Negative\",\"Negative\",\"Negative\",\"Neutral\",\"Positive\",\"Positive\",\"Positive\",\"Positive\",\"Positive\",\"Neutral\",\"Negative\",\"Negative\",\"Positive\",\"Positive\",\"Positive\",\"Negative\",\"Positive\",\"Negative\",\"Positive\",\"Neutral\",\"Negative\",\"Neutral\",\"Negative\",\"Positive\",\"Negative\",\"Positive\",\"Positive\",\"Negative\",\"Positive\",\"Positive\",\"Positive\",\"Positive\",\"Neutral\",\"Positive\",\"Negative\",\"Negative\",\"Neutral\",\"Neutral\",\"Positive\",\"Neutral\",\"Neutral\",\"Neutral\",\"Negative\",\"Positive\",\"Negative\",\"Negative\",\"Neutral\",\"Negative\",\"Positive\",\"Negative\",\"Neutral\",\"Positive\",\"Positive\",\"Neutral\",\"Neutral\",\"Positive\",\"Negative\",\"Positive\",\"Positive\",\"Neutral\",\"Negative\",\"Neutral\",\"Negative\",\"Negative\",\"Positive\",\"Positive\",\"Neutral\",\"Positive\",\"Neutral\",\"Negative\",\"Neutral\",\"Positive\",\"Negative\",\"Negative\",\"Negative\",\"Negative\",\"Positive\",\"Positive\",\"Neutral\",\"Neutral\",\"Positive\",\"Positive\",\"Positive\",\"Negative\",\"Neutral\",\"Negative\",\"Positive\",\"Positive\",\"Negative\",\"Positive\",\"Negative\",\"Neutral\",\"Positive\",\"Negative\",\"Neutral\",\"Neutral\",\"Neutral\",\"Neutral\",\"Positive\",\"Negative\",\"Positive\",\"Negative\",\"Negative\",\"Negative\",\"Positive\",\"Positive\",\"Negative\",\"Positive\",\"Positive\",\"Positive\",\"Positive\",\"Positive\",\"Positive\",\"Negative\",\"Negative\",\"Positive\",\"Positive\",\"Neutral\",\"Positive\",\"Positive\",\"Negative\",\"Neutral\",\"Positive\",\"Neutral\",\"Negative\",\"Positive\",\"Negative\",\"Negative\",\"Positive\",\"Positive\",\"Positive\",\"Positive\",\"Negative\",\"Positive\",\"Negative\",\"Negative\",\"Positive\",\"Negative\",\"Positive\",\"Negative\",\"Negative\",\"Neutral\",\"Negative\",\"Negative\",\"Negative\",\"Positive\",\"Positive\",\"Positive\",\"Neutral\",\"Negative\",\"Positive\",\"Negative\",\"Positive\",\"Positive\",\"Negative\",\"Negative\",\"Negative\",\"Negative\",\"Negative\",\"Positive\",\"Neutral\",\"Negative\",\"Positive\",\"Negative\",\"Neutral\",\"Positive\",\"Negative\",\"Negative\",\"Neutral\",\"Neutral\",\"Negative\",\"Positive\",\"Positive\",\"Neutral\",\"Negative\",\"Neutral\",\"Neutral\",\"Neutral\",\"Positive\",\"Negative\",\"Positive\",\"Positive\",\"Neutral\",\"Neutral\",\"Negative\",\"Positive\",\"Positive\",\"Negative\",\"Neutral\",\"Negative\",\"Positive\",\"Negative\",\"Positive\",\"Negative\",\"Negative\",\"Positive\",\"Neutral\",\"Neutral\",\"Neutral\",\"Negative\",\"Positive\",\"Positive\",\"Negative\",\"Positive\",\"Negative\",\"Negative\",\"Positive\",\"Negative\",\"Positive\",\"Neutral\",\"Negative\",\"Negative\",\"Positive\",\"Positive\",\"Positive\",\"Positive\",\"Positive\",\"Positive\",\"Neutral\",\"Positive\",\"Negative\",\"Positive\",\"Positive\",\"Negative\",\"Negative\",\"Neutral\",\"Negative\",\"Positive\",\"Positive\",\"Negative\",\"Neutral\",\"Positive\",\"Negative\",\"Positive\",\"Positive\",\"Negative\",\"Neutral\",\"Positive\",\"Positive\",\"Positive\",\"Positive\",\"Neutral\",\"Positive\",\"Negative\",\"Neutral\",\"Positive\",\"Neutral\",\"Negative\",\"Negative\",\"Negative\",\"Negative\",\"Negative\",\"Neutral\",\"Positive\",\"Positive\",\"Negative\",\"Positive\",\"Positive\",\"Negative\",\"Positive\",\"Positive\",\"Neutral\",\"Positive\",\"Neutral\",\"Positive\",\"Negative\",\"Positive\",\"Negative\",\"Negative\",\"Positive\",\"Positive\",\"Negative\",\"Positive\",\"Negative\",\"Negative\",\"Positive\",\"Negative\",\"Negative\",\"Negative\",\"Neutral\",\"Negative\",\"Neutral\",\"Positive\",\"Positive\",\"Negative\",\"Negative\",\"Negative\",\"Neutral\",\"Positive\",\"Positive\",\"Negative\",\"Negative\",\"Positive\",\"Negative\",\"Positive\",\"Positive\",\"Positive\",\"Positive\",\"Positive\",\"Negative\",\"Negative\",\"Positive\",\"Positive\",\"Negative\",\"Positive\",\"Positive\",\"Positive\",\"Neutral\",\"Neutral\",\"Negative\",\"Negative\",\"Negative\",\"Positive\",\"Negative\",\"Positive\",\"Neutral\",\"Neutral\",\"Positive\",\"Positive\",\"Neutral\",\"Positive\",\"Neutral\",\"Negative\",\"Negative\",\"Positive\",\"Neutral\",\"Neutral\",\"Negative\",\"Positive\",\"Neutral\",\"Positive\",\"Negative\",\"Positive\",\"Positive\",\"Neutral\",\"Negative\",\"Negative\",\"Negative\",\"Negative\",\"Negative\",\"Positive\",\"Positive\",\"Positive\",\"Positive\",\"Negative\",\"Negative\",\"Positive\",\"Negative\",\"Positive\",\"Positive\",\"Negative\",\"Neutral\",\"Positive\",\"Positive\",\"Positive\",\"Positive\",\"Neutral\",\"Positive\",\"Negative\",\"Negative\",\"Positive\",\"Negative\",\"Negative\",\"Positive\",\"Positive\",\"Negative\",\"Negative\",\"Neutral\",\"Neutral\",\"Positive\",\"Neutral\",\"Neutral\",\"Neutral\",\"Positive\",\"Negative\",\"Negative\",\"Positive\",\"Positive\",\"Neutral\",\"Positive\",\"Positive\",\"Positive\",\"Positive\",\"Negative\",\"Neutral\",\"Negative\",\"Negative\",\"Positive\",\"Positive\",\"Negative\",\"Neutral\",\"Positive\",\"Negative\",\"Negative\",\"Positive\",\"Positive\",\"Positive\",\"Negative\",\"Positive\",\"Negative\",\"Positive\",\"Negative\",\"Negative\",\"Neutral\",\"Positive\",\"Positive\",\"Negative\",\"Positive\",\"Negative\",\"Positive\",\"Negative\",\"Neutral\",\"Negative\",\"Positive\",\"Positive\",\"Positive\",\"Negative\",\"Neutral\",\"Positive\",\"Positive\",\"Positive\",\"Positive\",\"Neutral\",\"Negative\",\"Positive\",\"Positive\",\"Positive\",\"Negative\",\"Positive\",\"Negative\",\"Positive\",\"Positive\",\"Negative\",\"Positive\",\"Neutral\",\"Positive\",\"Positive\",\"Neutral\",\"Neutral\",\"Positive\",\"Neutral\",\"Positive\",\"Positive\",\"Negative\",\"Positive\",\"Positive\",\"Negative\",\"Negative\",\"Negative\",\"Negative\",\"Positive\",\"Negative\",\"Negative\",\"Positive\",\"Negative\",\"Neutral\",\"Negative\",\"Neutral\",\"Positive\",\"Positive\",\"Negative\",\"Neutral\",\"Neutral\",\"Negative\",\"Negative\",\"Negative\",\"Neutral\",\"Negative\",\"Neutral\",\"Neutral\",\"Neutral\",\"Positive\",\"Neutral\",\"Positive\",\"Neutral\",\"Positive\",\"Neutral\",\"Neutral\",\"Negative\",\"Positive\",\"Neutral\",\"Neutral\",\"Negative\",\"Negative\",\"Negative\",\"Positive\",\"Positive\",\"Negative\",\"Neutral\",\"Positive\",\"Positive\",\"Positive\",\"Positive\",\"Positive\",\"Neutral\",\"Neutral\",\"Neutral\",\"Negative\",\"Negative\",\"Negative\",\"Negative\",\"Positive\",\"Negative\",\"Neutral\",\"Positive\",\"Neutral\",\"Negative\",\"Neutral\",\"Positive\",\"Negative\",\"Positive\",\"Positive\",\"Positive\",\"Positive\",\"Negative\",\"Negative\",\"Positive\",\"Negative\",\"Negative\",\"Negative\",\"Negative\",\"Positive\",\"Positive\",\"Positive\",\"Negative\",\"Positive\",\"Neutral\",\"Negative\",\"Neutral\",\"Negative\",\"Negative\",\"Neutral\",\"Negative\",\"Neutral\",\"Negative\",\"Positive\",\"Positive\",\"Neutral\",\"Negative\",\"Positive\",\"Negative\",\"Positive\",\"Positive\",\"Positive\",\"Neutral\",\"Neutral\",\"Positive\",\"Positive\",\"Negative\",\"Neutral\",\"Positive\",\"Positive\",\"Positive\",\"Negative\",\"Negative\",\"Negative\",\"Positive\",\"Negative\",\"Negative\",\"Negative\",\"Neutral\",\"Negative\",\"Neutral\",\"Negative\",\"Positive\",\"Positive\",\"Positive\",\"Neutral\",\"Positive\",\"Positive\",\"Neutral\",\"Positive\",\"Neutral\",\"Positive\",\"Negative\",\"Negative\",\"Negative\",\"Neutral\",\"Negative\",\"Negative\",\"Positive\",\"Positive\",\"Positive\",\"Positive\",\"Positive\",\"Neutral\",\"Negative\",\"Negative\",\"Positive\",\"Negative\",\"Neutral\",\"Negative\",\"Positive\",\"Negative\",\"Neutral\",\"Positive\",\"Positive\",\"Negative\",\"Negative\",\"Neutral\",\"Negative\",\"Positive\",\"Negative\",\"Positive\",\"Positive\",\"Neutral\",\"Neutral\",\"Neutral\",\"Negative\",\"Positive\",\"Positive\",\"Positive\",\"Negative\",\"Negative\",\"Negative\",\"Positive\",\"Positive\",\"Neutral\",\"Negative\",\"Positive\",\"Positive\",\"Neutral\",\"Positive\",\"Positive\",\"Positive\",\"Neutral\",\"Negative\",\"Positive\",\"Neutral\",\"Neutral\",\"Positive\",\"Negative\",\"Positive\",\"Positive\",\"Positive\",\"Positive\",\"Neutral\",\"Positive\",\"Negative\",\"Neutral\",\"Negative\",\"Neutral\",\"Negative\",\"Negative\",\"Negative\",\"Positive\",\"Negative\",\"Positive\",\"Negative\",\"Neutral\",\"Positive\",\"Neutral\",\"Positive\",\"Negative\",\"Positive\",\"Positive\",\"Neutral\",\"Neutral\",\"Negative\",\"Positive\",\"Neutral\",\"Positive\",\"Positive\",\"Positive\",\"Positive\",\"Positive\",\"Positive\",\"Positive\",\"Negative\",\"Positive\",\"Positive\",\"Negative\",\"Positive\",\"Neutral\",\"Positive\",\"Negative\",\"Negative\",\"Neutral\",\"Negative\",\"Negative\",\"Negative\",\"Negative\",\"Neutral\",\"Neutral\",\"Positive\",\"Negative\",\"Neutral\",\"Negative\",\"Negative\",\"Neutral\",\"Positive\",\"Negative\",\"Positive\",\"Positive\",\"Positive\",\"Negative\",\"Negative\",\"Neutral\",\"Negative\",\"Negative\",\"Negative\",\"Neutral\",\"Positive\",\"Neutral\",\"Negative\",\"Positive\",\"Negative\",\"Negative\",\"Negative\",\"Neutral\",\"Neutral\",\"Negative\",\"Negative\",\"Neutral\",\"Positive\",\"Negative\",\"Negative\",\"Positive\",\"Positive\",\"Neutral\",\"Positive\",\"Positive\",\"Negative\",\"Negative\",\"Neutral\",\"Neutral\",\"Positive\",\"Neutral\",\"Neutral\",\"Negative\",\"Negative\",\"Neutral\",\"Neutral\",\"Negative\",\"Neutral\",\"Negative\",\"Positive\",\"Positive\",\"Positive\",\"Neutral\",\"Neutral\",\"Neutral\",\"Positive\",\"Negative\",\"Positive\",\"Positive\",\"Negative\",\"Positive\",\"Positive\",\"Positive\",\"Neutral\",\"Negative\",\"Negative\",\"Negative\",\"Positive\",\"Negative\",\"Neutral\",\"Negative\",\"Positive\",\"Negative\",\"Negative\",\"Neutral\",\"Positive\",\"Positive\",\"Positive\",\"Neutral\",\"Positive\",\"Positive\",\"Positive\",\"Positive\",\"Negative\",\"Positive\",\"Neutral\",\"Neutral\",\"Neutral\",\"Negative\",\"Positive\",\"Positive\",\"Positive\",\"Positive\",\"Negative\",\"Neutral\",\"Neutral\",\"Negative\",\"Negative\",\"Negative\",\"Positive\",\"Positive\",\"Positive\",\"Positive\",\"Neutral\",\"Neutral\",\"Negative\",\"Positive\",\"Neutral\",\"Negative\",\"Negative\",\"Positive\",\"Positive\",\"Negative\",\"Positive\",\"Positive\",\"Positive\",\"Neutral\",\"Neutral\",\"Negative\",\"Neutral\",\"Positive\",\"Neutral\",\"Negative\",\"Positive\",\"Negative\",\"Neutral\",\"Neutral\",\"Neutral\",\"Negative\",\"Positive\",\"Neutral\",\"Positive\",\"Positive\",\"Negative\",\"Positive\",\"Positive\",\"Positive\",\"Positive\",\"Negative\",\"Positive\",\"Negative\",\"Negative\",\"Positive\",\"Negative\",\"Negative\",\"Negative\",\"Negative\",\"Positive\",\"Positive\",\"Positive\",\"Negative\",\"Positive\",\"Positive\",\"Neutral\",\"Neutral\",\"Positive\",\"Neutral\",\"Positive\",\"Positive\",\"Neutral\",\"Negative\",\"Neutral\",\"Positive\",\"Positive\",\"Positive\",\"Neutral\",\"Negative\",\"Positive\",\"Positive\",\"Positive\",\"Positive\",\"Neutral\",\"Negative\",\"Positive\",\"Negative\",\"Negative\",\"Positive\",\"Positive\",\"Negative\",\"Neutral\",\"Neutral\",\"Negative\",\"Positive\",\"Neutral\",\"Positive\",\"Neutral\",\"Neutral\",\"Neutral\",\"Negative\",\"Neutral\",\"Negative\",\"Positive\",\"Positive\",\"Positive\",\"Positive\",\"Neutral\",\"Positive\",\"Negative\",\"Negative\",\"Negative\",\"Negative\",\"Positive\",\"Negative\",\"Positive\",\"Positive\",\"Positive\",\"Negative\",\"Neutral\",\"Negative\",\"Positive\",\"Negative\",\"Positive\",\"Positive\",\"Positive\",\"Positive\",\"Positive\",\"Negative\",\"Positive\",\"Negative\",\"Negative\",\"Negative\",\"Neutral\",\"Negative\",\"Negative\",\"Neutral\",\"Negative\",\"Positive\",\"Positive\",\"Positive\",\"Positive\",\"Positive\",\"Negative\",\"Positive\",\"Negative\",\"Negative\",\"Negative\",\"Negative\",\"Negative\",\"Positive\",\"Positive\",\"Negative\",\"Positive\",\"Positive\",\"Negative\",\"Positive\",\"Positive\",\"Positive\",\"Negative\",\"Neutral\",\"Negative\",\"Negative\",\"Positive\",\"Negative\",\"Neutral\",\"Positive\",\"Negative\",\"Negative\",\"Negative\",\"Negative\",\"Neutral\",\"Positive\",\"Negative\",\"Neutral\",\"Negative\",\"Neutral\",\"Positive\",\"Positive\",\"Positive\",\"Positive\",\"Positive\",\"Positive\",\"Negative\",\"Negative\",\"Neutral\",\"Positive\",\"Neutral\",\"Positive\",\"Positive\",\"Negative\",\"Positive\",\"Neutral\",\"Positive\",\"Negative\",\"Positive\",\"Negative\",\"Negative\",\"Negative\",\"Positive\",\"Positive\",\"Negative\",\"Positive\",\"Positive\",\"Negative\",\"Negative\",\"Positive\",\"Positive\",\"Negative\",\"Positive\",\"Negative\",\"Negative\",\"Positive\",\"Positive\",\"Positive\",\"Positive\",\"Positive\",\"Positive\",\"Negative\",\"Positive\",\"Negative\",\"Negative\",\"Neutral\",\"Negative\",\"Neutral\",\"Positive\",\"Neutral\",\"Positive\",\"Positive\",\"Neutral\",\"Positive\",\"Neutral\",\"Positive\",\"Neutral\",\"Neutral\",\"Positive\",\"Neutral\",\"Negative\",\"Positive\",\"Negative\",\"Neutral\",\"Negative\",\"Positive\",\"Neutral\",\"Positive\",\"Positive\",\"Positive\",\"Negative\",\"Negative\",\"Negative\",\"Neutral\",\"Neutral\",\"Positive\",\"Positive\",\"Positive\",\"Positive\",\"Positive\",\"Positive\",\"Negative\",\"Positive\",\"Positive\",\"Positive\",\"Positive\",\"Negative\",\"Positive\",\"Positive\",\"Positive\",\"Positive\",\"Negative\",\"Positive\",\"Neutral\",\"Positive\",\"Negative\",\"Positive\",\"Positive\",\"Positive\",\"Neutral\",\"Neutral\",\"Positive\",\"Negative\",\"Positive\",\"Negative\",\"Neutral\",\"Negative\",\"Positive\",\"Neutral\",\"Negative\",\"Negative\",\"Positive\",\"Neutral\",\"Positive\",\"Negative\",\"Negative\",\"Neutral\",\"Negative\",\"Negative\",\"Positive\",\"Negative\",\"Negative\",\"Positive\",\"Negative\",\"Negative\",\"Negative\",\"Positive\",\"Negative\",\"Positive\",\"Negative\",\"Negative\",\"Positive\",\"Neutral\",\"Negative\",\"Positive\",\"Negative\",\"Negative\",\"Positive\",\"Neutral\",\"Negative\",\"Negative\",\"Negative\",\"Negative\",\"Negative\",\"Negative\",\"Negative\",\"Neutral\",\"Negative\",\"Negative\",\"Negative\",\"Negative\",\"Positive\",\"Negative\",\"Negative\",\"Positive\",\"Neutral\",\"Negative\",\"Positive\",\"Neutral\",\"Positive\",\"Negative\",\"Negative\",\"Neutral\",\"Negative\",\"Negative\",\"Negative\",\"Negative\",\"Positive\",\"Neutral\",\"Positive\",\"Positive\",\"Neutral\",\"Negative\",\"Negative\",\"Negative\",\"Negative\",\"Negative\",\"Negative\",\"Negative\",\"Positive\",\"Negative\",\"Neutral\",\"Negative\",\"Positive\",\"Negative\",\"Positive\",\"Neutral\",\"Positive\",\"Neutral\",\"Negative\",\"Neutral\",\"Positive\",\"Negative\",\"Neutral\",\"Negative\",\"Positive\",\"Negative\",\"Negative\",\"Negative\",\"Positive\",\"Negative\",\"Negative\",\"Negative\",\"Neutral\",\"Neutral\",\"Positive\",\"Positive\",\"Negative\",\"Negative\",\"Negative\",\"Negative\",\"Positive\",\"Neutral\",\"Negative\",\"Negative\",\"Negative\",\"Neutral\",\"Negative\",\"Negative\",\"Negative\",\"Negative\",\"Negative\",\"Negative\",\"Negative\",\"Neutral\",\"Negative\",\"Negative\",\"Negative\",\"Positive\",\"Negative\",\"Neutral\",\"Positive\",\"Neutral\",\"Negative\",\"Negative\",\"Neutral\",\"Negative\",\"Positive\",\"Negative\",\"Negative\",\"Negative\",\"Negative\",\"Negative\",\"Negative\",\"Negative\",\"Negative\",\"Negative\",\"Positive\",\"Negative\",\"Negative\",\"Negative\",\"Negative\",\"Negative\",\"Negative\",\"Negative\",\"Positive\",\"Positive\",\"Negative\",\"Negative\",\"Negative\",\"Negative\",\"Negative\",\"Neutral\",\"Negative\",\"Negative\",\"Positive\",\"Positive\",\"Positive\",\"Negative\",\"Negative\",\"Negative\",\"Negative\",\"Positive\",\"Negative\",\"Neutral\",\"Neutral\",\"Neutral\",\"Negative\",\"Positive\",\"Negative\",\"Negative\",\"Positive\",\"Negative\",\"Negative\",\"Negative\",\"Positive\",\"Negative\",\"Negative\",\"Neutral\",\"Neutral\",\"Negative\",\"Negative\",\"Negative\",\"Neutral\",\"Negative\",\"Positive\",\"Positive\",\"Negative\",\"Positive\",\"Positive\",\"Positive\",\"Positive\",\"Positive\",\"Negative\",\"Positive\",\"Negative\",\"Negative\",\"Neutral\",\"Positive\",\"Positive\",\"Positive\",\"Neutral\",\"Negative\",\"Positive\",\"Neutral\",\"Positive\",\"Positive\",\"Negative\",\"Negative\",\"Positive\",\"Positive\",\"Positive\",\"Neutral\",\"Positive\",\"Negative\",\"Negative\",\"Positive\",\"Negative\",\"Positive\",\"Negative\",\"Negative\",\"Negative\",\"Negative\",\"Positive\",\"Neutral\",\"Negative\",\"Negative\",\"Neutral\",\"Negative\",\"Negative\",\"Positive\",\"Negative\",\"Positive\",\"Negative\",\"Negative\",\"Positive\",\"Positive\",\"Positive\",\"Positive\",\"Negative\",\"Neutral\",\"Positive\",\"Positive\",\"Neutral\",\"Neutral\",\"Neutral\",\"Negative\",\"Positive\",\"Positive\",\"Positive\",\"Negative\",\"Positive\",\"Neutral\",\"Negative\",\"Neutral\",\"Negative\",\"Positive\",\"Positive\",\"Positive\",\"Positive\",\"Neutral\",\"Neutral\",\"Negative\",\"Negative\",\"Positive\",\"Negative\",\"Positive\",\"Positive\",\"Positive\",\"Negative\",\"Positive\",\"Negative\",\"Neutral\",\"Neutral\",\"Negative\",\"Positive\",\"Positive\",\"Neutral\",\"Negative\",\"Positive\",\"Negative\",\"Neutral\",\"Negative\",\"Neutral\",\"Neutral\",\"Neutral\",\"Positive\",\"Positive\",\"Neutral\",\"Negative\",\"Positive\",\"Positive\",\"Positive\",\"Negative\",\"Negative\",\"Positive\",\"Positive\",\"Positive\",\"Positive\",\"Positive\",\"Negative\",\"Negative\",\"Positive\",\"Negative\",\"Positive\",\"Negative\",\"Positive\",\"Negative\",\"Neutral\",\"Positive\",\"Positive\",\"Positive\",\"Positive\",\"Negative\",\"Negative\",\"Negative\",\"Negative\",\"Positive\",\"Positive\",\"Neutral\",\"Negative\",\"Positive\",\"Positive\",\"Positive\",\"Neutral\",\"Negative\",\"Negative\",\"Negative\",\"Negative\",\"Neutral\",\"Positive\",\"Positive\",\"Positive\",\"Neutral\",\"Negative\",\"Positive\",\"Positive\",\"Positive\",\"Positive\",\"Neutral\",\"Neutral\",\"Neutral\",\"Positive\",\"Positive\",\"Positive\",\"Negative\",\"Positive\",\"Positive\",\"Neutral\",\"Positive\",\"Neutral\",\"Negative\",\"Negative\",\"Negative\",\"Negative\",\"Neutral\",\"Positive\",\"Negative\",\"Negative\",\"Neutral\",\"Neutral\",\"Negative\",\"Positive\",\"Positive\",\"Positive\",\"Negative\",\"Positive\",\"Positive\",\"Neutral\",\"Positive\",\"Negative\",\"Neutral\",\"Negative\",\"Negative\",\"Negative\",\"Negative\",\"Positive\",\"Neutral\",\"Positive\",\"Positive\",\"Neutral\",\"Negative\",\"Positive\",\"Negative\",\"Neutral\",\"Positive\",\"Neutral\",\"Neutral\",\"Neutral\",\"Neutral\",\"Positive\",\"Neutral\",\"Neutral\",\"Positive\",\"Positive\",\"Positive\",\"Neutral\",\"Positive\",\"Neutral\",\"Negative\",\"Positive\",\"Negative\",\"Positive\",\"Neutral\",\"Negative\",\"Negative\",\"Negative\",\"Negative\",\"Negative\",\"Negative\",\"Positive\",\"Negative\",\"Positive\",\"Positive\",\"Positive\",\"Positive\",\"Positive\",\"Negative\",\"Negative\",\"Neutral\",\"Positive\",\"Neutral\",\"Positive\",\"Positive\",\"Neutral\",\"Positive\",\"Neutral\",\"Positive\",\"Positive\",\"Negative\",\"Positive\",\"Negative\",\"Positive\",\"Negative\",\"Positive\",\"Negative\",\"Neutral\",\"Neutral\",\"Negative\",\"Neutral\",\"Neutral\",\"Positive\",\"Negative\",\"Negative\",\"Negative\",\"Positive\",\"Positive\",\"Positive\",\"Negative\",\"Positive\",\"Positive\",\"Negative\",\"Positive\",\"Positive\",\"Neutral\",\"Positive\",\"Positive\",\"Positive\",\"Positive\",\"Positive\",\"Positive\",\"Neutral\",\"Neutral\",\"Negative\",\"Neutral\",\"Positive\",\"Positive\",\"Negative\",\"Positive\",\"Positive\",\"Positive\",\"Positive\",\"Positive\",\"Positive\",\"Negative\",\"Neutral\",\"Negative\",\"Negative\",\"Neutral\",\"Neutral\",\"Neutral\",\"Negative\",\"Positive\",\"Negative\",\"Neutral\",\"Neutral\",\"Negative\",\"Negative\",\"Negative\",\"Neutral\",\"Positive\",\"Neutral\",\"Neutral\",\"Positive\",\"Negative\",\"Negative\",\"Neutral\",\"Negative\",\"Positive\",\"Negative\",\"Neutral\",\"Negative\",\"Negative\",\"Neutral\",\"Positive\",\"Positive\",\"Positive\",\"Negative\",\"Positive\",\"Neutral\",\"Positive\",\"Negative\",\"Positive\",\"Negative\",\"Positive\",\"Negative\",\"Negative\",\"Negative\",\"Positive\",\"Neutral\",\"Positive\",\"Positive\",\"Positive\",\"Negative\",\"Negative\",\"Negative\",\"Positive\",\"Positive\",\"Positive\",\"Neutral\",\"Positive\",\"Neutral\",\"Neutral\",\"Neutral\",\"Negative\",\"Neutral\",\"Positive\",\"Negative\",\"Negative\",\"Negative\",\"Negative\",\"Negative\",\"Positive\",\"Neutral\",\"Negative\",\"Neutral\",\"Negative\",\"Negative\",\"Positive\",\"Negative\",\"Positive\",\"Positive\",\"Positive\",\"Negative\",\"Negative\",\"Neutral\",\"Negative\",\"Negative\",\"Negative\",\"Neutral\",\"Negative\",\"Negative\",\"Negative\",\"Negative\",\"Negative\",\"Negative\",\"Positive\",\"Neutral\",\"Neutral\",\"Neutral\",\"Positive\",\"Negative\",\"Negative\",\"Neutral\",\"Positive\",\"Positive\",\"Negative\",\"Positive\",\"Positive\",\"Negative\",\"Positive\",\"Positive\",\"Positive\",\"Negative\",\"Positive\",\"Negative\",\"Positive\",\"Positive\",\"Positive\",\"Positive\",\"Neutral\",\"Negative\",\"Neutral\",\"Negative\",\"Positive\",\"Positive\",\"Neutral\",\"Negative\",\"Neutral\",\"Negative\",\"Negative\",\"Neutral\",\"Positive\",\"Neutral\",\"Negative\",\"Negative\",\"Positive\",\"Positive\",\"Negative\",\"Neutral\",\"Negative\",\"Negative\",\"Neutral\",\"Positive\",\"Neutral\",\"Negative\",\"Positive\",\"Positive\",\"Neutral\",\"Negative\",\"Neutral\",\"Neutral\",\"Positive\",\"Positive\",\"Neutral\",\"Negative\",\"Positive\",\"Neutral\",\"Positive\",\"Positive\",\"Positive\",\"Neutral\",\"Negative\",\"Positive\",\"Negative\",\"Positive\",\"Positive\",\"Positive\",\"Negative\",\"Negative\",\"Negative\",\"Positive\",\"Neutral\",\"Negative\",\"Negative\",\"Negative\",\"Positive\",\"Negative\",\"Positive\",\"Positive\",\"Positive\",\"Neutral\",\"Negative\",\"Negative\",\"Neutral\",\"Neutral\",\"Negative\",\"Negative\",\"Negative\",\"Negative\",\"Negative\",\"Negative\",\"Positive\",\"Positive\",\"Positive\",\"Negative\",\"Negative\",\"Positive\",\"Positive\",\"Positive\",\"Positive\",\"Neutral\",\"Negative\",\"Negative\",\"Neutral\",\"Positive\",\"Positive\",\"Positive\",\"Positive\",\"Positive\",\"Neutral\",\"Neutral\",\"Negative\",\"Neutral\",\"Negative\",\"Negative\",\"Positive\",\"Positive\",\"Negative\",\"Positive\",\"Negative\",\"Negative\",\"Positive\",\"Neutral\",\"Positive\",\"Positive\",\"Positive\",\"Positive\",\"Neutral\",\"Positive\",\"Neutral\",\"Positive\",\"Neutral\",\"Negative\",\"Negative\",\"Neutral\",\"Positive\",\"Neutral\",\"Negative\",\"Neutral\",\"Negative\",\"Negative\",\"Positive\",\"Positive\",\"Positive\",\"Negative\",\"Negative\",\"Neutral\",\"Positive\",\"Negative\",\"Negative\",\"Negative\",\"Negative\",\"Negative\",\"Neutral\",\"Positive\",\"Positive\",\"Positive\",\"Negative\",\"Positive\",\"Positive\",\"Neutral\",\"Negative\",\"Negative\",\"Positive\",\"Positive\",\"Negative\",\"Positive\",\"Neutral\",\"Positive\",\"Positive\",\"Neutral\",\"Negative\",\"Positive\",\"Neutral\",\"Positive\",\"Positive\",\"Positive\",\"Neutral\",\"Positive\",\"Neutral\",\"Negative\",\"Positive\",\"Positive\",\"Positive\",\"Negative\",\"Positive\",\"Neutral\",\"Positive\",\"Positive\",\"Negative\",\"Negative\",\"Positive\",\"Neutral\",\"Positive\",\"Positive\",\"Positive\",\"Negative\",\"Negative\",\"Neutral\",\"Positive\",\"Positive\",\"Positive\",\"Negative\",\"Positive\",\"Positive\",\"Positive\",\"Negative\",\"Positive\",\"Positive\",\"Negative\",\"Positive\",\"Neutral\",\"Positive\",\"Negative\",\"Neutral\",\"Neutral\",\"Positive\",\"Neutral\",\"Positive\",\"Positive\",\"Negative\",\"Positive\",\"Positive\",\"Negative\",\"Positive\",\"Negative\",\"Negative\",\"Negative\",\"Negative\",\"Positive\",\"Negative\",\"Negative\",\"Neutral\",\"Positive\",\"Negative\",\"Neutral\",\"Positive\",\"Positive\",\"Positive\",\"Negative\",\"Negative\",\"Positive\",\"Positive\",\"Positive\",\"Positive\",\"Positive\",\"Positive\",\"Neutral\",\"Neutral\",\"Negative\",\"Negative\",\"Negative\",\"Positive\",\"Positive\",\"Positive\",\"Positive\",\"Positive\",\"Positive\",\"Positive\",\"Neutral\",\"Positive\",\"Positive\",\"Negative\",\"Neutral\",\"Neutral\",\"Neutral\",\"Positive\",\"Positive\",\"Negative\",\"Positive\",\"Positive\",\"Negative\",\"Positive\",\"Positive\",\"Neutral\",\"Negative\",\"Positive\",\"Negative\",\"Negative\",\"Negative\",\"Positive\",\"Positive\",\"Negative\",\"Neutral\",\"Negative\",\"Positive\",\"Negative\",\"Negative\",\"Negative\",\"Negative\",\"Positive\",\"Positive\",\"Positive\",\"Negative\",\"Positive\",\"Positive\",\"Neutral\",\"Negative\",\"Positive\",\"Neutral\",\"Negative\",\"Positive\",\"Positive\",\"Negative\",\"Negative\",\"Positive\",\"Negative\",\"Negative\",\"Positive\",\"Negative\",\"Negative\",\"Positive\",\"Neutral\",\"Positive\",\"Positive\",\"Neutral\",\"Positive\",\"Positive\",\"Negative\",\"Neutral\",\"Positive\",\"Positive\",\"Negative\",\"Positive\",\"Negative\",\"Positive\",\"Negative\",\"Positive\",\"Neutral\",\"Neutral\",\"Negative\",\"Negative\",\"Positive\",\"Negative\",\"Neutral\",\"Negative\",\"Positive\",\"Neutral\",\"Positive\",\"Positive\",\"Positive\",\"Positive\",\"Neutral\",\"Positive\",\"Neutral\",\"Negative\",\"Positive\",\"Negative\",\"Negative\",\"Negative\",\"Neutral\",\"Negative\",\"Negative\",\"Negative\",\"Negative\",\"Negative\",\"Negative\",\"Positive\",\"Neutral\",\"Neutral\",\"Positive\",\"Negative\",\"Positive\",\"Positive\",\"Positive\",\"Negative\",\"Negative\",\"Positive\",\"Negative\",\"Negative\",\"Neutral\",\"Negative\",\"Negative\",\"Negative\",\"Positive\",\"Negative\",\"Negative\",\"Negative\",\"Positive\",\"Negative\",\"Neutral\",\"Neutral\",\"Negative\",\"Positive\",\"Negative\",\"Positive\",\"Negative\",\"Positive\",\"Negative\",\"Negative\",\"Positive\",\"Positive\",\"Positive\",\"Negative\",\"Negative\",\"Negative\",\"Positive\",\"Negative\",\"Positive\",\"Neutral\",\"Negative\",\"Neutral\",\"Negative\",\"Positive\",\"Positive\",\"Positive\",\"Positive\",\"Positive\",\"Positive\",\"Neutral\",\"Negative\",\"Negative\",\"Negative\",\"Positive\",\"Negative\",\"Positive\",\"Negative\",\"Negative\",\"Negative\",\"Positive\",\"Neutral\",\"Positive\",\"Positive\",\"Negative\",\"Positive\",\"Positive\",\"Negative\",\"Positive\",\"Negative\",\"Negative\",\"Positive\",\"Positive\",\"Negative\",\"Negative\",\"Positive\",\"Neutral\",\"Positive\",\"Positive\",\"Positive\",\"Positive\",\"Negative\",\"Negative\",\"Positive\",\"Positive\",\"Positive\",\"Positive\",\"Negative\",\"Positive\",\"Negative\",\"Positive\",\"Negative\",\"Negative\",\"Positive\",\"Neutral\",\"Neutral\",\"Positive\",\"Neutral\",\"Positive\",\"Positive\",\"Positive\",\"Positive\",\"Negative\",\"Negative\",\"Negative\",\"Negative\",\"Positive\",\"Negative\",\"Positive\",\"Negative\",\"Positive\",\"Positive\",\"Positive\",\"Neutral\",\"Negative\",\"Positive\",\"Positive\",\"Neutral\",\"Positive\",\"Positive\",\"Positive\",\"Neutral\",\"Neutral\",\"Negative\",\"Negative\",\"Negative\",\"Positive\",\"Positive\",\"Positive\",\"Positive\",\"Negative\",\"Neutral\",\"Neutral\",\"Neutral\",\"Positive\",\"Negative\",\"Negative\",\"Positive\",\"Negative\",\"Neutral\",\"Neutral\",\"Negative\",\"Positive\",\"Neutral\",\"Positive\",\"Negative\",\"Negative\",\"Neutral\",\"Neutral\",\"Negative\",\"Positive\",\"Neutral\",\"Negative\",\"Positive\",\"Positive\",\"Positive\",\"Negative\",\"Negative\",\"Positive\",\"Negative\",\"Neutral\",\"Positive\",\"Positive\",\"Negative\",\"Neutral\",\"Positive\",\"Positive\",\"Positive\",\"Negative\",\"Negative\",\"Negative\",\"Negative\",\"Negative\",\"Negative\",\"Positive\",\"Negative\",\"Positive\",\"Neutral\",\"Positive\",\"Negative\",\"Neutral\",\"Positive\",\"Positive\",\"Positive\",\"Negative\",\"Neutral\",\"Positive\",\"Neutral\",\"Negative\",\"Negative\",\"Positive\",\"Positive\",\"Positive\",\"Neutral\",\"Negative\",\"Negative\",\"Positive\",\"Positive\",\"Negative\",\"Positive\",\"Positive\",\"Negative\",\"Positive\",\"Negative\",\"Positive\",\"Positive\",\"Negative\",\"Neutral\",\"Positive\",\"Negative\",\"Negative\",\"Negative\",\"Positive\",\"Positive\",\"Negative\",\"Positive\",\"Negative\",\"Positive\",\"Negative\",\"Positive\",\"Positive\",\"Negative\",\"Positive\",\"Negative\",\"Positive\",\"Neutral\",\"Neutral\",\"Positive\",\"Neutral\",\"Positive\",\"Neutral\",\"Positive\",\"Neutral\",\"Negative\",\"Positive\",\"Negative\",\"Positive\",\"Positive\",\"Positive\",\"Positive\",\"Positive\",\"Negative\",\"Positive\",\"Negative\",\"Negative\",\"Neutral\",\"Positive\",\"Positive\",\"Positive\",\"Positive\",\"Positive\",\"Negative\",\"Negative\",\"Positive\",\"Positive\",\"Positive\",\"Negative\",\"Positive\",\"Negative\",\"Positive\",\"Neutral\",\"Positive\",\"Positive\",\"Positive\",\"Negative\",\"Negative\",\"Neutral\",\"Positive\",\"Neutral\",\"Neutral\",\"Positive\",\"Negative\",\"Negative\",\"Positive\",\"Neutral\",\"Positive\",\"Negative\",\"Neutral\",\"Positive\",\"Positive\",\"Negative\",\"Positive\",\"Positive\",\"Positive\",\"Neutral\",\"Neutral\",\"Positive\",\"Negative\",\"Negative\",\"Negative\",\"Negative\",\"Negative\",\"Positive\",\"Positive\",\"Negative\",\"Negative\",\"Positive\",\"Positive\",\"Positive\",\"Neutral\",\"Negative\",\"Negative\",\"Negative\",\"Negative\",\"Negative\",\"Positive\",\"Positive\",\"Positive\",\"Positive\",\"Positive\",\"Neutral\",\"Neutral\",\"Positive\",\"Positive\",\"Positive\",\"Negative\",\"Neutral\",\"Neutral\",\"Positive\",\"Negative\",\"Negative\",\"Negative\",\"Negative\",\"Positive\",\"Negative\",\"Positive\",\"Neutral\",\"Negative\",\"Negative\",\"Positive\",\"Neutral\",\"Positive\",\"Negative\",\"Positive\",\"Neutral\",\"Positive\",\"Negative\",\"Positive\",\"Positive\",\"Negative\",\"Positive\",\"Neutral\",\"Neutral\",\"Negative\",\"Negative\",\"Positive\",\"Positive\",\"Positive\",\"Negative\",\"Negative\",\"Neutral\",\"Positive\",\"Positive\",\"Neutral\",\"Negative\",\"Neutral\",\"Negative\",\"Positive\",\"Negative\",\"Positive\",\"Positive\",\"Positive\",\"Neutral\",\"Negative\",\"Negative\",\"Negative\",\"Negative\",\"Neutral\",\"Negative\",\"Positive\",\"Positive\",\"Positive\",\"Negative\",\"Positive\",\"Positive\",\"Negative\",\"Negative\",\"Positive\",\"Positive\",\"Neutral\",\"Negative\",\"Positive\",\"Positive\",\"Negative\",\"Negative\",\"Positive\",\"Positive\",\"Positive\",\"Positive\",\"Neutral\",\"Negative\",\"Negative\",\"Positive\",\"Neutral\",\"Neutral\",\"Positive\",\"Positive\",\"Positive\",\"Negative\",\"Negative\",\"Neutral\",\"Positive\",\"Positive\",\"Negative\",\"Positive\",\"Positive\",\"Positive\",\"Positive\",\"Negative\",\"Positive\",\"Positive\",\"Negative\",\"Positive\",\"Negative\",\"Positive\",\"Negative\",\"Positive\",\"Positive\",\"Negative\",\"Negative\",\"Positive\",\"Negative\",\"Positive\",\"Positive\",\"Negative\",\"Positive\",\"Negative\",\"Positive\",\"Negative\",\"Positive\",\"Negative\",\"Negative\",\"Neutral\",\"Negative\",\"Positive\",\"Negative\",\"Neutral\",\"Positive\",\"Positive\",\"Positive\",\"Positive\",\"Neutral\",\"Negative\",\"Negative\",\"Positive\",\"Positive\",\"Positive\",\"Positive\",\"Negative\",\"Neutral\",\"Neutral\",\"Positive\",\"Positive\",\"Negative\",\"Positive\",\"Positive\",\"Negative\",\"Negative\",\"Neutral\",\"Negative\",\"Positive\",\"Positive\",\"Neutral\",\"Positive\",\"Positive\",\"Negative\",\"Positive\",\"Positive\",\"Positive\",\"Positive\",\"Positive\",\"Positive\",\"Negative\",\"Positive\",\"Negative\",\"Negative\",\"Positive\",\"Positive\",\"Positive\",\"Neutral\",\"Positive\",\"Negative\",\"Neutral\",\"Neutral\",\"Positive\",\"Positive\",\"Neutral\",\"Neutral\",\"Positive\",\"Negative\",\"Positive\",\"Negative\",\"Positive\",\"Negative\",\"Neutral\",\"Negative\",\"Positive\",\"Positive\",\"Positive\",\"Positive\",\"Negative\",\"Positive\",\"Neutral\",\"Positive\",\"Negative\",\"Negative\",\"Negative\",\"Positive\",\"Negative\",\"Neutral\",\"Positive\",\"Positive\",\"Neutral\",\"Positive\",\"Negative\",\"Neutral\",\"Negative\",\"Negative\",\"Positive\",\"Negative\",\"Positive\",\"Neutral\",\"Neutral\",\"Negative\",\"Positive\",\"Negative\",\"Negative\",\"Positive\",\"Negative\",\"Neutral\",\"Negative\",\"Positive\",\"Neutral\",\"Negative\",\"Negative\",\"Negative\",\"Negative\",\"Negative\",\"Negative\",\"Positive\",\"Neutral\",\"Negative\",\"Neutral\",\"Negative\",\"Negative\",\"Negative\",\"Positive\",\"Negative\",\"Neutral\",\"Neutral\",\"Neutral\",\"Positive\",\"Neutral\",\"Positive\",\"Negative\",\"Positive\",\"Positive\",\"Neutral\",\"Positive\",\"Positive\",\"Positive\",\"Positive\",\"Neutral\",\"Neutral\",\"Neutral\",\"Negative\",\"Negative\",\"Positive\",\"Negative\",\"Neutral\",\"Neutral\",\"Negative\",\"Negative\",\"Negative\",\"Positive\",\"Negative\",\"Positive\",\"Positive\",\"Negative\",\"Negative\",\"Positive\",\"Negative\",\"Positive\",\"Positive\",\"Neutral\",\"Neutral\",\"Positive\",\"Negative\",\"Negative\",\"Positive\",\"Positive\",\"Negative\",\"Positive\",\"Positive\",\"Positive\",\"Negative\",\"Positive\",\"Negative\",\"Negative\",\"Negative\",\"Neutral\",\"Positive\",\"Neutral\",\"Negative\",\"Negative\",\"Positive\",\"Positive\",\"Neutral\",\"Neutral\",\"Negative\",\"Positive\",\"Positive\",\"Negative\",\"Negative\",\"Positive\",\"Neutral\",\"Negative\",\"Positive\",\"Neutral\",\"Negative\",\"Neutral\",\"Negative\",\"Positive\",\"Positive\",\"Negative\",\"Negative\",\"Positive\",\"Negative\",\"Negative\",\"Positive\",\"Neutral\",\"Negative\",\"Neutral\",\"Positive\",\"Positive\",\"Positive\",\"Positive\",\"Neutral\",\"Negative\",\"Positive\",\"Positive\",\"Negative\",\"Negative\",\"Negative\",\"Positive\",\"Negative\",\"Neutral\",\"Positive\",\"Negative\",\"Negative\",\"Positive\",\"Positive\",\"Negative\",\"Neutral\",\"Negative\",\"Negative\",\"Positive\",\"Neutral\",\"Positive\",\"Positive\",\"Negative\",\"Positive\",\"Neutral\",\"Neutral\",\"Positive\",\"Positive\",\"Positive\",\"Positive\",\"Positive\",\"Neutral\",\"Negative\",\"Negative\",\"Neutral\",\"Positive\",\"Negative\",\"Positive\",\"Negative\",\"Positive\",\"Negative\",\"Negative\",\"Positive\",\"Negative\",\"Negative\",\"Neutral\",\"Positive\",\"Negative\",\"Negative\",\"Positive\",\"Neutral\",\"Negative\",\"Positive\",\"Negative\",\"Negative\",\"Negative\",\"Neutral\",\"Negative\",\"Negative\",\"Negative\",\"Positive\",\"Negative\",\"Negative\",\"Neutral\",\"Positive\",\"Negative\",\"Negative\",\"Positive\",\"Negative\",\"Negative\",\"Positive\",\"Negative\",\"Negative\",\"Negative\",\"Positive\",\"Negative\",\"Positive\",\"Positive\",\"Neutral\",\"Neutral\",\"Negative\",\"Negative\",\"Positive\",\"Negative\",\"Positive\",\"Negative\",\"Positive\",\"Negative\",\"Neutral\",\"Positive\",\"Positive\",\"Positive\",\"Positive\",\"Positive\",\"Negative\",\"Neutral\",\"Positive\",\"Negative\",\"Positive\",\"Neutral\",\"Positive\",\"Positive\",\"Positive\",\"Negative\",\"Neutral\",\"Neutral\",\"Negative\",\"Positive\",\"Positive\",\"Positive\",\"Positive\",\"Negative\",\"Negative\",\"Positive\",\"Negative\",\"Negative\",\"Negative\",\"Positive\",\"Positive\",\"Negative\",\"Positive\",\"Negative\",\"Positive\",\"Positive\",\"Positive\",\"Positive\",\"Neutral\",\"Positive\",\"Negative\",\"Positive\",\"Negative\",\"Positive\",\"Negative\",\"Positive\",\"Negative\",\"Positive\",\"Positive\",\"Positive\",\"Positive\",\"Positive\",\"Positive\",\"Positive\",\"Negative\",\"Negative\",\"Positive\",\"Positive\",\"Positive\",\"Negative\",\"Negative\",\"Positive\",\"Negative\",\"Positive\",\"Negative\",\"Neutral\",\"Neutral\",\"Negative\",\"Negative\",\"Neutral\",\"Positive\",\"Negative\",\"Positive\",\"Neutral\",\"Negative\",\"Negative\",\"Positive\",\"Negative\",\"Negative\",\"Neutral\",\"Positive\",\"Positive\",\"Negative\",\"Positive\",\"Negative\",\"Positive\",\"Negative\",\"Negative\",\"Neutral\",\"Negative\",\"Neutral\",\"Positive\",\"Neutral\",\"Negative\",\"Positive\",\"Positive\",\"Negative\",\"Neutral\",\"Neutral\",\"Negative\",\"Positive\",\"Positive\",\"Negative\",\"Neutral\",\"Neutral\",\"Neutral\",\"Negative\",\"Positive\",\"Positive\",\"Negative\",\"Positive\",\"Neutral\",\"Positive\",\"Positive\",\"Positive\",\"Negative\",\"Positive\",\"Positive\",\"Positive\",\"Negative\",\"Neutral\",\"Neutral\",\"Positive\",\"Positive\",\"Negative\",\"Negative\",\"Positive\",\"Neutral\",\"Neutral\",\"Neutral\",\"Positive\",\"Positive\",\"Positive\",\"Positive\",\"Positive\",\"Positive\",\"Positive\",\"Positive\",\"Positive\",\"Positive\",\"Positive\",\"Negative\",\"Negative\",\"Positive\",\"Positive\",\"Positive\",\"Positive\",\"Neutral\",\"Negative\",\"Positive\",\"Negative\",\"Positive\",\"Positive\",\"Negative\",\"Positive\",\"Neutral\",\"Negative\",\"Negative\",\"Positive\",\"Positive\",\"Negative\",\"Neutral\",\"Positive\",\"Positive\",\"Neutral\",\"Neutral\",\"Neutral\",\"Positive\",\"Positive\",\"Positive\",\"Negative\",\"Neutral\",\"Positive\",\"Negative\",\"Positive\",\"Neutral\",\"Positive\",\"Positive\",\"Negative\",\"Positive\",\"Positive\",\"Neutral\",\"Neutral\",\"Positive\",\"Neutral\",\"Positive\",\"Positive\",\"Negative\",\"Positive\",\"Neutral\",\"Positive\",\"Positive\",\"Positive\",\"Positive\",\"Negative\",\"Positive\",\"Negative\",\"Positive\",\"Positive\",\"Positive\",\"Positive\",\"Positive\",\"Neutral\",\"Positive\",\"Negative\",\"Positive\",\"Positive\",\"Positive\",\"Positive\",\"Neutral\",\"Neutral\",\"Neutral\",\"Positive\",\"Neutral\",\"Positive\",\"Positive\",\"Positive\",\"Positive\",\"Positive\",\"Positive\",\"Negative\",\"Positive\",\"Negative\",\"Negative\",\"Positive\",\"Negative\",\"Positive\",\"Negative\",\"Negative\",\"Negative\",\"Positive\",\"Negative\",\"Negative\",\"Positive\",\"Positive\",\"Positive\",\"Positive\",\"Negative\",\"Positive\",\"Neutral\",\"Negative\",\"Positive\",\"Positive\",\"Positive\",\"Positive\",\"Negative\",\"Positive\",\"Neutral\",\"Positive\",\"Positive\",\"Negative\",\"Neutral\",\"Positive\",\"Positive\",\"Negative\",\"Neutral\",\"Negative\",\"Neutral\",\"Positive\",\"Negative\",\"Positive\",\"Positive\",\"Positive\",\"Positive\",\"Positive\",\"Positive\",\"Positive\",\"Positive\",\"Positive\",\"Positive\",\"Positive\",\"Neutral\",\"Negative\",\"Positive\",\"Positive\",\"Positive\",\"Positive\",\"Negative\",\"Positive\",\"Positive\",\"Positive\",\"Negative\",\"Neutral\",\"Neutral\",\"Positive\",\"Positive\",\"Negative\",\"Positive\",\"Positive\",\"Positive\",\"Positive\",\"Negative\",\"Negative\",\"Positive\",\"Positive\",\"Negative\",\"Neutral\",\"Positive\",\"Positive\",\"Neutral\",\"Positive\",\"Positive\",\"Neutral\",\"Positive\",\"Positive\",\"Neutral\",\"Neutral\",\"Positive\",\"Negative\",\"Positive\",\"Neutral\",\"Positive\",\"Negative\",\"Neutral\",\"Positive\",\"Positive\",\"Neutral\",\"Positive\",\"Positive\",\"Neutral\",\"Positive\",\"Neutral\",\"Positive\",\"Positive\",\"Negative\",\"Neutral\",\"Positive\",\"Negative\",\"Negative\",\"Positive\",\"Positive\",\"Negative\",\"Neutral\",\"Positive\",\"Negative\",\"Positive\",\"Negative\",\"Positive\",\"Negative\",\"Neutral\",\"Neutral\",\"Negative\",\"Negative\",\"Positive\",\"Neutral\",\"Neutral\",\"Positive\",\"Positive\",\"Positive\",\"Negative\",\"Negative\",\"Positive\",\"Positive\",\"Neutral\",\"Positive\",\"Positive\",\"Positive\",\"Positive\",\"Negative\",\"Negative\",\"Positive\",\"Negative\",\"Negative\",\"Negative\",\"Negative\",\"Negative\",\"Positive\",\"Negative\",\"Negative\",\"Neutral\",\"Negative\",\"Positive\",\"Negative\",\"Positive\",\"Negative\",\"Negative\",\"Neutral\",\"Positive\",\"Positive\",\"Negative\",\"Positive\",\"Negative\",\"Positive\",\"Negative\",\"Negative\",\"Negative\",\"Positive\",\"Negative\",\"Positive\",\"Positive\",\"Positive\",\"Positive\",\"Negative\",\"Negative\",\"Positive\",\"Positive\",\"Positive\",\"Negative\",\"Negative\",\"Negative\",\"Negative\",\"Positive\",\"Positive\",\"Negative\",\"Negative\",\"Negative\",\"Positive\",\"Neutral\",\"Neutral\",\"Negative\",\"Positive\",\"Positive\",\"Positive\",\"Negative\",\"Negative\",\"Positive\",\"Negative\",\"Positive\",\"Negative\",\"Positive\",\"Negative\",\"Positive\",\"Positive\",\"Positive\",\"Negative\",\"Negative\",\"Positive\",\"Negative\",\"Positive\",\"Negative\",\"Negative\",\"Negative\",\"Neutral\",\"Positive\",\"Neutral\",\"Positive\",\"Negative\",\"Positive\",\"Positive\",\"Positive\",\"Negative\",\"Negative\",\"Positive\",\"Negative\",\"Neutral\",\"Neutral\",\"Neutral\",\"Negative\",\"Neutral\",\"Neutral\",\"Neutral\",\"Neutral\",\"Positive\",\"Positive\",\"Negative\",\"Neutral\",\"Positive\",\"Positive\",\"Positive\",\"Positive\",\"Negative\",\"Neutral\",\"Positive\",\"Negative\",\"Negative\",\"Positive\",\"Negative\",\"Negative\",\"Positive\",\"Neutral\",\"Positive\",\"Positive\",\"Neutral\",\"Positive\",\"Neutral\",\"Positive\",\"Negative\",\"Positive\",\"Positive\",\"Negative\",\"Negative\",\"Negative\",\"Neutral\",\"Positive\",\"Positive\",\"Positive\",\"Negative\",\"Positive\",\"Positive\",\"Negative\",\"Positive\",\"Positive\",\"Negative\",\"Positive\",\"Negative\",\"Positive\",\"Positive\",\"Positive\",\"Neutral\",\"Positive\",\"Negative\",\"Negative\",\"Positive\",\"Positive\",\"Positive\",\"Negative\",\"Neutral\",\"Negative\",\"Neutral\",\"Positive\",\"Positive\",\"Negative\",\"Positive\",\"Negative\",\"Negative\",\"Positive\",\"Positive\",\"Negative\",\"Neutral\",\"Positive\",\"Positive\",\"Positive\",\"Neutral\",\"Negative\",\"Positive\",\"Negative\",\"Positive\",\"Neutral\",\"Positive\",\"Negative\",\"Negative\",\"Neutral\",\"Negative\",\"Negative\",\"Negative\",\"Negative\",\"Neutral\",\"Negative\",\"Positive\",\"Negative\",\"Negative\",\"Negative\",\"Positive\",\"Negative\",\"Neutral\",\"Positive\",\"Neutral\",\"Positive\",\"Positive\",\"Negative\",\"Negative\",\"Positive\",\"Positive\",\"Positive\",\"Negative\",\"Neutral\",\"Neutral\",\"Neutral\",\"Positive\",\"Positive\",\"Negative\",\"Negative\",\"Negative\",\"Neutral\",\"Negative\",\"Positive\",\"Positive\",\"Negative\",\"Positive\",\"Neutral\",\"Positive\",\"Positive\",\"Positive\",\"Neutral\",\"Positive\",\"Negative\",\"Positive\",\"Negative\",\"Positive\",\"Negative\",\"Positive\",\"Negative\",\"Negative\",\"Neutral\",\"Negative\",\"Positive\",\"Positive\",\"Neutral\",\"Positive\",\"Negative\",\"Negative\",\"Positive\",\"Negative\",\"Positive\",\"Negative\",\"Neutral\",\"Positive\",\"Positive\",\"Neutral\",\"Neutral\",\"Neutral\",\"Positive\",\"Neutral\",\"Positive\",\"Positive\",\"Positive\",\"Positive\",\"Positive\",\"Neutral\",\"Negative\",\"Positive\",\"Positive\",\"Positive\",\"Negative\",\"Positive\",\"Positive\",\"Positive\",\"Negative\",\"Neutral\",\"Positive\",\"Negative\",\"Positive\",\"Neutral\",\"Positive\",\"Negative\",\"Positive\",\"Neutral\",\"Negative\",\"Negative\",\"Negative\",\"Positive\",\"Neutral\",\"Positive\",\"Positive\",\"Positive\",\"Negative\",\"Negative\",\"Positive\",\"Positive\",\"Positive\",\"Positive\",\"Negative\",\"Negative\",\"Negative\",\"Neutral\",\"Negative\",\"Negative\",\"Negative\",\"Negative\",\"Neutral\",\"Positive\",\"Negative\",\"Positive\",\"Negative\",\"Positive\",\"Neutral\",\"Positive\",\"Positive\",\"Positive\",\"Neutral\",\"Negative\",\"Positive\",\"Positive\",\"Positive\",\"Positive\",\"Positive\",\"Negative\",\"Negative\",\"Neutral\",\"Negative\",\"Positive\",\"Positive\",\"Positive\",\"Positive\",\"Neutral\",\"Positive\",\"Negative\",\"Neutral\",\"Negative\",\"Negative\",\"Neutral\",\"Positive\",\"Neutral\",\"Neutral\",\"Positive\",\"Negative\",\"Neutral\",\"Neutral\",\"Neutral\",\"Neutral\",\"Negative\",\"Negative\",\"Positive\",\"Neutral\",\"Negative\",\"Positive\",\"Negative\",\"Positive\",\"Positive\",\"Neutral\",\"Negative\",\"Positive\",\"Neutral\",\"Positive\",\"Negative\",\"Neutral\",\"Positive\",\"Positive\",\"Negative\",\"Neutral\",\"Positive\",\"Negative\",\"Neutral\",\"Negative\",\"Negative\",\"Neutral\",\"Negative\",\"Positive\",\"Negative\",\"Positive\",\"Negative\",\"Positive\",\"Neutral\",\"Negative\",\"Negative\",\"Positive\",\"Positive\",\"Positive\",\"Negative\",\"Positive\",\"Positive\",\"Positive\",\"Neutral\",\"Neutral\",\"Neutral\",\"Negative\",\"Negative\",\"Neutral\",\"Negative\",\"Positive\",\"Positive\",\"Neutral\",\"Positive\",\"Neutral\",\"Negative\",\"Negative\",\"Neutral\",\"Negative\",\"Negative\",\"Negative\",\"Neutral\",\"Neutral\",\"Neutral\",\"Neutral\",\"Neutral\",\"Positive\",\"Positive\",\"Positive\",\"Neutral\",\"Positive\",\"Negative\",\"Neutral\",\"Positive\",\"Negative\",\"Positive\",\"Negative\",\"Neutral\",\"Negative\",\"Neutral\",\"Negative\",\"Positive\",\"Negative\",\"Negative\",\"Positive\",\"Neutral\",\"Neutral\",\"Positive\",\"Positive\",\"Negative\",\"Positive\",\"Positive\",\"Positive\",\"Neutral\",\"Neutral\",\"Positive\",\"Neutral\",\"Neutral\",\"Positive\",\"Positive\",\"Negative\",\"Positive\",\"Neutral\",\"Positive\",\"Negative\",\"Neutral\",\"Negative\",\"Negative\",\"Neutral\",\"Neutral\",\"Neutral\",\"Negative\",\"Negative\",\"Neutral\",\"Negative\",\"Negative\",\"Negative\",\"Positive\",\"Neutral\",\"Negative\",\"Negative\",\"Neutral\",\"Positive\",\"Neutral\",\"Negative\",\"Positive\",\"Negative\",\"Neutral\",\"Negative\",\"Neutral\",\"Negative\",\"Negative\",\"Neutral\",\"Positive\",\"Positive\",\"Negative\",\"Positive\",\"Negative\",\"Neutral\",\"Negative\",\"Positive\",\"Neutral\",\"Negative\",\"Positive\",\"Positive\",\"Negative\",\"Positive\",\"Negative\",\"Positive\",\"Negative\",\"Positive\",\"Negative\",\"Neutral\",\"Neutral\",\"Positive\",\"Neutral\",\"Positive\",\"Positive\",\"Positive\",\"Positive\",\"Negative\",\"Positive\",\"Positive\",\"Positive\",\"Negative\",\"Positive\",\"Neutral\",\"Positive\",\"Positive\",\"Negative\",\"Positive\",\"Positive\",\"Negative\",\"Positive\",\"Neutral\",\"Positive\",\"Negative\",\"Negative\",\"Positive\",\"Neutral\",\"Positive\",\"Negative\",\"Positive\",\"Negative\",\"Negative\",\"Positive\",\"Negative\",\"Positive\",\"Positive\",\"Positive\",\"Negative\",\"Positive\",\"Negative\",\"Positive\",\"Negative\",\"Positive\",\"Positive\",\"Neutral\",\"Positive\",\"Negative\",\"Positive\",\"Positive\",\"Positive\",\"Negative\",\"Positive\",\"Positive\",\"Negative\",\"Negative\",\"Neutral\",\"Negative\",\"Positive\",\"Neutral\",\"Negative\",\"Positive\",\"Negative\",\"Neutral\",\"Positive\",\"Negative\",\"Neutral\",\"Positive\",\"Neutral\",\"Negative\",\"Positive\",\"Positive\",\"Positive\",\"Negative\",\"Positive\",\"Positive\",\"Positive\",\"Negative\",\"Positive\",\"Positive\",\"Positive\",\"Neutral\",\"Negative\",\"Negative\",\"Neutral\",\"Negative\",\"Positive\",\"Negative\",\"Positive\",\"Positive\",\"Positive\",\"Negative\",\"Negative\",\"Positive\",\"Positive\",\"Negative\",\"Positive\",\"Neutral\",\"Neutral\",\"Positive\",\"Negative\",\"Negative\",\"Positive\",\"Neutral\",\"Positive\",\"Positive\",\"Positive\",\"Neutral\",\"Positive\",\"Neutral\",\"Positive\",\"Negative\",\"Negative\",\"Positive\",\"Negative\",\"Negative\",\"Negative\",\"Negative\",\"Positive\",\"Positive\",\"Positive\",\"Positive\",\"Positive\",\"Positive\",\"Neutral\",\"Positive\",\"Positive\",\"Negative\",\"Positive\",\"Positive\",\"Negative\",\"Negative\",\"Neutral\",\"Positive\",\"Positive\",\"Neutral\",\"Neutral\",\"Negative\",\"Positive\",\"Negative\",\"Negative\",\"Negative\",\"Neutral\",\"Neutral\",\"Negative\",\"Positive\",\"Positive\",\"Positive\",\"Negative\",\"Positive\",\"Negative\",\"Positive\",\"Negative\",\"Neutral\",\"Positive\",\"Neutral\",\"Negative\",\"Positive\",\"Negative\",\"Positive\",\"Positive\",\"Negative\",\"Neutral\",\"Neutral\",\"Negative\",\"Positive\",\"Positive\",\"Negative\",\"Positive\",\"Neutral\",\"Negative\",\"Negative\",\"Neutral\",\"Positive\",\"Neutral\",\"Positive\",\"Neutral\",\"Negative\",\"Negative\",\"Negative\",\"Positive\",\"Neutral\",\"Positive\",\"Neutral\",\"Positive\",\"Positive\",\"Neutral\",\"Positive\",\"Positive\",\"Negative\",\"Negative\",\"Neutral\",\"Negative\",\"Positive\",\"Positive\",\"Negative\",\"Negative\",\"Positive\",\"Neutral\",\"Positive\",\"Negative\",\"Neutral\",\"Neutral\",\"Positive\",\"Positive\",\"Positive\",\"Positive\",\"Neutral\",\"Positive\",\"Negative\",\"Neutral\",\"Neutral\",\"Neutral\",\"Neutral\",\"Negative\",\"Negative\",\"Neutral\",\"Neutral\",\"Negative\",\"Positive\",\"Positive\",\"Positive\",\"Positive\",\"Neutral\",\"Neutral\",\"Negative\",\"Negative\",\"Positive\",\"Positive\",\"Negative\",\"Positive\",\"Positive\",\"Negative\",\"Positive\",\"Positive\",\"Negative\",\"Positive\",\"Negative\",\"Neutral\",\"Negative\",\"Negative\",\"Negative\",\"Neutral\",\"Neutral\",\"Positive\",\"Positive\",\"Positive\",\"Positive\",\"Negative\",\"Positive\",\"Negative\",\"Positive\",\"Negative\",\"Negative\",\"Negative\",\"Neutral\",\"Neutral\",\"Neutral\",\"Negative\",\"Positive\",\"Neutral\",\"Negative\",\"Negative\",\"Negative\",\"Positive\",\"Positive\",\"Negative\",\"Positive\",\"Negative\",\"Negative\",\"Positive\",\"Positive\",\"Positive\",\"Negative\",\"Negative\",\"Negative\",\"Positive\",\"Positive\",\"Neutral\",\"Positive\",\"Positive\",\"Neutral\",\"Positive\",\"Negative\",\"Negative\",\"Negative\",\"Neutral\",\"Negative\",\"Positive\",\"Positive\",\"Neutral\",\"Neutral\",\"Negative\",\"Negative\",\"Positive\",\"Positive\",\"Positive\",\"Positive\",\"Negative\",\"Positive\",\"Neutral\",\"Positive\",\"Negative\",\"Negative\",\"Positive\",\"Negative\",\"Positive\",\"Positive\",\"Negative\",\"Neutral\",\"Positive\",\"Positive\",\"Positive\",\"Positive\",\"Positive\",\"Negative\",\"Neutral\",\"Positive\",\"Neutral\",\"Positive\",\"Positive\",\"Positive\",\"Negative\",\"Neutral\",\"Negative\",\"Negative\",\"Neutral\",\"Neutral\",\"Negative\",\"Neutral\",\"Positive\",\"Positive\",\"Neutral\",\"Positive\",\"Positive\",\"Negative\",\"Negative\",\"Negative\",\"Neutral\",\"Negative\",\"Positive\",\"Positive\",\"Neutral\",\"Positive\",\"Negative\",\"Positive\",\"Neutral\",\"Positive\",\"Positive\",\"Positive\",\"Neutral\",\"Positive\",\"Positive\",\"Neutral\",\"Negative\",\"Negative\",\"Negative\",\"Negative\",\"Positive\",\"Negative\",\"Positive\",\"Positive\",\"Positive\",\"Positive\",\"Positive\",\"Neutral\",\"Negative\",\"Negative\",\"Negative\",\"Neutral\",\"Negative\",\"Positive\",\"Positive\",\"Negative\",\"Negative\",\"Positive\",\"Neutral\",\"Negative\",\"Positive\",\"Negative\",\"Neutral\",\"Neutral\",\"Neutral\",\"Negative\",\"Positive\",\"Neutral\",\"Negative\",\"Positive\",\"Negative\",\"Positive\",\"Negative\",\"Negative\",\"Negative\",\"Negative\",\"Neutral\",\"Positive\",\"Positive\",\"Positive\",\"Neutral\",\"Neutral\",\"Neutral\",\"Positive\",\"Negative\",\"Negative\",\"Negative\",\"Positive\",\"Negative\",\"Positive\",\"Positive\",\"Negative\",\"Positive\",\"Positive\",\"Negative\",\"Negative\",\"Positive\",\"Neutral\",\"Positive\",\"Neutral\",\"Neutral\",\"Neutral\",\"Neutral\",\"Negative\",\"Negative\",\"Positive\",\"Positive\",\"Negative\",\"Neutral\",\"Negative\",\"Neutral\",\"Neutral\",\"Negative\",\"Positive\",\"Positive\",\"Positive\",\"Negative\",\"Negative\",\"Positive\",\"Positive\",\"Neutral\",\"Positive\",\"Positive\",\"Positive\",\"Negative\",\"Positive\",\"Positive\",\"Positive\",\"Positive\",\"Neutral\",\"Negative\",\"Negative\",\"Positive\",\"Negative\",\"Negative\",\"Negative\",\"Negative\",\"Positive\",\"Negative\",\"Positive\",\"Positive\",\"Neutral\",\"Neutral\",\"Negative\",\"Positive\",\"Positive\",\"Negative\",\"Positive\",\"Neutral\",\"Negative\",\"Positive\",\"Positive\",\"Positive\",\"Negative\",\"Negative\",\"Negative\",\"Positive\",\"Negative\",\"Negative\",\"Neutral\",\"Positive\",\"Negative\",\"Positive\",\"Negative\",\"Neutral\",\"Positive\",\"Neutral\",\"Neutral\",\"Neutral\",\"Negative\",\"Neutral\",\"Positive\",\"Neutral\",\"Neutral\",\"Positive\",\"Neutral\",\"Neutral\",\"Neutral\",\"Positive\",\"Positive\",\"Positive\",\"Neutral\",\"Neutral\",\"Negative\",\"Neutral\",\"Positive\",\"Neutral\",\"Positive\",\"Positive\",\"Negative\",\"Neutral\",\"Negative\",\"Positive\",\"Neutral\",\"Negative\",\"Negative\",\"Positive\",\"Neutral\",\"Negative\",\"Neutral\",\"Neutral\",\"Positive\",\"Positive\",\"Positive\",\"Positive\",\"Neutral\",\"Positive\",\"Negative\",\"Positive\",\"Positive\",\"Negative\",\"Positive\",\"Positive\",\"Negative\",\"Negative\",\"Negative\",\"Negative\",\"Neutral\",\"Positive\",\"Negative\",\"Neutral\",\"Negative\",\"Positive\",\"Positive\",\"Positive\",\"Positive\",\"Negative\",\"Positive\",\"Neutral\",\"Negative\",\"Neutral\",\"Neutral\",\"Neutral\",\"Neutral\",\"Neutral\",\"Negative\",\"Positive\",\"Negative\",\"Neutral\",\"Positive\",\"Positive\",\"Neutral\",\"Negative\",\"Negative\",\"Positive\",\"Positive\",\"Positive\",\"Negative\",\"Positive\",\"Negative\",\"Positive\",\"Neutral\",\"Positive\",\"Positive\",\"Negative\",\"Positive\",\"Positive\",\"Positive\",\"Positive\",\"Negative\",\"Positive\",\"Negative\",\"Negative\",\"Neutral\",\"Positive\",\"Positive\",\"Neutral\",\"Negative\",\"Negative\",\"Negative\",\"Positive\",\"Neutral\",\"Negative\",\"Positive\",\"Neutral\",\"Neutral\",\"Negative\",\"Negative\",\"Neutral\",\"Negative\",\"Neutral\",\"Positive\",\"Neutral\",\"Neutral\",\"Positive\",\"Positive\",\"Positive\",\"Positive\",\"Positive\",\"Negative\",\"Positive\",\"Neutral\",\"Negative\",\"Negative\",\"Positive\",\"Negative\",\"Negative\",\"Neutral\",\"Positive\",\"Positive\",\"Negative\",\"Negative\",\"Neutral\",\"Positive\",\"Positive\",\"Positive\",\"Positive\",\"Negative\",\"Negative\",\"Negative\",\"Negative\",\"Positive\",\"Positive\",\"Positive\",\"Neutral\",\"Neutral\",\"Negative\",\"Positive\",\"Neutral\",\"Positive\",\"Positive\",\"Positive\",\"Negative\",\"Neutral\",\"Positive\",\"Negative\",\"Negative\",\"Neutral\",\"Negative\",\"Negative\",\"Negative\",\"Negative\",\"Positive\",\"Positive\",\"Positive\",\"Positive\",\"Positive\",\"Positive\",\"Positive\",\"Neutral\",\"Negative\",\"Negative\",\"Negative\",\"Negative\",\"Negative\",\"Neutral\",\"Positive\",\"Negative\",\"Positive\",\"Negative\",\"Positive\",\"Positive\",\"Negative\",\"Positive\",\"Negative\",\"Positive\",\"Positive\",\"Neutral\",\"Positive\",\"Negative\",\"Positive\",\"Positive\",\"Positive\",\"Negative\",\"Negative\",\"Neutral\",\"Negative\",\"Negative\",\"Positive\",\"Positive\",\"Neutral\",\"Negative\",\"Positive\",\"Positive\",\"Neutral\",\"Positive\",\"Negative\",\"Negative\",\"Positive\",\"Positive\",\"Positive\",\"Negative\",\"Positive\",\"Neutral\",\"Negative\",\"Negative\",\"Positive\",\"Positive\",\"Neutral\",\"Negative\",\"Negative\",\"Positive\",\"Neutral\",\"Neutral\",\"Negative\",\"Positive\",\"Positive\",\"Negative\",\"Positive\",\"Neutral\",\"Negative\",\"Negative\",\"Neutral\",\"Negative\",\"Positive\",\"Positive\",\"Neutral\",\"Positive\",\"Positive\",\"Positive\",\"Positive\",\"Negative\",\"Positive\",\"Negative\",\"Positive\",\"Negative\",\"Positive\",\"Neutral\",\"Positive\",\"Positive\",\"Positive\",\"Positive\",\"Negative\",\"Positive\",\"Neutral\",\"Positive\",\"Positive\",\"Neutral\",\"Negative\",\"Neutral\",\"Negative\",\"Positive\",\"Neutral\",\"Negative\",\"Negative\",\"Neutral\",\"Positive\",\"Negative\",\"Positive\",\"Negative\",\"Negative\",\"Neutral\",\"Neutral\",\"Neutral\",\"Neutral\",\"Positive\",\"Neutral\",\"Negative\",\"Negative\",\"Positive\",\"Negative\",\"Neutral\",\"Positive\",\"Positive\",\"Positive\",\"Positive\",\"Positive\",\"Neutral\",\"Negative\",\"Positive\",\"Positive\",\"Negative\",\"Negative\",\"Negative\",\"Negative\",\"Neutral\",\"Positive\",\"Positive\",\"Neutral\",\"Positive\",\"Negative\",\"Neutral\",\"Positive\",\"Positive\",\"Neutral\",\"Positive\",\"Positive\",\"Positive\",\"Positive\",\"Positive\",\"Positive\",\"Neutral\",\"Positive\",\"Positive\",\"Negative\",\"Positive\",\"Neutral\",\"Positive\",\"Negative\",\"Neutral\",\"Positive\",\"Positive\",\"Positive\",\"Positive\",\"Negative\",\"Negative\",\"Negative\",\"Neutral\",\"Negative\",\"Positive\",\"Positive\",\"Positive\",\"Neutral\",\"Neutral\",\"Positive\",\"Positive\",\"Positive\",\"Positive\",\"Positive\",\"Positive\",\"Positive\",\"Positive\",\"Negative\",\"Neutral\",\"Positive\",\"Negative\",\"Negative\",\"Negative\",\"Positive\",\"Negative\",\"Negative\",\"Negative\",\"Negative\",\"Negative\",\"Negative\",\"Positive\",\"Negative\",\"Neutral\",\"Negative\",\"Negative\",\"Neutral\",\"Positive\",\"Positive\",\"Neutral\",\"Positive\",\"Negative\",\"Neutral\",\"Positive\",\"Positive\",\"Positive\",\"Positive\",\"Neutral\",\"Negative\",\"Negative\",\"Positive\",\"Positive\",\"Neutral\",\"Positive\",\"Negative\",\"Negative\",\"Negative\",\"Negative\",\"Positive\",\"Positive\",\"Negative\",\"Negative\",\"Negative\",\"Positive\",\"Positive\",\"Neutral\",\"Positive\",\"Negative\",\"Positive\",\"Negative\",\"Negative\",\"Negative\",\"Neutral\",\"Negative\",\"Positive\",\"Positive\",\"Positive\",\"Negative\",\"Positive\",\"Positive\",\"Negative\",\"Negative\",\"Positive\",\"Positive\",\"Positive\",\"Positive\",\"Neutral\",\"Negative\",\"Neutral\",\"Neutral\",\"Neutral\",\"Neutral\",\"Positive\",\"Positive\",\"Positive\",\"Positive\",\"Positive\",\"Negative\",\"Negative\",\"Negative\",\"Positive\",\"Positive\",\"Negative\",\"Negative\",\"Negative\",\"Neutral\",\"Neutral\",\"Neutral\",\"Negative\",\"Negative\",\"Neutral\",\"Negative\",\"Positive\",\"Neutral\",\"Positive\",\"Negative\",\"Negative\",\"Neutral\",\"Positive\",\"Positive\",\"Neutral\",\"Positive\",\"Negative\",\"Positive\",\"Neutral\",\"Negative\",\"Neutral\",\"Negative\",\"Neutral\",\"Negative\",\"Neutral\",\"Negative\",\"Positive\",\"Neutral\",\"Neutral\",\"Negative\",\"Positive\",\"Positive\",\"Negative\",\"Negative\",\"Negative\",\"Positive\",\"Neutral\",\"Positive\",\"Positive\",\"Positive\",\"Positive\",\"Positive\",\"Negative\",\"Negative\",\"Negative\",\"Negative\",\"Positive\",\"Neutral\",\"Positive\",\"Neutral\",\"Positive\",\"Positive\",\"Positive\",\"Negative\",\"Positive\",\"Neutral\",\"Positive\",\"Negative\",\"Positive\",\"Neutral\",\"Positive\",\"Neutral\",\"Positive\",\"Neutral\",\"Neutral\",\"Positive\",\"Neutral\",\"Negative\",\"Negative\",\"Negative\",\"Positive\",\"Neutral\",\"Neutral\",\"Negative\",\"Negative\",\"Positive\",\"Positive\",\"Positive\",\"Neutral\",\"Positive\",\"Positive\",\"Neutral\",\"Positive\",\"Positive\",\"Positive\",\"Negative\",\"Positive\",\"Positive\",\"Positive\",\"Negative\",\"Negative\",\"Positive\",\"Positive\",\"Negative\",\"Neutral\",\"Positive\",\"Positive\",\"Negative\",\"Negative\",\"Neutral\",\"Negative\",\"Negative\",\"Negative\",\"Positive\",\"Positive\",\"Neutral\",\"Positive\",\"Positive\",\"Positive\",\"Negative\",\"Positive\",\"Negative\",\"Positive\",\"Neutral\",\"Negative\",\"Negative\",\"Neutral\",\"Neutral\",\"Negative\",\"Positive\",\"Neutral\",\"Positive\",\"Positive\",\"Positive\",\"Positive\",\"Positive\",\"Neutral\",\"Neutral\",\"Neutral\",\"Positive\",\"Neutral\",\"Positive\",\"Neutral\",\"Positive\",\"Positive\",\"Neutral\",\"Positive\",\"Neutral\",\"Negative\",\"Negative\",\"Positive\",\"Negative\",\"Positive\",\"Negative\",\"Neutral\",\"Positive\",\"Positive\",\"Neutral\",\"Neutral\",\"Negative\",\"Negative\",\"Neutral\",\"Neutral\",\"Neutral\",\"Neutral\",\"Negative\",\"Positive\",\"Negative\",\"Negative\",\"Positive\",\"Positive\",\"Neutral\",\"Positive\",\"Positive\",\"Negative\",\"Positive\",\"Neutral\",\"Negative\",\"Negative\",\"Neutral\",\"Negative\",\"Neutral\",\"Positive\",\"Negative\",\"Negative\",\"Positive\",\"Negative\",\"Negative\",\"Positive\",\"Positive\",\"Positive\",\"Negative\",\"Positive\",\"Neutral\",\"Negative\",\"Negative\",\"Positive\",\"Negative\",\"Positive\",\"Neutral\",\"Neutral\",\"Positive\",\"Negative\",\"Neutral\",\"Positive\",\"Positive\",\"Negative\",\"Negative\",\"Neutral\",\"Negative\",\"Positive\",\"Negative\",\"Negative\",\"Positive\",\"Neutral\",\"Neutral\",\"Positive\",\"Neutral\",\"Negative\",\"Neutral\",\"Positive\",\"Negative\",\"Neutral\",\"Positive\",\"Neutral\",\"Positive\",\"Positive\",\"Positive\",\"Negative\",\"Negative\",\"Positive\",\"Negative\",\"Positive\",\"Positive\",\"Positive\",\"Negative\",\"Neutral\",\"Neutral\",\"Positive\",\"Positive\",\"Neutral\",\"Neutral\",\"Positive\",\"Neutral\",\"Negative\",\"Positive\",\"Positive\",\"Positive\",\"Positive\",\"Positive\",\"Negative\",\"Positive\",\"Negative\",\"Positive\",\"Positive\",\"Negative\",\"Neutral\",\"Negative\",\"Negative\",\"Positive\",\"Positive\",\"Neutral\",\"Negative\",\"Positive\",\"Negative\",\"Negative\",\"Negative\",\"Positive\",\"Negative\",\"Neutral\",\"Positive\",\"Neutral\",\"Positive\",\"Positive\",\"Positive\",\"Neutral\",\"Negative\",\"Negative\",\"Negative\",\"Negative\",\"Negative\",\"Negative\",\"Negative\",\"Neutral\",\"Negative\",\"Positive\",\"Negative\",\"Positive\",\"Negative\",\"Negative\",\"Negative\",\"Negative\",\"Negative\",\"Positive\",\"Positive\",\"Negative\",\"Positive\",\"Positive\",\"Negative\",\"Negative\",\"Neutral\",\"Positive\",\"Neutral\",\"Negative\",\"Positive\",\"Negative\",\"Negative\",\"Neutral\",\"Negative\",\"Positive\",\"Positive\",\"Positive\",\"Positive\",\"Positive\",\"Neutral\",\"Positive\",\"Positive\",\"Positive\",\"Negative\",\"Negative\",\"Positive\",\"Positive\",\"Negative\",\"Negative\",\"Negative\",\"Negative\",\"Positive\",\"Positive\",\"Negative\",\"Positive\",\"Negative\",\"Neutral\",\"Negative\",\"Positive\",\"Positive\",\"Negative\",\"Negative\",\"Positive\",\"Negative\",\"Positive\",\"Neutral\",\"Negative\",\"Neutral\",\"Negative\",\"Positive\",\"Positive\",\"Neutral\",\"Negative\",\"Negative\",\"Negative\",\"Positive\",\"Positive\",\"Neutral\",\"Negative\",\"Positive\",\"Positive\",\"Negative\",\"Positive\",\"Negative\",\"Negative\",\"Negative\",\"Positive\",\"Positive\",\"Neutral\",\"Negative\",\"Negative\",\"Negative\",\"Positive\",\"Negative\",\"Positive\",\"Positive\",\"Neutral\",\"Neutral\",\"Positive\",\"Negative\",\"Neutral\",\"Negative\",\"Positive\",\"Negative\",\"Positive\",\"Positive\",\"Positive\",\"Negative\",\"Negative\",\"Neutral\",\"Neutral\",\"Positive\",\"Neutral\",\"Neutral\",\"Negative\",\"Neutral\",\"Neutral\",\"Positive\",\"Negative\",\"Neutral\",\"Positive\",\"Positive\",\"Neutral\",\"Negative\",\"Neutral\",\"Negative\",\"Positive\",\"Neutral\",\"Neutral\",\"Neutral\",\"Positive\",\"Positive\",\"Negative\",\"Neutral\",\"Negative\",\"Positive\",\"Neutral\",\"Positive\",\"Positive\",\"Negative\",\"Positive\",\"Positive\",\"Positive\",\"Positive\",\"Negative\",\"Positive\",\"Neutral\",\"Positive\",\"Negative\",\"Negative\",\"Positive\",\"Negative\",\"Negative\",\"Neutral\",\"Negative\",\"Positive\",\"Positive\",\"Positive\",\"Positive\",\"Negative\",\"Positive\",\"Positive\",\"Positive\",\"Negative\",\"Positive\",\"Neutral\",\"Negative\",\"Neutral\",\"Positive\",\"Positive\",\"Positive\",\"Positive\",\"Positive\",\"Positive\",\"Positive\",\"Positive\",\"Neutral\",\"Positive\",\"Neutral\",\"Positive\",\"Neutral\",\"Positive\",\"Positive\",\"Positive\",\"Negative\",\"Negative\",\"Positive\",\"Neutral\",\"Negative\",\"Neutral\",\"Negative\",\"Negative\",\"Negative\",\"Negative\",\"Positive\",\"Neutral\",\"Negative\",\"Negative\",\"Positive\",\"Negative\",\"Positive\",\"Neutral\",\"Positive\",\"Negative\",\"Positive\",\"Positive\",\"Neutral\",\"Negative\",\"Negative\",\"Negative\",\"Neutral\",\"Neutral\",\"Positive\",\"Negative\",\"Negative\",\"Neutral\",\"Negative\",\"Negative\",\"Positive\",\"Positive\",\"Positive\",\"Negative\",\"Neutral\",\"Negative\",\"Negative\",\"Neutral\",\"Negative\",\"Neutral\",\"Negative\",\"Neutral\",\"Positive\",\"Negative\",\"Negative\",\"Neutral\",\"Neutral\",\"Negative\",\"Negative\",\"Negative\",\"Negative\",\"Positive\",\"Positive\",\"Negative\",\"Negative\",\"Negative\",\"Negative\",\"Positive\",\"Positive\",\"Positive\",\"Negative\",\"Positive\",\"Negative\",\"Neutral\",\"Negative\",\"Negative\",\"Neutral\",\"Negative\",\"Negative\",\"Negative\",\"Positive\",\"Positive\",\"Positive\",\"Positive\",\"Negative\",\"Neutral\",\"Positive\",\"Positive\",\"Neutral\",\"Neutral\",\"Positive\",\"Neutral\",\"Negative\",\"Negative\",\"Neutral\",\"Neutral\",\"Negative\",\"Positive\",\"Neutral\",\"Positive\",\"Negative\",\"Neutral\",\"Neutral\",\"Neutral\",\"Positive\",\"Positive\",\"Positive\",\"Negative\",\"Neutral\",\"Neutral\",\"Positive\",\"Negative\",\"Positive\",\"Neutral\",\"Negative\",\"Positive\",\"Neutral\",\"Positive\",\"Negative\",\"Negative\",\"Negative\",\"Positive\",\"Positive\",\"Positive\",\"Positive\",\"Positive\",\"Negative\",\"Neutral\",\"Neutral\",\"Positive\",\"Negative\",\"Neutral\",\"Negative\",\"Positive\",\"Negative\",\"Neutral\",\"Neutral\",\"Negative\",\"Negative\",\"Positive\",\"Negative\",\"Negative\",\"Negative\",\"Positive\",\"Positive\",\"Negative\",\"Neutral\",\"Negative\",\"Positive\",\"Negative\",\"Negative\",\"Negative\",\"Positive\",\"Neutral\",\"Negative\",\"Positive\",\"Neutral\",\"Negative\",\"Negative\",\"Negative\",\"Negative\",\"Negative\",\"Negative\",\"Negative\",\"Negative\",\"Positive\",\"Negative\",\"Positive\",\"Negative\",\"Negative\",\"Neutral\",\"Positive\",\"Positive\",\"Neutral\",\"Neutral\",\"Positive\",\"Positive\",\"Negative\",\"Neutral\",\"Negative\",\"Positive\",\"Negative\",\"Negative\",\"Negative\",\"Neutral\",\"Negative\",\"Neutral\",\"Positive\",\"Negative\",\"Negative\",\"Positive\",\"Negative\",\"Negative\",\"Positive\",\"Positive\",\"Positive\",\"Neutral\",\"Positive\",\"Negative\",\"Positive\",\"Neutral\",\"Neutral\",\"Negative\",\"Negative\",\"Positive\",\"Negative\",\"Negative\",\"Negative\",\"Positive\",\"Negative\",\"Negative\",\"Negative\",\"Neutral\",\"Negative\",\"Positive\",\"Negative\",\"Negative\",\"Negative\",\"Negative\",\"Neutral\",\"Positive\",\"Negative\",\"Positive\",\"Negative\",\"Positive\",\"Positive\",\"Negative\",\"Negative\",\"Neutral\",\"Negative\",\"Positive\",\"Negative\",\"Neutral\",\"Negative\",\"Negative\",\"Negative\",\"Negative\",\"Negative\",\"Neutral\",\"Neutral\",\"Negative\",\"Negative\",\"Positive\",\"Neutral\",\"Positive\",\"Positive\",\"Positive\",\"Positive\",\"Negative\",\"Positive\",\"Positive\",\"Negative\",\"Negative\",\"Positive\",\"Neutral\",\"Neutral\",\"Negative\",\"Neutral\",\"Neutral\",\"Positive\",\"Neutral\",\"Neutral\",\"Negative\",\"Negative\",\"Negative\",\"Negative\",\"Neutral\",\"Negative\",\"Neutral\",\"Positive\",\"Negative\",\"Negative\",\"Positive\",\"Negative\",\"Negative\",\"Negative\",\"Negative\",\"Positive\",\"Positive\",\"Positive\",\"Positive\",\"Negative\",\"Negative\",\"Neutral\",\"Negative\",\"Neutral\",\"Neutral\",\"Negative\",\"Neutral\",\"Negative\",\"Positive\",\"Negative\",\"Negative\",\"Neutral\",\"Neutral\",\"Positive\",\"Negative\",\"Neutral\",\"Neutral\",\"Neutral\",\"Positive\",\"Positive\",\"Positive\",\"Neutral\",\"Negative\",\"Neutral\",\"Negative\",\"Negative\",\"Neutral\",\"Neutral\",\"Positive\",\"Negative\",\"Neutral\",\"Positive\",\"Negative\",\"Negative\",\"Negative\",\"Negative\",\"Positive\",\"Positive\",\"Negative\",\"Negative\",\"Negative\",\"Positive\",\"Positive\",\"Negative\",\"Neutral\",\"Positive\",\"Negative\",\"Neutral\",\"Negative\",\"Positive\",\"Negative\",\"Negative\",\"Positive\",\"Positive\",\"Negative\",\"Neutral\",\"Neutral\",\"Negative\",\"Negative\",\"Positive\",\"Positive\",\"Positive\",\"Negative\",\"Negative\",\"Positive\",\"Negative\",\"Neutral\",\"Negative\",\"Neutral\",\"Neutral\",\"Neutral\",\"Negative\",\"Negative\",\"Positive\",\"Neutral\",\"Positive\",\"Positive\",\"Positive\",\"Negative\",\"Negative\",\"Negative\",\"Positive\",\"Negative\",\"Positive\",\"Negative\",\"Positive\",\"Positive\",\"Positive\",\"Positive\",\"Positive\",\"Negative\",\"Negative\",\"Positive\",\"Positive\",\"Positive\",\"Neutral\",\"Positive\",\"Negative\",\"Neutral\",\"Negative\",\"Positive\",\"Positive\",\"Negative\",\"Neutral\",\"Positive\",\"Positive\",\"Positive\",\"Negative\",\"Neutral\",\"Positive\",\"Neutral\",\"Negative\",\"Positive\",\"Negative\",\"Neutral\",\"Positive\",\"Negative\",\"Neutral\",\"Positive\",\"Negative\",\"Neutral\",\"Neutral\",\"Negative\",\"Negative\",\"Negative\",\"Positive\",\"Negative\",\"Negative\",\"Negative\",\"Positive\",\"Negative\",\"Neutral\",\"Positive\",\"Neutral\",\"Negative\",\"Negative\",\"Neutral\",\"Positive\",\"Negative\",\"Positive\",\"Positive\",\"Negative\",\"Positive\",\"Neutral\",\"Negative\",\"Negative\",\"Neutral\",\"Neutral\",\"Positive\",\"Negative\",\"Negative\",\"Negative\",\"Negative\",\"Positive\",\"Positive\",\"Positive\",\"Positive\",\"Negative\",\"Positive\",\"Positive\",\"Positive\",\"Negative\",\"Negative\",\"Neutral\",\"Neutral\",\"Negative\",\"Positive\",\"Negative\",\"Negative\",\"Positive\",\"Positive\",\"Positive\",\"Positive\",\"Negative\",\"Negative\",\"Negative\",\"Negative\",\"Positive\",\"Negative\",\"Negative\",\"Positive\",\"Neutral\",\"Positive\",\"Neutral\",\"Positive\",\"Positive\",\"Positive\",\"Positive\",\"Negative\",\"Positive\",\"Neutral\",\"Negative\",\"Positive\",\"Negative\",\"Negative\",\"Positive\",\"Positive\",\"Negative\",\"Positive\",\"Positive\",\"Neutral\",\"Negative\",\"Positive\",\"Positive\",\"Positive\",\"Positive\",\"Negative\",\"Neutral\",\"Positive\",\"Negative\",\"Negative\",\"Neutral\",\"Negative\",\"Negative\",\"Positive\",\"Neutral\",\"Neutral\",\"Positive\",\"Negative\",\"Negative\",\"Negative\",\"Negative\",\"Negative\",\"Positive\",\"Neutral\",\"Positive\",\"Negative\",\"Negative\",\"Positive\",\"Negative\",\"Negative\",\"Positive\",\"Positive\",\"Negative\",\"Negative\",\"Negative\",\"Negative\",\"Negative\",\"Neutral\",\"Positive\",\"Negative\",\"Positive\",\"Negative\",\"Positive\",\"Positive\",\"Negative\",\"Negative\",\"Negative\",\"Negative\",\"Positive\",\"Neutral\",\"Positive\",\"Negative\",\"Negative\",\"Negative\",\"Positive\",\"Negative\",\"Positive\",\"Neutral\",\"Negative\",\"Negative\",\"Positive\",\"Negative\",\"Negative\",\"Neutral\",\"Negative\",\"Negative\",\"Neutral\",\"Positive\",\"Positive\",\"Negative\",\"Positive\",\"Neutral\",\"Negative\",\"Negative\",\"Neutral\",\"Negative\",\"Neutral\",\"Positive\",\"Negative\",\"Negative\",\"Negative\",\"Positive\",\"Negative\",\"Positive\",\"Positive\",\"Negative\",\"Positive\",\"Positive\",\"Negative\",\"Negative\",\"Negative\",\"Negative\",\"Negative\",\"Neutral\",\"Negative\",\"Positive\",\"Neutral\",\"Positive\",\"Neutral\",\"Positive\",\"Negative\",\"Neutral\",\"Neutral\",\"Neutral\",\"Negative\",\"Negative\",\"Positive\",\"Negative\",\"Positive\",\"Neutral\",\"Positive\",\"Negative\",\"Positive\",\"Negative\",\"Neutral\",\"Positive\",\"Positive\",\"Negative\",\"Positive\",\"Positive\",\"Neutral\",\"Negative\",\"Positive\",\"Negative\",\"Positive\",\"Negative\",\"Positive\",\"Negative\",\"Neutral\",\"Neutral\",\"Negative\",\"Negative\",\"Positive\",\"Negative\",\"Neutral\",\"Positive\",\"Positive\",\"Positive\",\"Negative\",\"Positive\",\"Negative\",\"Neutral\",\"Positive\",\"Positive\",\"Positive\",\"Positive\",\"Negative\",\"Neutral\",\"Neutral\",\"Positive\",\"Positive\",\"Positive\",\"Negative\",\"Positive\",\"Positive\",\"Positive\",\"Negative\",\"Neutral\",\"Positive\",\"Positive\",\"Negative\",\"Neutral\",\"Positive\",\"Negative\",\"Negative\",\"Neutral\",\"Positive\",\"Neutral\",\"Negative\",\"Negative\",\"Positive\",\"Positive\",\"Positive\",\"Positive\",\"Positive\",\"Positive\",\"Negative\",\"Negative\",\"Neutral\",\"Negative\",\"Positive\",\"Negative\",\"Negative\",\"Positive\",\"Neutral\",\"Negative\",\"Negative\",\"Neutral\",\"Negative\",\"Positive\",\"Positive\",\"Positive\",\"Positive\",\"Negative\",\"Negative\",\"Positive\",\"Neutral\",\"Positive\",\"Neutral\",\"Negative\",\"Negative\",\"Positive\",\"Positive\",\"Positive\",\"Positive\",\"Positive\",\"Positive\",\"Positive\",\"Positive\",\"Negative\",\"Positive\",\"Negative\",\"Neutral\",\"Positive\",\"Positive\",\"Neutral\",\"Negative\",\"Positive\",\"Positive\",\"Positive\",\"Neutral\",\"Positive\",\"Positive\",\"Positive\",\"Positive\",\"Positive\",\"Negative\",\"Neutral\",\"Neutral\",\"Negative\",\"Negative\",\"Positive\",\"Neutral\",\"Positive\",\"Neutral\",\"Positive\",\"Negative\",\"Positive\",\"Negative\",\"Positive\",\"Positive\",\"Neutral\",\"Neutral\",\"Positive\",\"Positive\",\"Neutral\",\"Positive\",\"Negative\",\"Negative\",\"Negative\",\"Negative\",\"Positive\",\"Positive\",\"Negative\",\"Negative\",\"Positive\",\"Negative\",\"Neutral\",\"Negative\",\"Negative\",\"Negative\",\"Neutral\",\"Positive\",\"Neutral\",\"Positive\",\"Positive\",\"Positive\",\"Positive\",\"Neutral\",\"Positive\",\"Positive\",\"Positive\",\"Neutral\",\"Negative\",\"Negative\",\"Negative\",\"Negative\",\"Negative\",\"Positive\",\"Positive\",\"Neutral\",\"Neutral\",\"Positive\",\"Negative\",\"Positive\",\"Neutral\",\"Positive\",\"Positive\",\"Neutral\",\"Neutral\",\"Neutral\",\"Positive\",\"Positive\",\"Positive\",\"Negative\",\"Negative\",\"Positive\",\"Negative\",\"Negative\",\"Negative\",\"Positive\",\"Negative\",\"Negative\",\"Positive\",\"Positive\",\"Positive\",\"Negative\",\"Neutral\",\"Positive\",\"Neutral\",\"Positive\",\"Neutral\",\"Positive\",\"Negative\",\"Positive\",\"Negative\",\"Positive\",\"Positive\",\"Neutral\",\"Negative\",\"Neutral\",\"Neutral\",\"Neutral\",\"Positive\",\"Negative\",\"Positive\",\"Positive\",\"Positive\",\"Negative\",\"Negative\",\"Positive\",\"Positive\",\"Positive\",\"Neutral\",\"Neutral\",\"Negative\",\"Positive\",\"Negative\",\"Positive\",\"Neutral\",\"Positive\",\"Negative\",\"Positive\",\"Negative\",\"Neutral\",\"Positive\",\"Positive\",\"Positive\",\"Positive\",\"Positive\",\"Negative\",\"Negative\",\"Neutral\",\"Positive\",\"Negative\",\"Positive\",\"Positive\",\"Positive\",\"Negative\",\"Positive\",\"Positive\",\"Neutral\",\"Positive\",\"Positive\",\"Negative\",\"Negative\",\"Positive\",\"Positive\",\"Negative\",\"Neutral\",\"Negative\",\"Positive\",\"Negative\",\"Positive\",\"Positive\",\"Positive\",\"Neutral\",\"Neutral\",\"Negative\",\"Negative\",\"Negative\",\"Negative\",\"Positive\",\"Neutral\",\"Negative\",\"Negative\",\"Positive\",\"Positive\",\"Positive\",\"Negative\",\"Negative\",\"Positive\",\"Positive\",\"Positive\",\"Negative\",\"Positive\",\"Negative\",\"Positive\",\"Positive\",\"Neutral\",\"Negative\",\"Positive\",\"Neutral\",\"Neutral\",\"Positive\",\"Neutral\",\"Negative\",\"Neutral\",\"Negative\",\"Negative\",\"Positive\",\"Negative\",\"Positive\",\"Positive\",\"Positive\",\"Positive\",\"Negative\",\"Negative\",\"Positive\",\"Positive\",\"Neutral\",\"Neutral\",\"Negative\",\"Negative\",\"Neutral\",\"Positive\",\"Negative\",\"Negative\",\"Positive\",\"Positive\",\"Negative\",\"Positive\",\"Positive\",\"Positive\",\"Positive\",\"Neutral\",\"Positive\",\"Negative\",\"Positive\",\"Positive\",\"Negative\",\"Negative\",\"Negative\",\"Negative\",\"Neutral\",\"Negative\",\"Negative\",\"Positive\",\"Positive\",\"Neutral\",\"Negative\",\"Positive\",\"Positive\",\"Positive\",\"Negative\",\"Positive\",\"Positive\",\"Positive\",\"Negative\",\"Negative\",\"Negative\",\"Positive\",\"Neutral\",\"Neutral\",\"Negative\",\"Neutral\",\"Positive\",\"Neutral\",\"Positive\",\"Negative\",\"Neutral\",\"Positive\",\"Neutral\",\"Negative\",\"Positive\",\"Negative\",\"Negative\",\"Negative\",\"Negative\",\"Positive\",\"Negative\",\"Negative\",\"Positive\",\"Positive\",\"Neutral\",\"Negative\",\"Negative\",\"Positive\",\"Positive\",\"Positive\",\"Neutral\",\"Positive\",\"Positive\",\"Positive\",\"Positive\",\"Positive\",\"Positive\",\"Positive\",\"Positive\",\"Positive\",\"Positive\",\"Negative\",\"Positive\",\"Negative\",\"Positive\",\"Positive\",\"Positive\",\"Positive\",\"Neutral\",\"Neutral\",\"Neutral\",\"Negative\",\"Positive\",\"Positive\",\"Negative\",\"Positive\",\"Negative\",\"Positive\",\"Positive\",\"Neutral\",\"Negative\",\"Negative\",\"Negative\",\"Negative\",\"Positive\",\"Negative\",\"Negative\",\"Positive\",\"Positive\",\"Negative\",\"Negative\",\"Neutral\",\"Neutral\",\"Negative\",\"Negative\",\"Positive\",\"Positive\",\"Negative\",\"Positive\",\"Positive\",\"Positive\",\"Positive\",\"Positive\",\"Positive\",\"Positive\",\"Negative\",\"Positive\",\"Neutral\",\"Positive\",\"Positive\",\"Positive\",\"Neutral\",\"Negative\",\"Negative\",\"Positive\",\"Negative\",\"Positive\",\"Negative\",\"Positive\",\"Positive\",\"Positive\",\"Neutral\",\"Positive\",\"Positive\",\"Positive\",\"Neutral\",\"Neutral\",\"Negative\",\"Negative\",\"Positive\",\"Negative\",\"Negative\",\"Positive\",\"Neutral\",\"Positive\",\"Positive\",\"Positive\",\"Positive\",\"Positive\",\"Neutral\",\"Negative\",\"Positive\",\"Positive\",\"Negative\",\"Negative\",\"Negative\",\"Neutral\",\"Negative\",\"Positive\",\"Negative\",\"Neutral\",\"Positive\",\"Negative\",\"Neutral\",\"Positive\",\"Negative\",\"Neutral\",\"Neutral\",\"Neutral\",\"Negative\",\"Positive\",\"Positive\",\"Neutral\",\"Positive\",\"Neutral\",\"Positive\",\"Positive\",\"Positive\",\"Positive\",\"Positive\",\"Negative\",\"Neutral\",\"Negative\",\"Negative\",\"Positive\",\"Negative\",\"Positive\",\"Positive\",\"Negative\",\"Negative\",\"Positive\",\"Positive\",\"Positive\",\"Positive\",\"Negative\",\"Negative\",\"Positive\",\"Positive\",\"Positive\",\"Neutral\",\"Positive\",\"Negative\",\"Negative\",\"Positive\",\"Neutral\",\"Negative\",\"Negative\",\"Positive\",\"Positive\",\"Positive\",\"Neutral\",\"Negative\",\"Positive\",\"Negative\",\"Positive\",\"Negative\",\"Negative\",\"Negative\",\"Negative\",\"Negative\",\"Positive\",\"Positive\",\"Neutral\",\"Positive\",\"Positive\",\"Positive\",\"Neutral\",\"Neutral\",\"Positive\",\"Neutral\",\"Positive\",\"Negative\",\"Negative\",\"Negative\",\"Neutral\",\"Positive\",\"Negative\",\"Positive\",\"Positive\",\"Positive\",\"Neutral\",\"Positive\",\"Neutral\",\"Positive\",\"Negative\",\"Positive\",\"Negative\",\"Positive\",\"Negative\",\"Negative\",\"Neutral\",\"Positive\",\"Positive\",\"Positive\",\"Positive\",\"Positive\",\"Negative\",\"Negative\",\"Negative\",\"Positive\",\"Positive\",\"Positive\",\"Negative\",\"Positive\",\"Positive\",\"Negative\",\"Positive\",\"Positive\",\"Positive\",\"Neutral\",\"Neutral\",\"Negative\",\"Positive\",\"Positive\",\"Negative\",\"Neutral\",\"Negative\",\"Negative\",\"Positive\",\"Positive\",\"Positive\",\"Negative\",\"Neutral\",\"Neutral\",\"Negative\",\"Negative\",\"Negative\",\"Neutral\",\"Neutral\",\"Neutral\",\"Neutral\",\"Positive\",\"Negative\",\"Neutral\",\"Positive\",\"Positive\",\"Positive\",\"Positive\",\"Positive\",\"Positive\",\"Positive\",\"Positive\",\"Neutral\",\"Positive\",\"Positive\",\"Negative\",\"Negative\",\"Neutral\",\"Negative\",\"Negative\",\"Negative\",\"Negative\",\"Negative\",\"Positive\",\"Negative\",\"Neutral\",\"Negative\",\"Negative\",\"Positive\",\"Negative\",\"Neutral\",\"Positive\",\"Positive\",\"Positive\",\"Positive\",\"Positive\",\"Positive\",\"Negative\",\"Positive\",\"Neutral\",\"Positive\",\"Positive\",\"Neutral\",\"Negative\",\"Negative\",\"Positive\",\"Positive\",\"Negative\",\"Positive\",\"Negative\",\"Positive\",\"Positive\",\"Neutral\",\"Positive\",\"Positive\",\"Neutral\",\"Positive\",\"Positive\",\"Positive\",\"Negative\",\"Positive\",\"Positive\",\"Negative\",\"Negative\",\"Negative\",\"Negative\",\"Neutral\",\"Positive\",\"Positive\",\"Neutral\",\"Neutral\",\"Positive\",\"Negative\",\"Positive\",\"Negative\",\"Negative\",\"Positive\",\"Negative\",\"Positive\",\"Positive\",\"Positive\",\"Positive\",\"Positive\",\"Positive\",\"Negative\",\"Negative\",\"Neutral\",\"Positive\",\"Negative\",\"Negative\",\"Positive\",\"Positive\",\"Negative\",\"Positive\",\"Positive\",\"Negative\",\"Positive\",\"Negative\",\"Negative\",\"Negative\",\"Positive\",\"Positive\",\"Positive\",\"Positive\",\"Positive\",\"Negative\",\"Positive\",\"Negative\",\"Positive\",\"Negative\",\"Negative\",\"Positive\",\"Neutral\",\"Negative\",\"Negative\",\"Neutral\",\"Negative\",\"Negative\",\"Negative\",\"Negative\",\"Negative\",\"Negative\",\"Negative\",\"Positive\",\"Neutral\",\"Neutral\",\"Positive\",\"Positive\",\"Negative\",\"Neutral\",\"Positive\",\"Neutral\",\"Negative\",\"Positive\",\"Positive\",\"Negative\",\"Positive\",\"Negative\",\"Positive\",\"Negative\",\"Negative\",\"Neutral\",\"Positive\",\"Negative\",\"Neutral\",\"Negative\",\"Neutral\",\"Negative\",\"Negative\",\"Positive\",\"Positive\",\"Neutral\",\"Negative\",\"Neutral\",\"Positive\",\"Neutral\",\"Negative\",\"Negative\",\"Positive\",\"Neutral\",\"Negative\",\"Negative\",\"Positive\",\"Positive\",\"Positive\",\"Neutral\",\"Positive\",\"Negative\",\"Neutral\",\"Positive\",\"Negative\",\"Neutral\",\"Positive\",\"Negative\",\"Negative\",\"Neutral\",\"Negative\",\"Neutral\",\"Positive\",\"Neutral\",\"Positive\",\"Positive\",\"Positive\",\"Negative\",\"Negative\",\"Negative\",\"Positive\",\"Neutral\",\"Neutral\",\"Neutral\",\"Positive\",\"Positive\",\"Negative\",\"Negative\",\"Neutral\",\"Neutral\",\"Neutral\",\"Negative\",\"Positive\",\"Positive\",\"Positive\",\"Positive\",\"Positive\",\"Positive\",\"Negative\",\"Positive\",\"Positive\",\"Positive\",\"Negative\",\"Positive\",\"Positive\",\"Positive\",\"Negative\",\"Negative\",\"Positive\",\"Neutral\",\"Positive\",\"Positive\",\"Positive\",\"Positive\",\"Positive\",\"Positive\",\"Negative\",\"Positive\",\"Negative\",\"Positive\",\"Positive\",\"Positive\",\"Neutral\",\"Positive\",\"Negative\",\"Positive\",\"Neutral\",\"Positive\",\"Positive\",\"Negative\",\"Positive\",\"Positive\",\"Positive\",\"Negative\",\"Positive\",\"Positive\",\"Positive\",\"Positive\",\"Neutral\",\"Positive\",\"Positive\",\"Neutral\",\"Positive\",\"Positive\",\"Neutral\",\"Positive\",\"Positive\",\"Positive\",\"Negative\",\"Negative\",\"Positive\",\"Positive\",\"Neutral\",\"Neutral\",\"Positive\",\"Negative\",\"Negative\",\"Negative\",\"Positive\",\"Positive\",\"Negative\",\"Neutral\",\"Negative\",\"Positive\",\"Positive\",\"Neutral\",\"Neutral\",\"Positive\",\"Negative\",\"Negative\",\"Positive\",\"Positive\",\"Neutral\",\"Positive\",\"Neutral\",\"Neutral\",\"Positive\",\"Negative\",\"Positive\",\"Positive\",\"Positive\",\"Positive\",\"Negative\",\"Positive\",\"Negative\",\"Positive\",\"Negative\",\"Positive\",\"Negative\",\"Neutral\",\"Positive\",\"Positive\",\"Negative\",\"Positive\",\"Positive\",\"Positive\",\"Neutral\",\"Neutral\",\"Negative\",\"Positive\",\"Negative\",\"Negative\",\"Neutral\",\"Negative\",\"Negative\",\"Positive\",\"Negative\",\"Neutral\",\"Positive\",\"Positive\",\"Neutral\",\"Neutral\",\"Negative\",\"Negative\",\"Negative\",\"Negative\",\"Neutral\",\"Neutral\",\"Positive\",\"Negative\",\"Negative\",\"Negative\",\"Positive\",\"Positive\",\"Positive\",\"Negative\",\"Positive\",\"Positive\",\"Negative\",\"Positive\",\"Negative\",\"Neutral\",\"Positive\",\"Positive\",\"Positive\",\"Neutral\",\"Negative\",\"Positive\",\"Neutral\",\"Positive\",\"Negative\",\"Positive\",\"Neutral\",\"Neutral\",\"Positive\",\"Negative\",\"Positive\",\"Positive\",\"Neutral\",\"Negative\",\"Neutral\",\"Negative\",\"Neutral\",\"Neutral\",\"Positive\",\"Positive\",\"Neutral\",\"Neutral\",\"Positive\",\"Negative\",\"Positive\",\"Positive\",\"Positive\",\"Positive\",\"Positive\",\"Neutral\",\"Positive\",\"Neutral\",\"Neutral\",\"Positive\",\"Negative\",\"Negative\",\"Negative\",\"Negative\",\"Negative\",\"Positive\",\"Positive\",\"Positive\",\"Positive\",\"Neutral\",\"Negative\",\"Neutral\",\"Positive\",\"Positive\",\"Positive\",\"Neutral\",\"Positive\",\"Positive\",\"Positive\",\"Positive\",\"Neutral\",\"Negative\",\"Positive\",\"Positive\",\"Positive\",\"Positive\",\"Positive\",\"Positive\",\"Neutral\",\"Neutral\",\"Positive\",\"Negative\",\"Positive\",\"Positive\",\"Neutral\",\"Positive\",\"Negative\",\"Positive\",\"Neutral\",\"Positive\",\"Positive\",\"Neutral\",\"Positive\",\"Positive\",\"Positive\",\"Negative\",\"Neutral\",\"Negative\",\"Neutral\",\"Neutral\",\"Neutral\",\"Neutral\",\"Negative\",\"Negative\",\"Neutral\",\"Neutral\",\"Negative\",\"Negative\",\"Positive\",\"Negative\",\"Negative\",\"Negative\",\"Neutral\",\"Positive\",\"Negative\",\"Neutral\",\"Negative\",\"Negative\",\"Positive\",\"Negative\",\"Negative\",\"Neutral\",\"Negative\",\"Positive\",\"Neutral\",\"Negative\",\"Negative\",\"Neutral\",\"Neutral\",\"Negative\",\"Negative\",\"Positive\",\"Positive\",\"Negative\",\"Negative\",\"Negative\",\"Negative\",\"Negative\",\"Positive\",\"Neutral\",\"Neutral\",\"Positive\",\"Positive\",\"Positive\",\"Positive\",\"Positive\",\"Positive\",\"Neutral\",\"Neutral\",\"Neutral\",\"Negative\",\"Positive\",\"Neutral\",\"Neutral\",\"Positive\",\"Positive\",\"Negative\",\"Positive\",\"Positive\",\"Negative\",\"Positive\",\"Negative\",\"Neutral\",\"Neutral\",\"Negative\",\"Negative\",\"Negative\",\"Neutral\",\"Positive\",\"Positive\",\"Neutral\",\"Positive\",\"Negative\",\"Neutral\",\"Positive\",\"Negative\",\"Positive\",\"Positive\",\"Positive\",\"Neutral\",\"Positive\",\"Positive\",\"Positive\",\"Neutral\",\"Neutral\",\"Neutral\",\"Neutral\",\"Neutral\",\"Neutral\",\"Negative\",\"Negative\",\"Negative\",\"Neutral\",\"Neutral\",\"Positive\",\"Neutral\",\"Negative\",\"Negative\",\"Positive\",\"Neutral\",\"Positive\",\"Neutral\",\"Neutral\",\"Neutral\",\"Neutral\",\"Positive\",\"Positive\",\"Negative\",\"Negative\",\"Neutral\",\"Negative\",\"Neutral\",\"Negative\",\"Negative\",\"Negative\",\"Negative\",\"Positive\",\"Negative\",\"Positive\",\"Negative\",\"Negative\",\"Positive\",\"Negative\",\"Negative\",\"Negative\",\"Neutral\",\"Positive\",\"Positive\",\"Positive\",\"Negative\",\"Negative\",\"Positive\",\"Positive\",\"Neutral\",\"Neutral\",\"Negative\",\"Neutral\",\"Neutral\",\"Neutral\",\"Negative\",\"Negative\",\"Negative\",\"Positive\",\"Neutral\",\"Neutral\",\"Neutral\",\"Positive\",\"Positive\",\"Positive\",\"Negative\",\"Neutral\",\"Positive\",\"Positive\",\"Neutral\",\"Negative\",\"Positive\",\"Positive\",\"Negative\",\"Negative\",\"Positive\",\"Positive\",\"Negative\",\"Positive\",\"Neutral\",\"Negative\",\"Negative\",\"Positive\",\"Positive\",\"Positive\",\"Positive\",\"Positive\",\"Positive\",\"Neutral\",\"Neutral\",\"Positive\",\"Positive\",\"Neutral\",\"Positive\",\"Positive\",\"Negative\",\"Positive\",\"Neutral\",\"Positive\",\"Positive\",\"Neutral\",\"Negative\",\"Positive\",\"Negative\",\"Negative\",\"Negative\",\"Negative\",\"Positive\",\"Neutral\",\"Negative\",\"Positive\",\"Negative\",\"Positive\",\"Positive\",\"Negative\",\"Negative\",\"Positive\",\"Neutral\",\"Positive\",\"Negative\",\"Positive\",\"Neutral\",\"Negative\",\"Neutral\",\"Negative\",\"Negative\",\"Positive\",\"Neutral\",\"Negative\",\"Negative\",\"Negative\",\"Positive\",\"Neutral\",\"Neutral\",\"Neutral\",\"Neutral\",\"Neutral\",\"Negative\",\"Neutral\",\"Neutral\",\"Positive\",\"Neutral\",\"Positive\",\"Negative\",\"Positive\",\"Positive\",\"Positive\",\"Neutral\",\"Negative\",\"Positive\",\"Neutral\",\"Positive\",\"Negative\",\"Positive\",\"Positive\",\"Positive\",\"Neutral\",\"Positive\",\"Positive\",\"Positive\",\"Neutral\",\"Negative\",\"Positive\",\"Positive\",\"Negative\",\"Negative\",\"Positive\",\"Positive\",\"Positive\",\"Negative\",\"Negative\",\"Positive\",\"Negative\",\"Negative\",\"Positive\",\"Positive\",\"Negative\",\"Positive\",\"Positive\",\"Positive\",\"Positive\",\"Positive\",\"Neutral\",\"Negative\",\"Negative\",\"Neutral\",\"Neutral\",\"Negative\",\"Neutral\",\"Positive\",\"Positive\",\"Neutral\",\"Positive\",\"Neutral\",\"Neutral\",\"Positive\",\"Positive\",\"Positive\",\"Negative\",\"Positive\",\"Neutral\",\"Negative\",\"Neutral\",\"Neutral\",\"Negative\",\"Neutral\",\"Neutral\",\"Positive\",\"Neutral\",\"Neutral\",\"Negative\",\"Negative\",\"Positive\",\"Positive\",\"Neutral\",\"Neutral\",\"Neutral\",\"Neutral\",\"Neutral\",\"Positive\",\"Negative\",\"Positive\",\"Negative\",\"Neutral\",\"Positive\",\"Positive\",\"Neutral\",\"Positive\",\"Neutral\",\"Positive\",\"Negative\",\"Positive\",\"Negative\",\"Negative\",\"Negative\",\"Positive\",\"Neutral\",\"Neutral\",\"Positive\",\"Positive\",\"Neutral\",\"Positive\",\"Positive\",\"Negative\",\"Positive\",\"Positive\",\"Positive\",\"Positive\",\"Negative\",\"Negative\",\"Negative\",\"Neutral\",\"Positive\",\"Positive\",\"Negative\",\"Neutral\",\"Positive\",\"Negative\",\"Positive\",\"Neutral\",\"Positive\",\"Negative\",\"Negative\",\"Negative\",\"Neutral\",\"Negative\",\"Negative\",\"Negative\",\"Positive\",\"Neutral\",\"Negative\",\"Positive\",\"Negative\",\"Positive\",\"Negative\",\"Negative\",\"Positive\",\"Positive\",\"Positive\",\"Negative\",\"Negative\",\"Negative\",\"Positive\",\"Positive\",\"Positive\",\"Negative\",\"Negative\",\"Neutral\",\"Negative\",\"Negative\",\"Positive\",\"Positive\",\"Negative\",\"Positive\",\"Neutral\",\"Negative\",\"Neutral\",\"Positive\",\"Neutral\",\"Negative\",\"Negative\",\"Positive\",\"Neutral\",\"Neutral\",\"Neutral\",\"Positive\",\"Positive\",\"Positive\",\"Positive\",\"Negative\",\"Negative\",\"Negative\",\"Negative\",\"Negative\",\"Negative\",\"Negative\",\"Negative\",\"Positive\",\"Neutral\",\"Positive\",\"Positive\",\"Positive\",\"Neutral\",\"Positive\",\"Negative\",\"Positive\",\"Negative\",\"Positive\",\"Negative\",\"Neutral\",\"Neutral\",\"Negative\",\"Neutral\",\"Positive\",\"Neutral\",\"Neutral\",\"Neutral\",\"Neutral\",\"Positive\",\"Neutral\",\"Positive\",\"Negative\",\"Neutral\",\"Positive\",\"Positive\",\"Positive\",\"Negative\",\"Negative\",\"Positive\",\"Positive\",\"Positive\",\"Positive\",\"Positive\",\"Positive\",\"Negative\",\"Positive\",\"Negative\",\"Positive\",\"Positive\",\"Positive\",\"Negative\",\"Positive\",\"Neutral\",\"Positive\",\"Neutral\",\"Negative\",\"Positive\",\"Neutral\",\"Negative\",\"Positive\",\"Positive\",\"Neutral\",\"Negative\",\"Negative\",\"Negative\",\"Positive\",\"Negative\",\"Negative\",\"Negative\",\"Positive\",\"Negative\",\"Positive\",\"Positive\",\"Positive\",\"Positive\",\"Neutral\",\"Positive\",\"Positive\",\"Neutral\",\"Neutral\",\"Negative\",\"Neutral\",\"Neutral\",\"Negative\",\"Positive\",\"Negative\",\"Positive\",\"Positive\",\"Negative\",\"Negative\",\"Positive\",\"Neutral\",\"Negative\",\"Positive\",\"Positive\",\"Positive\",\"Positive\",\"Positive\",\"Neutral\",\"Positive\",\"Negative\",\"Negative\",\"Positive\",\"Negative\",\"Positive\",\"Positive\",\"Positive\",\"Negative\",\"Positive\",\"Positive\",\"Positive\",\"Negative\",\"Positive\",\"Neutral\",\"Positive\",\"Positive\",\"Positive\",\"Neutral\",\"Neutral\",\"Negative\",\"Negative\",\"Positive\",\"Positive\",\"Neutral\",\"Negative\",\"Positive\",\"Positive\",\"Positive\",\"Neutral\",\"Positive\",\"Positive\",\"Neutral\",\"Negative\",\"Negative\",\"Neutral\",\"Positive\",\"Negative\",\"Neutral\",\"Positive\",\"Positive\",\"Positive\",\"Positive\",\"Positive\",\"Negative\",\"Negative\",\"Positive\",\"Neutral\",\"Negative\",\"Positive\",\"Positive\",\"Positive\",\"Negative\",\"Positive\",\"Negative\",\"Negative\",\"Positive\",\"Positive\",\"Positive\",\"Negative\",\"Negative\",\"Negative\",\"Positive\",\"Positive\",\"Negative\",\"Neutral\",\"Negative\",\"Negative\",\"Positive\",\"Neutral\",\"Positive\",\"Neutral\",\"Positive\",\"Negative\",\"Negative\",\"Negative\",\"Positive\",\"Positive\",\"Negative\",\"Negative\",\"Positive\",\"Positive\",\"Positive\",\"Positive\",\"Negative\",\"Neutral\",\"Neutral\",\"Negative\",\"Negative\",\"Positive\",\"Positive\",\"Negative\",\"Negative\",\"Neutral\",\"Positive\",\"Positive\",\"Neutral\",\"Positive\",\"Negative\",\"Negative\",\"Negative\",\"Positive\",\"Negative\",\"Positive\",\"Negative\",\"Positive\",\"Positive\",\"Positive\",\"Positive\",\"Negative\",\"Positive\",\"Positive\",\"Positive\",\"Negative\",\"Negative\",\"Negative\",\"Neutral\",\"Positive\",\"Negative\",\"Negative\",\"Positive\",\"Negative\",\"Positive\",\"Positive\",\"Positive\",\"Negative\",\"Negative\",\"Neutral\",\"Neutral\",\"Positive\",\"Neutral\",\"Negative\",\"Positive\",\"Positive\",\"Positive\",\"Negative\",\"Positive\",\"Positive\",\"Negative\",\"Positive\",\"Negative\",\"Neutral\",\"Neutral\",\"Negative\",\"Neutral\",\"Neutral\",\"Negative\",\"Negative\",\"Neutral\",\"Negative\",\"Positive\",\"Negative\",\"Negative\",\"Negative\",\"Negative\",\"Negative\",\"Negative\",\"Positive\",\"Neutral\",\"Negative\",\"Neutral\",\"Positive\",\"Negative\",\"Negative\",\"Positive\",\"Negative\",\"Positive\",\"Positive\",\"Positive\",\"Neutral\",\"Negative\",\"Positive\",\"Negative\",\"Positive\",\"Negative\",\"Positive\",\"Neutral\",\"Negative\",\"Positive\",\"Negative\",\"Neutral\",\"Positive\",\"Positive\",\"Negative\",\"Negative\",\"Positive\",\"Positive\",\"Positive\",\"Neutral\",\"Positive\",\"Negative\",\"Positive\",\"Negative\",\"Negative\",\"Positive\",\"Positive\",\"Negative\",\"Neutral\",\"Positive\",\"Neutral\",\"Positive\",\"Neutral\",\"Negative\",\"Positive\",\"Negative\",\"Negative\",\"Neutral\",\"Negative\",\"Positive\",\"Negative\",\"Negative\",\"Negative\",\"Negative\",\"Neutral\",\"Negative\",\"Negative\",\"Neutral\",\"Positive\",\"Positive\",\"Positive\",\"Negative\",\"Positive\",\"Negative\",\"Negative\",\"Negative\",\"Negative\",\"Neutral\",\"Positive\",\"Neutral\",\"Positive\",\"Neutral\",\"Neutral\",\"Negative\",\"Negative\",\"Positive\",\"Positive\",\"Negative\",\"Positive\",\"Positive\",\"Negative\",\"Negative\",\"Negative\",\"Positive\",\"Negative\",\"Negative\",\"Negative\",\"Positive\",\"Neutral\",\"Negative\",\"Neutral\",\"Negative\",\"Positive\",\"Positive\",\"Negative\",\"Positive\",\"Negative\",\"Positive\",\"Neutral\",\"Negative\",\"Positive\",\"Negative\",\"Neutral\",\"Negative\",\"Neutral\",\"Positive\",\"Positive\",\"Negative\",\"Positive\",\"Negative\",\"Positive\",\"Neutral\",\"Positive\",\"Neutral\",\"Positive\",\"Negative\",\"Positive\",\"Negative\",\"Neutral\",\"Negative\",\"Positive\",\"Neutral\",\"Negative\",\"Neutral\",\"Positive\",\"Neutral\",\"Positive\",\"Neutral\",\"Positive\",\"Positive\",\"Neutral\",\"Negative\",\"Negative\",\"Negative\",\"Positive\",\"Neutral\",\"Positive\",\"Positive\",\"Neutral\",\"Negative\",\"Negative\",\"Positive\",\"Negative\",\"Positive\",\"Neutral\",\"Neutral\",\"Positive\",\"Negative\",\"Negative\",\"Positive\",\"Positive\",\"Negative\",\"Negative\",\"Negative\",\"Positive\",\"Positive\",\"Positive\",\"Negative\",\"Positive\",\"Positive\",\"Positive\",\"Positive\",\"Negative\",\"Positive\",\"Negative\",\"Negative\",\"Negative\",\"Positive\",\"Negative\",\"Neutral\",\"Neutral\",\"Neutral\",\"Negative\",\"Neutral\",\"Positive\",\"Neutral\",\"Positive\",\"Positive\",\"Positive\",\"Positive\",\"Negative\",\"Neutral\",\"Neutral\",\"Positive\",\"Neutral\",\"Negative\",\"Neutral\",\"Positive\",\"Positive\",\"Positive\",\"Positive\",\"Neutral\",\"Neutral\",\"Positive\",\"Negative\",\"Positive\",\"Positive\",\"Negative\",\"Negative\",\"Positive\",\"Positive\",\"Negative\",\"Neutral\",\"Neutral\",\"Negative\",\"Positive\",\"Negative\",\"Negative\",\"Negative\",\"Negative\",\"Positive\",\"Neutral\",\"Positive\",\"Positive\",\"Neutral\",\"Negative\",\"Negative\",\"Negative\",\"Neutral\",\"Negative\",\"Positive\",\"Positive\",\"Positive\",\"Positive\",\"Negative\",\"Neutral\",\"Negative\",\"Negative\",\"Neutral\",\"Negative\",\"Neutral\",\"Positive\",\"Neutral\",\"Neutral\",\"Negative\",\"Negative\",\"Positive\",\"Positive\",\"Neutral\",\"Positive\",\"Negative\",\"Positive\",\"Neutral\",\"Positive\",\"Positive\",\"Negative\",\"Negative\",\"Positive\",\"Positive\",\"Positive\",\"Negative\",\"Positive\",\"Positive\",\"Positive\",\"Positive\",\"Negative\",\"Neutral\",\"Negative\",\"Positive\",\"Positive\",\"Neutral\",\"Negative\",\"Neutral\",\"Negative\",\"Neutral\",\"Negative\",\"Positive\",\"Neutral\",\"Positive\",\"Negative\",\"Positive\",\"Negative\",\"Neutral\",\"Negative\",\"Neutral\",\"Neutral\",\"Negative\",\"Neutral\",\"Positive\",\"Positive\",\"Negative\",\"Negative\",\"Neutral\",\"Positive\",\"Positive\",\"Negative\",\"Negative\",\"Positive\",\"Positive\",\"Positive\",\"Neutral\",\"Negative\",\"Positive\",\"Negative\",\"Neutral\",\"Positive\",\"Negative\",\"Negative\",\"Positive\",\"Positive\",\"Negative\",\"Positive\",\"Negative\",\"Positive\",\"Neutral\",\"Positive\",\"Neutral\",\"Negative\",\"Positive\",\"Positive\",\"Negative\",\"Positive\",\"Neutral\",\"Positive\",\"Negative\",\"Negative\",\"Positive\",\"Negative\",\"Neutral\",\"Positive\",\"Neutral\",\"Neutral\",\"Negative\",\"Neutral\",\"Negative\",\"Positive\",\"Negative\",\"Negative\",\"Positive\",\"Neutral\",\"Negative\",\"Negative\",\"Positive\",\"Positive\",\"Negative\",\"Positive\",\"Positive\",\"Negative\",\"Neutral\",\"Negative\",\"Negative\",\"Neutral\",\"Neutral\",\"Positive\",\"Positive\",\"Negative\",\"Positive\",\"Neutral\",\"Negative\",\"Neutral\",\"Negative\",\"Positive\",\"Negative\",\"Positive\",\"Negative\",\"Neutral\",\"Neutral\",\"Neutral\",\"Negative\",\"Positive\",\"Positive\",\"Positive\",\"Positive\",\"Positive\",\"Neutral\",\"Negative\",\"Positive\",\"Positive\",\"Positive\",\"Positive\",\"Positive\",\"Negative\",\"Negative\",\"Positive\",\"Negative\",\"Positive\",\"Neutral\",\"Positive\",\"Positive\",\"Negative\",\"Neutral\",\"Neutral\",\"Negative\",\"Negative\",\"Positive\",\"Positive\",\"Positive\",\"Positive\",\"Negative\",\"Negative\",\"Neutral\",\"Positive\",\"Positive\",\"Negative\",\"Negative\",\"Negative\",\"Positive\",\"Negative\",\"Positive\",\"Positive\",\"Positive\",\"Neutral\",\"Neutral\",\"Negative\",\"Positive\",\"Negative\",\"Neutral\",\"Negative\",\"Negative\",\"Positive\",\"Negative\",\"Negative\",\"Positive\",\"Positive\",\"Positive\",\"Negative\",\"Positive\",\"Neutral\",\"Neutral\",\"Negative\",\"Negative\",\"Negative\",\"Positive\",\"Positive\",\"Positive\",\"Negative\",\"Positive\",\"Positive\",\"Negative\",\"Positive\",\"Negative\",\"Positive\",\"Positive\",\"Neutral\",\"Neutral\",\"Positive\",\"Negative\",\"Positive\",\"Neutral\",\"Negative\",\"Positive\",\"Neutral\",\"Positive\",\"Negative\",\"Neutral\",\"Positive\",\"Neutral\",\"Negative\",\"Positive\",\"Positive\",\"Positive\",\"Negative\",\"Positive\",\"Positive\",\"Neutral\",\"Positive\",\"Positive\",\"Neutral\",\"Negative\",\"Positive\",\"Neutral\",\"Negative\",\"Neutral\",\"Neutral\",\"Neutral\",\"Negative\",\"Positive\",\"Negative\",\"Negative\",\"Positive\",\"Positive\",\"Neutral\",\"Neutral\",\"Negative\",\"Neutral\",\"Positive\",\"Negative\",\"Positive\",\"Positive\",\"Positive\",\"Neutral\",\"Neutral\",\"Positive\",\"Negative\",\"Negative\",\"Positive\",\"Positive\",\"Negative\",\"Positive\",\"Positive\",\"Neutral\",\"Negative\",\"Positive\",\"Negative\",\"Negative\",\"Neutral\",\"Negative\",\"Positive\",\"Neutral\",\"Positive\",\"Positive\",\"Positive\",\"Neutral\",\"Positive\",\"Neutral\",\"Positive\",\"Positive\",\"Positive\",\"Neutral\",\"Negative\",\"Positive\",\"Positive\",\"Negative\",\"Positive\",\"Positive\",\"Positive\",\"Negative\",\"Positive\",\"Negative\",\"Neutral\",\"Neutral\",\"Positive\",\"Positive\",\"Positive\",\"Negative\",\"Positive\",\"Neutral\",\"Negative\",\"Positive\",\"Negative\",\"Negative\",\"Positive\",\"Negative\",\"Negative\",\"Neutral\",\"Neutral\",\"Positive\",\"Positive\",\"Negative\",\"Negative\",\"Neutral\",\"Positive\",\"Neutral\",\"Positive\",\"Positive\",\"Neutral\",\"Neutral\",\"Negative\",\"Negative\",\"Positive\",\"Positive\",\"Negative\",\"Neutral\",\"Neutral\",\"Positive\",\"Neutral\",\"Positive\",\"Neutral\",\"Negative\",\"Negative\",\"Negative\",\"Positive\",\"Positive\",\"Positive\",\"Negative\",\"Negative\",\"Negative\",\"Neutral\",\"Negative\",\"Negative\",\"Positive\",\"Positive\",\"Neutral\",\"Neutral\",\"Neutral\",\"Positive\",\"Positive\",\"Negative\",\"Positive\",\"Negative\",\"Positive\",\"Negative\",\"Negative\",\"Negative\",\"Positive\",\"Neutral\",\"Positive\",\"Neutral\",\"Neutral\",\"Negative\",\"Negative\",\"Negative\",\"Positive\",\"Neutral\",\"Negative\",\"Negative\",\"Positive\",\"Neutral\",\"Negative\",\"Positive\",\"Negative\",\"Positive\",\"Positive\",\"Negative\",\"Negative\",\"Negative\",\"Positive\",\"Neutral\",\"Negative\",\"Positive\",\"Negative\",\"Negative\",\"Positive\",\"Positive\",\"Positive\",\"Negative\",\"Neutral\",\"Positive\",\"Negative\",\"Positive\",\"Negative\",\"Positive\",\"Positive\",\"Neutral\",\"Negative\",\"Positive\",\"Negative\",\"Neutral\",\"Negative\",\"Neutral\",\"Negative\",\"Negative\",\"Neutral\",\"Negative\",\"Negative\",\"Negative\",\"Positive\",\"Negative\",\"Neutral\",\"Negative\",\"Neutral\",\"Negative\",\"Neutral\",\"Positive\",\"Negative\",\"Negative\",\"Negative\",\"Neutral\",\"Positive\",\"Negative\",\"Negative\",\"Neutral\",\"Negative\",\"Neutral\",\"Negative\",\"Positive\",\"Neutral\",\"Negative\",\"Negative\",\"Positive\",\"Negative\",\"Neutral\",\"Negative\",\"Neutral\",\"Negative\",\"Negative\",\"Neutral\",\"Positive\",\"Negative\",\"Positive\",\"Negative\",\"Negative\",\"Neutral\",\"Negative\",\"Negative\",\"Negative\",\"Neutral\",\"Negative\",\"Negative\",\"Negative\",\"Negative\",\"Negative\",\"Neutral\",\"Negative\",\"Neutral\",\"Positive\",\"Positive\",\"Negative\",\"Negative\",\"Positive\",\"Negative\",\"Negative\",\"Positive\",\"Negative\",\"Neutral\",\"Negative\",\"Negative\",\"Negative\",\"Positive\",\"Neutral\",\"Negative\",\"Positive\",\"Negative\",\"Negative\",\"Negative\",\"Positive\",\"Positive\",\"Negative\",\"Positive\",\"Negative\",\"Negative\",\"Negative\",\"Neutral\",\"Negative\",\"Positive\",\"Negative\",\"Positive\",\"Neutral\",\"Neutral\",\"Negative\",\"Negative\",\"Negative\",\"Negative\",\"Negative\",\"Negative\",\"Positive\",\"Negative\",\"Negative\",\"Positive\",\"Negative\",\"Negative\",\"Negative\",\"Positive\",\"Negative\",\"Negative\",\"Positive\",\"Negative\",\"Positive\",\"Negative\",\"Neutral\",\"Negative\",\"Positive\",\"Negative\",\"Negative\",\"Negative\",\"Negative\",\"Negative\",\"Positive\",\"Negative\",\"Negative\",\"Positive\",\"Neutral\",\"Negative\",\"Negative\",\"Negative\",\"Negative\",\"Neutral\",\"Neutral\",\"Negative\",\"Positive\",\"Negative\",\"Negative\",\"Negative\",\"Negative\",\"Negative\",\"Negative\",\"Neutral\",\"Positive\",\"Positive\",\"Neutral\",\"Neutral\",\"Positive\",\"Negative\",\"Positive\",\"Neutral\",\"Positive\",\"Negative\",\"Negative\",\"Negative\",\"Neutral\",\"Neutral\",\"Positive\",\"Negative\",\"Negative\",\"Negative\",\"Neutral\",\"Positive\",\"Positive\",\"Negative\",\"Negative\",\"Neutral\",\"Negative\",\"Negative\",\"Neutral\",\"Negative\",\"Neutral\",\"Positive\",\"Positive\",\"Negative\",\"Positive\",\"Negative\",\"Negative\",\"Positive\",\"Neutral\",\"Neutral\",\"Negative\",\"Neutral\",\"Negative\",\"Negative\",\"Negative\",\"Negative\",\"Negative\",\"Positive\",\"Positive\",\"Negative\",\"Neutral\",\"Neutral\",\"Negative\",\"Negative\",\"Neutral\",\"Neutral\",\"Negative\",\"Positive\",\"Negative\",\"Negative\",\"Negative\",\"Negative\",\"Negative\",\"Negative\",\"Negative\",\"Negative\",\"Positive\",\"Neutral\",\"Neutral\",\"Negative\",\"Negative\",\"Positive\",\"Negative\",\"Negative\",\"Negative\",\"Neutral\",\"Negative\",\"Neutral\",\"Positive\",\"Positive\",\"Negative\",\"Positive\",\"Negative\",\"Neutral\",\"Negative\",\"Positive\",\"Positive\",\"Negative\",\"Positive\",\"Positive\",\"Positive\",\"Neutral\",\"Negative\",\"Negative\",\"Positive\",\"Negative\",\"Negative\",\"Negative\",\"Negative\",\"Negative\",\"Neutral\",\"Negative\",\"Negative\",\"Negative\",\"Negative\",\"Negative\",\"Neutral\",\"Neutral\",\"Negative\",\"Neutral\",\"Negative\",\"Negative\",\"Neutral\",\"Negative\",\"Negative\",\"Positive\",\"Negative\",\"Positive\",\"Neutral\",\"Neutral\",\"Positive\",\"Negative\",\"Negative\",\"Positive\",\"Negative\",\"Positive\",\"Negative\",\"Positive\",\"Positive\",\"Positive\",\"Positive\",\"Positive\",\"Negative\",\"Negative\",\"Negative\",\"Neutral\",\"Negative\",\"Neutral\",\"Positive\",\"Negative\",\"Negative\",\"Positive\",\"Neutral\",\"Negative\",\"Positive\",\"Neutral\",\"Positive\",\"Positive\",\"Positive\",\"Positive\",\"Neutral\",\"Negative\",\"Neutral\",\"Negative\",\"Negative\",\"Negative\",\"Negative\",\"Positive\",\"Positive\",\"Neutral\",\"Positive\",\"Negative\",\"Negative\",\"Negative\",\"Negative\",\"Positive\",\"Positive\",\"Negative\",\"Positive\",\"Negative\",\"Neutral\",\"Neutral\",\"Negative\",\"Positive\",\"Positive\",\"Neutral\",\"Positive\",\"Neutral\",\"Neutral\",\"Neutral\",\"Negative\",\"Positive\",\"Positive\",\"Positive\",\"Neutral\",\"Positive\",\"Positive\",\"Positive\",\"Negative\",\"Positive\",\"Positive\",\"Positive\",\"Neutral\",\"Positive\",\"Neutral\",\"Positive\",\"Positive\",\"Negative\",\"Negative\",\"Negative\",\"Neutral\",\"Neutral\",\"Positive\",\"Positive\",\"Neutral\",\"Positive\",\"Negative\",\"Negative\",\"Negative\",\"Positive\",\"Positive\",\"Positive\",\"Negative\",\"Positive\",\"Positive\",\"Neutral\",\"Negative\",\"Negative\",\"Neutral\",\"Positive\",\"Positive\",\"Positive\",\"Positive\",\"Negative\",\"Neutral\",\"Negative\",\"Positive\",\"Negative\",\"Neutral\",\"Negative\",\"Positive\",\"Neutral\",\"Positive\",\"Negative\",\"Neutral\",\"Positive\",\"Positive\",\"Neutral\",\"Positive\",\"Positive\",\"Neutral\",\"Positive\",\"Negative\",\"Neutral\",\"Neutral\",\"Negative\",\"Neutral\",\"Negative\",\"Positive\",\"Positive\",\"Positive\",\"Neutral\",\"Negative\",\"Negative\",\"Negative\",\"Positive\",\"Positive\",\"Positive\",\"Negative\",\"Positive\",\"Positive\",\"Positive\",\"Positive\",\"Positive\",\"Neutral\",\"Negative\",\"Negative\",\"Negative\",\"Negative\",\"Neutral\",\"Positive\",\"Neutral\",\"Positive\",\"Neutral\",\"Negative\",\"Neutral\",\"Positive\",\"Neutral\",\"Positive\",\"Negative\",\"Negative\",\"Neutral\",\"Positive\",\"Negative\",\"Positive\",\"Neutral\",\"Negative\",\"Positive\",\"Neutral\",\"Positive\",\"Neutral\",\"Negative\",\"Positive\",\"Positive\",\"Positive\",\"Negative\",\"Positive\",\"Negative\",\"Neutral\",\"Positive\",\"Positive\",\"Neutral\",\"Positive\",\"Negative\",\"Neutral\",\"Positive\",\"Negative\",\"Negative\",\"Negative\",\"Negative\",\"Negative\",\"Neutral\",\"Positive\",\"Positive\",\"Negative\",\"Positive\",\"Neutral\",\"Negative\",\"Neutral\",\"Negative\",\"Negative\",\"Negative\",\"Negative\",\"Positive\",\"Neutral\",\"Neutral\",\"Negative\",\"Positive\",\"Negative\",\"Neutral\",\"Positive\",\"Positive\",\"Neutral\",\"Positive\",\"Positive\",\"Neutral\",\"Positive\",\"Neutral\",\"Positive\",\"Neutral\",\"Positive\",\"Negative\",\"Positive\",\"Neutral\",\"Neutral\",\"Neutral\",\"Positive\",\"Neutral\",\"Negative\",\"Neutral\",\"Negative\",\"Neutral\",\"Positive\",\"Negative\",\"Positive\",\"Positive\",\"Positive\",\"Neutral\",\"Neutral\",\"Neutral\",\"Positive\",\"Positive\",\"Positive\",\"Neutral\",\"Positive\",\"Neutral\",\"Negative\",\"Positive\",\"Negative\",\"Positive\",\"Negative\",\"Positive\",\"Neutral\",\"Neutral\",\"Positive\",\"Negative\",\"Negative\",\"Negative\",\"Positive\",\"Positive\",\"Positive\",\"Negative\",\"Neutral\",\"Negative\",\"Negative\",\"Positive\",\"Positive\",\"Negative\",\"Neutral\",\"Neutral\",\"Neutral\",\"Neutral\",\"Negative\",\"Positive\",\"Positive\",\"Negative\",\"Neutral\",\"Positive\",\"Positive\",\"Neutral\",\"Positive\",\"Neutral\",\"Positive\",\"Negative\",\"Negative\",\"Negative\",\"Positive\",\"Neutral\",\"Neutral\",\"Negative\",\"Neutral\",\"Neutral\",\"Positive\",\"Neutral\",\"Positive\",\"Positive\",\"Neutral\",\"Positive\",\"Positive\",\"Neutral\",\"Negative\",\"Negative\",\"Positive\",\"Negative\",\"Neutral\",\"Negative\",\"Positive\",\"Positive\",\"Positive\",\"Positive\",\"Positive\",\"Negative\",\"Positive\",\"Positive\",\"Positive\",\"Positive\",\"Positive\",\"Negative\",\"Positive\",\"Negative\",\"Negative\",\"Positive\",\"Positive\",\"Negative\",\"Negative\",\"Neutral\",\"Positive\",\"Positive\",\"Negative\",\"Negative\",\"Negative\",\"Positive\",\"Positive\",\"Positive\",\"Positive\",\"Positive\",\"Positive\",\"Negative\",\"Negative\",\"Neutral\",\"Positive\",\"Neutral\",\"Positive\",\"Positive\",\"Negative\",\"Negative\",\"Negative\",\"Positive\",\"Neutral\",\"Neutral\",\"Positive\",\"Negative\",\"Negative\",\"Positive\",\"Positive\",\"Positive\",\"Positive\",\"Negative\",\"Positive\",\"Positive\",\"Neutral\",\"Negative\",\"Negative\",\"Positive\",\"Positive\",\"Positive\",\"Positive\",\"Negative\",\"Positive\",\"Positive\",\"Negative\",\"Positive\",\"Neutral\",\"Positive\",\"Positive\",\"Positive\",\"Positive\",\"Negative\",\"Negative\",\"Negative\",\"Negative\",\"Negative\",\"Positive\",\"Positive\",\"Neutral\",\"Negative\",\"Negative\",\"Neutral\",\"Positive\",\"Negative\",\"Positive\",\"Neutral\",\"Neutral\",\"Positive\",\"Positive\",\"Positive\",\"Positive\",\"Positive\",\"Positive\",\"Positive\",\"Neutral\",\"Positive\",\"Positive\",\"Positive\",\"Negative\",\"Positive\",\"Neutral\",\"Negative\",\"Positive\",\"Positive\",\"Neutral\",\"Neutral\",\"Positive\",\"Positive\",\"Negative\",\"Positive\",\"Positive\",\"Negative\",\"Positive\",\"Negative\",\"Neutral\",\"Neutral\",\"Positive\",\"Negative\",\"Positive\",\"Neutral\",\"Neutral\",\"Negative\",\"Negative\",\"Positive\",\"Negative\",\"Neutral\",\"Neutral\",\"Positive\",\"Neutral\",\"Positive\",\"Neutral\",\"Positive\",\"Negative\",\"Positive\",\"Negative\",\"Positive\",\"Positive\",\"Positive\",\"Positive\",\"Negative\",\"Neutral\",\"Negative\",\"Neutral\",\"Positive\",\"Negative\",\"Positive\",\"Positive\",\"Negative\",\"Negative\",\"Negative\",\"Positive\",\"Negative\",\"Negative\",\"Positive\",\"Positive\",\"Negative\",\"Positive\",\"Neutral\",\"Negative\",\"Neutral\",\"Positive\",\"Negative\",\"Positive\",\"Negative\",\"Negative\",\"Positive\",\"Negative\",\"Negative\",\"Negative\",\"Positive\",\"Neutral\",\"Negative\",\"Negative\",\"Positive\",\"Positive\",\"Positive\",\"Positive\",\"Positive\",\"Neutral\",\"Negative\",\"Negative\",\"Neutral\",\"Positive\",\"Positive\",\"Negative\",\"Negative\",\"Positive\",\"Negative\",\"Positive\",\"Negative\",\"Neutral\",\"Negative\",\"Neutral\",\"Neutral\",\"Negative\",\"Negative\",\"Neutral\",\"Neutral\",\"Neutral\",\"Positive\",\"Positive\",\"Positive\",\"Neutral\",\"Negative\",\"Negative\",\"Negative\",\"Neutral\",\"Negative\",\"Positive\",\"Positive\",\"Positive\",\"Negative\",\"Positive\",\"Negative\",\"Positive\",\"Neutral\",\"Positive\",\"Neutral\",\"Positive\",\"Negative\",\"Negative\",\"Negative\",\"Positive\",\"Neutral\",\"Neutral\",\"Negative\",\"Negative\",\"Neutral\",\"Negative\",\"Neutral\",\"Positive\",\"Positive\",\"Neutral\",\"Negative\",\"Negative\",\"Positive\",\"Negative\",\"Negative\",\"Negative\",\"Neutral\",\"Negative\",\"Negative\",\"Negative\",\"Negative\",\"Negative\",\"Negative\",\"Neutral\",\"Positive\",\"Neutral\",\"Neutral\",\"Neutral\",\"Positive\",\"Negative\",\"Negative\",\"Positive\",\"Negative\",\"Positive\",\"Negative\",\"Positive\",\"Negative\",\"Positive\",\"Negative\",\"Positive\",\"Positive\",\"Positive\",\"Positive\",\"Neutral\",\"Positive\",\"Negative\",\"Negative\",\"Neutral\",\"Neutral\",\"Positive\",\"Positive\",\"Negative\",\"Positive\",\"Positive\",\"Negative\",\"Negative\",\"Neutral\",\"Negative\",\"Positive\",\"Neutral\",\"Negative\",\"Negative\",\"Negative\",\"Positive\",\"Positive\",\"Positive\",\"Positive\",\"Negative\",\"Positive\",\"Neutral\",\"Negative\",\"Neutral\",\"Positive\",\"Neutral\",\"Positive\",\"Positive\",\"Neutral\",\"Positive\",\"Negative\",\"Negative\",\"Positive\",\"Positive\",\"Positive\",\"Neutral\",\"Neutral\",\"Negative\",\"Negative\",\"Neutral\",\"Positive\",\"Negative\",\"Neutral\",\"Positive\",\"Positive\",\"Neutral\",\"Neutral\",\"Positive\",\"Positive\",\"Positive\",\"Positive\",\"Neutral\",\"Negative\",\"Neutral\",\"Neutral\",\"Neutral\",\"Negative\",\"Positive\",\"Positive\",\"Negative\",\"Positive\",\"Negative\",\"Negative\",\"Neutral\",\"Negative\",\"Negative\",\"Negative\",\"Neutral\",\"Positive\",\"Negative\",\"Neutral\",\"Negative\",\"Neutral\",\"Positive\",\"Positive\",\"Positive\",\"Neutral\",\"Positive\",\"Positive\",\"Negative\",\"Positive\",\"Positive\",\"Negative\",\"Neutral\",\"Positive\",\"Positive\",\"Positive\",\"Negative\",\"Negative\",\"Neutral\",\"Negative\",\"Negative\",\"Neutral\",\"Negative\",\"Neutral\",\"Negative\",\"Positive\",\"Negative\",\"Negative\",\"Positive\",\"Negative\",\"Positive\",\"Positive\",\"Positive\",\"Positive\",\"Negative\",\"Negative\",\"Positive\",\"Negative\",\"Positive\",\"Neutral\",\"Negative\",\"Positive\",\"Negative\",\"Positive\",\"Negative\",\"Negative\",\"Positive\",\"Positive\",\"Negative\",\"Positive\",\"Negative\",\"Neutral\",\"Negative\",\"Positive\",\"Neutral\",\"Negative\",\"Positive\",\"Positive\",\"Positive\",\"Positive\",\"Negative\",\"Positive\",\"Neutral\",\"Positive\",\"Positive\",\"Negative\",\"Negative\",\"Positive\",\"Negative\",\"Positive\",\"Positive\",\"Negative\",\"Neutral\",\"Positive\",\"Negative\",\"Positive\",\"Negative\",\"Neutral\",\"Negative\",\"Neutral\",\"Positive\",\"Positive\",\"Positive\",\"Neutral\",\"Neutral\",\"Negative\",\"Positive\",\"Positive\",\"Neutral\",\"Negative\",\"Neutral\",\"Negative\",\"Neutral\",\"Negative\",\"Negative\",\"Negative\",\"Negative\",\"Negative\",\"Positive\",\"Negative\",\"Positive\",\"Neutral\",\"Positive\",\"Positive\",\"Positive\",\"Negative\",\"Positive\",\"Negative\",\"Negative\",\"Negative\",\"Positive\",\"Positive\",\"Negative\",\"Positive\",\"Positive\",\"Positive\",\"Positive\",\"Positive\",\"Positive\",\"Negative\",\"Negative\",\"Positive\",\"Negative\",\"Positive\",\"Positive\",\"Negative\",\"Positive\",\"Neutral\",\"Neutral\",\"Neutral\",\"Negative\",\"Positive\",\"Neutral\",\"Negative\",\"Positive\",\"Positive\",\"Neutral\",\"Positive\",\"Negative\",\"Positive\",\"Negative\",\"Negative\",\"Positive\",\"Positive\",\"Negative\",\"Positive\",\"Negative\",\"Positive\",\"Positive\",\"Neutral\",\"Negative\",\"Positive\",\"Positive\",\"Neutral\",\"Positive\",\"Positive\",\"Neutral\",\"Negative\",\"Negative\",\"Negative\",\"Neutral\",\"Neutral\",\"Negative\",\"Positive\",\"Positive\",\"Negative\",\"Negative\",\"Neutral\",\"Positive\",\"Neutral\",\"Neutral\",\"Neutral\",\"Negative\",\"Negative\",\"Negative\",\"Positive\",\"Negative\",\"Positive\",\"Negative\",\"Positive\",\"Positive\",\"Negative\",\"Positive\",\"Negative\",\"Positive\",\"Negative\",\"Positive\",\"Negative\",\"Positive\",\"Positive\",\"Positive\",\"Negative\",\"Neutral\",\"Neutral\",\"Negative\",\"Negative\",\"Positive\",\"Negative\",\"Neutral\",\"Negative\",\"Positive\",\"Positive\",\"Positive\",\"Negative\",\"Positive\",\"Positive\",\"Positive\",\"Positive\",\"Neutral\",\"Positive\",\"Positive\",\"Neutral\",\"Neutral\",\"Neutral\",\"Neutral\",\"Positive\",\"Positive\",\"Positive\",\"Positive\",\"Negative\",\"Positive\",\"Positive\",\"Positive\",\"Neutral\",\"Neutral\",\"Negative\",\"Negative\",\"Negative\",\"Positive\",\"Positive\",\"Positive\",\"Positive\",\"Negative\",\"Positive\",\"Negative\",\"Positive\",\"Positive\",\"Negative\",\"Negative\",\"Negative\",\"Positive\",\"Positive\",\"Negative\",\"Negative\",\"Neutral\",\"Negative\",\"Neutral\",\"Neutral\",\"Negative\",\"Positive\",\"Positive\",\"Negative\",\"Neutral\",\"Negative\",\"Positive\",\"Positive\",\"Positive\",\"Positive\",\"Negative\",\"Negative\",\"Positive\",\"Positive\",\"Negative\",\"Positive\",\"Neutral\",\"Positive\",\"Neutral\",\"Positive\",\"Positive\",\"Positive\",\"Neutral\",\"Positive\",\"Negative\",\"Positive\",\"Neutral\",\"Neutral\",\"Negative\",\"Neutral\",\"Negative\",\"Negative\",\"Positive\",\"Neutral\",\"Negative\",\"Negative\",\"Neutral\",\"Positive\",\"Positive\",\"Neutral\",\"Positive\",\"Negative\",\"Negative\",\"Negative\",\"Positive\",\"Negative\",\"Neutral\",\"Negative\",\"Positive\",\"Neutral\",\"Positive\",\"Positive\",\"Positive\",\"Negative\",\"Negative\",\"Negative\",\"Positive\",\"Negative\",\"Positive\",\"Positive\",\"Neutral\",\"Negative\",\"Negative\",\"Negative\",\"Positive\",\"Neutral\",\"Negative\",\"Positive\",\"Negative\",\"Neutral\",\"Positive\",\"Positive\",\"Negative\",\"Positive\",\"Positive\",\"Positive\",\"Negative\",\"Positive\",\"Negative\",\"Negative\",\"Positive\",\"Positive\",\"Neutral\",\"Negative\",\"Neutral\",\"Negative\",\"Positive\",\"Negative\",\"Negative\",\"Neutral\",\"Neutral\",\"Negative\",\"Positive\",\"Positive\",\"Negative\",\"Negative\",\"Neutral\",\"Positive\",\"Negative\",\"Positive\",\"Negative\",\"Negative\",\"Neutral\",\"Neutral\",\"Positive\",\"Positive\",\"Neutral\",\"Neutral\",\"Negative\",\"Positive\",\"Neutral\",\"Positive\",\"Positive\",\"Positive\",\"Positive\",\"Neutral\",\"Negative\",\"Negative\",\"Neutral\",\"Positive\",\"Neutral\",\"Positive\",\"Positive\",\"Negative\",\"Positive\",\"Negative\",\"Neutral\",\"Positive\",\"Neutral\",\"Positive\",\"Positive\",\"Neutral\",\"Neutral\",\"Positive\",\"Positive\",\"Positive\",\"Positive\",\"Positive\",\"Negative\",\"Positive\",\"Neutral\",\"Neutral\",\"Negative\",\"Positive\",\"Positive\",\"Negative\",\"Negative\",\"Neutral\",\"Positive\",\"Neutral\",\"Negative\",\"Positive\",\"Positive\",\"Positive\",\"Positive\",\"Negative\",\"Positive\",\"Positive\",\"Positive\",\"Negative\",\"Positive\",\"Positive\",\"Positive\",\"Positive\",\"Negative\",\"Positive\",\"Negative\",\"Positive\",\"Positive\",\"Positive\",\"Positive\",\"Positive\",\"Positive\",\"Neutral\",\"Negative\",\"Neutral\",\"Positive\",\"Neutral\",\"Negative\",\"Positive\",\"Positive\",\"Neutral\",\"Positive\",\"Neutral\",\"Neutral\",\"Positive\",\"Neutral\",\"Positive\",\"Negative\",\"Negative\",\"Negative\",\"Neutral\",\"Neutral\",\"Negative\",\"Positive\",\"Neutral\",\"Neutral\",\"Positive\",\"Positive\",\"Negative\",\"Negative\",\"Negative\",\"Positive\",\"Positive\",\"Neutral\",\"Neutral\",\"Positive\",\"Negative\",\"Positive\",\"Neutral\",\"Neutral\",\"Neutral\",\"Neutral\",\"Positive\",\"Neutral\",\"Positive\",\"Positive\",\"Negative\",\"Negative\",\"Neutral\",\"Negative\",\"Positive\",\"Positive\",\"Neutral\",\"Positive\",\"Positive\",\"Positive\",\"Positive\",\"Positive\",\"Neutral\",\"Positive\",\"Neutral\",\"Neutral\",\"Neutral\",\"Neutral\",\"Positive\",\"Neutral\",\"Positive\",\"Negative\",\"Negative\",\"Negative\",\"Positive\",\"Negative\",\"Positive\",\"Negative\",\"Negative\",\"Negative\",\"Positive\",\"Negative\",\"Negative\",\"Negative\",\"Positive\",\"Positive\",\"Negative\",\"Positive\",\"Positive\",\"Positive\",\"Positive\",\"Negative\",\"Negative\",\"Neutral\",\"Positive\",\"Positive\",\"Positive\",\"Positive\",\"Positive\",\"Neutral\",\"Neutral\",\"Negative\",\"Positive\",\"Neutral\",\"Positive\",\"Negative\",\"Neutral\",\"Negative\",\"Positive\",\"Neutral\",\"Positive\",\"Negative\",\"Positive\",\"Positive\",\"Positive\",\"Neutral\",\"Neutral\",\"Positive\",\"Positive\",\"Positive\",\"Positive\",\"Positive\",\"Neutral\",\"Neutral\",\"Negative\",\"Negative\",\"Neutral\",\"Negative\",\"Negative\",\"Positive\",\"Neutral\",\"Negative\",\"Positive\",\"Negative\",\"Neutral\",\"Negative\",\"Positive\",\"Negative\",\"Positive\",\"Negative\",\"Neutral\",\"Neutral\",\"Neutral\",\"Neutral\",\"Neutral\",\"Negative\",\"Negative\",\"Positive\",\"Positive\",\"Negative\",\"Neutral\",\"Negative\",\"Neutral\",\"Positive\",\"Positive\",\"Positive\",\"Neutral\",\"Negative\",\"Positive\",\"Positive\",\"Positive\",\"Neutral\",\"Negative\",\"Neutral\",\"Negative\",\"Positive\",\"Positive\",\"Positive\",\"Negative\",\"Negative\",\"Positive\",\"Negative\",\"Negative\",\"Negative\",\"Neutral\",\"Negative\",\"Positive\",\"Neutral\",\"Negative\",\"Positive\",\"Positive\",\"Positive\",\"Positive\",\"Negative\",\"Positive\",\"Positive\",\"Positive\",\"Neutral\",\"Neutral\",\"Positive\",\"Negative\",\"Negative\",\"Positive\",\"Negative\",\"Negative\",\"Positive\",\"Positive\",\"Positive\",\"Positive\",\"Positive\",\"Positive\",\"Neutral\",\"Negative\",\"Positive\",\"Neutral\",\"Negative\",\"Positive\",\"Negative\",\"Positive\",\"Positive\",\"Negative\",\"Neutral\",\"Negative\",\"Negative\",\"Neutral\",\"Neutral\",\"Neutral\",\"Negative\",\"Positive\",\"Negative\",\"Negative\",\"Positive\",\"Positive\",\"Positive\",\"Positive\",\"Negative\",\"Neutral\",\"Positive\",\"Positive\",\"Positive\",\"Negative\",\"Neutral\",\"Negative\",\"Positive\",\"Neutral\",\"Positive\",\"Neutral\",\"Neutral\",\"Negative\",\"Neutral\",\"Positive\",\"Positive\",\"Positive\",\"Positive\",\"Negative\",\"Positive\",\"Neutral\",\"Neutral\",\"Negative\",\"Negative\",\"Positive\",\"Negative\",\"Negative\",\"Neutral\",\"Negative\",\"Negative\",\"Neutral\",\"Positive\",\"Neutral\",\"Neutral\",\"Positive\",\"Neutral\",\"Positive\",\"Positive\",\"Positive\",\"Positive\",\"Neutral\",\"Positive\",\"Positive\",\"Positive\",\"Neutral\",\"Positive\",\"Neutral\",\"Neutral\",\"Negative\",\"Positive\",\"Negative\",\"Negative\",\"Neutral\",\"Negative\",\"Positive\",\"Positive\",\"Neutral\",\"Positive\",\"Positive\",\"Neutral\",\"Positive\",\"Positive\",\"Positive\",\"Positive\",\"Positive\",\"Neutral\",\"Positive\",\"Neutral\",\"Negative\",\"Neutral\",\"Negative\",\"Positive\",\"Negative\",\"Positive\",\"Positive\",\"Neutral\",\"Negative\",\"Positive\",\"Negative\",\"Positive\",\"Positive\",\"Negative\",\"Positive\",\"Neutral\",\"Neutral\",\"Negative\",\"Negative\",\"Positive\",\"Positive\",\"Positive\",\"Positive\",\"Neutral\",\"Positive\",\"Positive\",\"Positive\",\"Negative\",\"Neutral\",\"Positive\",\"Neutral\",\"Positive\",\"Positive\",\"Neutral\",\"Positive\",\"Negative\",\"Positive\",\"Negative\",\"Positive\",\"Positive\",\"Negative\",\"Neutral\",\"Neutral\",\"Positive\",\"Positive\",\"Positive\",\"Positive\",\"Positive\",\"Positive\",\"Positive\",\"Positive\",\"Positive\",\"Negative\",\"Negative\",\"Neutral\",\"Positive\",\"Positive\",\"Negative\",\"Neutral\",\"Positive\",\"Negative\",\"Positive\",\"Neutral\",\"Positive\",\"Positive\",\"Positive\",\"Neutral\",\"Neutral\",\"Positive\",\"Neutral\",\"Positive\",\"Negative\",\"Positive\",\"Positive\",\"Positive\",\"Negative\",\"Positive\",\"Positive\",\"Negative\",\"Neutral\",\"Negative\",\"Negative\",\"Positive\",\"Negative\",\"Negative\",\"Positive\",\"Positive\",\"Positive\",\"Positive\",\"Positive\",\"Positive\",\"Negative\",\"Neutral\",\"Negative\",\"Neutral\",\"Neutral\",\"Positive\",\"Positive\",\"Neutral\",\"Neutral\",\"Positive\",\"Negative\",\"Positive\",\"Positive\",\"Positive\",\"Negative\",\"Positive\",\"Positive\",\"Negative\",\"Negative\",\"Positive\",\"Neutral\",\"Positive\",\"Positive\",\"Positive\",\"Positive\",\"Positive\",\"Positive\",\"Neutral\",\"Negative\",\"Negative\",\"Positive\",\"Neutral\",\"Positive\",\"Positive\",\"Positive\",\"Neutral\",\"Neutral\",\"Negative\",\"Positive\",\"Neutral\",\"Neutral\",\"Negative\",\"Positive\",\"Positive\",\"Negative\",\"Positive\",\"Neutral\",\"Positive\",\"Neutral\",\"Neutral\",\"Negative\",\"Positive\",\"Positive\",\"Positive\",\"Neutral\",\"Negative\",\"Positive\",\"Neutral\",\"Positive\",\"Negative\",\"Positive\",\"Positive\",\"Positive\",\"Positive\",\"Positive\",\"Negative\",\"Neutral\",\"Positive\",\"Positive\",\"Positive\",\"Negative\",\"Neutral\",\"Negative\",\"Positive\",\"Positive\",\"Positive\",\"Negative\",\"Neutral\",\"Neutral\",\"Negative\",\"Negative\",\"Positive\",\"Positive\",\"Negative\",\"Negative\",\"Neutral\",\"Negative\",\"Negative\",\"Neutral\",\"Positive\",\"Positive\",\"Negative\",\"Positive\",\"Positive\",\"Negative\",\"Positive\",\"Positive\",\"Positive\",\"Positive\",\"Neutral\",\"Neutral\",\"Negative\",\"Negative\",\"Positive\",\"Positive\",\"Neutral\",\"Negative\",\"Negative\",\"Positive\",\"Positive\",\"Negative\",\"Negative\",\"Negative\",\"Negative\",\"Positive\",\"Neutral\",\"Negative\",\"Positive\",\"Negative\",\"Negative\",\"Positive\",\"Neutral\",\"Positive\",\"Positive\",\"Neutral\",\"Negative\",\"Positive\",\"Negative\",\"Positive\",\"Negative\",\"Negative\",\"Negative\",\"Positive\",\"Positive\",\"Positive\",\"Positive\",\"Neutral\",\"Neutral\",\"Positive\",\"Neutral\",\"Negative\",\"Positive\",\"Neutral\",\"Positive\",\"Negative\",\"Negative\",\"Negative\",\"Negative\",\"Negative\",\"Neutral\",\"Neutral\",\"Negative\",\"Positive\",\"Negative\",\"Negative\",\"Neutral\",\"Negative\",\"Negative\",\"Negative\",\"Positive\",\"Positive\",\"Negative\",\"Neutral\",\"Negative\",\"Negative\",\"Positive\",\"Negative\",\"Negative\",\"Negative\",\"Negative\",\"Negative\",\"Negative\",\"Neutral\",\"Positive\",\"Neutral\",\"Negative\",\"Neutral\",\"Neutral\",\"Positive\",\"Neutral\",\"Neutral\",\"Positive\",\"Positive\",\"Neutral\",\"Positive\",\"Negative\",\"Positive\",\"Negative\",\"Negative\",\"Positive\",\"Neutral\",\"Positive\",\"Negative\",\"Positive\",\"Negative\",\"Positive\",\"Positive\",\"Neutral\",\"Negative\",\"Positive\",\"Positive\",\"Negative\",\"Negative\",\"Positive\",\"Negative\",\"Negative\",\"Negative\",\"Negative\",\"Negative\",\"Neutral\",\"Negative\",\"Positive\",\"Positive\",\"Negative\",\"Negative\",\"Negative\",\"Positive\",\"Negative\",\"Negative\",\"Negative\",\"Positive\",\"Positive\",\"Neutral\",\"Positive\",\"Positive\",\"Negative\",\"Negative\",\"Positive\",\"Positive\",\"Positive\",\"Neutral\",\"Positive\",\"Negative\",\"Positive\",\"Negative\",\"Positive\",\"Negative\",\"Neutral\",\"Positive\",\"Positive\",\"Negative\",\"Positive\",\"Neutral\",\"Negative\",\"Positive\",\"Neutral\",\"Positive\",\"Neutral\",\"Neutral\",\"Positive\",\"Positive\",\"Negative\",\"Positive\",\"Positive\",\"Neutral\",\"Neutral\",\"Negative\",\"Neutral\",\"Positive\",\"Positive\",\"Positive\",\"Positive\",\"Positive\",\"Positive\",\"Positive\",\"Neutral\",\"Positive\",\"Negative\",\"Negative\",\"Positive\",\"Neutral\",\"Neutral\",\"Positive\",\"Negative\",\"Neutral\",\"Positive\",\"Negative\",\"Negative\",\"Negative\",\"Positive\",\"Neutral\",\"Neutral\",\"Negative\",\"Neutral\",\"Negative\",\"Negative\",\"Positive\",\"Positive\",\"Neutral\",\"Positive\",\"Negative\",\"Negative\",\"Negative\",\"Negative\",\"Neutral\",\"Neutral\",\"Negative\",\"Neutral\",\"Neutral\",\"Neutral\",\"Negative\",\"Positive\",\"Neutral\",\"Neutral\",\"Neutral\",\"Negative\",\"Positive\",\"Negative\",\"Positive\",\"Neutral\",\"Positive\",\"Positive\",\"Positive\",\"Negative\",\"Negative\",\"Negative\",\"Positive\",\"Positive\",\"Neutral\",\"Neutral\",\"Neutral\",\"Positive\",\"Neutral\",\"Neutral\",\"Neutral\",\"Neutral\",\"Positive\",\"Negative\",\"Negative\",\"Positive\",\"Negative\",\"Negative\",\"Positive\",\"Positive\",\"Negative\",\"Negative\",\"Positive\",\"Positive\",\"Neutral\",\"Neutral\",\"Positive\",\"Negative\",\"Negative\",\"Negative\",\"Positive\",\"Negative\",\"Positive\",\"Neutral\",\"Positive\",\"Negative\",\"Negative\",\"Neutral\",\"Positive\",\"Negative\",\"Positive\",\"Negative\",\"Negative\",\"Positive\",\"Negative\",\"Positive\",\"Negative\",\"Positive\",\"Neutral\",\"Positive\",\"Neutral\",\"Neutral\",\"Positive\",\"Negative\",\"Negative\",\"Positive\",\"Positive\",\"Negative\",\"Positive\",\"Negative\",\"Positive\",\"Neutral\",\"Negative\",\"Positive\",\"Positive\",\"Positive\",\"Positive\",\"Negative\",\"Negative\",\"Negative\",\"Positive\",\"Negative\",\"Neutral\",\"Positive\",\"Positive\",\"Negative\",\"Negative\",\"Negative\",\"Negative\",\"Positive\",\"Negative\",\"Negative\",\"Negative\",\"Positive\",\"Positive\",\"Positive\",\"Negative\",\"Neutral\",\"Positive\",\"Neutral\",\"Neutral\",\"Positive\",\"Negative\",\"Negative\",\"Negative\",\"Positive\",\"Positive\",\"Neutral\",\"Positive\",\"Neutral\",\"Positive\",\"Neutral\",\"Neutral\",\"Positive\",\"Positive\",\"Positive\",\"Negative\",\"Negative\",\"Negative\",\"Neutral\",\"Positive\",\"Positive\",\"Neutral\",\"Positive\",\"Negative\",\"Positive\",\"Positive\",\"Negative\",\"Negative\",\"Negative\",\"Negative\",\"Neutral\",\"Positive\",\"Positive\",\"Neutral\",\"Positive\",\"Negative\",\"Positive\",\"Neutral\",\"Negative\",\"Negative\",\"Positive\",\"Negative\",\"Negative\",\"Positive\",\"Positive\",\"Positive\",\"Neutral\",\"Positive\",\"Negative\",\"Neutral\",\"Neutral\",\"Negative\",\"Positive\",\"Positive\",\"Positive\",\"Positive\",\"Negative\",\"Positive\",\"Positive\",\"Neutral\",\"Neutral\",\"Neutral\",\"Negative\",\"Neutral\",\"Neutral\",\"Positive\",\"Positive\",\"Positive\",\"Positive\",\"Positive\",\"Positive\",\"Negative\",\"Positive\",\"Negative\",\"Neutral\",\"Positive\",\"Neutral\",\"Positive\",\"Positive\",\"Negative\",\"Neutral\",\"Positive\",\"Positive\",\"Positive\",\"Negative\",\"Positive\",\"Neutral\",\"Positive\",\"Positive\",\"Positive\",\"Negative\",\"Positive\",\"Neutral\",\"Negative\",\"Positive\",\"Negative\",\"Neutral\",\"Positive\",\"Negative\",\"Negative\",\"Positive\",\"Negative\",\"Positive\",\"Positive\",\"Positive\",\"Positive\",\"Positive\",\"Negative\",\"Negative\",\"Neutral\",\"Positive\",\"Positive\",\"Positive\",\"Positive\",\"Negative\",\"Neutral\",\"Positive\",\"Negative\",\"Positive\",\"Positive\",\"Negative\",\"Positive\",\"Positive\",\"Positive\",\"Positive\",\"Neutral\",\"Positive\",\"Neutral\",\"Negative\",\"Positive\",\"Positive\",\"Positive\",\"Neutral\",\"Positive\",\"Positive\",\"Positive\",\"Negative\",\"Neutral\",\"Neutral\",\"Negative\",\"Positive\",\"Negative\",\"Positive\",\"Negative\",\"Negative\",\"Positive\",\"Positive\",\"Positive\",\"Positive\",\"Positive\",\"Positive\",\"Positive\",\"Positive\",\"Positive\",\"Negative\",\"Neutral\",\"Positive\",\"Negative\",\"Neutral\",\"Neutral\",\"Negative\",\"Neutral\",\"Neutral\",\"Neutral\",\"Negative\",\"Positive\",\"Neutral\",\"Neutral\",\"Neutral\",\"Positive\",\"Negative\",\"Neutral\",\"Negative\",\"Positive\",\"Positive\",\"Positive\",\"Positive\",\"Positive\",\"Negative\",\"Neutral\",\"Positive\",\"Positive\",\"Positive\",\"Neutral\",\"Neutral\",\"Negative\",\"Positive\",\"Negative\",\"Positive\",\"Negative\",\"Negative\",\"Positive\",\"Negative\",\"Positive\",\"Positive\",\"Positive\",\"Positive\",\"Negative\",\"Positive\",\"Neutral\",\"Positive\",\"Positive\",\"Positive\",\"Negative\",\"Positive\",\"Negative\",\"Negative\",\"Neutral\",\"Positive\",\"Positive\",\"Positive\",\"Positive\",\"Positive\",\"Neutral\",\"Negative\",\"Negative\",\"Positive\",\"Negative\",\"Positive\",\"Neutral\",\"Positive\",\"Negative\",\"Negative\",\"Positive\",\"Positive\",\"Positive\",\"Positive\",\"Positive\",\"Positive\",\"Positive\",\"Neutral\",\"Positive\",\"Negative\",\"Negative\",\"Positive\",\"Negative\",\"Negative\",\"Negative\",\"Neutral\",\"Negative\",\"Negative\",\"Neutral\",\"Neutral\",\"Positive\",\"Negative\",\"Negative\",\"Negative\",\"Positive\",\"Positive\",\"Negative\",\"Neutral\",\"Positive\",\"Positive\",\"Neutral\",\"Positive\",\"Positive\",\"Positive\",\"Negative\",\"Positive\",\"Positive\",\"Positive\",\"Negative\",\"Positive\",\"Neutral\",\"Negative\",\"Positive\",\"Positive\",\"Positive\",\"Positive\",\"Negative\",\"Neutral\",\"Negative\",\"Negative\",\"Neutral\",\"Positive\",\"Positive\",\"Neutral\",\"Negative\",\"Positive\",\"Positive\",\"Negative\",\"Negative\",\"Negative\",\"Neutral\",\"Neutral\",\"Positive\",\"Positive\",\"Positive\",\"Negative\",\"Negative\",\"Negative\",\"Negative\",\"Positive\",\"Negative\",\"Negative\",\"Negative\",\"Negative\",\"Neutral\",\"Neutral\",\"Positive\",\"Negative\",\"Negative\",\"Neutral\",\"Positive\",\"Positive\",\"Neutral\",\"Positive\",\"Neutral\",\"Positive\",\"Positive\",\"Positive\",\"Neutral\",\"Positive\",\"Positive\",\"Neutral\",\"Positive\",\"Negative\",\"Positive\",\"Negative\",\"Negative\",\"Negative\",\"Negative\",\"Negative\",\"Negative\",\"Positive\",\"Positive\",\"Neutral\",\"Negative\",\"Positive\",\"Neutral\",\"Positive\",\"Positive\",\"Negative\",\"Positive\",\"Neutral\",\"Positive\",\"Negative\",\"Negative\",\"Neutral\",\"Negative\",\"Neutral\",\"Negative\",\"Negative\",\"Neutral\",\"Negative\",\"Neutral\",\"Neutral\",\"Neutral\",\"Neutral\",\"Neutral\",\"Negative\",\"Neutral\",\"Neutral\",\"Neutral\",\"Positive\",\"Positive\",\"Negative\",\"Neutral\",\"Negative\",\"Neutral\",\"Negative\",\"Positive\",\"Positive\",\"Positive\",\"Positive\",\"Positive\",\"Positive\",\"Positive\",\"Positive\",\"Neutral\",\"Positive\",\"Positive\",\"Positive\",\"Positive\",\"Positive\",\"Positive\",\"Neutral\",\"Positive\",\"Negative\",\"Neutral\",\"Neutral\",\"Neutral\",\"Negative\",\"Negative\",\"Negative\",\"Neutral\",\"Positive\",\"Positive\",\"Negative\",\"Positive\",\"Negative\",\"Positive\",\"Negative\",\"Negative\",\"Negative\",\"Positive\",\"Negative\",\"Neutral\",\"Positive\",\"Neutral\",\"Neutral\",\"Neutral\",\"Positive\",\"Negative\",\"Positive\",\"Positive\",\"Negative\",\"Negative\",\"Positive\",\"Negative\",\"Negative\",\"Positive\",\"Positive\",\"Positive\",\"Positive\",\"Neutral\",\"Positive\",\"Positive\",\"Positive\",\"Positive\",\"Positive\",\"Positive\",\"Negative\",\"Neutral\",\"Positive\",\"Neutral\",\"Negative\",\"Positive\",\"Positive\",\"Positive\",\"Positive\",\"Positive\",\"Negative\",\"Negative\",\"Neutral\",\"Negative\",\"Neutral\",\"Positive\",\"Positive\",\"Negative\",\"Positive\",\"Positive\",\"Positive\",\"Negative\",\"Positive\",\"Negative\",\"Negative\",\"Positive\",\"Positive\",\"Neutral\",\"Negative\",\"Negative\",\"Positive\",\"Positive\",\"Neutral\",\"Neutral\",\"Positive\",\"Negative\",\"Negative\",\"Negative\",\"Neutral\",\"Negative\",\"Negative\",\"Positive\",\"Neutral\",\"Negative\",\"Negative\",\"Positive\",\"Positive\",\"Positive\",\"Negative\",\"Negative\",\"Positive\",\"Positive\",\"Negative\",\"Neutral\",\"Neutral\",\"Positive\",\"Positive\",\"Positive\",\"Negative\",\"Neutral\",\"Negative\",\"Positive\",\"Positive\",\"Positive\",\"Neutral\",\"Positive\",\"Neutral\",\"Positive\",\"Negative\",\"Negative\",\"Positive\",\"Positive\",\"Neutral\",\"Negative\",\"Positive\",\"Negative\",\"Negative\",\"Negative\",\"Positive\",\"Negative\",\"Negative\",\"Positive\",\"Positive\",\"Neutral\",\"Negative\",\"Positive\",\"Negative\",\"Positive\",\"Positive\",\"Neutral\",\"Negative\",\"Negative\",\"Neutral\",\"Positive\",\"Neutral\",\"Positive\",\"Positive\",\"Neutral\",\"Negative\",\"Neutral\",\"Negative\",\"Neutral\",\"Negative\",\"Positive\",\"Positive\",\"Neutral\",\"Positive\",\"Negative\",\"Negative\",\"Negative\",\"Negative\",\"Negative\",\"Negative\",\"Neutral\",\"Positive\",\"Negative\",\"Negative\",\"Positive\",\"Positive\",\"Negative\",\"Neutral\",\"Positive\",\"Negative\",\"Positive\",\"Neutral\",\"Positive\",\"Negative\",\"Positive\",\"Positive\",\"Neutral\",\"Negative\",\"Positive\",\"Neutral\",\"Negative\",\"Positive\",\"Positive\",\"Negative\",\"Neutral\",\"Neutral\",\"Positive\",\"Positive\",\"Positive\",\"Positive\",\"Positive\",\"Positive\",\"Positive\",\"Negative\",\"Neutral\",\"Positive\",\"Negative\",\"Negative\",\"Neutral\",\"Positive\",\"Positive\",\"Neutral\",\"Positive\",\"Positive\",\"Positive\",\"Negative\",\"Positive\",\"Positive\",\"Positive\",\"Negative\",\"Positive\",\"Negative\",\"Negative\",\"Positive\",\"Neutral\",\"Neutral\",\"Neutral\",\"Positive\",\"Positive\",\"Negative\",\"Negative\",\"Neutral\",\"Positive\",\"Neutral\",\"Negative\",\"Negative\",\"Positive\",\"Negative\",\"Positive\",\"Positive\",\"Negative\",\"Positive\",\"Positive\",\"Negative\",\"Neutral\",\"Positive\",\"Positive\",\"Negative\",\"Negative\",\"Negative\",\"Negative\",\"Negative\",\"Positive\",\"Negative\",\"Negative\",\"Neutral\",\"Neutral\",\"Neutral\",\"Neutral\",\"Positive\",\"Positive\",\"Negative\",\"Negative\",\"Negative\",\"Negative\",\"Positive\",\"Negative\",\"Negative\",\"Positive\",\"Negative\",\"Negative\",\"Negative\",\"Negative\",\"Neutral\",\"Negative\",\"Negative\",\"Positive\",\"Negative\",\"Negative\",\"Positive\",\"Positive\",\"Negative\",\"Negative\",\"Neutral\",\"Positive\",\"Positive\",\"Negative\",\"Neutral\",\"Negative\",\"Negative\",\"Positive\",\"Positive\",\"Positive\",\"Positive\",\"Positive\",\"Positive\",\"Positive\",\"Positive\",\"Negative\",\"Neutral\",\"Neutral\",\"Positive\",\"Negative\",\"Positive\",\"Neutral\",\"Positive\",\"Positive\",\"Negative\",\"Positive\",\"Negative\",\"Positive\",\"Positive\",\"Negative\",\"Negative\",\"Positive\",\"Positive\",\"Neutral\",\"Negative\",\"Neutral\",\"Neutral\",\"Negative\",\"Negative\",\"Positive\",\"Negative\",\"Positive\",\"Positive\",\"Negative\",\"Negative\",\"Negative\",\"Negative\",\"Negative\",\"Negative\",\"Positive\",\"Positive\",\"Negative\",\"Neutral\",\"Positive\",\"Positive\",\"Negative\",\"Negative\",\"Positive\",\"Negative\",\"Positive\",\"Positive\",\"Neutral\",\"Positive\",\"Negative\",\"Positive\",\"Negative\",\"Positive\",\"Negative\",\"Positive\",\"Positive\",\"Positive\",\"Positive\",\"Negative\",\"Positive\",\"Positive\",\"Negative\",\"Positive\",\"Negative\",\"Positive\",\"Positive\",\"Positive\",\"Positive\",\"Positive\",\"Neutral\",\"Positive\",\"Negative\",\"Positive\",\"Negative\",\"Negative\",\"Negative\",\"Negative\",\"Positive\",\"Neutral\",\"Neutral\",\"Negative\",\"Neutral\",\"Positive\",\"Positive\",\"Negative\",\"Positive\",\"Positive\",\"Negative\",\"Positive\",\"Negative\",\"Neutral\",\"Neutral\",\"Positive\",\"Positive\",\"Positive\",\"Negative\",\"Positive\",\"Neutral\",\"Negative\",\"Neutral\",\"Negative\",\"Negative\",\"Negative\",\"Positive\",\"Neutral\",\"Neutral\",\"Positive\",\"Positive\",\"Positive\",\"Positive\",\"Negative\",\"Positive\",\"Positive\",\"Positive\",\"Negative\",\"Positive\",\"Negative\",\"Negative\",\"Positive\",\"Positive\",\"Positive\",\"Negative\",\"Negative\",\"Negative\",\"Negative\",\"Negative\",\"Positive\",\"Positive\",\"Negative\",\"Negative\",\"Negative\",\"Neutral\",\"Negative\",\"Positive\",\"Neutral\",\"Negative\",\"Negative\",\"Neutral\",\"Negative\",\"Positive\",\"Positive\",\"Negative\",\"Positive\",\"Positive\",\"Positive\",\"Negative\",\"Positive\",\"Positive\",\"Positive\",\"Positive\",\"Negative\",\"Positive\",\"Neutral\",\"Negative\",\"Neutral\",\"Negative\",\"Neutral\",\"Neutral\",\"Positive\",\"Negative\",\"Positive\",\"Negative\",\"Neutral\",\"Negative\",\"Positive\",\"Positive\",\"Positive\",\"Negative\",\"Neutral\",\"Positive\",\"Positive\",\"Neutral\",\"Negative\",\"Positive\",\"Neutral\",\"Negative\",\"Positive\",\"Neutral\",\"Positive\",\"Negative\",\"Neutral\",\"Positive\",\"Positive\",\"Neutral\",\"Neutral\",\"Negative\",\"Positive\",\"Negative\",\"Positive\",\"Positive\",\"Negative\",\"Neutral\",\"Negative\",\"Negative\",\"Neutral\",\"Negative\",\"Positive\",\"Positive\",\"Neutral\",\"Positive\",\"Positive\",\"Negative\",\"Positive\",\"Negative\",\"Neutral\",\"Negative\",\"Positive\",\"Negative\",\"Neutral\",\"Positive\",\"Negative\",\"Positive\",\"Neutral\",\"Negative\",\"Negative\",\"Neutral\",\"Positive\",\"Positive\",\"Positive\",\"Negative\",\"Negative\",\"Neutral\",\"Negative\",\"Positive\",\"Negative\",\"Neutral\",\"Positive\",\"Neutral\",\"Positive\",\"Neutral\",\"Neutral\",\"Positive\",\"Neutral\",\"Negative\",\"Negative\",\"Positive\",\"Positive\",\"Positive\",\"Neutral\",\"Neutral\",\"Negative\",\"Positive\",\"Neutral\",\"Positive\",\"Neutral\",\"Positive\",\"Positive\",\"Neutral\",\"Negative\",\"Negative\",\"Neutral\",\"Negative\",\"Negative\",\"Positive\",\"Negative\",\"Negative\",\"Positive\",\"Positive\",\"Positive\",\"Positive\",\"Neutral\",\"Positive\",\"Positive\",\"Neutral\",\"Negative\",\"Positive\",\"Positive\",\"Negative\",\"Positive\",\"Neutral\",\"Neutral\",\"Negative\",\"Neutral\",\"Neutral\",\"Negative\",\"Positive\",\"Negative\",\"Negative\",\"Negative\",\"Negative\",\"Negative\",\"Neutral\",\"Negative\",\"Neutral\",\"Positive\",\"Negative\",\"Neutral\",\"Positive\",\"Negative\",\"Positive\",\"Neutral\",\"Positive\",\"Negative\",\"Positive\",\"Positive\",\"Positive\",\"Positive\",\"Neutral\",\"Positive\",\"Neutral\",\"Neutral\",\"Positive\",\"Neutral\",\"Positive\",\"Neutral\",\"Negative\",\"Positive\",\"Positive\",\"Negative\",\"Positive\",\"Neutral\",\"Positive\",\"Neutral\",\"Negative\",\"Negative\",\"Neutral\",\"Positive\",\"Negative\",\"Negative\",\"Positive\",\"Negative\",\"Positive\",\"Negative\",\"Positive\",\"Neutral\",\"Negative\",\"Positive\",\"Neutral\",\"Neutral\",\"Negative\",\"Negative\",\"Negative\",\"Neutral\",\"Positive\",\"Positive\",\"Positive\",\"Positive\",\"Positive\",\"Neutral\",\"Neutral\",\"Negative\",\"Neutral\",\"Positive\",\"Negative\",\"Neutral\",\"Positive\",\"Negative\",\"Negative\",\"Negative\",\"Negative\",\"Neutral\",\"Negative\",\"Positive\",\"Positive\",\"Positive\",\"Negative\",\"Positive\",\"Positive\",\"Negative\",\"Negative\",\"Negative\",\"Negative\",\"Negative\",\"Negative\",\"Positive\",\"Neutral\",\"Neutral\",\"Negative\",\"Positive\",\"Positive\",\"Negative\",\"Negative\",\"Neutral\",\"Negative\",\"Neutral\",\"Positive\",\"Neutral\",\"Positive\",\"Positive\",\"Neutral\",\"Negative\",\"Neutral\",\"Positive\",\"Positive\",\"Negative\",\"Negative\",\"Neutral\",\"Negative\",\"Negative\",\"Negative\",\"Negative\",\"Positive\",\"Positive\",\"Negative\",\"Positive\",\"Neutral\",\"Positive\",\"Negative\",\"Positive\",\"Negative\",\"Negative\",\"Negative\",\"Neutral\",\"Positive\",\"Positive\",\"Neutral\",\"Neutral\",\"Negative\",\"Negative\",\"Positive\",\"Negative\",\"Negative\",\"Negative\",\"Neutral\",\"Neutral\",\"Positive\",\"Negative\",\"Neutral\",\"Positive\",\"Negative\",\"Positive\",\"Negative\",\"Negative\",\"Negative\",\"Negative\",\"Positive\",\"Neutral\",\"Positive\",\"Neutral\",\"Neutral\",\"Positive\",\"Neutral\",\"Positive\",\"Negative\",\"Neutral\",\"Negative\",\"Neutral\",\"Positive\",\"Negative\",\"Negative\",\"Negative\",\"Negative\",\"Neutral\",\"Negative\",\"Positive\",\"Positive\",\"Negative\",\"Negative\",\"Positive\",\"Negative\",\"Negative\",\"Neutral\",\"Neutral\",\"Neutral\",\"Neutral\",\"Positive\",\"Positive\",\"Positive\",\"Positive\",\"Positive\",\"Negative\",\"Positive\",\"Negative\",\"Positive\",\"Positive\",\"Neutral\",\"Positive\",\"Negative\",\"Negative\",\"Positive\",\"Positive\",\"Negative\",\"Negative\",\"Negative\",\"Neutral\",\"Neutral\",\"Positive\",\"Positive\",\"Positive\",\"Negative\",\"Positive\",\"Positive\",\"Neutral\",\"Positive\",\"Positive\",\"Positive\",\"Negative\",\"Positive\",\"Negative\",\"Negative\",\"Positive\",\"Negative\",\"Neutral\",\"Neutral\",\"Negative\",\"Positive\",\"Negative\",\"Positive\",\"Positive\",\"Neutral\",\"Negative\",\"Positive\",\"Positive\",\"Neutral\",\"Positive\",\"Positive\",\"Positive\",\"Positive\",\"Neutral\",\"Positive\",\"Positive\",\"Positive\",\"Negative\",\"Positive\",\"Positive\",\"Negative\",\"Neutral\",\"Neutral\",\"Positive\",\"Positive\",\"Positive\",\"Negative\",\"Negative\",\"Negative\",\"Negative\",\"Positive\",\"Neutral\",\"Negative\",\"Neutral\",\"Neutral\",\"Positive\",\"Positive\",\"Positive\",\"Negative\",\"Positive\",\"Neutral\",\"Neutral\",\"Neutral\",\"Positive\",\"Neutral\",\"Positive\",\"Positive\",\"Neutral\",\"Negative\",\"Positive\",\"Negative\",\"Positive\",\"Positive\",\"Positive\",\"Negative\",\"Neutral\",\"Positive\",\"Positive\",\"Positive\",\"Positive\",\"Positive\",\"Positive\",\"Negative\",\"Neutral\",\"Neutral\",\"Neutral\",\"Neutral\",\"Positive\",\"Negative\",\"Neutral\",\"Neutral\",\"Positive\",\"Negative\",\"Positive\",\"Neutral\",\"Positive\",\"Positive\",\"Positive\",\"Positive\",\"Positive\",\"Negative\",\"Neutral\",\"Neutral\",\"Neutral\",\"Negative\",\"Positive\",\"Positive\",\"Positive\",\"Neutral\",\"Negative\",\"Neutral\",\"Neutral\",\"Negative\",\"Positive\",\"Positive\",\"Positive\",\"Positive\",\"Positive\",\"Positive\",\"Neutral\",\"Negative\",\"Negative\",\"Positive\",\"Negative\",\"Positive\",\"Positive\",\"Negative\",\"Negative\",\"Neutral\",\"Negative\",\"Positive\",\"Positive\",\"Negative\",\"Positive\",\"Positive\",\"Negative\",\"Negative\",\"Positive\",\"Negative\",\"Positive\",\"Neutral\",\"Negative\",\"Positive\",\"Neutral\",\"Negative\",\"Negative\",\"Positive\",\"Negative\",\"Negative\",\"Neutral\",\"Positive\",\"Negative\",\"Neutral\",\"Neutral\",\"Positive\",\"Negative\",\"Positive\",\"Positive\",\"Positive\",\"Neutral\",\"Positive\",\"Positive\",\"Negative\",\"Neutral\",\"Neutral\",\"Neutral\",\"Negative\",\"Positive\",\"Neutral\",\"Negative\",\"Neutral\",\"Negative\",\"Positive\",\"Negative\",\"Negative\",\"Neutral\",\"Negative\",\"Negative\",\"Positive\",\"Negative\",\"Negative\",\"Positive\",\"Positive\",\"Neutral\",\"Neutral\",\"Negative\",\"Negative\",\"Negative\",\"Positive\",\"Negative\",\"Positive\",\"Negative\",\"Neutral\",\"Neutral\",\"Positive\",\"Neutral\",\"Positive\",\"Positive\",\"Negative\",\"Positive\",\"Neutral\",\"Positive\",\"Negative\",\"Neutral\",\"Negative\",\"Negative\",\"Positive\",\"Positive\",\"Positive\",\"Positive\",\"Negative\",\"Positive\",\"Negative\",\"Negative\",\"Negative\",\"Neutral\",\"Negative\",\"Negative\",\"Positive\",\"Negative\",\"Neutral\",\"Positive\",\"Positive\",\"Negative\",\"Positive\",\"Negative\",\"Negative\",\"Negative\",\"Neutral\",\"Positive\",\"Negative\",\"Neutral\",\"Neutral\",\"Neutral\",\"Negative\",\"Neutral\",\"Positive\",\"Negative\",\"Negative\",\"Negative\",\"Negative\",\"Positive\",\"Negative\",\"Neutral\",\"Neutral\",\"Positive\",\"Neutral\",\"Positive\",\"Negative\",\"Positive\",\"Positive\",\"Neutral\",\"Negative\",\"Positive\",\"Neutral\",\"Positive\",\"Negative\",\"Negative\",\"Positive\",\"Positive\",\"Positive\",\"Negative\",\"Negative\",\"Negative\",\"Negative\",\"Negative\",\"Negative\",\"Negative\",\"Neutral\",\"Negative\",\"Negative\",\"Negative\",\"Positive\",\"Negative\",\"Negative\",\"Positive\",\"Negative\",\"Negative\",\"Negative\",\"Positive\",\"Negative\",\"Neutral\",\"Positive\",\"Neutral\",\"Negative\",\"Negative\",\"Positive\",\"Positive\",\"Negative\",\"Positive\",\"Negative\",\"Neutral\",\"Positive\",\"Positive\",\"Positive\",\"Negative\",\"Negative\",\"Positive\",\"Negative\",\"Negative\",\"Neutral\",\"Positive\",\"Negative\",\"Negative\",\"Positive\",\"Neutral\",\"Positive\",\"Positive\",\"Neutral\",\"Neutral\",\"Negative\",\"Negative\",\"Negative\",\"Neutral\",\"Positive\",\"Negative\",\"Neutral\",\"Neutral\",\"Negative\",\"Neutral\",\"Negative\",\"Negative\",\"Negative\",\"Positive\",\"Positive\",\"Positive\",\"Neutral\",\"Negative\",\"Positive\",\"Positive\",\"Negative\",\"Negative\",\"Neutral\",\"Neutral\",\"Neutral\",\"Negative\",\"Neutral\",\"Negative\",\"Positive\",\"Positive\",\"Positive\",\"Negative\",\"Positive\",\"Neutral\",\"Negative\",\"Negative\",\"Negative\",\"Positive\",\"Neutral\",\"Positive\",\"Neutral\",\"Negative\",\"Positive\",\"Negative\",\"Neutral\",\"Negative\",\"Positive\",\"Neutral\",\"Positive\",\"Positive\",\"Neutral\",\"Neutral\",\"Positive\",\"Negative\",\"Neutral\",\"Negative\",\"Negative\",\"Neutral\",\"Neutral\",\"Negative\",\"Neutral\",\"Negative\",\"Negative\",\"Negative\",\"Positive\",\"Negative\",\"Negative\",\"Negative\",\"Neutral\",\"Positive\",\"Positive\",\"Negative\",\"Negative\",\"Negative\",\"Neutral\",\"Positive\",\"Positive\",\"Positive\",\"Positive\",\"Negative\",\"Negative\",\"Positive\",\"Negative\",\"Positive\",\"Negative\",\"Neutral\",\"Negative\",\"Negative\",\"Negative\",\"Negative\",\"Negative\",\"Positive\",\"Positive\",\"Positive\",\"Positive\",\"Positive\",\"Positive\",\"Neutral\",\"Negative\",\"Positive\",\"Positive\",\"Neutral\",\"Neutral\",\"Positive\",\"Positive\",\"Neutral\",\"Positive\",\"Positive\",\"Neutral\",\"Neutral\",\"Neutral\",\"Positive\",\"Neutral\",\"Negative\",\"Negative\",\"Neutral\",\"Positive\",\"Neutral\",\"Negative\",\"Neutral\",\"Positive\",\"Negative\",\"Neutral\",\"Negative\",\"Positive\",\"Negative\",\"Neutral\",\"Negative\",\"Positive\",\"Positive\",\"Negative\",\"Negative\",\"Neutral\",\"Neutral\",\"Positive\",\"Positive\",\"Neutral\",\"Negative\",\"Negative\",\"Negative\",\"Negative\",\"Negative\",\"Negative\",\"Neutral\",\"Neutral\",\"Negative\",\"Negative\",\"Positive\",\"Neutral\",\"Positive\",\"Positive\",\"Positive\",\"Negative\",\"Neutral\",\"Positive\",\"Positive\",\"Positive\",\"Positive\",\"Negative\",\"Neutral\",\"Negative\",\"Positive\",\"Neutral\",\"Positive\",\"Neutral\",\"Negative\",\"Negative\",\"Neutral\",\"Positive\",\"Neutral\",\"Positive\",\"Positive\",\"Negative\",\"Negative\",\"Positive\",\"Positive\",\"Positive\",\"Negative\",\"Neutral\",\"Positive\",\"Positive\",\"Positive\",\"Negative\",\"Positive\",\"Negative\",\"Neutral\",\"Positive\",\"Negative\",\"Positive\",\"Negative\",\"Negative\",\"Negative\",\"Neutral\",\"Neutral\",\"Neutral\",\"Neutral\",\"Negative\",\"Positive\",\"Neutral\",\"Negative\",\"Negative\",\"Neutral\",\"Positive\",\"Neutral\",\"Neutral\",\"Neutral\",\"Negative\",\"Neutral\",\"Neutral\",\"Positive\",\"Neutral\",\"Negative\",\"Negative\",\"Negative\",\"Positive\",\"Negative\",\"Positive\",\"Negative\",\"Negative\",\"Negative\",\"Neutral\",\"Neutral\",\"Negative\",\"Positive\",\"Negative\",\"Positive\",\"Neutral\",\"Negative\",\"Positive\",\"Negative\",\"Neutral\",\"Neutral\",\"Negative\",\"Positive\",\"Neutral\",\"Positive\",\"Neutral\",\"Neutral\",\"Positive\",\"Positive\",\"Neutral\",\"Positive\",\"Neutral\",\"Neutral\",\"Neutral\",\"Neutral\",\"Positive\",\"Positive\",\"Negative\",\"Negative\",\"Positive\",\"Positive\",\"Positive\",\"Neutral\",\"Positive\",\"Positive\",\"Neutral\",\"Neutral\",\"Negative\",\"Negative\",\"Neutral\",\"Negative\",\"Neutral\",\"Positive\",\"Positive\",\"Positive\",\"Positive\",\"Negative\",\"Negative\",\"Negative\",\"Positive\",\"Positive\",\"Neutral\",\"Negative\",\"Neutral\",\"Positive\",\"Positive\",\"Positive\",\"Positive\",\"Positive\",\"Positive\",\"Positive\",\"Positive\",\"Neutral\",\"Positive\",\"Negative\",\"Positive\",\"Positive\",\"Negative\",\"Positive\",\"Negative\",\"Neutral\",\"Positive\",\"Negative\",\"Positive\",\"Neutral\",\"Negative\",\"Negative\",\"Negative\",\"Negative\",\"Positive\",\"Negative\",\"Neutral\",\"Neutral\",\"Neutral\",\"Neutral\",\"Positive\",\"Positive\",\"Negative\",\"Neutral\",\"Positive\",\"Neutral\",\"Neutral\",\"Positive\",\"Negative\",\"Neutral\",\"Neutral\",\"Positive\",\"Positive\",\"Positive\",\"Positive\",\"Negative\",\"Neutral\",\"Negative\",\"Neutral\",\"Neutral\",\"Negative\",\"Negative\",\"Neutral\",\"Neutral\",\"Positive\",\"Positive\",\"Positive\",\"Positive\",\"Positive\",\"Negative\",\"Positive\",\"Neutral\",\"Negative\",\"Neutral\",\"Positive\",\"Neutral\",\"Positive\",\"Positive\",\"Negative\",\"Positive\",\"Negative\",\"Negative\",\"Negative\",\"Positive\",\"Positive\",\"Positive\",\"Neutral\",\"Positive\",\"Negative\",\"Neutral\",\"Negative\",\"Positive\",\"Negative\",\"Neutral\",\"Neutral\",\"Negative\",\"Neutral\",\"Positive\",\"Neutral\",\"Neutral\",\"Positive\",\"Negative\",\"Negative\",\"Negative\",\"Positive\",\"Positive\",\"Negative\",\"Negative\",\"Negative\",\"Positive\",\"Positive\",\"Negative\",\"Neutral\",\"Negative\",\"Positive\",\"Negative\",\"Negative\",\"Negative\",\"Positive\",\"Positive\",\"Negative\",\"Negative\",\"Neutral\",\"Positive\",\"Negative\",\"Negative\",\"Neutral\",\"Neutral\",\"Positive\",\"Positive\",\"Neutral\",\"Negative\",\"Negative\",\"Positive\",\"Negative\",\"Negative\",\"Negative\",\"Negative\",\"Positive\",\"Neutral\",\"Positive\",\"Negative\",\"Neutral\",\"Negative\",\"Negative\",\"Positive\",\"Positive\",\"Positive\",\"Neutral\",\"Positive\",\"Neutral\",\"Neutral\",\"Neutral\",\"Negative\",\"Neutral\",\"Negative\",\"Negative\",\"Neutral\",\"Neutral\",\"Negative\",\"Negative\",\"Positive\",\"Positive\",\"Neutral\",\"Negative\",\"Positive\",\"Positive\",\"Negative\",\"Negative\",\"Negative\",\"Neutral\",\"Negative\",\"Neutral\",\"Neutral\",\"Negative\",\"Neutral\",\"Positive\",\"Positive\",\"Positive\",\"Negative\",\"Neutral\",\"Positive\",\"Negative\",\"Positive\",\"Negative\",\"Positive\",\"Positive\",\"Neutral\",\"Positive\",\"Positive\",\"Neutral\",\"Negative\",\"Negative\",\"Neutral\",\"Negative\",\"Neutral\",\"Positive\",\"Negative\",\"Negative\",\"Negative\",\"Negative\",\"Positive\",\"Negative\",\"Negative\",\"Positive\",\"Positive\",\"Positive\",\"Negative\",\"Positive\",\"Positive\",\"Negative\",\"Positive\",\"Negative\",\"Neutral\",\"Negative\",\"Negative\",\"Negative\",\"Neutral\",\"Positive\",\"Positive\",\"Positive\",\"Positive\",\"Positive\",\"Negative\",\"Positive\",\"Positive\",\"Negative\",\"Positive\",\"Positive\",\"Neutral\",\"Negative\",\"Positive\",\"Negative\",\"Positive\",\"Neutral\",\"Negative\",\"Negative\",\"Positive\",\"Positive\",\"Positive\",\"Positive\",\"Neutral\",\"Negative\",\"Neutral\",\"Positive\",\"Positive\",\"Negative\",\"Negative\",\"Negative\",\"Negative\",\"Neutral\",\"Negative\",\"Negative\",\"Positive\",\"Negative\",\"Neutral\",\"Positive\",\"Positive\",\"Neutral\",\"Negative\",\"Negative\",\"Negative\",\"Negative\",\"Negative\",\"Negative\",\"Negative\",\"Neutral\",\"Neutral\",\"Positive\",\"Positive\",\"Neutral\",\"Negative\",\"Neutral\",\"Positive\",\"Neutral\",\"Negative\",\"Negative\",\"Positive\",\"Positive\",\"Negative\",\"Neutral\",\"Negative\",\"Negative\",\"Positive\",\"Positive\",\"Positive\",\"Negative\",\"Neutral\",\"Positive\",\"Negative\",\"Negative\",\"Positive\",\"Negative\",\"Negative\",\"Neutral\",\"Positive\",\"Negative\",\"Negative\",\"Positive\",\"Negative\",\"Positive\",\"Negative\",\"Negative\",\"Neutral\",\"Positive\",\"Neutral\",\"Positive\",\"Negative\",\"Neutral\",\"Negative\",\"Positive\",\"Negative\",\"Positive\",\"Negative\",\"Neutral\",\"Negative\",\"Negative\",\"Negative\",\"Negative\",\"Positive\",\"Negative\",\"Positive\",\"Negative\",\"Positive\",\"Negative\",\"Positive\",\"Positive\",\"Negative\",\"Negative\",\"Positive\",\"Negative\",\"Positive\",\"Neutral\",\"Positive\",\"Positive\",\"Positive\",\"Negative\",\"Negative\",\"Positive\",\"Positive\",\"Negative\",\"Positive\",\"Neutral\",\"Positive\",\"Positive\",\"Neutral\",\"Neutral\",\"Positive\",\"Neutral\",\"Positive\",\"Neutral\",\"Positive\",\"Negative\",\"Negative\",\"Negative\",\"Negative\",\"Neutral\",\"Positive\",\"Negative\",\"Negative\",\"Positive\",\"Negative\",\"Positive\",\"Negative\",\"Negative\",\"Positive\",\"Positive\",\"Negative\",\"Positive\",\"Neutral\",\"Negative\",\"Negative\",\"Positive\",\"Negative\",\"Negative\",\"Negative\",\"Positive\",\"Neutral\",\"Positive\",\"Negative\",\"Positive\",\"Positive\",\"Neutral\",\"Positive\",\"Positive\",\"Negative\",\"Positive\",\"Positive\",\"Positive\",\"Positive\",\"Negative\",\"Negative\",\"Negative\",\"Negative\",\"Neutral\",\"Negative\",\"Neutral\",\"Negative\",\"Neutral\",\"Positive\",\"Negative\",\"Neutral\",\"Negative\",\"Positive\",\"Neutral\",\"Negative\",\"Negative\",\"Neutral\",\"Negative\",\"Positive\",\"Neutral\",\"Positive\",\"Positive\",\"Positive\",\"Positive\",\"Positive\",\"Positive\",\"Positive\",\"Negative\",\"Positive\",\"Positive\",\"Positive\",\"Positive\",\"Negative\",\"Positive\",\"Neutral\",\"Neutral\",\"Positive\",\"Positive\",\"Positive\",\"Positive\",\"Neutral\",\"Positive\",\"Positive\",\"Negative\",\"Positive\",\"Negative\",\"Positive\",\"Positive\",\"Neutral\",\"Negative\",\"Negative\",\"Positive\",\"Neutral\",\"Positive\",\"Positive\",\"Neutral\",\"Positive\",\"Positive\",\"Positive\",\"Positive\",\"Negative\",\"Positive\",\"Neutral\",\"Neutral\",\"Positive\",\"Neutral\",\"Positive\",\"Negative\",\"Positive\",\"Negative\",\"Positive\",\"Negative\",\"Neutral\",\"Positive\",\"Positive\",\"Negative\",\"Positive\",\"Negative\",\"Negative\",\"Positive\",\"Negative\",\"Neutral\",\"Positive\",\"Neutral\",\"Positive\",\"Negative\",\"Negative\",\"Neutral\",\"Positive\",\"Negative\",\"Neutral\",\"Negative\",\"Negative\",\"Negative\",\"Positive\",\"Positive\",\"Positive\",\"Neutral\",\"Positive\",\"Neutral\",\"Negative\",\"Positive\",\"Positive\",\"Positive\",\"Neutral\",\"Neutral\",\"Positive\",\"Negative\",\"Neutral\",\"Neutral\",\"Negative\",\"Negative\",\"Negative\",\"Positive\",\"Positive\",\"Neutral\",\"Positive\",\"Positive\",\"Positive\",\"Neutral\",\"Negative\",\"Positive\",\"Positive\",\"Positive\",\"Positive\",\"Positive\",\"Positive\",\"Negative\",\"Neutral\",\"Negative\",\"Negative\",\"Positive\",\"Neutral\",\"Negative\",\"Positive\",\"Positive\",\"Negative\",\"Neutral\",\"Negative\",\"Negative\",\"Negative\",\"Positive\",\"Positive\",\"Positive\",\"Positive\",\"Positive\",\"Positive\",\"Positive\",\"Negative\",\"Negative\",\"Negative\",\"Neutral\",\"Negative\",\"Neutral\",\"Positive\",\"Positive\",\"Positive\",\"Negative\",\"Positive\",\"Positive\",\"Positive\",\"Positive\",\"Negative\",\"Neutral\",\"Negative\",\"Negative\",\"Neutral\",\"Neutral\",\"Positive\",\"Positive\",\"Positive\",\"Positive\",\"Neutral\",\"Neutral\",\"Neutral\",\"Neutral\",\"Negative\",\"Neutral\",\"Positive\",\"Negative\",\"Positive\",\"Positive\",\"Positive\",\"Negative\",\"Positive\",\"Negative\",\"Negative\",\"Positive\",\"Negative\",\"Negative\",\"Negative\",\"Positive\",\"Positive\",\"Positive\",\"Negative\",\"Neutral\",\"Negative\",\"Positive\",\"Negative\",\"Positive\",\"Negative\",\"Negative\",\"Negative\",\"Positive\",\"Positive\",\"Positive\",\"Neutral\",\"Positive\",\"Negative\",\"Positive\",\"Positive\",\"Negative\",\"Positive\",\"Positive\",\"Neutral\",\"Neutral\",\"Positive\",\"Negative\",\"Negative\",\"Positive\",\"Neutral\",\"Positive\",\"Positive\",\"Negative\",\"Positive\",\"Positive\",\"Positive\",\"Negative\",\"Positive\",\"Negative\",\"Positive\",\"Positive\",\"Negative\",\"Neutral\",\"Positive\",\"Negative\",\"Negative\",\"Neutral\",\"Neutral\",\"Positive\",\"Positive\",\"Neutral\",\"Positive\",\"Positive\",\"Negative\",\"Positive\",\"Neutral\",\"Positive\",\"Negative\",\"Neutral\",\"Neutral\",\"Positive\",\"Negative\",\"Negative\",\"Negative\",\"Negative\",\"Neutral\",\"Neutral\",\"Positive\",\"Positive\",\"Positive\",\"Positive\",\"Positive\",\"Negative\",\"Positive\",\"Negative\",\"Positive\",\"Neutral\",\"Positive\",\"Neutral\",\"Positive\",\"Neutral\",\"Positive\",\"Positive\",\"Neutral\",\"Positive\",\"Positive\",\"Positive\",\"Positive\",\"Positive\",\"Positive\",\"Neutral\",\"Neutral\",\"Positive\",\"Positive\",\"Negative\",\"Negative\",\"Positive\",\"Positive\",\"Positive\",\"Negative\",\"Negative\",\"Negative\",\"Positive\",\"Positive\",\"Positive\",\"Positive\",\"Negative\",\"Positive\",\"Positive\",\"Neutral\",\"Positive\",\"Negative\",\"Positive\",\"Positive\",\"Negative\",\"Negative\",\"Positive\",\"Positive\",\"Neutral\",\"Neutral\",\"Positive\",\"Positive\",\"Neutral\",\"Neutral\",\"Positive\",\"Positive\",\"Positive\",\"Negative\",\"Neutral\",\"Negative\",\"Neutral\",\"Positive\",\"Positive\",\"Negative\",\"Neutral\",\"Positive\",\"Positive\",\"Negative\",\"Positive\",\"Positive\",\"Negative\",\"Positive\",\"Positive\",\"Positive\",\"Positive\",\"Positive\",\"Neutral\",\"Neutral\",\"Positive\",\"Negative\",\"Positive\",\"Positive\",\"Positive\",\"Negative\",\"Negative\",\"Positive\",\"Positive\",\"Negative\",\"Neutral\",\"Positive\",\"Positive\",\"Positive\",\"Neutral\",\"Positive\",\"Positive\",\"Neutral\",\"Negative\",\"Neutral\",\"Positive\",\"Positive\",\"Positive\",\"Negative\",\"Positive\",\"Positive\",\"Negative\",\"Positive\",\"Neutral\",\"Neutral\",\"Negative\",\"Negative\",\"Neutral\",\"Neutral\",\"Negative\",\"Positive\",\"Neutral\",\"Neutral\",\"Positive\",\"Negative\",\"Negative\",\"Positive\",\"Positive\",\"Neutral\",\"Neutral\",\"Negative\",\"Negative\",\"Negative\",\"Positive\",\"Positive\",\"Positive\",\"Positive\",\"Neutral\",\"Neutral\",\"Positive\",\"Negative\",\"Neutral\",\"Negative\",\"Negative\",\"Negative\",\"Positive\",\"Positive\",\"Negative\",\"Positive\",\"Positive\",\"Negative\",\"Neutral\",\"Neutral\",\"Positive\",\"Neutral\",\"Negative\",\"Positive\",\"Neutral\",\"Positive\",\"Negative\",\"Negative\",\"Negative\",\"Neutral\",\"Negative\",\"Positive\",\"Negative\",\"Positive\",\"Positive\",\"Positive\",\"Negative\",\"Negative\",\"Negative\",\"Positive\",\"Neutral\",\"Negative\",\"Positive\",\"Positive\",\"Negative\",\"Positive\",\"Neutral\",\"Positive\",\"Negative\",\"Negative\",\"Negative\",\"Neutral\",\"Positive\",\"Neutral\",\"Negative\",\"Positive\",\"Negative\",\"Neutral\",\"Negative\",\"Positive\",\"Positive\",\"Neutral\",\"Positive\",\"Positive\",\"Neutral\",\"Neutral\",\"Negative\",\"Positive\",\"Positive\",\"Neutral\",\"Negative\",\"Neutral\",\"Negative\",\"Positive\",\"Negative\",\"Neutral\",\"Neutral\",\"Neutral\",\"Positive\",\"Positive\",\"Neutral\",\"Positive\",\"Positive\",\"Neutral\",\"Positive\",\"Neutral\",\"Positive\",\"Positive\",\"Positive\",\"Positive\",\"Negative\",\"Neutral\",\"Positive\",\"Positive\",\"Neutral\",\"Positive\",\"Positive\",\"Negative\",\"Positive\",\"Neutral\",\"Neutral\",\"Negative\",\"Negative\",\"Negative\",\"Positive\",\"Positive\",\"Positive\",\"Neutral\",\"Neutral\",\"Positive\",\"Positive\",\"Positive\",\"Positive\",\"Positive\",\"Negative\",\"Negative\",\"Negative\",\"Positive\",\"Positive\",\"Positive\",\"Positive\",\"Positive\",\"Positive\",\"Negative\",\"Positive\",\"Neutral\",\"Negative\",\"Negative\",\"Positive\",\"Negative\",\"Negative\",\"Negative\",\"Negative\",\"Positive\",\"Positive\",\"Negative\",\"Negative\",\"Negative\",\"Negative\",\"Negative\",\"Positive\",\"Positive\",\"Positive\",\"Negative\",\"Negative\",\"Negative\",\"Negative\",\"Neutral\",\"Negative\",\"Negative\",\"Neutral\",\"Neutral\",\"Negative\",\"Positive\",\"Neutral\",\"Neutral\",\"Negative\",\"Neutral\",\"Neutral\",\"Negative\",\"Negative\",\"Positive\",\"Positive\",\"Positive\",\"Negative\",\"Positive\",\"Positive\",\"Positive\",\"Negative\",\"Positive\",\"Positive\",\"Neutral\",\"Positive\",\"Negative\",\"Positive\",\"Positive\",\"Positive\",\"Positive\",\"Negative\",\"Negative\",\"Positive\",\"Positive\",\"Negative\",\"Positive\",\"Neutral\",\"Neutral\",\"Positive\",\"Neutral\",\"Negative\",\"Positive\",\"Negative\",\"Positive\",\"Positive\",\"Positive\",\"Positive\",\"Positive\",\"Negative\",\"Positive\",\"Neutral\",\"Positive\",\"Positive\",\"Negative\",\"Neutral\",\"Positive\",\"Positive\",\"Positive\",\"Negative\",\"Negative\",\"Positive\",\"Negative\",\"Negative\",\"Negative\",\"Negative\",\"Negative\",\"Positive\",\"Positive\",\"Negative\",\"Positive\",\"Negative\",\"Neutral\",\"Positive\",\"Positive\",\"Neutral\",\"Positive\",\"Positive\",\"Positive\",\"Negative\",\"Neutral\",\"Neutral\",\"Negative\",\"Neutral\",\"Neutral\",\"Negative\",\"Neutral\",\"Positive\",\"Neutral\",\"Positive\",\"Negative\",\"Neutral\",\"Neutral\",\"Negative\",\"Neutral\",\"Positive\",\"Positive\",\"Negative\",\"Negative\",\"Negative\",\"Negative\",\"Positive\",\"Positive\",\"Positive\",\"Neutral\",\"Positive\",\"Negative\",\"Positive\",\"Neutral\",\"Neutral\",\"Positive\",\"Positive\",\"Positive\",\"Positive\",\"Positive\",\"Neutral\",\"Positive\",\"Positive\",\"Positive\",\"Neutral\",\"Neutral\",\"Negative\",\"Positive\",\"Neutral\",\"Negative\",\"Positive\",\"Positive\",\"Negative\",\"Positive\",\"Positive\",\"Positive\",\"Negative\",\"Neutral\",\"Neutral\",\"Positive\",\"Neutral\",\"Neutral\",\"Neutral\",\"Positive\",\"Negative\",\"Negative\",\"Neutral\",\"Negative\",\"Positive\",\"Neutral\",\"Negative\",\"Positive\",\"Negative\",\"Negative\",\"Negative\",\"Negative\",\"Positive\",\"Positive\",\"Neutral\",\"Neutral\",\"Positive\",\"Positive\",\"Negative\",\"Negative\",\"Neutral\",\"Positive\",\"Positive\",\"Positive\",\"Neutral\",\"Neutral\",\"Neutral\",\"Positive\",\"Negative\",\"Neutral\",\"Negative\",\"Positive\",\"Neutral\",\"Positive\",\"Negative\",\"Neutral\",\"Positive\",\"Negative\",\"Negative\",\"Positive\",\"Positive\",\"Positive\",\"Negative\",\"Neutral\",\"Neutral\",\"Negative\",\"Neutral\",\"Positive\",\"Positive\",\"Negative\",\"Negative\",\"Positive\",\"Neutral\",\"Negative\",\"Positive\",\"Negative\",\"Positive\",\"Negative\",\"Positive\",\"Positive\",\"Positive\",\"Negative\",\"Positive\",\"Neutral\",\"Positive\",\"Positive\",\"Positive\",\"Negative\",\"Positive\",\"Negative\",\"Negative\",\"Positive\",\"Negative\",\"Positive\",\"Positive\",\"Neutral\",\"Positive\",\"Positive\",\"Negative\",\"Positive\",\"Negative\",\"Positive\",\"Negative\",\"Positive\",\"Positive\",\"Positive\",\"Positive\",\"Negative\",\"Positive\",\"Neutral\",\"Negative\",\"Positive\",\"Neutral\",\"Positive\",\"Positive\",\"Positive\",\"Positive\",\"Positive\",\"Positive\",\"Positive\",\"Negative\",\"Positive\",\"Negative\",\"Positive\",\"Positive\",\"Positive\",\"Positive\",\"Positive\",\"Negative\",\"Positive\",\"Positive\",\"Neutral\",\"Neutral\",\"Positive\",\"Positive\",\"Negative\",\"Negative\",\"Negative\",\"Negative\",\"Positive\",\"Positive\",\"Neutral\",\"Positive\",\"Positive\",\"Neutral\",\"Positive\",\"Negative\",\"Positive\",\"Neutral\",\"Negative\",\"Positive\",\"Positive\",\"Positive\",\"Positive\",\"Positive\",\"Neutral\",\"Positive\",\"Positive\",\"Positive\",\"Neutral\",\"Negative\",\"Positive\",\"Positive\",\"Positive\",\"Positive\",\"Negative\",\"Negative\",\"Negative\",\"Positive\",\"Positive\",\"Neutral\",\"Positive\",\"Negative\",\"Neutral\",\"Positive\",\"Neutral\",\"Neutral\",\"Positive\",\"Negative\",\"Positive\",\"Negative\",\"Negative\",\"Negative\",\"Neutral\",\"Negative\",\"Negative\",\"Positive\",\"Negative\",\"Positive\",\"Neutral\",\"Negative\",\"Negative\",\"Neutral\",\"Positive\",\"Positive\",\"Positive\",\"Neutral\",\"Positive\",\"Positive\",\"Positive\",\"Positive\",\"Negative\",\"Positive\",\"Positive\",\"Positive\",\"Negative\",\"Positive\",\"Negative\",\"Positive\",\"Positive\",\"Negative\",\"Positive\",\"Positive\",\"Neutral\",\"Negative\",\"Positive\",\"Positive\",\"Positive\",\"Negative\",\"Positive\",\"Positive\",\"Positive\",\"Negative\",\"Positive\",\"Neutral\",\"Positive\",\"Positive\",\"Neutral\",\"Positive\",\"Positive\",\"Neutral\",\"Positive\",\"Neutral\",\"Positive\",\"Neutral\",\"Negative\",\"Positive\",\"Positive\",\"Negative\",\"Negative\",\"Neutral\",\"Neutral\",\"Positive\",\"Neutral\",\"Negative\",\"Positive\",\"Positive\",\"Negative\",\"Positive\",\"Negative\",\"Negative\",\"Neutral\",\"Negative\",\"Neutral\",\"Neutral\",\"Positive\",\"Neutral\",\"Positive\",\"Positive\",\"Positive\",\"Negative\",\"Neutral\",\"Neutral\",\"Negative\",\"Negative\",\"Negative\",\"Positive\",\"Positive\",\"Neutral\",\"Positive\",\"Negative\",\"Neutral\",\"Positive\",\"Neutral\",\"Positive\",\"Positive\",\"Negative\",\"Neutral\",\"Positive\",\"Negative\",\"Positive\",\"Negative\",\"Negative\",\"Negative\",\"Negative\",\"Negative\",\"Neutral\",\"Positive\",\"Positive\",\"Neutral\",\"Positive\",\"Positive\",\"Neutral\",\"Neutral\",\"Positive\",\"Negative\",\"Neutral\",\"Neutral\",\"Positive\",\"Neutral\",\"Neutral\",\"Neutral\",\"Negative\",\"Negative\",\"Positive\",\"Positive\",\"Positive\",\"Negative\",\"Negative\",\"Positive\",\"Positive\",\"Positive\",\"Positive\",\"Positive\",\"Positive\",\"Negative\",\"Negative\",\"Positive\",\"Neutral\",\"Negative\",\"Neutral\",\"Positive\",\"Neutral\",\"Negative\",\"Negative\",\"Positive\",\"Negative\",\"Neutral\",\"Positive\",\"Neutral\",\"Neutral\",\"Neutral\",\"Positive\",\"Positive\",\"Positive\",\"Negative\",\"Positive\",\"Positive\",\"Negative\",\"Positive\",\"Positive\",\"Negative\",\"Positive\",\"Neutral\",\"Negative\",\"Positive\",\"Positive\",\"Negative\",\"Negative\",\"Positive\",\"Negative\",\"Positive\",\"Positive\",\"Positive\",\"Positive\",\"Positive\",\"Positive\",\"Positive\",\"Negative\",\"Positive\",\"Positive\",\"Negative\",\"Neutral\",\"Negative\",\"Negative\",\"Positive\",\"Neutral\",\"Negative\",\"Neutral\",\"Positive\",\"Positive\",\"Neutral\",\"Positive\",\"Neutral\",\"Positive\",\"Positive\",\"Positive\",\"Negative\",\"Positive\",\"Positive\",\"Neutral\",\"Positive\",\"Negative\",\"Negative\",\"Positive\",\"Positive\",\"Neutral\",\"Neutral\",\"Negative\",\"Negative\",\"Negative\",\"Positive\",\"Neutral\",\"Negative\",\"Positive\",\"Positive\",\"Negative\",\"Positive\",\"Positive\",\"Neutral\",\"Positive\",\"Positive\",\"Positive\",\"Negative\",\"Positive\",\"Negative\",\"Negative\",\"Positive\",\"Negative\",\"Negative\",\"Neutral\",\"Negative\",\"Neutral\",\"Positive\",\"Neutral\",\"Neutral\",\"Negative\",\"Neutral\",\"Negative\",\"Positive\",\"Positive\",\"Negative\",\"Positive\",\"Negative\",\"Positive\",\"Positive\",\"Neutral\",\"Negative\",\"Positive\",\"Positive\",\"Negative\",\"Positive\",\"Neutral\",\"Positive\",\"Negative\",\"Negative\",\"Neutral\",\"Positive\",\"Negative\",\"Negative\",\"Negative\",\"Positive\",\"Negative\",\"Positive\",\"Neutral\",\"Positive\",\"Positive\",\"Positive\",\"Positive\",\"Positive\",\"Positive\",\"Negative\",\"Positive\",\"Positive\",\"Positive\",\"Positive\",\"Neutral\",\"Positive\",\"Negative\",\"Positive\",\"Positive\",\"Neutral\",\"Positive\",\"Positive\",\"Neutral\",\"Negative\",\"Positive\",\"Neutral\",\"Positive\",\"Positive\",\"Negative\",\"Positive\",\"Neutral\",\"Negative\",\"Neutral\",\"Negative\",\"Positive\",\"Positive\",\"Negative\",\"Neutral\",\"Neutral\",\"Neutral\",\"Positive\",\"Neutral\",\"Positive\",\"Negative\",\"Neutral\",\"Positive\",\"Negative\",\"Positive\",\"Negative\",\"Positive\",\"Neutral\",\"Negative\",\"Neutral\",\"Positive\",\"Negative\",\"Neutral\",\"Negative\",\"Negative\",\"Negative\",\"Positive\",\"Negative\",\"Positive\",\"Negative\",\"Positive\",\"Negative\",\"Negative\",\"Neutral\",\"Positive\",\"Neutral\",\"Positive\",\"Positive\",\"Positive\",\"Positive\",\"Negative\",\"Positive\",\"Negative\",\"Negative\",\"Positive\",\"Positive\",\"Positive\",\"Positive\",\"Positive\",\"Positive\",\"Negative\",\"Neutral\",\"Neutral\",\"Positive\",\"Positive\",\"Positive\",\"Neutral\",\"Neutral\",\"Negative\",\"Neutral\",\"Positive\",\"Neutral\",\"Positive\",\"Positive\",\"Neutral\",\"Positive\",\"Negative\",\"Positive\",\"Negative\",\"Positive\",\"Positive\",\"Positive\",\"Negative\",\"Negative\",\"Positive\",\"Neutral\",\"Neutral\",\"Positive\",\"Positive\",\"Positive\",\"Neutral\",\"Negative\",\"Neutral\",\"Neutral\",\"Negative\",\"Positive\",\"Positive\",\"Positive\",\"Negative\",\"Positive\",\"Positive\",\"Positive\",\"Positive\",\"Negative\",\"Negative\",\"Neutral\",\"Positive\",\"Positive\",\"Neutral\",\"Positive\",\"Neutral\",\"Negative\",\"Positive\",\"Negative\",\"Negative\",\"Negative\",\"Neutral\",\"Positive\",\"Neutral\",\"Neutral\",\"Negative\",\"Positive\",\"Positive\",\"Negative\",\"Neutral\",\"Positive\",\"Negative\",\"Neutral\",\"Negative\",\"Positive\",\"Negative\",\"Negative\",\"Positive\",\"Positive\",\"Negative\",\"Positive\",\"Negative\",\"Positive\",\"Positive\",\"Neutral\",\"Negative\",\"Negative\",\"Neutral\",\"Positive\",\"Negative\",\"Negative\",\"Positive\",\"Positive\",\"Positive\",\"Negative\",\"Neutral\",\"Positive\",\"Positive\",\"Neutral\",\"Positive\",\"Positive\",\"Positive\",\"Negative\",\"Positive\",\"Positive\",\"Positive\",\"Positive\",\"Neutral\",\"Positive\",\"Neutral\",\"Negative\",\"Positive\",\"Positive\",\"Positive\",\"Negative\",\"Neutral\",\"Positive\",\"Positive\",\"Positive\",\"Negative\",\"Neutral\",\"Neutral\",\"Positive\",\"Neutral\",\"Positive\",\"Positive\",\"Negative\",\"Negative\",\"Neutral\",\"Negative\",\"Negative\",\"Neutral\",\"Positive\",\"Negative\",\"Positive\",\"Negative\",\"Negative\",\"Positive\",\"Negative\",\"Negative\",\"Negative\",\"Negative\",\"Neutral\",\"Positive\",\"Neutral\",\"Negative\",\"Positive\",\"Neutral\",\"Neutral\",\"Negative\",\"Negative\",\"Neutral\",\"Neutral\",\"Negative\",\"Positive\",\"Positive\",\"Negative\",\"Positive\",\"Positive\",\"Negative\",\"Negative\",\"Positive\",\"Neutral\",\"Negative\",\"Negative\",\"Positive\",\"Positive\",\"Positive\",\"Positive\",\"Neutral\",\"Positive\",\"Positive\",\"Negative\",\"Negative\",\"Positive\",\"Negative\",\"Negative\",\"Positive\",\"Positive\",\"Positive\",\"Neutral\",\"Negative\",\"Negative\",\"Positive\",\"Negative\",\"Positive\",\"Neutral\",\"Neutral\",\"Positive\",\"Positive\",\"Neutral\",\"Negative\",\"Neutral\",\"Neutral\",\"Positive\",\"Neutral\",\"Neutral\",\"Positive\",\"Neutral\",\"Positive\",\"Positive\",\"Positive\",\"Neutral\",\"Positive\",\"Positive\",\"Positive\",\"Negative\",\"Negative\",\"Positive\",\"Positive\",\"Negative\",\"Positive\",\"Neutral\",\"Neutral\",\"Positive\",\"Neutral\",\"Neutral\",\"Negative\",\"Positive\",\"Positive\",\"Negative\",\"Positive\",\"Positive\",\"Positive\",\"Neutral\",\"Positive\",\"Negative\",\"Neutral\",\"Negative\",\"Positive\",\"Positive\",\"Positive\",\"Neutral\",\"Positive\",\"Negative\",\"Neutral\",\"Neutral\",\"Positive\",\"Neutral\",\"Positive\",\"Negative\",\"Neutral\",\"Positive\",\"Negative\",\"Positive\",\"Positive\",\"Positive\",\"Neutral\",\"Negative\",\"Positive\",\"Positive\",\"Negative\",\"Negative\",\"Neutral\",\"Positive\",\"Positive\",\"Neutral\",\"Negative\",\"Neutral\",\"Negative\",\"Negative\",\"Positive\",\"Negative\",\"Positive\",\"Neutral\",\"Negative\",\"Positive\",\"Positive\",\"Negative\",\"Positive\",\"Positive\",\"Positive\",\"Neutral\",\"Positive\",\"Negative\",\"Positive\",\"Negative\",\"Positive\",\"Positive\",\"Positive\",\"Positive\",\"Negative\",\"Neutral\",\"Negative\",\"Positive\",\"Positive\",\"Negative\",\"Positive\",\"Positive\",\"Neutral\",\"Positive\",\"Negative\",\"Negative\",\"Negative\",\"Positive\",\"Positive\",\"Positive\",\"Positive\",\"Neutral\",\"Positive\",\"Negative\",\"Neutral\",\"Negative\",\"Positive\",\"Positive\",\"Positive\",\"Positive\",\"Positive\",\"Negative\",\"Neutral\",\"Positive\",\"Positive\",\"Positive\",\"Positive\",\"Positive\",\"Neutral\",\"Neutral\",\"Positive\",\"Positive\",\"Negative\",\"Negative\",\"Positive\",\"Negative\",\"Positive\",\"Neutral\",\"Positive\",\"Positive\",\"Positive\",\"Positive\",\"Positive\",\"Neutral\",\"Positive\",\"Positive\",\"Positive\",\"Neutral\",\"Positive\",\"Positive\",\"Positive\",\"Positive\",\"Positive\",\"Positive\",\"Neutral\",\"Negative\",\"Negative\",\"Negative\",\"Negative\",\"Neutral\",\"Positive\",\"Positive\",\"Neutral\",\"Negative\",\"Positive\",\"Positive\",\"Positive\",\"Positive\",\"Positive\",\"Negative\",\"Negative\",\"Positive\",\"Negative\",\"Positive\",\"Positive\",\"Positive\",\"Negative\",\"Negative\",\"Positive\",\"Negative\",\"Negative\",\"Negative\",\"Neutral\",\"Positive\",\"Neutral\",\"Positive\",\"Neutral\",\"Neutral\",\"Negative\",\"Positive\",\"Neutral\",\"Positive\",\"Positive\",\"Positive\",\"Neutral\",\"Positive\",\"Neutral\",\"Positive\",\"Positive\",\"Negative\",\"Positive\",\"Negative\",\"Positive\",\"Negative\",\"Positive\",\"Negative\",\"Positive\",\"Negative\",\"Neutral\",\"Neutral\",\"Positive\",\"Neutral\",\"Negative\",\"Positive\",\"Negative\",\"Neutral\",\"Neutral\",\"Positive\",\"Positive\",\"Positive\",\"Positive\",\"Positive\",\"Negative\",\"Negative\",\"Positive\",\"Positive\",\"Negative\",\"Positive\",\"Neutral\",\"Negative\",\"Negative\",\"Positive\",\"Positive\",\"Negative\",\"Positive\",\"Positive\",\"Positive\",\"Neutral\",\"Neutral\",\"Neutral\",\"Negative\",\"Neutral\",\"Positive\",\"Negative\",\"Negative\",\"Positive\",\"Positive\",\"Positive\",\"Neutral\",\"Positive\",\"Positive\",\"Positive\",\"Neutral\",\"Neutral\",\"Positive\",\"Positive\",\"Positive\",\"Positive\",\"Negative\",\"Positive\",\"Positive\",\"Negative\",\"Positive\",\"Positive\",\"Neutral\",\"Positive\",\"Negative\",\"Positive\",\"Positive\",\"Positive\",\"Positive\",\"Positive\",\"Neutral\",\"Positive\",\"Neutral\",\"Positive\",\"Positive\",\"Positive\",\"Neutral\",\"Negative\",\"Positive\",\"Positive\",\"Negative\",\"Neutral\",\"Negative\",\"Positive\",\"Negative\",\"Positive\",\"Negative\",\"Negative\",\"Positive\",\"Negative\",\"Negative\",\"Positive\",\"Positive\",\"Negative\",\"Negative\",\"Neutral\",\"Negative\",\"Positive\",\"Positive\",\"Negative\",\"Negative\",\"Positive\",\"Negative\",\"Positive\",\"Positive\",\"Neutral\",\"Positive\",\"Negative\",\"Negative\",\"Neutral\",\"Positive\",\"Negative\",\"Positive\",\"Positive\",\"Negative\",\"Positive\",\"Neutral\",\"Positive\",\"Positive\",\"Neutral\",\"Positive\",\"Negative\",\"Positive\",\"Positive\",\"Negative\",\"Negative\",\"Neutral\",\"Negative\",\"Negative\",\"Positive\",\"Neutral\",\"Positive\",\"Neutral\",\"Positive\",\"Neutral\",\"Neutral\",\"Negative\",\"Positive\",\"Neutral\",\"Negative\",\"Positive\",\"Positive\",\"Neutral\",\"Positive\",\"Neutral\",\"Negative\",\"Negative\",\"Positive\",\"Negative\",\"Positive\",\"Negative\",\"Positive\",\"Neutral\",\"Positive\",\"Positive\",\"Positive\",\"Positive\",\"Positive\",\"Positive\",\"Neutral\",\"Positive\",\"Neutral\",\"Neutral\",\"Positive\",\"Positive\",\"Neutral\",\"Positive\",\"Neutral\",\"Positive\",\"Negative\",\"Neutral\",\"Positive\",\"Positive\",\"Neutral\",\"Positive\",\"Positive\",\"Positive\",\"Positive\",\"Neutral\",\"Positive\",\"Positive\",\"Negative\",\"Positive\",\"Negative\",\"Negative\",\"Positive\",\"Neutral\",\"Neutral\",\"Positive\",\"Neutral\",\"Positive\",\"Positive\",\"Negative\",\"Positive\",\"Positive\",\"Neutral\",\"Negative\",\"Positive\",\"Positive\",\"Negative\",\"Positive\",\"Positive\",\"Neutral\",\"Neutral\",\"Positive\",\"Positive\",\"Neutral\",\"Negative\",\"Negative\",\"Positive\",\"Positive\",\"Neutral\",\"Negative\",\"Neutral\",\"Positive\",\"Positive\",\"Neutral\",\"Positive\",\"Positive\",\"Neutral\",\"Positive\",\"Positive\",\"Positive\",\"Negative\",\"Neutral\",\"Negative\",\"Positive\",\"Positive\",\"Negative\",\"Neutral\",\"Negative\",\"Neutral\",\"Positive\",\"Positive\",\"Positive\",\"Negative\",\"Neutral\",\"Positive\",\"Negative\",\"Positive\",\"Positive\",\"Neutral\",\"Neutral\",\"Negative\",\"Positive\",\"Positive\",\"Positive\",\"Positive\",\"Negative\",\"Negative\",\"Negative\",\"Neutral\",\"Negative\",\"Positive\",\"Neutral\",\"Positive\",\"Positive\",\"Positive\",\"Positive\",\"Positive\",\"Positive\",\"Neutral\",\"Positive\",\"Negative\",\"Positive\",\"Positive\",\"Positive\",\"Negative\",\"Positive\",\"Negative\",\"Positive\",\"Positive\",\"Positive\",\"Negative\",\"Negative\",\"Negative\",\"Positive\",\"Positive\",\"Positive\",\"Positive\",\"Neutral\",\"Positive\",\"Positive\",\"Neutral\",\"Positive\",\"Neutral\",\"Negative\",\"Neutral\",\"Positive\",\"Positive\",\"Negative\",\"Negative\",\"Negative\",\"Positive\",\"Neutral\",\"Negative\",\"Positive\",\"Neutral\",\"Negative\",\"Negative\",\"Neutral\",\"Positive\",\"Positive\",\"Neutral\",\"Neutral\",\"Neutral\",\"Neutral\",\"Positive\",\"Neutral\",\"Negative\",\"Positive\",\"Positive\",\"Positive\",\"Positive\",\"Positive\",\"Neutral\",\"Negative\",\"Positive\",\"Positive\",\"Positive\",\"Negative\",\"Negative\",\"Positive\",\"Negative\",\"Neutral\",\"Positive\",\"Positive\",\"Negative\",\"Neutral\",\"Neutral\",\"Negative\",\"Positive\",\"Negative\",\"Neutral\",\"Negative\",\"Neutral\",\"Positive\",\"Negative\",\"Negative\",\"Neutral\",\"Positive\",\"Positive\",\"Neutral\",\"Negative\",\"Neutral\",\"Positive\",\"Positive\",\"Positive\",\"Negative\",\"Positive\",\"Positive\",\"Negative\",\"Positive\",\"Positive\",\"Neutral\",\"Negative\",\"Neutral\",\"Positive\",\"Neutral\",\"Neutral\",\"Negative\",\"Negative\",\"Neutral\",\"Negative\",\"Positive\",\"Neutral\",\"Positive\",\"Positive\",\"Neutral\",\"Neutral\",\"Negative\",\"Neutral\",\"Neutral\",\"Positive\",\"Positive\",\"Negative\",\"Positive\",\"Neutral\",\"Negative\",\"Negative\",\"Positive\",\"Positive\",\"Negative\",\"Neutral\",\"Positive\",\"Negative\",\"Positive\",\"Positive\",\"Neutral\",\"Negative\",\"Positive\",\"Positive\",\"Positive\",\"Positive\",\"Negative\",\"Neutral\",\"Neutral\",\"Neutral\",\"Negative\",\"Negative\",\"Positive\",\"Positive\",\"Negative\",\"Positive\",\"Neutral\",\"Neutral\",\"Negative\",\"Negative\",\"Neutral\",\"Positive\",\"Negative\",\"Negative\",\"Negative\",\"Positive\",\"Positive\",\"Positive\",\"Positive\",\"Negative\",\"Positive\",\"Positive\",\"Negative\",\"Positive\",\"Positive\",\"Positive\",\"Positive\",\"Positive\",\"Negative\",\"Positive\",\"Positive\",\"Positive\",\"Negative\",\"Positive\",\"Positive\",\"Positive\",\"Negative\",\"Negative\",\"Positive\",\"Positive\",\"Positive\",\"Positive\",\"Negative\",\"Negative\",\"Positive\",\"Negative\",\"Neutral\",\"Positive\",\"Positive\",\"Negative\",\"Positive\",\"Negative\",\"Positive\",\"Neutral\",\"Negative\",\"Positive\",\"Positive\",\"Positive\",\"Positive\",\"Positive\",\"Positive\",\"Positive\",\"Negative\",\"Positive\",\"Positive\",\"Positive\",\"Neutral\",\"Positive\",\"Positive\",\"Neutral\",\"Neutral\",\"Positive\",\"Negative\",\"Negative\",\"Neutral\",\"Negative\",\"Negative\",\"Neutral\",\"Positive\",\"Positive\",\"Positive\",\"Negative\",\"Neutral\",\"Negative\",\"Neutral\",\"Neutral\",\"Negative\",\"Positive\",\"Positive\",\"Positive\",\"Neutral\",\"Positive\",\"Positive\",\"Neutral\",\"Positive\",\"Negative\",\"Positive\",\"Neutral\",\"Positive\",\"Positive\",\"Positive\",\"Positive\",\"Positive\",\"Positive\",\"Negative\",\"Positive\",\"Positive\",\"Positive\",\"Positive\",\"Positive\",\"Neutral\",\"Positive\",\"Positive\",\"Negative\",\"Positive\",\"Negative\",\"Positive\",\"Positive\",\"Negative\",\"Negative\",\"Positive\",\"Negative\",\"Neutral\",\"Neutral\",\"Positive\",\"Negative\",\"Negative\",\"Positive\",\"Neutral\",\"Negative\",\"Positive\",\"Positive\",\"Positive\",\"Negative\",\"Neutral\",\"Positive\",\"Positive\",\"Negative\",\"Positive\",\"Negative\",\"Positive\",\"Positive\",\"Positive\",\"Negative\",\"Positive\",\"Positive\",\"Positive\",\"Positive\",\"Negative\",\"Positive\",\"Positive\",\"Positive\",\"Neutral\",\"Positive\",\"Negative\",\"Positive\",\"Positive\",\"Positive\",\"Positive\",\"Negative\",\"Neutral\",\"Negative\",\"Neutral\",\"Positive\",\"Positive\",\"Positive\",\"Positive\",\"Positive\",\"Positive\",\"Positive\",\"Negative\",\"Negative\",\"Negative\",\"Neutral\",\"Neutral\",\"Negative\",\"Positive\",\"Positive\",\"Positive\",\"Positive\",\"Negative\",\"Positive\",\"Neutral\",\"Positive\",\"Positive\",\"Positive\",\"Neutral\",\"Positive\",\"Positive\",\"Negative\",\"Neutral\",\"Positive\",\"Positive\",\"Positive\",\"Neutral\",\"Positive\",\"Neutral\",\"Positive\",\"Negative\",\"Positive\",\"Positive\",\"Neutral\",\"Negative\",\"Neutral\",\"Negative\",\"Positive\",\"Negative\",\"Negative\",\"Positive\",\"Neutral\",\"Positive\",\"Positive\",\"Positive\",\"Neutral\",\"Positive\",\"Positive\",\"Positive\",\"Negative\",\"Positive\",\"Positive\",\"Neutral\",\"Positive\",\"Positive\",\"Positive\",\"Neutral\",\"Negative\",\"Negative\",\"Positive\",\"Positive\",\"Positive\",\"Neutral\",\"Neutral\",\"Neutral\",\"Negative\",\"Positive\",\"Negative\",\"Positive\",\"Negative\",\"Negative\",\"Positive\",\"Negative\",\"Neutral\",\"Neutral\",\"Positive\",\"Positive\",\"Positive\",\"Neutral\",\"Negative\",\"Positive\",\"Positive\",\"Positive\",\"Positive\",\"Positive\",\"Negative\",\"Negative\",\"Positive\",\"Positive\",\"Positive\",\"Neutral\",\"Negative\",\"Neutral\",\"Negative\",\"Neutral\",\"Negative\",\"Positive\",\"Positive\",\"Positive\",\"Negative\",\"Positive\",\"Positive\",\"Neutral\",\"Negative\",\"Positive\",\"Negative\",\"Negative\",\"Positive\",\"Positive\",\"Negative\",\"Negative\",\"Positive\",\"Positive\",\"Positive\",\"Neutral\",\"Positive\",\"Positive\",\"Positive\",\"Negative\",\"Positive\",\"Positive\",\"Positive\",\"Negative\",\"Neutral\",\"Positive\",\"Negative\",\"Negative\",\"Positive\",\"Neutral\",\"Negative\",\"Positive\",\"Positive\",\"Negative\",\"Positive\",\"Negative\",\"Neutral\",\"Negative\",\"Neutral\",\"Negative\",\"Positive\",\"Negative\",\"Negative\",\"Negative\",\"Neutral\",\"Negative\",\"Positive\",\"Negative\",\"Negative\",\"Positive\",\"Negative\",\"Positive\",\"Positive\",\"Negative\",\"Neutral\",\"Negative\",\"Positive\",\"Positive\",\"Positive\",\"Positive\",\"Positive\",\"Negative\",\"Positive\",\"Positive\",\"Positive\",\"Positive\",\"Positive\",\"Positive\",\"Neutral\",\"Negative\",\"Neutral\",\"Neutral\",\"Positive\",\"Positive\",\"Negative\",\"Neutral\",\"Neutral\",\"Positive\",\"Positive\",\"Neutral\",\"Negative\",\"Positive\",\"Negative\",\"Negative\",\"Positive\",\"Positive\",\"Neutral\",\"Neutral\",\"Positive\",\"Positive\",\"Positive\",\"Neutral\",\"Positive\",\"Positive\",\"Positive\",\"Positive\",\"Positive\",\"Negative\",\"Positive\",\"Neutral\",\"Neutral\",\"Positive\",\"Negative\",\"Positive\",\"Positive\",\"Positive\",\"Neutral\",\"Neutral\",\"Negative\",\"Negative\",\"Negative\",\"Negative\",\"Neutral\",\"Positive\",\"Positive\",\"Negative\",\"Neutral\",\"Negative\",\"Positive\",\"Negative\",\"Negative\",\"Neutral\",\"Positive\",\"Neutral\",\"Negative\",\"Positive\",\"Neutral\",\"Positive\",\"Positive\",\"Positive\",\"Positive\",\"Positive\",\"Negative\",\"Negative\",\"Neutral\",\"Positive\",\"Negative\",\"Negative\",\"Positive\",\"Negative\",\"Positive\",\"Positive\",\"Neutral\",\"Negative\",\"Positive\",\"Positive\",\"Negative\",\"Neutral\",\"Positive\",\"Negative\",\"Neutral\",\"Negative\",\"Negative\",\"Negative\",\"Positive\",\"Positive\",\"Positive\",\"Positive\",\"Positive\",\"Neutral\",\"Negative\",\"Positive\",\"Neutral\",\"Negative\",\"Positive\",\"Positive\",\"Positive\",\"Neutral\",\"Neutral\",\"Positive\",\"Positive\",\"Neutral\",\"Negative\",\"Negative\",\"Positive\",\"Negative\",\"Positive\",\"Positive\",\"Positive\",\"Negative\",\"Neutral\",\"Positive\",\"Positive\",\"Positive\",\"Negative\",\"Positive\",\"Neutral\",\"Positive\",\"Neutral\",\"Positive\",\"Positive\",\"Positive\",\"Positive\",\"Negative\",\"Neutral\",\"Positive\",\"Neutral\",\"Negative\",\"Negative\",\"Positive\",\"Negative\",\"Positive\",\"Positive\",\"Negative\",\"Negative\",\"Negative\",\"Negative\",\"Negative\",\"Neutral\",\"Negative\",\"Negative\",\"Positive\",\"Negative\",\"Neutral\",\"Positive\",\"Positive\",\"Negative\",\"Positive\",\"Negative\",\"Neutral\",\"Positive\",\"Positive\",\"Negative\",\"Negative\",\"Positive\",\"Negative\",\"Positive\",\"Negative\",\"Negative\",\"Negative\",\"Negative\",\"Neutral\",\"Negative\",\"Negative\",\"Positive\",\"Negative\",\"Positive\",\"Positive\",\"Neutral\",\"Neutral\",\"Positive\",\"Positive\",\"Neutral\",\"Positive\",\"Neutral\",\"Negative\",\"Positive\",\"Negative\",\"Neutral\",\"Negative\",\"Negative\",\"Positive\",\"Neutral\",\"Positive\",\"Positive\",\"Positive\",\"Negative\",\"Negative\",\"Negative\",\"Negative\",\"Positive\",\"Negative\",\"Positive\",\"Negative\",\"Negative\",\"Negative\",\"Positive\",\"Negative\",\"Negative\",\"Positive\",\"Negative\",\"Positive\",\"Neutral\",\"Neutral\",\"Neutral\",\"Positive\",\"Positive\",\"Negative\",\"Positive\",\"Neutral\",\"Positive\",\"Positive\",\"Positive\",\"Neutral\",\"Neutral\",\"Positive\",\"Positive\",\"Positive\",\"Neutral\",\"Neutral\",\"Negative\",\"Positive\",\"Positive\",\"Positive\",\"Negative\",\"Negative\",\"Positive\",\"Positive\",\"Positive\",\"Positive\",\"Positive\",\"Positive\",\"Neutral\",\"Neutral\",\"Neutral\",\"Positive\",\"Neutral\",\"Positive\",\"Positive\",\"Positive\",\"Negative\",\"Negative\",\"Neutral\",\"Positive\",\"Negative\",\"Positive\",\"Negative\",\"Positive\",\"Positive\",\"Positive\",\"Positive\",\"Positive\",\"Positive\",\"Positive\",\"Negative\",\"Negative\",\"Neutral\",\"Negative\",\"Positive\",\"Positive\",\"Positive\",\"Positive\",\"Negative\",\"Positive\",\"Positive\",\"Positive\",\"Positive\",\"Positive\",\"Positive\",\"Positive\",\"Neutral\",\"Positive\",\"Negative\",\"Positive\",\"Positive\",\"Negative\",\"Positive\",\"Positive\",\"Negative\",\"Neutral\",\"Positive\",\"Positive\",\"Negative\",\"Negative\",\"Positive\",\"Negative\",\"Negative\",\"Positive\",\"Positive\",\"Negative\",\"Negative\",\"Neutral\",\"Negative\",\"Neutral\",\"Positive\",\"Neutral\",\"Positive\",\"Negative\",\"Positive\",\"Neutral\",\"Neutral\",\"Negative\",\"Positive\",\"Positive\",\"Positive\",\"Positive\",\"Positive\",\"Positive\",\"Negative\",\"Negative\",\"Positive\",\"Positive\",\"Positive\",\"Positive\",\"Positive\",\"Negative\",\"Negative\",\"Negative\",\"Neutral\",\"Positive\",\"Negative\",\"Positive\",\"Negative\",\"Negative\",\"Positive\",\"Negative\",\"Neutral\",\"Positive\",\"Negative\",\"Neutral\",\"Positive\",\"Positive\",\"Negative\",\"Positive\",\"Positive\",\"Positive\",\"Neutral\",\"Positive\",\"Negative\",\"Positive\",\"Neutral\",\"Positive\",\"Positive\",\"Positive\",\"Positive\",\"Neutral\",\"Positive\",\"Positive\",\"Positive\",\"Positive\",\"Positive\",\"Neutral\",\"Positive\",\"Negative\",\"Neutral\",\"Neutral\",\"Positive\",\"Negative\",\"Positive\",\"Positive\",\"Negative\",\"Negative\",\"Positive\",\"Positive\",\"Positive\",\"Positive\",\"Positive\",\"Positive\",\"Negative\",\"Positive\",\"Positive\",\"Positive\",\"Negative\",\"Negative\",\"Negative\",\"Negative\",\"Positive\",\"Positive\",\"Positive\",\"Positive\",\"Positive\",\"Negative\",\"Negative\",\"Positive\",\"Negative\",\"Negative\",\"Negative\",\"Positive\",\"Positive\",\"Positive\",\"Positive\",\"Positive\",\"Neutral\",\"Positive\",\"Positive\",\"Positive\",\"Positive\",\"Positive\",\"Negative\",\"Negative\",\"Neutral\",\"Positive\",\"Positive\",\"Positive\",\"Positive\",\"Neutral\",\"Positive\",\"Positive\",\"Negative\",\"Positive\",\"Positive\",\"Negative\",\"Negative\",\"Positive\",\"Negative\",\"Positive\",\"Positive\",\"Negative\",\"Neutral\",\"Neutral\",\"Positive\",\"Positive\",\"Neutral\",\"Positive\",\"Positive\",\"Positive\",\"Positive\",\"Positive\",\"Negative\",\"Negative\",\"Positive\",\"Positive\",\"Positive\",\"Positive\",\"Negative\",\"Positive\",\"Negative\",\"Positive\",\"Negative\",\"Negative\",\"Negative\",\"Neutral\",\"Negative\",\"Positive\",\"Negative\",\"Negative\",\"Neutral\",\"Neutral\",\"Neutral\",\"Negative\",\"Positive\",\"Negative\",\"Neutral\",\"Neutral\",\"Positive\",\"Negative\",\"Positive\",\"Neutral\",\"Negative\",\"Positive\",\"Positive\",\"Negative\",\"Positive\",\"Positive\",\"Negative\",\"Positive\",\"Neutral\",\"Positive\",\"Negative\",\"Negative\",\"Positive\",\"Neutral\",\"Positive\",\"Negative\",\"Positive\",\"Negative\",\"Positive\",\"Neutral\",\"Negative\",\"Negative\",\"Neutral\",\"Neutral\",\"Negative\",\"Positive\",\"Negative\",\"Positive\",\"Neutral\",\"Negative\",\"Negative\",\"Neutral\",\"Positive\",\"Negative\",\"Neutral\",\"Negative\",\"Positive\",\"Positive\",\"Neutral\",\"Negative\",\"Neutral\",\"Negative\",\"Neutral\",\"Positive\",\"Neutral\",\"Positive\",\"Positive\",\"Negative\",\"Positive\",\"Positive\",\"Positive\",\"Positive\",\"Negative\",\"Positive\",\"Positive\",\"Positive\",\"Neutral\",\"Neutral\",\"Negative\",\"Neutral\",\"Negative\",\"Positive\",\"Negative\",\"Neutral\",\"Neutral\",\"Positive\",\"Negative\",\"Positive\",\"Negative\",\"Negative\",\"Negative\",\"Neutral\",\"Positive\",\"Positive\",\"Positive\",\"Neutral\",\"Negative\",\"Positive\",\"Neutral\",\"Positive\",\"Positive\",\"Positive\",\"Neutral\",\"Positive\",\"Negative\",\"Negative\",\"Neutral\",\"Positive\",\"Positive\",\"Positive\",\"Positive\",\"Negative\",\"Positive\",\"Positive\",\"Positive\",\"Neutral\",\"Positive\",\"Positive\",\"Positive\",\"Neutral\",\"Negative\",\"Positive\",\"Positive\",\"Negative\",\"Positive\",\"Positive\",\"Positive\",\"Negative\",\"Negative\",\"Neutral\",\"Negative\",\"Positive\",\"Neutral\",\"Positive\",\"Neutral\",\"Positive\",\"Negative\",\"Negative\",\"Positive\",\"Positive\",\"Positive\",\"Positive\",\"Neutral\",\"Neutral\",\"Neutral\",\"Negative\",\"Neutral\",\"Positive\",\"Neutral\",\"Positive\",\"Positive\",\"Positive\",\"Negative\",\"Positive\",\"Negative\",\"Positive\",\"Neutral\",\"Negative\",\"Neutral\",\"Neutral\",\"Negative\",\"Positive\",\"Negative\",\"Negative\",\"Positive\",\"Positive\",\"Positive\",\"Neutral\",\"Negative\",\"Negative\",\"Negative\",\"Negative\",\"Positive\",\"Positive\",\"Positive\",\"Positive\",\"Positive\",\"Neutral\",\"Positive\",\"Negative\",\"Negative\",\"Positive\",\"Positive\",\"Negative\",\"Positive\",\"Positive\",\"Negative\",\"Negative\",\"Neutral\",\"Negative\",\"Neutral\",\"Neutral\",\"Positive\",\"Negative\",\"Positive\",\"Positive\",\"Negative\",\"Positive\",\"Negative\",\"Positive\",\"Positive\",\"Positive\",\"Neutral\",\"Neutral\",\"Positive\",\"Neutral\",\"Neutral\",\"Positive\",\"Positive\",\"Neutral\",\"Negative\",\"Negative\",\"Negative\",\"Neutral\",\"Neutral\",\"Negative\",\"Positive\",\"Positive\",\"Positive\",\"Positive\",\"Negative\",\"Positive\",\"Positive\",\"Positive\",\"Neutral\",\"Positive\",\"Positive\",\"Negative\",\"Positive\",\"Negative\",\"Neutral\",\"Negative\",\"Neutral\",\"Neutral\",\"Negative\",\"Neutral\",\"Positive\",\"Negative\",\"Negative\",\"Neutral\",\"Negative\",\"Positive\",\"Positive\",\"Positive\",\"Neutral\",\"Positive\",\"Positive\",\"Positive\",\"Positive\",\"Positive\",\"Negative\",\"Negative\",\"Neutral\",\"Neutral\",\"Neutral\",\"Neutral\",\"Positive\",\"Negative\",\"Neutral\",\"Negative\",\"Negative\",\"Negative\",\"Neutral\",\"Positive\",\"Neutral\",\"Positive\",\"Negative\",\"Positive\",\"Positive\",\"Negative\",\"Positive\",\"Positive\",\"Neutral\",\"Negative\",\"Positive\",\"Positive\",\"Neutral\",\"Negative\",\"Neutral\",\"Negative\",\"Negative\",\"Positive\",\"Positive\",\"Negative\",\"Negative\",\"Negative\",\"Neutral\",\"Negative\",\"Neutral\",\"Positive\",\"Negative\",\"Negative\",\"Positive\",\"Negative\",\"Neutral\",\"Neutral\",\"Neutral\",\"Neutral\",\"Positive\",\"Negative\",\"Neutral\",\"Negative\",\"Neutral\",\"Positive\",\"Negative\",\"Positive\",\"Neutral\",\"Positive\",\"Positive\",\"Negative\",\"Negative\",\"Negative\",\"Neutral\",\"Positive\",\"Negative\",\"Negative\",\"Positive\",\"Negative\",\"Negative\",\"Negative\",\"Positive\",\"Negative\",\"Neutral\",\"Negative\",\"Positive\",\"Neutral\",\"Negative\",\"Neutral\",\"Neutral\",\"Neutral\",\"Negative\",\"Positive\",\"Neutral\",\"Positive\",\"Negative\",\"Negative\",\"Positive\",\"Neutral\",\"Positive\",\"Positive\",\"Neutral\",\"Negative\",\"Positive\",\"Neutral\",\"Negative\",\"Neutral\",\"Positive\",\"Positive\",\"Positive\",\"Negative\",\"Neutral\",\"Positive\",\"Negative\",\"Neutral\",\"Neutral\",\"Neutral\",\"Negative\",\"Negative\",\"Positive\",\"Positive\",\"Neutral\",\"Negative\",\"Positive\",\"Negative\",\"Neutral\",\"Negative\",\"Negative\",\"Negative\",\"Neutral\",\"Negative\",\"Positive\",\"Positive\",\"Positive\",\"Negative\",\"Positive\",\"Positive\",\"Positive\",\"Positive\",\"Negative\",\"Positive\",\"Negative\",\"Positive\",\"Positive\",\"Negative\",\"Positive\",\"Negative\",\"Positive\",\"Positive\",\"Positive\",\"Negative\",\"Positive\",\"Positive\",\"Neutral\",\"Positive\",\"Neutral\",\"Neutral\",\"Positive\",\"Neutral\",\"Positive\",\"Neutral\",\"Negative\",\"Negative\",\"Positive\",\"Positive\",\"Negative\",\"Positive\",\"Neutral\",\"Positive\",\"Positive\",\"Positive\",\"Positive\",\"Neutral\",\"Positive\",\"Negative\",\"Positive\",\"Neutral\",\"Positive\",\"Neutral\",\"Neutral\",\"Negative\",\"Neutral\",\"Neutral\",\"Positive\",\"Negative\",\"Negative\",\"Neutral\",\"Negative\",\"Negative\",\"Positive\",\"Positive\",\"Positive\",\"Neutral\",\"Negative\",\"Negative\",\"Negative\",\"Positive\",\"Negative\",\"Negative\",\"Neutral\",\"Negative\",\"Neutral\",\"Negative\",\"Positive\",\"Positive\",\"Neutral\",\"Neutral\",\"Neutral\",\"Positive\",\"Positive\",\"Negative\",\"Positive\",\"Neutral\",\"Positive\",\"Negative\",\"Negative\",\"Positive\",\"Positive\",\"Positive\",\"Negative\",\"Positive\",\"Positive\",\"Negative\",\"Positive\",\"Positive\",\"Negative\",\"Positive\",\"Neutral\",\"Positive\",\"Negative\",\"Neutral\",\"Positive\",\"Neutral\",\"Positive\",\"Positive\",\"Positive\",\"Negative\",\"Positive\",\"Positive\",\"Negative\",\"Positive\",\"Positive\",\"Negative\",\"Positive\",\"Positive\",\"Negative\",\"Neutral\",\"Neutral\",\"Neutral\",\"Neutral\",\"Positive\",\"Negative\",\"Positive\",\"Positive\",\"Positive\",\"Positive\",\"Neutral\",\"Positive\",\"Positive\",\"Neutral\",\"Negative\",\"Positive\",\"Positive\",\"Positive\",\"Positive\",\"Negative\",\"Positive\",\"Negative\",\"Positive\",\"Neutral\",\"Positive\",\"Positive\",\"Negative\",\"Neutral\",\"Positive\",\"Negative\",\"Negative\",\"Neutral\",\"Neutral\",\"Negative\",\"Negative\",\"Positive\",\"Negative\",\"Positive\",\"Neutral\",\"Negative\",\"Negative\",\"Negative\",\"Neutral\",\"Negative\",\"Positive\",\"Neutral\",\"Negative\",\"Negative\",\"Positive\",\"Neutral\",\"Neutral\",\"Neutral\",\"Negative\",\"Positive\",\"Positive\",\"Positive\",\"Positive\",\"Negative\",\"Positive\",\"Negative\",\"Negative\",\"Positive\",\"Positive\",\"Positive\",\"Negative\",\"Positive\",\"Positive\",\"Positive\",\"Negative\",\"Negative\",\"Negative\",\"Neutral\",\"Neutral\",\"Positive\",\"Neutral\",\"Positive\",\"Positive\",\"Positive\",\"Positive\",\"Positive\",\"Positive\",\"Negative\",\"Negative\",\"Positive\",\"Positive\",\"Neutral\",\"Positive\",\"Positive\",\"Neutral\",\"Neutral\",\"Neutral\",\"Negative\",\"Positive\",\"Negative\",\"Negative\",\"Positive\",\"Neutral\",\"Positive\",\"Positive\",\"Positive\",\"Positive\",\"Positive\",\"Negative\",\"Negative\",\"Negative\",\"Negative\",\"Positive\",\"Negative\",\"Positive\",\"Positive\",\"Negative\",\"Negative\",\"Positive\",\"Positive\",\"Negative\",\"Positive\",\"Neutral\",\"Positive\",\"Positive\",\"Positive\",\"Positive\",\"Neutral\",\"Neutral\",\"Negative\",\"Positive\",\"Negative\",\"Negative\",\"Positive\",\"Neutral\",\"Neutral\",\"Neutral\",\"Positive\",\"Positive\",\"Neutral\",\"Neutral\",\"Negative\",\"Neutral\",\"Positive\",\"Positive\",\"Negative\",\"Positive\",\"Neutral\",\"Positive\",\"Positive\",\"Positive\",\"Negative\",\"Positive\",\"Positive\",\"Negative\",\"Negative\",\"Positive\",\"Positive\",\"Positive\",\"Positive\",\"Positive\",\"Positive\",\"Neutral\",\"Positive\",\"Negative\",\"Neutral\",\"Positive\",\"Positive\",\"Negative\",\"Positive\",\"Positive\",\"Neutral\",\"Positive\",\"Neutral\",\"Negative\",\"Neutral\",\"Negative\",\"Negative\",\"Negative\",\"Positive\",\"Negative\",\"Negative\",\"Positive\",\"Positive\",\"Positive\",\"Positive\",\"Positive\",\"Negative\",\"Negative\",\"Positive\",\"Neutral\",\"Neutral\",\"Neutral\",\"Positive\",\"Positive\",\"Positive\",\"Positive\",\"Positive\",\"Positive\",\"Positive\",\"Negative\",\"Positive\",\"Positive\",\"Positive\",\"Negative\",\"Neutral\",\"Positive\",\"Negative\",\"Positive\",\"Negative\",\"Neutral\",\"Neutral\",\"Negative\",\"Negative\",\"Negative\",\"Positive\",\"Neutral\",\"Positive\",\"Negative\",\"Negative\",\"Positive\",\"Positive\",\"Neutral\",\"Positive\",\"Positive\",\"Positive\",\"Negative\",\"Positive\",\"Positive\",\"Neutral\",\"Neutral\",\"Positive\",\"Positive\",\"Positive\",\"Neutral\",\"Positive\",\"Positive\",\"Negative\",\"Negative\",\"Negative\",\"Negative\",\"Negative\",\"Neutral\",\"Negative\",\"Neutral\",\"Positive\",\"Positive\",\"Positive\",\"Positive\",\"Neutral\",\"Negative\",\"Neutral\",\"Positive\",\"Positive\",\"Neutral\",\"Negative\",\"Positive\",\"Positive\",\"Positive\",\"Positive\",\"Negative\",\"Negative\",\"Negative\",\"Neutral\",\"Neutral\",\"Positive\",\"Negative\",\"Neutral\",\"Negative\",\"Positive\",\"Positive\",\"Negative\",\"Neutral\",\"Negative\",\"Positive\",\"Positive\",\"Negative\",\"Negative\",\"Positive\",\"Neutral\",\"Positive\",\"Neutral\",\"Positive\",\"Negative\",\"Positive\",\"Negative\",\"Negative\",\"Negative\",\"Positive\",\"Positive\",\"Positive\",\"Positive\",\"Negative\",\"Negative\",\"Negative\",\"Negative\",\"Positive\",\"Positive\",\"Positive\",\"Positive\",\"Positive\",\"Positive\",\"Negative\",\"Positive\",\"Positive\",\"Positive\",\"Positive\",\"Negative\",\"Negative\",\"Negative\",\"Positive\",\"Positive\",\"Neutral\",\"Negative\",\"Positive\",\"Negative\",\"Positive\",\"Neutral\",\"Negative\",\"Negative\",\"Negative\",\"Negative\",\"Negative\",\"Positive\",\"Positive\",\"Neutral\",\"Neutral\",\"Positive\",\"Positive\",\"Positive\",\"Positive\",\"Negative\",\"Positive\",\"Negative\",\"Neutral\",\"Positive\",\"Positive\",\"Positive\",\"Positive\",\"Positive\",\"Positive\",\"Neutral\",\"Negative\",\"Negative\",\"Negative\",\"Negative\",\"Positive\",\"Positive\",\"Positive\",\"Positive\",\"Negative\",\"Positive\",\"Negative\",\"Negative\",\"Positive\",\"Negative\",\"Positive\",\"Negative\",\"Negative\",\"Negative\",\"Positive\",\"Negative\",\"Negative\",\"Positive\",\"Negative\",\"Neutral\",\"Positive\",\"Positive\",\"Negative\",\"Negative\",\"Negative\",\"Positive\",\"Positive\",\"Positive\",\"Negative\",\"Negative\",\"Negative\",\"Negative\",\"Negative\",\"Neutral\",\"Negative\",\"Negative\",\"Negative\",\"Negative\",\"Negative\",\"Positive\",\"Negative\",\"Negative\",\"Positive\",\"Positive\",\"Negative\",\"Neutral\",\"Negative\",\"Negative\",\"Negative\",\"Positive\",\"Positive\",\"Positive\",\"Positive\",\"Negative\",\"Neutral\",\"Negative\",\"Positive\",\"Positive\",\"Positive\",\"Positive\",\"Positive\",\"Negative\",\"Positive\",\"Positive\",\"Negative\",\"Negative\",\"Positive\",\"Neutral\",\"Negative\",\"Negative\",\"Neutral\",\"Negative\",\"Positive\",\"Negative\",\"Negative\",\"Positive\",\"Neutral\",\"Positive\",\"Negative\",\"Positive\",\"Positive\",\"Negative\",\"Positive\",\"Negative\",\"Neutral\",\"Positive\",\"Neutral\",\"Neutral\",\"Negative\",\"Positive\",\"Positive\",\"Positive\",\"Positive\",\"Negative\",\"Positive\",\"Neutral\",\"Positive\",\"Neutral\",\"Positive\",\"Negative\",\"Negative\",\"Positive\",\"Positive\",\"Negative\",\"Negative\",\"Positive\",\"Positive\",\"Negative\",\"Negative\",\"Neutral\",\"Negative\",\"Positive\",\"Positive\",\"Neutral\",\"Neutral\",\"Negative\",\"Positive\",\"Positive\",\"Negative\",\"Neutral\",\"Positive\",\"Positive\",\"Neutral\",\"Positive\",\"Positive\",\"Positive\",\"Positive\",\"Negative\",\"Negative\",\"Negative\",\"Positive\",\"Neutral\",\"Neutral\",\"Positive\",\"Positive\",\"Neutral\",\"Positive\",\"Positive\",\"Negative\",\"Negative\",\"Positive\",\"Negative\",\"Negative\",\"Negative\",\"Neutral\",\"Positive\",\"Positive\",\"Positive\",\"Positive\",\"Positive\",\"Neutral\",\"Negative\",\"Negative\",\"Neutral\",\"Positive\",\"Neutral\",\"Negative\",\"Neutral\",\"Negative\",\"Negative\",\"Neutral\",\"Negative\",\"Positive\",\"Positive\",\"Negative\",\"Negative\",\"Negative\",\"Neutral\",\"Positive\",\"Negative\",\"Negative\",\"Negative\",\"Positive\",\"Positive\",\"Neutral\",\"Positive\",\"Negative\",\"Negative\",\"Negative\",\"Negative\",\"Positive\",\"Positive\",\"Neutral\",\"Positive\",\"Positive\",\"Negative\",\"Negative\",\"Negative\",\"Negative\",\"Positive\",\"Neutral\",\"Negative\",\"Neutral\",\"Negative\",\"Negative\",\"Positive\",\"Positive\",\"Neutral\",\"Negative\",\"Neutral\",\"Positive\",\"Neutral\",\"Negative\",\"Positive\",\"Neutral\",\"Positive\",\"Positive\",\"Positive\",\"Neutral\",\"Positive\",\"Negative\",\"Negative\",\"Negative\",\"Positive\",\"Positive\",\"Negative\",\"Neutral\",\"Negative\",\"Positive\",\"Positive\",\"Negative\",\"Neutral\",\"Negative\",\"Positive\",\"Positive\",\"Negative\",\"Neutral\",\"Negative\",\"Negative\",\"Positive\",\"Negative\",\"Positive\",\"Positive\",\"Neutral\",\"Positive\",\"Positive\",\"Negative\",\"Neutral\",\"Neutral\",\"Negative\",\"Positive\",\"Negative\",\"Positive\",\"Neutral\",\"Neutral\",\"Positive\",\"Negative\",\"Positive\",\"Positive\",\"Negative\",\"Positive\",\"Neutral\",\"Positive\",\"Neutral\",\"Positive\",\"Positive\",\"Neutral\",\"Negative\",\"Neutral\",\"Neutral\",\"Negative\",\"Neutral\",\"Positive\",\"Positive\",\"Negative\",\"Negative\",\"Positive\",\"Neutral\",\"Neutral\",\"Neutral\",\"Positive\",\"Positive\",\"Positive\",\"Positive\",\"Negative\",\"Negative\",\"Positive\",\"Positive\",\"Negative\",\"Negative\",\"Positive\",\"Positive\",\"Positive\",\"Positive\",\"Negative\",\"Negative\",\"Positive\",\"Positive\",\"Neutral\",\"Positive\",\"Negative\",\"Positive\",\"Positive\",\"Positive\",\"Positive\",\"Positive\",\"Negative\",\"Negative\",\"Negative\",\"Neutral\",\"Positive\",\"Negative\",\"Positive\",\"Positive\",\"Positive\",\"Positive\",\"Positive\",\"Positive\",\"Positive\",\"Neutral\",\"Positive\",\"Positive\",\"Neutral\",\"Positive\",\"Neutral\",\"Negative\",\"Negative\",\"Negative\",\"Neutral\",\"Negative\",\"Neutral\",\"Negative\",\"Negative\",\"Neutral\",\"Negative\",\"Negative\",\"Positive\",\"Negative\",\"Neutral\",\"Neutral\",\"Positive\",\"Neutral\",\"Positive\",\"Negative\",\"Negative\",\"Positive\",\"Positive\",\"Negative\",\"Positive\",\"Negative\",\"Negative\",\"Negative\",\"Neutral\",\"Negative\",\"Neutral\",\"Neutral\",\"Positive\",\"Positive\",\"Negative\",\"Negative\",\"Negative\",\"Negative\",\"Negative\",\"Negative\",\"Positive\",\"Positive\",\"Negative\",\"Positive\",\"Positive\",\"Positive\",\"Positive\",\"Neutral\",\"Negative\",\"Neutral\",\"Positive\",\"Positive\",\"Neutral\",\"Positive\",\"Positive\",\"Positive\",\"Negative\",\"Negative\",\"Positive\",\"Neutral\",\"Neutral\",\"Negative\",\"Positive\",\"Neutral\",\"Positive\",\"Neutral\",\"Positive\",\"Positive\",\"Positive\",\"Positive\",\"Positive\",\"Positive\",\"Negative\",\"Positive\",\"Negative\",\"Negative\",\"Positive\",\"Positive\",\"Positive\",\"Negative\",\"Negative\",\"Negative\",\"Positive\",\"Positive\",\"Positive\",\"Positive\",\"Positive\",\"Positive\",\"Neutral\",\"Positive\",\"Negative\",\"Negative\",\"Negative\",\"Negative\",\"Positive\",\"Negative\",\"Neutral\",\"Neutral\",\"Positive\",\"Negative\",\"Negative\",\"Positive\",\"Positive\",\"Positive\",\"Positive\",\"Negative\",\"Negative\",\"Positive\",\"Positive\",\"Neutral\",\"Positive\",\"Positive\",\"Positive\",\"Neutral\",\"Positive\",\"Positive\",\"Positive\",\"Positive\",\"Neutral\",\"Neutral\",\"Neutral\",\"Positive\",\"Positive\",\"Positive\",\"Negative\",\"Positive\",\"Neutral\",\"Positive\",\"Negative\",\"Neutral\",\"Neutral\",\"Neutral\",\"Positive\",\"Negative\",\"Positive\",\"Positive\",\"Positive\",\"Positive\",\"Positive\",\"Neutral\",\"Positive\",\"Negative\",\"Neutral\",\"Negative\",\"Positive\",\"Positive\",\"Neutral\",\"Positive\",\"Negative\",\"Positive\",\"Neutral\",\"Positive\",\"Neutral\",\"Neutral\",\"Positive\",\"Negative\",\"Neutral\",\"Negative\",\"Negative\",\"Negative\",\"Negative\",\"Negative\",\"Negative\",\"Negative\",\"Positive\",\"Positive\",\"Positive\",\"Positive\",\"Negative\",\"Positive\",\"Negative\",\"Negative\",\"Negative\",\"Positive\",\"Positive\",\"Positive\",\"Positive\",\"Neutral\",\"Negative\",\"Negative\",\"Positive\",\"Positive\",\"Positive\",\"Negative\",\"Neutral\",\"Negative\",\"Positive\",\"Negative\",\"Negative\",\"Positive\",\"Positive\",\"Positive\",\"Negative\",\"Negative\",\"Negative\",\"Positive\",\"Positive\",\"Neutral\",\"Negative\",\"Negative\",\"Neutral\",\"Negative\",\"Positive\",\"Neutral\",\"Neutral\",\"Positive\",\"Positive\",\"Negative\",\"Neutral\",\"Negative\",\"Negative\",\"Positive\",\"Positive\",\"Negative\",\"Neutral\",\"Negative\",\"Negative\",\"Positive\",\"Negative\",\"Negative\",\"Negative\",\"Neutral\",\"Positive\",\"Neutral\",\"Positive\",\"Negative\",\"Negative\",\"Positive\",\"Negative\",\"Positive\",\"Negative\",\"Neutral\",\"Neutral\",\"Positive\",\"Positive\",\"Negative\",\"Positive\",\"Positive\",\"Positive\",\"Positive\",\"Positive\",\"Positive\",\"Negative\",\"Negative\",\"Neutral\",\"Negative\",\"Negative\",\"Positive\",\"Neutral\",\"Negative\",\"Positive\",\"Positive\",\"Neutral\",\"Negative\",\"Negative\",\"Neutral\",\"Negative\",\"Negative\",\"Positive\",\"Positive\",\"Positive\",\"Neutral\",\"Positive\",\"Negative\",\"Negative\",\"Positive\",\"Positive\",\"Positive\",\"Negative\",\"Negative\",\"Neutral\",\"Negative\",\"Positive\",\"Negative\",\"Neutral\",\"Neutral\",\"Negative\",\"Negative\",\"Positive\",\"Positive\",\"Neutral\",\"Positive\",\"Negative\",\"Positive\",\"Positive\",\"Positive\",\"Positive\",\"Negative\",\"Negative\",\"Negative\",\"Negative\",\"Negative\",\"Neutral\",\"Negative\",\"Negative\",\"Negative\",\"Negative\",\"Positive\",\"Negative\",\"Positive\",\"Negative\",\"Positive\",\"Negative\",\"Negative\",\"Negative\",\"Neutral\",\"Negative\",\"Negative\",\"Positive\",\"Positive\",\"Neutral\",\"Negative\",\"Positive\",\"Positive\",\"Negative\",\"Negative\",\"Neutral\",\"Neutral\",\"Positive\",\"Positive\",\"Positive\",\"Positive\",\"Neutral\",\"Neutral\",\"Neutral\",\"Positive\",\"Positive\",\"Positive\",\"Negative\",\"Neutral\",\"Neutral\",\"Positive\",\"Neutral\",\"Neutral\",\"Neutral\",\"Negative\",\"Negative\",\"Positive\",\"Positive\",\"Neutral\",\"Positive\",\"Positive\",\"Negative\",\"Positive\",\"Neutral\",\"Positive\",\"Negative\",\"Neutral\",\"Neutral\",\"Positive\",\"Neutral\",\"Negative\",\"Negative\",\"Negative\",\"Negative\",\"Negative\",\"Negative\",\"Positive\",\"Neutral\",\"Negative\",\"Positive\",\"Positive\",\"Positive\",\"Neutral\",\"Negative\",\"Positive\",\"Negative\",\"Positive\",\"Neutral\",\"Negative\",\"Negative\",\"Positive\",\"Neutral\",\"Neutral\",\"Neutral\",\"Positive\",\"Neutral\",\"Positive\",\"Positive\",\"Negative\",\"Positive\",\"Positive\",\"Negative\",\"Positive\",\"Negative\",\"Positive\",\"Positive\",\"Negative\",\"Positive\",\"Positive\",\"Positive\",\"Negative\",\"Negative\",\"Neutral\",\"Negative\",\"Positive\",\"Positive\",\"Negative\",\"Negative\",\"Negative\",\"Negative\",\"Positive\",\"Neutral\",\"Positive\",\"Negative\",\"Positive\",\"Positive\",\"Positive\",\"Neutral\",\"Positive\",\"Positive\",\"Negative\",\"Negative\",\"Positive\",\"Neutral\",\"Negative\",\"Positive\",\"Neutral\",\"Positive\",\"Positive\",\"Negative\",\"Positive\",\"Positive\",\"Neutral\",\"Negative\",\"Neutral\",\"Negative\",\"Negative\",\"Positive\",\"Negative\",\"Negative\",\"Positive\",\"Positive\",\"Negative\",\"Positive\",\"Negative\",\"Neutral\",\"Neutral\",\"Positive\",\"Negative\",\"Negative\",\"Positive\",\"Positive\",\"Negative\",\"Positive\",\"Negative\",\"Neutral\",\"Neutral\",\"Negative\",\"Neutral\",\"Positive\",\"Positive\",\"Positive\",\"Neutral\",\"Positive\",\"Positive\",\"Positive\",\"Positive\",\"Negative\",\"Positive\",\"Negative\",\"Positive\",\"Neutral\",\"Positive\",\"Negative\",\"Positive\",\"Negative\",\"Neutral\",\"Positive\",\"Positive\",\"Negative\",\"Negative\",\"Neutral\",\"Positive\",\"Negative\",\"Negative\",\"Positive\",\"Neutral\",\"Negative\",\"Negative\",\"Negative\",\"Neutral\",\"Negative\",\"Negative\",\"Negative\",\"Negative\",\"Positive\",\"Positive\",\"Negative\",\"Positive\",\"Neutral\",\"Neutral\",\"Positive\",\"Positive\",\"Negative\",\"Neutral\",\"Positive\",\"Positive\",\"Positive\",\"Neutral\",\"Neutral\",\"Positive\",\"Positive\",\"Positive\",\"Positive\",\"Positive\",\"Positive\",\"Negative\",\"Positive\",\"Positive\",\"Negative\",\"Positive\",\"Neutral\",\"Neutral\",\"Positive\",\"Positive\",\"Positive\",\"Positive\",\"Positive\",\"Negative\",\"Positive\",\"Positive\",\"Positive\",\"Neutral\",\"Negative\",\"Positive\",\"Neutral\",\"Negative\",\"Neutral\",\"Positive\",\"Negative\",\"Positive\",\"Negative\",\"Negative\",\"Negative\",\"Neutral\",\"Negative\",\"Negative\",\"Neutral\",\"Neutral\",\"Positive\",\"Neutral\",\"Neutral\",\"Positive\",\"Positive\",\"Negative\",\"Neutral\",\"Positive\",\"Negative\",\"Negative\",\"Negative\",\"Positive\",\"Positive\",\"Neutral\",\"Positive\",\"Neutral\",\"Neutral\",\"Positive\",\"Negative\",\"Positive\",\"Neutral\",\"Neutral\",\"Neutral\",\"Negative\",\"Neutral\",\"Positive\",\"Neutral\",\"Negative\",\"Negative\",\"Positive\",\"Positive\",\"Positive\",\"Neutral\",\"Negative\",\"Positive\",\"Positive\",\"Positive\",\"Positive\",\"Negative\",\"Neutral\",\"Positive\",\"Positive\",\"Neutral\",\"Neutral\",\"Negative\",\"Neutral\",\"Negative\",\"Neutral\",\"Positive\",\"Positive\",\"Neutral\",\"Negative\",\"Negative\",\"Negative\",\"Positive\",\"Negative\",\"Negative\",\"Neutral\",\"Neutral\",\"Negative\",\"Neutral\",\"Positive\",\"Positive\",\"Negative\",\"Positive\",\"Negative\",\"Positive\",\"Positive\",\"Positive\",\"Positive\",\"Positive\",\"Negative\",\"Negative\",\"Negative\",\"Positive\",\"Neutral\",\"Neutral\",\"Neutral\",\"Positive\",\"Positive\",\"Negative\",\"Positive\",\"Negative\",\"Negative\",\"Negative\",\"Negative\",\"Positive\",\"Neutral\",\"Negative\",\"Neutral\",\"Positive\",\"Negative\",\"Negative\",\"Negative\",\"Neutral\",\"Neutral\",\"Positive\",\"Negative\",\"Positive\",\"Negative\",\"Neutral\",\"Positive\",\"Neutral\",\"Positive\",\"Negative\",\"Positive\",\"Negative\",\"Negative\",\"Positive\",\"Positive\",\"Neutral\",\"Positive\",\"Positive\",\"Positive\",\"Positive\",\"Positive\",\"Positive\",\"Negative\",\"Positive\",\"Positive\",\"Positive\",\"Negative\",\"Positive\",\"Neutral\",\"Positive\",\"Negative\",\"Negative\",\"Positive\",\"Positive\",\"Negative\",\"Positive\",\"Negative\",\"Negative\",\"Negative\",\"Neutral\",\"Negative\",\"Positive\",\"Negative\",\"Positive\",\"Positive\",\"Neutral\",\"Neutral\",\"Positive\",\"Positive\",\"Negative\",\"Negative\",\"Negative\",\"Positive\",\"Positive\",\"Negative\",\"Negative\",\"Neutral\",\"Positive\",\"Neutral\",\"Positive\",\"Positive\",\"Neutral\",\"Neutral\",\"Neutral\",\"Negative\",\"Negative\",\"Positive\",\"Negative\",\"Negative\",\"Positive\",\"Positive\",\"Neutral\",\"Positive\",\"Negative\",\"Positive\",\"Positive\",\"Negative\",\"Positive\",\"Negative\",\"Neutral\",\"Positive\",\"Positive\",\"Positive\",\"Positive\",\"Positive\",\"Positive\",\"Positive\",\"Negative\",\"Negative\",\"Neutral\",\"Positive\",\"Positive\",\"Positive\",\"Neutral\",\"Negative\",\"Positive\",\"Negative\",\"Negative\",\"Neutral\",\"Positive\",\"Positive\",\"Negative\",\"Neutral\",\"Positive\",\"Negative\",\"Negative\",\"Negative\",\"Positive\",\"Positive\",\"Neutral\",\"Negative\",\"Neutral\",\"Negative\",\"Positive\",\"Negative\",\"Neutral\",\"Positive\",\"Positive\",\"Negative\",\"Positive\",\"Positive\",\"Positive\",\"Positive\",\"Neutral\",\"Neutral\",\"Negative\",\"Positive\",\"Neutral\",\"Neutral\",\"Negative\",\"Neutral\",\"Positive\",\"Positive\",\"Neutral\",\"Negative\",\"Negative\",\"Negative\",\"Negative\",\"Negative\",\"Positive\",\"Negative\",\"Positive\",\"Neutral\",\"Negative\",\"Negative\",\"Positive\",\"Negative\",\"Negative\",\"Neutral\",\"Positive\",\"Negative\",\"Negative\",\"Positive\",\"Negative\",\"Negative\",\"Positive\",\"Positive\",\"Negative\",\"Negative\",\"Neutral\",\"Positive\",\"Negative\",\"Positive\",\"Positive\",\"Neutral\",\"Negative\",\"Neutral\",\"Positive\",\"Neutral\",\"Negative\",\"Positive\",\"Positive\",\"Negative\",\"Neutral\",\"Negative\",\"Negative\",\"Positive\",\"Negative\",\"Positive\",\"Positive\",\"Negative\",\"Negative\",\"Positive\",\"Neutral\",\"Negative\",\"Neutral\",\"Negative\",\"Negative\",\"Negative\",\"Positive\",\"Neutral\",\"Negative\",\"Positive\",\"Negative\",\"Negative\",\"Neutral\",\"Neutral\",\"Positive\",\"Negative\",\"Negative\",\"Negative\",\"Positive\",\"Negative\",\"Negative\",\"Positive\",\"Negative\",\"Positive\",\"Positive\",\"Negative\",\"Positive\",\"Positive\",\"Positive\",\"Neutral\",\"Neutral\",\"Neutral\",\"Neutral\",\"Negative\",\"Positive\",\"Negative\",\"Positive\",\"Neutral\",\"Positive\",\"Positive\",\"Negative\",\"Negative\",\"Positive\",\"Negative\",\"Neutral\",\"Negative\",\"Positive\",\"Positive\",\"Positive\",\"Positive\",\"Negative\",\"Positive\",\"Negative\",\"Positive\",\"Positive\",\"Negative\",\"Negative\",\"Neutral\",\"Positive\",\"Positive\",\"Neutral\",\"Negative\",\"Positive\",\"Negative\",\"Positive\",\"Neutral\",\"Positive\",\"Positive\",\"Negative\",\"Positive\",\"Negative\",\"Neutral\",\"Positive\",\"Negative\",\"Negative\",\"Negative\",\"Positive\",\"Positive\",\"Positive\",\"Neutral\",\"Neutral\",\"Positive\",\"Negative\",\"Neutral\",\"Neutral\",\"Positive\",\"Negative\",\"Negative\",\"Neutral\",\"Neutral\",\"Negative\",\"Negative\",\"Neutral\",\"Neutral\",\"Negative\",\"Negative\",\"Positive\",\"Positive\",\"Positive\",\"Negative\",\"Positive\",\"Neutral\",\"Negative\",\"Negative\",\"Positive\",\"Neutral\",\"Positive\",\"Positive\",\"Negative\",\"Positive\",\"Neutral\",\"Positive\",\"Positive\",\"Positive\",\"Neutral\",\"Positive\",\"Neutral\",\"Negative\",\"Negative\",\"Negative\",\"Positive\",\"Negative\",\"Negative\",\"Positive\",\"Negative\",\"Negative\",\"Negative\",\"Positive\",\"Negative\",\"Negative\",\"Neutral\",\"Neutral\",\"Positive\",\"Positive\",\"Positive\",\"Positive\",\"Positive\",\"Neutral\",\"Neutral\",\"Positive\",\"Neutral\",\"Negative\",\"Positive\",\"Positive\",\"Neutral\",\"Positive\",\"Negative\",\"Positive\",\"Negative\",\"Negative\",\"Neutral\",\"Positive\",\"Neutral\",\"Neutral\",\"Positive\",\"Positive\",\"Neutral\",\"Positive\",\"Positive\",\"Positive\",\"Positive\",\"Negative\",\"Neutral\",\"Neutral\",\"Positive\",\"Positive\",\"Positive\",\"Negative\",\"Negative\",\"Positive\",\"Positive\",\"Neutral\",\"Negative\",\"Neutral\",\"Neutral\",\"Negative\",\"Positive\",\"Neutral\",\"Neutral\",\"Negative\",\"Positive\",\"Negative\",\"Positive\",\"Negative\",\"Negative\",\"Positive\",\"Neutral\",\"Positive\",\"Positive\",\"Positive\",\"Negative\",\"Negative\",\"Negative\",\"Negative\",\"Negative\",\"Negative\",\"Positive\",\"Positive\",\"Negative\",\"Positive\",\"Negative\",\"Neutral\",\"Negative\",\"Negative\",\"Negative\",\"Neutral\",\"Positive\",\"Positive\",\"Positive\",\"Negative\",\"Neutral\",\"Negative\",\"Negative\",\"Positive\",\"Positive\",\"Negative\",\"Negative\",\"Negative\",\"Negative\",\"Negative\",\"Positive\",\"Negative\",\"Negative\",\"Positive\",\"Positive\",\"Neutral\",\"Neutral\",\"Positive\",\"Neutral\",\"Positive\",\"Negative\",\"Negative\",\"Neutral\",\"Negative\",\"Neutral\",\"Positive\",\"Negative\",\"Positive\",\"Positive\",\"Negative\",\"Neutral\",\"Negative\",\"Negative\",\"Negative\",\"Positive\",\"Neutral\",\"Positive\",\"Neutral\",\"Neutral\",\"Positive\",\"Neutral\",\"Neutral\",\"Positive\",\"Neutral\",\"Positive\",\"Neutral\",\"Neutral\",\"Negative\",\"Positive\",\"Negative\",\"Neutral\",\"Negative\",\"Positive\",\"Negative\",\"Negative\",\"Positive\",\"Negative\",\"Positive\",\"Negative\",\"Negative\",\"Positive\",\"Negative\",\"Positive\",\"Negative\",\"Neutral\",\"Negative\",\"Neutral\",\"Positive\",\"Negative\",\"Positive\",\"Positive\",\"Positive\",\"Negative\",\"Positive\",\"Neutral\",\"Positive\",\"Positive\",\"Negative\",\"Neutral\",\"Positive\",\"Positive\",\"Negative\",\"Positive\",\"Negative\",\"Negative\",\"Positive\",\"Positive\",\"Negative\",\"Neutral\",\"Negative\",\"Positive\",\"Neutral\",\"Positive\",\"Positive\",\"Positive\",\"Negative\",\"Negative\",\"Positive\",\"Neutral\",\"Neutral\",\"Neutral\",\"Negative\",\"Positive\",\"Positive\",\"Negative\",\"Neutral\",\"Negative\",\"Neutral\",\"Negative\",\"Positive\",\"Positive\",\"Positive\",\"Negative\",\"Positive\",\"Positive\",\"Positive\",\"Negative\",\"Positive\",\"Negative\",\"Negative\",\"Negative\",\"Neutral\",\"Positive\",\"Positive\",\"Positive\",\"Negative\",\"Neutral\",\"Negative\",\"Positive\",\"Positive\",\"Positive\",\"Positive\",\"Positive\",\"Negative\",\"Neutral\",\"Negative\",\"Negative\",\"Positive\",\"Positive\",\"Negative\",\"Negative\",\"Neutral\",\"Positive\",\"Positive\",\"Positive\",\"Positive\",\"Positive\",\"Neutral\",\"Negative\",\"Negative\",\"Positive\",\"Negative\",\"Negative\",\"Positive\",\"Positive\",\"Positive\",\"Positive\",\"Positive\",\"Positive\",\"Positive\",\"Neutral\",\"Neutral\",\"Positive\",\"Negative\",\"Positive\",\"Negative\",\"Negative\",\"Positive\",\"Negative\",\"Positive\",\"Negative\",\"Negative\",\"Neutral\",\"Positive\",\"Negative\",\"Negative\",\"Negative\",\"Positive\",\"Positive\",\"Neutral\",\"Neutral\",\"Negative\",\"Negative\",\"Positive\",\"Negative\",\"Positive\",\"Negative\",\"Negative\",\"Positive\",\"Neutral\",\"Positive\",\"Neutral\",\"Neutral\",\"Negative\",\"Positive\",\"Positive\",\"Positive\",\"Negative\",\"Positive\",\"Positive\",\"Positive\",\"Positive\",\"Neutral\",\"Negative\",\"Positive\",\"Positive\",\"Neutral\",\"Neutral\",\"Neutral\",\"Negative\",\"Negative\",\"Negative\",\"Negative\",\"Negative\",\"Negative\",\"Negative\",\"Positive\",\"Positive\",\"Positive\",\"Positive\",\"Positive\",\"Positive\",\"Negative\",\"Negative\",\"Negative\",\"Negative\",\"Positive\",\"Neutral\",\"Neutral\",\"Positive\",\"Neutral\",\"Negative\",\"Negative\",\"Negative\",\"Neutral\",\"Positive\",\"Negative\",\"Neutral\",\"Positive\",\"Neutral\",\"Neutral\",\"Positive\",\"Positive\",\"Neutral\",\"Positive\",\"Positive\",\"Negative\",\"Positive\",\"Neutral\",\"Negative\",\"Negative\",\"Positive\",\"Negative\",\"Negative\",\"Negative\",\"Negative\",\"Neutral\",\"Neutral\",\"Negative\",\"Positive\",\"Neutral\",\"Negative\",\"Neutral\",\"Positive\",\"Negative\",\"Positive\",\"Negative\",\"Negative\",\"Negative\",\"Negative\",\"Negative\",\"Positive\",\"Negative\",\"Positive\",\"Negative\",\"Positive\",\"Positive\",\"Negative\",\"Negative\",\"Negative\",\"Neutral\",\"Negative\",\"Positive\",\"Negative\",\"Negative\",\"Positive\",\"Negative\",\"Positive\",\"Positive\",\"Negative\",\"Neutral\",\"Negative\",\"Positive\",\"Positive\",\"Positive\",\"Positive\",\"Negative\",\"Positive\",\"Negative\",\"Neutral\",\"Negative\",\"Positive\",\"Positive\",\"Neutral\",\"Positive\",\"Negative\",\"Positive\",\"Positive\",\"Negative\",\"Negative\",\"Negative\",\"Neutral\",\"Positive\",\"Negative\",\"Negative\",\"Neutral\",\"Positive\",\"Negative\",\"Positive\",\"Positive\",\"Neutral\",\"Negative\",\"Negative\",\"Positive\",\"Negative\",\"Negative\",\"Positive\",\"Negative\",\"Negative\",\"Negative\",\"Neutral\",\"Neutral\",\"Neutral\",\"Negative\",\"Neutral\",\"Positive\",\"Negative\",\"Positive\",\"Negative\",\"Neutral\",\"Negative\",\"Neutral\",\"Positive\",\"Negative\",\"Neutral\",\"Positive\",\"Positive\",\"Negative\",\"Neutral\",\"Positive\",\"Negative\",\"Neutral\",\"Neutral\",\"Negative\",\"Neutral\",\"Neutral\",\"Positive\",\"Positive\",\"Neutral\",\"Positive\",\"Negative\",\"Positive\",\"Neutral\",\"Neutral\",\"Negative\",\"Negative\",\"Negative\",\"Neutral\",\"Negative\",\"Negative\",\"Negative\",\"Negative\",\"Negative\",\"Positive\",\"Positive\",\"Positive\",\"Positive\",\"Neutral\",\"Positive\",\"Neutral\",\"Negative\",\"Negative\",\"Negative\",\"Negative\",\"Positive\",\"Positive\",\"Positive\",\"Neutral\",\"Positive\",\"Positive\",\"Positive\",\"Positive\",\"Positive\",\"Neutral\",\"Positive\",\"Positive\",\"Neutral\",\"Neutral\",\"Positive\",\"Positive\",\"Positive\",\"Positive\",\"Positive\",\"Positive\",\"Negative\",\"Positive\",\"Negative\",\"Positive\",\"Negative\",\"Negative\",\"Neutral\",\"Neutral\",\"Positive\",\"Neutral\",\"Negative\",\"Negative\",\"Positive\",\"Positive\",\"Negative\",\"Positive\",\"Positive\",\"Neutral\",\"Positive\",\"Negative\",\"Positive\",\"Negative\",\"Negative\",\"Neutral\",\"Negative\",\"Neutral\",\"Positive\",\"Positive\",\"Positive\",\"Positive\",\"Neutral\",\"Negative\",\"Positive\",\"Positive\",\"Negative\",\"Positive\",\"Positive\",\"Neutral\",\"Positive\",\"Negative\",\"Negative\",\"Negative\",\"Negative\",\"Neutral\",\"Positive\",\"Neutral\",\"Negative\",\"Neutral\",\"Neutral\",\"Neutral\",\"Positive\",\"Positive\",\"Positive\",\"Positive\",\"Positive\",\"Positive\",\"Positive\",\"Positive\",\"Neutral\",\"Positive\",\"Positive\",\"Positive\",\"Positive\",\"Positive\",\"Positive\",\"Positive\",\"Positive\",\"Negative\",\"Positive\",\"Negative\",\"Positive\",\"Positive\",\"Neutral\",\"Negative\",\"Positive\",\"Neutral\",\"Neutral\",\"Negative\",\"Positive\",\"Positive\",\"Neutral\",\"Neutral\",\"Positive\",\"Neutral\",\"Positive\",\"Negative\",\"Positive\",\"Negative\",\"Positive\",\"Positive\",\"Negative\",\"Positive\",\"Neutral\",\"Neutral\",\"Positive\",\"Positive\",\"Positive\",\"Positive\",\"Positive\",\"Positive\",\"Neutral\",\"Negative\",\"Neutral\",\"Negative\",\"Negative\",\"Negative\",\"Positive\",\"Positive\",\"Positive\",\"Negative\",\"Neutral\",\"Negative\",\"Negative\",\"Neutral\",\"Negative\",\"Negative\",\"Negative\",\"Neutral\",\"Positive\",\"Neutral\",\"Positive\",\"Neutral\",\"Positive\",\"Positive\",\"Negative\",\"Positive\",\"Positive\",\"Negative\",\"Neutral\",\"Positive\",\"Positive\",\"Neutral\",\"Neutral\",\"Negative\",\"Neutral\",\"Positive\",\"Negative\",\"Neutral\",\"Negative\",\"Negative\",\"Negative\",\"Negative\",\"Negative\",\"Negative\",\"Neutral\",\"Neutral\",\"Negative\",\"Neutral\",\"Negative\",\"Neutral\",\"Negative\",\"Neutral\",\"Positive\",\"Positive\",\"Positive\",\"Negative\",\"Negative\",\"Positive\",\"Neutral\",\"Negative\",\"Positive\",\"Positive\",\"Negative\",\"Neutral\",\"Neutral\",\"Positive\",\"Positive\",\"Positive\",\"Negative\",\"Positive\",\"Neutral\",\"Neutral\",\"Positive\",\"Positive\",\"Positive\",\"Positive\",\"Positive\",\"Positive\",\"Neutral\",\"Positive\",\"Positive\",\"Neutral\",\"Neutral\",\"Negative\",\"Negative\",\"Neutral\",\"Negative\",\"Negative\",\"Negative\",\"Negative\",\"Negative\",\"Neutral\",\"Positive\",\"Neutral\",\"Negative\",\"Neutral\",\"Negative\",\"Neutral\",\"Negative\",\"Negative\",\"Positive\",\"Positive\",\"Negative\",\"Positive\",\"Positive\",\"Neutral\",\"Neutral\",\"Negative\",\"Neutral\",\"Positive\",\"Positive\",\"Positive\",\"Neutral\",\"Negative\",\"Neutral\",\"Positive\",\"Positive\",\"Neutral\",\"Negative\",\"Negative\",\"Negative\",\"Negative\",\"Negative\",\"Negative\",\"Neutral\",\"Positive\",\"Positive\",\"Positive\",\"Positive\",\"Negative\",\"Negative\",\"Negative\",\"Neutral\",\"Negative\",\"Negative\",\"Negative\",\"Neutral\",\"Negative\",\"Neutral\",\"Positive\",\"Negative\",\"Negative\",\"Positive\",\"Neutral\",\"Neutral\",\"Negative\",\"Positive\",\"Neutral\",\"Positive\",\"Negative\",\"Negative\",\"Negative\",\"Neutral\",\"Positive\",\"Negative\",\"Positive\",\"Negative\",\"Negative\",\"Negative\",\"Positive\",\"Positive\",\"Negative\",\"Neutral\",\"Positive\",\"Positive\",\"Positive\",\"Positive\",\"Neutral\",\"Positive\",\"Neutral\",\"Neutral\",\"Positive\",\"Negative\",\"Positive\",\"Positive\",\"Neutral\",\"Negative\",\"Neutral\",\"Positive\",\"Positive\",\"Positive\",\"Positive\",\"Neutral\",\"Negative\",\"Positive\",\"Positive\",\"Positive\",\"Positive\",\"Negative\",\"Negative\",\"Neutral\",\"Positive\",\"Negative\",\"Neutral\",\"Positive\",\"Negative\",\"Neutral\",\"Negative\",\"Positive\",\"Neutral\",\"Positive\",\"Negative\",\"Negative\",\"Neutral\",\"Neutral\",\"Positive\",\"Positive\",\"Negative\",\"Neutral\",\"Positive\",\"Negative\",\"Positive\",\"Neutral\",\"Positive\",\"Positive\",\"Positive\",\"Positive\",\"Neutral\",\"Negative\",\"Neutral\",\"Negative\",\"Neutral\",\"Neutral\",\"Negative\",\"Neutral\",\"Positive\",\"Positive\",\"Neutral\",\"Positive\",\"Positive\",\"Neutral\",\"Negative\",\"Positive\",\"Positive\",\"Neutral\",\"Negative\",\"Positive\",\"Neutral\",\"Negative\",\"Negative\",\"Positive\",\"Neutral\",\"Negative\",\"Positive\",\"Positive\",\"Positive\",\"Positive\",\"Positive\",\"Positive\",\"Negative\",\"Positive\",\"Negative\",\"Positive\",\"Negative\",\"Neutral\",\"Neutral\",\"Neutral\",\"Negative\",\"Positive\",\"Negative\",\"Neutral\",\"Negative\",\"Positive\",\"Negative\",\"Negative\",\"Negative\",\"Positive\",\"Negative\",\"Positive\",\"Positive\",\"Neutral\",\"Negative\",\"Negative\",\"Negative\",\"Neutral\",\"Negative\",\"Negative\",\"Negative\",\"Negative\",\"Positive\",\"Positive\",\"Neutral\",\"Neutral\",\"Neutral\",\"Positive\",\"Neutral\",\"Negative\",\"Negative\",\"Negative\",\"Negative\",\"Positive\",\"Neutral\",\"Neutral\",\"Positive\",\"Negative\",\"Positive\",\"Positive\",\"Positive\",\"Negative\",\"Positive\",\"Negative\",\"Positive\",\"Neutral\",\"Positive\",\"Positive\",\"Positive\",\"Neutral\",\"Neutral\",\"Positive\",\"Neutral\",\"Negative\",\"Positive\",\"Negative\",\"Positive\",\"Positive\",\"Positive\",\"Positive\",\"Neutral\",\"Positive\",\"Positive\",\"Neutral\",\"Negative\",\"Negative\",\"Positive\",\"Negative\",\"Negative\",\"Positive\",\"Positive\",\"Negative\",\"Neutral\",\"Negative\",\"Neutral\",\"Positive\",\"Positive\",\"Neutral\",\"Neutral\",\"Neutral\",\"Positive\",\"Positive\",\"Negative\",\"Negative\",\"Neutral\",\"Neutral\",\"Negative\",\"Negative\",\"Negative\",\"Neutral\",\"Neutral\",\"Positive\",\"Negative\",\"Positive\",\"Positive\",\"Positive\",\"Neutral\",\"Neutral\",\"Neutral\",\"Negative\",\"Positive\",\"Negative\",\"Positive\",\"Negative\",\"Neutral\",\"Positive\",\"Negative\",\"Negative\",\"Positive\",\"Positive\",\"Neutral\",\"Positive\",\"Positive\",\"Negative\",\"Negative\",\"Negative\",\"Negative\",\"Negative\",\"Neutral\",\"Positive\",\"Neutral\",\"Positive\",\"Positive\",\"Neutral\",\"Neutral\",\"Neutral\",\"Negative\",\"Neutral\",\"Neutral\",\"Neutral\",\"Positive\",\"Negative\",\"Positive\",\"Positive\",\"Negative\",\"Neutral\",\"Neutral\",\"Neutral\",\"Neutral\",\"Negative\",\"Neutral\",\"Positive\",\"Negative\",\"Negative\",\"Negative\",\"Negative\",\"Positive\",\"Neutral\",\"Neutral\",\"Negative\",\"Negative\",\"Neutral\",\"Positive\",\"Neutral\",\"Neutral\",\"Positive\",\"Negative\",\"Positive\",\"Negative\",\"Negative\",\"Neutral\",\"Positive\",\"Negative\",\"Negative\",\"Negative\",\"Negative\",\"Neutral\",\"Negative\",\"Negative\",\"Negative\",\"Negative\",\"Positive\",\"Neutral\",\"Negative\",\"Neutral\",\"Neutral\",\"Negative\",\"Neutral\",\"Neutral\",\"Negative\",\"Positive\",\"Neutral\",\"Positive\",\"Positive\",\"Neutral\",\"Neutral\",\"Positive\",\"Neutral\",\"Positive\",\"Positive\",\"Positive\",\"Positive\",\"Positive\",\"Neutral\",\"Negative\",\"Negative\",\"Negative\",\"Negative\",\"Positive\",\"Neutral\",\"Negative\",\"Negative\",\"Neutral\",\"Positive\",\"Positive\",\"Neutral\",\"Positive\",\"Positive\",\"Positive\",\"Negative\",\"Neutral\",\"Negative\",\"Positive\",\"Positive\",\"Neutral\",\"Negative\",\"Neutral\",\"Positive\",\"Negative\",\"Positive\",\"Neutral\",\"Positive\",\"Negative\",\"Positive\",\"Positive\",\"Positive\",\"Positive\",\"Neutral\",\"Negative\",\"Positive\",\"Negative\",\"Negative\",\"Neutral\",\"Neutral\",\"Negative\",\"Positive\",\"Positive\",\"Positive\",\"Negative\",\"Positive\",\"Negative\",\"Neutral\",\"Neutral\",\"Neutral\",\"Positive\",\"Neutral\",\"Negative\",\"Neutral\",\"Positive\",\"Neutral\",\"Positive\",\"Positive\",\"Negative\",\"Negative\",\"Positive\",\"Neutral\",\"Negative\",\"Positive\",\"Positive\",\"Negative\",\"Negative\",\"Negative\",\"Positive\",\"Positive\",\"Negative\",\"Positive\",\"Positive\",\"Neutral\",\"Positive\",\"Positive\",\"Negative\",\"Neutral\",\"Neutral\",\"Positive\",\"Negative\",\"Neutral\",\"Positive\",\"Positive\",\"Negative\",\"Neutral\",\"Negative\",\"Neutral\",\"Negative\",\"Neutral\",\"Positive\",\"Neutral\",\"Negative\",\"Positive\",\"Negative\",\"Neutral\",\"Neutral\",\"Positive\",\"Positive\",\"Negative\",\"Negative\",\"Positive\",\"Negative\",\"Positive\",\"Negative\",\"Positive\",\"Positive\",\"Positive\",\"Positive\",\"Neutral\",\"Negative\",\"Positive\",\"Neutral\",\"Neutral\",\"Neutral\",\"Neutral\",\"Negative\",\"Negative\",\"Neutral\",\"Positive\",\"Neutral\",\"Positive\",\"Neutral\",\"Positive\",\"Negative\",\"Negative\",\"Neutral\",\"Neutral\",\"Positive\",\"Negative\",\"Positive\",\"Neutral\",\"Negative\",\"Positive\",\"Negative\",\"Negative\",\"Negative\",\"Negative\",\"Negative\",\"Negative\",\"Neutral\",\"Neutral\",\"Negative\",\"Neutral\",\"Negative\",\"Negative\",\"Negative\",\"Neutral\",\"Neutral\",\"Positive\",\"Positive\",\"Positive\",\"Positive\",\"Positive\",\"Neutral\",\"Positive\",\"Negative\",\"Positive\",\"Neutral\",\"Neutral\",\"Positive\",\"Positive\",\"Neutral\",\"Positive\",\"Negative\",\"Neutral\",\"Positive\",\"Negative\",\"Positive\",\"Neutral\",\"Positive\",\"Positive\",\"Negative\",\"Positive\",\"Negative\",\"Positive\",\"Neutral\",\"Neutral\",\"Neutral\",\"Neutral\",\"Neutral\",\"Positive\",\"Neutral\",\"Neutral\",\"Positive\",\"Positive\",\"Negative\",\"Neutral\",\"Positive\",\"Neutral\",\"Negative\",\"Neutral\",\"Positive\",\"Neutral\",\"Positive\",\"Positive\",\"Positive\",\"Positive\",\"Positive\",\"Negative\",\"Positive\",\"Neutral\",\"Positive\",\"Neutral\",\"Positive\",\"Negative\",\"Positive\",\"Positive\",\"Neutral\",\"Neutral\",\"Negative\",\"Neutral\",\"Neutral\",\"Negative\",\"Positive\",\"Positive\",\"Negative\",\"Neutral\",\"Positive\",\"Positive\",\"Neutral\",\"Positive\",\"Negative\",\"Positive\",\"Positive\",\"Positive\",\"Negative\",\"Positive\",\"Positive\",\"Neutral\",\"Negative\",\"Positive\",\"Negative\",\"Neutral\",\"Neutral\",\"Positive\",\"Positive\",\"Neutral\",\"Neutral\",\"Positive\",\"Negative\",\"Negative\",\"Negative\",\"Neutral\",\"Positive\",\"Negative\",\"Positive\",\"Neutral\",\"Neutral\",\"Negative\",\"Negative\",\"Neutral\",\"Positive\",\"Positive\",\"Negative\",\"Negative\",\"Neutral\",\"Positive\",\"Neutral\",\"Negative\",\"Positive\",\"Positive\",\"Neutral\",\"Positive\",\"Negative\",\"Neutral\",\"Neutral\",\"Negative\",\"Positive\",\"Positive\",\"Positive\",\"Negative\",\"Positive\",\"Positive\",\"Positive\",\"Neutral\",\"Neutral\",\"Positive\",\"Positive\",\"Positive\",\"Positive\",\"Neutral\",\"Negative\",\"Positive\",\"Positive\",\"Positive\",\"Neutral\",\"Negative\",\"Negative\",\"Positive\",\"Negative\",\"Positive\",\"Negative\",\"Positive\",\"Negative\",\"Neutral\",\"Positive\",\"Positive\",\"Positive\",\"Negative\",\"Positive\",\"Negative\",\"Neutral\",\"Positive\",\"Neutral\",\"Positive\",\"Negative\",\"Positive\",\"Neutral\",\"Positive\",\"Negative\",\"Positive\",\"Neutral\",\"Neutral\",\"Neutral\",\"Positive\",\"Positive\",\"Negative\",\"Negative\",\"Neutral\",\"Positive\",\"Positive\",\"Positive\",\"Positive\",\"Positive\",\"Positive\",\"Neutral\",\"Positive\",\"Negative\",\"Positive\",\"Positive\",\"Positive\",\"Positive\",\"Neutral\",\"Negative\",\"Positive\",\"Positive\",\"Neutral\",\"Negative\",\"Positive\",\"Neutral\",\"Negative\",\"Negative\",\"Positive\",\"Positive\",\"Negative\",\"Neutral\",\"Neutral\",\"Negative\",\"Negative\",\"Positive\",\"Negative\",\"Negative\",\"Neutral\",\"Negative\",\"Neutral\",\"Positive\",\"Positive\",\"Negative\",\"Positive\",\"Neutral\",\"Neutral\",\"Neutral\",\"Negative\",\"Positive\",\"Positive\",\"Negative\",\"Negative\",\"Neutral\",\"Positive\",\"Neutral\",\"Positive\",\"Positive\",\"Negative\",\"Negative\",\"Positive\",\"Negative\",\"Positive\",\"Positive\",\"Negative\",\"Negative\",\"Positive\",\"Positive\",\"Negative\",\"Neutral\",\"Negative\",\"Negative\",\"Positive\",\"Positive\",\"Positive\",\"Negative\",\"Neutral\",\"Neutral\",\"Negative\",\"Positive\",\"Positive\",\"Positive\",\"Negative\",\"Positive\",\"Negative\",\"Neutral\",\"Positive\",\"Negative\",\"Neutral\",\"Negative\",\"Positive\",\"Positive\",\"Neutral\",\"Positive\",\"Neutral\",\"Neutral\",\"Neutral\",\"Neutral\",\"Neutral\",\"Positive\",\"Negative\",\"Negative\",\"Positive\",\"Negative\",\"Positive\",\"Positive\",\"Positive\",\"Neutral\",\"Positive\",\"Neutral\",\"Positive\",\"Positive\",\"Neutral\",\"Positive\",\"Negative\",\"Negative\",\"Positive\",\"Positive\",\"Negative\",\"Positive\",\"Negative\",\"Negative\",\"Neutral\",\"Positive\",\"Positive\",\"Negative\",\"Negative\",\"Neutral\",\"Neutral\",\"Negative\",\"Negative\",\"Positive\",\"Positive\",\"Positive\",\"Positive\",\"Negative\",\"Neutral\",\"Negative\",\"Positive\",\"Neutral\",\"Positive\",\"Negative\",\"Neutral\",\"Positive\",\"Negative\",\"Negative\",\"Negative\",\"Neutral\",\"Negative\",\"Positive\",\"Negative\",\"Positive\",\"Positive\",\"Negative\",\"Negative\",\"Positive\",\"Positive\",\"Negative\",\"Positive\",\"Neutral\",\"Neutral\",\"Negative\",\"Neutral\",\"Negative\",\"Positive\",\"Neutral\",\"Neutral\",\"Positive\",\"Positive\",\"Positive\",\"Negative\",\"Negative\",\"Neutral\",\"Positive\",\"Neutral\",\"Positive\",\"Negative\",\"Positive\",\"Positive\",\"Positive\",\"Positive\",\"Positive\",\"Positive\",\"Positive\",\"Negative\",\"Positive\",\"Positive\",\"Neutral\",\"Negative\",\"Neutral\",\"Positive\",\"Positive\",\"Neutral\",\"Negative\",\"Negative\",\"Negative\",\"Positive\",\"Positive\",\"Negative\",\"Positive\",\"Positive\",\"Positive\",\"Negative\",\"Negative\",\"Positive\",\"Negative\",\"Neutral\",\"Negative\",\"Positive\",\"Neutral\",\"Positive\",\"Positive\",\"Positive\",\"Positive\",\"Neutral\",\"Negative\",\"Negative\",\"Negative\",\"Positive\",\"Positive\",\"Neutral\",\"Positive\",\"Negative\",\"Positive\",\"Negative\",\"Positive\",\"Negative\",\"Positive\",\"Negative\",\"Positive\",\"Negative\",\"Positive\",\"Negative\",\"Neutral\",\"Neutral\",\"Positive\",\"Negative\",\"Negative\",\"Negative\",\"Positive\",\"Neutral\",\"Negative\",\"Positive\",\"Positive\",\"Positive\",\"Positive\",\"Positive\",\"Positive\",\"Positive\",\"Neutral\",\"Neutral\",\"Positive\",\"Positive\",\"Negative\",\"Negative\",\"Neutral\",\"Neutral\",\"Negative\",\"Positive\",\"Positive\",\"Neutral\",\"Negative\",\"Neutral\",\"Positive\",\"Neutral\",\"Neutral\",\"Neutral\",\"Negative\",\"Positive\",\"Neutral\",\"Neutral\",\"Positive\",\"Positive\",\"Negative\",\"Neutral\",\"Negative\",\"Negative\",\"Negative\",\"Negative\",\"Neutral\",\"Positive\",\"Neutral\",\"Negative\",\"Negative\",\"Negative\",\"Negative\",\"Negative\",\"Negative\",\"Positive\",\"Positive\",\"Negative\",\"Negative\",\"Neutral\",\"Neutral\",\"Negative\",\"Negative\",\"Positive\",\"Positive\",\"Neutral\",\"Neutral\",\"Negative\",\"Negative\",\"Positive\",\"Neutral\",\"Negative\",\"Negative\",\"Positive\",\"Positive\",\"Positive\",\"Positive\",\"Negative\",\"Positive\",\"Positive\",\"Negative\",\"Positive\",\"Neutral\",\"Positive\",\"Positive\",\"Negative\",\"Neutral\",\"Positive\",\"Negative\",\"Neutral\",\"Neutral\",\"Positive\",\"Positive\",\"Positive\",\"Neutral\",\"Negative\",\"Neutral\",\"Neutral\",\"Negative\",\"Positive\",\"Negative\",\"Negative\",\"Negative\",\"Positive\",\"Negative\",\"Positive\",\"Positive\",\"Negative\",\"Negative\",\"Positive\",\"Neutral\",\"Negative\",\"Positive\",\"Positive\",\"Positive\",\"Positive\",\"Positive\",\"Negative\",\"Neutral\",\"Negative\",\"Neutral\",\"Positive\",\"Negative\",\"Positive\",\"Negative\",\"Positive\",\"Positive\",\"Positive\",\"Neutral\",\"Neutral\",\"Positive\",\"Negative\",\"Negative\",\"Positive\",\"Negative\",\"Positive\",\"Positive\",\"Negative\",\"Positive\",\"Positive\",\"Negative\",\"Positive\",\"Negative\",\"Negative\",\"Negative\",\"Neutral\",\"Positive\",\"Negative\",\"Negative\",\"Positive\",\"Positive\",\"Positive\",\"Neutral\",\"Positive\",\"Negative\",\"Negative\",\"Neutral\",\"Negative\",\"Negative\",\"Positive\",\"Neutral\",\"Neutral\",\"Negative\",\"Negative\",\"Negative\",\"Positive\",\"Negative\",\"Positive\",\"Neutral\",\"Neutral\",\"Positive\",\"Neutral\",\"Positive\",\"Negative\",\"Neutral\",\"Positive\",\"Neutral\",\"Negative\",\"Positive\",\"Positive\",\"Neutral\",\"Neutral\",\"Positive\",\"Negative\",\"Negative\",\"Positive\",\"Negative\",\"Neutral\",\"Positive\",\"Positive\",\"Negative\",\"Positive\",\"Negative\",\"Neutral\",\"Negative\",\"Neutral\",\"Positive\",\"Neutral\",\"Neutral\",\"Negative\",\"Positive\",\"Positive\",\"Negative\",\"Neutral\",\"Negative\",\"Positive\",\"Negative\",\"Negative\",\"Negative\",\"Positive\",\"Negative\",\"Neutral\",\"Negative\",\"Positive\",\"Positive\",\"Positive\",\"Neutral\",\"Positive\",\"Negative\",\"Neutral\",\"Positive\",\"Neutral\",\"Neutral\",\"Negative\",\"Positive\",\"Positive\",\"Positive\",\"Positive\",\"Positive\",\"Negative\",\"Positive\",\"Neutral\",\"Neutral\",\"Positive\",\"Negative\",\"Positive\",\"Neutral\",\"Positive\",\"Negative\",\"Positive\",\"Positive\",\"Positive\",\"Negative\",\"Negative\",\"Positive\",\"Positive\",\"Negative\",\"Neutral\",\"Positive\",\"Positive\",\"Positive\",\"Negative\",\"Positive\",\"Neutral\",\"Negative\",\"Positive\",\"Neutral\",\"Neutral\",\"Positive\",\"Positive\",\"Positive\",\"Negative\",\"Positive\",\"Positive\",\"Positive\",\"Positive\",\"Positive\",\"Positive\",\"Neutral\",\"Positive\",\"Neutral\",\"Neutral\",\"Positive\",\"Neutral\",\"Positive\",\"Negative\",\"Positive\",\"Positive\",\"Positive\",\"Positive\",\"Negative\",\"Neutral\",\"Positive\",\"Positive\",\"Positive\",\"Negative\",\"Positive\",\"Positive\",\"Positive\",\"Positive\",\"Negative\",\"Positive\",\"Negative\",\"Positive\",\"Neutral\",\"Neutral\",\"Negative\",\"Positive\",\"Negative\",\"Positive\",\"Positive\",\"Positive\",\"Negative\",\"Negative\",\"Positive\",\"Negative\",\"Positive\",\"Negative\",\"Positive\",\"Positive\",\"Negative\",\"Positive\",\"Neutral\",\"Negative\",\"Positive\",\"Positive\",\"Positive\",\"Neutral\",\"Positive\",\"Positive\",\"Negative\",\"Neutral\",\"Positive\",\"Negative\",\"Positive\",\"Positive\",\"Positive\",\"Positive\",\"Neutral\",\"Positive\",\"Neutral\",\"Positive\",\"Positive\",\"Negative\",\"Positive\",\"Positive\",\"Positive\",\"Positive\",\"Positive\",\"Positive\",\"Positive\",\"Positive\",\"Positive\",\"Positive\",\"Neutral\",\"Negative\",\"Neutral\",\"Neutral\",\"Negative\",\"Positive\",\"Positive\",\"Positive\",\"Neutral\",\"Negative\",\"Positive\",\"Positive\",\"Neutral\",\"Positive\",\"Positive\",\"Neutral\",\"Negative\",\"Neutral\",\"Positive\",\"Negative\",\"Positive\",\"Positive\",\"Neutral\",\"Positive\",\"Positive\",\"Positive\",\"Positive\",\"Positive\",\"Positive\",\"Positive\",\"Negative\",\"Negative\",\"Neutral\",\"Negative\",\"Positive\",\"Neutral\",\"Negative\",\"Neutral\",\"Positive\",\"Positive\",\"Positive\",\"Negative\",\"Positive\",\"Negative\",\"Negative\",\"Positive\",\"Positive\",\"Neutral\",\"Negative\",\"Positive\",\"Positive\",\"Negative\",\"Negative\",\"Negative\",\"Negative\",\"Positive\",\"Positive\",\"Positive\",\"Positive\",\"Negative\",\"Negative\",\"Positive\",\"Neutral\",\"Positive\",\"Negative\",\"Positive\",\"Neutral\",\"Positive\",\"Negative\",\"Positive\",\"Negative\",\"Positive\",\"Neutral\",\"Neutral\",\"Positive\",\"Negative\",\"Neutral\",\"Positive\",\"Positive\",\"Positive\",\"Positive\",\"Positive\",\"Negative\",\"Positive\",\"Positive\",\"Positive\",\"Positive\",\"Positive\",\"Positive\",\"Neutral\",\"Negative\",\"Positive\",\"Negative\",\"Neutral\",\"Negative\",\"Negative\",\"Positive\",\"Negative\",\"Neutral\",\"Positive\",\"Positive\",\"Neutral\",\"Negative\",\"Negative\",\"Negative\",\"Positive\",\"Positive\",\"Negative\",\"Positive\",\"Negative\",\"Neutral\",\"Positive\",\"Negative\",\"Positive\",\"Positive\",\"Positive\",\"Positive\",\"Positive\",\"Positive\",\"Positive\",\"Positive\",\"Positive\",\"Positive\",\"Positive\",\"Negative\",\"Positive\",\"Neutral\",\"Neutral\",\"Neutral\",\"Neutral\",\"Positive\",\"Negative\",\"Negative\",\"Negative\",\"Negative\",\"Positive\",\"Positive\",\"Negative\",\"Positive\",\"Negative\",\"Neutral\",\"Positive\",\"Positive\",\"Positive\",\"Positive\",\"Positive\",\"Positive\",\"Positive\",\"Negative\",\"Positive\",\"Negative\",\"Neutral\",\"Positive\",\"Negative\",\"Negative\",\"Neutral\",\"Positive\",\"Positive\",\"Negative\",\"Positive\",\"Positive\",\"Negative\",\"Neutral\",\"Positive\",\"Negative\",\"Neutral\",\"Positive\",\"Neutral\",\"Positive\",\"Positive\",\"Positive\",\"Positive\",\"Negative\",\"Positive\",\"Positive\",\"Neutral\",\"Positive\",\"Neutral\",\"Positive\",\"Neutral\",\"Positive\",\"Positive\",\"Negative\",\"Positive\",\"Positive\",\"Positive\",\"Neutral\",\"Positive\",\"Positive\",\"Positive\",\"Neutral\",\"Negative\",\"Negative\",\"Positive\",\"Positive\",\"Positive\",\"Positive\",\"Positive\",\"Neutral\",\"Negative\",\"Positive\",\"Negative\",\"Positive\",\"Negative\",\"Positive\",\"Positive\",\"Neutral\",\"Positive\",\"Negative\",\"Negative\",\"Positive\",\"Neutral\",\"Positive\",\"Negative\",\"Negative\",\"Negative\",\"Negative\",\"Negative\",\"Positive\",\"Positive\",\"Positive\",\"Positive\",\"Positive\",\"Neutral\",\"Neutral\",\"Positive\",\"Negative\",\"Negative\",\"Neutral\",\"Positive\",\"Negative\",\"Neutral\",\"Positive\",\"Positive\",\"Positive\",\"Positive\",\"Positive\",\"Positive\",\"Positive\",\"Negative\",\"Neutral\",\"Positive\",\"Neutral\",\"Negative\",\"Negative\",\"Neutral\",\"Negative\",\"Neutral\",\"Positive\",\"Positive\",\"Negative\",\"Positive\",\"Positive\",\"Negative\",\"Positive\",\"Neutral\",\"Negative\",\"Positive\",\"Negative\",\"Negative\",\"Neutral\",\"Positive\",\"Negative\",\"Positive\",\"Neutral\",\"Negative\",\"Negative\",\"Positive\",\"Positive\",\"Neutral\",\"Neutral\",\"Neutral\",\"Positive\",\"Negative\",\"Positive\",\"Positive\",\"Negative\",\"Neutral\",\"Positive\",\"Negative\",\"Negative\",\"Neutral\",\"Negative\",\"Negative\",\"Positive\",\"Neutral\",\"Neutral\",\"Positive\",\"Negative\",\"Negative\",\"Neutral\",\"Negative\",\"Positive\",\"Negative\",\"Positive\",\"Positive\",\"Negative\",\"Positive\",\"Negative\",\"Negative\",\"Negative\",\"Neutral\",\"Positive\",\"Negative\",\"Negative\",\"Negative\",\"Positive\",\"Neutral\",\"Positive\",\"Positive\",\"Positive\",\"Negative\",\"Negative\",\"Negative\",\"Neutral\",\"Negative\",\"Negative\",\"Positive\",\"Positive\",\"Neutral\",\"Neutral\",\"Positive\",\"Negative\",\"Neutral\",\"Negative\",\"Positive\",\"Negative\",\"Negative\",\"Positive\",\"Negative\",\"Positive\",\"Positive\",\"Negative\",\"Positive\",\"Positive\",\"Positive\",\"Neutral\",\"Positive\",\"Neutral\",\"Positive\",\"Positive\",\"Negative\",\"Positive\",\"Negative\",\"Positive\",\"Negative\",\"Neutral\",\"Negative\",\"Negative\",\"Negative\",\"Positive\",\"Neutral\",\"Negative\",\"Neutral\",\"Neutral\",\"Positive\",\"Negative\",\"Negative\",\"Neutral\",\"Negative\",\"Neutral\",\"Negative\",\"Positive\",\"Positive\",\"Negative\",\"Neutral\",\"Positive\",\"Negative\",\"Negative\",\"Negative\",\"Positive\",\"Neutral\",\"Positive\",\"Negative\",\"Positive\",\"Negative\",\"Positive\",\"Neutral\",\"Negative\",\"Negative\",\"Positive\",\"Positive\",\"Negative\",\"Neutral\",\"Neutral\",\"Neutral\",\"Neutral\",\"Positive\",\"Positive\",\"Negative\",\"Positive\",\"Negative\",\"Neutral\",\"Positive\",\"Neutral\",\"Neutral\",\"Positive\",\"Positive\",\"Negative\",\"Negative\",\"Neutral\",\"Neutral\",\"Positive\",\"Negative\",\"Positive\",\"Negative\",\"Negative\",\"Positive\",\"Positive\",\"Positive\",\"Negative\",\"Neutral\",\"Positive\",\"Positive\",\"Negative\",\"Negative\",\"Positive\",\"Positive\",\"Positive\",\"Positive\",\"Negative\",\"Neutral\",\"Negative\",\"Positive\",\"Negative\",\"Positive\",\"Positive\",\"Neutral\",\"Positive\",\"Positive\",\"Positive\",\"Positive\",\"Positive\",\"Positive\",\"Positive\",\"Neutral\",\"Negative\",\"Neutral\",\"Positive\",\"Neutral\",\"Negative\",\"Positive\",\"Positive\",\"Neutral\",\"Negative\",\"Positive\",\"Positive\",\"Positive\",\"Neutral\",\"Neutral\",\"Negative\",\"Positive\",\"Negative\",\"Negative\",\"Negative\",\"Negative\",\"Positive\",\"Negative\",\"Positive\",\"Negative\",\"Negative\",\"Positive\",\"Positive\",\"Positive\",\"Positive\",\"Positive\",\"Positive\",\"Neutral\",\"Positive\",\"Positive\",\"Negative\",\"Negative\",\"Positive\",\"Neutral\",\"Positive\",\"Positive\",\"Negative\",\"Positive\",\"Negative\",\"Negative\",\"Positive\",\"Positive\",\"Positive\",\"Negative\",\"Positive\",\"Negative\",\"Negative\",\"Negative\",\"Positive\",\"Positive\",\"Positive\",\"Negative\",\"Negative\",\"Positive\",\"Negative\",\"Negative\",\"Positive\",\"Positive\",\"Negative\",\"Positive\",\"Positive\",\"Positive\",\"Negative\",\"Positive\",\"Positive\",\"Positive\",\"Positive\",\"Negative\",\"Negative\",\"Negative\",\"Negative\",\"Negative\",\"Positive\",\"Positive\",\"Neutral\",\"Negative\",\"Negative\",\"Negative\",\"Neutral\",\"Positive\",\"Negative\",\"Positive\",\"Positive\",\"Negative\",\"Positive\",\"Negative\",\"Negative\",\"Negative\",\"Positive\",\"Negative\",\"Neutral\",\"Positive\",\"Positive\",\"Neutral\",\"Positive\",\"Positive\",\"Negative\",\"Neutral\",\"Neutral\",\"Negative\",\"Negative\",\"Positive\",\"Neutral\",\"Negative\",\"Negative\",\"Neutral\",\"Positive\",\"Positive\",\"Positive\",\"Neutral\",\"Negative\",\"Positive\",\"Positive\",\"Positive\",\"Positive\",\"Negative\",\"Negative\",\"Neutral\",\"Negative\",\"Negative\",\"Positive\",\"Neutral\",\"Positive\",\"Neutral\",\"Negative\",\"Positive\",\"Positive\",\"Negative\",\"Negative\",\"Positive\",\"Positive\",\"Positive\",\"Negative\",\"Negative\",\"Negative\",\"Positive\",\"Positive\",\"Positive\",\"Positive\",\"Positive\",\"Neutral\",\"Negative\",\"Positive\",\"Positive\",\"Negative\",\"Positive\",\"Positive\",\"Positive\",\"Negative\",\"Negative\",\"Negative\",\"Positive\",\"Neutral\",\"Positive\",\"Negative\",\"Positive\",\"Neutral\",\"Positive\",\"Positive\",\"Negative\",\"Negative\",\"Positive\",\"Negative\",\"Positive\",\"Negative\",\"Neutral\",\"Positive\",\"Positive\",\"Positive\",\"Positive\",\"Negative\",\"Positive\",\"Neutral\",\"Negative\",\"Positive\",\"Neutral\",\"Neutral\",\"Positive\",\"Negative\",\"Negative\",\"Positive\",\"Negative\",\"Positive\",\"Positive\",\"Negative\",\"Negative\",\"Positive\",\"Positive\",\"Neutral\",\"Positive\",\"Neutral\",\"Positive\",\"Negative\",\"Positive\",\"Negative\",\"Positive\",\"Neutral\",\"Neutral\",\"Negative\",\"Neutral\",\"Neutral\",\"Negative\",\"Positive\",\"Negative\",\"Negative\",\"Positive\",\"Positive\",\"Neutral\",\"Negative\",\"Positive\",\"Negative\",\"Positive\",\"Negative\",\"Neutral\",\"Positive\",\"Negative\",\"Negative\",\"Positive\",\"Neutral\",\"Positive\",\"Negative\",\"Positive\",\"Neutral\",\"Neutral\",\"Negative\",\"Negative\",\"Negative\",\"Negative\",\"Positive\",\"Positive\",\"Negative\",\"Negative\",\"Positive\",\"Neutral\",\"Positive\",\"Negative\",\"Neutral\",\"Negative\",\"Negative\",\"Positive\",\"Negative\",\"Negative\",\"Neutral\",\"Negative\",\"Neutral\",\"Negative\",\"Positive\",\"Negative\",\"Negative\",\"Positive\",\"Neutral\",\"Neutral\",\"Positive\",\"Neutral\",\"Neutral\",\"Negative\",\"Neutral\",\"Negative\",\"Negative\",\"Negative\",\"Positive\",\"Neutral\",\"Positive\",\"Positive\",\"Positive\",\"Neutral\",\"Neutral\",\"Neutral\",\"Positive\",\"Positive\",\"Positive\",\"Neutral\",\"Positive\",\"Negative\",\"Positive\",\"Positive\",\"Negative\",\"Positive\",\"Positive\",\"Negative\",\"Neutral\",\"Positive\",\"Positive\",\"Positive\",\"Negative\",\"Negative\",\"Negative\",\"Negative\",\"Negative\",\"Negative\",\"Negative\",\"Positive\",\"Negative\",\"Negative\",\"Neutral\",\"Neutral\",\"Negative\",\"Neutral\",\"Positive\",\"Neutral\",\"Positive\",\"Positive\",\"Positive\",\"Positive\",\"Neutral\",\"Neutral\",\"Positive\",\"Positive\",\"Negative\",\"Positive\",\"Positive\",\"Positive\",\"Positive\",\"Positive\",\"Positive\",\"Negative\",\"Positive\",\"Neutral\",\"Positive\",\"Positive\",\"Positive\",\"Positive\",\"Positive\",\"Positive\",\"Positive\",\"Neutral\",\"Negative\",\"Positive\",\"Positive\",\"Positive\",\"Negative\",\"Positive\",\"Positive\",\"Negative\",\"Positive\",\"Positive\",\"Neutral\",\"Negative\",\"Neutral\",\"Positive\",\"Negative\",\"Positive\",\"Positive\",\"Positive\",\"Neutral\",\"Positive\",\"Negative\",\"Positive\",\"Positive\",\"Negative\",\"Negative\",\"Negative\",\"Negative\",\"Negative\",\"Positive\",\"Negative\",\"Positive\",\"Neutral\",\"Negative\",\"Neutral\",\"Positive\",\"Positive\",\"Positive\",\"Negative\",\"Positive\",\"Positive\",\"Negative\",\"Negative\",\"Neutral\",\"Negative\",\"Negative\",\"Positive\",\"Negative\",\"Positive\",\"Positive\",\"Positive\",\"Positive\",\"Neutral\",\"Positive\",\"Positive\",\"Negative\",\"Positive\",\"Positive\",\"Positive\",\"Negative\",\"Negative\",\"Negative\",\"Positive\",\"Positive\",\"Positive\",\"Negative\",\"Negative\",\"Positive\",\"Negative\",\"Positive\",\"Negative\",\"Neutral\",\"Positive\",\"Positive\",\"Positive\",\"Positive\",\"Positive\",\"Negative\",\"Negative\",\"Positive\",\"Negative\",\"Negative\",\"Positive\",\"Negative\",\"Positive\",\"Positive\",\"Positive\",\"Positive\",\"Positive\",\"Positive\",\"Negative\",\"Positive\",\"Negative\",\"Neutral\",\"Positive\",\"Neutral\",\"Positive\",\"Negative\",\"Positive\",\"Positive\",\"Negative\",\"Positive\",\"Neutral\",\"Positive\",\"Positive\",\"Positive\",\"Negative\",\"Negative\",\"Negative\",\"Negative\",\"Positive\",\"Negative\",\"Negative\",\"Negative\",\"Neutral\",\"Neutral\",\"Negative\",\"Neutral\",\"Positive\",\"Negative\",\"Neutral\",\"Positive\",\"Negative\",\"Positive\",\"Positive\",\"Positive\",\"Positive\",\"Negative\",\"Negative\",\"Positive\",\"Positive\",\"Negative\",\"Positive\",\"Negative\",\"Neutral\",\"Neutral\",\"Negative\",\"Positive\",\"Neutral\",\"Negative\",\"Neutral\",\"Neutral\",\"Positive\",\"Neutral\",\"Positive\",\"Positive\",\"Positive\",\"Positive\",\"Negative\",\"Negative\",\"Positive\",\"Neutral\",\"Negative\",\"Positive\",\"Negative\",\"Positive\",\"Positive\",\"Positive\",\"Negative\",\"Positive\",\"Positive\",\"Negative\",\"Neutral\",\"Negative\",\"Negative\",\"Negative\",\"Neutral\",\"Positive\",\"Positive\",\"Negative\",\"Negative\",\"Neutral\",\"Negative\",\"Positive\",\"Positive\",\"Negative\",\"Negative\",\"Negative\",\"Positive\",\"Negative\",\"Neutral\",\"Positive\",\"Neutral\",\"Neutral\",\"Positive\",\"Negative\",\"Positive\",\"Neutral\",\"Positive\",\"Positive\",\"Neutral\",\"Positive\",\"Negative\",\"Positive\",\"Positive\",\"Negative\",\"Positive\",\"Positive\",\"Negative\",\"Positive\",\"Neutral\",\"Positive\",\"Positive\",\"Positive\",\"Positive\",\"Positive\",\"Negative\",\"Positive\",\"Neutral\",\"Neutral\",\"Neutral\",\"Positive\",\"Neutral\",\"Neutral\",\"Negative\",\"Neutral\",\"Positive\",\"Positive\",\"Positive\",\"Negative\",\"Neutral\",\"Negative\",\"Negative\",\"Negative\",\"Positive\",\"Negative\",\"Negative\",\"Positive\",\"Negative\",\"Positive\",\"Neutral\",\"Negative\",\"Neutral\",\"Negative\",\"Negative\",\"Negative\",\"Neutral\",\"Positive\",\"Neutral\",\"Positive\",\"Positive\",\"Neutral\",\"Positive\",\"Positive\",\"Neutral\",\"Positive\",\"Neutral\",\"Negative\",\"Neutral\",\"Neutral\",\"Neutral\",\"Positive\",\"Negative\",\"Neutral\",\"Positive\",\"Positive\",\"Neutral\",\"Negative\",\"Positive\",\"Positive\",\"Neutral\",\"Neutral\",\"Positive\",\"Negative\",\"Negative\",\"Negative\",\"Negative\",\"Neutral\",\"Positive\",\"Neutral\",\"Positive\",\"Neutral\",\"Negative\",\"Positive\",\"Neutral\",\"Neutral\",\"Negative\",\"Negative\",\"Positive\",\"Positive\",\"Negative\",\"Positive\",\"Neutral\",\"Negative\",\"Positive\",\"Positive\",\"Neutral\",\"Neutral\",\"Positive\",\"Positive\",\"Neutral\",\"Negative\",\"Negative\",\"Negative\",\"Positive\",\"Neutral\",\"Positive\",\"Positive\",\"Positive\",\"Negative\",\"Positive\",\"Positive\",\"Neutral\",\"Neutral\",\"Negative\",\"Positive\",\"Negative\",\"Positive\",\"Positive\",\"Positive\",\"Positive\",\"Positive\",\"Positive\",\"Positive\",\"Positive\",\"Neutral\",\"Positive\",\"Negative\",\"Negative\",\"Positive\",\"Positive\",\"Positive\",\"Positive\",\"Neutral\",\"Neutral\",\"Negative\",\"Negative\",\"Negative\",\"Positive\",\"Positive\",\"Neutral\",\"Positive\",\"Negative\",\"Positive\",\"Positive\",\"Negative\",\"Positive\",\"Neutral\",\"Neutral\",\"Neutral\",\"Positive\",\"Negative\",\"Neutral\",\"Neutral\",\"Neutral\",\"Positive\",\"Neutral\",\"Negative\",\"Positive\",\"Negative\",\"Neutral\",\"Negative\",\"Neutral\",\"Positive\",\"Positive\",\"Negative\",\"Positive\",\"Negative\",\"Positive\",\"Neutral\",\"Neutral\",\"Negative\",\"Positive\",\"Negative\",\"Negative\",\"Negative\",\"Positive\",\"Positive\",\"Positive\",\"Negative\",\"Neutral\",\"Neutral\",\"Negative\",\"Neutral\",\"Negative\",\"Positive\",\"Negative\",\"Negative\",\"Negative\",\"Neutral\",\"Neutral\",\"Positive\",\"Negative\",\"Neutral\",\"Negative\",\"Neutral\",\"Negative\",\"Negative\",\"Positive\",\"Negative\",\"Positive\",\"Neutral\",\"Negative\",\"Positive\",\"Negative\",\"Neutral\",\"Negative\",\"Neutral\",\"Positive\",\"Negative\",\"Negative\",\"Negative\",\"Positive\",\"Positive\",\"Neutral\",\"Positive\",\"Negative\",\"Positive\",\"Positive\",\"Negative\",\"Negative\",\"Positive\",\"Negative\",\"Neutral\",\"Neutral\",\"Positive\",\"Negative\",\"Positive\",\"Positive\",\"Neutral\",\"Neutral\",\"Neutral\",\"Negative\",\"Positive\",\"Neutral\",\"Negative\",\"Negative\",\"Positive\",\"Positive\",\"Negative\",\"Positive\",\"Negative\",\"Positive\",\"Positive\",\"Negative\",\"Negative\",\"Neutral\",\"Positive\",\"Positive\",\"Neutral\",\"Positive\",\"Positive\",\"Negative\",\"Positive\",\"Neutral\",\"Negative\",\"Negative\",\"Positive\",\"Positive\",\"Negative\",\"Negative\",\"Positive\",\"Negative\",\"Negative\",\"Positive\",\"Neutral\",\"Positive\",\"Negative\",\"Negative\",\"Positive\",\"Positive\",\"Negative\",\"Positive\",\"Negative\",\"Positive\",\"Positive\",\"Positive\",\"Neutral\",\"Negative\",\"Negative\",\"Negative\",\"Positive\",\"Negative\",\"Positive\",\"Neutral\",\"Neutral\",\"Positive\",\"Negative\",\"Negative\",\"Negative\",\"Negative\",\"Neutral\",\"Negative\",\"Neutral\",\"Negative\",\"Positive\",\"Positive\",\"Positive\",\"Neutral\",\"Positive\",\"Positive\",\"Positive\",\"Positive\",\"Positive\",\"Negative\",\"Positive\",\"Negative\",\"Positive\",\"Neutral\",\"Neutral\",\"Positive\",\"Positive\",\"Neutral\",\"Neutral\",\"Positive\",\"Positive\",\"Positive\",\"Positive\",\"Neutral\",\"Neutral\",\"Negative\",\"Neutral\",\"Positive\",\"Negative\",\"Positive\",\"Positive\",\"Positive\",\"Positive\",\"Neutral\",\"Negative\",\"Positive\",\"Neutral\",\"Positive\",\"Neutral\",\"Negative\",\"Neutral\",\"Positive\",\"Positive\",\"Neutral\",\"Neutral\",\"Positive\",\"Positive\",\"Positive\",\"Positive\",\"Negative\",\"Neutral\",\"Neutral\",\"Neutral\",\"Positive\",\"Negative\",\"Positive\",\"Negative\",\"Positive\",\"Positive\",\"Positive\",\"Positive\",\"Negative\",\"Negative\",\"Negative\",\"Positive\",\"Negative\",\"Positive\",\"Negative\",\"Negative\",\"Positive\",\"Positive\",\"Neutral\",\"Neutral\",\"Positive\",\"Positive\",\"Positive\",\"Positive\",\"Neutral\",\"Neutral\",\"Positive\",\"Positive\",\"Positive\",\"Positive\",\"Positive\",\"Positive\",\"Negative\",\"Neutral\",\"Negative\",\"Neutral\",\"Positive\",\"Neutral\",\"Positive\",\"Positive\",\"Negative\",\"Positive\",\"Neutral\",\"Negative\",\"Neutral\",\"Positive\",\"Positive\",\"Negative\",\"Neutral\",\"Positive\",\"Negative\",\"Positive\",\"Positive\",\"Negative\",\"Negative\",\"Neutral\",\"Positive\",\"Negative\",\"Positive\",\"Neutral\",\"Negative\",\"Negative\",\"Negative\",\"Neutral\",\"Positive\",\"Negative\",\"Neutral\",\"Negative\",\"Negative\",\"Positive\",\"Positive\",\"Negative\",\"Positive\",\"Positive\",\"Positive\",\"Positive\",\"Negative\",\"Neutral\",\"Neutral\",\"Negative\",\"Negative\",\"Positive\",\"Negative\",\"Negative\",\"Neutral\",\"Neutral\",\"Positive\",\"Neutral\",\"Negative\",\"Positive\",\"Negative\",\"Positive\",\"Neutral\",\"Positive\",\"Negative\",\"Positive\",\"Neutral\",\"Positive\",\"Positive\",\"Negative\",\"Positive\",\"Positive\",\"Positive\",\"Neutral\",\"Negative\",\"Negative\",\"Positive\",\"Positive\",\"Positive\",\"Positive\",\"Negative\",\"Positive\",\"Positive\",\"Neutral\",\"Positive\",\"Positive\",\"Positive\",\"Positive\",\"Negative\",\"Neutral\",\"Negative\",\"Neutral\",\"Positive\",\"Neutral\",\"Negative\",\"Negative\",\"Positive\",\"Positive\",\"Positive\",\"Negative\",\"Negative\",\"Neutral\",\"Positive\",\"Positive\",\"Positive\",\"Negative\",\"Positive\",\"Negative\",\"Positive\",\"Positive\",\"Negative\",\"Negative\",\"Positive\",\"Positive\",\"Positive\",\"Negative\",\"Positive\",\"Neutral\",\"Positive\",\"Negative\",\"Neutral\",\"Negative\",\"Positive\",\"Negative\",\"Neutral\",\"Neutral\",\"Positive\",\"Negative\",\"Positive\",\"Negative\",\"Neutral\",\"Positive\",\"Neutral\",\"Positive\",\"Positive\",\"Positive\",\"Negative\",\"Positive\",\"Positive\",\"Negative\",\"Neutral\",\"Negative\",\"Positive\",\"Neutral\",\"Positive\",\"Positive\",\"Positive\",\"Positive\",\"Positive\",\"Neutral\",\"Positive\",\"Negative\",\"Neutral\",\"Positive\",\"Positive\",\"Neutral\",\"Positive\",\"Positive\",\"Positive\",\"Positive\",\"Positive\",\"Positive\",\"Neutral\",\"Negative\",\"Positive\",\"Negative\",\"Negative\",\"Negative\",\"Neutral\",\"Positive\",\"Positive\",\"Positive\",\"Positive\",\"Neutral\",\"Negative\",\"Positive\",\"Negative\",\"Negative\",\"Neutral\",\"Positive\",\"Negative\",\"Negative\",\"Positive\",\"Positive\",\"Negative\",\"Negative\",\"Negative\",\"Neutral\",\"Positive\",\"Positive\",\"Negative\",\"Positive\",\"Negative\",\"Positive\",\"Positive\",\"Negative\",\"Neutral\",\"Negative\",\"Negative\",\"Positive\",\"Positive\",\"Positive\",\"Positive\",\"Negative\",\"Positive\",\"Positive\",\"Positive\",\"Positive\",\"Negative\",\"Positive\",\"Positive\",\"Neutral\",\"Positive\",\"Negative\",\"Negative\",\"Negative\",\"Negative\",\"Negative\",\"Positive\",\"Negative\",\"Neutral\",\"Negative\",\"Positive\",\"Positive\",\"Positive\",\"Negative\",\"Negative\",\"Neutral\",\"Positive\",\"Positive\",\"Positive\",\"Positive\",\"Negative\",\"Negative\",\"Negative\",\"Neutral\",\"Positive\",\"Positive\",\"Positive\",\"Neutral\",\"Neutral\",\"Positive\",\"Positive\",\"Positive\",\"Negative\",\"Positive\",\"Negative\",\"Neutral\",\"Positive\",\"Neutral\",\"Neutral\",\"Positive\",\"Positive\",\"Positive\",\"Positive\",\"Neutral\",\"Neutral\",\"Positive\",\"Negative\",\"Neutral\",\"Negative\",\"Neutral\",\"Neutral\",\"Neutral\",\"Positive\",\"Negative\",\"Negative\",\"Neutral\",\"Positive\",\"Neutral\",\"Positive\",\"Positive\",\"Positive\",\"Positive\",\"Neutral\",\"Neutral\",\"Negative\",\"Negative\",\"Positive\",\"Neutral\",\"Positive\",\"Neutral\",\"Negative\",\"Positive\",\"Positive\",\"Negative\",\"Positive\",\"Negative\",\"Positive\",\"Positive\",\"Positive\",\"Neutral\",\"Positive\",\"Negative\",\"Negative\",\"Positive\",\"Negative\",\"Positive\",\"Negative\",\"Neutral\",\"Negative\",\"Negative\",\"Positive\",\"Negative\",\"Neutral\",\"Positive\",\"Negative\",\"Negative\",\"Neutral\",\"Positive\",\"Negative\",\"Neutral\",\"Positive\",\"Negative\",\"Positive\",\"Neutral\",\"Negative\",\"Positive\",\"Negative\",\"Positive\",\"Neutral\",\"Negative\",\"Neutral\",\"Positive\",\"Negative\",\"Negative\",\"Negative\",\"Neutral\",\"Positive\",\"Negative\",\"Negative\",\"Positive\",\"Positive\",\"Neutral\",\"Negative\",\"Negative\",\"Positive\",\"Positive\",\"Negative\",\"Positive\",\"Positive\",\"Negative\",\"Negative\",\"Negative\",\"Positive\",\"Neutral\",\"Neutral\",\"Neutral\",\"Negative\",\"Negative\",\"Positive\"],\"legendgroup\":\"\",\"name\":\"\",\"showlegend\":true,\"type\":\"pie\"}],                        {\"template\":{\"data\":{\"histogram2dcontour\":[{\"type\":\"histogram2dcontour\",\"colorbar\":{\"outlinewidth\":0,\"ticks\":\"\"},\"colorscale\":[[0.0,\"#0d0887\"],[0.1111111111111111,\"#46039f\"],[0.2222222222222222,\"#7201a8\"],[0.3333333333333333,\"#9c179e\"],[0.4444444444444444,\"#bd3786\"],[0.5555555555555556,\"#d8576b\"],[0.6666666666666666,\"#ed7953\"],[0.7777777777777778,\"#fb9f3a\"],[0.8888888888888888,\"#fdca26\"],[1.0,\"#f0f921\"]]}],\"choropleth\":[{\"type\":\"choropleth\",\"colorbar\":{\"outlinewidth\":0,\"ticks\":\"\"}}],\"histogram2d\":[{\"type\":\"histogram2d\",\"colorbar\":{\"outlinewidth\":0,\"ticks\":\"\"},\"colorscale\":[[0.0,\"#0d0887\"],[0.1111111111111111,\"#46039f\"],[0.2222222222222222,\"#7201a8\"],[0.3333333333333333,\"#9c179e\"],[0.4444444444444444,\"#bd3786\"],[0.5555555555555556,\"#d8576b\"],[0.6666666666666666,\"#ed7953\"],[0.7777777777777778,\"#fb9f3a\"],[0.8888888888888888,\"#fdca26\"],[1.0,\"#f0f921\"]]}],\"heatmap\":[{\"type\":\"heatmap\",\"colorbar\":{\"outlinewidth\":0,\"ticks\":\"\"},\"colorscale\":[[0.0,\"#0d0887\"],[0.1111111111111111,\"#46039f\"],[0.2222222222222222,\"#7201a8\"],[0.3333333333333333,\"#9c179e\"],[0.4444444444444444,\"#bd3786\"],[0.5555555555555556,\"#d8576b\"],[0.6666666666666666,\"#ed7953\"],[0.7777777777777778,\"#fb9f3a\"],[0.8888888888888888,\"#fdca26\"],[1.0,\"#f0f921\"]]}],\"heatmapgl\":[{\"type\":\"heatmapgl\",\"colorbar\":{\"outlinewidth\":0,\"ticks\":\"\"},\"colorscale\":[[0.0,\"#0d0887\"],[0.1111111111111111,\"#46039f\"],[0.2222222222222222,\"#7201a8\"],[0.3333333333333333,\"#9c179e\"],[0.4444444444444444,\"#bd3786\"],[0.5555555555555556,\"#d8576b\"],[0.6666666666666666,\"#ed7953\"],[0.7777777777777778,\"#fb9f3a\"],[0.8888888888888888,\"#fdca26\"],[1.0,\"#f0f921\"]]}],\"contourcarpet\":[{\"type\":\"contourcarpet\",\"colorbar\":{\"outlinewidth\":0,\"ticks\":\"\"}}],\"contour\":[{\"type\":\"contour\",\"colorbar\":{\"outlinewidth\":0,\"ticks\":\"\"},\"colorscale\":[[0.0,\"#0d0887\"],[0.1111111111111111,\"#46039f\"],[0.2222222222222222,\"#7201a8\"],[0.3333333333333333,\"#9c179e\"],[0.4444444444444444,\"#bd3786\"],[0.5555555555555556,\"#d8576b\"],[0.6666666666666666,\"#ed7953\"],[0.7777777777777778,\"#fb9f3a\"],[0.8888888888888888,\"#fdca26\"],[1.0,\"#f0f921\"]]}],\"surface\":[{\"type\":\"surface\",\"colorbar\":{\"outlinewidth\":0,\"ticks\":\"\"},\"colorscale\":[[0.0,\"#0d0887\"],[0.1111111111111111,\"#46039f\"],[0.2222222222222222,\"#7201a8\"],[0.3333333333333333,\"#9c179e\"],[0.4444444444444444,\"#bd3786\"],[0.5555555555555556,\"#d8576b\"],[0.6666666666666666,\"#ed7953\"],[0.7777777777777778,\"#fb9f3a\"],[0.8888888888888888,\"#fdca26\"],[1.0,\"#f0f921\"]]}],\"mesh3d\":[{\"type\":\"mesh3d\",\"colorbar\":{\"outlinewidth\":0,\"ticks\":\"\"}}],\"scatter\":[{\"fillpattern\":{\"fillmode\":\"overlay\",\"size\":10,\"solidity\":0.2},\"type\":\"scatter\"}],\"parcoords\":[{\"type\":\"parcoords\",\"line\":{\"colorbar\":{\"outlinewidth\":0,\"ticks\":\"\"}}}],\"scatterpolargl\":[{\"type\":\"scatterpolargl\",\"marker\":{\"colorbar\":{\"outlinewidth\":0,\"ticks\":\"\"}}}],\"bar\":[{\"error_x\":{\"color\":\"#2a3f5f\"},\"error_y\":{\"color\":\"#2a3f5f\"},\"marker\":{\"line\":{\"color\":\"#E5ECF6\",\"width\":0.5},\"pattern\":{\"fillmode\":\"overlay\",\"size\":10,\"solidity\":0.2}},\"type\":\"bar\"}],\"scattergeo\":[{\"type\":\"scattergeo\",\"marker\":{\"colorbar\":{\"outlinewidth\":0,\"ticks\":\"\"}}}],\"scatterpolar\":[{\"type\":\"scatterpolar\",\"marker\":{\"colorbar\":{\"outlinewidth\":0,\"ticks\":\"\"}}}],\"histogram\":[{\"marker\":{\"pattern\":{\"fillmode\":\"overlay\",\"size\":10,\"solidity\":0.2}},\"type\":\"histogram\"}],\"scattergl\":[{\"type\":\"scattergl\",\"marker\":{\"colorbar\":{\"outlinewidth\":0,\"ticks\":\"\"}}}],\"scatter3d\":[{\"type\":\"scatter3d\",\"line\":{\"colorbar\":{\"outlinewidth\":0,\"ticks\":\"\"}},\"marker\":{\"colorbar\":{\"outlinewidth\":0,\"ticks\":\"\"}}}],\"scattermapbox\":[{\"type\":\"scattermapbox\",\"marker\":{\"colorbar\":{\"outlinewidth\":0,\"ticks\":\"\"}}}],\"scatterternary\":[{\"type\":\"scatterternary\",\"marker\":{\"colorbar\":{\"outlinewidth\":0,\"ticks\":\"\"}}}],\"scattercarpet\":[{\"type\":\"scattercarpet\",\"marker\":{\"colorbar\":{\"outlinewidth\":0,\"ticks\":\"\"}}}],\"carpet\":[{\"aaxis\":{\"endlinecolor\":\"#2a3f5f\",\"gridcolor\":\"white\",\"linecolor\":\"white\",\"minorgridcolor\":\"white\",\"startlinecolor\":\"#2a3f5f\"},\"baxis\":{\"endlinecolor\":\"#2a3f5f\",\"gridcolor\":\"white\",\"linecolor\":\"white\",\"minorgridcolor\":\"white\",\"startlinecolor\":\"#2a3f5f\"},\"type\":\"carpet\"}],\"table\":[{\"cells\":{\"fill\":{\"color\":\"#EBF0F8\"},\"line\":{\"color\":\"white\"}},\"header\":{\"fill\":{\"color\":\"#C8D4E3\"},\"line\":{\"color\":\"white\"}},\"type\":\"table\"}],\"barpolar\":[{\"marker\":{\"line\":{\"color\":\"#E5ECF6\",\"width\":0.5},\"pattern\":{\"fillmode\":\"overlay\",\"size\":10,\"solidity\":0.2}},\"type\":\"barpolar\"}],\"pie\":[{\"automargin\":true,\"type\":\"pie\"}]},\"layout\":{\"autotypenumbers\":\"strict\",\"colorway\":[\"#636efa\",\"#EF553B\",\"#00cc96\",\"#ab63fa\",\"#FFA15A\",\"#19d3f3\",\"#FF6692\",\"#B6E880\",\"#FF97FF\",\"#FECB52\"],\"font\":{\"color\":\"#2a3f5f\"},\"hovermode\":\"closest\",\"hoverlabel\":{\"align\":\"left\"},\"paper_bgcolor\":\"white\",\"plot_bgcolor\":\"#E5ECF6\",\"polar\":{\"bgcolor\":\"#E5ECF6\",\"angularaxis\":{\"gridcolor\":\"white\",\"linecolor\":\"white\",\"ticks\":\"\"},\"radialaxis\":{\"gridcolor\":\"white\",\"linecolor\":\"white\",\"ticks\":\"\"}},\"ternary\":{\"bgcolor\":\"#E5ECF6\",\"aaxis\":{\"gridcolor\":\"white\",\"linecolor\":\"white\",\"ticks\":\"\"},\"baxis\":{\"gridcolor\":\"white\",\"linecolor\":\"white\",\"ticks\":\"\"},\"caxis\":{\"gridcolor\":\"white\",\"linecolor\":\"white\",\"ticks\":\"\"}},\"coloraxis\":{\"colorbar\":{\"outlinewidth\":0,\"ticks\":\"\"}},\"colorscale\":{\"sequential\":[[0.0,\"#0d0887\"],[0.1111111111111111,\"#46039f\"],[0.2222222222222222,\"#7201a8\"],[0.3333333333333333,\"#9c179e\"],[0.4444444444444444,\"#bd3786\"],[0.5555555555555556,\"#d8576b\"],[0.6666666666666666,\"#ed7953\"],[0.7777777777777778,\"#fb9f3a\"],[0.8888888888888888,\"#fdca26\"],[1.0,\"#f0f921\"]],\"sequentialminus\":[[0.0,\"#0d0887\"],[0.1111111111111111,\"#46039f\"],[0.2222222222222222,\"#7201a8\"],[0.3333333333333333,\"#9c179e\"],[0.4444444444444444,\"#bd3786\"],[0.5555555555555556,\"#d8576b\"],[0.6666666666666666,\"#ed7953\"],[0.7777777777777778,\"#fb9f3a\"],[0.8888888888888888,\"#fdca26\"],[1.0,\"#f0f921\"]],\"diverging\":[[0,\"#8e0152\"],[0.1,\"#c51b7d\"],[0.2,\"#de77ae\"],[0.3,\"#f1b6da\"],[0.4,\"#fde0ef\"],[0.5,\"#f7f7f7\"],[0.6,\"#e6f5d0\"],[0.7,\"#b8e186\"],[0.8,\"#7fbc41\"],[0.9,\"#4d9221\"],[1,\"#276419\"]]},\"xaxis\":{\"gridcolor\":\"white\",\"linecolor\":\"white\",\"ticks\":\"\",\"title\":{\"standoff\":15},\"zerolinecolor\":\"white\",\"automargin\":true,\"zerolinewidth\":2},\"yaxis\":{\"gridcolor\":\"white\",\"linecolor\":\"white\",\"ticks\":\"\",\"title\":{\"standoff\":15},\"zerolinecolor\":\"white\",\"automargin\":true,\"zerolinewidth\":2},\"scene\":{\"xaxis\":{\"backgroundcolor\":\"#E5ECF6\",\"gridcolor\":\"white\",\"linecolor\":\"white\",\"showbackground\":true,\"ticks\":\"\",\"zerolinecolor\":\"white\",\"gridwidth\":2},\"yaxis\":{\"backgroundcolor\":\"#E5ECF6\",\"gridcolor\":\"white\",\"linecolor\":\"white\",\"showbackground\":true,\"ticks\":\"\",\"zerolinecolor\":\"white\",\"gridwidth\":2},\"zaxis\":{\"backgroundcolor\":\"#E5ECF6\",\"gridcolor\":\"white\",\"linecolor\":\"white\",\"showbackground\":true,\"ticks\":\"\",\"zerolinecolor\":\"white\",\"gridwidth\":2}},\"shapedefaults\":{\"line\":{\"color\":\"#2a3f5f\"}},\"annotationdefaults\":{\"arrowcolor\":\"#2a3f5f\",\"arrowhead\":0,\"arrowwidth\":1},\"geo\":{\"bgcolor\":\"white\",\"landcolor\":\"#E5ECF6\",\"subunitcolor\":\"white\",\"showland\":true,\"showlakes\":true,\"lakecolor\":\"white\"},\"title\":{\"x\":0.05},\"mapbox\":{\"style\":\"light\"}}},\"legend\":{\"tracegroupgap\":0},\"margin\":{\"t\":60}},                        {\"responsive\": true}                    ).then(function(){\n",
       "                            \n",
       "var gd = document.getElementById('d4f84c77-e4b5-4f2d-be37-1d136cb2b9b4');\n",
       "var x = new MutationObserver(function (mutations, observer) {{\n",
       "        var display = window.getComputedStyle(gd).display;\n",
       "        if (!display || display === 'none') {{\n",
       "            console.log([gd, 'removed!']);\n",
       "            Plotly.purge(gd);\n",
       "            observer.disconnect();\n",
       "        }}\n",
       "}});\n",
       "\n",
       "// Listen for the removal of the full notebook cells\n",
       "var notebookContainer = gd.closest('#notebook-container');\n",
       "if (notebookContainer) {{\n",
       "    x.observe(notebookContainer, {childList: true});\n",
       "}}\n",
       "\n",
       "// Listen for the clearing of the current output cell\n",
       "var outputEl = gd.closest('.output');\n",
       "if (outputEl) {{\n",
       "    x.observe(outputEl, {childList: true});\n",
       "}}\n",
       "\n",
       "                        })                };                            </script>        </div>\n",
       "</body>\n",
       "</html>"
      ]
     },
     "metadata": {},
     "output_type": "display_data"
    }
   ],
   "source": [
    "# pie chart on description score column\n",
    "import plotly.express as px\n",
    "fig = px.pie(cnbc_reuter_copy,\n",
    "             names='ds_score')\n",
    "fig.show()"
   ]
  },
  {
   "cell_type": "markdown",
   "metadata": {
    "id": "5o3Z-0KhHm2w"
   },
   "source": [
    "In the dataset\n",
    "\n",
    "description contains\n",
    "\n",
    "42.6% positive statments\n",
    "\n",
    "34.5% negtive statements\n",
    "\n",
    "22.9% neutral statments"
   ]
  },
  {
   "cell_type": "markdown",
   "metadata": {
    "id": "wgt0f3fKfakl"
   },
   "source": [
    "# Modelling on description"
   ]
  },
  {
   "cell_type": "code",
   "execution_count": null,
   "metadata": {
    "colab": {
     "base_uri": "https://localhost:8080/",
     "height": 206
    },
    "id": "NkrHWjFMM1-S",
    "outputId": "2a71fc78-5172-48a9-a03f-e3024c92f41c"
   },
   "outputs": [
    {
     "data": {
      "text/html": [
       "\n",
       "\n",
       "  <div id=\"df-7514b992-b06b-4d6d-995c-eb4889ffe4b0\">\n",
       "    <div class=\"colab-df-container\">\n",
       "      <div>\n",
       "<style scoped>\n",
       "    .dataframe tbody tr th:only-of-type {\n",
       "        vertical-align: middle;\n",
       "    }\n",
       "\n",
       "    .dataframe tbody tr th {\n",
       "        vertical-align: top;\n",
       "    }\n",
       "\n",
       "    .dataframe thead th {\n",
       "        text-align: right;\n",
       "    }\n",
       "</style>\n",
       "<table border=\"1\" class=\"dataframe\">\n",
       "  <thead>\n",
       "    <tr style=\"text-align: right;\">\n",
       "      <th></th>\n",
       "      <th>Headlines</th>\n",
       "      <th>Time</th>\n",
       "      <th>Description</th>\n",
       "      <th>ds_score</th>\n",
       "    </tr>\n",
       "  </thead>\n",
       "  <tbody>\n",
       "    <tr>\n",
       "      <th>0</th>\n",
       "      <td>Jim Cramer: A better way to invest in the Covi...</td>\n",
       "      <td>7:51  PM ET Fri, 17 July 2020</td>\n",
       "      <td>mad money host jim cramer recommend buy four c...</td>\n",
       "      <td>Positive</td>\n",
       "    </tr>\n",
       "    <tr>\n",
       "      <th>1</th>\n",
       "      <td>Cramer's lightning round: I would own Teradyne</td>\n",
       "      <td>7:33  PM ET Fri, 17 July 2020</td>\n",
       "      <td>mad money host jim cramer ring lightn round be...</td>\n",
       "      <td>Negative</td>\n",
       "    </tr>\n",
       "    <tr>\n",
       "      <th>2</th>\n",
       "      <td>Cramer's week ahead: Big week for earnings, ev...</td>\n",
       "      <td>7:25  PM ET Fri, 17 July 2020</td>\n",
       "      <td>well pay earn noncovid compani lancet publish ...</td>\n",
       "      <td>Positive</td>\n",
       "    </tr>\n",
       "    <tr>\n",
       "      <th>3</th>\n",
       "      <td>IQ Capital CEO Keith Bliss says tech and healt...</td>\n",
       "      <td>4:24  PM ET Fri, 17 July 2020</td>\n",
       "      <td>keith bliss iq capit ceo join close bell talk ...</td>\n",
       "      <td>Positive</td>\n",
       "    </tr>\n",
       "    <tr>\n",
       "      <th>4</th>\n",
       "      <td>Wall Street delivered the 'kind of pullback I'...</td>\n",
       "      <td>7:36  PM ET Thu, 16 July 2020</td>\n",
       "      <td>look stock highqual compani go lower even thou...</td>\n",
       "      <td>Negative</td>\n",
       "    </tr>\n",
       "  </tbody>\n",
       "</table>\n",
       "</div>\n",
       "      <button class=\"colab-df-convert\" onclick=\"convertToInteractive('df-7514b992-b06b-4d6d-995c-eb4889ffe4b0')\"\n",
       "              title=\"Convert this dataframe to an interactive table.\"\n",
       "              style=\"display:none;\">\n",
       "\n",
       "  <svg xmlns=\"http://www.w3.org/2000/svg\" height=\"24px\"viewBox=\"0 0 24 24\"\n",
       "       width=\"24px\">\n",
       "    <path d=\"M0 0h24v24H0V0z\" fill=\"none\"/>\n",
       "    <path d=\"M18.56 5.44l.94 2.06.94-2.06 2.06-.94-2.06-.94-.94-2.06-.94 2.06-2.06.94zm-11 1L8.5 8.5l.94-2.06 2.06-.94-2.06-.94L8.5 2.5l-.94 2.06-2.06.94zm10 10l.94 2.06.94-2.06 2.06-.94-2.06-.94-.94-2.06-.94 2.06-2.06.94z\"/><path d=\"M17.41 7.96l-1.37-1.37c-.4-.4-.92-.59-1.43-.59-.52 0-1.04.2-1.43.59L10.3 9.45l-7.72 7.72c-.78.78-.78 2.05 0 2.83L4 21.41c.39.39.9.59 1.41.59.51 0 1.02-.2 1.41-.59l7.78-7.78 2.81-2.81c.8-.78.8-2.07 0-2.86zM5.41 20L4 18.59l7.72-7.72 1.47 1.35L5.41 20z\"/>\n",
       "  </svg>\n",
       "      </button>\n",
       "\n",
       "\n",
       "\n",
       "    <div id=\"df-9dbc4692-7d80-49e9-b8ce-af35aa2b21d0\">\n",
       "      <button class=\"colab-df-quickchart\" onclick=\"quickchart('df-9dbc4692-7d80-49e9-b8ce-af35aa2b21d0')\"\n",
       "              title=\"Suggest charts.\"\n",
       "              style=\"display:none;\">\n",
       "\n",
       "<svg xmlns=\"http://www.w3.org/2000/svg\" height=\"24px\"viewBox=\"0 0 24 24\"\n",
       "     width=\"24px\">\n",
       "    <g>\n",
       "        <path d=\"M19 3H5c-1.1 0-2 .9-2 2v14c0 1.1.9 2 2 2h14c1.1 0 2-.9 2-2V5c0-1.1-.9-2-2-2zM9 17H7v-7h2v7zm4 0h-2V7h2v10zm4 0h-2v-4h2v4z\"/>\n",
       "    </g>\n",
       "</svg>\n",
       "      </button>\n",
       "    </div>\n",
       "\n",
       "<style>\n",
       "  .colab-df-quickchart {\n",
       "    background-color: #E8F0FE;\n",
       "    border: none;\n",
       "    border-radius: 50%;\n",
       "    cursor: pointer;\n",
       "    display: none;\n",
       "    fill: #1967D2;\n",
       "    height: 32px;\n",
       "    padding: 0 0 0 0;\n",
       "    width: 32px;\n",
       "  }\n",
       "\n",
       "  .colab-df-quickchart:hover {\n",
       "    background-color: #E2EBFA;\n",
       "    box-shadow: 0px 1px 2px rgba(60, 64, 67, 0.3), 0px 1px 3px 1px rgba(60, 64, 67, 0.15);\n",
       "    fill: #174EA6;\n",
       "  }\n",
       "\n",
       "  [theme=dark] .colab-df-quickchart {\n",
       "    background-color: #3B4455;\n",
       "    fill: #D2E3FC;\n",
       "  }\n",
       "\n",
       "  [theme=dark] .colab-df-quickchart:hover {\n",
       "    background-color: #434B5C;\n",
       "    box-shadow: 0px 1px 3px 1px rgba(0, 0, 0, 0.15);\n",
       "    filter: drop-shadow(0px 1px 2px rgba(0, 0, 0, 0.3));\n",
       "    fill: #FFFFFF;\n",
       "  }\n",
       "</style>\n",
       "\n",
       "    <script>\n",
       "      async function quickchart(key) {\n",
       "        const containerElement = document.querySelector('#' + key);\n",
       "        const charts = await google.colab.kernel.invokeFunction(\n",
       "            'suggestCharts', [key], {});\n",
       "      }\n",
       "    </script>\n",
       "\n",
       "      <script>\n",
       "\n",
       "function displayQuickchartButton(domScope) {\n",
       "  let quickchartButtonEl =\n",
       "    domScope.querySelector('#df-9dbc4692-7d80-49e9-b8ce-af35aa2b21d0 button.colab-df-quickchart');\n",
       "  quickchartButtonEl.style.display =\n",
       "    google.colab.kernel.accessAllowed ? 'block' : 'none';\n",
       "}\n",
       "\n",
       "        displayQuickchartButton(document);\n",
       "      </script>\n",
       "      <style>\n",
       "    .colab-df-container {\n",
       "      display:flex;\n",
       "      flex-wrap:wrap;\n",
       "      gap: 12px;\n",
       "    }\n",
       "\n",
       "    .colab-df-convert {\n",
       "      background-color: #E8F0FE;\n",
       "      border: none;\n",
       "      border-radius: 50%;\n",
       "      cursor: pointer;\n",
       "      display: none;\n",
       "      fill: #1967D2;\n",
       "      height: 32px;\n",
       "      padding: 0 0 0 0;\n",
       "      width: 32px;\n",
       "    }\n",
       "\n",
       "    .colab-df-convert:hover {\n",
       "      background-color: #E2EBFA;\n",
       "      box-shadow: 0px 1px 2px rgba(60, 64, 67, 0.3), 0px 1px 3px 1px rgba(60, 64, 67, 0.15);\n",
       "      fill: #174EA6;\n",
       "    }\n",
       "\n",
       "    [theme=dark] .colab-df-convert {\n",
       "      background-color: #3B4455;\n",
       "      fill: #D2E3FC;\n",
       "    }\n",
       "\n",
       "    [theme=dark] .colab-df-convert:hover {\n",
       "      background-color: #434B5C;\n",
       "      box-shadow: 0px 1px 3px 1px rgba(0, 0, 0, 0.15);\n",
       "      filter: drop-shadow(0px 1px 2px rgba(0, 0, 0, 0.3));\n",
       "      fill: #FFFFFF;\n",
       "    }\n",
       "  </style>\n",
       "\n",
       "      <script>\n",
       "        const buttonEl =\n",
       "          document.querySelector('#df-7514b992-b06b-4d6d-995c-eb4889ffe4b0 button.colab-df-convert');\n",
       "        buttonEl.style.display =\n",
       "          google.colab.kernel.accessAllowed ? 'block' : 'none';\n",
       "\n",
       "        async function convertToInteractive(key) {\n",
       "          const element = document.querySelector('#df-7514b992-b06b-4d6d-995c-eb4889ffe4b0');\n",
       "          const dataTable =\n",
       "            await google.colab.kernel.invokeFunction('convertToInteractive',\n",
       "                                                     [key], {});\n",
       "          if (!dataTable) return;\n",
       "\n",
       "          const docLinkHtml = 'Like what you see? Visit the ' +\n",
       "            '<a target=\"_blank\" href=https://colab.research.google.com/notebooks/data_table.ipynb>data table notebook</a>'\n",
       "            + ' to learn more about interactive tables.';\n",
       "          element.innerHTML = '';\n",
       "          dataTable['output_type'] = 'display_data';\n",
       "          await google.colab.output.renderOutput(dataTable, element);\n",
       "          const docLink = document.createElement('div');\n",
       "          docLink.innerHTML = docLinkHtml;\n",
       "          element.appendChild(docLink);\n",
       "        }\n",
       "      </script>\n",
       "    </div>\n",
       "  </div>\n"
      ],
      "text/plain": [
       "                                           Headlines  \\\n",
       "0  Jim Cramer: A better way to invest in the Covi...   \n",
       "1     Cramer's lightning round: I would own Teradyne   \n",
       "2  Cramer's week ahead: Big week for earnings, ev...   \n",
       "3  IQ Capital CEO Keith Bliss says tech and healt...   \n",
       "4  Wall Street delivered the 'kind of pullback I'...   \n",
       "\n",
       "                             Time  \\\n",
       "0   7:51  PM ET Fri, 17 July 2020   \n",
       "1   7:33  PM ET Fri, 17 July 2020   \n",
       "2   7:25  PM ET Fri, 17 July 2020   \n",
       "3   4:24  PM ET Fri, 17 July 2020   \n",
       "4   7:36  PM ET Thu, 16 July 2020   \n",
       "\n",
       "                                         Description  ds_score  \n",
       "0  mad money host jim cramer recommend buy four c...  Positive  \n",
       "1  mad money host jim cramer ring lightn round be...  Negative  \n",
       "2  well pay earn noncovid compani lancet publish ...  Positive  \n",
       "3  keith bliss iq capit ceo join close bell talk ...  Positive  \n",
       "4  look stock highqual compani go lower even thou...  Negative  "
      ]
     },
     "execution_count": 47,
     "metadata": {},
     "output_type": "execute_result"
    }
   ],
   "source": [
    "cnbc_reuter_copy.head()"
   ]
  },
  {
   "cell_type": "code",
   "execution_count": null,
   "metadata": {
    "colab": {
     "base_uri": "https://localhost:8080/"
    },
    "id": "9X4_tDvwvjIl",
    "outputId": "1935ea20-6574-4dfd-b4fb-889eb9e246c4"
   },
   "outputs": [
    {
     "data": {
      "text/plain": [
       "array(['Positive', 'Negative', 'Neutral'], dtype=object)"
      ]
     },
     "execution_count": 48,
     "metadata": {},
     "output_type": "execute_result"
    }
   ],
   "source": [
    "cnbc_reuter_copy['ds_score'].unique()"
   ]
  },
  {
   "cell_type": "code",
   "execution_count": null,
   "metadata": {
    "id": "-A5Y3UV_vJ8O"
   },
   "outputs": [],
   "source": [
    "#cnbc_reuter_copy['ds_score'] = cnbc_reuter_copy['ds_score'].replace({'Negative': 0, \"Neutral\" : 1, 'Positive':2}) #This is only required for xgboost\n",
    "#cnbc_reuter_copy.head()"
   ]
  },
  {
   "cell_type": "code",
   "execution_count": null,
   "metadata": {
    "id": "woXJOg-OM7mJ"
   },
   "outputs": [],
   "source": [
    "X = cnbc_reuter_copy['Description']\n",
    "y = cnbc_reuter_copy['ds_score']"
   ]
  },
  {
   "cell_type": "code",
   "execution_count": null,
   "metadata": {
    "id": "pOd6wPeUhYd2"
   },
   "outputs": [],
   "source": [
    "# split the dataset  into test and train\n",
    "# 90% train , 10% test and random state 212\n",
    "from sklearn.model_selection import train_test_split\n",
    "x_train, x_test, y_train, y_test = train_test_split(X,y, test_size=0.1, random_state=212)"
   ]
  },
  {
   "cell_type": "code",
   "execution_count": null,
   "metadata": {
    "colab": {
     "base_uri": "https://localhost:8080/"
    },
    "id": "xlKPP1YeNYmm",
    "outputId": "dcce2c32-b15d-4492-9847-faad9f0bca6e"
   },
   "outputs": [
    {
     "name": "stdout",
     "output_type": "stream",
     "text": [
      "X_train:(31963,), X_test:(3552,)\n"
     ]
    }
   ],
   "source": [
    "print(f'X_train:{x_train.shape}, X_test:{x_test.shape}')"
   ]
  },
  {
   "cell_type": "code",
   "execution_count": null,
   "metadata": {
    "colab": {
     "base_uri": "https://localhost:8080/"
    },
    "id": "osK73kHPOefA",
    "outputId": "ecf79eba-b585-46c1-c01d-1c9546f7849b"
   },
   "outputs": [
    {
     "data": {
      "text/plain": [
       "17417    uber technolog inc report record 52 billion lo...\n",
       "21994    french financ minist bruno le mair said thursd...\n",
       "3538     deutsch bank lookout expans opportun area paym...\n",
       "18186    qatariback lawyer task tri draw line deutsch b...\n",
       "30694    u presid donald trump said wednesday hope work...\n",
       "                               ...                        \n",
       "28833    daimler appoint compani veteran ola kaelleniu ...\n",
       "8222     gertrud chavezdreyfuss kate duguid abhinav ram...\n",
       "20926    china huawei technolog co ltd tuesday launch t...\n",
       "31970    hong kongshanghai reutersifr chine smartphon m...\n",
       "28952    walmart inc said may hike price product trump ...\n",
       "Name: Description, Length: 31963, dtype: object"
      ]
     },
     "execution_count": 53,
     "metadata": {},
     "output_type": "execute_result"
    }
   ],
   "source": [
    "x_train"
   ]
  },
  {
   "cell_type": "markdown",
   "metadata": {
    "id": "hVuDdLFJkFSb"
   },
   "source": [
    "LINEAR SUPPORT VECTOR MACHINE\n"
   ]
  },
  {
   "cell_type": "code",
   "execution_count": null,
   "metadata": {
    "colab": {
     "base_uri": "https://localhost:8080/"
    },
    "id": "exk6nRwomgAt",
    "outputId": "2c4ffac3-3f17-4027-adfa-0faf87e9c5a2"
   },
   "outputs": [
    {
     "name": "stdout",
     "output_type": "stream",
     "text": [
      "Model - Linear SVC\n",
      "Accuracy score is 0.9304617117117117\n",
      "[[1119   45   73]\n",
      " [  21  756   23]\n",
      " [  51   34 1430]]\n",
      "              precision    recall  f1-score   support\n",
      "\n",
      "    Negative       0.94      0.90      0.92      1237\n",
      "     Neutral       0.91      0.94      0.92       800\n",
      "    Positive       0.94      0.94      0.94      1515\n",
      "\n",
      "    accuracy                           0.93      3552\n",
      "   macro avg       0.93      0.93      0.93      3552\n",
      "weighted avg       0.93      0.93      0.93      3552\n",
      "\n",
      "CPU times: user 1.14 s, sys: 22.9 ms, total: 1.16 s\n",
      "Wall time: 1.19 s\n"
     ]
    }
   ],
   "source": [
    "%%time\n",
    "from sklearn.pipeline import Pipeline\n",
    "from sklearn.feature_extraction.text import TfidfVectorizer\n",
    "from sklearn.svm import LinearSVC\n",
    "from sklearn.metrics import accuracy_score, confusion_matrix, classification_report\n",
    "# pipeline creation\n",
    "# 1. tfidVectorization\n",
    "# 2. linearSVC model\n",
    "\n",
    "pipe = Pipeline([('tfidf', TfidfVectorizer()),\n",
    "                 ('model', LinearSVC())])\n",
    "\n",
    "# Fit the pipeline to the data\n",
    "linear_svc_model = pipe.fit(x_train, y_train)\n",
    "# predict on test dataset\n",
    "prediction = linear_svc_model.predict(x_test)\n",
    "print('Model - Linear SVC')\n",
    "# print accuracy score\n",
    "accuracy_lsvc = print('Accuracy score is {}'.format(accuracy_score(y_test, prediction)))\n",
    "#print confusion matrix\n",
    "print(confusion_matrix(y_test, prediction))\n",
    "#print classification report\n",
    "print(classification_report(y_test, prediction))"
   ]
  },
  {
   "cell_type": "markdown",
   "metadata": {
    "id": "6Qq4dK32kBpM"
   },
   "source": [
    "LOGISTIC REGRESSION\n"
   ]
  },
  {
   "cell_type": "code",
   "execution_count": null,
   "metadata": {
    "colab": {
     "base_uri": "https://localhost:8080/"
    },
    "id": "0w0yNn2_mf_s",
    "outputId": "d41eff84-fc27-4059-a1b9-569f6326e38b"
   },
   "outputs": [
    {
     "name": "stderr",
     "output_type": "stream",
     "text": [
      "/usr/local/lib/python3.10/dist-packages/sklearn/linear_model/_logistic.py:458: ConvergenceWarning:\n",
      "\n",
      "lbfgs failed to converge (status=1):\n",
      "STOP: TOTAL NO. of ITERATIONS REACHED LIMIT.\n",
      "\n",
      "Increase the number of iterations (max_iter) or scale the data as shown in:\n",
      "    https://scikit-learn.org/stable/modules/preprocessing.html\n",
      "Please also refer to the documentation for alternative solver options:\n",
      "    https://scikit-learn.org/stable/modules/linear_model.html#logistic-regression\n",
      "\n"
     ]
    },
    {
     "name": "stdout",
     "output_type": "stream",
     "text": [
      "Model - logestic regression\n",
      "Accuracy score is 0.8927364864864865\n",
      "[[1053   77  107]\n",
      " [  36  727   37]\n",
      " [  72   52 1391]]\n",
      "              precision    recall  f1-score   support\n",
      "\n",
      "    Negative       0.91      0.85      0.88      1237\n",
      "     Neutral       0.85      0.91      0.88       800\n",
      "    Positive       0.91      0.92      0.91      1515\n",
      "\n",
      "    accuracy                           0.89      3552\n",
      "   macro avg       0.89      0.89      0.89      3552\n",
      "weighted avg       0.89      0.89      0.89      3552\n",
      "\n",
      "CPU times: user 3.72 s, sys: 3.12 s, total: 6.85 s\n",
      "Wall time: 5.04 s\n"
     ]
    }
   ],
   "source": [
    "%%time\n",
    "from sklearn.pipeline import Pipeline\n",
    "from sklearn.feature_extraction.text import TfidfVectorizer\n",
    "from sklearn.feature_extraction.text import CountVectorizer\n",
    "from sklearn.feature_extraction.text import TfidfTransformer\n",
    "from sklearn.linear_model import LogisticRegression\n",
    "from sklearn.metrics import accuracy_score, confusion_matrix, classification_report\n",
    "# pipeline creation\n",
    "# 1. tfidVectorization\n",
    "# 2. LogisticRegression\n",
    "\n",
    "pipe = Pipeline([('tfidf', TfidfVectorizer()),    #('vect', CountVectorizer())\n",
    "                  ('model', LogisticRegression())])\n",
    "\n",
    "# Fit the pipeline to the data\n",
    "logestic_model = pipe.fit(x_train, y_train)\n",
    "# predict on test dataset\n",
    "prediction = logestic_model.predict(x_test)\n",
    "print('Model - logestic regression')\n",
    "# print accuracy score\n",
    "accuracy_logestic = print('Accuracy score is {}'.format(accuracy_score(y_test, prediction)))\n",
    "#print confusion matrix\n",
    "print(confusion_matrix(y_test, prediction))\n",
    "#print classification report\n",
    "print(classification_report(y_test, prediction))"
   ]
  },
  {
   "cell_type": "markdown",
   "metadata": {
    "id": "XbFrK_pXj-HC"
   },
   "source": [
    "MULTINOMIAL NAIVE BAYES\n"
   ]
  },
  {
   "cell_type": "code",
   "execution_count": null,
   "metadata": {
    "colab": {
     "base_uri": "https://localhost:8080/"
    },
    "id": "ag3ceKiEmfxR",
    "outputId": "77f150aa-9e30-414a-db71-6289ae0856a4"
   },
   "outputs": [
    {
     "name": "stdout",
     "output_type": "stream",
     "text": [
      "Model -  multinomial_model\n",
      "Accuracy score is 0.6399211711711712\n",
      "[[ 806    8  423]\n",
      " [ 148   83  569]\n",
      " [ 127    4 1384]]\n",
      "              precision    recall  f1-score   support\n",
      "\n",
      "    Negative       0.75      0.65      0.70      1237\n",
      "     Neutral       0.87      0.10      0.19       800\n",
      "    Positive       0.58      0.91      0.71      1515\n",
      "\n",
      "    accuracy                           0.64      3552\n",
      "   macro avg       0.73      0.56      0.53      3552\n",
      "weighted avg       0.70      0.64      0.59      3552\n",
      "\n",
      "CPU times: user 1.14 s, sys: 4.95 ms, total: 1.15 s\n",
      "Wall time: 1.27 s\n"
     ]
    }
   ],
   "source": [
    "%%time\n",
    "from sklearn.pipeline import Pipeline\n",
    "from sklearn.feature_extraction.text import TfidfVectorizer\n",
    "from sklearn.feature_extraction.text import CountVectorizer\n",
    "from sklearn.naive_bayes import MultinomialNB\n",
    "from sklearn.metrics import accuracy_score, confusion_matrix, classification_report\n",
    "# pipeline creation\n",
    "# 1. tfidVectorization\n",
    "# 2. multinomialNB\n",
    "\n",
    "pipe = Pipeline([\n",
    "                  ('tfidf', TfidfVectorizer()),   #('vect', CountVectorizer())\n",
    "                  ('model', MultinomialNB())])\n",
    "\n",
    "# Fit the pipeline to the data\n",
    "multinomial_model = pipe.fit(x_train, y_train)\n",
    "# predict on test dataset\n",
    "prediction = multinomial_model.predict(x_test)\n",
    "print('Model -  multinomial_model')\n",
    "# print accuracy score\n",
    "accuracy_multinomial = print('Accuracy score is {}'.format(accuracy_score(y_test, prediction)))\n",
    "#print confusion matrix\n",
    "print(confusion_matrix(y_test, prediction))\n",
    "#print classification report\n",
    "print(classification_report(y_test, prediction))"
   ]
  },
  {
   "cell_type": "markdown",
   "metadata": {
    "id": "-79YSosbj7HP"
   },
   "source": [
    "BERNOULLI NAIVE BAYES\n"
   ]
  },
  {
   "cell_type": "code",
   "execution_count": null,
   "metadata": {
    "colab": {
     "base_uri": "https://localhost:8080/"
    },
    "id": "N-ftjtoEmfsP",
    "outputId": "c383a756-41bd-4b8d-ba72-105c3a374faf"
   },
   "outputs": [
    {
     "name": "stdout",
     "output_type": "stream",
     "text": [
      "Model -  BernoulliNB_model\n",
      "Accuracy score is 0.7381756756756757\n",
      "[[ 919   56  262]\n",
      " [ 136  471  193]\n",
      " [ 211   72 1232]]\n",
      "              precision    recall  f1-score   support\n",
      "\n",
      "    Negative       0.73      0.74      0.73      1237\n",
      "     Neutral       0.79      0.59      0.67       800\n",
      "    Positive       0.73      0.81      0.77      1515\n",
      "\n",
      "    accuracy                           0.74      3552\n",
      "   macro avg       0.75      0.71      0.73      3552\n",
      "weighted avg       0.74      0.74      0.74      3552\n",
      "\n",
      "CPU times: user 1.14 s, sys: 4.36 ms, total: 1.15 s\n",
      "Wall time: 1.44 s\n"
     ]
    }
   ],
   "source": [
    "%%time\n",
    "from sklearn.pipeline import Pipeline\n",
    "from sklearn.feature_extraction.text import TfidfVectorizer\n",
    "from sklearn.feature_extraction.text import CountVectorizer\n",
    "from sklearn.naive_bayes import BernoulliNB\n",
    "from sklearn.metrics import accuracy_score, confusion_matrix, classification_report\n",
    "# pipeline creation\n",
    "# 1. tfidVectorization\n",
    "# 2. BERNOULLINB\n",
    "\n",
    "pipe = Pipeline([\n",
    "                  ('tfidf', TfidfVectorizer()),   #('vect', CountVectorizer())\n",
    "                  ('model', BernoulliNB())])\n",
    "\n",
    "# Fit the pipeline to the data\n",
    "BernoulliNB_model = pipe.fit(x_train, y_train)\n",
    "# predict on test dataset\n",
    "prediction = BernoulliNB_model.predict(x_test)\n",
    "print('Model -  BernoulliNB_model')\n",
    "# print accuracy score\n",
    "accuracy_bernoulli = print('Accuracy score is {}'.format(accuracy_score(y_test, prediction)))\n",
    "#print confusion matrix\n",
    "print(confusion_matrix(y_test, prediction))\n",
    "#print classification report\n",
    "print(classification_report(y_test, prediction))"
   ]
  },
  {
   "cell_type": "markdown",
   "metadata": {
    "id": "DDcEnl9uj3yl"
   },
   "source": [
    "GRADIENT BOOSTING CLASSIFICATION MODEL\n"
   ]
  },
  {
   "cell_type": "code",
   "execution_count": null,
   "metadata": {
    "colab": {
     "base_uri": "https://localhost:8080/"
    },
    "id": "vTT-HmujmfrR",
    "outputId": "46171f13-80a4-475a-b6e5-0ffc692dfb31"
   },
   "outputs": [
    {
     "name": "stderr",
     "output_type": "stream",
     "text": [
      "/usr/local/lib/python3.10/dist-packages/sklearn/ensemble/_gb.py:280: FutureWarning:\n",
      "\n",
      "The loss parameter name 'deviance' was deprecated in v1.1 and will be removed in version 1.3. Use the new parameter name 'log_loss' which is equivalent.\n",
      "\n"
     ]
    },
    {
     "name": "stdout",
     "output_type": "stream",
     "text": [
      "Model -  GradientBoostingClassifier_model\n",
      "Accuracy score is 0.42680180180180183\n",
      "[[   4    0 1233]\n",
      " [   0    0  800]\n",
      " [   3    0 1512]]\n",
      "              precision    recall  f1-score   support\n",
      "\n",
      "    Negative       0.57      0.00      0.01      1237\n",
      "     Neutral       0.00      0.00      0.00       800\n",
      "    Positive       0.43      1.00      0.60      1515\n",
      "\n",
      "    accuracy                           0.43      3552\n",
      "   macro avg       0.33      0.33      0.20      3552\n",
      "weighted avg       0.38      0.43      0.26      3552\n",
      "\n",
      "CPU times: user 15.3 s, sys: 34.9 ms, total: 15.3 s\n",
      "Wall time: 20.7 s\n"
     ]
    },
    {
     "name": "stderr",
     "output_type": "stream",
     "text": [
      "/usr/local/lib/python3.10/dist-packages/sklearn/metrics/_classification.py:1344: UndefinedMetricWarning:\n",
      "\n",
      "Precision and F-score are ill-defined and being set to 0.0 in labels with no predicted samples. Use `zero_division` parameter to control this behavior.\n",
      "\n",
      "/usr/local/lib/python3.10/dist-packages/sklearn/metrics/_classification.py:1344: UndefinedMetricWarning:\n",
      "\n",
      "Precision and F-score are ill-defined and being set to 0.0 in labels with no predicted samples. Use `zero_division` parameter to control this behavior.\n",
      "\n",
      "/usr/local/lib/python3.10/dist-packages/sklearn/metrics/_classification.py:1344: UndefinedMetricWarning:\n",
      "\n",
      "Precision and F-score are ill-defined and being set to 0.0 in labels with no predicted samples. Use `zero_division` parameter to control this behavior.\n",
      "\n"
     ]
    }
   ],
   "source": [
    "%%time\n",
    "from sklearn.pipeline import Pipeline\n",
    "from sklearn.feature_extraction.text import TfidfVectorizer\n",
    "from sklearn.feature_extraction.text import CountVectorizer\n",
    "from sklearn.ensemble import GradientBoostingClassifier\n",
    "from sklearn.metrics import accuracy_score, confusion_matrix, classification_report\n",
    "# pipeline creation\n",
    "# 1. tfidVectorization\n",
    "# 2. GradientBoostingClassifier\n",
    "\n",
    "pipe = Pipeline([\n",
    "                  ('tfidf', TfidfVectorizer()),   #('vect', CountVectorizer())\n",
    "                  ('model', GradientBoostingClassifier(loss='deviance',\n",
    "                                              learning_rate=0.01,\n",
    "                                              n_estimators=10,\n",
    "                                              max_depth = 5,\n",
    "                                              random_state=55))])\n",
    "\n",
    "# Fit the pipeline to the data\n",
    "GradientBoostingClassifier_model = pipe.fit(x_train, y_train)\n",
    "# predict on test dataset\n",
    "prediction = GradientBoostingClassifier_model.predict(x_test)\n",
    "print('Model -  GradientBoostingClassifier_model')\n",
    "# print accuracy score\n",
    "accuracy_GradientBoostingClassifier_model = print('Accuracy score is {}'.format(accuracy_score(y_test, prediction)))\n",
    "#print confusion matrix\n",
    "print(confusion_matrix(y_test, prediction))\n",
    "#print classification report\n",
    "print(classification_report(y_test, prediction))"
   ]
  },
  {
   "cell_type": "markdown",
   "metadata": {
    "id": "hwMk-HFAjzP-"
   },
   "source": [
    "XGBOOST CLASSIFICATION MODEL\n"
   ]
  },
  {
   "cell_type": "code",
   "execution_count": null,
   "metadata": {
    "id": "1M8E7hmnmfn1"
   },
   "outputs": [],
   "source": [
    "# %%time  #XGB Classifier expects numarical data in y_train\n",
    "# from sklearn.pipeline import Pipeline\n",
    "# from sklearn.feature_extraction.text import TfidfVectorizer\n",
    "# from sklearn.feature_extraction.text import CountVectorizer\n",
    "# from xgboost import XGBClassifier\n",
    "# from sklearn.metrics import accuracy_score, confusion_matrix, classification_report\n",
    "# # pipeline creation\n",
    "# # 1. tfidVectorization\n",
    "# # 2. xgboost\n",
    "\n",
    "\n",
    "# pipe = Pipeline([\n",
    "#                   ('tfidf', TfidfVectorizer()),   #('vect', CountVectorizer())\n",
    "#                   ('model', XGBClassifier())])\n",
    "\n",
    "# # Fit the pipeline to the data\n",
    "# XGBClassifier_model = pipe.fit(x_train, y_train)\n",
    "# # predict on test dataset\n",
    "# prediction = XGBClassifier_model.predict(x_test)\n",
    "# print('Model -  XGBClassifier_model')\n",
    "# # print accuracy score\n",
    "# accuracy_XGBClassifier_model = print('Accuracy score is {}'.format(accuracy_score(y_test, prediction)))\n",
    "# #print confusion matrix\n",
    "# print(confusion_matrix(y_test, prediction))\n",
    "# #print classification report\n",
    "# print(classification_report(y_test, prediction))"
   ]
  },
  {
   "cell_type": "markdown",
   "metadata": {
    "id": "8RvWy4tSjwDV"
   },
   "source": [
    "DECISION TREE CLASSIFICATION MODEL\n"
   ]
  },
  {
   "cell_type": "code",
   "execution_count": null,
   "metadata": {
    "colab": {
     "base_uri": "https://localhost:8080/"
    },
    "id": "63xamISqmfmd",
    "outputId": "05a03034-7246-4e72-89ce-2aaf0f75625c"
   },
   "outputs": [
    {
     "name": "stdout",
     "output_type": "stream",
     "text": [
      "Model -  DecisionTreeClassifier_model\n",
      "Accuracy score is 0.8735923423423423\n",
      "[[1002   19  216]\n",
      " [  11  779   10]\n",
      " [ 180   13 1322]]\n",
      "              precision    recall  f1-score   support\n",
      "\n",
      "    Negative       0.84      0.81      0.82      1237\n",
      "     Neutral       0.96      0.97      0.97       800\n",
      "    Positive       0.85      0.87      0.86      1515\n",
      "\n",
      "    accuracy                           0.87      3552\n",
      "   macro avg       0.88      0.89      0.88      3552\n",
      "weighted avg       0.87      0.87      0.87      3552\n",
      "\n",
      "CPU times: user 16.9 s, sys: 12 ms, total: 16.9 s\n",
      "Wall time: 16.9 s\n"
     ]
    }
   ],
   "source": [
    "%%time\n",
    "from sklearn.pipeline import Pipeline\n",
    "from sklearn.feature_extraction.text import TfidfVectorizer\n",
    "from sklearn.feature_extraction.text import CountVectorizer\n",
    "from sklearn.tree import DecisionTreeClassifier\n",
    "from sklearn.metrics import accuracy_score, confusion_matrix, classification_report\n",
    "# pipeline creation\n",
    "# 1. tfidVectorization\n",
    "# 2. DecisionTreeClassifier\n",
    "\n",
    "pipe = Pipeline([\n",
    "                  ('tfidf', TfidfVectorizer()),   #('vect', CountVectorizer())\n",
    "                  ('model', DecisionTreeClassifier())])\n",
    "\n",
    "# Fit the pipeline to the data\n",
    "DecisionTreeClassifier_model = pipe.fit(x_train, y_train)\n",
    "# predict on test dataset\n",
    "prediction = DecisionTreeClassifier_model.predict(x_test)\n",
    "print('Model -  DecisionTreeClassifier_model')\n",
    "# print accuracy score\n",
    "accuracy_DecisionTreeClassifier_model = print('Accuracy score is {}'.format(accuracy_score(y_test, prediction)))\n",
    "#print confusion matrix\n",
    "print(confusion_matrix(y_test, prediction))\n",
    "#print classification report\n",
    "print(classification_report(y_test, prediction))"
   ]
  },
  {
   "cell_type": "markdown",
   "metadata": {
    "id": "LenIHULAjsrv"
   },
   "source": [
    "K- NEAREST NEIGHBOUR CLASSIFIER MODEL\n"
   ]
  },
  {
   "cell_type": "code",
   "execution_count": null,
   "metadata": {
    "colab": {
     "base_uri": "https://localhost:8080/"
    },
    "id": "UtU2_7-MzQ6N",
    "outputId": "c857b9cd-ba39-446a-a81a-8724707e49bf"
   },
   "outputs": [
    {
     "name": "stdout",
     "output_type": "stream",
     "text": [
      "Model -  KNeighborsClassifier_model\n",
      "Accuracy score is 0.5523648648648649\n",
      "[[815 170 252]\n",
      " [254 292 254]\n",
      " [395 265 855]]\n",
      "              precision    recall  f1-score   support\n",
      "\n",
      "    Negative       0.56      0.66      0.60      1237\n",
      "     Neutral       0.40      0.36      0.38       800\n",
      "    Positive       0.63      0.56      0.59      1515\n",
      "\n",
      "    accuracy                           0.55      3552\n",
      "   macro avg       0.53      0.53      0.53      3552\n",
      "weighted avg       0.55      0.55      0.55      3552\n",
      "\n",
      "CPU times: user 1min 22s, sys: 55.7 ms, total: 1min 22s\n",
      "Wall time: 45 s\n"
     ]
    }
   ],
   "source": [
    "%%time\n",
    "from sklearn.pipeline import Pipeline\n",
    "from sklearn.feature_extraction.text import TfidfVectorizer\n",
    "from sklearn.feature_extraction.text import CountVectorizer\n",
    "from sklearn.neighbors import KNeighborsClassifier\n",
    "from sklearn.metrics import accuracy_score, confusion_matrix, classification_report\n",
    "# pipeline creation\n",
    "# 1. tfidVectorization\n",
    "# 2. KNeighborsClassifier\n",
    "\n",
    "pipe = Pipeline([\n",
    "                  ('tfidf', TfidfVectorizer()),   #('vect', CountVectorizer())\n",
    "                  ('model', KNeighborsClassifier())])\n",
    "\n",
    "# Fit the pipeline to the data\n",
    "KNeighborsClassifier_model = pipe.fit(x_train, y_train)\n",
    "# predict on test dataset\n",
    "prediction = KNeighborsClassifier_model.predict(x_test)\n",
    "print('Model -  KNeighborsClassifier_model')\n",
    "# print accuracy score\n",
    "accuracy_KNeighborsClassifier_model = print('Accuracy score is {}'.format(accuracy_score(y_test, prediction)))\n",
    "#print confusion matrix\n",
    "print(confusion_matrix(y_test, prediction))\n",
    "#print classification report\n",
    "print(classification_report(y_test, prediction))"
   ]
  },
  {
   "cell_type": "code",
   "execution_count": null,
   "metadata": {
    "id": "MlOKo4d2wkm3"
   },
   "outputs": [],
   "source": [
    "# helper function for comparing models matric\n",
    "def comparing_models(models, names, x_train, y_train, x_test, y_test):\n",
    "\n",
    "    # the libraries we need\n",
    "    from sklearn.metrics import accuracy_score, classification_report\n",
    "    from sklearn.model_selection import train_test_split\n",
    "\n",
    "    # create a dataframe with column matric and metric name as value\n",
    "    for model, name in zip(models, names):\n",
    "      print(name)\n",
    "      # then predict on the test set\n",
    "      y_pred = model.predict(x_test)\n",
    "      print(accuracy_score(y_test, y_pred))\n",
    "      res = classification_report(y_test, y_pred)\n",
    "      print('Classification report:', res)\n",
    "      print(2*'---')\n"
   ]
  },
  {
   "cell_type": "code",
   "execution_count": null,
   "metadata": {
    "colab": {
     "base_uri": "https://localhost:8080/"
    },
    "id": "4A6ZI1hQwkhO",
    "outputId": "7e8ce803-2af5-4046-967a-28482f672573"
   },
   "outputs": [
    {
     "name": "stdout",
     "output_type": "stream",
     "text": [
      "linear_svc\n",
      "0.9304617117117117\n",
      "Classification report:               precision    recall  f1-score   support\n",
      "\n",
      "    Negative       0.94      0.90      0.92      1237\n",
      "     Neutral       0.91      0.94      0.92       800\n",
      "    Positive       0.94      0.94      0.94      1515\n",
      "\n",
      "    accuracy                           0.93      3552\n",
      "   macro avg       0.93      0.93      0.93      3552\n",
      "weighted avg       0.93      0.93      0.93      3552\n",
      "\n",
      "------\n",
      "logestic_model\n",
      "0.8927364864864865\n",
      "Classification report:               precision    recall  f1-score   support\n",
      "\n",
      "    Negative       0.91      0.85      0.88      1237\n",
      "     Neutral       0.85      0.91      0.88       800\n",
      "    Positive       0.91      0.92      0.91      1515\n",
      "\n",
      "    accuracy                           0.89      3552\n",
      "   macro avg       0.89      0.89      0.89      3552\n",
      "weighted avg       0.89      0.89      0.89      3552\n",
      "\n",
      "------\n",
      "multinomial_NB\n",
      "0.6399211711711712\n",
      "Classification report:               precision    recall  f1-score   support\n",
      "\n",
      "    Negative       0.75      0.65      0.70      1237\n",
      "     Neutral       0.87      0.10      0.19       800\n",
      "    Positive       0.58      0.91      0.71      1515\n",
      "\n",
      "    accuracy                           0.64      3552\n",
      "   macro avg       0.73      0.56      0.53      3552\n",
      "weighted avg       0.70      0.64      0.59      3552\n",
      "\n",
      "------\n",
      "BernoulliNB\n",
      "0.7381756756756757\n",
      "Classification report:               precision    recall  f1-score   support\n",
      "\n",
      "    Negative       0.73      0.74      0.73      1237\n",
      "     Neutral       0.79      0.59      0.67       800\n",
      "    Positive       0.73      0.81      0.77      1515\n",
      "\n",
      "    accuracy                           0.74      3552\n",
      "   macro avg       0.75      0.71      0.73      3552\n",
      "weighted avg       0.74      0.74      0.74      3552\n",
      "\n",
      "------\n",
      "GradientBoostingClassifier\n",
      "0.42680180180180183\n"
     ]
    },
    {
     "name": "stderr",
     "output_type": "stream",
     "text": [
      "/usr/local/lib/python3.10/dist-packages/sklearn/metrics/_classification.py:1344: UndefinedMetricWarning:\n",
      "\n",
      "Precision and F-score are ill-defined and being set to 0.0 in labels with no predicted samples. Use `zero_division` parameter to control this behavior.\n",
      "\n",
      "/usr/local/lib/python3.10/dist-packages/sklearn/metrics/_classification.py:1344: UndefinedMetricWarning:\n",
      "\n",
      "Precision and F-score are ill-defined and being set to 0.0 in labels with no predicted samples. Use `zero_division` parameter to control this behavior.\n",
      "\n",
      "/usr/local/lib/python3.10/dist-packages/sklearn/metrics/_classification.py:1344: UndefinedMetricWarning:\n",
      "\n",
      "Precision and F-score are ill-defined and being set to 0.0 in labels with no predicted samples. Use `zero_division` parameter to control this behavior.\n",
      "\n"
     ]
    },
    {
     "name": "stdout",
     "output_type": "stream",
     "text": [
      "Classification report:               precision    recall  f1-score   support\n",
      "\n",
      "    Negative       0.57      0.00      0.01      1237\n",
      "     Neutral       0.00      0.00      0.00       800\n",
      "    Positive       0.43      1.00      0.60      1515\n",
      "\n",
      "    accuracy                           0.43      3552\n",
      "   macro avg       0.33      0.33      0.20      3552\n",
      "weighted avg       0.38      0.43      0.26      3552\n",
      "\n",
      "------\n",
      "DecisionTreeClassifier\n",
      "0.8735923423423423\n",
      "Classification report:               precision    recall  f1-score   support\n",
      "\n",
      "    Negative       0.84      0.81      0.82      1237\n",
      "     Neutral       0.96      0.97      0.97       800\n",
      "    Positive       0.85      0.87      0.86      1515\n",
      "\n",
      "    accuracy                           0.87      3552\n",
      "   macro avg       0.88      0.89      0.88      3552\n",
      "weighted avg       0.87      0.87      0.87      3552\n",
      "\n",
      "------\n",
      "KNeighborsClassifier\n",
      "0.5523648648648649\n",
      "Classification report:               precision    recall  f1-score   support\n",
      "\n",
      "    Negative       0.56      0.66      0.60      1237\n",
      "     Neutral       0.40      0.36      0.38       800\n",
      "    Positive       0.63      0.56      0.59      1515\n",
      "\n",
      "    accuracy                           0.55      3552\n",
      "   macro avg       0.53      0.53      0.53      3552\n",
      "weighted avg       0.55      0.55      0.55      3552\n",
      "\n",
      "------\n"
     ]
    }
   ],
   "source": [
    "# list of model objects\n",
    "models = [linear_svc_model, logestic_model, multinomial_model, BernoulliNB_model, GradientBoostingClassifier_model, DecisionTreeClassifier_model, KNeighborsClassifier_model]\n",
    "# list of model names\n",
    "names = ['linear_svc', 'logestic_model', 'multinomial_NB', 'BernoulliNB', 'GradientBoostingClassifier', 'DecisionTreeClassifier', 'KNeighborsClassifier']\n",
    "# print the comparison of models\n",
    "comparing_models(models, names, x_train, y_train, x_test, y_test)"
   ]
  },
  {
   "cell_type": "markdown",
   "metadata": {
    "id": "YxNC09uekdZH"
   },
   "source": [
    "# working with test dataset"
   ]
  },
  {
   "cell_type": "code",
   "execution_count": null,
   "metadata": {
    "colab": {
     "base_uri": "https://localhost:8080/"
    },
    "id": "P_XD4m1Fkh3i",
    "outputId": "9067a8a5-d605-4eb3-89eb-f8962fced8c9"
   },
   "outputs": [
    {
     "data": {
      "text/plain": [
       "array(['Negative', 'Positive', 'Positive', ..., 'Positive', 'Positive',\n",
       "       'Positive'], dtype=object)"
      ]
     },
     "execution_count": 64,
     "metadata": {},
     "output_type": "execute_result"
    }
   ],
   "source": [
    "# Perforn the prediction on the test dataset\n",
    "y_pred = linear_svc_model.predict(x_test)\n",
    "y_pred"
   ]
  },
  {
   "cell_type": "code",
   "execution_count": null,
   "metadata": {
    "colab": {
     "base_uri": "https://localhost:8080/",
     "height": 423
    },
    "id": "U4cHKaw6khr_",
    "outputId": "611a7646-3b05-4b83-f186-5edae0287a84"
   },
   "outputs": [
    {
     "data": {
      "text/html": [
       "\n",
       "\n",
       "  <div id=\"df-7d2c07ae-a48b-41ac-ad4a-334ca5f350ac\">\n",
       "    <div class=\"colab-df-container\">\n",
       "      <div>\n",
       "<style scoped>\n",
       "    .dataframe tbody tr th:only-of-type {\n",
       "        vertical-align: middle;\n",
       "    }\n",
       "\n",
       "    .dataframe tbody tr th {\n",
       "        vertical-align: top;\n",
       "    }\n",
       "\n",
       "    .dataframe thead th {\n",
       "        text-align: right;\n",
       "    }\n",
       "</style>\n",
       "<table border=\"1\" class=\"dataframe\">\n",
       "  <thead>\n",
       "    <tr style=\"text-align: right;\">\n",
       "      <th></th>\n",
       "      <th>0</th>\n",
       "    </tr>\n",
       "  </thead>\n",
       "  <tbody>\n",
       "    <tr>\n",
       "      <th>0</th>\n",
       "      <td>Negative</td>\n",
       "    </tr>\n",
       "    <tr>\n",
       "      <th>1</th>\n",
       "      <td>Positive</td>\n",
       "    </tr>\n",
       "    <tr>\n",
       "      <th>2</th>\n",
       "      <td>Positive</td>\n",
       "    </tr>\n",
       "    <tr>\n",
       "      <th>3</th>\n",
       "      <td>Positive</td>\n",
       "    </tr>\n",
       "    <tr>\n",
       "      <th>4</th>\n",
       "      <td>Negative</td>\n",
       "    </tr>\n",
       "    <tr>\n",
       "      <th>...</th>\n",
       "      <td>...</td>\n",
       "    </tr>\n",
       "    <tr>\n",
       "      <th>3547</th>\n",
       "      <td>Negative</td>\n",
       "    </tr>\n",
       "    <tr>\n",
       "      <th>3548</th>\n",
       "      <td>Positive</td>\n",
       "    </tr>\n",
       "    <tr>\n",
       "      <th>3549</th>\n",
       "      <td>Positive</td>\n",
       "    </tr>\n",
       "    <tr>\n",
       "      <th>3550</th>\n",
       "      <td>Positive</td>\n",
       "    </tr>\n",
       "    <tr>\n",
       "      <th>3551</th>\n",
       "      <td>Positive</td>\n",
       "    </tr>\n",
       "  </tbody>\n",
       "</table>\n",
       "<p>3552 rows × 1 columns</p>\n",
       "</div>\n",
       "      <button class=\"colab-df-convert\" onclick=\"convertToInteractive('df-7d2c07ae-a48b-41ac-ad4a-334ca5f350ac')\"\n",
       "              title=\"Convert this dataframe to an interactive table.\"\n",
       "              style=\"display:none;\">\n",
       "\n",
       "  <svg xmlns=\"http://www.w3.org/2000/svg\" height=\"24px\"viewBox=\"0 0 24 24\"\n",
       "       width=\"24px\">\n",
       "    <path d=\"M0 0h24v24H0V0z\" fill=\"none\"/>\n",
       "    <path d=\"M18.56 5.44l.94 2.06.94-2.06 2.06-.94-2.06-.94-.94-2.06-.94 2.06-2.06.94zm-11 1L8.5 8.5l.94-2.06 2.06-.94-2.06-.94L8.5 2.5l-.94 2.06-2.06.94zm10 10l.94 2.06.94-2.06 2.06-.94-2.06-.94-.94-2.06-.94 2.06-2.06.94z\"/><path d=\"M17.41 7.96l-1.37-1.37c-.4-.4-.92-.59-1.43-.59-.52 0-1.04.2-1.43.59L10.3 9.45l-7.72 7.72c-.78.78-.78 2.05 0 2.83L4 21.41c.39.39.9.59 1.41.59.51 0 1.02-.2 1.41-.59l7.78-7.78 2.81-2.81c.8-.78.8-2.07 0-2.86zM5.41 20L4 18.59l7.72-7.72 1.47 1.35L5.41 20z\"/>\n",
       "  </svg>\n",
       "      </button>\n",
       "\n",
       "\n",
       "\n",
       "    <div id=\"df-dccf345c-6ac4-41bd-a361-06ac433a22bf\">\n",
       "      <button class=\"colab-df-quickchart\" onclick=\"quickchart('df-dccf345c-6ac4-41bd-a361-06ac433a22bf')\"\n",
       "              title=\"Suggest charts.\"\n",
       "              style=\"display:none;\">\n",
       "\n",
       "<svg xmlns=\"http://www.w3.org/2000/svg\" height=\"24px\"viewBox=\"0 0 24 24\"\n",
       "     width=\"24px\">\n",
       "    <g>\n",
       "        <path d=\"M19 3H5c-1.1 0-2 .9-2 2v14c0 1.1.9 2 2 2h14c1.1 0 2-.9 2-2V5c0-1.1-.9-2-2-2zM9 17H7v-7h2v7zm4 0h-2V7h2v10zm4 0h-2v-4h2v4z\"/>\n",
       "    </g>\n",
       "</svg>\n",
       "      </button>\n",
       "    </div>\n",
       "\n",
       "<style>\n",
       "  .colab-df-quickchart {\n",
       "    background-color: #E8F0FE;\n",
       "    border: none;\n",
       "    border-radius: 50%;\n",
       "    cursor: pointer;\n",
       "    display: none;\n",
       "    fill: #1967D2;\n",
       "    height: 32px;\n",
       "    padding: 0 0 0 0;\n",
       "    width: 32px;\n",
       "  }\n",
       "\n",
       "  .colab-df-quickchart:hover {\n",
       "    background-color: #E2EBFA;\n",
       "    box-shadow: 0px 1px 2px rgba(60, 64, 67, 0.3), 0px 1px 3px 1px rgba(60, 64, 67, 0.15);\n",
       "    fill: #174EA6;\n",
       "  }\n",
       "\n",
       "  [theme=dark] .colab-df-quickchart {\n",
       "    background-color: #3B4455;\n",
       "    fill: #D2E3FC;\n",
       "  }\n",
       "\n",
       "  [theme=dark] .colab-df-quickchart:hover {\n",
       "    background-color: #434B5C;\n",
       "    box-shadow: 0px 1px 3px 1px rgba(0, 0, 0, 0.15);\n",
       "    filter: drop-shadow(0px 1px 2px rgba(0, 0, 0, 0.3));\n",
       "    fill: #FFFFFF;\n",
       "  }\n",
       "</style>\n",
       "\n",
       "    <script>\n",
       "      async function quickchart(key) {\n",
       "        const containerElement = document.querySelector('#' + key);\n",
       "        const charts = await google.colab.kernel.invokeFunction(\n",
       "            'suggestCharts', [key], {});\n",
       "      }\n",
       "    </script>\n",
       "\n",
       "      <script>\n",
       "\n",
       "function displayQuickchartButton(domScope) {\n",
       "  let quickchartButtonEl =\n",
       "    domScope.querySelector('#df-dccf345c-6ac4-41bd-a361-06ac433a22bf button.colab-df-quickchart');\n",
       "  quickchartButtonEl.style.display =\n",
       "    google.colab.kernel.accessAllowed ? 'block' : 'none';\n",
       "}\n",
       "\n",
       "        displayQuickchartButton(document);\n",
       "      </script>\n",
       "      <style>\n",
       "    .colab-df-container {\n",
       "      display:flex;\n",
       "      flex-wrap:wrap;\n",
       "      gap: 12px;\n",
       "    }\n",
       "\n",
       "    .colab-df-convert {\n",
       "      background-color: #E8F0FE;\n",
       "      border: none;\n",
       "      border-radius: 50%;\n",
       "      cursor: pointer;\n",
       "      display: none;\n",
       "      fill: #1967D2;\n",
       "      height: 32px;\n",
       "      padding: 0 0 0 0;\n",
       "      width: 32px;\n",
       "    }\n",
       "\n",
       "    .colab-df-convert:hover {\n",
       "      background-color: #E2EBFA;\n",
       "      box-shadow: 0px 1px 2px rgba(60, 64, 67, 0.3), 0px 1px 3px 1px rgba(60, 64, 67, 0.15);\n",
       "      fill: #174EA6;\n",
       "    }\n",
       "\n",
       "    [theme=dark] .colab-df-convert {\n",
       "      background-color: #3B4455;\n",
       "      fill: #D2E3FC;\n",
       "    }\n",
       "\n",
       "    [theme=dark] .colab-df-convert:hover {\n",
       "      background-color: #434B5C;\n",
       "      box-shadow: 0px 1px 3px 1px rgba(0, 0, 0, 0.15);\n",
       "      filter: drop-shadow(0px 1px 2px rgba(0, 0, 0, 0.3));\n",
       "      fill: #FFFFFF;\n",
       "    }\n",
       "  </style>\n",
       "\n",
       "      <script>\n",
       "        const buttonEl =\n",
       "          document.querySelector('#df-7d2c07ae-a48b-41ac-ad4a-334ca5f350ac button.colab-df-convert');\n",
       "        buttonEl.style.display =\n",
       "          google.colab.kernel.accessAllowed ? 'block' : 'none';\n",
       "\n",
       "        async function convertToInteractive(key) {\n",
       "          const element = document.querySelector('#df-7d2c07ae-a48b-41ac-ad4a-334ca5f350ac');\n",
       "          const dataTable =\n",
       "            await google.colab.kernel.invokeFunction('convertToInteractive',\n",
       "                                                     [key], {});\n",
       "          if (!dataTable) return;\n",
       "\n",
       "          const docLinkHtml = 'Like what you see? Visit the ' +\n",
       "            '<a target=\"_blank\" href=https://colab.research.google.com/notebooks/data_table.ipynb>data table notebook</a>'\n",
       "            + ' to learn more about interactive tables.';\n",
       "          element.innerHTML = '';\n",
       "          dataTable['output_type'] = 'display_data';\n",
       "          await google.colab.output.renderOutput(dataTable, element);\n",
       "          const docLink = document.createElement('div');\n",
       "          docLink.innerHTML = docLinkHtml;\n",
       "          element.appendChild(docLink);\n",
       "        }\n",
       "      </script>\n",
       "    </div>\n",
       "  </div>\n"
      ],
      "text/plain": [
       "             0\n",
       "0     Negative\n",
       "1     Positive\n",
       "2     Positive\n",
       "3     Positive\n",
       "4     Negative\n",
       "...        ...\n",
       "3547  Negative\n",
       "3548  Positive\n",
       "3549  Positive\n",
       "3550  Positive\n",
       "3551  Positive\n",
       "\n",
       "[3552 rows x 1 columns]"
      ]
     },
     "execution_count": 65,
     "metadata": {},
     "output_type": "execute_result"
    }
   ],
   "source": [
    "# creating a dataframe of predicted results\n",
    "predictions = pd.DataFrame(y_pred)\n",
    "predictions"
   ]
  },
  {
   "cell_type": "markdown",
   "metadata": {
    "id": "LcDOjy2MfkG2"
   },
   "source": [
    "# Now working with headlines + description"
   ]
  },
  {
   "cell_type": "code",
   "execution_count": null,
   "metadata": {
    "colab": {
     "base_uri": "https://localhost:8080/",
     "height": 112
    },
    "id": "pp2Agh1IZwtD",
    "outputId": "6cf82409-5983-425d-a695-402cf2e91e45"
   },
   "outputs": [
    {
     "data": {
      "text/html": [
       "\n",
       "\n",
       "  <div id=\"df-ef120510-fc04-4249-8c3f-b7eb549aa23c\">\n",
       "    <div class=\"colab-df-container\">\n",
       "      <div>\n",
       "<style scoped>\n",
       "    .dataframe tbody tr th:only-of-type {\n",
       "        vertical-align: middle;\n",
       "    }\n",
       "\n",
       "    .dataframe tbody tr th {\n",
       "        vertical-align: top;\n",
       "    }\n",
       "\n",
       "    .dataframe thead th {\n",
       "        text-align: right;\n",
       "    }\n",
       "</style>\n",
       "<table border=\"1\" class=\"dataframe\">\n",
       "  <thead>\n",
       "    <tr style=\"text-align: right;\">\n",
       "      <th></th>\n",
       "      <th>Headlines</th>\n",
       "      <th>Time</th>\n",
       "      <th>Description</th>\n",
       "      <th>ds_score</th>\n",
       "    </tr>\n",
       "  </thead>\n",
       "  <tbody>\n",
       "    <tr>\n",
       "      <th>0</th>\n",
       "      <td>Jim Cramer: A better way to invest in the Covi...</td>\n",
       "      <td>7:51  PM ET Fri, 17 July 2020</td>\n",
       "      <td>mad money host jim cramer recommend buy four c...</td>\n",
       "      <td>Positive</td>\n",
       "    </tr>\n",
       "    <tr>\n",
       "      <th>1</th>\n",
       "      <td>Cramer's lightning round: I would own Teradyne</td>\n",
       "      <td>7:33  PM ET Fri, 17 July 2020</td>\n",
       "      <td>mad money host jim cramer ring lightn round be...</td>\n",
       "      <td>Negative</td>\n",
       "    </tr>\n",
       "  </tbody>\n",
       "</table>\n",
       "</div>\n",
       "      <button class=\"colab-df-convert\" onclick=\"convertToInteractive('df-ef120510-fc04-4249-8c3f-b7eb549aa23c')\"\n",
       "              title=\"Convert this dataframe to an interactive table.\"\n",
       "              style=\"display:none;\">\n",
       "\n",
       "  <svg xmlns=\"http://www.w3.org/2000/svg\" height=\"24px\"viewBox=\"0 0 24 24\"\n",
       "       width=\"24px\">\n",
       "    <path d=\"M0 0h24v24H0V0z\" fill=\"none\"/>\n",
       "    <path d=\"M18.56 5.44l.94 2.06.94-2.06 2.06-.94-2.06-.94-.94-2.06-.94 2.06-2.06.94zm-11 1L8.5 8.5l.94-2.06 2.06-.94-2.06-.94L8.5 2.5l-.94 2.06-2.06.94zm10 10l.94 2.06.94-2.06 2.06-.94-2.06-.94-.94-2.06-.94 2.06-2.06.94z\"/><path d=\"M17.41 7.96l-1.37-1.37c-.4-.4-.92-.59-1.43-.59-.52 0-1.04.2-1.43.59L10.3 9.45l-7.72 7.72c-.78.78-.78 2.05 0 2.83L4 21.41c.39.39.9.59 1.41.59.51 0 1.02-.2 1.41-.59l7.78-7.78 2.81-2.81c.8-.78.8-2.07 0-2.86zM5.41 20L4 18.59l7.72-7.72 1.47 1.35L5.41 20z\"/>\n",
       "  </svg>\n",
       "      </button>\n",
       "\n",
       "\n",
       "\n",
       "    <div id=\"df-2b06ec4d-b518-4ea3-a961-fdf0bdb51fac\">\n",
       "      <button class=\"colab-df-quickchart\" onclick=\"quickchart('df-2b06ec4d-b518-4ea3-a961-fdf0bdb51fac')\"\n",
       "              title=\"Suggest charts.\"\n",
       "              style=\"display:none;\">\n",
       "\n",
       "<svg xmlns=\"http://www.w3.org/2000/svg\" height=\"24px\"viewBox=\"0 0 24 24\"\n",
       "     width=\"24px\">\n",
       "    <g>\n",
       "        <path d=\"M19 3H5c-1.1 0-2 .9-2 2v14c0 1.1.9 2 2 2h14c1.1 0 2-.9 2-2V5c0-1.1-.9-2-2-2zM9 17H7v-7h2v7zm4 0h-2V7h2v10zm4 0h-2v-4h2v4z\"/>\n",
       "    </g>\n",
       "</svg>\n",
       "      </button>\n",
       "    </div>\n",
       "\n",
       "<style>\n",
       "  .colab-df-quickchart {\n",
       "    background-color: #E8F0FE;\n",
       "    border: none;\n",
       "    border-radius: 50%;\n",
       "    cursor: pointer;\n",
       "    display: none;\n",
       "    fill: #1967D2;\n",
       "    height: 32px;\n",
       "    padding: 0 0 0 0;\n",
       "    width: 32px;\n",
       "  }\n",
       "\n",
       "  .colab-df-quickchart:hover {\n",
       "    background-color: #E2EBFA;\n",
       "    box-shadow: 0px 1px 2px rgba(60, 64, 67, 0.3), 0px 1px 3px 1px rgba(60, 64, 67, 0.15);\n",
       "    fill: #174EA6;\n",
       "  }\n",
       "\n",
       "  [theme=dark] .colab-df-quickchart {\n",
       "    background-color: #3B4455;\n",
       "    fill: #D2E3FC;\n",
       "  }\n",
       "\n",
       "  [theme=dark] .colab-df-quickchart:hover {\n",
       "    background-color: #434B5C;\n",
       "    box-shadow: 0px 1px 3px 1px rgba(0, 0, 0, 0.15);\n",
       "    filter: drop-shadow(0px 1px 2px rgba(0, 0, 0, 0.3));\n",
       "    fill: #FFFFFF;\n",
       "  }\n",
       "</style>\n",
       "\n",
       "    <script>\n",
       "      async function quickchart(key) {\n",
       "        const containerElement = document.querySelector('#' + key);\n",
       "        const charts = await google.colab.kernel.invokeFunction(\n",
       "            'suggestCharts', [key], {});\n",
       "      }\n",
       "    </script>\n",
       "\n",
       "      <script>\n",
       "\n",
       "function displayQuickchartButton(domScope) {\n",
       "  let quickchartButtonEl =\n",
       "    domScope.querySelector('#df-2b06ec4d-b518-4ea3-a961-fdf0bdb51fac button.colab-df-quickchart');\n",
       "  quickchartButtonEl.style.display =\n",
       "    google.colab.kernel.accessAllowed ? 'block' : 'none';\n",
       "}\n",
       "\n",
       "        displayQuickchartButton(document);\n",
       "      </script>\n",
       "      <style>\n",
       "    .colab-df-container {\n",
       "      display:flex;\n",
       "      flex-wrap:wrap;\n",
       "      gap: 12px;\n",
       "    }\n",
       "\n",
       "    .colab-df-convert {\n",
       "      background-color: #E8F0FE;\n",
       "      border: none;\n",
       "      border-radius: 50%;\n",
       "      cursor: pointer;\n",
       "      display: none;\n",
       "      fill: #1967D2;\n",
       "      height: 32px;\n",
       "      padding: 0 0 0 0;\n",
       "      width: 32px;\n",
       "    }\n",
       "\n",
       "    .colab-df-convert:hover {\n",
       "      background-color: #E2EBFA;\n",
       "      box-shadow: 0px 1px 2px rgba(60, 64, 67, 0.3), 0px 1px 3px 1px rgba(60, 64, 67, 0.15);\n",
       "      fill: #174EA6;\n",
       "    }\n",
       "\n",
       "    [theme=dark] .colab-df-convert {\n",
       "      background-color: #3B4455;\n",
       "      fill: #D2E3FC;\n",
       "    }\n",
       "\n",
       "    [theme=dark] .colab-df-convert:hover {\n",
       "      background-color: #434B5C;\n",
       "      box-shadow: 0px 1px 3px 1px rgba(0, 0, 0, 0.15);\n",
       "      filter: drop-shadow(0px 1px 2px rgba(0, 0, 0, 0.3));\n",
       "      fill: #FFFFFF;\n",
       "    }\n",
       "  </style>\n",
       "\n",
       "      <script>\n",
       "        const buttonEl =\n",
       "          document.querySelector('#df-ef120510-fc04-4249-8c3f-b7eb549aa23c button.colab-df-convert');\n",
       "        buttonEl.style.display =\n",
       "          google.colab.kernel.accessAllowed ? 'block' : 'none';\n",
       "\n",
       "        async function convertToInteractive(key) {\n",
       "          const element = document.querySelector('#df-ef120510-fc04-4249-8c3f-b7eb549aa23c');\n",
       "          const dataTable =\n",
       "            await google.colab.kernel.invokeFunction('convertToInteractive',\n",
       "                                                     [key], {});\n",
       "          if (!dataTable) return;\n",
       "\n",
       "          const docLinkHtml = 'Like what you see? Visit the ' +\n",
       "            '<a target=\"_blank\" href=https://colab.research.google.com/notebooks/data_table.ipynb>data table notebook</a>'\n",
       "            + ' to learn more about interactive tables.';\n",
       "          element.innerHTML = '';\n",
       "          dataTable['output_type'] = 'display_data';\n",
       "          await google.colab.output.renderOutput(dataTable, element);\n",
       "          const docLink = document.createElement('div');\n",
       "          docLink.innerHTML = docLinkHtml;\n",
       "          element.appendChild(docLink);\n",
       "        }\n",
       "      </script>\n",
       "    </div>\n",
       "  </div>\n"
      ],
      "text/plain": [
       "                                           Headlines  \\\n",
       "0  Jim Cramer: A better way to invest in the Covi...   \n",
       "1     Cramer's lightning round: I would own Teradyne   \n",
       "\n",
       "                             Time  \\\n",
       "0   7:51  PM ET Fri, 17 July 2020   \n",
       "1   7:33  PM ET Fri, 17 July 2020   \n",
       "\n",
       "                                         Description  ds_score  \n",
       "0  mad money host jim cramer recommend buy four c...  Positive  \n",
       "1  mad money host jim cramer ring lightn round be...  Negative  "
      ]
     },
     "execution_count": 66,
     "metadata": {},
     "output_type": "execute_result"
    }
   ],
   "source": [
    "cnbc_reuter_copy.head(2)"
   ]
  },
  {
   "cell_type": "code",
   "execution_count": null,
   "metadata": {
    "colab": {
     "base_uri": "https://localhost:8080/",
     "height": 191
    },
    "id": "HOSweU4mzTgq",
    "outputId": "0c65e090-6085-4ae5-b0ea-200cfbc80fdf"
   },
   "outputs": [
    {
     "data": {
      "text/html": [
       "\n",
       "\n",
       "  <div id=\"df-8f665cfa-0cad-4093-aa56-e767789529ba\">\n",
       "    <div class=\"colab-df-container\">\n",
       "      <div>\n",
       "<style scoped>\n",
       "    .dataframe tbody tr th:only-of-type {\n",
       "        vertical-align: middle;\n",
       "    }\n",
       "\n",
       "    .dataframe tbody tr th {\n",
       "        vertical-align: top;\n",
       "    }\n",
       "\n",
       "    .dataframe thead th {\n",
       "        text-align: right;\n",
       "    }\n",
       "</style>\n",
       "<table border=\"1\" class=\"dataframe\">\n",
       "  <thead>\n",
       "    <tr style=\"text-align: right;\">\n",
       "      <th></th>\n",
       "      <th>Headlines</th>\n",
       "      <th>Time</th>\n",
       "      <th>Description</th>\n",
       "      <th>ds_score</th>\n",
       "      <th>info</th>\n",
       "    </tr>\n",
       "  </thead>\n",
       "  <tbody>\n",
       "    <tr>\n",
       "      <th>0</th>\n",
       "      <td>Jim Cramer: A better way to invest in the Covi...</td>\n",
       "      <td>7:51  PM ET Fri, 17 July 2020</td>\n",
       "      <td>mad money host jim cramer recommend buy four c...</td>\n",
       "      <td>Positive</td>\n",
       "      <td>Jim Cramer: A better way to invest in the Covi...</td>\n",
       "    </tr>\n",
       "    <tr>\n",
       "      <th>1</th>\n",
       "      <td>Cramer's lightning round: I would own Teradyne</td>\n",
       "      <td>7:33  PM ET Fri, 17 July 2020</td>\n",
       "      <td>mad money host jim cramer ring lightn round be...</td>\n",
       "      <td>Negative</td>\n",
       "      <td>Cramer's lightning round: I would own Teradyne...</td>\n",
       "    </tr>\n",
       "  </tbody>\n",
       "</table>\n",
       "</div>\n",
       "      <button class=\"colab-df-convert\" onclick=\"convertToInteractive('df-8f665cfa-0cad-4093-aa56-e767789529ba')\"\n",
       "              title=\"Convert this dataframe to an interactive table.\"\n",
       "              style=\"display:none;\">\n",
       "\n",
       "  <svg xmlns=\"http://www.w3.org/2000/svg\" height=\"24px\"viewBox=\"0 0 24 24\"\n",
       "       width=\"24px\">\n",
       "    <path d=\"M0 0h24v24H0V0z\" fill=\"none\"/>\n",
       "    <path d=\"M18.56 5.44l.94 2.06.94-2.06 2.06-.94-2.06-.94-.94-2.06-.94 2.06-2.06.94zm-11 1L8.5 8.5l.94-2.06 2.06-.94-2.06-.94L8.5 2.5l-.94 2.06-2.06.94zm10 10l.94 2.06.94-2.06 2.06-.94-2.06-.94-.94-2.06-.94 2.06-2.06.94z\"/><path d=\"M17.41 7.96l-1.37-1.37c-.4-.4-.92-.59-1.43-.59-.52 0-1.04.2-1.43.59L10.3 9.45l-7.72 7.72c-.78.78-.78 2.05 0 2.83L4 21.41c.39.39.9.59 1.41.59.51 0 1.02-.2 1.41-.59l7.78-7.78 2.81-2.81c.8-.78.8-2.07 0-2.86zM5.41 20L4 18.59l7.72-7.72 1.47 1.35L5.41 20z\"/>\n",
       "  </svg>\n",
       "      </button>\n",
       "\n",
       "\n",
       "\n",
       "    <div id=\"df-bcb762f9-0123-4d5b-b084-6c20be48af4f\">\n",
       "      <button class=\"colab-df-quickchart\" onclick=\"quickchart('df-bcb762f9-0123-4d5b-b084-6c20be48af4f')\"\n",
       "              title=\"Suggest charts.\"\n",
       "              style=\"display:none;\">\n",
       "\n",
       "<svg xmlns=\"http://www.w3.org/2000/svg\" height=\"24px\"viewBox=\"0 0 24 24\"\n",
       "     width=\"24px\">\n",
       "    <g>\n",
       "        <path d=\"M19 3H5c-1.1 0-2 .9-2 2v14c0 1.1.9 2 2 2h14c1.1 0 2-.9 2-2V5c0-1.1-.9-2-2-2zM9 17H7v-7h2v7zm4 0h-2V7h2v10zm4 0h-2v-4h2v4z\"/>\n",
       "    </g>\n",
       "</svg>\n",
       "      </button>\n",
       "    </div>\n",
       "\n",
       "<style>\n",
       "  .colab-df-quickchart {\n",
       "    background-color: #E8F0FE;\n",
       "    border: none;\n",
       "    border-radius: 50%;\n",
       "    cursor: pointer;\n",
       "    display: none;\n",
       "    fill: #1967D2;\n",
       "    height: 32px;\n",
       "    padding: 0 0 0 0;\n",
       "    width: 32px;\n",
       "  }\n",
       "\n",
       "  .colab-df-quickchart:hover {\n",
       "    background-color: #E2EBFA;\n",
       "    box-shadow: 0px 1px 2px rgba(60, 64, 67, 0.3), 0px 1px 3px 1px rgba(60, 64, 67, 0.15);\n",
       "    fill: #174EA6;\n",
       "  }\n",
       "\n",
       "  [theme=dark] .colab-df-quickchart {\n",
       "    background-color: #3B4455;\n",
       "    fill: #D2E3FC;\n",
       "  }\n",
       "\n",
       "  [theme=dark] .colab-df-quickchart:hover {\n",
       "    background-color: #434B5C;\n",
       "    box-shadow: 0px 1px 3px 1px rgba(0, 0, 0, 0.15);\n",
       "    filter: drop-shadow(0px 1px 2px rgba(0, 0, 0, 0.3));\n",
       "    fill: #FFFFFF;\n",
       "  }\n",
       "</style>\n",
       "\n",
       "    <script>\n",
       "      async function quickchart(key) {\n",
       "        const containerElement = document.querySelector('#' + key);\n",
       "        const charts = await google.colab.kernel.invokeFunction(\n",
       "            'suggestCharts', [key], {});\n",
       "      }\n",
       "    </script>\n",
       "\n",
       "      <script>\n",
       "\n",
       "function displayQuickchartButton(domScope) {\n",
       "  let quickchartButtonEl =\n",
       "    domScope.querySelector('#df-bcb762f9-0123-4d5b-b084-6c20be48af4f button.colab-df-quickchart');\n",
       "  quickchartButtonEl.style.display =\n",
       "    google.colab.kernel.accessAllowed ? 'block' : 'none';\n",
       "}\n",
       "\n",
       "        displayQuickchartButton(document);\n",
       "      </script>\n",
       "      <style>\n",
       "    .colab-df-container {\n",
       "      display:flex;\n",
       "      flex-wrap:wrap;\n",
       "      gap: 12px;\n",
       "    }\n",
       "\n",
       "    .colab-df-convert {\n",
       "      background-color: #E8F0FE;\n",
       "      border: none;\n",
       "      border-radius: 50%;\n",
       "      cursor: pointer;\n",
       "      display: none;\n",
       "      fill: #1967D2;\n",
       "      height: 32px;\n",
       "      padding: 0 0 0 0;\n",
       "      width: 32px;\n",
       "    }\n",
       "\n",
       "    .colab-df-convert:hover {\n",
       "      background-color: #E2EBFA;\n",
       "      box-shadow: 0px 1px 2px rgba(60, 64, 67, 0.3), 0px 1px 3px 1px rgba(60, 64, 67, 0.15);\n",
       "      fill: #174EA6;\n",
       "    }\n",
       "\n",
       "    [theme=dark] .colab-df-convert {\n",
       "      background-color: #3B4455;\n",
       "      fill: #D2E3FC;\n",
       "    }\n",
       "\n",
       "    [theme=dark] .colab-df-convert:hover {\n",
       "      background-color: #434B5C;\n",
       "      box-shadow: 0px 1px 3px 1px rgba(0, 0, 0, 0.15);\n",
       "      filter: drop-shadow(0px 1px 2px rgba(0, 0, 0, 0.3));\n",
       "      fill: #FFFFFF;\n",
       "    }\n",
       "  </style>\n",
       "\n",
       "      <script>\n",
       "        const buttonEl =\n",
       "          document.querySelector('#df-8f665cfa-0cad-4093-aa56-e767789529ba button.colab-df-convert');\n",
       "        buttonEl.style.display =\n",
       "          google.colab.kernel.accessAllowed ? 'block' : 'none';\n",
       "\n",
       "        async function convertToInteractive(key) {\n",
       "          const element = document.querySelector('#df-8f665cfa-0cad-4093-aa56-e767789529ba');\n",
       "          const dataTable =\n",
       "            await google.colab.kernel.invokeFunction('convertToInteractive',\n",
       "                                                     [key], {});\n",
       "          if (!dataTable) return;\n",
       "\n",
       "          const docLinkHtml = 'Like what you see? Visit the ' +\n",
       "            '<a target=\"_blank\" href=https://colab.research.google.com/notebooks/data_table.ipynb>data table notebook</a>'\n",
       "            + ' to learn more about interactive tables.';\n",
       "          element.innerHTML = '';\n",
       "          dataTable['output_type'] = 'display_data';\n",
       "          await google.colab.output.renderOutput(dataTable, element);\n",
       "          const docLink = document.createElement('div');\n",
       "          docLink.innerHTML = docLinkHtml;\n",
       "          element.appendChild(docLink);\n",
       "        }\n",
       "      </script>\n",
       "    </div>\n",
       "  </div>\n"
      ],
      "text/plain": [
       "                                           Headlines  \\\n",
       "0  Jim Cramer: A better way to invest in the Covi...   \n",
       "1     Cramer's lightning round: I would own Teradyne   \n",
       "\n",
       "                             Time  \\\n",
       "0   7:51  PM ET Fri, 17 July 2020   \n",
       "1   7:33  PM ET Fri, 17 July 2020   \n",
       "\n",
       "                                         Description  ds_score  \\\n",
       "0  mad money host jim cramer recommend buy four c...  Positive   \n",
       "1  mad money host jim cramer ring lightn round be...  Negative   \n",
       "\n",
       "                                                info  \n",
       "0  Jim Cramer: A better way to invest in the Covi...  \n",
       "1  Cramer's lightning round: I would own Teradyne...  "
      ]
     },
     "execution_count": 67,
     "metadata": {},
     "output_type": "execute_result"
    }
   ],
   "source": [
    "# merge headlines and description of new dataset and name it info\n",
    "cnbc_reuter_copy['info'] = cnbc_reuter_copy['Headlines'] + cnbc_reuter_copy['Description']\n",
    "cnbc_reuter_copy.head(2)"
   ]
  },
  {
   "cell_type": "code",
   "execution_count": null,
   "metadata": {
    "colab": {
     "base_uri": "https://localhost:8080/",
     "height": 112
    },
    "id": "_ZTFzLcGzTb3",
    "outputId": "4d7b803b-2603-4ba0-8e5f-795e618e5d1a"
   },
   "outputs": [
    {
     "data": {
      "text/html": [
       "\n",
       "\n",
       "  <div id=\"df-2f5011cc-0049-4397-b0e3-16502dc2fa0f\">\n",
       "    <div class=\"colab-df-container\">\n",
       "      <div>\n",
       "<style scoped>\n",
       "    .dataframe tbody tr th:only-of-type {\n",
       "        vertical-align: middle;\n",
       "    }\n",
       "\n",
       "    .dataframe tbody tr th {\n",
       "        vertical-align: top;\n",
       "    }\n",
       "\n",
       "    .dataframe thead th {\n",
       "        text-align: right;\n",
       "    }\n",
       "</style>\n",
       "<table border=\"1\" class=\"dataframe\">\n",
       "  <thead>\n",
       "    <tr style=\"text-align: right;\">\n",
       "      <th></th>\n",
       "      <th>Time</th>\n",
       "      <th>info</th>\n",
       "    </tr>\n",
       "  </thead>\n",
       "  <tbody>\n",
       "    <tr>\n",
       "      <th>0</th>\n",
       "      <td>7:51  PM ET Fri, 17 July 2020</td>\n",
       "      <td>Jim Cramer: A better way to invest in the Covi...</td>\n",
       "    </tr>\n",
       "    <tr>\n",
       "      <th>1</th>\n",
       "      <td>7:33  PM ET Fri, 17 July 2020</td>\n",
       "      <td>Cramer's lightning round: I would own Teradyne...</td>\n",
       "    </tr>\n",
       "  </tbody>\n",
       "</table>\n",
       "</div>\n",
       "      <button class=\"colab-df-convert\" onclick=\"convertToInteractive('df-2f5011cc-0049-4397-b0e3-16502dc2fa0f')\"\n",
       "              title=\"Convert this dataframe to an interactive table.\"\n",
       "              style=\"display:none;\">\n",
       "\n",
       "  <svg xmlns=\"http://www.w3.org/2000/svg\" height=\"24px\"viewBox=\"0 0 24 24\"\n",
       "       width=\"24px\">\n",
       "    <path d=\"M0 0h24v24H0V0z\" fill=\"none\"/>\n",
       "    <path d=\"M18.56 5.44l.94 2.06.94-2.06 2.06-.94-2.06-.94-.94-2.06-.94 2.06-2.06.94zm-11 1L8.5 8.5l.94-2.06 2.06-.94-2.06-.94L8.5 2.5l-.94 2.06-2.06.94zm10 10l.94 2.06.94-2.06 2.06-.94-2.06-.94-.94-2.06-.94 2.06-2.06.94z\"/><path d=\"M17.41 7.96l-1.37-1.37c-.4-.4-.92-.59-1.43-.59-.52 0-1.04.2-1.43.59L10.3 9.45l-7.72 7.72c-.78.78-.78 2.05 0 2.83L4 21.41c.39.39.9.59 1.41.59.51 0 1.02-.2 1.41-.59l7.78-7.78 2.81-2.81c.8-.78.8-2.07 0-2.86zM5.41 20L4 18.59l7.72-7.72 1.47 1.35L5.41 20z\"/>\n",
       "  </svg>\n",
       "      </button>\n",
       "\n",
       "\n",
       "\n",
       "    <div id=\"df-ce7585c7-491d-4e8c-a9b2-bddd86f6c7a4\">\n",
       "      <button class=\"colab-df-quickchart\" onclick=\"quickchart('df-ce7585c7-491d-4e8c-a9b2-bddd86f6c7a4')\"\n",
       "              title=\"Suggest charts.\"\n",
       "              style=\"display:none;\">\n",
       "\n",
       "<svg xmlns=\"http://www.w3.org/2000/svg\" height=\"24px\"viewBox=\"0 0 24 24\"\n",
       "     width=\"24px\">\n",
       "    <g>\n",
       "        <path d=\"M19 3H5c-1.1 0-2 .9-2 2v14c0 1.1.9 2 2 2h14c1.1 0 2-.9 2-2V5c0-1.1-.9-2-2-2zM9 17H7v-7h2v7zm4 0h-2V7h2v10zm4 0h-2v-4h2v4z\"/>\n",
       "    </g>\n",
       "</svg>\n",
       "      </button>\n",
       "    </div>\n",
       "\n",
       "<style>\n",
       "  .colab-df-quickchart {\n",
       "    background-color: #E8F0FE;\n",
       "    border: none;\n",
       "    border-radius: 50%;\n",
       "    cursor: pointer;\n",
       "    display: none;\n",
       "    fill: #1967D2;\n",
       "    height: 32px;\n",
       "    padding: 0 0 0 0;\n",
       "    width: 32px;\n",
       "  }\n",
       "\n",
       "  .colab-df-quickchart:hover {\n",
       "    background-color: #E2EBFA;\n",
       "    box-shadow: 0px 1px 2px rgba(60, 64, 67, 0.3), 0px 1px 3px 1px rgba(60, 64, 67, 0.15);\n",
       "    fill: #174EA6;\n",
       "  }\n",
       "\n",
       "  [theme=dark] .colab-df-quickchart {\n",
       "    background-color: #3B4455;\n",
       "    fill: #D2E3FC;\n",
       "  }\n",
       "\n",
       "  [theme=dark] .colab-df-quickchart:hover {\n",
       "    background-color: #434B5C;\n",
       "    box-shadow: 0px 1px 3px 1px rgba(0, 0, 0, 0.15);\n",
       "    filter: drop-shadow(0px 1px 2px rgba(0, 0, 0, 0.3));\n",
       "    fill: #FFFFFF;\n",
       "  }\n",
       "</style>\n",
       "\n",
       "    <script>\n",
       "      async function quickchart(key) {\n",
       "        const containerElement = document.querySelector('#' + key);\n",
       "        const charts = await google.colab.kernel.invokeFunction(\n",
       "            'suggestCharts', [key], {});\n",
       "      }\n",
       "    </script>\n",
       "\n",
       "      <script>\n",
       "\n",
       "function displayQuickchartButton(domScope) {\n",
       "  let quickchartButtonEl =\n",
       "    domScope.querySelector('#df-ce7585c7-491d-4e8c-a9b2-bddd86f6c7a4 button.colab-df-quickchart');\n",
       "  quickchartButtonEl.style.display =\n",
       "    google.colab.kernel.accessAllowed ? 'block' : 'none';\n",
       "}\n",
       "\n",
       "        displayQuickchartButton(document);\n",
       "      </script>\n",
       "      <style>\n",
       "    .colab-df-container {\n",
       "      display:flex;\n",
       "      flex-wrap:wrap;\n",
       "      gap: 12px;\n",
       "    }\n",
       "\n",
       "    .colab-df-convert {\n",
       "      background-color: #E8F0FE;\n",
       "      border: none;\n",
       "      border-radius: 50%;\n",
       "      cursor: pointer;\n",
       "      display: none;\n",
       "      fill: #1967D2;\n",
       "      height: 32px;\n",
       "      padding: 0 0 0 0;\n",
       "      width: 32px;\n",
       "    }\n",
       "\n",
       "    .colab-df-convert:hover {\n",
       "      background-color: #E2EBFA;\n",
       "      box-shadow: 0px 1px 2px rgba(60, 64, 67, 0.3), 0px 1px 3px 1px rgba(60, 64, 67, 0.15);\n",
       "      fill: #174EA6;\n",
       "    }\n",
       "\n",
       "    [theme=dark] .colab-df-convert {\n",
       "      background-color: #3B4455;\n",
       "      fill: #D2E3FC;\n",
       "    }\n",
       "\n",
       "    [theme=dark] .colab-df-convert:hover {\n",
       "      background-color: #434B5C;\n",
       "      box-shadow: 0px 1px 3px 1px rgba(0, 0, 0, 0.15);\n",
       "      filter: drop-shadow(0px 1px 2px rgba(0, 0, 0, 0.3));\n",
       "      fill: #FFFFFF;\n",
       "    }\n",
       "  </style>\n",
       "\n",
       "      <script>\n",
       "        const buttonEl =\n",
       "          document.querySelector('#df-2f5011cc-0049-4397-b0e3-16502dc2fa0f button.colab-df-convert');\n",
       "        buttonEl.style.display =\n",
       "          google.colab.kernel.accessAllowed ? 'block' : 'none';\n",
       "\n",
       "        async function convertToInteractive(key) {\n",
       "          const element = document.querySelector('#df-2f5011cc-0049-4397-b0e3-16502dc2fa0f');\n",
       "          const dataTable =\n",
       "            await google.colab.kernel.invokeFunction('convertToInteractive',\n",
       "                                                     [key], {});\n",
       "          if (!dataTable) return;\n",
       "\n",
       "          const docLinkHtml = 'Like what you see? Visit the ' +\n",
       "            '<a target=\"_blank\" href=https://colab.research.google.com/notebooks/data_table.ipynb>data table notebook</a>'\n",
       "            + ' to learn more about interactive tables.';\n",
       "          element.innerHTML = '';\n",
       "          dataTable['output_type'] = 'display_data';\n",
       "          await google.colab.output.renderOutput(dataTable, element);\n",
       "          const docLink = document.createElement('div');\n",
       "          docLink.innerHTML = docLinkHtml;\n",
       "          element.appendChild(docLink);\n",
       "        }\n",
       "      </script>\n",
       "    </div>\n",
       "  </div>\n"
      ],
      "text/plain": [
       "                             Time  \\\n",
       "0   7:51  PM ET Fri, 17 July 2020   \n",
       "1   7:33  PM ET Fri, 17 July 2020   \n",
       "\n",
       "                                                info  \n",
       "0  Jim Cramer: A better way to invest in the Covi...  \n",
       "1  Cramer's lightning round: I would own Teradyne...  "
      ]
     },
     "execution_count": 68,
     "metadata": {},
     "output_type": "execute_result"
    }
   ],
   "source": [
    "# only keep info and time column . drop all remaining columns\n",
    "cnbc_reuter_copy_new = cnbc_reuter_copy.drop(columns=['Headlines', 'Description', 'ds_score'], axis=1)\n",
    "cnbc_reuter_copy_new.head(2)"
   ]
  },
  {
   "cell_type": "code",
   "execution_count": null,
   "metadata": {
    "id": "iMOW0ljOzTaN"
   },
   "outputs": [],
   "source": [
    "# apply preprocessing on info column\n",
    "cnbc_reuter_copy_new['info'] = cnbc_reuter_copy_new['info'].apply(preprocessing)"
   ]
  },
  {
   "cell_type": "code",
   "execution_count": null,
   "metadata": {
    "colab": {
     "base_uri": "https://localhost:8080/",
     "height": 206
    },
    "id": "AA1k1aPnbUGu",
    "outputId": "9f7a9f98-2b84-4bad-914a-b6d59a991014"
   },
   "outputs": [
    {
     "data": {
      "text/html": [
       "\n",
       "\n",
       "  <div id=\"df-2cddb9e6-45eb-49dc-ba81-646219e0bf63\">\n",
       "    <div class=\"colab-df-container\">\n",
       "      <div>\n",
       "<style scoped>\n",
       "    .dataframe tbody tr th:only-of-type {\n",
       "        vertical-align: middle;\n",
       "    }\n",
       "\n",
       "    .dataframe tbody tr th {\n",
       "        vertical-align: top;\n",
       "    }\n",
       "\n",
       "    .dataframe thead th {\n",
       "        text-align: right;\n",
       "    }\n",
       "</style>\n",
       "<table border=\"1\" class=\"dataframe\">\n",
       "  <thead>\n",
       "    <tr style=\"text-align: right;\">\n",
       "      <th></th>\n",
       "      <th>Time</th>\n",
       "      <th>info</th>\n",
       "    </tr>\n",
       "  </thead>\n",
       "  <tbody>\n",
       "    <tr>\n",
       "      <th>0</th>\n",
       "      <td>7:51  PM ET Fri, 17 July 2020</td>\n",
       "      <td>jim cramer better way invest covid19 vaccin go...</td>\n",
       "    </tr>\n",
       "    <tr>\n",
       "      <th>1</th>\n",
       "      <td>7:33  PM ET Fri, 17 July 2020</td>\n",
       "      <td>cramer lightn round would teradynemad money ho...</td>\n",
       "    </tr>\n",
       "    <tr>\n",
       "      <th>2</th>\n",
       "      <td>7:25  PM ET Fri, 17 July 2020</td>\n",
       "      <td>cramer week ahead big week earn even bigger we...</td>\n",
       "    </tr>\n",
       "    <tr>\n",
       "      <th>3</th>\n",
       "      <td>4:24  PM ET Fri, 17 July 2020</td>\n",
       "      <td>iq capit ceo keith bliss say tech healthcar ra...</td>\n",
       "    </tr>\n",
       "    <tr>\n",
       "      <th>4</th>\n",
       "      <td>7:36  PM ET Thu, 16 July 2020</td>\n",
       "      <td>wall street deliv kind pullback ive wait jim c...</td>\n",
       "    </tr>\n",
       "  </tbody>\n",
       "</table>\n",
       "</div>\n",
       "      <button class=\"colab-df-convert\" onclick=\"convertToInteractive('df-2cddb9e6-45eb-49dc-ba81-646219e0bf63')\"\n",
       "              title=\"Convert this dataframe to an interactive table.\"\n",
       "              style=\"display:none;\">\n",
       "\n",
       "  <svg xmlns=\"http://www.w3.org/2000/svg\" height=\"24px\"viewBox=\"0 0 24 24\"\n",
       "       width=\"24px\">\n",
       "    <path d=\"M0 0h24v24H0V0z\" fill=\"none\"/>\n",
       "    <path d=\"M18.56 5.44l.94 2.06.94-2.06 2.06-.94-2.06-.94-.94-2.06-.94 2.06-2.06.94zm-11 1L8.5 8.5l.94-2.06 2.06-.94-2.06-.94L8.5 2.5l-.94 2.06-2.06.94zm10 10l.94 2.06.94-2.06 2.06-.94-2.06-.94-.94-2.06-.94 2.06-2.06.94z\"/><path d=\"M17.41 7.96l-1.37-1.37c-.4-.4-.92-.59-1.43-.59-.52 0-1.04.2-1.43.59L10.3 9.45l-7.72 7.72c-.78.78-.78 2.05 0 2.83L4 21.41c.39.39.9.59 1.41.59.51 0 1.02-.2 1.41-.59l7.78-7.78 2.81-2.81c.8-.78.8-2.07 0-2.86zM5.41 20L4 18.59l7.72-7.72 1.47 1.35L5.41 20z\"/>\n",
       "  </svg>\n",
       "      </button>\n",
       "\n",
       "\n",
       "\n",
       "    <div id=\"df-f80b3405-8f69-45f0-b47e-ec6e4e0c3668\">\n",
       "      <button class=\"colab-df-quickchart\" onclick=\"quickchart('df-f80b3405-8f69-45f0-b47e-ec6e4e0c3668')\"\n",
       "              title=\"Suggest charts.\"\n",
       "              style=\"display:none;\">\n",
       "\n",
       "<svg xmlns=\"http://www.w3.org/2000/svg\" height=\"24px\"viewBox=\"0 0 24 24\"\n",
       "     width=\"24px\">\n",
       "    <g>\n",
       "        <path d=\"M19 3H5c-1.1 0-2 .9-2 2v14c0 1.1.9 2 2 2h14c1.1 0 2-.9 2-2V5c0-1.1-.9-2-2-2zM9 17H7v-7h2v7zm4 0h-2V7h2v10zm4 0h-2v-4h2v4z\"/>\n",
       "    </g>\n",
       "</svg>\n",
       "      </button>\n",
       "    </div>\n",
       "\n",
       "<style>\n",
       "  .colab-df-quickchart {\n",
       "    background-color: #E8F0FE;\n",
       "    border: none;\n",
       "    border-radius: 50%;\n",
       "    cursor: pointer;\n",
       "    display: none;\n",
       "    fill: #1967D2;\n",
       "    height: 32px;\n",
       "    padding: 0 0 0 0;\n",
       "    width: 32px;\n",
       "  }\n",
       "\n",
       "  .colab-df-quickchart:hover {\n",
       "    background-color: #E2EBFA;\n",
       "    box-shadow: 0px 1px 2px rgba(60, 64, 67, 0.3), 0px 1px 3px 1px rgba(60, 64, 67, 0.15);\n",
       "    fill: #174EA6;\n",
       "  }\n",
       "\n",
       "  [theme=dark] .colab-df-quickchart {\n",
       "    background-color: #3B4455;\n",
       "    fill: #D2E3FC;\n",
       "  }\n",
       "\n",
       "  [theme=dark] .colab-df-quickchart:hover {\n",
       "    background-color: #434B5C;\n",
       "    box-shadow: 0px 1px 3px 1px rgba(0, 0, 0, 0.15);\n",
       "    filter: drop-shadow(0px 1px 2px rgba(0, 0, 0, 0.3));\n",
       "    fill: #FFFFFF;\n",
       "  }\n",
       "</style>\n",
       "\n",
       "    <script>\n",
       "      async function quickchart(key) {\n",
       "        const containerElement = document.querySelector('#' + key);\n",
       "        const charts = await google.colab.kernel.invokeFunction(\n",
       "            'suggestCharts', [key], {});\n",
       "      }\n",
       "    </script>\n",
       "\n",
       "      <script>\n",
       "\n",
       "function displayQuickchartButton(domScope) {\n",
       "  let quickchartButtonEl =\n",
       "    domScope.querySelector('#df-f80b3405-8f69-45f0-b47e-ec6e4e0c3668 button.colab-df-quickchart');\n",
       "  quickchartButtonEl.style.display =\n",
       "    google.colab.kernel.accessAllowed ? 'block' : 'none';\n",
       "}\n",
       "\n",
       "        displayQuickchartButton(document);\n",
       "      </script>\n",
       "      <style>\n",
       "    .colab-df-container {\n",
       "      display:flex;\n",
       "      flex-wrap:wrap;\n",
       "      gap: 12px;\n",
       "    }\n",
       "\n",
       "    .colab-df-convert {\n",
       "      background-color: #E8F0FE;\n",
       "      border: none;\n",
       "      border-radius: 50%;\n",
       "      cursor: pointer;\n",
       "      display: none;\n",
       "      fill: #1967D2;\n",
       "      height: 32px;\n",
       "      padding: 0 0 0 0;\n",
       "      width: 32px;\n",
       "    }\n",
       "\n",
       "    .colab-df-convert:hover {\n",
       "      background-color: #E2EBFA;\n",
       "      box-shadow: 0px 1px 2px rgba(60, 64, 67, 0.3), 0px 1px 3px 1px rgba(60, 64, 67, 0.15);\n",
       "      fill: #174EA6;\n",
       "    }\n",
       "\n",
       "    [theme=dark] .colab-df-convert {\n",
       "      background-color: #3B4455;\n",
       "      fill: #D2E3FC;\n",
       "    }\n",
       "\n",
       "    [theme=dark] .colab-df-convert:hover {\n",
       "      background-color: #434B5C;\n",
       "      box-shadow: 0px 1px 3px 1px rgba(0, 0, 0, 0.15);\n",
       "      filter: drop-shadow(0px 1px 2px rgba(0, 0, 0, 0.3));\n",
       "      fill: #FFFFFF;\n",
       "    }\n",
       "  </style>\n",
       "\n",
       "      <script>\n",
       "        const buttonEl =\n",
       "          document.querySelector('#df-2cddb9e6-45eb-49dc-ba81-646219e0bf63 button.colab-df-convert');\n",
       "        buttonEl.style.display =\n",
       "          google.colab.kernel.accessAllowed ? 'block' : 'none';\n",
       "\n",
       "        async function convertToInteractive(key) {\n",
       "          const element = document.querySelector('#df-2cddb9e6-45eb-49dc-ba81-646219e0bf63');\n",
       "          const dataTable =\n",
       "            await google.colab.kernel.invokeFunction('convertToInteractive',\n",
       "                                                     [key], {});\n",
       "          if (!dataTable) return;\n",
       "\n",
       "          const docLinkHtml = 'Like what you see? Visit the ' +\n",
       "            '<a target=\"_blank\" href=https://colab.research.google.com/notebooks/data_table.ipynb>data table notebook</a>'\n",
       "            + ' to learn more about interactive tables.';\n",
       "          element.innerHTML = '';\n",
       "          dataTable['output_type'] = 'display_data';\n",
       "          await google.colab.output.renderOutput(dataTable, element);\n",
       "          const docLink = document.createElement('div');\n",
       "          docLink.innerHTML = docLinkHtml;\n",
       "          element.appendChild(docLink);\n",
       "        }\n",
       "      </script>\n",
       "    </div>\n",
       "  </div>\n"
      ],
      "text/plain": [
       "                             Time  \\\n",
       "0   7:51  PM ET Fri, 17 July 2020   \n",
       "1   7:33  PM ET Fri, 17 July 2020   \n",
       "2   7:25  PM ET Fri, 17 July 2020   \n",
       "3   4:24  PM ET Fri, 17 July 2020   \n",
       "4   7:36  PM ET Thu, 16 July 2020   \n",
       "\n",
       "                                                info  \n",
       "0  jim cramer better way invest covid19 vaccin go...  \n",
       "1  cramer lightn round would teradynemad money ho...  \n",
       "2  cramer week ahead big week earn even bigger we...  \n",
       "3  iq capit ceo keith bliss say tech healthcar ra...  \n",
       "4  wall street deliv kind pullback ive wait jim c...  "
      ]
     },
     "execution_count": 70,
     "metadata": {},
     "output_type": "execute_result"
    }
   ],
   "source": [
    "cnbc_reuter_copy_new.head()"
   ]
  },
  {
   "cell_type": "code",
   "execution_count": null,
   "metadata": {
    "colab": {
     "base_uri": "https://localhost:8080/",
     "height": 206
    },
    "id": "Bww_M5RQzTXm",
    "outputId": "7b549ed1-284d-4467-a6e2-230188fca2b3"
   },
   "outputs": [
    {
     "data": {
      "text/html": [
       "\n",
       "\n",
       "  <div id=\"df-90a45d4a-09cf-4445-8c25-bdcb9692b29b\">\n",
       "    <div class=\"colab-df-container\">\n",
       "      <div>\n",
       "<style scoped>\n",
       "    .dataframe tbody tr th:only-of-type {\n",
       "        vertical-align: middle;\n",
       "    }\n",
       "\n",
       "    .dataframe tbody tr th {\n",
       "        vertical-align: top;\n",
       "    }\n",
       "\n",
       "    .dataframe thead th {\n",
       "        text-align: right;\n",
       "    }\n",
       "</style>\n",
       "<table border=\"1\" class=\"dataframe\">\n",
       "  <thead>\n",
       "    <tr style=\"text-align: right;\">\n",
       "      <th></th>\n",
       "      <th>Time</th>\n",
       "      <th>info</th>\n",
       "      <th>info_score</th>\n",
       "    </tr>\n",
       "  </thead>\n",
       "  <tbody>\n",
       "    <tr>\n",
       "      <th>0</th>\n",
       "      <td>7:51  PM ET Fri, 17 July 2020</td>\n",
       "      <td>jim cramer better way invest covid19 vaccin go...</td>\n",
       "      <td>0.7964</td>\n",
       "    </tr>\n",
       "    <tr>\n",
       "      <th>1</th>\n",
       "      <td>7:33  PM ET Fri, 17 July 2020</td>\n",
       "      <td>cramer lightn round would teradynemad money ho...</td>\n",
       "      <td>0.0000</td>\n",
       "    </tr>\n",
       "    <tr>\n",
       "      <th>2</th>\n",
       "      <td>7:25  PM ET Fri, 17 July 2020</td>\n",
       "      <td>cramer week ahead big week earn even bigger we...</td>\n",
       "      <td>0.3612</td>\n",
       "    </tr>\n",
       "    <tr>\n",
       "      <th>3</th>\n",
       "      <td>4:24  PM ET Fri, 17 July 2020</td>\n",
       "      <td>iq capit ceo keith bliss say tech healthcar ra...</td>\n",
       "      <td>0.8625</td>\n",
       "    </tr>\n",
       "    <tr>\n",
       "      <th>4</th>\n",
       "      <td>7:36  PM ET Thu, 16 July 2020</td>\n",
       "      <td>wall street deliv kind pullback ive wait jim c...</td>\n",
       "      <td>-0.2500</td>\n",
       "    </tr>\n",
       "  </tbody>\n",
       "</table>\n",
       "</div>\n",
       "      <button class=\"colab-df-convert\" onclick=\"convertToInteractive('df-90a45d4a-09cf-4445-8c25-bdcb9692b29b')\"\n",
       "              title=\"Convert this dataframe to an interactive table.\"\n",
       "              style=\"display:none;\">\n",
       "\n",
       "  <svg xmlns=\"http://www.w3.org/2000/svg\" height=\"24px\"viewBox=\"0 0 24 24\"\n",
       "       width=\"24px\">\n",
       "    <path d=\"M0 0h24v24H0V0z\" fill=\"none\"/>\n",
       "    <path d=\"M18.56 5.44l.94 2.06.94-2.06 2.06-.94-2.06-.94-.94-2.06-.94 2.06-2.06.94zm-11 1L8.5 8.5l.94-2.06 2.06-.94-2.06-.94L8.5 2.5l-.94 2.06-2.06.94zm10 10l.94 2.06.94-2.06 2.06-.94-2.06-.94-.94-2.06-.94 2.06-2.06.94z\"/><path d=\"M17.41 7.96l-1.37-1.37c-.4-.4-.92-.59-1.43-.59-.52 0-1.04.2-1.43.59L10.3 9.45l-7.72 7.72c-.78.78-.78 2.05 0 2.83L4 21.41c.39.39.9.59 1.41.59.51 0 1.02-.2 1.41-.59l7.78-7.78 2.81-2.81c.8-.78.8-2.07 0-2.86zM5.41 20L4 18.59l7.72-7.72 1.47 1.35L5.41 20z\"/>\n",
       "  </svg>\n",
       "      </button>\n",
       "\n",
       "\n",
       "\n",
       "    <div id=\"df-4eaa5f6a-8e18-4c6f-85b2-52d914d8649d\">\n",
       "      <button class=\"colab-df-quickchart\" onclick=\"quickchart('df-4eaa5f6a-8e18-4c6f-85b2-52d914d8649d')\"\n",
       "              title=\"Suggest charts.\"\n",
       "              style=\"display:none;\">\n",
       "\n",
       "<svg xmlns=\"http://www.w3.org/2000/svg\" height=\"24px\"viewBox=\"0 0 24 24\"\n",
       "     width=\"24px\">\n",
       "    <g>\n",
       "        <path d=\"M19 3H5c-1.1 0-2 .9-2 2v14c0 1.1.9 2 2 2h14c1.1 0 2-.9 2-2V5c0-1.1-.9-2-2-2zM9 17H7v-7h2v7zm4 0h-2V7h2v10zm4 0h-2v-4h2v4z\"/>\n",
       "    </g>\n",
       "</svg>\n",
       "      </button>\n",
       "    </div>\n",
       "\n",
       "<style>\n",
       "  .colab-df-quickchart {\n",
       "    background-color: #E8F0FE;\n",
       "    border: none;\n",
       "    border-radius: 50%;\n",
       "    cursor: pointer;\n",
       "    display: none;\n",
       "    fill: #1967D2;\n",
       "    height: 32px;\n",
       "    padding: 0 0 0 0;\n",
       "    width: 32px;\n",
       "  }\n",
       "\n",
       "  .colab-df-quickchart:hover {\n",
       "    background-color: #E2EBFA;\n",
       "    box-shadow: 0px 1px 2px rgba(60, 64, 67, 0.3), 0px 1px 3px 1px rgba(60, 64, 67, 0.15);\n",
       "    fill: #174EA6;\n",
       "  }\n",
       "\n",
       "  [theme=dark] .colab-df-quickchart {\n",
       "    background-color: #3B4455;\n",
       "    fill: #D2E3FC;\n",
       "  }\n",
       "\n",
       "  [theme=dark] .colab-df-quickchart:hover {\n",
       "    background-color: #434B5C;\n",
       "    box-shadow: 0px 1px 3px 1px rgba(0, 0, 0, 0.15);\n",
       "    filter: drop-shadow(0px 1px 2px rgba(0, 0, 0, 0.3));\n",
       "    fill: #FFFFFF;\n",
       "  }\n",
       "</style>\n",
       "\n",
       "    <script>\n",
       "      async function quickchart(key) {\n",
       "        const containerElement = document.querySelector('#' + key);\n",
       "        const charts = await google.colab.kernel.invokeFunction(\n",
       "            'suggestCharts', [key], {});\n",
       "      }\n",
       "    </script>\n",
       "\n",
       "      <script>\n",
       "\n",
       "function displayQuickchartButton(domScope) {\n",
       "  let quickchartButtonEl =\n",
       "    domScope.querySelector('#df-4eaa5f6a-8e18-4c6f-85b2-52d914d8649d button.colab-df-quickchart');\n",
       "  quickchartButtonEl.style.display =\n",
       "    google.colab.kernel.accessAllowed ? 'block' : 'none';\n",
       "}\n",
       "\n",
       "        displayQuickchartButton(document);\n",
       "      </script>\n",
       "      <style>\n",
       "    .colab-df-container {\n",
       "      display:flex;\n",
       "      flex-wrap:wrap;\n",
       "      gap: 12px;\n",
       "    }\n",
       "\n",
       "    .colab-df-convert {\n",
       "      background-color: #E8F0FE;\n",
       "      border: none;\n",
       "      border-radius: 50%;\n",
       "      cursor: pointer;\n",
       "      display: none;\n",
       "      fill: #1967D2;\n",
       "      height: 32px;\n",
       "      padding: 0 0 0 0;\n",
       "      width: 32px;\n",
       "    }\n",
       "\n",
       "    .colab-df-convert:hover {\n",
       "      background-color: #E2EBFA;\n",
       "      box-shadow: 0px 1px 2px rgba(60, 64, 67, 0.3), 0px 1px 3px 1px rgba(60, 64, 67, 0.15);\n",
       "      fill: #174EA6;\n",
       "    }\n",
       "\n",
       "    [theme=dark] .colab-df-convert {\n",
       "      background-color: #3B4455;\n",
       "      fill: #D2E3FC;\n",
       "    }\n",
       "\n",
       "    [theme=dark] .colab-df-convert:hover {\n",
       "      background-color: #434B5C;\n",
       "      box-shadow: 0px 1px 3px 1px rgba(0, 0, 0, 0.15);\n",
       "      filter: drop-shadow(0px 1px 2px rgba(0, 0, 0, 0.3));\n",
       "      fill: #FFFFFF;\n",
       "    }\n",
       "  </style>\n",
       "\n",
       "      <script>\n",
       "        const buttonEl =\n",
       "          document.querySelector('#df-90a45d4a-09cf-4445-8c25-bdcb9692b29b button.colab-df-convert');\n",
       "        buttonEl.style.display =\n",
       "          google.colab.kernel.accessAllowed ? 'block' : 'none';\n",
       "\n",
       "        async function convertToInteractive(key) {\n",
       "          const element = document.querySelector('#df-90a45d4a-09cf-4445-8c25-bdcb9692b29b');\n",
       "          const dataTable =\n",
       "            await google.colab.kernel.invokeFunction('convertToInteractive',\n",
       "                                                     [key], {});\n",
       "          if (!dataTable) return;\n",
       "\n",
       "          const docLinkHtml = 'Like what you see? Visit the ' +\n",
       "            '<a target=\"_blank\" href=https://colab.research.google.com/notebooks/data_table.ipynb>data table notebook</a>'\n",
       "            + ' to learn more about interactive tables.';\n",
       "          element.innerHTML = '';\n",
       "          dataTable['output_type'] = 'display_data';\n",
       "          await google.colab.output.renderOutput(dataTable, element);\n",
       "          const docLink = document.createElement('div');\n",
       "          docLink.innerHTML = docLinkHtml;\n",
       "          element.appendChild(docLink);\n",
       "        }\n",
       "      </script>\n",
       "    </div>\n",
       "  </div>\n"
      ],
      "text/plain": [
       "                             Time  \\\n",
       "0   7:51  PM ET Fri, 17 July 2020   \n",
       "1   7:33  PM ET Fri, 17 July 2020   \n",
       "2   7:25  PM ET Fri, 17 July 2020   \n",
       "3   4:24  PM ET Fri, 17 July 2020   \n",
       "4   7:36  PM ET Thu, 16 July 2020   \n",
       "\n",
       "                                                info  info_score  \n",
       "0  jim cramer better way invest covid19 vaccin go...      0.7964  \n",
       "1  cramer lightn round would teradynemad money ho...      0.0000  \n",
       "2  cramer week ahead big week earn even bigger we...      0.3612  \n",
       "3  iq capit ceo keith bliss say tech healthcar ra...      0.8625  \n",
       "4  wall street deliv kind pullback ive wait jim c...     -0.2500  "
      ]
     },
     "execution_count": 71,
     "metadata": {},
     "output_type": "execute_result"
    }
   ],
   "source": [
    "# analyze polarity score of values in info and  add new column of it in dataset\n",
    "\n",
    "score = []\n",
    "for value in cnbc_reuter_copy_new['info'].values:\n",
    "  score.append(analyzer.polarity_scores(value)['compound'])\n",
    "\n",
    "cnbc_reuter_copy_new['info_score'] = score\n",
    "cnbc_reuter_copy_new.head()"
   ]
  },
  {
   "cell_type": "code",
   "execution_count": null,
   "metadata": {
    "colab": {
     "base_uri": "https://localhost:8080/",
     "height": 206
    },
    "id": "duwvemaLzTWh",
    "outputId": "c7099d21-89c7-463f-8e57-af365e24a999"
   },
   "outputs": [
    {
     "data": {
      "text/html": [
       "\n",
       "\n",
       "  <div id=\"df-23ec0846-1bcd-4234-8d80-693c5c68c85b\">\n",
       "    <div class=\"colab-df-container\">\n",
       "      <div>\n",
       "<style scoped>\n",
       "    .dataframe tbody tr th:only-of-type {\n",
       "        vertical-align: middle;\n",
       "    }\n",
       "\n",
       "    .dataframe tbody tr th {\n",
       "        vertical-align: top;\n",
       "    }\n",
       "\n",
       "    .dataframe thead th {\n",
       "        text-align: right;\n",
       "    }\n",
       "</style>\n",
       "<table border=\"1\" class=\"dataframe\">\n",
       "  <thead>\n",
       "    <tr style=\"text-align: right;\">\n",
       "      <th></th>\n",
       "      <th>Time</th>\n",
       "      <th>info</th>\n",
       "      <th>info_score</th>\n",
       "    </tr>\n",
       "  </thead>\n",
       "  <tbody>\n",
       "    <tr>\n",
       "      <th>0</th>\n",
       "      <td>7:51  PM ET Fri, 17 July 2020</td>\n",
       "      <td>jim cramer better way invest covid19 vaccin go...</td>\n",
       "      <td>Positive</td>\n",
       "    </tr>\n",
       "    <tr>\n",
       "      <th>1</th>\n",
       "      <td>7:33  PM ET Fri, 17 July 2020</td>\n",
       "      <td>cramer lightn round would teradynemad money ho...</td>\n",
       "      <td>Neutral</td>\n",
       "    </tr>\n",
       "    <tr>\n",
       "      <th>2</th>\n",
       "      <td>7:25  PM ET Fri, 17 July 2020</td>\n",
       "      <td>cramer week ahead big week earn even bigger we...</td>\n",
       "      <td>Positive</td>\n",
       "    </tr>\n",
       "    <tr>\n",
       "      <th>3</th>\n",
       "      <td>4:24  PM ET Fri, 17 July 2020</td>\n",
       "      <td>iq capit ceo keith bliss say tech healthcar ra...</td>\n",
       "      <td>Positive</td>\n",
       "    </tr>\n",
       "    <tr>\n",
       "      <th>4</th>\n",
       "      <td>7:36  PM ET Thu, 16 July 2020</td>\n",
       "      <td>wall street deliv kind pullback ive wait jim c...</td>\n",
       "      <td>Negative</td>\n",
       "    </tr>\n",
       "  </tbody>\n",
       "</table>\n",
       "</div>\n",
       "      <button class=\"colab-df-convert\" onclick=\"convertToInteractive('df-23ec0846-1bcd-4234-8d80-693c5c68c85b')\"\n",
       "              title=\"Convert this dataframe to an interactive table.\"\n",
       "              style=\"display:none;\">\n",
       "\n",
       "  <svg xmlns=\"http://www.w3.org/2000/svg\" height=\"24px\"viewBox=\"0 0 24 24\"\n",
       "       width=\"24px\">\n",
       "    <path d=\"M0 0h24v24H0V0z\" fill=\"none\"/>\n",
       "    <path d=\"M18.56 5.44l.94 2.06.94-2.06 2.06-.94-2.06-.94-.94-2.06-.94 2.06-2.06.94zm-11 1L8.5 8.5l.94-2.06 2.06-.94-2.06-.94L8.5 2.5l-.94 2.06-2.06.94zm10 10l.94 2.06.94-2.06 2.06-.94-2.06-.94-.94-2.06-.94 2.06-2.06.94z\"/><path d=\"M17.41 7.96l-1.37-1.37c-.4-.4-.92-.59-1.43-.59-.52 0-1.04.2-1.43.59L10.3 9.45l-7.72 7.72c-.78.78-.78 2.05 0 2.83L4 21.41c.39.39.9.59 1.41.59.51 0 1.02-.2 1.41-.59l7.78-7.78 2.81-2.81c.8-.78.8-2.07 0-2.86zM5.41 20L4 18.59l7.72-7.72 1.47 1.35L5.41 20z\"/>\n",
       "  </svg>\n",
       "      </button>\n",
       "\n",
       "\n",
       "\n",
       "    <div id=\"df-a367f2e6-1dc9-4017-83fd-3936d9efe9ca\">\n",
       "      <button class=\"colab-df-quickchart\" onclick=\"quickchart('df-a367f2e6-1dc9-4017-83fd-3936d9efe9ca')\"\n",
       "              title=\"Suggest charts.\"\n",
       "              style=\"display:none;\">\n",
       "\n",
       "<svg xmlns=\"http://www.w3.org/2000/svg\" height=\"24px\"viewBox=\"0 0 24 24\"\n",
       "     width=\"24px\">\n",
       "    <g>\n",
       "        <path d=\"M19 3H5c-1.1 0-2 .9-2 2v14c0 1.1.9 2 2 2h14c1.1 0 2-.9 2-2V5c0-1.1-.9-2-2-2zM9 17H7v-7h2v7zm4 0h-2V7h2v10zm4 0h-2v-4h2v4z\"/>\n",
       "    </g>\n",
       "</svg>\n",
       "      </button>\n",
       "    </div>\n",
       "\n",
       "<style>\n",
       "  .colab-df-quickchart {\n",
       "    background-color: #E8F0FE;\n",
       "    border: none;\n",
       "    border-radius: 50%;\n",
       "    cursor: pointer;\n",
       "    display: none;\n",
       "    fill: #1967D2;\n",
       "    height: 32px;\n",
       "    padding: 0 0 0 0;\n",
       "    width: 32px;\n",
       "  }\n",
       "\n",
       "  .colab-df-quickchart:hover {\n",
       "    background-color: #E2EBFA;\n",
       "    box-shadow: 0px 1px 2px rgba(60, 64, 67, 0.3), 0px 1px 3px 1px rgba(60, 64, 67, 0.15);\n",
       "    fill: #174EA6;\n",
       "  }\n",
       "\n",
       "  [theme=dark] .colab-df-quickchart {\n",
       "    background-color: #3B4455;\n",
       "    fill: #D2E3FC;\n",
       "  }\n",
       "\n",
       "  [theme=dark] .colab-df-quickchart:hover {\n",
       "    background-color: #434B5C;\n",
       "    box-shadow: 0px 1px 3px 1px rgba(0, 0, 0, 0.15);\n",
       "    filter: drop-shadow(0px 1px 2px rgba(0, 0, 0, 0.3));\n",
       "    fill: #FFFFFF;\n",
       "  }\n",
       "</style>\n",
       "\n",
       "    <script>\n",
       "      async function quickchart(key) {\n",
       "        const containerElement = document.querySelector('#' + key);\n",
       "        const charts = await google.colab.kernel.invokeFunction(\n",
       "            'suggestCharts', [key], {});\n",
       "      }\n",
       "    </script>\n",
       "\n",
       "      <script>\n",
       "\n",
       "function displayQuickchartButton(domScope) {\n",
       "  let quickchartButtonEl =\n",
       "    domScope.querySelector('#df-a367f2e6-1dc9-4017-83fd-3936d9efe9ca button.colab-df-quickchart');\n",
       "  quickchartButtonEl.style.display =\n",
       "    google.colab.kernel.accessAllowed ? 'block' : 'none';\n",
       "}\n",
       "\n",
       "        displayQuickchartButton(document);\n",
       "      </script>\n",
       "      <style>\n",
       "    .colab-df-container {\n",
       "      display:flex;\n",
       "      flex-wrap:wrap;\n",
       "      gap: 12px;\n",
       "    }\n",
       "\n",
       "    .colab-df-convert {\n",
       "      background-color: #E8F0FE;\n",
       "      border: none;\n",
       "      border-radius: 50%;\n",
       "      cursor: pointer;\n",
       "      display: none;\n",
       "      fill: #1967D2;\n",
       "      height: 32px;\n",
       "      padding: 0 0 0 0;\n",
       "      width: 32px;\n",
       "    }\n",
       "\n",
       "    .colab-df-convert:hover {\n",
       "      background-color: #E2EBFA;\n",
       "      box-shadow: 0px 1px 2px rgba(60, 64, 67, 0.3), 0px 1px 3px 1px rgba(60, 64, 67, 0.15);\n",
       "      fill: #174EA6;\n",
       "    }\n",
       "\n",
       "    [theme=dark] .colab-df-convert {\n",
       "      background-color: #3B4455;\n",
       "      fill: #D2E3FC;\n",
       "    }\n",
       "\n",
       "    [theme=dark] .colab-df-convert:hover {\n",
       "      background-color: #434B5C;\n",
       "      box-shadow: 0px 1px 3px 1px rgba(0, 0, 0, 0.15);\n",
       "      filter: drop-shadow(0px 1px 2px rgba(0, 0, 0, 0.3));\n",
       "      fill: #FFFFFF;\n",
       "    }\n",
       "  </style>\n",
       "\n",
       "      <script>\n",
       "        const buttonEl =\n",
       "          document.querySelector('#df-23ec0846-1bcd-4234-8d80-693c5c68c85b button.colab-df-convert');\n",
       "        buttonEl.style.display =\n",
       "          google.colab.kernel.accessAllowed ? 'block' : 'none';\n",
       "\n",
       "        async function convertToInteractive(key) {\n",
       "          const element = document.querySelector('#df-23ec0846-1bcd-4234-8d80-693c5c68c85b');\n",
       "          const dataTable =\n",
       "            await google.colab.kernel.invokeFunction('convertToInteractive',\n",
       "                                                     [key], {});\n",
       "          if (!dataTable) return;\n",
       "\n",
       "          const docLinkHtml = 'Like what you see? Visit the ' +\n",
       "            '<a target=\"_blank\" href=https://colab.research.google.com/notebooks/data_table.ipynb>data table notebook</a>'\n",
       "            + ' to learn more about interactive tables.';\n",
       "          element.innerHTML = '';\n",
       "          dataTable['output_type'] = 'display_data';\n",
       "          await google.colab.output.renderOutput(dataTable, element);\n",
       "          const docLink = document.createElement('div');\n",
       "          docLink.innerHTML = docLinkHtml;\n",
       "          element.appendChild(docLink);\n",
       "        }\n",
       "      </script>\n",
       "    </div>\n",
       "  </div>\n"
      ],
      "text/plain": [
       "                             Time  \\\n",
       "0   7:51  PM ET Fri, 17 July 2020   \n",
       "1   7:33  PM ET Fri, 17 July 2020   \n",
       "2   7:25  PM ET Fri, 17 July 2020   \n",
       "3   4:24  PM ET Fri, 17 July 2020   \n",
       "4   7:36  PM ET Thu, 16 July 2020   \n",
       "\n",
       "                                                info info_score  \n",
       "0  jim cramer better way invest covid19 vaccin go...   Positive  \n",
       "1  cramer lightn round would teradynemad money ho...    Neutral  \n",
       "2  cramer week ahead big week earn even bigger we...   Positive  \n",
       "3  iq capit ceo keith bliss say tech healthcar ra...   Positive  \n",
       "4  wall street deliv kind pullback ive wait jim c...   Negative  "
      ]
     },
     "execution_count": 72,
     "metadata": {},
     "output_type": "execute_result"
    }
   ],
   "source": [
    "# apply the function  which decides sentiment to  polarity score column\n",
    "cnbc_reuter_copy_new['info_score'] = cnbc_reuter_copy_new['info_score'].apply(get_analysis)\n",
    "cnbc_reuter_copy_new.head()"
   ]
  },
  {
   "cell_type": "code",
   "execution_count": null,
   "metadata": {
    "colab": {
     "base_uri": "https://localhost:8080/",
     "height": 467
    },
    "id": "ohPDx_0glaeM",
    "outputId": "2b737e3b-7ee3-4e9b-b2b9-af2c623113f8"
   },
   "outputs": [
    {
     "data": {
      "text/plain": [
       "<Axes: xlabel='info_score', ylabel='count'>"
      ]
     },
     "execution_count": 73,
     "metadata": {},
     "output_type": "execute_result"
    },
    {
     "data": {
      "image/png": "[encoded data removed]",
      "text/plain": [
       "<Figure size 640x480 with 1 Axes>"
      ]
     },
     "metadata": {},
     "output_type": "display_data"
    }
   ],
   "source": [
    "# perform count plot on info_score column\n",
    "sns.countplot(data = cnbc_reuter_copy_new, x='info_score')"
   ]
  },
  {
   "cell_type": "markdown",
   "metadata": {
    "id": "svGQaSfhl6_5"
   },
   "source": [
    "In the info\n",
    "\n",
    "there are approx\n",
    "\n",
    "15500 positive statment\n",
    "\n",
    "13000 negative statment\n",
    "\n",
    "6500 neutral statment"
   ]
  },
  {
   "cell_type": "code",
   "execution_count": null,
   "metadata": {
    "colab": {
     "base_uri": "https://localhost:8080/",
     "height": 675
    },
    "id": "BNaH0yfFll7Z",
    "outputId": "516b2e24-928e-4169-ead0-ec6488c15f92"
   },
   "outputs": [
    {
     "data": {
      "image/png": "[encoded data removed]",
      "text/plain": [
       "<Figure size 800x800 with 1 Axes>"
      ]
     },
     "metadata": {},
     "output_type": "display_data"
    }
   ],
   "source": [
    "# perform pie chart on info_score column\n",
    "import matplotlib.pyplot as plt\n",
    "\n",
    "# Get value counts for the 'column_name' column\n",
    "value_counts = cnbc_reuter_copy_new['info_score'].value_counts()\n",
    "\n",
    "# Plot the pie chart\n",
    "plt.figure(figsize=(8, 8))\n",
    "value_counts.plot(kind='pie', autopct='%1.1f%%', explode=[0.05]*len(value_counts))\n",
    "plt.title('Pie Chart of info score')\n",
    "\n",
    "plt.ylabel('')  # To remove the default 'column_name' label on the y-axis\n",
    "plt.show()\n"
   ]
  },
  {
   "cell_type": "markdown",
   "metadata": {
    "id": "e0JsgArfmgi-"
   },
   "source": [
    "In the dataset\n",
    "\n",
    "info contains\n",
    "\n",
    "44.5% positive statments\n",
    "\n",
    "37.2% negtive statements\n",
    "\n",
    "18.3% neutral statments"
   ]
  },
  {
   "cell_type": "markdown",
   "metadata": {
    "id": "FDaguQJMfrML"
   },
   "source": [
    "# modeling on headlines + description"
   ]
  },
  {
   "cell_type": "code",
   "execution_count": null,
   "metadata": {
    "colab": {
     "base_uri": "https://localhost:8080/"
    },
    "id": "U-sjg3NEzTRd",
    "outputId": "6a17bea8-9a63-48f2-df58-7adc597b9fb1"
   },
   "outputs": [
    {
     "name": "stdout",
     "output_type": "stream",
     "text": [
      "x_train (31963,), x_test (3552,)\n"
     ]
    }
   ],
   "source": [
    "# split the dataset  into test and train\n",
    "# 90% train , 10% test and random state 212\n",
    "x_train, x_test, y_train, y_test = train_test_split(cnbc_reuter_copy_new['info'], cnbc_reuter_copy_new['info_score'], test_size=0.1, random_state=212)\n",
    "print(f'x_train {x_train.shape}, x_test {x_test.shape}')"
   ]
  },
  {
   "cell_type": "markdown",
   "metadata": {
    "id": "h469Z39Zjjvn"
   },
   "source": [
    "LINEAR SUPPORT VECTOR MACHINE\n"
   ]
  },
  {
   "cell_type": "code",
   "execution_count": null,
   "metadata": {
    "colab": {
     "base_uri": "https://localhost:8080/"
    },
    "id": "atnWirUQzTQI",
    "outputId": "11267d52-a3cd-4cbf-d9d8-a8276cbdb0ff"
   },
   "outputs": [
    {
     "name": "stdout",
     "output_type": "stream",
     "text": [
      "Model - Linear SVC\n",
      "Accuracy score is 0.9009009009009009\n",
      "[[1183   49   83]\n",
      " [  41  538   56]\n",
      " [  72   51 1479]]\n",
      "              precision    recall  f1-score   support\n",
      "\n",
      "    Negative       0.91      0.90      0.91      1315\n",
      "     Neutral       0.84      0.85      0.85       635\n",
      "    Positive       0.91      0.92      0.92      1602\n",
      "\n",
      "    accuracy                           0.90      3552\n",
      "   macro avg       0.89      0.89      0.89      3552\n",
      "weighted avg       0.90      0.90      0.90      3552\n",
      "\n",
      "CPU times: user 1.35 s, sys: 32.9 ms, total: 1.39 s\n",
      "Wall time: 1.37 s\n"
     ]
    }
   ],
   "source": [
    "%%time\n",
    "from sklearn.pipeline import Pipeline\n",
    "from sklearn.feature_extraction.text import TfidfVectorizer\n",
    "from sklearn.svm import LinearSVC\n",
    "from sklearn.metrics import accuracy_score, confusion_matrix, classification_report\n",
    "# pipeline creation\n",
    "# 1. tfidVectorization\n",
    "# 2. linearSVC model\n",
    "\n",
    "pipe = Pipeline([('tfidf', TfidfVectorizer()),\n",
    "                 ('model', LinearSVC())])\n",
    "\n",
    "# Fit the pipeline to the data\n",
    "linear_svc_model = pipe.fit(x_train, y_train)\n",
    "# predict on test dataset\n",
    "prediction = linear_svc_model.predict(x_test)\n",
    "print('Model - Linear SVC')\n",
    "# print accuracy score\n",
    "accuracy_lsvc = print('Accuracy score is {}'.format(accuracy_score(y_test, prediction)))\n",
    "#print confusion matrix\n",
    "print(confusion_matrix(y_test, prediction))\n",
    "#print classification report\n",
    "print(classification_report(y_test, prediction))\n"
   ]
  },
  {
   "cell_type": "markdown",
   "metadata": {
    "id": "ucmhtCoTjf7H"
   },
   "source": [
    "LOGISTIC REGRESSION\n"
   ]
  },
  {
   "cell_type": "code",
   "execution_count": null,
   "metadata": {
    "colab": {
     "base_uri": "https://localhost:8080/"
    },
    "id": "UXsbyfc22sXR",
    "outputId": "6ae0c92b-a9f5-4141-c190-a8685c60e5fc"
   },
   "outputs": [
    {
     "name": "stderr",
     "output_type": "stream",
     "text": [
      "/usr/local/lib/python3.10/dist-packages/sklearn/linear_model/_logistic.py:458: ConvergenceWarning:\n",
      "\n",
      "lbfgs failed to converge (status=1):\n",
      "STOP: TOTAL NO. of ITERATIONS REACHED LIMIT.\n",
      "\n",
      "Increase the number of iterations (max_iter) or scale the data as shown in:\n",
      "    https://scikit-learn.org/stable/modules/preprocessing.html\n",
      "Please also refer to the documentation for alternative solver options:\n",
      "    https://scikit-learn.org/stable/modules/linear_model.html#logistic-regression\n",
      "\n"
     ]
    },
    {
     "name": "stdout",
     "output_type": "stream",
     "text": [
      "Model - logestic regression\n",
      "Accuracy score is 0.8626126126126126\n",
      "[[1134   58  123]\n",
      " [  73  467   95]\n",
      " [  94   45 1463]]\n",
      "              precision    recall  f1-score   support\n",
      "\n",
      "    Negative       0.87      0.86      0.87      1315\n",
      "     Neutral       0.82      0.74      0.78       635\n",
      "    Positive       0.87      0.91      0.89      1602\n",
      "\n",
      "    accuracy                           0.86      3552\n",
      "   macro avg       0.85      0.84      0.84      3552\n",
      "weighted avg       0.86      0.86      0.86      3552\n",
      "\n",
      "CPU times: user 5.61 s, sys: 4.87 s, total: 10.5 s\n",
      "Wall time: 6.82 s\n"
     ]
    }
   ],
   "source": [
    "%%time\n",
    "from sklearn.pipeline import Pipeline\n",
    "from sklearn.feature_extraction.text import TfidfVectorizer\n",
    "from sklearn.feature_extraction.text import CountVectorizer\n",
    "from sklearn.feature_extraction.text import TfidfTransformer\n",
    "from sklearn.linear_model import LogisticRegression\n",
    "from sklearn.metrics import accuracy_score, confusion_matrix, classification_report\n",
    "# pipeline creation\n",
    "# 1. tfidVectorization\n",
    "# 2. LogisticRegression\n",
    "\n",
    "pipe = Pipeline([('tfidf', TfidfVectorizer()),    #('vect', CountVectorizer())\n",
    "                  ('model', LogisticRegression())])\n",
    "\n",
    "# Fit the pipeline to the data\n",
    "logestic_model = pipe.fit(x_train, y_train)\n",
    "# predict on test dataset\n",
    "prediction = logestic_model.predict(x_test)\n",
    "print('Model - logestic regression')\n",
    "# print accuracy score\n",
    "accuracy_logestic = print('Accuracy score is {}'.format(accuracy_score(y_test, prediction)))\n",
    "#print confusion matrix\n",
    "print(confusion_matrix(y_test, prediction))\n",
    "#print classification report\n",
    "print(classification_report(y_test, prediction))"
   ]
  },
  {
   "cell_type": "markdown",
   "metadata": {
    "id": "ozLeBo9qjdNR"
   },
   "source": [
    "MULTINOMIAL NAIVE BAYES\n"
   ]
  },
  {
   "cell_type": "code",
   "execution_count": null,
   "metadata": {
    "colab": {
     "base_uri": "https://localhost:8080/"
    },
    "id": "kxTsmokz2sVw",
    "outputId": "878790e0-b4e8-4857-839d-6da4b3a4d770"
   },
   "outputs": [
    {
     "name": "stdout",
     "output_type": "stream",
     "text": [
      "Model -  multinomial_model\n",
      "Accuracy score is 0.6444256756756757\n",
      "[[ 826    0  489]\n",
      " [ 131   11  493]\n",
      " [ 148    2 1452]]\n",
      "              precision    recall  f1-score   support\n",
      "\n",
      "    Negative       0.75      0.63      0.68      1315\n",
      "     Neutral       0.85      0.02      0.03       635\n",
      "    Positive       0.60      0.91      0.72      1602\n",
      "\n",
      "    accuracy                           0.64      3552\n",
      "   macro avg       0.73      0.52      0.48      3552\n",
      "weighted avg       0.70      0.64      0.58      3552\n",
      "\n",
      "CPU times: user 934 ms, sys: 14 ms, total: 948 ms\n",
      "Wall time: 951 ms\n"
     ]
    }
   ],
   "source": [
    "%%time\n",
    "from sklearn.pipeline import Pipeline\n",
    "from sklearn.feature_extraction.text import TfidfVectorizer\n",
    "from sklearn.feature_extraction.text import CountVectorizer\n",
    "from sklearn.naive_bayes import MultinomialNB\n",
    "from sklearn.metrics import accuracy_score, confusion_matrix, classification_report\n",
    "# pipeline creation\n",
    "# 1. tfidVectorization\n",
    "# 2. multinomialNB\n",
    "\n",
    "pipe = Pipeline([\n",
    "                  ('tfidf', TfidfVectorizer()),   #('vect', CountVectorizer())\n",
    "                  ('model', MultinomialNB())])\n",
    "\n",
    "# Fit the pipeline to the data\n",
    "multinomial_model = pipe.fit(x_train, y_train)\n",
    "# predict on test dataset\n",
    "prediction = multinomial_model.predict(x_test)\n",
    "print('Model -  multinomial_model')\n",
    "# print accuracy score\n",
    "accuracy_multinomial = print('Accuracy score is {}'.format(accuracy_score(y_test, prediction)))\n",
    "#print confusion matrix\n",
    "print(confusion_matrix(y_test, prediction))\n",
    "#print classification report\n",
    "print(classification_report(y_test, prediction))"
   ]
  },
  {
   "cell_type": "markdown",
   "metadata": {
    "id": "91Ms-94_jaKm"
   },
   "source": [
    "BERNOULLI NAIVE BAYES\n"
   ]
  },
  {
   "cell_type": "code",
   "execution_count": null,
   "metadata": {
    "colab": {
     "base_uri": "https://localhost:8080/"
    },
    "id": "Tx_-8y_x2sSO",
    "outputId": "1af7b624-c6a3-426c-e503-7cde657a768b"
   },
   "outputs": [
    {
     "name": "stdout",
     "output_type": "stream",
     "text": [
      "Model -  BernoulliNB_model\n",
      "Accuracy score is 0.6880630630630631\n",
      "[[ 972   12  331]\n",
      " [ 177  139  319]\n",
      " [ 248   21 1333]]\n",
      "              precision    recall  f1-score   support\n",
      "\n",
      "    Negative       0.70      0.74      0.72      1315\n",
      "     Neutral       0.81      0.22      0.34       635\n",
      "    Positive       0.67      0.83      0.74      1602\n",
      "\n",
      "    accuracy                           0.69      3552\n",
      "   macro avg       0.73      0.60      0.60      3552\n",
      "weighted avg       0.71      0.69      0.66      3552\n",
      "\n",
      "CPU times: user 868 ms, sys: 4.97 ms, total: 873 ms\n",
      "Wall time: 876 ms\n"
     ]
    }
   ],
   "source": [
    "%%time\n",
    "from sklearn.pipeline import Pipeline\n",
    "from sklearn.feature_extraction.text import TfidfVectorizer\n",
    "from sklearn.feature_extraction.text import CountVectorizer\n",
    "from sklearn.naive_bayes import BernoulliNB\n",
    "from sklearn.metrics import accuracy_score, confusion_matrix, classification_report\n",
    "# pipeline creation\n",
    "# 1. tfidVectorization\n",
    "# 2. BERNOULLINB\n",
    "\n",
    "pipe = Pipeline([\n",
    "                  ('tfidf', TfidfVectorizer()),   #('vect', CountVectorizer())\n",
    "                  ('model', BernoulliNB())])\n",
    "\n",
    "# Fit the pipeline to the data\n",
    "BernoulliNB_model = pipe.fit(x_train, y_train)\n",
    "# predict on test dataset\n",
    "prediction = BernoulliNB_model.predict(x_test)\n",
    "print('Model -  BernoulliNB_model')\n",
    "# print accuracy score\n",
    "accuracy_bernoulli = print('Accuracy score is {}'.format(accuracy_score(y_test, prediction)))\n",
    "#print confusion matrix\n",
    "print(confusion_matrix(y_test, prediction))\n",
    "#print classification report\n",
    "print(classification_report(y_test, prediction))"
   ]
  },
  {
   "cell_type": "markdown",
   "metadata": {
    "id": "N1OOQeVmjWjx"
   },
   "source": [
    "GRADIENT BOOSTING CLASSIFICATION MODEL\n"
   ]
  },
  {
   "cell_type": "code",
   "execution_count": null,
   "metadata": {
    "colab": {
     "base_uri": "https://localhost:8080/"
    },
    "id": "K_5dgcgS2sQj",
    "outputId": "b17b0562-ebe8-4441-d360-958a9d4f0e11"
   },
   "outputs": [
    {
     "name": "stderr",
     "output_type": "stream",
     "text": [
      "/usr/local/lib/python3.10/dist-packages/sklearn/ensemble/_gb.py:280: FutureWarning:\n",
      "\n",
      "The loss parameter name 'deviance' was deprecated in v1.1 and will be removed in version 1.3. Use the new parameter name 'log_loss' which is equivalent.\n",
      "\n"
     ]
    },
    {
     "name": "stdout",
     "output_type": "stream",
     "text": [
      "Model -  GradientBoostingClassifier_model\n",
      "Accuracy score is 0.45213963963963966\n",
      "[[   8    0 1307]\n",
      " [   0    0  635]\n",
      " [   4    0 1598]]\n",
      "              precision    recall  f1-score   support\n",
      "\n",
      "    Negative       0.67      0.01      0.01      1315\n",
      "     Neutral       0.00      0.00      0.00       635\n",
      "    Positive       0.45      1.00      0.62      1602\n",
      "\n",
      "    accuracy                           0.45      3552\n",
      "   macro avg       0.37      0.33      0.21      3552\n",
      "weighted avg       0.45      0.45      0.28      3552\n",
      "\n",
      "CPU times: user 15.2 s, sys: 23.7 ms, total: 15.3 s\n",
      "Wall time: 15.2 s\n"
     ]
    },
    {
     "name": "stderr",
     "output_type": "stream",
     "text": [
      "/usr/local/lib/python3.10/dist-packages/sklearn/metrics/_classification.py:1344: UndefinedMetricWarning:\n",
      "\n",
      "Precision and F-score are ill-defined and being set to 0.0 in labels with no predicted samples. Use `zero_division` parameter to control this behavior.\n",
      "\n",
      "/usr/local/lib/python3.10/dist-packages/sklearn/metrics/_classification.py:1344: UndefinedMetricWarning:\n",
      "\n",
      "Precision and F-score are ill-defined and being set to 0.0 in labels with no predicted samples. Use `zero_division` parameter to control this behavior.\n",
      "\n",
      "/usr/local/lib/python3.10/dist-packages/sklearn/metrics/_classification.py:1344: UndefinedMetricWarning:\n",
      "\n",
      "Precision and F-score are ill-defined and being set to 0.0 in labels with no predicted samples. Use `zero_division` parameter to control this behavior.\n",
      "\n"
     ]
    }
   ],
   "source": [
    "%%time\n",
    "from sklearn.pipeline import Pipeline\n",
    "from sklearn.feature_extraction.text import TfidfVectorizer\n",
    "from sklearn.feature_extraction.text import CountVectorizer\n",
    "from sklearn.ensemble import GradientBoostingClassifier\n",
    "from sklearn.metrics import accuracy_score, confusion_matrix, classification_report\n",
    "# pipeline creation\n",
    "# 1. tfidVectorization\n",
    "# 2. GradientBoostingClassifier\n",
    "\n",
    "pipe = Pipeline([\n",
    "                  ('tfidf', TfidfVectorizer()),   #('vect', CountVectorizer())\n",
    "                  ('model', GradientBoostingClassifier(loss='deviance',\n",
    "                                              learning_rate=0.01,\n",
    "                                              n_estimators=10,\n",
    "                                              max_depth = 5,\n",
    "                                              random_state=55))])\n",
    "\n",
    "# Fit the pipeline to the data\n",
    "GradientBoostingClassifier_model = pipe.fit(x_train, y_train)\n",
    "# predict on test dataset\n",
    "prediction = GradientBoostingClassifier_model.predict(x_test)\n",
    "print('Model -  GradientBoostingClassifier_model')\n",
    "# print accuracy score\n",
    "accuracy_GradientBoostingClassifier_model = print('Accuracy score is {}'.format(accuracy_score(y_test, prediction)))\n",
    "#print confusion matrix\n",
    "print(confusion_matrix(y_test, prediction))\n",
    "#print classification report\n",
    "print(classification_report(y_test, prediction))"
   ]
  },
  {
   "cell_type": "markdown",
   "metadata": {
    "id": "z7l-VmXKjTJP"
   },
   "source": [
    "XGBOOST CLASSIFICATION MODEL\n"
   ]
  },
  {
   "cell_type": "code",
   "execution_count": null,
   "metadata": {
    "id": "6koZzsSv2sM7"
   },
   "outputs": [],
   "source": [
    "# %%time\n",
    "# #XGB Classifier expects numarical data in y_train\n",
    "# from sklearn.pipeline import Pipeline\n",
    "# from sklearn.feature_extraction.text import TfidfVectorizer\n",
    "# from sklearn.feature_extraction.text import CountVectorizer\n",
    "# from xgboost import XGBClassifier\n",
    "# from sklearn.metrics import accuracy_score, confusion_matrix, classification_report\n",
    "# # pipeline creation\n",
    "# # 1. tfidVectorization\n",
    "# # 2. xgboost\n",
    "\n",
    "\n",
    "# pipe = Pipeline([\n",
    "#                   ('tfidf', TfidfVectorizer()),   #('vect', CountVectorizer())\n",
    "#                   ('model', XGBClassifier())])\n",
    "\n",
    "# # Fit the pipeline to the data\n",
    "# XGBClassifier_model = pipe.fit(x_train, y_train)\n",
    "# # predict on test dataset\n",
    "# prediction = XGBClassifier_model.predict(x_test)\n",
    "# print('Model -  XGBClassifier_model')\n",
    "# # print accuracy score\n",
    "# accuracy_XGBClassifier_model = print('Accuracy score is {}'.format(accuracy_score(y_test, prediction)))\n",
    "# #print confusion matrix\n",
    "# print(confusion_matrix(y_test, prediction))\n",
    "# #print classification report\n",
    "# print(classification_report(y_test, prediction))"
   ]
  },
  {
   "cell_type": "markdown",
   "metadata": {
    "id": "2SBHJMuyjPmm"
   },
   "source": [
    "DECISION TREE CLASSIFICATION MODEL\n"
   ]
  },
  {
   "cell_type": "code",
   "execution_count": null,
   "metadata": {
    "colab": {
     "base_uri": "https://localhost:8080/"
    },
    "id": "EwiF9Pwj2sLZ",
    "outputId": "b3b3488e-2e62-4ce5-f52d-89db99a285b9"
   },
   "outputs": [
    {
     "name": "stdout",
     "output_type": "stream",
     "text": [
      "Model -  DecisionTreeClassifier_model\n",
      "Accuracy score is 0.8414977477477478\n",
      "[[1039   30  246]\n",
      " [  12  615    8]\n",
      " [ 242   25 1335]]\n",
      "              precision    recall  f1-score   support\n",
      "\n",
      "    Negative       0.80      0.79      0.80      1315\n",
      "     Neutral       0.92      0.97      0.94       635\n",
      "    Positive       0.84      0.83      0.84      1602\n",
      "\n",
      "    accuracy                           0.84      3552\n",
      "   macro avg       0.85      0.86      0.86      3552\n",
      "weighted avg       0.84      0.84      0.84      3552\n",
      "\n",
      "CPU times: user 18.6 s, sys: 29.9 ms, total: 18.7 s\n",
      "Wall time: 18.7 s\n"
     ]
    }
   ],
   "source": [
    "%%time\n",
    "from sklearn.pipeline import Pipeline\n",
    "from sklearn.feature_extraction.text import TfidfVectorizer\n",
    "from sklearn.feature_extraction.text import CountVectorizer\n",
    "from sklearn.tree import DecisionTreeClassifier\n",
    "from sklearn.metrics import accuracy_score, confusion_matrix, classification_report\n",
    "# pipeline creation\n",
    "# 1. tfidVectorization\n",
    "# 2. DecisionTreeClassifier\n",
    "\n",
    "pipe = Pipeline([\n",
    "                  ('tfidf', TfidfVectorizer()),   #('vect', CountVectorizer())\n",
    "                  ('model', DecisionTreeClassifier())])\n",
    "\n",
    "# Fit the pipeline to the data\n",
    "DecisionTreeClassifier_model = pipe.fit(x_train, y_train)\n",
    "# predict on test dataset\n",
    "prediction = DecisionTreeClassifier_model.predict(x_test)\n",
    "print('Model -  DecisionTreeClassifier_model')\n",
    "# print accuracy score\n",
    "accuracy_DecisionTreeClassifier_model = print('Accuracy score is {}'.format(accuracy_score(y_test, prediction)))\n",
    "#print confusion matrix\n",
    "print(confusion_matrix(y_test, prediction))\n",
    "#print classification report\n",
    "print(classification_report(y_test, prediction))"
   ]
  },
  {
   "cell_type": "markdown",
   "metadata": {
    "id": "IPUcodK0jLVr"
   },
   "source": [
    "K- NEAREST NEIGHBOUR CLASSIFIER MODEL\n"
   ]
  },
  {
   "cell_type": "code",
   "execution_count": null,
   "metadata": {
    "colab": {
     "base_uri": "https://localhost:8080/"
    },
    "id": "_8XjVbty2sIL",
    "outputId": "801d1149-b8a8-40cc-ad72-56c5cad89c6f"
   },
   "outputs": [
    {
     "name": "stdout",
     "output_type": "stream",
     "text": [
      "Model -  KNeighborsClassifier_model\n",
      "Accuracy score is 0.567286036036036\n",
      "[[887 118 310]\n",
      " [220 185 230]\n",
      " [456 203 943]]\n",
      "              precision    recall  f1-score   support\n",
      "\n",
      "    Negative       0.57      0.67      0.62      1315\n",
      "     Neutral       0.37      0.29      0.32       635\n",
      "    Positive       0.64      0.59      0.61      1602\n",
      "\n",
      "    accuracy                           0.57      3552\n",
      "   macro avg       0.52      0.52      0.52      3552\n",
      "weighted avg       0.56      0.57      0.56      3552\n",
      "\n",
      "CPU times: user 1min 46s, sys: 71.7 ms, total: 1min 46s\n",
      "Wall time: 59 s\n"
     ]
    }
   ],
   "source": [
    "%%time\n",
    "from sklearn.pipeline import Pipeline\n",
    "from sklearn.feature_extraction.text import TfidfVectorizer\n",
    "from sklearn.feature_extraction.text import CountVectorizer\n",
    "from sklearn.neighbors import KNeighborsClassifier\n",
    "from sklearn.metrics import accuracy_score, confusion_matrix, classification_report\n",
    "# pipeline creation\n",
    "# 1. tfidVectorization\n",
    "# 2. KNeighborsClassifier\n",
    "\n",
    "pipe = Pipeline([\n",
    "                  ('tfidf', TfidfVectorizer()),   #('vect', CountVectorizer())\n",
    "                  ('model', KNeighborsClassifier())])\n",
    "\n",
    "# Fit the pipeline to the data\n",
    "KNeighborsClassifier_model = pipe.fit(x_train, y_train)\n",
    "# predict on test dataset\n",
    "prediction = KNeighborsClassifier_model.predict(x_test)\n",
    "print('Model -  KNeighborsClassifier_model')\n",
    "# print accuracy score\n",
    "accuracy_KNeighborsClassifier_model = print('Accuracy score is {}'.format(accuracy_score(y_test, prediction)))\n",
    "#print confusion matrix\n",
    "print(confusion_matrix(y_test, prediction))\n",
    "#print classification report\n",
    "print(classification_report(y_test, prediction))"
   ]
  },
  {
   "cell_type": "code",
   "execution_count": null,
   "metadata": {
    "id": "yCooDdQ7yFdC"
   },
   "outputs": [],
   "source": [
    "# helper function for comparing models matric\n",
    "def comparing_models(models, names, x_train, y_train, x_test, y_test):\n",
    "\n",
    "    # the libraries we need\n",
    "    from sklearn.metrics import accuracy_score, classification_report\n",
    "    from sklearn.model_selection import train_test_split\n",
    "\n",
    "    # create a dataframe with column matric and metric name as value\n",
    "    for model, name in zip(models, names):\n",
    "      print(name)\n",
    "      # then predict on the test set\n",
    "      y_pred = model.predict(x_test)\n",
    "      print(accuracy_score(y_test, y_pred))\n",
    "      res = classification_report(y_test, y_pred)\n",
    "      print('Classification report:', res)\n",
    "      print(25*'---')\n"
   ]
  },
  {
   "cell_type": "code",
   "execution_count": null,
   "metadata": {
    "colab": {
     "base_uri": "https://localhost:8080/"
    },
    "id": "CQyOqutpyFYS",
    "outputId": "64dcef8f-4038-4ebf-f1ae-ffbc13f158a5"
   },
   "outputs": [
    {
     "name": "stdout",
     "output_type": "stream",
     "text": [
      "linear_svc\n",
      "0.9009009009009009\n",
      "Classification report:               precision    recall  f1-score   support\n",
      "\n",
      "    Negative       0.91      0.90      0.91      1315\n",
      "     Neutral       0.84      0.85      0.85       635\n",
      "    Positive       0.91      0.92      0.92      1602\n",
      "\n",
      "    accuracy                           0.90      3552\n",
      "   macro avg       0.89      0.89      0.89      3552\n",
      "weighted avg       0.90      0.90      0.90      3552\n",
      "\n",
      "---------------------------------------------------------------------------\n",
      "logestic_model\n",
      "0.8626126126126126\n",
      "Classification report:               precision    recall  f1-score   support\n",
      "\n",
      "    Negative       0.87      0.86      0.87      1315\n",
      "     Neutral       0.82      0.74      0.78       635\n",
      "    Positive       0.87      0.91      0.89      1602\n",
      "\n",
      "    accuracy                           0.86      3552\n",
      "   macro avg       0.85      0.84      0.84      3552\n",
      "weighted avg       0.86      0.86      0.86      3552\n",
      "\n",
      "---------------------------------------------------------------------------\n",
      "multinomial_NB\n",
      "0.6444256756756757\n",
      "Classification report:               precision    recall  f1-score   support\n",
      "\n",
      "    Negative       0.75      0.63      0.68      1315\n",
      "     Neutral       0.85      0.02      0.03       635\n",
      "    Positive       0.60      0.91      0.72      1602\n",
      "\n",
      "    accuracy                           0.64      3552\n",
      "   macro avg       0.73      0.52      0.48      3552\n",
      "weighted avg       0.70      0.64      0.58      3552\n",
      "\n",
      "---------------------------------------------------------------------------\n",
      "BernoulliNB\n",
      "0.6880630630630631\n",
      "Classification report:               precision    recall  f1-score   support\n",
      "\n",
      "    Negative       0.70      0.74      0.72      1315\n",
      "     Neutral       0.81      0.22      0.34       635\n",
      "    Positive       0.67      0.83      0.74      1602\n",
      "\n",
      "    accuracy                           0.69      3552\n",
      "   macro avg       0.73      0.60      0.60      3552\n",
      "weighted avg       0.71      0.69      0.66      3552\n",
      "\n",
      "---------------------------------------------------------------------------\n",
      "GradientBoostingClassifier\n",
      "0.45213963963963966\n",
      "Classification report:               precision    recall  f1-score   support\n",
      "\n",
      "    Negative       0.67      0.01      0.01      1315\n",
      "     Neutral       0.00      0.00      0.00       635\n",
      "    Positive       0.45      1.00      0.62      1602\n",
      "\n",
      "    accuracy                           0.45      3552\n",
      "   macro avg       0.37      0.33      0.21      3552\n",
      "weighted avg       0.45      0.45      0.28      3552\n",
      "\n",
      "---------------------------------------------------------------------------\n",
      "DecisionTreeClassifier\n",
      "0.8414977477477478\n",
      "Classification report:               precision    recall  f1-score   support\n",
      "\n",
      "    Negative       0.80      0.79      0.80      1315\n",
      "     Neutral       0.92      0.97      0.94       635\n",
      "    Positive       0.84      0.83      0.84      1602\n",
      "\n",
      "    accuracy                           0.84      3552\n",
      "   macro avg       0.85      0.86      0.86      3552\n",
      "weighted avg       0.84      0.84      0.84      3552\n",
      "\n",
      "---------------------------------------------------------------------------\n",
      "KNeighborsClassifier\n"
     ]
    },
    {
     "name": "stderr",
     "output_type": "stream",
     "text": [
      "/usr/local/lib/python3.10/dist-packages/sklearn/metrics/_classification.py:1344: UndefinedMetricWarning:\n",
      "\n",
      "Precision and F-score are ill-defined and being set to 0.0 in labels with no predicted samples. Use `zero_division` parameter to control this behavior.\n",
      "\n",
      "/usr/local/lib/python3.10/dist-packages/sklearn/metrics/_classification.py:1344: UndefinedMetricWarning:\n",
      "\n",
      "Precision and F-score are ill-defined and being set to 0.0 in labels with no predicted samples. Use `zero_division` parameter to control this behavior.\n",
      "\n",
      "/usr/local/lib/python3.10/dist-packages/sklearn/metrics/_classification.py:1344: UndefinedMetricWarning:\n",
      "\n",
      "Precision and F-score are ill-defined and being set to 0.0 in labels with no predicted samples. Use `zero_division` parameter to control this behavior.\n",
      "\n"
     ]
    },
    {
     "name": "stdout",
     "output_type": "stream",
     "text": [
      "0.567286036036036\n",
      "Classification report:               precision    recall  f1-score   support\n",
      "\n",
      "    Negative       0.57      0.67      0.62      1315\n",
      "     Neutral       0.37      0.29      0.32       635\n",
      "    Positive       0.64      0.59      0.61      1602\n",
      "\n",
      "    accuracy                           0.57      3552\n",
      "   macro avg       0.52      0.52      0.52      3552\n",
      "weighted avg       0.56      0.57      0.56      3552\n",
      "\n",
      "---------------------------------------------------------------------------\n"
     ]
    }
   ],
   "source": [
    "# list of model objects\n",
    "models = [linear_svc_model, logestic_model, multinomial_model, BernoulliNB_model, GradientBoostingClassifier_model, DecisionTreeClassifier_model, KNeighborsClassifier_model]\n",
    "# list of model names\n",
    "names = ['linear_svc', 'logestic_model', 'multinomial_NB', 'BernoulliNB', 'GradientBoostingClassifier', 'DecisionTreeClassifier', 'KNeighborsClassifier']\n",
    "# print the comparison of models\n",
    "comparing_models(models, names, x_train, y_train, x_test, y_test)\n"
   ]
  },
  {
   "cell_type": "markdown",
   "metadata": {
    "id": "urk4DVzslAXB"
   },
   "source": [
    "# working with test data"
   ]
  },
  {
   "cell_type": "code",
   "execution_count": null,
   "metadata": {
    "id": "T7HvvBOW2sGj"
   },
   "outputs": [],
   "source": [
    "# Perforn the prediction on the test dataset\n",
    "predcition = linear_svc_model.predict(x_test)"
   ]
  },
  {
   "cell_type": "code",
   "execution_count": null,
   "metadata": {
    "colab": {
     "base_uri": "https://localhost:8080/",
     "height": 423
    },
    "id": "pOKTBCnPlD5J",
    "outputId": "b04d7058-87b3-44d1-b39d-4c4a7d250b56"
   },
   "outputs": [
    {
     "data": {
      "text/html": [
       "\n",
       "\n",
       "  <div id=\"df-7d952d65-2167-486d-82ec-a6d85013d12b\">\n",
       "    <div class=\"colab-df-container\">\n",
       "      <div>\n",
       "<style scoped>\n",
       "    .dataframe tbody tr th:only-of-type {\n",
       "        vertical-align: middle;\n",
       "    }\n",
       "\n",
       "    .dataframe tbody tr th {\n",
       "        vertical-align: top;\n",
       "    }\n",
       "\n",
       "    .dataframe thead th {\n",
       "        text-align: right;\n",
       "    }\n",
       "</style>\n",
       "<table border=\"1\" class=\"dataframe\">\n",
       "  <thead>\n",
       "    <tr style=\"text-align: right;\">\n",
       "      <th></th>\n",
       "      <th>0</th>\n",
       "    </tr>\n",
       "  </thead>\n",
       "  <tbody>\n",
       "    <tr>\n",
       "      <th>0</th>\n",
       "      <td>Negative</td>\n",
       "    </tr>\n",
       "    <tr>\n",
       "      <th>1</th>\n",
       "      <td>Negative</td>\n",
       "    </tr>\n",
       "    <tr>\n",
       "      <th>2</th>\n",
       "      <td>Positive</td>\n",
       "    </tr>\n",
       "    <tr>\n",
       "      <th>3</th>\n",
       "      <td>Positive</td>\n",
       "    </tr>\n",
       "    <tr>\n",
       "      <th>4</th>\n",
       "      <td>Negative</td>\n",
       "    </tr>\n",
       "    <tr>\n",
       "      <th>...</th>\n",
       "      <td>...</td>\n",
       "    </tr>\n",
       "    <tr>\n",
       "      <th>3547</th>\n",
       "      <td>Negative</td>\n",
       "    </tr>\n",
       "    <tr>\n",
       "      <th>3548</th>\n",
       "      <td>Positive</td>\n",
       "    </tr>\n",
       "    <tr>\n",
       "      <th>3549</th>\n",
       "      <td>Positive</td>\n",
       "    </tr>\n",
       "    <tr>\n",
       "      <th>3550</th>\n",
       "      <td>Positive</td>\n",
       "    </tr>\n",
       "    <tr>\n",
       "      <th>3551</th>\n",
       "      <td>Positive</td>\n",
       "    </tr>\n",
       "  </tbody>\n",
       "</table>\n",
       "<p>3552 rows × 1 columns</p>\n",
       "</div>\n",
       "      <button class=\"colab-df-convert\" onclick=\"convertToInteractive('df-7d952d65-2167-486d-82ec-a6d85013d12b')\"\n",
       "              title=\"Convert this dataframe to an interactive table.\"\n",
       "              style=\"display:none;\">\n",
       "\n",
       "  <svg xmlns=\"http://www.w3.org/2000/svg\" height=\"24px\"viewBox=\"0 0 24 24\"\n",
       "       width=\"24px\">\n",
       "    <path d=\"M0 0h24v24H0V0z\" fill=\"none\"/>\n",
       "    <path d=\"M18.56 5.44l.94 2.06.94-2.06 2.06-.94-2.06-.94-.94-2.06-.94 2.06-2.06.94zm-11 1L8.5 8.5l.94-2.06 2.06-.94-2.06-.94L8.5 2.5l-.94 2.06-2.06.94zm10 10l.94 2.06.94-2.06 2.06-.94-2.06-.94-.94-2.06-.94 2.06-2.06.94z\"/><path d=\"M17.41 7.96l-1.37-1.37c-.4-.4-.92-.59-1.43-.59-.52 0-1.04.2-1.43.59L10.3 9.45l-7.72 7.72c-.78.78-.78 2.05 0 2.83L4 21.41c.39.39.9.59 1.41.59.51 0 1.02-.2 1.41-.59l7.78-7.78 2.81-2.81c.8-.78.8-2.07 0-2.86zM5.41 20L4 18.59l7.72-7.72 1.47 1.35L5.41 20z\"/>\n",
       "  </svg>\n",
       "      </button>\n",
       "\n",
       "\n",
       "\n",
       "    <div id=\"df-30c198c1-659e-4468-8f3d-95a28f958ff2\">\n",
       "      <button class=\"colab-df-quickchart\" onclick=\"quickchart('df-30c198c1-659e-4468-8f3d-95a28f958ff2')\"\n",
       "              title=\"Suggest charts.\"\n",
       "              style=\"display:none;\">\n",
       "\n",
       "<svg xmlns=\"http://www.w3.org/2000/svg\" height=\"24px\"viewBox=\"0 0 24 24\"\n",
       "     width=\"24px\">\n",
       "    <g>\n",
       "        <path d=\"M19 3H5c-1.1 0-2 .9-2 2v14c0 1.1.9 2 2 2h14c1.1 0 2-.9 2-2V5c0-1.1-.9-2-2-2zM9 17H7v-7h2v7zm4 0h-2V7h2v10zm4 0h-2v-4h2v4z\"/>\n",
       "    </g>\n",
       "</svg>\n",
       "      </button>\n",
       "    </div>\n",
       "\n",
       "<style>\n",
       "  .colab-df-quickchart {\n",
       "    background-color: #E8F0FE;\n",
       "    border: none;\n",
       "    border-radius: 50%;\n",
       "    cursor: pointer;\n",
       "    display: none;\n",
       "    fill: #1967D2;\n",
       "    height: 32px;\n",
       "    padding: 0 0 0 0;\n",
       "    width: 32px;\n",
       "  }\n",
       "\n",
       "  .colab-df-quickchart:hover {\n",
       "    background-color: #E2EBFA;\n",
       "    box-shadow: 0px 1px 2px rgba(60, 64, 67, 0.3), 0px 1px 3px 1px rgba(60, 64, 67, 0.15);\n",
       "    fill: #174EA6;\n",
       "  }\n",
       "\n",
       "  [theme=dark] .colab-df-quickchart {\n",
       "    background-color: #3B4455;\n",
       "    fill: #D2E3FC;\n",
       "  }\n",
       "\n",
       "  [theme=dark] .colab-df-quickchart:hover {\n",
       "    background-color: #434B5C;\n",
       "    box-shadow: 0px 1px 3px 1px rgba(0, 0, 0, 0.15);\n",
       "    filter: drop-shadow(0px 1px 2px rgba(0, 0, 0, 0.3));\n",
       "    fill: #FFFFFF;\n",
       "  }\n",
       "</style>\n",
       "\n",
       "    <script>\n",
       "      async function quickchart(key) {\n",
       "        const containerElement = document.querySelector('#' + key);\n",
       "        const charts = await google.colab.kernel.invokeFunction(\n",
       "            'suggestCharts', [key], {});\n",
       "      }\n",
       "    </script>\n",
       "\n",
       "      <script>\n",
       "\n",
       "function displayQuickchartButton(domScope) {\n",
       "  let quickchartButtonEl =\n",
       "    domScope.querySelector('#df-30c198c1-659e-4468-8f3d-95a28f958ff2 button.colab-df-quickchart');\n",
       "  quickchartButtonEl.style.display =\n",
       "    google.colab.kernel.accessAllowed ? 'block' : 'none';\n",
       "}\n",
       "\n",
       "        displayQuickchartButton(document);\n",
       "      </script>\n",
       "      <style>\n",
       "    .colab-df-container {\n",
       "      display:flex;\n",
       "      flex-wrap:wrap;\n",
       "      gap: 12px;\n",
       "    }\n",
       "\n",
       "    .colab-df-convert {\n",
       "      background-color: #E8F0FE;\n",
       "      border: none;\n",
       "      border-radius: 50%;\n",
       "      cursor: pointer;\n",
       "      display: none;\n",
       "      fill: #1967D2;\n",
       "      height: 32px;\n",
       "      padding: 0 0 0 0;\n",
       "      width: 32px;\n",
       "    }\n",
       "\n",
       "    .colab-df-convert:hover {\n",
       "      background-color: #E2EBFA;\n",
       "      box-shadow: 0px 1px 2px rgba(60, 64, 67, 0.3), 0px 1px 3px 1px rgba(60, 64, 67, 0.15);\n",
       "      fill: #174EA6;\n",
       "    }\n",
       "\n",
       "    [theme=dark] .colab-df-convert {\n",
       "      background-color: #3B4455;\n",
       "      fill: #D2E3FC;\n",
       "    }\n",
       "\n",
       "    [theme=dark] .colab-df-convert:hover {\n",
       "      background-color: #434B5C;\n",
       "      box-shadow: 0px 1px 3px 1px rgba(0, 0, 0, 0.15);\n",
       "      filter: drop-shadow(0px 1px 2px rgba(0, 0, 0, 0.3));\n",
       "      fill: #FFFFFF;\n",
       "    }\n",
       "  </style>\n",
       "\n",
       "      <script>\n",
       "        const buttonEl =\n",
       "          document.querySelector('#df-7d952d65-2167-486d-82ec-a6d85013d12b button.colab-df-convert');\n",
       "        buttonEl.style.display =\n",
       "          google.colab.kernel.accessAllowed ? 'block' : 'none';\n",
       "\n",
       "        async function convertToInteractive(key) {\n",
       "          const element = document.querySelector('#df-7d952d65-2167-486d-82ec-a6d85013d12b');\n",
       "          const dataTable =\n",
       "            await google.colab.kernel.invokeFunction('convertToInteractive',\n",
       "                                                     [key], {});\n",
       "          if (!dataTable) return;\n",
       "\n",
       "          const docLinkHtml = 'Like what you see? Visit the ' +\n",
       "            '<a target=\"_blank\" href=https://colab.research.google.com/notebooks/data_table.ipynb>data table notebook</a>'\n",
       "            + ' to learn more about interactive tables.';\n",
       "          element.innerHTML = '';\n",
       "          dataTable['output_type'] = 'display_data';\n",
       "          await google.colab.output.renderOutput(dataTable, element);\n",
       "          const docLink = document.createElement('div');\n",
       "          docLink.innerHTML = docLinkHtml;\n",
       "          element.appendChild(docLink);\n",
       "        }\n",
       "      </script>\n",
       "    </div>\n",
       "  </div>\n"
      ],
      "text/plain": [
       "             0\n",
       "0     Negative\n",
       "1     Negative\n",
       "2     Positive\n",
       "3     Positive\n",
       "4     Negative\n",
       "...        ...\n",
       "3547  Negative\n",
       "3548  Positive\n",
       "3549  Positive\n",
       "3550  Positive\n",
       "3551  Positive\n",
       "\n",
       "[3552 rows x 1 columns]"
      ]
     },
     "execution_count": 87,
     "metadata": {},
     "output_type": "execute_result"
    }
   ],
   "source": [
    "# creating a dataframe of predicted results\n",
    "predicted_result = pd.DataFrame(predcition)\n",
    "predicted_result"
   ]
  },
  {
   "cell_type": "code",
   "execution_count": null,
   "metadata": {
    "id": "XhfTaQoflEwZ"
   },
   "outputs": [],
   "source": []
  },
  {
   "cell_type": "markdown",
   "metadata": {
    "id": "VOS21GT-gOzH"
   },
   "source": [
    "# now working on headlines"
   ]
  },
  {
   "cell_type": "code",
   "execution_count": null,
   "metadata": {
    "colab": {
     "base_uri": "https://localhost:8080/",
     "height": 191
    },
    "id": "Zq1j4aQorr7e",
    "outputId": "686f8915-a8f6-4a37-df72-758e5f7cbc12"
   },
   "outputs": [
    {
     "data": {
      "text/html": [
       "\n",
       "\n",
       "  <div id=\"df-878b8956-2ad3-44ef-b32d-a3a0d4d66173\">\n",
       "    <div class=\"colab-df-container\">\n",
       "      <div>\n",
       "<style scoped>\n",
       "    .dataframe tbody tr th:only-of-type {\n",
       "        vertical-align: middle;\n",
       "    }\n",
       "\n",
       "    .dataframe tbody tr th {\n",
       "        vertical-align: top;\n",
       "    }\n",
       "\n",
       "    .dataframe thead th {\n",
       "        text-align: right;\n",
       "    }\n",
       "</style>\n",
       "<table border=\"1\" class=\"dataframe\">\n",
       "  <thead>\n",
       "    <tr style=\"text-align: right;\">\n",
       "      <th></th>\n",
       "      <th>Headlines</th>\n",
       "      <th>Time</th>\n",
       "      <th>Description</th>\n",
       "      <th>ds_score</th>\n",
       "      <th>info</th>\n",
       "    </tr>\n",
       "  </thead>\n",
       "  <tbody>\n",
       "    <tr>\n",
       "      <th>0</th>\n",
       "      <td>Jim Cramer: A better way to invest in the Covi...</td>\n",
       "      <td>7:51  PM ET Fri, 17 July 2020</td>\n",
       "      <td>mad money host jim cramer recommend buy four c...</td>\n",
       "      <td>Positive</td>\n",
       "      <td>Jim Cramer: A better way to invest in the Covi...</td>\n",
       "    </tr>\n",
       "    <tr>\n",
       "      <th>1</th>\n",
       "      <td>Cramer's lightning round: I would own Teradyne</td>\n",
       "      <td>7:33  PM ET Fri, 17 July 2020</td>\n",
       "      <td>mad money host jim cramer ring lightn round be...</td>\n",
       "      <td>Negative</td>\n",
       "      <td>Cramer's lightning round: I would own Teradyne...</td>\n",
       "    </tr>\n",
       "  </tbody>\n",
       "</table>\n",
       "</div>\n",
       "      <button class=\"colab-df-convert\" onclick=\"convertToInteractive('df-878b8956-2ad3-44ef-b32d-a3a0d4d66173')\"\n",
       "              title=\"Convert this dataframe to an interactive table.\"\n",
       "              style=\"display:none;\">\n",
       "\n",
       "  <svg xmlns=\"http://www.w3.org/2000/svg\" height=\"24px\"viewBox=\"0 0 24 24\"\n",
       "       width=\"24px\">\n",
       "    <path d=\"M0 0h24v24H0V0z\" fill=\"none\"/>\n",
       "    <path d=\"M18.56 5.44l.94 2.06.94-2.06 2.06-.94-2.06-.94-.94-2.06-.94 2.06-2.06.94zm-11 1L8.5 8.5l.94-2.06 2.06-.94-2.06-.94L8.5 2.5l-.94 2.06-2.06.94zm10 10l.94 2.06.94-2.06 2.06-.94-2.06-.94-.94-2.06-.94 2.06-2.06.94z\"/><path d=\"M17.41 7.96l-1.37-1.37c-.4-.4-.92-.59-1.43-.59-.52 0-1.04.2-1.43.59L10.3 9.45l-7.72 7.72c-.78.78-.78 2.05 0 2.83L4 21.41c.39.39.9.59 1.41.59.51 0 1.02-.2 1.41-.59l7.78-7.78 2.81-2.81c.8-.78.8-2.07 0-2.86zM5.41 20L4 18.59l7.72-7.72 1.47 1.35L5.41 20z\"/>\n",
       "  </svg>\n",
       "      </button>\n",
       "\n",
       "\n",
       "\n",
       "    <div id=\"df-1dbbbbd8-de09-4221-90a4-76fc1c9bdeee\">\n",
       "      <button class=\"colab-df-quickchart\" onclick=\"quickchart('df-1dbbbbd8-de09-4221-90a4-76fc1c9bdeee')\"\n",
       "              title=\"Suggest charts.\"\n",
       "              style=\"display:none;\">\n",
       "\n",
       "<svg xmlns=\"http://www.w3.org/2000/svg\" height=\"24px\"viewBox=\"0 0 24 24\"\n",
       "     width=\"24px\">\n",
       "    <g>\n",
       "        <path d=\"M19 3H5c-1.1 0-2 .9-2 2v14c0 1.1.9 2 2 2h14c1.1 0 2-.9 2-2V5c0-1.1-.9-2-2-2zM9 17H7v-7h2v7zm4 0h-2V7h2v10zm4 0h-2v-4h2v4z\"/>\n",
       "    </g>\n",
       "</svg>\n",
       "      </button>\n",
       "    </div>\n",
       "\n",
       "<style>\n",
       "  .colab-df-quickchart {\n",
       "    background-color: #E8F0FE;\n",
       "    border: none;\n",
       "    border-radius: 50%;\n",
       "    cursor: pointer;\n",
       "    display: none;\n",
       "    fill: #1967D2;\n",
       "    height: 32px;\n",
       "    padding: 0 0 0 0;\n",
       "    width: 32px;\n",
       "  }\n",
       "\n",
       "  .colab-df-quickchart:hover {\n",
       "    background-color: #E2EBFA;\n",
       "    box-shadow: 0px 1px 2px rgba(60, 64, 67, 0.3), 0px 1px 3px 1px rgba(60, 64, 67, 0.15);\n",
       "    fill: #174EA6;\n",
       "  }\n",
       "\n",
       "  [theme=dark] .colab-df-quickchart {\n",
       "    background-color: #3B4455;\n",
       "    fill: #D2E3FC;\n",
       "  }\n",
       "\n",
       "  [theme=dark] .colab-df-quickchart:hover {\n",
       "    background-color: #434B5C;\n",
       "    box-shadow: 0px 1px 3px 1px rgba(0, 0, 0, 0.15);\n",
       "    filter: drop-shadow(0px 1px 2px rgba(0, 0, 0, 0.3));\n",
       "    fill: #FFFFFF;\n",
       "  }\n",
       "</style>\n",
       "\n",
       "    <script>\n",
       "      async function quickchart(key) {\n",
       "        const containerElement = document.querySelector('#' + key);\n",
       "        const charts = await google.colab.kernel.invokeFunction(\n",
       "            'suggestCharts', [key], {});\n",
       "      }\n",
       "    </script>\n",
       "\n",
       "      <script>\n",
       "\n",
       "function displayQuickchartButton(domScope) {\n",
       "  let quickchartButtonEl =\n",
       "    domScope.querySelector('#df-1dbbbbd8-de09-4221-90a4-76fc1c9bdeee button.colab-df-quickchart');\n",
       "  quickchartButtonEl.style.display =\n",
       "    google.colab.kernel.accessAllowed ? 'block' : 'none';\n",
       "}\n",
       "\n",
       "        displayQuickchartButton(document);\n",
       "      </script>\n",
       "      <style>\n",
       "    .colab-df-container {\n",
       "      display:flex;\n",
       "      flex-wrap:wrap;\n",
       "      gap: 12px;\n",
       "    }\n",
       "\n",
       "    .colab-df-convert {\n",
       "      background-color: #E8F0FE;\n",
       "      border: none;\n",
       "      border-radius: 50%;\n",
       "      cursor: pointer;\n",
       "      display: none;\n",
       "      fill: #1967D2;\n",
       "      height: 32px;\n",
       "      padding: 0 0 0 0;\n",
       "      width: 32px;\n",
       "    }\n",
       "\n",
       "    .colab-df-convert:hover {\n",
       "      background-color: #E2EBFA;\n",
       "      box-shadow: 0px 1px 2px rgba(60, 64, 67, 0.3), 0px 1px 3px 1px rgba(60, 64, 67, 0.15);\n",
       "      fill: #174EA6;\n",
       "    }\n",
       "\n",
       "    [theme=dark] .colab-df-convert {\n",
       "      background-color: #3B4455;\n",
       "      fill: #D2E3FC;\n",
       "    }\n",
       "\n",
       "    [theme=dark] .colab-df-convert:hover {\n",
       "      background-color: #434B5C;\n",
       "      box-shadow: 0px 1px 3px 1px rgba(0, 0, 0, 0.15);\n",
       "      filter: drop-shadow(0px 1px 2px rgba(0, 0, 0, 0.3));\n",
       "      fill: #FFFFFF;\n",
       "    }\n",
       "  </style>\n",
       "\n",
       "      <script>\n",
       "        const buttonEl =\n",
       "          document.querySelector('#df-878b8956-2ad3-44ef-b32d-a3a0d4d66173 button.colab-df-convert');\n",
       "        buttonEl.style.display =\n",
       "          google.colab.kernel.accessAllowed ? 'block' : 'none';\n",
       "\n",
       "        async function convertToInteractive(key) {\n",
       "          const element = document.querySelector('#df-878b8956-2ad3-44ef-b32d-a3a0d4d66173');\n",
       "          const dataTable =\n",
       "            await google.colab.kernel.invokeFunction('convertToInteractive',\n",
       "                                                     [key], {});\n",
       "          if (!dataTable) return;\n",
       "\n",
       "          const docLinkHtml = 'Like what you see? Visit the ' +\n",
       "            '<a target=\"_blank\" href=https://colab.research.google.com/notebooks/data_table.ipynb>data table notebook</a>'\n",
       "            + ' to learn more about interactive tables.';\n",
       "          element.innerHTML = '';\n",
       "          dataTable['output_type'] = 'display_data';\n",
       "          await google.colab.output.renderOutput(dataTable, element);\n",
       "          const docLink = document.createElement('div');\n",
       "          docLink.innerHTML = docLinkHtml;\n",
       "          element.appendChild(docLink);\n",
       "        }\n",
       "      </script>\n",
       "    </div>\n",
       "  </div>\n"
      ],
      "text/plain": [
       "                                           Headlines  \\\n",
       "0  Jim Cramer: A better way to invest in the Covi...   \n",
       "1     Cramer's lightning round: I would own Teradyne   \n",
       "\n",
       "                             Time  \\\n",
       "0   7:51  PM ET Fri, 17 July 2020   \n",
       "1   7:33  PM ET Fri, 17 July 2020   \n",
       "\n",
       "                                         Description  ds_score  \\\n",
       "0  mad money host jim cramer recommend buy four c...  Positive   \n",
       "1  mad money host jim cramer ring lightn round be...  Negative   \n",
       "\n",
       "                                                info  \n",
       "0  Jim Cramer: A better way to invest in the Covi...  \n",
       "1  Cramer's lightning round: I would own Teradyne...  "
      ]
     },
     "execution_count": 88,
     "metadata": {},
     "output_type": "execute_result"
    }
   ],
   "source": [
    "cnbc_reuter_copy.head(2)"
   ]
  },
  {
   "cell_type": "code",
   "execution_count": null,
   "metadata": {
    "colab": {
     "base_uri": "https://localhost:8080/",
     "height": 129
    },
    "id": "wFmAITs64xzF",
    "outputId": "10f2b4c2-1b57-49bf-8f7e-6e59855502da"
   },
   "outputs": [
    {
     "name": "stdout",
     "output_type": "stream",
     "text": [
      "(35515, 2)\n"
     ]
    },
    {
     "data": {
      "text/html": [
       "\n",
       "\n",
       "  <div id=\"df-01ff0a1c-4a21-430e-9bb6-6af90e3f3ac3\">\n",
       "    <div class=\"colab-df-container\">\n",
       "      <div>\n",
       "<style scoped>\n",
       "    .dataframe tbody tr th:only-of-type {\n",
       "        vertical-align: middle;\n",
       "    }\n",
       "\n",
       "    .dataframe tbody tr th {\n",
       "        vertical-align: top;\n",
       "    }\n",
       "\n",
       "    .dataframe thead th {\n",
       "        text-align: right;\n",
       "    }\n",
       "</style>\n",
       "<table border=\"1\" class=\"dataframe\">\n",
       "  <thead>\n",
       "    <tr style=\"text-align: right;\">\n",
       "      <th></th>\n",
       "      <th>Headlines</th>\n",
       "      <th>Time</th>\n",
       "    </tr>\n",
       "  </thead>\n",
       "  <tbody>\n",
       "    <tr>\n",
       "      <th>0</th>\n",
       "      <td>Jim Cramer: A better way to invest in the Covi...</td>\n",
       "      <td>7:51  PM ET Fri, 17 July 2020</td>\n",
       "    </tr>\n",
       "    <tr>\n",
       "      <th>1</th>\n",
       "      <td>Cramer's lightning round: I would own Teradyne</td>\n",
       "      <td>7:33  PM ET Fri, 17 July 2020</td>\n",
       "    </tr>\n",
       "  </tbody>\n",
       "</table>\n",
       "</div>\n",
       "      <button class=\"colab-df-convert\" onclick=\"convertToInteractive('df-01ff0a1c-4a21-430e-9bb6-6af90e3f3ac3')\"\n",
       "              title=\"Convert this dataframe to an interactive table.\"\n",
       "              style=\"display:none;\">\n",
       "\n",
       "  <svg xmlns=\"http://www.w3.org/2000/svg\" height=\"24px\"viewBox=\"0 0 24 24\"\n",
       "       width=\"24px\">\n",
       "    <path d=\"M0 0h24v24H0V0z\" fill=\"none\"/>\n",
       "    <path d=\"M18.56 5.44l.94 2.06.94-2.06 2.06-.94-2.06-.94-.94-2.06-.94 2.06-2.06.94zm-11 1L8.5 8.5l.94-2.06 2.06-.94-2.06-.94L8.5 2.5l-.94 2.06-2.06.94zm10 10l.94 2.06.94-2.06 2.06-.94-2.06-.94-.94-2.06-.94 2.06-2.06.94z\"/><path d=\"M17.41 7.96l-1.37-1.37c-.4-.4-.92-.59-1.43-.59-.52 0-1.04.2-1.43.59L10.3 9.45l-7.72 7.72c-.78.78-.78 2.05 0 2.83L4 21.41c.39.39.9.59 1.41.59.51 0 1.02-.2 1.41-.59l7.78-7.78 2.81-2.81c.8-.78.8-2.07 0-2.86zM5.41 20L4 18.59l7.72-7.72 1.47 1.35L5.41 20z\"/>\n",
       "  </svg>\n",
       "      </button>\n",
       "\n",
       "\n",
       "\n",
       "    <div id=\"df-291fd860-1da8-4e35-a048-fc8b6381fb1d\">\n",
       "      <button class=\"colab-df-quickchart\" onclick=\"quickchart('df-291fd860-1da8-4e35-a048-fc8b6381fb1d')\"\n",
       "              title=\"Suggest charts.\"\n",
       "              style=\"display:none;\">\n",
       "\n",
       "<svg xmlns=\"http://www.w3.org/2000/svg\" height=\"24px\"viewBox=\"0 0 24 24\"\n",
       "     width=\"24px\">\n",
       "    <g>\n",
       "        <path d=\"M19 3H5c-1.1 0-2 .9-2 2v14c0 1.1.9 2 2 2h14c1.1 0 2-.9 2-2V5c0-1.1-.9-2-2-2zM9 17H7v-7h2v7zm4 0h-2V7h2v10zm4 0h-2v-4h2v4z\"/>\n",
       "    </g>\n",
       "</svg>\n",
       "      </button>\n",
       "    </div>\n",
       "\n",
       "<style>\n",
       "  .colab-df-quickchart {\n",
       "    background-color: #E8F0FE;\n",
       "    border: none;\n",
       "    border-radius: 50%;\n",
       "    cursor: pointer;\n",
       "    display: none;\n",
       "    fill: #1967D2;\n",
       "    height: 32px;\n",
       "    padding: 0 0 0 0;\n",
       "    width: 32px;\n",
       "  }\n",
       "\n",
       "  .colab-df-quickchart:hover {\n",
       "    background-color: #E2EBFA;\n",
       "    box-shadow: 0px 1px 2px rgba(60, 64, 67, 0.3), 0px 1px 3px 1px rgba(60, 64, 67, 0.15);\n",
       "    fill: #174EA6;\n",
       "  }\n",
       "\n",
       "  [theme=dark] .colab-df-quickchart {\n",
       "    background-color: #3B4455;\n",
       "    fill: #D2E3FC;\n",
       "  }\n",
       "\n",
       "  [theme=dark] .colab-df-quickchart:hover {\n",
       "    background-color: #434B5C;\n",
       "    box-shadow: 0px 1px 3px 1px rgba(0, 0, 0, 0.15);\n",
       "    filter: drop-shadow(0px 1px 2px rgba(0, 0, 0, 0.3));\n",
       "    fill: #FFFFFF;\n",
       "  }\n",
       "</style>\n",
       "\n",
       "    <script>\n",
       "      async function quickchart(key) {\n",
       "        const containerElement = document.querySelector('#' + key);\n",
       "        const charts = await google.colab.kernel.invokeFunction(\n",
       "            'suggestCharts', [key], {});\n",
       "      }\n",
       "    </script>\n",
       "\n",
       "      <script>\n",
       "\n",
       "function displayQuickchartButton(domScope) {\n",
       "  let quickchartButtonEl =\n",
       "    domScope.querySelector('#df-291fd860-1da8-4e35-a048-fc8b6381fb1d button.colab-df-quickchart');\n",
       "  quickchartButtonEl.style.display =\n",
       "    google.colab.kernel.accessAllowed ? 'block' : 'none';\n",
       "}\n",
       "\n",
       "        displayQuickchartButton(document);\n",
       "      </script>\n",
       "      <style>\n",
       "    .colab-df-container {\n",
       "      display:flex;\n",
       "      flex-wrap:wrap;\n",
       "      gap: 12px;\n",
       "    }\n",
       "\n",
       "    .colab-df-convert {\n",
       "      background-color: #E8F0FE;\n",
       "      border: none;\n",
       "      border-radius: 50%;\n",
       "      cursor: pointer;\n",
       "      display: none;\n",
       "      fill: #1967D2;\n",
       "      height: 32px;\n",
       "      padding: 0 0 0 0;\n",
       "      width: 32px;\n",
       "    }\n",
       "\n",
       "    .colab-df-convert:hover {\n",
       "      background-color: #E2EBFA;\n",
       "      box-shadow: 0px 1px 2px rgba(60, 64, 67, 0.3), 0px 1px 3px 1px rgba(60, 64, 67, 0.15);\n",
       "      fill: #174EA6;\n",
       "    }\n",
       "\n",
       "    [theme=dark] .colab-df-convert {\n",
       "      background-color: #3B4455;\n",
       "      fill: #D2E3FC;\n",
       "    }\n",
       "\n",
       "    [theme=dark] .colab-df-convert:hover {\n",
       "      background-color: #434B5C;\n",
       "      box-shadow: 0px 1px 3px 1px rgba(0, 0, 0, 0.15);\n",
       "      filter: drop-shadow(0px 1px 2px rgba(0, 0, 0, 0.3));\n",
       "      fill: #FFFFFF;\n",
       "    }\n",
       "  </style>\n",
       "\n",
       "      <script>\n",
       "        const buttonEl =\n",
       "          document.querySelector('#df-01ff0a1c-4a21-430e-9bb6-6af90e3f3ac3 button.colab-df-convert');\n",
       "        buttonEl.style.display =\n",
       "          google.colab.kernel.accessAllowed ? 'block' : 'none';\n",
       "\n",
       "        async function convertToInteractive(key) {\n",
       "          const element = document.querySelector('#df-01ff0a1c-4a21-430e-9bb6-6af90e3f3ac3');\n",
       "          const dataTable =\n",
       "            await google.colab.kernel.invokeFunction('convertToInteractive',\n",
       "                                                     [key], {});\n",
       "          if (!dataTable) return;\n",
       "\n",
       "          const docLinkHtml = 'Like what you see? Visit the ' +\n",
       "            '<a target=\"_blank\" href=https://colab.research.google.com/notebooks/data_table.ipynb>data table notebook</a>'\n",
       "            + ' to learn more about interactive tables.';\n",
       "          element.innerHTML = '';\n",
       "          dataTable['output_type'] = 'display_data';\n",
       "          await google.colab.output.renderOutput(dataTable, element);\n",
       "          const docLink = document.createElement('div');\n",
       "          docLink.innerHTML = docLinkHtml;\n",
       "          element.appendChild(docLink);\n",
       "        }\n",
       "      </script>\n",
       "    </div>\n",
       "  </div>\n"
      ],
      "text/plain": [
       "                                           Headlines  \\\n",
       "0  Jim Cramer: A better way to invest in the Covi...   \n",
       "1     Cramer's lightning round: I would own Teradyne   \n",
       "\n",
       "                             Time  \n",
       "0   7:51  PM ET Fri, 17 July 2020  \n",
       "1   7:33  PM ET Fri, 17 July 2020  "
      ]
     },
     "execution_count": 89,
     "metadata": {},
     "output_type": "execute_result"
    }
   ],
   "source": [
    "# from the dataset you have copied before delete the column of description\n",
    "cnbc_reuter_copy_head = cnbc_reuter_copy.drop(columns=['Description', 'ds_score','info'], axis=1)\n",
    "print(cnbc_reuter_copy_head.shape)\n",
    "cnbc_reuter_copy_head.head(2)"
   ]
  },
  {
   "cell_type": "code",
   "execution_count": null,
   "metadata": {
    "colab": {
     "base_uri": "https://localhost:8080/"
    },
    "id": "isurNknP7iib",
    "outputId": "abbe6b6b-a241-48f9-9aef-f96afbf3ff9f"
   },
   "outputs": [
    {
     "name": "stdout",
     "output_type": "stream",
     "text": [
      "(17800, 2)\n"
     ]
    }
   ],
   "source": [
    "# remane the date column in gaurdian headlines dataset  to time\n",
    "guardian_headlines = pd.read_csv('/content/guardian_headlines.csv')\n",
    "guardian_headlines.head()\n",
    "print(guardian_headlines.shape)"
   ]
  },
  {
   "cell_type": "code",
   "execution_count": null,
   "metadata": {
    "id": "7PmKhFHl4xs-"
   },
   "outputs": [],
   "source": [
    "# cancatenate the gaurdian headlines dataset and  copy of datasetto get all headlines together\n",
    "cnbc_reuter_guardian = pd.concat([cnbc_reuter_copy_head, guardian_headlines], ignore_index=True)"
   ]
  },
  {
   "cell_type": "code",
   "execution_count": null,
   "metadata": {
    "colab": {
     "base_uri": "https://localhost:8080/",
     "height": 223
    },
    "id": "4b_DReQJ4xnw",
    "outputId": "2f2fdec8-f20a-4472-9db7-e9e827c5d8db"
   },
   "outputs": [
    {
     "name": "stdout",
     "output_type": "stream",
     "text": [
      "(53315, 2)\n"
     ]
    },
    {
     "data": {
      "text/html": [
       "\n",
       "\n",
       "  <div id=\"df-38e26393-3607-475e-bbba-639a4933a0de\">\n",
       "    <div class=\"colab-df-container\">\n",
       "      <div>\n",
       "<style scoped>\n",
       "    .dataframe tbody tr th:only-of-type {\n",
       "        vertical-align: middle;\n",
       "    }\n",
       "\n",
       "    .dataframe tbody tr th {\n",
       "        vertical-align: top;\n",
       "    }\n",
       "\n",
       "    .dataframe thead th {\n",
       "        text-align: right;\n",
       "    }\n",
       "</style>\n",
       "<table border=\"1\" class=\"dataframe\">\n",
       "  <thead>\n",
       "    <tr style=\"text-align: right;\">\n",
       "      <th></th>\n",
       "      <th>Headlines</th>\n",
       "      <th>Time</th>\n",
       "    </tr>\n",
       "  </thead>\n",
       "  <tbody>\n",
       "    <tr>\n",
       "      <th>53310</th>\n",
       "      <td>How investing in solar energy can create a bri...</td>\n",
       "      <td>17-Dec-17</td>\n",
       "    </tr>\n",
       "    <tr>\n",
       "      <th>53311</th>\n",
       "      <td>Poundland suppliers hit by insurance downgrade</td>\n",
       "      <td>17-Dec-17</td>\n",
       "    </tr>\n",
       "    <tr>\n",
       "      <th>53312</th>\n",
       "      <td>Cryptocurrencies: City watchdog to investigate...</td>\n",
       "      <td>17-Dec-17</td>\n",
       "    </tr>\n",
       "    <tr>\n",
       "      <th>53313</th>\n",
       "      <td>Unilever sells household name spreads to KKR f...</td>\n",
       "      <td>17-Dec-17</td>\n",
       "    </tr>\n",
       "    <tr>\n",
       "      <th>53314</th>\n",
       "      <td>The Guardian view on Ryanair’s model: a union-...</td>\n",
       "      <td>17-Dec-17</td>\n",
       "    </tr>\n",
       "  </tbody>\n",
       "</table>\n",
       "</div>\n",
       "      <button class=\"colab-df-convert\" onclick=\"convertToInteractive('df-38e26393-3607-475e-bbba-639a4933a0de')\"\n",
       "              title=\"Convert this dataframe to an interactive table.\"\n",
       "              style=\"display:none;\">\n",
       "\n",
       "  <svg xmlns=\"http://www.w3.org/2000/svg\" height=\"24px\"viewBox=\"0 0 24 24\"\n",
       "       width=\"24px\">\n",
       "    <path d=\"M0 0h24v24H0V0z\" fill=\"none\"/>\n",
       "    <path d=\"M18.56 5.44l.94 2.06.94-2.06 2.06-.94-2.06-.94-.94-2.06-.94 2.06-2.06.94zm-11 1L8.5 8.5l.94-2.06 2.06-.94-2.06-.94L8.5 2.5l-.94 2.06-2.06.94zm10 10l.94 2.06.94-2.06 2.06-.94-2.06-.94-.94-2.06-.94 2.06-2.06.94z\"/><path d=\"M17.41 7.96l-1.37-1.37c-.4-.4-.92-.59-1.43-.59-.52 0-1.04.2-1.43.59L10.3 9.45l-7.72 7.72c-.78.78-.78 2.05 0 2.83L4 21.41c.39.39.9.59 1.41.59.51 0 1.02-.2 1.41-.59l7.78-7.78 2.81-2.81c.8-.78.8-2.07 0-2.86zM5.41 20L4 18.59l7.72-7.72 1.47 1.35L5.41 20z\"/>\n",
       "  </svg>\n",
       "      </button>\n",
       "\n",
       "\n",
       "\n",
       "    <div id=\"df-773506d5-8611-4a21-990a-454835fc62fe\">\n",
       "      <button class=\"colab-df-quickchart\" onclick=\"quickchart('df-773506d5-8611-4a21-990a-454835fc62fe')\"\n",
       "              title=\"Suggest charts.\"\n",
       "              style=\"display:none;\">\n",
       "\n",
       "<svg xmlns=\"http://www.w3.org/2000/svg\" height=\"24px\"viewBox=\"0 0 24 24\"\n",
       "     width=\"24px\">\n",
       "    <g>\n",
       "        <path d=\"M19 3H5c-1.1 0-2 .9-2 2v14c0 1.1.9 2 2 2h14c1.1 0 2-.9 2-2V5c0-1.1-.9-2-2-2zM9 17H7v-7h2v7zm4 0h-2V7h2v10zm4 0h-2v-4h2v4z\"/>\n",
       "    </g>\n",
       "</svg>\n",
       "      </button>\n",
       "    </div>\n",
       "\n",
       "<style>\n",
       "  .colab-df-quickchart {\n",
       "    background-color: #E8F0FE;\n",
       "    border: none;\n",
       "    border-radius: 50%;\n",
       "    cursor: pointer;\n",
       "    display: none;\n",
       "    fill: #1967D2;\n",
       "    height: 32px;\n",
       "    padding: 0 0 0 0;\n",
       "    width: 32px;\n",
       "  }\n",
       "\n",
       "  .colab-df-quickchart:hover {\n",
       "    background-color: #E2EBFA;\n",
       "    box-shadow: 0px 1px 2px rgba(60, 64, 67, 0.3), 0px 1px 3px 1px rgba(60, 64, 67, 0.15);\n",
       "    fill: #174EA6;\n",
       "  }\n",
       "\n",
       "  [theme=dark] .colab-df-quickchart {\n",
       "    background-color: #3B4455;\n",
       "    fill: #D2E3FC;\n",
       "  }\n",
       "\n",
       "  [theme=dark] .colab-df-quickchart:hover {\n",
       "    background-color: #434B5C;\n",
       "    box-shadow: 0px 1px 3px 1px rgba(0, 0, 0, 0.15);\n",
       "    filter: drop-shadow(0px 1px 2px rgba(0, 0, 0, 0.3));\n",
       "    fill: #FFFFFF;\n",
       "  }\n",
       "</style>\n",
       "\n",
       "    <script>\n",
       "      async function quickchart(key) {\n",
       "        const containerElement = document.querySelector('#' + key);\n",
       "        const charts = await google.colab.kernel.invokeFunction(\n",
       "            'suggestCharts', [key], {});\n",
       "      }\n",
       "    </script>\n",
       "\n",
       "      <script>\n",
       "\n",
       "function displayQuickchartButton(domScope) {\n",
       "  let quickchartButtonEl =\n",
       "    domScope.querySelector('#df-773506d5-8611-4a21-990a-454835fc62fe button.colab-df-quickchart');\n",
       "  quickchartButtonEl.style.display =\n",
       "    google.colab.kernel.accessAllowed ? 'block' : 'none';\n",
       "}\n",
       "\n",
       "        displayQuickchartButton(document);\n",
       "      </script>\n",
       "      <style>\n",
       "    .colab-df-container {\n",
       "      display:flex;\n",
       "      flex-wrap:wrap;\n",
       "      gap: 12px;\n",
       "    }\n",
       "\n",
       "    .colab-df-convert {\n",
       "      background-color: #E8F0FE;\n",
       "      border: none;\n",
       "      border-radius: 50%;\n",
       "      cursor: pointer;\n",
       "      display: none;\n",
       "      fill: #1967D2;\n",
       "      height: 32px;\n",
       "      padding: 0 0 0 0;\n",
       "      width: 32px;\n",
       "    }\n",
       "\n",
       "    .colab-df-convert:hover {\n",
       "      background-color: #E2EBFA;\n",
       "      box-shadow: 0px 1px 2px rgba(60, 64, 67, 0.3), 0px 1px 3px 1px rgba(60, 64, 67, 0.15);\n",
       "      fill: #174EA6;\n",
       "    }\n",
       "\n",
       "    [theme=dark] .colab-df-convert {\n",
       "      background-color: #3B4455;\n",
       "      fill: #D2E3FC;\n",
       "    }\n",
       "\n",
       "    [theme=dark] .colab-df-convert:hover {\n",
       "      background-color: #434B5C;\n",
       "      box-shadow: 0px 1px 3px 1px rgba(0, 0, 0, 0.15);\n",
       "      filter: drop-shadow(0px 1px 2px rgba(0, 0, 0, 0.3));\n",
       "      fill: #FFFFFF;\n",
       "    }\n",
       "  </style>\n",
       "\n",
       "      <script>\n",
       "        const buttonEl =\n",
       "          document.querySelector('#df-38e26393-3607-475e-bbba-639a4933a0de button.colab-df-convert');\n",
       "        buttonEl.style.display =\n",
       "          google.colab.kernel.accessAllowed ? 'block' : 'none';\n",
       "\n",
       "        async function convertToInteractive(key) {\n",
       "          const element = document.querySelector('#df-38e26393-3607-475e-bbba-639a4933a0de');\n",
       "          const dataTable =\n",
       "            await google.colab.kernel.invokeFunction('convertToInteractive',\n",
       "                                                     [key], {});\n",
       "          if (!dataTable) return;\n",
       "\n",
       "          const docLinkHtml = 'Like what you see? Visit the ' +\n",
       "            '<a target=\"_blank\" href=https://colab.research.google.com/notebooks/data_table.ipynb>data table notebook</a>'\n",
       "            + ' to learn more about interactive tables.';\n",
       "          element.innerHTML = '';\n",
       "          dataTable['output_type'] = 'display_data';\n",
       "          await google.colab.output.renderOutput(dataTable, element);\n",
       "          const docLink = document.createElement('div');\n",
       "          docLink.innerHTML = docLinkHtml;\n",
       "          element.appendChild(docLink);\n",
       "        }\n",
       "      </script>\n",
       "    </div>\n",
       "  </div>\n"
      ],
      "text/plain": [
       "                                               Headlines       Time\n",
       "53310  How investing in solar energy can create a bri...  17-Dec-17\n",
       "53311     Poundland suppliers hit by insurance downgrade  17-Dec-17\n",
       "53312  Cryptocurrencies: City watchdog to investigate...  17-Dec-17\n",
       "53313  Unilever sells household name spreads to KKR f...  17-Dec-17\n",
       "53314  The Guardian view on Ryanair’s model: a union-...  17-Dec-17"
      ]
     },
     "execution_count": 92,
     "metadata": {},
     "output_type": "execute_result"
    }
   ],
   "source": [
    "# check the shape of all headlines dataset\n",
    "print(cnbc_reuter_guardian.shape)\n",
    "cnbc_reuter_guardian.tail()"
   ]
  },
  {
   "cell_type": "code",
   "execution_count": null,
   "metadata": {
    "colab": {
     "base_uri": "https://localhost:8080/",
     "height": 206
    },
    "id": "Xn2AN-6MAgQE",
    "outputId": "03fbb75d-3109-4b99-cc7a-62af7817aec2"
   },
   "outputs": [
    {
     "data": {
      "text/html": [
       "\n",
       "\n",
       "  <div id=\"df-3b9faef4-0adb-49ab-940e-dc9c9dfde659\">\n",
       "    <div class=\"colab-df-container\">\n",
       "      <div>\n",
       "<style scoped>\n",
       "    .dataframe tbody tr th:only-of-type {\n",
       "        vertical-align: middle;\n",
       "    }\n",
       "\n",
       "    .dataframe tbody tr th {\n",
       "        vertical-align: top;\n",
       "    }\n",
       "\n",
       "    .dataframe thead th {\n",
       "        text-align: right;\n",
       "    }\n",
       "</style>\n",
       "<table border=\"1\" class=\"dataframe\">\n",
       "  <thead>\n",
       "    <tr style=\"text-align: right;\">\n",
       "      <th></th>\n",
       "      <th>Headlines</th>\n",
       "      <th>Time</th>\n",
       "    </tr>\n",
       "  </thead>\n",
       "  <tbody>\n",
       "    <tr>\n",
       "      <th>53310</th>\n",
       "      <td>invest solar energi creat brighter futur africa</td>\n",
       "      <td>17-Dec-17</td>\n",
       "    </tr>\n",
       "    <tr>\n",
       "      <th>53311</th>\n",
       "      <td>poundland supplier hit insur downgrad</td>\n",
       "      <td>17-Dec-17</td>\n",
       "    </tr>\n",
       "    <tr>\n",
       "      <th>53312</th>\n",
       "      <td>cryptocurr citi watchdog investig new fundrais...</td>\n",
       "      <td>17-Dec-17</td>\n",
       "    </tr>\n",
       "    <tr>\n",
       "      <th>53313</th>\n",
       "      <td>unilev sell household name spread kkr £6bn</td>\n",
       "      <td>17-Dec-17</td>\n",
       "    </tr>\n",
       "    <tr>\n",
       "      <th>53314</th>\n",
       "      <td>guardian view ryanair ’ model unionfriendli co...</td>\n",
       "      <td>17-Dec-17</td>\n",
       "    </tr>\n",
       "  </tbody>\n",
       "</table>\n",
       "</div>\n",
       "      <button class=\"colab-df-convert\" onclick=\"convertToInteractive('df-3b9faef4-0adb-49ab-940e-dc9c9dfde659')\"\n",
       "              title=\"Convert this dataframe to an interactive table.\"\n",
       "              style=\"display:none;\">\n",
       "\n",
       "  <svg xmlns=\"http://www.w3.org/2000/svg\" height=\"24px\"viewBox=\"0 0 24 24\"\n",
       "       width=\"24px\">\n",
       "    <path d=\"M0 0h24v24H0V0z\" fill=\"none\"/>\n",
       "    <path d=\"M18.56 5.44l.94 2.06.94-2.06 2.06-.94-2.06-.94-.94-2.06-.94 2.06-2.06.94zm-11 1L8.5 8.5l.94-2.06 2.06-.94-2.06-.94L8.5 2.5l-.94 2.06-2.06.94zm10 10l.94 2.06.94-2.06 2.06-.94-2.06-.94-.94-2.06-.94 2.06-2.06.94z\"/><path d=\"M17.41 7.96l-1.37-1.37c-.4-.4-.92-.59-1.43-.59-.52 0-1.04.2-1.43.59L10.3 9.45l-7.72 7.72c-.78.78-.78 2.05 0 2.83L4 21.41c.39.39.9.59 1.41.59.51 0 1.02-.2 1.41-.59l7.78-7.78 2.81-2.81c.8-.78.8-2.07 0-2.86zM5.41 20L4 18.59l7.72-7.72 1.47 1.35L5.41 20z\"/>\n",
       "  </svg>\n",
       "      </button>\n",
       "\n",
       "\n",
       "\n",
       "    <div id=\"df-68a9df6c-7be2-4b79-a401-6711ac233f47\">\n",
       "      <button class=\"colab-df-quickchart\" onclick=\"quickchart('df-68a9df6c-7be2-4b79-a401-6711ac233f47')\"\n",
       "              title=\"Suggest charts.\"\n",
       "              style=\"display:none;\">\n",
       "\n",
       "<svg xmlns=\"http://www.w3.org/2000/svg\" height=\"24px\"viewBox=\"0 0 24 24\"\n",
       "     width=\"24px\">\n",
       "    <g>\n",
       "        <path d=\"M19 3H5c-1.1 0-2 .9-2 2v14c0 1.1.9 2 2 2h14c1.1 0 2-.9 2-2V5c0-1.1-.9-2-2-2zM9 17H7v-7h2v7zm4 0h-2V7h2v10zm4 0h-2v-4h2v4z\"/>\n",
       "    </g>\n",
       "</svg>\n",
       "      </button>\n",
       "    </div>\n",
       "\n",
       "<style>\n",
       "  .colab-df-quickchart {\n",
       "    background-color: #E8F0FE;\n",
       "    border: none;\n",
       "    border-radius: 50%;\n",
       "    cursor: pointer;\n",
       "    display: none;\n",
       "    fill: #1967D2;\n",
       "    height: 32px;\n",
       "    padding: 0 0 0 0;\n",
       "    width: 32px;\n",
       "  }\n",
       "\n",
       "  .colab-df-quickchart:hover {\n",
       "    background-color: #E2EBFA;\n",
       "    box-shadow: 0px 1px 2px rgba(60, 64, 67, 0.3), 0px 1px 3px 1px rgba(60, 64, 67, 0.15);\n",
       "    fill: #174EA6;\n",
       "  }\n",
       "\n",
       "  [theme=dark] .colab-df-quickchart {\n",
       "    background-color: #3B4455;\n",
       "    fill: #D2E3FC;\n",
       "  }\n",
       "\n",
       "  [theme=dark] .colab-df-quickchart:hover {\n",
       "    background-color: #434B5C;\n",
       "    box-shadow: 0px 1px 3px 1px rgba(0, 0, 0, 0.15);\n",
       "    filter: drop-shadow(0px 1px 2px rgba(0, 0, 0, 0.3));\n",
       "    fill: #FFFFFF;\n",
       "  }\n",
       "</style>\n",
       "\n",
       "    <script>\n",
       "      async function quickchart(key) {\n",
       "        const containerElement = document.querySelector('#' + key);\n",
       "        const charts = await google.colab.kernel.invokeFunction(\n",
       "            'suggestCharts', [key], {});\n",
       "      }\n",
       "    </script>\n",
       "\n",
       "      <script>\n",
       "\n",
       "function displayQuickchartButton(domScope) {\n",
       "  let quickchartButtonEl =\n",
       "    domScope.querySelector('#df-68a9df6c-7be2-4b79-a401-6711ac233f47 button.colab-df-quickchart');\n",
       "  quickchartButtonEl.style.display =\n",
       "    google.colab.kernel.accessAllowed ? 'block' : 'none';\n",
       "}\n",
       "\n",
       "        displayQuickchartButton(document);\n",
       "      </script>\n",
       "      <style>\n",
       "    .colab-df-container {\n",
       "      display:flex;\n",
       "      flex-wrap:wrap;\n",
       "      gap: 12px;\n",
       "    }\n",
       "\n",
       "    .colab-df-convert {\n",
       "      background-color: #E8F0FE;\n",
       "      border: none;\n",
       "      border-radius: 50%;\n",
       "      cursor: pointer;\n",
       "      display: none;\n",
       "      fill: #1967D2;\n",
       "      height: 32px;\n",
       "      padding: 0 0 0 0;\n",
       "      width: 32px;\n",
       "    }\n",
       "\n",
       "    .colab-df-convert:hover {\n",
       "      background-color: #E2EBFA;\n",
       "      box-shadow: 0px 1px 2px rgba(60, 64, 67, 0.3), 0px 1px 3px 1px rgba(60, 64, 67, 0.15);\n",
       "      fill: #174EA6;\n",
       "    }\n",
       "\n",
       "    [theme=dark] .colab-df-convert {\n",
       "      background-color: #3B4455;\n",
       "      fill: #D2E3FC;\n",
       "    }\n",
       "\n",
       "    [theme=dark] .colab-df-convert:hover {\n",
       "      background-color: #434B5C;\n",
       "      box-shadow: 0px 1px 3px 1px rgba(0, 0, 0, 0.15);\n",
       "      filter: drop-shadow(0px 1px 2px rgba(0, 0, 0, 0.3));\n",
       "      fill: #FFFFFF;\n",
       "    }\n",
       "  </style>\n",
       "\n",
       "      <script>\n",
       "        const buttonEl =\n",
       "          document.querySelector('#df-3b9faef4-0adb-49ab-940e-dc9c9dfde659 button.colab-df-convert');\n",
       "        buttonEl.style.display =\n",
       "          google.colab.kernel.accessAllowed ? 'block' : 'none';\n",
       "\n",
       "        async function convertToInteractive(key) {\n",
       "          const element = document.querySelector('#df-3b9faef4-0adb-49ab-940e-dc9c9dfde659');\n",
       "          const dataTable =\n",
       "            await google.colab.kernel.invokeFunction('convertToInteractive',\n",
       "                                                     [key], {});\n",
       "          if (!dataTable) return;\n",
       "\n",
       "          const docLinkHtml = 'Like what you see? Visit the ' +\n",
       "            '<a target=\"_blank\" href=https://colab.research.google.com/notebooks/data_table.ipynb>data table notebook</a>'\n",
       "            + ' to learn more about interactive tables.';\n",
       "          element.innerHTML = '';\n",
       "          dataTable['output_type'] = 'display_data';\n",
       "          await google.colab.output.renderOutput(dataTable, element);\n",
       "          const docLink = document.createElement('div');\n",
       "          docLink.innerHTML = docLinkHtml;\n",
       "          element.appendChild(docLink);\n",
       "        }\n",
       "      </script>\n",
       "    </div>\n",
       "  </div>\n"
      ],
      "text/plain": [
       "                                               Headlines       Time\n",
       "53310    invest solar energi creat brighter futur africa  17-Dec-17\n",
       "53311              poundland supplier hit insur downgrad  17-Dec-17\n",
       "53312  cryptocurr citi watchdog investig new fundrais...  17-Dec-17\n",
       "53313         unilev sell household name spread kkr £6bn  17-Dec-17\n",
       "53314  guardian view ryanair ’ model unionfriendli co...  17-Dec-17"
      ]
     },
     "execution_count": 93,
     "metadata": {},
     "output_type": "execute_result"
    }
   ],
   "source": [
    "#apply preprocessin to the headlines column in the new dataset\n",
    "cnbc_reuter_guardian['Headlines'] = cnbc_reuter_guardian['Headlines'].apply(preprocessing)\n",
    "cnbc_reuter_guardian.tail()"
   ]
  },
  {
   "cell_type": "code",
   "execution_count": null,
   "metadata": {
    "colab": {
     "base_uri": "https://localhost:8080/",
     "height": 206
    },
    "id": "EBdenfoGAgOL",
    "outputId": "677d8e7c-0737-4159-e276-c2505e48bfa3"
   },
   "outputs": [
    {
     "data": {
      "text/html": [
       "\n",
       "\n",
       "  <div id=\"df-8012c422-9db3-42a6-afba-fe72e7f0acc5\">\n",
       "    <div class=\"colab-df-container\">\n",
       "      <div>\n",
       "<style scoped>\n",
       "    .dataframe tbody tr th:only-of-type {\n",
       "        vertical-align: middle;\n",
       "    }\n",
       "\n",
       "    .dataframe tbody tr th {\n",
       "        vertical-align: top;\n",
       "    }\n",
       "\n",
       "    .dataframe thead th {\n",
       "        text-align: right;\n",
       "    }\n",
       "</style>\n",
       "<table border=\"1\" class=\"dataframe\">\n",
       "  <thead>\n",
       "    <tr style=\"text-align: right;\">\n",
       "      <th></th>\n",
       "      <th>Headlines</th>\n",
       "      <th>Time</th>\n",
       "      <th>headline_score</th>\n",
       "    </tr>\n",
       "  </thead>\n",
       "  <tbody>\n",
       "    <tr>\n",
       "      <th>53310</th>\n",
       "      <td>invest solar energi creat brighter futur africa</td>\n",
       "      <td>17-Dec-17</td>\n",
       "      <td>0.3818</td>\n",
       "    </tr>\n",
       "    <tr>\n",
       "      <th>53311</th>\n",
       "      <td>poundland supplier hit insur downgrad</td>\n",
       "      <td>17-Dec-17</td>\n",
       "      <td>0.0000</td>\n",
       "    </tr>\n",
       "    <tr>\n",
       "      <th>53312</th>\n",
       "      <td>cryptocurr citi watchdog investig new fundrais...</td>\n",
       "      <td>17-Dec-17</td>\n",
       "      <td>0.0000</td>\n",
       "    </tr>\n",
       "    <tr>\n",
       "      <th>53313</th>\n",
       "      <td>unilev sell household name spread kkr £6bn</td>\n",
       "      <td>17-Dec-17</td>\n",
       "      <td>0.0000</td>\n",
       "    </tr>\n",
       "    <tr>\n",
       "      <th>53314</th>\n",
       "      <td>guardian view ryanair ’ model unionfriendli co...</td>\n",
       "      <td>17-Dec-17</td>\n",
       "      <td>0.0000</td>\n",
       "    </tr>\n",
       "  </tbody>\n",
       "</table>\n",
       "</div>\n",
       "      <button class=\"colab-df-convert\" onclick=\"convertToInteractive('df-8012c422-9db3-42a6-afba-fe72e7f0acc5')\"\n",
       "              title=\"Convert this dataframe to an interactive table.\"\n",
       "              style=\"display:none;\">\n",
       "\n",
       "  <svg xmlns=\"http://www.w3.org/2000/svg\" height=\"24px\"viewBox=\"0 0 24 24\"\n",
       "       width=\"24px\">\n",
       "    <path d=\"M0 0h24v24H0V0z\" fill=\"none\"/>\n",
       "    <path d=\"M18.56 5.44l.94 2.06.94-2.06 2.06-.94-2.06-.94-.94-2.06-.94 2.06-2.06.94zm-11 1L8.5 8.5l.94-2.06 2.06-.94-2.06-.94L8.5 2.5l-.94 2.06-2.06.94zm10 10l.94 2.06.94-2.06 2.06-.94-2.06-.94-.94-2.06-.94 2.06-2.06.94z\"/><path d=\"M17.41 7.96l-1.37-1.37c-.4-.4-.92-.59-1.43-.59-.52 0-1.04.2-1.43.59L10.3 9.45l-7.72 7.72c-.78.78-.78 2.05 0 2.83L4 21.41c.39.39.9.59 1.41.59.51 0 1.02-.2 1.41-.59l7.78-7.78 2.81-2.81c.8-.78.8-2.07 0-2.86zM5.41 20L4 18.59l7.72-7.72 1.47 1.35L5.41 20z\"/>\n",
       "  </svg>\n",
       "      </button>\n",
       "\n",
       "\n",
       "\n",
       "    <div id=\"df-9d4f4dfa-f447-42bd-bb78-28a1fffcd673\">\n",
       "      <button class=\"colab-df-quickchart\" onclick=\"quickchart('df-9d4f4dfa-f447-42bd-bb78-28a1fffcd673')\"\n",
       "              title=\"Suggest charts.\"\n",
       "              style=\"display:none;\">\n",
       "\n",
       "<svg xmlns=\"http://www.w3.org/2000/svg\" height=\"24px\"viewBox=\"0 0 24 24\"\n",
       "     width=\"24px\">\n",
       "    <g>\n",
       "        <path d=\"M19 3H5c-1.1 0-2 .9-2 2v14c0 1.1.9 2 2 2h14c1.1 0 2-.9 2-2V5c0-1.1-.9-2-2-2zM9 17H7v-7h2v7zm4 0h-2V7h2v10zm4 0h-2v-4h2v4z\"/>\n",
       "    </g>\n",
       "</svg>\n",
       "      </button>\n",
       "    </div>\n",
       "\n",
       "<style>\n",
       "  .colab-df-quickchart {\n",
       "    background-color: #E8F0FE;\n",
       "    border: none;\n",
       "    border-radius: 50%;\n",
       "    cursor: pointer;\n",
       "    display: none;\n",
       "    fill: #1967D2;\n",
       "    height: 32px;\n",
       "    padding: 0 0 0 0;\n",
       "    width: 32px;\n",
       "  }\n",
       "\n",
       "  .colab-df-quickchart:hover {\n",
       "    background-color: #E2EBFA;\n",
       "    box-shadow: 0px 1px 2px rgba(60, 64, 67, 0.3), 0px 1px 3px 1px rgba(60, 64, 67, 0.15);\n",
       "    fill: #174EA6;\n",
       "  }\n",
       "\n",
       "  [theme=dark] .colab-df-quickchart {\n",
       "    background-color: #3B4455;\n",
       "    fill: #D2E3FC;\n",
       "  }\n",
       "\n",
       "  [theme=dark] .colab-df-quickchart:hover {\n",
       "    background-color: #434B5C;\n",
       "    box-shadow: 0px 1px 3px 1px rgba(0, 0, 0, 0.15);\n",
       "    filter: drop-shadow(0px 1px 2px rgba(0, 0, 0, 0.3));\n",
       "    fill: #FFFFFF;\n",
       "  }\n",
       "</style>\n",
       "\n",
       "    <script>\n",
       "      async function quickchart(key) {\n",
       "        const containerElement = document.querySelector('#' + key);\n",
       "        const charts = await google.colab.kernel.invokeFunction(\n",
       "            'suggestCharts', [key], {});\n",
       "      }\n",
       "    </script>\n",
       "\n",
       "      <script>\n",
       "\n",
       "function displayQuickchartButton(domScope) {\n",
       "  let quickchartButtonEl =\n",
       "    domScope.querySelector('#df-9d4f4dfa-f447-42bd-bb78-28a1fffcd673 button.colab-df-quickchart');\n",
       "  quickchartButtonEl.style.display =\n",
       "    google.colab.kernel.accessAllowed ? 'block' : 'none';\n",
       "}\n",
       "\n",
       "        displayQuickchartButton(document);\n",
       "      </script>\n",
       "      <style>\n",
       "    .colab-df-container {\n",
       "      display:flex;\n",
       "      flex-wrap:wrap;\n",
       "      gap: 12px;\n",
       "    }\n",
       "\n",
       "    .colab-df-convert {\n",
       "      background-color: #E8F0FE;\n",
       "      border: none;\n",
       "      border-radius: 50%;\n",
       "      cursor: pointer;\n",
       "      display: none;\n",
       "      fill: #1967D2;\n",
       "      height: 32px;\n",
       "      padding: 0 0 0 0;\n",
       "      width: 32px;\n",
       "    }\n",
       "\n",
       "    .colab-df-convert:hover {\n",
       "      background-color: #E2EBFA;\n",
       "      box-shadow: 0px 1px 2px rgba(60, 64, 67, 0.3), 0px 1px 3px 1px rgba(60, 64, 67, 0.15);\n",
       "      fill: #174EA6;\n",
       "    }\n",
       "\n",
       "    [theme=dark] .colab-df-convert {\n",
       "      background-color: #3B4455;\n",
       "      fill: #D2E3FC;\n",
       "    }\n",
       "\n",
       "    [theme=dark] .colab-df-convert:hover {\n",
       "      background-color: #434B5C;\n",
       "      box-shadow: 0px 1px 3px 1px rgba(0, 0, 0, 0.15);\n",
       "      filter: drop-shadow(0px 1px 2px rgba(0, 0, 0, 0.3));\n",
       "      fill: #FFFFFF;\n",
       "    }\n",
       "  </style>\n",
       "\n",
       "      <script>\n",
       "        const buttonEl =\n",
       "          document.querySelector('#df-8012c422-9db3-42a6-afba-fe72e7f0acc5 button.colab-df-convert');\n",
       "        buttonEl.style.display =\n",
       "          google.colab.kernel.accessAllowed ? 'block' : 'none';\n",
       "\n",
       "        async function convertToInteractive(key) {\n",
       "          const element = document.querySelector('#df-8012c422-9db3-42a6-afba-fe72e7f0acc5');\n",
       "          const dataTable =\n",
       "            await google.colab.kernel.invokeFunction('convertToInteractive',\n",
       "                                                     [key], {});\n",
       "          if (!dataTable) return;\n",
       "\n",
       "          const docLinkHtml = 'Like what you see? Visit the ' +\n",
       "            '<a target=\"_blank\" href=https://colab.research.google.com/notebooks/data_table.ipynb>data table notebook</a>'\n",
       "            + ' to learn more about interactive tables.';\n",
       "          element.innerHTML = '';\n",
       "          dataTable['output_type'] = 'display_data';\n",
       "          await google.colab.output.renderOutput(dataTable, element);\n",
       "          const docLink = document.createElement('div');\n",
       "          docLink.innerHTML = docLinkHtml;\n",
       "          element.appendChild(docLink);\n",
       "        }\n",
       "      </script>\n",
       "    </div>\n",
       "  </div>\n"
      ],
      "text/plain": [
       "                                               Headlines       Time  \\\n",
       "53310    invest solar energi creat brighter futur africa  17-Dec-17   \n",
       "53311              poundland supplier hit insur downgrad  17-Dec-17   \n",
       "53312  cryptocurr citi watchdog investig new fundrais...  17-Dec-17   \n",
       "53313         unilev sell household name spread kkr £6bn  17-Dec-17   \n",
       "53314  guardian view ryanair ’ model unionfriendli co...  17-Dec-17   \n",
       "\n",
       "       headline_score  \n",
       "53310          0.3818  \n",
       "53311          0.0000  \n",
       "53312          0.0000  \n",
       "53313          0.0000  \n",
       "53314          0.0000  "
      ]
     },
     "execution_count": 94,
     "metadata": {},
     "output_type": "execute_result"
    }
   ],
   "source": [
    "# analyze polarity score of values in headlines and  add new column of it in dataset\n",
    "\n",
    "score = []\n",
    "for value in cnbc_reuter_guardian['Headlines'].values:\n",
    "  score.append(analyzer.polarity_scores(value)['compound'])\n",
    "\n",
    "cnbc_reuter_guardian['headline_score'] = score\n",
    "cnbc_reuter_guardian.tail()\n"
   ]
  },
  {
   "cell_type": "code",
   "execution_count": null,
   "metadata": {
    "colab": {
     "base_uri": "https://localhost:8080/",
     "height": 206
    },
    "id": "OexQKGBxAgKb",
    "outputId": "f329e4ba-a0c0-43e3-b617-fc70ea5e04d4"
   },
   "outputs": [
    {
     "data": {
      "text/html": [
       "\n",
       "\n",
       "  <div id=\"df-61391219-3366-4828-82bd-695bdfe85a26\">\n",
       "    <div class=\"colab-df-container\">\n",
       "      <div>\n",
       "<style scoped>\n",
       "    .dataframe tbody tr th:only-of-type {\n",
       "        vertical-align: middle;\n",
       "    }\n",
       "\n",
       "    .dataframe tbody tr th {\n",
       "        vertical-align: top;\n",
       "    }\n",
       "\n",
       "    .dataframe thead th {\n",
       "        text-align: right;\n",
       "    }\n",
       "</style>\n",
       "<table border=\"1\" class=\"dataframe\">\n",
       "  <thead>\n",
       "    <tr style=\"text-align: right;\">\n",
       "      <th></th>\n",
       "      <th>Headlines</th>\n",
       "      <th>Time</th>\n",
       "      <th>headline_score</th>\n",
       "    </tr>\n",
       "  </thead>\n",
       "  <tbody>\n",
       "    <tr>\n",
       "      <th>53310</th>\n",
       "      <td>invest solar energi creat brighter futur africa</td>\n",
       "      <td>17-Dec-17</td>\n",
       "      <td>Positive</td>\n",
       "    </tr>\n",
       "    <tr>\n",
       "      <th>53311</th>\n",
       "      <td>poundland supplier hit insur downgrad</td>\n",
       "      <td>17-Dec-17</td>\n",
       "      <td>Neutral</td>\n",
       "    </tr>\n",
       "    <tr>\n",
       "      <th>53312</th>\n",
       "      <td>cryptocurr citi watchdog investig new fundrais...</td>\n",
       "      <td>17-Dec-17</td>\n",
       "      <td>Neutral</td>\n",
       "    </tr>\n",
       "    <tr>\n",
       "      <th>53313</th>\n",
       "      <td>unilev sell household name spread kkr £6bn</td>\n",
       "      <td>17-Dec-17</td>\n",
       "      <td>Neutral</td>\n",
       "    </tr>\n",
       "    <tr>\n",
       "      <th>53314</th>\n",
       "      <td>guardian view ryanair ’ model unionfriendli co...</td>\n",
       "      <td>17-Dec-17</td>\n",
       "      <td>Neutral</td>\n",
       "    </tr>\n",
       "  </tbody>\n",
       "</table>\n",
       "</div>\n",
       "      <button class=\"colab-df-convert\" onclick=\"convertToInteractive('df-61391219-3366-4828-82bd-695bdfe85a26')\"\n",
       "              title=\"Convert this dataframe to an interactive table.\"\n",
       "              style=\"display:none;\">\n",
       "\n",
       "  <svg xmlns=\"http://www.w3.org/2000/svg\" height=\"24px\"viewBox=\"0 0 24 24\"\n",
       "       width=\"24px\">\n",
       "    <path d=\"M0 0h24v24H0V0z\" fill=\"none\"/>\n",
       "    <path d=\"M18.56 5.44l.94 2.06.94-2.06 2.06-.94-2.06-.94-.94-2.06-.94 2.06-2.06.94zm-11 1L8.5 8.5l.94-2.06 2.06-.94-2.06-.94L8.5 2.5l-.94 2.06-2.06.94zm10 10l.94 2.06.94-2.06 2.06-.94-2.06-.94-.94-2.06-.94 2.06-2.06.94z\"/><path d=\"M17.41 7.96l-1.37-1.37c-.4-.4-.92-.59-1.43-.59-.52 0-1.04.2-1.43.59L10.3 9.45l-7.72 7.72c-.78.78-.78 2.05 0 2.83L4 21.41c.39.39.9.59 1.41.59.51 0 1.02-.2 1.41-.59l7.78-7.78 2.81-2.81c.8-.78.8-2.07 0-2.86zM5.41 20L4 18.59l7.72-7.72 1.47 1.35L5.41 20z\"/>\n",
       "  </svg>\n",
       "      </button>\n",
       "\n",
       "\n",
       "\n",
       "    <div id=\"df-100fbc87-30d3-4312-b0a8-493b134dd62d\">\n",
       "      <button class=\"colab-df-quickchart\" onclick=\"quickchart('df-100fbc87-30d3-4312-b0a8-493b134dd62d')\"\n",
       "              title=\"Suggest charts.\"\n",
       "              style=\"display:none;\">\n",
       "\n",
       "<svg xmlns=\"http://www.w3.org/2000/svg\" height=\"24px\"viewBox=\"0 0 24 24\"\n",
       "     width=\"24px\">\n",
       "    <g>\n",
       "        <path d=\"M19 3H5c-1.1 0-2 .9-2 2v14c0 1.1.9 2 2 2h14c1.1 0 2-.9 2-2V5c0-1.1-.9-2-2-2zM9 17H7v-7h2v7zm4 0h-2V7h2v10zm4 0h-2v-4h2v4z\"/>\n",
       "    </g>\n",
       "</svg>\n",
       "      </button>\n",
       "    </div>\n",
       "\n",
       "<style>\n",
       "  .colab-df-quickchart {\n",
       "    background-color: #E8F0FE;\n",
       "    border: none;\n",
       "    border-radius: 50%;\n",
       "    cursor: pointer;\n",
       "    display: none;\n",
       "    fill: #1967D2;\n",
       "    height: 32px;\n",
       "    padding: 0 0 0 0;\n",
       "    width: 32px;\n",
       "  }\n",
       "\n",
       "  .colab-df-quickchart:hover {\n",
       "    background-color: #E2EBFA;\n",
       "    box-shadow: 0px 1px 2px rgba(60, 64, 67, 0.3), 0px 1px 3px 1px rgba(60, 64, 67, 0.15);\n",
       "    fill: #174EA6;\n",
       "  }\n",
       "\n",
       "  [theme=dark] .colab-df-quickchart {\n",
       "    background-color: #3B4455;\n",
       "    fill: #D2E3FC;\n",
       "  }\n",
       "\n",
       "  [theme=dark] .colab-df-quickchart:hover {\n",
       "    background-color: #434B5C;\n",
       "    box-shadow: 0px 1px 3px 1px rgba(0, 0, 0, 0.15);\n",
       "    filter: drop-shadow(0px 1px 2px rgba(0, 0, 0, 0.3));\n",
       "    fill: #FFFFFF;\n",
       "  }\n",
       "</style>\n",
       "\n",
       "    <script>\n",
       "      async function quickchart(key) {\n",
       "        const containerElement = document.querySelector('#' + key);\n",
       "        const charts = await google.colab.kernel.invokeFunction(\n",
       "            'suggestCharts', [key], {});\n",
       "      }\n",
       "    </script>\n",
       "\n",
       "      <script>\n",
       "\n",
       "function displayQuickchartButton(domScope) {\n",
       "  let quickchartButtonEl =\n",
       "    domScope.querySelector('#df-100fbc87-30d3-4312-b0a8-493b134dd62d button.colab-df-quickchart');\n",
       "  quickchartButtonEl.style.display =\n",
       "    google.colab.kernel.accessAllowed ? 'block' : 'none';\n",
       "}\n",
       "\n",
       "        displayQuickchartButton(document);\n",
       "      </script>\n",
       "      <style>\n",
       "    .colab-df-container {\n",
       "      display:flex;\n",
       "      flex-wrap:wrap;\n",
       "      gap: 12px;\n",
       "    }\n",
       "\n",
       "    .colab-df-convert {\n",
       "      background-color: #E8F0FE;\n",
       "      border: none;\n",
       "      border-radius: 50%;\n",
       "      cursor: pointer;\n",
       "      display: none;\n",
       "      fill: #1967D2;\n",
       "      height: 32px;\n",
       "      padding: 0 0 0 0;\n",
       "      width: 32px;\n",
       "    }\n",
       "\n",
       "    .colab-df-convert:hover {\n",
       "      background-color: #E2EBFA;\n",
       "      box-shadow: 0px 1px 2px rgba(60, 64, 67, 0.3), 0px 1px 3px 1px rgba(60, 64, 67, 0.15);\n",
       "      fill: #174EA6;\n",
       "    }\n",
       "\n",
       "    [theme=dark] .colab-df-convert {\n",
       "      background-color: #3B4455;\n",
       "      fill: #D2E3FC;\n",
       "    }\n",
       "\n",
       "    [theme=dark] .colab-df-convert:hover {\n",
       "      background-color: #434B5C;\n",
       "      box-shadow: 0px 1px 3px 1px rgba(0, 0, 0, 0.15);\n",
       "      filter: drop-shadow(0px 1px 2px rgba(0, 0, 0, 0.3));\n",
       "      fill: #FFFFFF;\n",
       "    }\n",
       "  </style>\n",
       "\n",
       "      <script>\n",
       "        const buttonEl =\n",
       "          document.querySelector('#df-61391219-3366-4828-82bd-695bdfe85a26 button.colab-df-convert');\n",
       "        buttonEl.style.display =\n",
       "          google.colab.kernel.accessAllowed ? 'block' : 'none';\n",
       "\n",
       "        async function convertToInteractive(key) {\n",
       "          const element = document.querySelector('#df-61391219-3366-4828-82bd-695bdfe85a26');\n",
       "          const dataTable =\n",
       "            await google.colab.kernel.invokeFunction('convertToInteractive',\n",
       "                                                     [key], {});\n",
       "          if (!dataTable) return;\n",
       "\n",
       "          const docLinkHtml = 'Like what you see? Visit the ' +\n",
       "            '<a target=\"_blank\" href=https://colab.research.google.com/notebooks/data_table.ipynb>data table notebook</a>'\n",
       "            + ' to learn more about interactive tables.';\n",
       "          element.innerHTML = '';\n",
       "          dataTable['output_type'] = 'display_data';\n",
       "          await google.colab.output.renderOutput(dataTable, element);\n",
       "          const docLink = document.createElement('div');\n",
       "          docLink.innerHTML = docLinkHtml;\n",
       "          element.appendChild(docLink);\n",
       "        }\n",
       "      </script>\n",
       "    </div>\n",
       "  </div>\n"
      ],
      "text/plain": [
       "                                               Headlines       Time  \\\n",
       "53310    invest solar energi creat brighter futur africa  17-Dec-17   \n",
       "53311              poundland supplier hit insur downgrad  17-Dec-17   \n",
       "53312  cryptocurr citi watchdog investig new fundrais...  17-Dec-17   \n",
       "53313         unilev sell household name spread kkr £6bn  17-Dec-17   \n",
       "53314  guardian view ryanair ’ model unionfriendli co...  17-Dec-17   \n",
       "\n",
       "      headline_score  \n",
       "53310       Positive  \n",
       "53311        Neutral  \n",
       "53312        Neutral  \n",
       "53313        Neutral  \n",
       "53314        Neutral  "
      ]
     },
     "execution_count": 95,
     "metadata": {},
     "output_type": "execute_result"
    }
   ],
   "source": [
    "# apply the function  which decides sentiment to  polarity score column\n",
    "cnbc_reuter_guardian['headline_score'] = cnbc_reuter_guardian['headline_score'].apply(get_analysis)\n",
    "cnbc_reuter_guardian.tail()"
   ]
  },
  {
   "cell_type": "code",
   "execution_count": null,
   "metadata": {
    "colab": {
     "base_uri": "https://localhost:8080/"
    },
    "id": "NiIoQpS1AgIg",
    "outputId": "13ba6a5f-a766-4555-fa8f-5c1bac245876"
   },
   "outputs": [
    {
     "name": "stdout",
     "output_type": "stream",
     "text": [
      "Neutral     23959\n",
      "Negative    16107\n",
      "Positive    13249\n",
      "Name: headline_score, dtype: int64\n"
     ]
    }
   ],
   "source": [
    "#perform countplot on headline score column\n",
    "value_counts = cnbc_reuter_guardian.headline_score.value_counts()\n",
    "print(value_counts)\n"
   ]
  },
  {
   "cell_type": "markdown",
   "metadata": {
    "id": "LDnyTYgCzzOs"
   },
   "source": [
    "In the headlines\n",
    "\n",
    "there are approx\n",
    "\n",
    "14000 positive statment\n",
    "\n",
    "16000 negative statment\n",
    "\n",
    "24000 neutral statment"
   ]
  },
  {
   "cell_type": "code",
   "execution_count": null,
   "metadata": {
    "colab": {
     "base_uri": "https://localhost:8080/",
     "height": 423
    },
    "id": "0do52B-enPVe",
    "outputId": "e5e98507-8b8a-4d0d-f87d-83fecfe67979"
   },
   "outputs": [
    {
     "data": {
      "text/plain": [
       "<Axes: ylabel='headline_score'>"
      ]
     },
     "execution_count": 97,
     "metadata": {},
     "output_type": "execute_result"
    },
    {
     "data": {
      "image/png": "[encoded data removed]",
      "text/plain": [
       "<Figure size 640x480 with 1 Axes>"
      ]
     },
     "metadata": {},
     "output_type": "display_data"
    }
   ],
   "source": [
    "#perform pie digram on headline score column\n",
    "\n",
    "#plt.pie(value_counts, labels=value_counts.unique())\n",
    "value_counts.plot(kind='pie', autopct='%1.1f%%', explode=[0.05]*len(value_counts))"
   ]
  },
  {
   "cell_type": "markdown",
   "metadata": {
    "id": "8kckcYtg0DW6"
   },
   "source": [
    "In the dataset\n",
    "\n",
    "headlines contains\n",
    "\n",
    "24.8% positive statments\n",
    "\n",
    "30.3% negtive statements\n",
    "\n",
    "44.9% neutral statments"
   ]
  },
  {
   "cell_type": "markdown",
   "metadata": {
    "id": "xldbLpNQgfG-"
   },
   "source": [
    "# Modeling on headlines"
   ]
  },
  {
   "cell_type": "code",
   "execution_count": null,
   "metadata": {
    "colab": {
     "base_uri": "https://localhost:8080/",
     "height": 206
    },
    "id": "6-fS58l7xXYo",
    "outputId": "100a160c-987c-4b08-a05f-d22aeff59cab"
   },
   "outputs": [
    {
     "data": {
      "text/html": [
       "\n",
       "\n",
       "  <div id=\"df-034d2e2f-713d-43a7-9462-f3c4424ff119\">\n",
       "    <div class=\"colab-df-container\">\n",
       "      <div>\n",
       "<style scoped>\n",
       "    .dataframe tbody tr th:only-of-type {\n",
       "        vertical-align: middle;\n",
       "    }\n",
       "\n",
       "    .dataframe tbody tr th {\n",
       "        vertical-align: top;\n",
       "    }\n",
       "\n",
       "    .dataframe thead th {\n",
       "        text-align: right;\n",
       "    }\n",
       "</style>\n",
       "<table border=\"1\" class=\"dataframe\">\n",
       "  <thead>\n",
       "    <tr style=\"text-align: right;\">\n",
       "      <th></th>\n",
       "      <th>Headlines</th>\n",
       "      <th>Time</th>\n",
       "      <th>headline_score</th>\n",
       "    </tr>\n",
       "  </thead>\n",
       "  <tbody>\n",
       "    <tr>\n",
       "      <th>0</th>\n",
       "      <td>jim cramer better way invest covid19 vaccin go...</td>\n",
       "      <td>7:51  PM ET Fri, 17 July 2020</td>\n",
       "      <td>Positive</td>\n",
       "    </tr>\n",
       "    <tr>\n",
       "      <th>1</th>\n",
       "      <td>cramer lightn round would teradyn</td>\n",
       "      <td>7:33  PM ET Fri, 17 July 2020</td>\n",
       "      <td>Neutral</td>\n",
       "    </tr>\n",
       "    <tr>\n",
       "      <th>2</th>\n",
       "      <td>cramer week ahead big week earn even bigger we...</td>\n",
       "      <td>7:25  PM ET Fri, 17 July 2020</td>\n",
       "      <td>Neutral</td>\n",
       "    </tr>\n",
       "    <tr>\n",
       "      <th>3</th>\n",
       "      <td>iq capit ceo keith bliss say tech healthcar ralli</td>\n",
       "      <td>4:24  PM ET Fri, 17 July 2020</td>\n",
       "      <td>Positive</td>\n",
       "    </tr>\n",
       "    <tr>\n",
       "      <th>4</th>\n",
       "      <td>wall street deliv kind pullback ive wait jim c...</td>\n",
       "      <td>7:36  PM ET Thu, 16 July 2020</td>\n",
       "      <td>Positive</td>\n",
       "    </tr>\n",
       "  </tbody>\n",
       "</table>\n",
       "</div>\n",
       "      <button class=\"colab-df-convert\" onclick=\"convertToInteractive('df-034d2e2f-713d-43a7-9462-f3c4424ff119')\"\n",
       "              title=\"Convert this dataframe to an interactive table.\"\n",
       "              style=\"display:none;\">\n",
       "\n",
       "  <svg xmlns=\"http://www.w3.org/2000/svg\" height=\"24px\"viewBox=\"0 0 24 24\"\n",
       "       width=\"24px\">\n",
       "    <path d=\"M0 0h24v24H0V0z\" fill=\"none\"/>\n",
       "    <path d=\"M18.56 5.44l.94 2.06.94-2.06 2.06-.94-2.06-.94-.94-2.06-.94 2.06-2.06.94zm-11 1L8.5 8.5l.94-2.06 2.06-.94-2.06-.94L8.5 2.5l-.94 2.06-2.06.94zm10 10l.94 2.06.94-2.06 2.06-.94-2.06-.94-.94-2.06-.94 2.06-2.06.94z\"/><path d=\"M17.41 7.96l-1.37-1.37c-.4-.4-.92-.59-1.43-.59-.52 0-1.04.2-1.43.59L10.3 9.45l-7.72 7.72c-.78.78-.78 2.05 0 2.83L4 21.41c.39.39.9.59 1.41.59.51 0 1.02-.2 1.41-.59l7.78-7.78 2.81-2.81c.8-.78.8-2.07 0-2.86zM5.41 20L4 18.59l7.72-7.72 1.47 1.35L5.41 20z\"/>\n",
       "  </svg>\n",
       "      </button>\n",
       "\n",
       "\n",
       "\n",
       "    <div id=\"df-209f2c07-f6d3-48b1-a5fe-6dd9435f58aa\">\n",
       "      <button class=\"colab-df-quickchart\" onclick=\"quickchart('df-209f2c07-f6d3-48b1-a5fe-6dd9435f58aa')\"\n",
       "              title=\"Suggest charts.\"\n",
       "              style=\"display:none;\">\n",
       "\n",
       "<svg xmlns=\"http://www.w3.org/2000/svg\" height=\"24px\"viewBox=\"0 0 24 24\"\n",
       "     width=\"24px\">\n",
       "    <g>\n",
       "        <path d=\"M19 3H5c-1.1 0-2 .9-2 2v14c0 1.1.9 2 2 2h14c1.1 0 2-.9 2-2V5c0-1.1-.9-2-2-2zM9 17H7v-7h2v7zm4 0h-2V7h2v10zm4 0h-2v-4h2v4z\"/>\n",
       "    </g>\n",
       "</svg>\n",
       "      </button>\n",
       "    </div>\n",
       "\n",
       "<style>\n",
       "  .colab-df-quickchart {\n",
       "    background-color: #E8F0FE;\n",
       "    border: none;\n",
       "    border-radius: 50%;\n",
       "    cursor: pointer;\n",
       "    display: none;\n",
       "    fill: #1967D2;\n",
       "    height: 32px;\n",
       "    padding: 0 0 0 0;\n",
       "    width: 32px;\n",
       "  }\n",
       "\n",
       "  .colab-df-quickchart:hover {\n",
       "    background-color: #E2EBFA;\n",
       "    box-shadow: 0px 1px 2px rgba(60, 64, 67, 0.3), 0px 1px 3px 1px rgba(60, 64, 67, 0.15);\n",
       "    fill: #174EA6;\n",
       "  }\n",
       "\n",
       "  [theme=dark] .colab-df-quickchart {\n",
       "    background-color: #3B4455;\n",
       "    fill: #D2E3FC;\n",
       "  }\n",
       "\n",
       "  [theme=dark] .colab-df-quickchart:hover {\n",
       "    background-color: #434B5C;\n",
       "    box-shadow: 0px 1px 3px 1px rgba(0, 0, 0, 0.15);\n",
       "    filter: drop-shadow(0px 1px 2px rgba(0, 0, 0, 0.3));\n",
       "    fill: #FFFFFF;\n",
       "  }\n",
       "</style>\n",
       "\n",
       "    <script>\n",
       "      async function quickchart(key) {\n",
       "        const containerElement = document.querySelector('#' + key);\n",
       "        const charts = await google.colab.kernel.invokeFunction(\n",
       "            'suggestCharts', [key], {});\n",
       "      }\n",
       "    </script>\n",
       "\n",
       "      <script>\n",
       "\n",
       "function displayQuickchartButton(domScope) {\n",
       "  let quickchartButtonEl =\n",
       "    domScope.querySelector('#df-209f2c07-f6d3-48b1-a5fe-6dd9435f58aa button.colab-df-quickchart');\n",
       "  quickchartButtonEl.style.display =\n",
       "    google.colab.kernel.accessAllowed ? 'block' : 'none';\n",
       "}\n",
       "\n",
       "        displayQuickchartButton(document);\n",
       "      </script>\n",
       "      <style>\n",
       "    .colab-df-container {\n",
       "      display:flex;\n",
       "      flex-wrap:wrap;\n",
       "      gap: 12px;\n",
       "    }\n",
       "\n",
       "    .colab-df-convert {\n",
       "      background-color: #E8F0FE;\n",
       "      border: none;\n",
       "      border-radius: 50%;\n",
       "      cursor: pointer;\n",
       "      display: none;\n",
       "      fill: #1967D2;\n",
       "      height: 32px;\n",
       "      padding: 0 0 0 0;\n",
       "      width: 32px;\n",
       "    }\n",
       "\n",
       "    .colab-df-convert:hover {\n",
       "      background-color: #E2EBFA;\n",
       "      box-shadow: 0px 1px 2px rgba(60, 64, 67, 0.3), 0px 1px 3px 1px rgba(60, 64, 67, 0.15);\n",
       "      fill: #174EA6;\n",
       "    }\n",
       "\n",
       "    [theme=dark] .colab-df-convert {\n",
       "      background-color: #3B4455;\n",
       "      fill: #D2E3FC;\n",
       "    }\n",
       "\n",
       "    [theme=dark] .colab-df-convert:hover {\n",
       "      background-color: #434B5C;\n",
       "      box-shadow: 0px 1px 3px 1px rgba(0, 0, 0, 0.15);\n",
       "      filter: drop-shadow(0px 1px 2px rgba(0, 0, 0, 0.3));\n",
       "      fill: #FFFFFF;\n",
       "    }\n",
       "  </style>\n",
       "\n",
       "      <script>\n",
       "        const buttonEl =\n",
       "          document.querySelector('#df-034d2e2f-713d-43a7-9462-f3c4424ff119 button.colab-df-convert');\n",
       "        buttonEl.style.display =\n",
       "          google.colab.kernel.accessAllowed ? 'block' : 'none';\n",
       "\n",
       "        async function convertToInteractive(key) {\n",
       "          const element = document.querySelector('#df-034d2e2f-713d-43a7-9462-f3c4424ff119');\n",
       "          const dataTable =\n",
       "            await google.colab.kernel.invokeFunction('convertToInteractive',\n",
       "                                                     [key], {});\n",
       "          if (!dataTable) return;\n",
       "\n",
       "          const docLinkHtml = 'Like what you see? Visit the ' +\n",
       "            '<a target=\"_blank\" href=https://colab.research.google.com/notebooks/data_table.ipynb>data table notebook</a>'\n",
       "            + ' to learn more about interactive tables.';\n",
       "          element.innerHTML = '';\n",
       "          dataTable['output_type'] = 'display_data';\n",
       "          await google.colab.output.renderOutput(dataTable, element);\n",
       "          const docLink = document.createElement('div');\n",
       "          docLink.innerHTML = docLinkHtml;\n",
       "          element.appendChild(docLink);\n",
       "        }\n",
       "      </script>\n",
       "    </div>\n",
       "  </div>\n"
      ],
      "text/plain": [
       "                                           Headlines  \\\n",
       "0  jim cramer better way invest covid19 vaccin go...   \n",
       "1                  cramer lightn round would teradyn   \n",
       "2  cramer week ahead big week earn even bigger we...   \n",
       "3  iq capit ceo keith bliss say tech healthcar ralli   \n",
       "4  wall street deliv kind pullback ive wait jim c...   \n",
       "\n",
       "                             Time headline_score  \n",
       "0   7:51  PM ET Fri, 17 July 2020       Positive  \n",
       "1   7:33  PM ET Fri, 17 July 2020        Neutral  \n",
       "2   7:25  PM ET Fri, 17 July 2020        Neutral  \n",
       "3   4:24  PM ET Fri, 17 July 2020       Positive  \n",
       "4   7:36  PM ET Thu, 16 July 2020       Positive  "
      ]
     },
     "execution_count": 98,
     "metadata": {},
     "output_type": "execute_result"
    }
   ],
   "source": [
    "cnbc_reuter_guardian.head()"
   ]
  },
  {
   "cell_type": "code",
   "execution_count": null,
   "metadata": {
    "colab": {
     "base_uri": "https://localhost:8080/"
    },
    "id": "T1v5tZHj4xk7",
    "outputId": "00ea403b-a9ae-4be2-e1ab-2b9435dbd3ff"
   },
   "outputs": [
    {
     "name": "stdout",
     "output_type": "stream",
     "text": [
      "x_train:(47983,), x_test:(5332,)\n"
     ]
    }
   ],
   "source": [
    "# split the dataset  into test and train\n",
    "# 90% train , 10% test and random state 212\n",
    "\n",
    "x_train, x_test, y_train,y_test = train_test_split(cnbc_reuter_guardian['Headlines'], cnbc_reuter_guardian['headline_score'], test_size=0.1, random_state=121)\n",
    "print(f'x_train:{x_train.shape}, x_test:{x_test.shape}')"
   ]
  },
  {
   "cell_type": "markdown",
   "metadata": {
    "id": "x4bzS8ZiiZ5I"
   },
   "source": [
    "LINEAR SUPPORT VECTOR MACHINE"
   ]
  },
  {
   "cell_type": "code",
   "execution_count": null,
   "metadata": {
    "colab": {
     "base_uri": "https://localhost:8080/"
    },
    "id": "ajb1LxXxhsKS",
    "outputId": "498c2a33-b42d-4c80-d1a3-27ca583dadbf"
   },
   "outputs": [
    {
     "name": "stdout",
     "output_type": "stream",
     "text": [
      "Model - Linear SVC\n",
      "Accuracy score is 0.9728057014253564\n",
      "[[1593   31   43]\n",
      " [  10 2382    5]\n",
      " [  39   17 1212]]\n",
      "              precision    recall  f1-score   support\n",
      "\n",
      "    Negative       0.97      0.96      0.96      1667\n",
      "     Neutral       0.98      0.99      0.99      2397\n",
      "    Positive       0.96      0.96      0.96      1268\n",
      "\n",
      "    accuracy                           0.97      5332\n",
      "   macro avg       0.97      0.97      0.97      5332\n",
      "weighted avg       0.97      0.97      0.97      5332\n",
      "\n",
      "CPU times: user 1.25 s, sys: 7.95 ms, total: 1.25 s\n",
      "Wall time: 1.28 s\n"
     ]
    }
   ],
   "source": [
    "%%time\n",
    "from sklearn.pipeline import Pipeline\n",
    "from sklearn.feature_extraction.text import TfidfVectorizer\n",
    "from sklearn.svm import LinearSVC\n",
    "from sklearn.metrics import accuracy_score, confusion_matrix, classification_report\n",
    "# pipeline creation\n",
    "# 1. tfidVectorization\n",
    "# 2. linearSVC model\n",
    "\n",
    "pipe = Pipeline([('tfidf', TfidfVectorizer()),\n",
    "                 ('model', LinearSVC())])\n",
    "\n",
    "# Fit the pipeline to the data\n",
    "linear_svc_model_headline = pipe.fit(x_train, y_train)\n",
    "# predict on test dataset\n",
    "prediction = linear_svc_model_headline.predict(x_test)\n",
    "print('Model - Linear SVC')\n",
    "# print accuracy score\n",
    "accuracy_lsvc = print('Accuracy score is {}'.format(accuracy_score(y_test, prediction)))\n",
    "#print confusion matrix\n",
    "print(confusion_matrix(y_test, prediction))\n",
    "#print classification report\n",
    "print(classification_report(y_test, prediction))\n"
   ]
  },
  {
   "cell_type": "markdown",
   "metadata": {
    "id": "MSeXO8a1iePB"
   },
   "source": [
    "LOGISTIC REGRESSION"
   ]
  },
  {
   "cell_type": "code",
   "execution_count": null,
   "metadata": {
    "colab": {
     "base_uri": "https://localhost:8080/"
    },
    "id": "nU4V-w3vhsHi",
    "outputId": "9e5509dc-95cf-442d-ffd7-f034fbc6a9cd"
   },
   "outputs": [
    {
     "name": "stderr",
     "output_type": "stream",
     "text": [
      "/usr/local/lib/python3.10/dist-packages/sklearn/linear_model/_logistic.py:458: ConvergenceWarning:\n",
      "\n",
      "lbfgs failed to converge (status=1):\n",
      "STOP: TOTAL NO. of ITERATIONS REACHED LIMIT.\n",
      "\n",
      "Increase the number of iterations (max_iter) or scale the data as shown in:\n",
      "    https://scikit-learn.org/stable/modules/preprocessing.html\n",
      "Please also refer to the documentation for alternative solver options:\n",
      "    https://scikit-learn.org/stable/modules/linear_model.html#logistic-regression\n",
      "\n"
     ]
    },
    {
     "name": "stdout",
     "output_type": "stream",
     "text": [
      "Model - logestic regression\n",
      "Accuracy score is 0.9414853713428357\n",
      "[[1501  113   53]\n",
      " [   8 2382    7]\n",
      " [  48   83 1137]]\n",
      "              precision    recall  f1-score   support\n",
      "\n",
      "    Negative       0.96      0.90      0.93      1667\n",
      "     Neutral       0.92      0.99      0.96      2397\n",
      "    Positive       0.95      0.90      0.92      1268\n",
      "\n",
      "    accuracy                           0.94      5332\n",
      "   macro avg       0.95      0.93      0.94      5332\n",
      "weighted avg       0.94      0.94      0.94      5332\n",
      "\n",
      "CPU times: user 3.3 s, sys: 3.22 s, total: 6.53 s\n",
      "Wall time: 3.73 s\n"
     ]
    }
   ],
   "source": [
    "%%time\n",
    "from sklearn.pipeline import Pipeline\n",
    "from sklearn.feature_extraction.text import TfidfVectorizer\n",
    "from sklearn.feature_extraction.text import CountVectorizer\n",
    "from sklearn.feature_extraction.text import TfidfTransformer\n",
    "from sklearn.linear_model import LogisticRegression\n",
    "from sklearn.metrics import accuracy_score, confusion_matrix, classification_report\n",
    "# pipeline creation\n",
    "# 1. tfidVectorization\n",
    "# 2. LogisticRegression\n",
    "\n",
    "pipe = Pipeline([('tfidf', TfidfVectorizer()),    #('vect', CountVectorizer())\n",
    "                  ('model', LogisticRegression())])\n",
    "\n",
    "# Fit the pipeline to the data\n",
    "logestic_model_headline = pipe.fit(x_train, y_train)\n",
    "# predict on test dataset\n",
    "prediction = logestic_model_headline.predict(x_test)\n",
    "print('Model - logestic regression')\n",
    "# print accuracy score\n",
    "accuracy_logestic = print('Accuracy score is {}'.format(accuracy_score(y_test, prediction)))\n",
    "#print confusion matrix\n",
    "print(confusion_matrix(y_test, prediction))\n",
    "#print classification report\n",
    "print(classification_report(y_test, prediction))"
   ]
  },
  {
   "cell_type": "markdown",
   "metadata": {
    "id": "uX2i2JIwiiAk"
   },
   "source": [
    "MULTINOMIAL NAIVE BAYES\n"
   ]
  },
  {
   "cell_type": "code",
   "execution_count": null,
   "metadata": {
    "colab": {
     "base_uri": "https://localhost:8080/"
    },
    "id": "yaq-D8-qhsFH",
    "outputId": "86064afb-0722-4f80-b148-d696d31fab5f"
   },
   "outputs": [
    {
     "name": "stdout",
     "output_type": "stream",
     "text": [
      "Model -  multinomial_model\n",
      "Accuracy score is 0.8621530382595649\n",
      "[[1431  187   49]\n",
      " [  56 2323   18]\n",
      " [ 193  232  843]]\n",
      "              precision    recall  f1-score   support\n",
      "\n",
      "    Negative       0.85      0.86      0.86      1667\n",
      "     Neutral       0.85      0.97      0.90      2397\n",
      "    Positive       0.93      0.66      0.77      1268\n",
      "\n",
      "    accuracy                           0.86      5332\n",
      "   macro avg       0.88      0.83      0.84      5332\n",
      "weighted avg       0.87      0.86      0.86      5332\n",
      "\n",
      "CPU times: user 597 ms, sys: 3.11 ms, total: 600 ms\n",
      "Wall time: 600 ms\n"
     ]
    }
   ],
   "source": [
    "%%time\n",
    "from sklearn.pipeline import Pipeline\n",
    "from sklearn.feature_extraction.text import TfidfVectorizer\n",
    "from sklearn.feature_extraction.text import CountVectorizer\n",
    "from sklearn.naive_bayes import MultinomialNB\n",
    "from sklearn.metrics import accuracy_score, confusion_matrix, classification_report\n",
    "# pipeline creation\n",
    "# 1. tfidVectorization\n",
    "# 2. multinomialNB\n",
    "\n",
    "pipe = Pipeline([\n",
    "                  ('tfidf', TfidfVectorizer()),   #('vect', CountVectorizer())\n",
    "                  ('model', MultinomialNB())])\n",
    "\n",
    "# Fit the pipeline to the data\n",
    "multinomial_model_headline = pipe.fit(x_train, y_train)\n",
    "# predict on test dataset\n",
    "prediction = multinomial_model_headline.predict(x_test)\n",
    "print('Model -  multinomial_model')\n",
    "# print accuracy score\n",
    "accuracy_multinomial = print('Accuracy score is {}'.format(accuracy_score(y_test, prediction)))\n",
    "#print confusion matrix\n",
    "print(confusion_matrix(y_test, prediction))\n",
    "#print classification report\n",
    "print(classification_report(y_test, prediction))"
   ]
  },
  {
   "cell_type": "markdown",
   "metadata": {
    "id": "67D7-TNXil6t"
   },
   "source": [
    "BERNOULLI NAIVE BAYES\n"
   ]
  },
  {
   "cell_type": "code",
   "execution_count": null,
   "metadata": {
    "colab": {
     "base_uri": "https://localhost:8080/"
    },
    "id": "I-RnJCDxhsB6",
    "outputId": "520c6fd7-003c-480c-9763-ea24f814714e"
   },
   "outputs": [
    {
     "name": "stdout",
     "output_type": "stream",
     "text": [
      "Model -  BernoulliNB_model\n",
      "Accuracy score is 0.8987246811702926\n",
      "[[1520   57   90]\n",
      " [ 116 2201   80]\n",
      " [ 155   42 1071]]\n",
      "              precision    recall  f1-score   support\n",
      "\n",
      "    Negative       0.85      0.91      0.88      1667\n",
      "     Neutral       0.96      0.92      0.94      2397\n",
      "    Positive       0.86      0.84      0.85      1268\n",
      "\n",
      "    accuracy                           0.90      5332\n",
      "   macro avg       0.89      0.89      0.89      5332\n",
      "weighted avg       0.90      0.90      0.90      5332\n",
      "\n",
      "CPU times: user 597 ms, sys: 4.07 ms, total: 601 ms\n",
      "Wall time: 602 ms\n"
     ]
    }
   ],
   "source": [
    "%%time\n",
    "from sklearn.pipeline import Pipeline\n",
    "from sklearn.feature_extraction.text import TfidfVectorizer\n",
    "from sklearn.feature_extraction.text import CountVectorizer\n",
    "from sklearn.naive_bayes import BernoulliNB\n",
    "from sklearn.metrics import accuracy_score, confusion_matrix, classification_report\n",
    "# pipeline creation\n",
    "# 1. tfidVectorization\n",
    "# 2. BERNOULLINB\n",
    "\n",
    "pipe = Pipeline([\n",
    "                  ('tfidf', TfidfVectorizer()),   #('vect', CountVectorizer())\n",
    "                  ('model', BernoulliNB())])\n",
    "\n",
    "# Fit the pipeline to the data\n",
    "BernoulliNB_model_headline = pipe.fit(x_train, y_train)\n",
    "# predict on test dataset\n",
    "prediction = BernoulliNB_model_headline.predict(x_test)\n",
    "print('Model -  BernoulliNB_model')\n",
    "# print accuracy score\n",
    "accuracy_bernoulli = print('Accuracy score is {}'.format(accuracy_score(y_test, prediction)))\n",
    "#print confusion matrix\n",
    "print(confusion_matrix(y_test, prediction))\n",
    "#print classification report\n",
    "print(classification_report(y_test, prediction))"
   ]
  },
  {
   "cell_type": "markdown",
   "metadata": {
    "id": "8GUtphU3i5fP"
   },
   "source": [
    "GRADIENT BOOSTING CLASSIFICATION MODEL\n"
   ]
  },
  {
   "cell_type": "code",
   "execution_count": null,
   "metadata": {
    "colab": {
     "base_uri": "https://localhost:8080/"
    },
    "id": "KSfng2DphsAG",
    "outputId": "cde66da9-024d-4307-fb75-0395adba9107"
   },
   "outputs": [
    {
     "name": "stderr",
     "output_type": "stream",
     "text": [
      "/usr/local/lib/python3.10/dist-packages/sklearn/ensemble/_gb.py:280: FutureWarning:\n",
      "\n",
      "The loss parameter name 'deviance' was deprecated in v1.1 and will be removed in version 1.3. Use the new parameter name 'log_loss' which is equivalent.\n",
      "\n"
     ]
    },
    {
     "name": "stdout",
     "output_type": "stream",
     "text": [
      "Model -  GradientBoostingClassifier_model\n",
      "Accuracy score is 0.44954988747186797\n",
      "[[   0 1667    0]\n",
      " [   0 2397    0]\n",
      " [   0 1268    0]]\n",
      "              precision    recall  f1-score   support\n",
      "\n",
      "    Negative       0.00      0.00      0.00      1667\n",
      "     Neutral       0.45      1.00      0.62      2397\n",
      "    Positive       0.00      0.00      0.00      1268\n",
      "\n",
      "    accuracy                           0.45      5332\n",
      "   macro avg       0.15      0.33      0.21      5332\n",
      "weighted avg       0.20      0.45      0.28      5332\n",
      "\n",
      "CPU times: user 7.38 s, sys: 11.2 ms, total: 7.39 s\n",
      "Wall time: 7.43 s\n"
     ]
    },
    {
     "name": "stderr",
     "output_type": "stream",
     "text": [
      "/usr/local/lib/python3.10/dist-packages/sklearn/metrics/_classification.py:1344: UndefinedMetricWarning:\n",
      "\n",
      "Precision and F-score are ill-defined and being set to 0.0 in labels with no predicted samples. Use `zero_division` parameter to control this behavior.\n",
      "\n",
      "/usr/local/lib/python3.10/dist-packages/sklearn/metrics/_classification.py:1344: UndefinedMetricWarning:\n",
      "\n",
      "Precision and F-score are ill-defined and being set to 0.0 in labels with no predicted samples. Use `zero_division` parameter to control this behavior.\n",
      "\n",
      "/usr/local/lib/python3.10/dist-packages/sklearn/metrics/_classification.py:1344: UndefinedMetricWarning:\n",
      "\n",
      "Precision and F-score are ill-defined and being set to 0.0 in labels with no predicted samples. Use `zero_division` parameter to control this behavior.\n",
      "\n"
     ]
    }
   ],
   "source": [
    "%%time\n",
    "from sklearn.pipeline import Pipeline\n",
    "from sklearn.feature_extraction.text import TfidfVectorizer\n",
    "from sklearn.feature_extraction.text import CountVectorizer\n",
    "from sklearn.ensemble import GradientBoostingClassifier\n",
    "from sklearn.metrics import accuracy_score, confusion_matrix, classification_report\n",
    "# pipeline creation\n",
    "# 1. tfidVectorization\n",
    "# 2. GradientBoostingClassifier\n",
    "\n",
    "pipe = Pipeline([\n",
    "                  ('tfidf', TfidfVectorizer()),   #('vect', CountVectorizer())\n",
    "                  ('model', GradientBoostingClassifier(loss='deviance',\n",
    "                                              learning_rate=0.01,\n",
    "                                              n_estimators=10,\n",
    "                                              max_depth = 5,\n",
    "                                              random_state=55))])\n",
    "\n",
    "# Fit the pipeline to the data\n",
    "GradientBoostingClassifier_model_headline = pipe.fit(x_train, y_train)\n",
    "# predict on test dataset\n",
    "prediction = GradientBoostingClassifier_model_headline.predict(x_test)\n",
    "print('Model -  GradientBoostingClassifier_model')\n",
    "# print accuracy score\n",
    "accuracy_GradientBoostingClassifier_model = print('Accuracy score is {}'.format(accuracy_score(y_test, prediction)))\n",
    "#print confusion matrix\n",
    "print(confusion_matrix(y_test, prediction))\n",
    "#print classification report\n",
    "print(classification_report(y_test, prediction))"
   ]
  },
  {
   "cell_type": "markdown",
   "metadata": {
    "id": "N-ucxwSqixk7"
   },
   "source": [
    "XGBOOST CLASSIFICATION MODEL\n"
   ]
  },
  {
   "cell_type": "code",
   "execution_count": null,
   "metadata": {
    "colab": {
     "base_uri": "https://localhost:8080/"
    },
    "id": "nQg5zgOi4xid",
    "outputId": "e48d90d0-1768-486f-e47f-7e544fca5587"
   },
   "outputs": [
    {
     "name": "stdout",
     "output_type": "stream",
     "text": [
      "CPU times: user 2 µs, sys: 0 ns, total: 2 µs\n",
      "Wall time: 3.81 µs\n"
     ]
    }
   ],
   "source": [
    "%%time\n",
    "# pipeline creation\n",
    "# 1. CountVectorizer\n",
    "# 2. TfidTransformer\n",
    "# 3. XGBClassifier\n",
    "\n",
    "\n",
    "# Fit the model to the data\n",
    "\n",
    "\n",
    "# predict on test data\n",
    "\n",
    "\n",
    "#print accuracy\n",
    "\n",
    "#print confusion matrix\n",
    "\n",
    "# print classification report\n"
   ]
  },
  {
   "cell_type": "markdown",
   "metadata": {
    "id": "u_N_BrWyjABA"
   },
   "source": [
    "DECISION TREE CLASSIFICATION MODEL\n"
   ]
  },
  {
   "cell_type": "code",
   "execution_count": null,
   "metadata": {
    "colab": {
     "base_uri": "https://localhost:8080/"
    },
    "id": "IvA6LRen4xeh",
    "outputId": "de9c3b1d-24bb-4066-a0ca-756bad99eb23"
   },
   "outputs": [
    {
     "name": "stdout",
     "output_type": "stream",
     "text": [
      "Model -  DecisionTreeClassifier_model\n",
      "Accuracy score is 0.9551762940735183\n",
      "[[1533   17  117]\n",
      " [   6 2384    7]\n",
      " [  84    8 1176]]\n",
      "              precision    recall  f1-score   support\n",
      "\n",
      "    Negative       0.94      0.92      0.93      1667\n",
      "     Neutral       0.99      0.99      0.99      2397\n",
      "    Positive       0.90      0.93      0.92      1268\n",
      "\n",
      "    accuracy                           0.96      5332\n",
      "   macro avg       0.95      0.95      0.95      5332\n",
      "weighted avg       0.96      0.96      0.96      5332\n",
      "\n",
      "CPU times: user 16.6 s, sys: 13 ms, total: 16.6 s\n",
      "Wall time: 16.6 s\n"
     ]
    }
   ],
   "source": [
    "%%time\n",
    "from sklearn.pipeline import Pipeline\n",
    "from sklearn.feature_extraction.text import TfidfVectorizer\n",
    "from sklearn.feature_extraction.text import CountVectorizer\n",
    "from sklearn.tree import DecisionTreeClassifier\n",
    "from sklearn.metrics import accuracy_score, confusion_matrix, classification_report\n",
    "# pipeline creation\n",
    "# 1. tfidVectorization\n",
    "# 2. DecisionTreeClassifier\n",
    "\n",
    "pipe = Pipeline([\n",
    "                  ('tfidf', TfidfVectorizer()),   #('vect', CountVectorizer())\n",
    "                  ('model', DecisionTreeClassifier())])\n",
    "\n",
    "# Fit the pipeline to the data\n",
    "DecisionTreeClassifier_model_headline = pipe.fit(x_train, y_train)\n",
    "# predict on test dataset\n",
    "prediction = DecisionTreeClassifier_model_headline.predict(x_test)\n",
    "print('Model -  DecisionTreeClassifier_model')\n",
    "# print accuracy score\n",
    "accuracy_DecisionTreeClassifier_model = print('Accuracy score is {}'.format(accuracy_score(y_test, prediction)))\n",
    "#print confusion matrix\n",
    "print(confusion_matrix(y_test, prediction))\n",
    "#print classification report\n",
    "print(classification_report(y_test, prediction))"
   ]
  },
  {
   "cell_type": "markdown",
   "metadata": {
    "id": "ez0xd3SmjDAU"
   },
   "source": [
    "K- NEAREST NEIGHBOUR CLASSIFIER MODEL\n"
   ]
  },
  {
   "cell_type": "code",
   "execution_count": null,
   "metadata": {
    "colab": {
     "base_uri": "https://localhost:8080/"
    },
    "id": "G7Y6zavB4xcc",
    "outputId": "c60646b0-4a0d-4a30-fdeb-5cc7f8df77e8"
   },
   "outputs": [
    {
     "name": "stdout",
     "output_type": "stream",
     "text": [
      "Model -  KNeighborsClassifier_model\n",
      "Accuracy score is 0.6140285071267817\n",
      "[[1027  533  107]\n",
      " [ 499 1728  170]\n",
      " [ 282  467  519]]\n",
      "              precision    recall  f1-score   support\n",
      "\n",
      "    Negative       0.57      0.62      0.59      1667\n",
      "     Neutral       0.63      0.72      0.67      2397\n",
      "    Positive       0.65      0.41      0.50      1268\n",
      "\n",
      "    accuracy                           0.61      5332\n",
      "   macro avg       0.62      0.58      0.59      5332\n",
      "weighted avg       0.62      0.61      0.61      5332\n",
      "\n",
      "CPU times: user 26.8 s, sys: 22.8 ms, total: 26.9 s\n",
      "Wall time: 15.2 s\n"
     ]
    }
   ],
   "source": [
    "%%time\n",
    "from sklearn.pipeline import Pipeline\n",
    "from sklearn.feature_extraction.text import TfidfVectorizer\n",
    "from sklearn.feature_extraction.text import CountVectorizer\n",
    "from sklearn.neighbors import KNeighborsClassifier\n",
    "from sklearn.metrics import accuracy_score, confusion_matrix, classification_report\n",
    "# pipeline creation\n",
    "# 1. tfidVectorization\n",
    "# 2. KNeighborsClassifier\n",
    "\n",
    "pipe = Pipeline([\n",
    "                  ('tfidf', TfidfVectorizer()),   #('vect', CountVectorizer())\n",
    "                  ('model', KNeighborsClassifier())])\n",
    "\n",
    "# Fit the pipeline to the data\n",
    "KNeighborsClassifier_model_headline = pipe.fit(x_train, y_train)\n",
    "# predict on test dataset\n",
    "prediction = KNeighborsClassifier_model_headline.predict(x_test)\n",
    "print('Model -  KNeighborsClassifier_model')\n",
    "# print accuracy score\n",
    "accuracy_KNeighborsClassifier_model = print('Accuracy score is {}'.format(accuracy_score(y_test, prediction)))\n",
    "#print confusion matrix\n",
    "print(confusion_matrix(y_test, prediction))\n",
    "#print classification report\n",
    "print(classification_report(y_test, prediction))"
   ]
  },
  {
   "cell_type": "code",
   "execution_count": null,
   "metadata": {
    "id": "ncLiLHw6rNFP"
   },
   "outputs": [],
   "source": [
    "# helper function for comparing models matric\n",
    "def comparing_models(models, names, x_train, y_train, x_test, y_test):\n",
    "\n",
    "    # the libraries we need\n",
    "    from sklearn.metrics import accuracy_score, classification_report\n",
    "    from sklearn.model_selection import train_test_split\n",
    "\n",
    "    # create a dataframe with column matric and metric name as value\n",
    "    for model, name in zip(models, names):\n",
    "      print(name)\n",
    "      # then predict on the test set\n",
    "      y_pred = model.predict(x_test)\n",
    "      print(accuracy_score(y_test, y_pred))\n",
    "      res = classification_report(y_test, y_pred)\n",
    "      print('Classification report:', res)\n",
    "      print(25*'---')\n"
   ]
  },
  {
   "cell_type": "code",
   "execution_count": null,
   "metadata": {
    "colab": {
     "base_uri": "https://localhost:8080/"
    },
    "id": "FspHXt4ZrdWV",
    "outputId": "016a30d6-5453-42cf-8cca-20f56aba9d06"
   },
   "outputs": [
    {
     "name": "stdout",
     "output_type": "stream",
     "text": [
      "linear_svc\n",
      "0.9728057014253564\n",
      "Classification report:               precision    recall  f1-score   support\n",
      "\n",
      "    Negative       0.97      0.96      0.96      1667\n",
      "     Neutral       0.98      0.99      0.99      2397\n",
      "    Positive       0.96      0.96      0.96      1268\n",
      "\n",
      "    accuracy                           0.97      5332\n",
      "   macro avg       0.97      0.97      0.97      5332\n",
      "weighted avg       0.97      0.97      0.97      5332\n",
      "\n",
      "---------------------------------------------------------------------------\n",
      "logestic_model\n",
      "0.9414853713428357\n",
      "Classification report:               precision    recall  f1-score   support\n",
      "\n",
      "    Negative       0.96      0.90      0.93      1667\n",
      "     Neutral       0.92      0.99      0.96      2397\n",
      "    Positive       0.95      0.90      0.92      1268\n",
      "\n",
      "    accuracy                           0.94      5332\n",
      "   macro avg       0.95      0.93      0.94      5332\n",
      "weighted avg       0.94      0.94      0.94      5332\n",
      "\n",
      "---------------------------------------------------------------------------\n",
      "multinomial_NB\n",
      "0.8621530382595649\n",
      "Classification report:               precision    recall  f1-score   support\n",
      "\n",
      "    Negative       0.85      0.86      0.86      1667\n",
      "     Neutral       0.85      0.97      0.90      2397\n",
      "    Positive       0.93      0.66      0.77      1268\n",
      "\n",
      "    accuracy                           0.86      5332\n",
      "   macro avg       0.88      0.83      0.84      5332\n",
      "weighted avg       0.87      0.86      0.86      5332\n",
      "\n",
      "---------------------------------------------------------------------------\n",
      "BernoulliNB\n",
      "0.8987246811702926\n",
      "Classification report:               precision    recall  f1-score   support\n",
      "\n",
      "    Negative       0.85      0.91      0.88      1667\n",
      "     Neutral       0.96      0.92      0.94      2397\n",
      "    Positive       0.86      0.84      0.85      1268\n",
      "\n",
      "    accuracy                           0.90      5332\n",
      "   macro avg       0.89      0.89      0.89      5332\n",
      "weighted avg       0.90      0.90      0.90      5332\n",
      "\n",
      "---------------------------------------------------------------------------\n",
      "GradientBoostingClassifier\n",
      "0.44954988747186797\n",
      "Classification report:               precision    recall  f1-score   support\n",
      "\n",
      "    Negative       0.00      0.00      0.00      1667\n",
      "     Neutral       0.45      1.00      0.62      2397\n",
      "    Positive       0.00      0.00      0.00      1268\n",
      "\n",
      "    accuracy                           0.45      5332\n",
      "   macro avg       0.15      0.33      0.21      5332\n",
      "weighted avg       0.20      0.45      0.28      5332\n",
      "\n",
      "---------------------------------------------------------------------------\n",
      "DecisionTreeClassifier\n"
     ]
    },
    {
     "name": "stderr",
     "output_type": "stream",
     "text": [
      "/usr/local/lib/python3.10/dist-packages/sklearn/metrics/_classification.py:1344: UndefinedMetricWarning:\n",
      "\n",
      "Precision and F-score are ill-defined and being set to 0.0 in labels with no predicted samples. Use `zero_division` parameter to control this behavior.\n",
      "\n",
      "/usr/local/lib/python3.10/dist-packages/sklearn/metrics/_classification.py:1344: UndefinedMetricWarning:\n",
      "\n",
      "Precision and F-score are ill-defined and being set to 0.0 in labels with no predicted samples. Use `zero_division` parameter to control this behavior.\n",
      "\n",
      "/usr/local/lib/python3.10/dist-packages/sklearn/metrics/_classification.py:1344: UndefinedMetricWarning:\n",
      "\n",
      "Precision and F-score are ill-defined and being set to 0.0 in labels with no predicted samples. Use `zero_division` parameter to control this behavior.\n",
      "\n"
     ]
    },
    {
     "name": "stdout",
     "output_type": "stream",
     "text": [
      "0.9551762940735183\n",
      "Classification report:               precision    recall  f1-score   support\n",
      "\n",
      "    Negative       0.94      0.92      0.93      1667\n",
      "     Neutral       0.99      0.99      0.99      2397\n",
      "    Positive       0.90      0.93      0.92      1268\n",
      "\n",
      "    accuracy                           0.96      5332\n",
      "   macro avg       0.95      0.95      0.95      5332\n",
      "weighted avg       0.96      0.96      0.96      5332\n",
      "\n",
      "---------------------------------------------------------------------------\n",
      "KNeighborsClassifier\n",
      "0.6140285071267817\n",
      "Classification report:               precision    recall  f1-score   support\n",
      "\n",
      "    Negative       0.57      0.62      0.59      1667\n",
      "     Neutral       0.63      0.72      0.67      2397\n",
      "    Positive       0.65      0.41      0.50      1268\n",
      "\n",
      "    accuracy                           0.61      5332\n",
      "   macro avg       0.62      0.58      0.59      5332\n",
      "weighted avg       0.62      0.61      0.61      5332\n",
      "\n",
      "---------------------------------------------------------------------------\n"
     ]
    }
   ],
   "source": [
    "# list of model objects\n",
    "models = [linear_svc_model_headline, logestic_model_headline, multinomial_model_headline, BernoulliNB_model_headline, GradientBoostingClassifier_model_headline, DecisionTreeClassifier_model_headline, KNeighborsClassifier_model_headline]\n",
    "# list of model names\n",
    "names = ['linear_svc', 'logestic_model', 'multinomial_NB', 'BernoulliNB', 'GradientBoostingClassifier', 'DecisionTreeClassifier', 'KNeighborsClassifier']\n",
    "# print the comparison of models\n",
    "comparing_models(models, names, x_train, y_train, x_test, y_test)\n"
   ]
  },
  {
   "cell_type": "markdown",
   "metadata": {
    "id": "gsQKs2r_lSaz"
   },
   "source": [
    "# now working with test data"
   ]
  },
  {
   "cell_type": "code",
   "execution_count": null,
   "metadata": {
    "id": "VSSPcY-VjFyc"
   },
   "outputs": [],
   "source": [
    "# Perforn the prediction on the test dataset\n",
    "prediction = linear_svc_model_headline.predict(x_test)"
   ]
  },
  {
   "cell_type": "code",
   "execution_count": null,
   "metadata": {
    "colab": {
     "base_uri": "https://localhost:8080/",
     "height": 423
    },
    "id": "HZH2_2KZjFwO",
    "outputId": "810bbfee-e965-4b0d-efe8-30d2038a5e76"
   },
   "outputs": [
    {
     "data": {
      "text/html": [
       "\n",
       "\n",
       "  <div id=\"df-a78e3a2b-eb08-4d01-8b37-0f9992b714f1\">\n",
       "    <div class=\"colab-df-container\">\n",
       "      <div>\n",
       "<style scoped>\n",
       "    .dataframe tbody tr th:only-of-type {\n",
       "        vertical-align: middle;\n",
       "    }\n",
       "\n",
       "    .dataframe tbody tr th {\n",
       "        vertical-align: top;\n",
       "    }\n",
       "\n",
       "    .dataframe thead th {\n",
       "        text-align: right;\n",
       "    }\n",
       "</style>\n",
       "<table border=\"1\" class=\"dataframe\">\n",
       "  <thead>\n",
       "    <tr style=\"text-align: right;\">\n",
       "      <th></th>\n",
       "      <th>0</th>\n",
       "    </tr>\n",
       "  </thead>\n",
       "  <tbody>\n",
       "    <tr>\n",
       "      <th>0</th>\n",
       "      <td>Neutral</td>\n",
       "    </tr>\n",
       "    <tr>\n",
       "      <th>1</th>\n",
       "      <td>Neutral</td>\n",
       "    </tr>\n",
       "    <tr>\n",
       "      <th>2</th>\n",
       "      <td>Neutral</td>\n",
       "    </tr>\n",
       "    <tr>\n",
       "      <th>3</th>\n",
       "      <td>Neutral</td>\n",
       "    </tr>\n",
       "    <tr>\n",
       "      <th>4</th>\n",
       "      <td>Negative</td>\n",
       "    </tr>\n",
       "    <tr>\n",
       "      <th>...</th>\n",
       "      <td>...</td>\n",
       "    </tr>\n",
       "    <tr>\n",
       "      <th>5327</th>\n",
       "      <td>Neutral</td>\n",
       "    </tr>\n",
       "    <tr>\n",
       "      <th>5328</th>\n",
       "      <td>Negative</td>\n",
       "    </tr>\n",
       "    <tr>\n",
       "      <th>5329</th>\n",
       "      <td>Negative</td>\n",
       "    </tr>\n",
       "    <tr>\n",
       "      <th>5330</th>\n",
       "      <td>Negative</td>\n",
       "    </tr>\n",
       "    <tr>\n",
       "      <th>5331</th>\n",
       "      <td>Neutral</td>\n",
       "    </tr>\n",
       "  </tbody>\n",
       "</table>\n",
       "<p>5332 rows × 1 columns</p>\n",
       "</div>\n",
       "      <button class=\"colab-df-convert\" onclick=\"convertToInteractive('df-a78e3a2b-eb08-4d01-8b37-0f9992b714f1')\"\n",
       "              title=\"Convert this dataframe to an interactive table.\"\n",
       "              style=\"display:none;\">\n",
       "\n",
       "  <svg xmlns=\"http://www.w3.org/2000/svg\" height=\"24px\"viewBox=\"0 0 24 24\"\n",
       "       width=\"24px\">\n",
       "    <path d=\"M0 0h24v24H0V0z\" fill=\"none\"/>\n",
       "    <path d=\"M18.56 5.44l.94 2.06.94-2.06 2.06-.94-2.06-.94-.94-2.06-.94 2.06-2.06.94zm-11 1L8.5 8.5l.94-2.06 2.06-.94-2.06-.94L8.5 2.5l-.94 2.06-2.06.94zm10 10l.94 2.06.94-2.06 2.06-.94-2.06-.94-.94-2.06-.94 2.06-2.06.94z\"/><path d=\"M17.41 7.96l-1.37-1.37c-.4-.4-.92-.59-1.43-.59-.52 0-1.04.2-1.43.59L10.3 9.45l-7.72 7.72c-.78.78-.78 2.05 0 2.83L4 21.41c.39.39.9.59 1.41.59.51 0 1.02-.2 1.41-.59l7.78-7.78 2.81-2.81c.8-.78.8-2.07 0-2.86zM5.41 20L4 18.59l7.72-7.72 1.47 1.35L5.41 20z\"/>\n",
       "  </svg>\n",
       "      </button>\n",
       "\n",
       "\n",
       "\n",
       "    <div id=\"df-3b0ee7f6-7d75-475b-a93d-ecc04f1ae06e\">\n",
       "      <button class=\"colab-df-quickchart\" onclick=\"quickchart('df-3b0ee7f6-7d75-475b-a93d-ecc04f1ae06e')\"\n",
       "              title=\"Suggest charts.\"\n",
       "              style=\"display:none;\">\n",
       "\n",
       "<svg xmlns=\"http://www.w3.org/2000/svg\" height=\"24px\"viewBox=\"0 0 24 24\"\n",
       "     width=\"24px\">\n",
       "    <g>\n",
       "        <path d=\"M19 3H5c-1.1 0-2 .9-2 2v14c0 1.1.9 2 2 2h14c1.1 0 2-.9 2-2V5c0-1.1-.9-2-2-2zM9 17H7v-7h2v7zm4 0h-2V7h2v10zm4 0h-2v-4h2v4z\"/>\n",
       "    </g>\n",
       "</svg>\n",
       "      </button>\n",
       "    </div>\n",
       "\n",
       "<style>\n",
       "  .colab-df-quickchart {\n",
       "    background-color: #E8F0FE;\n",
       "    border: none;\n",
       "    border-radius: 50%;\n",
       "    cursor: pointer;\n",
       "    display: none;\n",
       "    fill: #1967D2;\n",
       "    height: 32px;\n",
       "    padding: 0 0 0 0;\n",
       "    width: 32px;\n",
       "  }\n",
       "\n",
       "  .colab-df-quickchart:hover {\n",
       "    background-color: #E2EBFA;\n",
       "    box-shadow: 0px 1px 2px rgba(60, 64, 67, 0.3), 0px 1px 3px 1px rgba(60, 64, 67, 0.15);\n",
       "    fill: #174EA6;\n",
       "  }\n",
       "\n",
       "  [theme=dark] .colab-df-quickchart {\n",
       "    background-color: #3B4455;\n",
       "    fill: #D2E3FC;\n",
       "  }\n",
       "\n",
       "  [theme=dark] .colab-df-quickchart:hover {\n",
       "    background-color: #434B5C;\n",
       "    box-shadow: 0px 1px 3px 1px rgba(0, 0, 0, 0.15);\n",
       "    filter: drop-shadow(0px 1px 2px rgba(0, 0, 0, 0.3));\n",
       "    fill: #FFFFFF;\n",
       "  }\n",
       "</style>\n",
       "\n",
       "    <script>\n",
       "      async function quickchart(key) {\n",
       "        const containerElement = document.querySelector('#' + key);\n",
       "        const charts = await google.colab.kernel.invokeFunction(\n",
       "            'suggestCharts', [key], {});\n",
       "      }\n",
       "    </script>\n",
       "\n",
       "      <script>\n",
       "\n",
       "function displayQuickchartButton(domScope) {\n",
       "  let quickchartButtonEl =\n",
       "    domScope.querySelector('#df-3b0ee7f6-7d75-475b-a93d-ecc04f1ae06e button.colab-df-quickchart');\n",
       "  quickchartButtonEl.style.display =\n",
       "    google.colab.kernel.accessAllowed ? 'block' : 'none';\n",
       "}\n",
       "\n",
       "        displayQuickchartButton(document);\n",
       "      </script>\n",
       "      <style>\n",
       "    .colab-df-container {\n",
       "      display:flex;\n",
       "      flex-wrap:wrap;\n",
       "      gap: 12px;\n",
       "    }\n",
       "\n",
       "    .colab-df-convert {\n",
       "      background-color: #E8F0FE;\n",
       "      border: none;\n",
       "      border-radius: 50%;\n",
       "      cursor: pointer;\n",
       "      display: none;\n",
       "      fill: #1967D2;\n",
       "      height: 32px;\n",
       "      padding: 0 0 0 0;\n",
       "      width: 32px;\n",
       "    }\n",
       "\n",
       "    .colab-df-convert:hover {\n",
       "      background-color: #E2EBFA;\n",
       "      box-shadow: 0px 1px 2px rgba(60, 64, 67, 0.3), 0px 1px 3px 1px rgba(60, 64, 67, 0.15);\n",
       "      fill: #174EA6;\n",
       "    }\n",
       "\n",
       "    [theme=dark] .colab-df-convert {\n",
       "      background-color: #3B4455;\n",
       "      fill: #D2E3FC;\n",
       "    }\n",
       "\n",
       "    [theme=dark] .colab-df-convert:hover {\n",
       "      background-color: #434B5C;\n",
       "      box-shadow: 0px 1px 3px 1px rgba(0, 0, 0, 0.15);\n",
       "      filter: drop-shadow(0px 1px 2px rgba(0, 0, 0, 0.3));\n",
       "      fill: #FFFFFF;\n",
       "    }\n",
       "  </style>\n",
       "\n",
       "      <script>\n",
       "        const buttonEl =\n",
       "          document.querySelector('#df-a78e3a2b-eb08-4d01-8b37-0f9992b714f1 button.colab-df-convert');\n",
       "        buttonEl.style.display =\n",
       "          google.colab.kernel.accessAllowed ? 'block' : 'none';\n",
       "\n",
       "        async function convertToInteractive(key) {\n",
       "          const element = document.querySelector('#df-a78e3a2b-eb08-4d01-8b37-0f9992b714f1');\n",
       "          const dataTable =\n",
       "            await google.colab.kernel.invokeFunction('convertToInteractive',\n",
       "                                                     [key], {});\n",
       "          if (!dataTable) return;\n",
       "\n",
       "          const docLinkHtml = 'Like what you see? Visit the ' +\n",
       "            '<a target=\"_blank\" href=https://colab.research.google.com/notebooks/data_table.ipynb>data table notebook</a>'\n",
       "            + ' to learn more about interactive tables.';\n",
       "          element.innerHTML = '';\n",
       "          dataTable['output_type'] = 'display_data';\n",
       "          await google.colab.output.renderOutput(dataTable, element);\n",
       "          const docLink = document.createElement('div');\n",
       "          docLink.innerHTML = docLinkHtml;\n",
       "          element.appendChild(docLink);\n",
       "        }\n",
       "      </script>\n",
       "    </div>\n",
       "  </div>\n"
      ],
      "text/plain": [
       "             0\n",
       "0      Neutral\n",
       "1      Neutral\n",
       "2      Neutral\n",
       "3      Neutral\n",
       "4     Negative\n",
       "...        ...\n",
       "5327   Neutral\n",
       "5328  Negative\n",
       "5329  Negative\n",
       "5330  Negative\n",
       "5331   Neutral\n",
       "\n",
       "[5332 rows x 1 columns]"
      ]
     },
     "execution_count": 111,
     "metadata": {},
     "output_type": "execute_result"
    }
   ],
   "source": [
    "# creating a dataframe of predicted results\n",
    "predicted_results = pd.DataFrame(prediction)\n",
    "predicted_results"
   ]
  },
  {
   "cell_type": "code",
   "execution_count": null,
   "metadata": {
    "id": "kw5ac2WWjFta"
   },
   "outputs": [],
   "source": []
  },
  {
   "cell_type": "markdown",
   "metadata": {
    "id": "6ffMQY_00ufo"
   },
   "source": [
    "# Prediction"
   ]
  },
  {
   "cell_type": "markdown",
   "metadata": {
    "id": "BrQATukn0x2u"
   },
   "source": [
    "you can check the result on real time news headlines\n",
    "\n",
    "Here i have used two fiancial news headlines\n",
    "\n",
    "and predicted its sentiment\n",
    "\n",
    "You can try more"
   ]
  },
  {
   "cell_type": "code",
   "execution_count": null,
   "metadata": {
    "colab": {
     "base_uri": "https://localhost:8080/"
    },
    "id": "uRUtaAhZ0wwU",
    "outputId": "5a9f3392-7ab0-4796-930e-8e7e44b78b75"
   },
   "outputs": [
    {
     "data": {
      "text/plain": [
       "array(['Negative'], dtype=object)"
      ]
     },
     "execution_count": 112,
     "metadata": {},
     "output_type": "execute_result"
    }
   ],
   "source": [
    "sent1 = ['GST officers detect Rs 4,000 crore of ITC fraud in April-June']\n",
    "y_predict = linear_svc_model_headline.predict(sent1)\n",
    "y_predict"
   ]
  },
  {
   "cell_type": "code",
   "execution_count": null,
   "metadata": {
    "colab": {
     "base_uri": "https://localhost:8080/"
    },
    "id": "_YJqDGt71DGn",
    "outputId": "b66206ae-c4e9-40c2-9cd3-df01e8abe3d6"
   },
   "outputs": [
    {
     "data": {
      "text/plain": [
       "array(['Positive'], dtype=object)"
      ]
     },
     "execution_count": 113,
     "metadata": {},
     "output_type": "execute_result"
    }
   ],
   "source": [
    "sent2 = [\"Finance Ministry releases Rs 9,871 crore to 17 states as grant\"]\n",
    "y_predict = linear_svc_model_headline.predict(sent2)\n",
    "y_predict"
   ]
  },
  {
   "cell_type": "markdown",
   "metadata": {
    "id": "RqIDZJt854Ei"
   },
   "source": [
    "# Save and load Final model using pickle"
   ]
  },
  {
   "cell_type": "code",
   "execution_count": null,
   "metadata": {
    "id": "cgLKRLyd4peW"
   },
   "outputs": [],
   "source": [
    "import pickle\n",
    "with open('Finanial_news_headline.pkl', 'wb') as f:\n",
    "    pickle.dump(linear_svc_model_headline, f)\n"
   ]
  },
  {
   "cell_type": "code",
   "execution_count": null,
   "metadata": {
    "colab": {
     "base_uri": "https://localhost:8080/"
    },
    "id": "KIdtW72R5Woz",
    "outputId": "5ec6e4af-0091-4109-b14e-2d05f66fd65b"
   },
   "outputs": [
    {
     "data": {
      "text/plain": [
       "array(['Neutral'], dtype=object)"
      ]
     },
     "execution_count": 117,
     "metadata": {},
     "output_type": "execute_result"
    }
   ],
   "source": [
    "# Load the model from the file\n",
    "with open('/content/Finanial_news_headline.pkl', 'rb') as f:\n",
    "    loaded_model = pickle.load(f)\n",
    "loaded_model.predict([\"Rajagopal From Tamil Nadu Receives His PhD at the Age of 70.\"])"
   ]
  },
  {
   "cell_type": "markdown",
   "metadata": {
    "id": "z8510KfP6DSL"
   },
   "source": [
    "# Save and load final model using joblib"
   ]
  },
  {
   "cell_type": "code",
   "execution_count": null,
   "metadata": {
    "colab": {
     "base_uri": "https://localhost:8080/"
    },
    "id": "NRvhsasz6Cgv",
    "outputId": "483898f2-c1f6-4d1e-a817-25051e5679ef"
   },
   "outputs": [
    {
     "data": {
      "text/plain": [
       "array(['Positive'], dtype=object)"
      ]
     },
     "execution_count": 118,
     "metadata": {},
     "output_type": "execute_result"
    }
   ],
   "source": [
    "import joblib\n",
    "# Save the model to a file\n",
    "joblib.dump(linear_svc_model_headline, 'model_filename.joblib')\n",
    "\n",
    "# Load the model from the file\n",
    "loaded_model = joblib.load('model_filename.joblib')\n",
    "loaded_model.predict(sent2)"
   ]
  },
  {
   "cell_type": "code",
   "execution_count": null,
   "metadata": {
    "id": "BlOYeFlR7V73"
   },
   "outputs": [],
   "source": [
    "def real_news(text):\n",
    "  text = [text]\n",
    "  loaded_model = joblib.load('model_filename.joblib')\n",
    "  res = loaded_model.predict(text)\n",
    "  return res"
   ]
  },
  {
   "cell_type": "code",
   "execution_count": null,
   "metadata": {
    "colab": {
     "base_uri": "https://localhost:8080/"
    },
    "id": "psTiLDKv7lzH",
    "outputId": "181737a8-74b3-467b-924d-f76e1ff72e56"
   },
   "outputs": [
    {
     "data": {
      "text/plain": [
       "array(['Positive'], dtype=object)"
      ]
     },
     "execution_count": 120,
     "metadata": {},
     "output_type": "execute_result"
    }
   ],
   "source": [
    "real_news(\"Scotland Becomes the World's First Country to Provide Free Menstrual Products.\")"
   ]
  },
  {
   "cell_type": "markdown",
   "metadata": {
    "id": "No7lHSthFvmj"
   },
   "source": [
    "# Conclusion"
   ]
  },
  {
   "cell_type": "markdown",
   "metadata": {
    "id": "4FRWlgXRFywD"
   },
   "source": [
    "We learn about NLTK, sentiment analysis in this assigment.\n",
    "\n",
    "we conclude that using nltk it is easy to classify financial news and more we improve the traning data more we can get accurate\n"
   ]
  }
 ],
 "metadata": {
  "colab": {
   "provenance": []
  },
  "kernelspec": {
   "display_name": "Python 3 (ipykernel)",
   "language": "python",
   "name": "python3"
  },
  "language_info": {
   "codemirror_mode": {
    "name": "ipython",
    "version": 3
   },
   "file_extension": ".py",
   "mimetype": "text/x-python",
   "name": "python",
   "nbconvert_exporter": "python",
   "pygments_lexer": "ipython3",
   "version": "3.11.4"
  }
 },
 "nbformat": 4,
 "nbformat_minor": 1
}
